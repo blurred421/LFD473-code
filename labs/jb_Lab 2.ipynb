{
  "cells": [
    {
      "cell_type": "markdown",
      "metadata": {
        "id": "view-in-github",
        "colab_type": "text"
      },
      "source": [
        "<a href=\"https://colab.research.google.com/github/blurred421/LFD473-code/blob/main/labs/jb_Lab%202.ipynb\" target=\"_parent\"><img src=\"https://colab.research.google.com/assets/colab-badge.svg\" alt=\"Open In Colab\"/></a>"
      ]
    },
    {
      "cell_type": "markdown",
      "id": "2ee28a3d",
      "metadata": {
        "id": "2ee28a3d"
      },
      "source": [
        "# Lab Instructions\n",
        "\n",
        "In the lab, you're presented a task such as building a dataset, training a model, or writing a training loop, and we'll provide the code structured in such a way that you can fill in the blanks in the code using the knowledge you acquired in the chapters that precede the lab. You should be able to find appropriate snippets of code in the course content that work well in the lab with minor or no adjustments.\n",
        "\n",
        "The blanks in the code are indicated by ellipsis (`...`) and comments (`# write your code here`).\n",
        "\n",
        "In some cases, we'll provide you partial code to ensure the right variables are populated and any code that follows it runs accordingly.\n",
        "\n",
        "```python\n",
        "# write your code here\n",
        "x = ...\n",
        "```\n",
        "\n",
        "The solution should be a single statement that replaces the ellipsis, such as:\n",
        "\n",
        "```python\n",
        "# write your code here\n",
        "x = [0, 1, 2]\n",
        "```\n",
        "\n",
        "In some other cases, when there is no new variable being created, the blanks are shown like in the example below:\n",
        "\n",
        "```python\n",
        "# write your code here\n",
        "...\n",
        "```\n",
        "\n",
        "Although we're showing you only a single ellipsis (`...`), you may have to write more than one line of code to complete the step, such as:\n",
        "\n",
        "```python\n",
        "# write your code here\n",
        "for i, xi in enumerate(x):\n",
        "    x[i] = xi * 2\n",
        "```"
      ]
    },
    {
      "cell_type": "markdown",
      "id": "2553fa6f",
      "metadata": {
        "id": "2553fa6f"
      },
      "source": [
        "## Installation Notes\n",
        "\n",
        "To run this notebook on Google Colab, you will need to install the following library: datasets.\n",
        "\n",
        "In Google Colab, you can run the following command to install this library:"
      ]
    },
    {
      "cell_type": "code",
      "execution_count": 1,
      "id": "6a6393f8",
      "metadata": {
        "id": "6a6393f8",
        "outputId": "140f9907-ebf1-4a75-df06-1b62cef83f37",
        "colab": {
          "base_uri": "https://localhost:8080/"
        }
      },
      "outputs": [
        {
          "output_type": "stream",
          "name": "stdout",
          "text": [
            "Collecting datasets\n",
            "  Downloading datasets-3.3.2-py3-none-any.whl.metadata (19 kB)\n",
            "Requirement already satisfied: filelock in /usr/local/lib/python3.11/dist-packages (from datasets) (3.17.0)\n",
            "Requirement already satisfied: numpy>=1.17 in /usr/local/lib/python3.11/dist-packages (from datasets) (1.26.4)\n",
            "Requirement already satisfied: pyarrow>=15.0.0 in /usr/local/lib/python3.11/dist-packages (from datasets) (18.1.0)\n",
            "Collecting dill<0.3.9,>=0.3.0 (from datasets)\n",
            "  Downloading dill-0.3.8-py3-none-any.whl.metadata (10 kB)\n",
            "Requirement already satisfied: pandas in /usr/local/lib/python3.11/dist-packages (from datasets) (2.2.2)\n",
            "Requirement already satisfied: requests>=2.32.2 in /usr/local/lib/python3.11/dist-packages (from datasets) (2.32.3)\n",
            "Requirement already satisfied: tqdm>=4.66.3 in /usr/local/lib/python3.11/dist-packages (from datasets) (4.67.1)\n",
            "Collecting xxhash (from datasets)\n",
            "  Downloading xxhash-3.5.0-cp311-cp311-manylinux_2_17_x86_64.manylinux2014_x86_64.whl.metadata (12 kB)\n",
            "Collecting multiprocess<0.70.17 (from datasets)\n",
            "  Downloading multiprocess-0.70.16-py311-none-any.whl.metadata (7.2 kB)\n",
            "Requirement already satisfied: fsspec<=2024.12.0,>=2023.1.0 in /usr/local/lib/python3.11/dist-packages (from fsspec[http]<=2024.12.0,>=2023.1.0->datasets) (2024.10.0)\n",
            "Requirement already satisfied: aiohttp in /usr/local/lib/python3.11/dist-packages (from datasets) (3.11.13)\n",
            "Requirement already satisfied: huggingface-hub>=0.24.0 in /usr/local/lib/python3.11/dist-packages (from datasets) (0.28.1)\n",
            "Requirement already satisfied: packaging in /usr/local/lib/python3.11/dist-packages (from datasets) (24.2)\n",
            "Requirement already satisfied: pyyaml>=5.1 in /usr/local/lib/python3.11/dist-packages (from datasets) (6.0.2)\n",
            "Requirement already satisfied: aiohappyeyeballs>=2.3.0 in /usr/local/lib/python3.11/dist-packages (from aiohttp->datasets) (2.5.0)\n",
            "Requirement already satisfied: aiosignal>=1.1.2 in /usr/local/lib/python3.11/dist-packages (from aiohttp->datasets) (1.3.2)\n",
            "Requirement already satisfied: attrs>=17.3.0 in /usr/local/lib/python3.11/dist-packages (from aiohttp->datasets) (25.1.0)\n",
            "Requirement already satisfied: frozenlist>=1.1.1 in /usr/local/lib/python3.11/dist-packages (from aiohttp->datasets) (1.5.0)\n",
            "Requirement already satisfied: multidict<7.0,>=4.5 in /usr/local/lib/python3.11/dist-packages (from aiohttp->datasets) (6.1.0)\n",
            "Requirement already satisfied: propcache>=0.2.0 in /usr/local/lib/python3.11/dist-packages (from aiohttp->datasets) (0.3.0)\n",
            "Requirement already satisfied: yarl<2.0,>=1.17.0 in /usr/local/lib/python3.11/dist-packages (from aiohttp->datasets) (1.18.3)\n",
            "Requirement already satisfied: typing-extensions>=3.7.4.3 in /usr/local/lib/python3.11/dist-packages (from huggingface-hub>=0.24.0->datasets) (4.12.2)\n",
            "Requirement already satisfied: charset-normalizer<4,>=2 in /usr/local/lib/python3.11/dist-packages (from requests>=2.32.2->datasets) (3.4.1)\n",
            "Requirement already satisfied: idna<4,>=2.5 in /usr/local/lib/python3.11/dist-packages (from requests>=2.32.2->datasets) (3.10)\n",
            "Requirement already satisfied: urllib3<3,>=1.21.1 in /usr/local/lib/python3.11/dist-packages (from requests>=2.32.2->datasets) (2.3.0)\n",
            "Requirement already satisfied: certifi>=2017.4.17 in /usr/local/lib/python3.11/dist-packages (from requests>=2.32.2->datasets) (2025.1.31)\n",
            "Requirement already satisfied: python-dateutil>=2.8.2 in /usr/local/lib/python3.11/dist-packages (from pandas->datasets) (2.8.2)\n",
            "Requirement already satisfied: pytz>=2020.1 in /usr/local/lib/python3.11/dist-packages (from pandas->datasets) (2025.1)\n",
            "Requirement already satisfied: tzdata>=2022.7 in /usr/local/lib/python3.11/dist-packages (from pandas->datasets) (2025.1)\n",
            "Requirement already satisfied: six>=1.5 in /usr/local/lib/python3.11/dist-packages (from python-dateutil>=2.8.2->pandas->datasets) (1.17.0)\n",
            "Downloading datasets-3.3.2-py3-none-any.whl (485 kB)\n",
            "\u001b[2K   \u001b[90m━━━━━━━━━━━━━━━━━━━━━━━━━━━━━━━━━━━━━━━━\u001b[0m \u001b[32m485.4/485.4 kB\u001b[0m \u001b[31m8.0 MB/s\u001b[0m eta \u001b[36m0:00:00\u001b[0m\n",
            "\u001b[?25hDownloading dill-0.3.8-py3-none-any.whl (116 kB)\n",
            "\u001b[2K   \u001b[90m━━━━━━━━━━━━━━━━━━━━━━━━━━━━━━━━━━━━━━━━\u001b[0m \u001b[32m116.3/116.3 kB\u001b[0m \u001b[31m5.2 MB/s\u001b[0m eta \u001b[36m0:00:00\u001b[0m\n",
            "\u001b[?25hDownloading multiprocess-0.70.16-py311-none-any.whl (143 kB)\n",
            "\u001b[2K   \u001b[90m━━━━━━━━━━━━━━━━━━━━━━━━━━━━━━━━━━━━━━━━\u001b[0m \u001b[32m143.5/143.5 kB\u001b[0m \u001b[31m2.6 MB/s\u001b[0m eta \u001b[36m0:00:00\u001b[0m\n",
            "\u001b[?25hDownloading xxhash-3.5.0-cp311-cp311-manylinux_2_17_x86_64.manylinux2014_x86_64.whl (194 kB)\n",
            "\u001b[2K   \u001b[90m━━━━━━━━━━━━━━━━━━━━━━━━━━━━━━━━━━━━━━━━\u001b[0m \u001b[32m194.8/194.8 kB\u001b[0m \u001b[31m3.3 MB/s\u001b[0m eta \u001b[36m0:00:00\u001b[0m\n",
            "\u001b[?25hInstalling collected packages: xxhash, dill, multiprocess, datasets\n",
            "Successfully installed datasets-3.3.2 dill-0.3.8 multiprocess-0.70.16 xxhash-3.5.0\n"
          ]
        }
      ],
      "source": [
        "!pip install datasets"
      ]
    },
    {
      "cell_type": "markdown",
      "id": "787f6d9c",
      "metadata": {
        "id": "787f6d9c"
      },
      "source": [
        "## 5.4 Lab 2: Price Prediction\n",
        "\n",
        "In this lab, we'll keep using the [100,000 UK Used Car Dataset](https://www.kaggle.com/datasets/adityadesai13/used-car-dataset-ford-and-mercedes) from Kaggle. It contains scraped data of used car listings split into CSV files according to the manufacturer: Audi, BMW, Ford, Hyundai, Mercedes, Skoda, Toyota, Vauxhall, and VW. It also contains a few extra files of particular models (`cclass.csv`, `focus.csv`, `unclean_cclass.csv`, and `unclean_focus.csv`) that we won't be using.\n",
        "\n",
        "Each file has nine columns with the car's attributes: model, year, price, transmission, mileage, fuel type, road tax, fuel consumption (mpg), and engine size. Transmission, fuel type, and year are discrete/categorical attributes, the others are continous. Our goal here is to predict the car's price based on its other attributes.\n",
        "\n",
        "To download the dataset, you'll need to create a Kaggle account. In the following sections, we're assuming the dataset was downloaded and unzipped to a local folder named `car_prices`. Alternatively, you can download it from the following link:\n",
        "\n",
        "```\n",
        "https://github.com/dvgodoy/assets/raw/main/PyTorchInPractice/data/100KUsedCar/car_prices.zip\n",
        "```\n",
        "\n",
        "In Colab, you can run the following commands to download and unzip the dataset:"
      ]
    },
    {
      "cell_type": "code",
      "execution_count": 2,
      "id": "eb601559",
      "metadata": {
        "id": "eb601559",
        "outputId": "824a09d4-1db1-419c-f2be-6151786684c2",
        "colab": {
          "base_uri": "https://localhost:8080/"
        }
      },
      "outputs": [
        {
          "output_type": "stream",
          "name": "stdout",
          "text": [
            "--2025-03-11 12:43:48--  https://github.com/dvgodoy/assets/raw/main/PyTorchInPractice/data/100KUsedCar/car_prices.zip\n",
            "Resolving github.com (github.com)... 140.82.112.3\n",
            "Connecting to github.com (github.com)|140.82.112.3|:443... connected.\n",
            "HTTP request sent, awaiting response... 302 Found\n",
            "Location: https://raw.githubusercontent.com/dvgodoy/assets/main/PyTorchInPractice/data/100KUsedCar/car_prices.zip [following]\n",
            "--2025-03-11 12:43:48--  https://raw.githubusercontent.com/dvgodoy/assets/main/PyTorchInPractice/data/100KUsedCar/car_prices.zip\n",
            "Resolving raw.githubusercontent.com (raw.githubusercontent.com)... 185.199.108.133, 185.199.109.133, 185.199.110.133, ...\n",
            "Connecting to raw.githubusercontent.com (raw.githubusercontent.com)|185.199.108.133|:443... connected.\n",
            "HTTP request sent, awaiting response... 200 OK\n",
            "Length: 1152744 (1.1M) [application/zip]\n",
            "Saving to: ‘car_prices.zip’\n",
            "\n",
            "car_prices.zip      100%[===================>]   1.10M  --.-KB/s    in 0.06s   \n",
            "\n",
            "2025-03-11 12:43:49 (18.0 MB/s) - ‘car_prices.zip’ saved [1152744/1152744]\n",
            "\n",
            "Archive:  car_prices.zip\n",
            "  inflating: car_prices/audi.csv     \n",
            "  inflating: car_prices/bmw.csv      \n",
            "  inflating: car_prices/cclass.csv   \n",
            "  inflating: car_prices/focus.csv    \n",
            "  inflating: car_prices/ford.csv     \n",
            "  inflating: car_prices/hyundi.csv   \n",
            "  inflating: car_prices/merc.csv     \n",
            "  inflating: car_prices/skoda.csv    \n",
            "  inflating: car_prices/toyota.csv   \n",
            "  inflating: car_prices/unclean cclass.csv  \n",
            "  inflating: car_prices/unclean focus.csv  \n",
            "  inflating: car_prices/vauxhall.csv  \n",
            "  inflating: car_prices/vw.csv       \n"
          ]
        }
      ],
      "source": [
        "!wget https://github.com/dvgodoy/assets/raw/main/PyTorchInPractice/data/100KUsedCar/car_prices.zip\n",
        "!unzip car_prices.zip -d car_prices"
      ]
    },
    {
      "cell_type": "markdown",
      "id": "c4657225",
      "metadata": {
        "id": "c4657225"
      },
      "source": [
        "### 5.4.1 Recap\n",
        "\n",
        "Let's recap what we did in Chapter 5 to load our data into a Hugging Face `Dataset`, so we can use it to train a new model in PyTorch. You may run all the cells in this section as they are."
      ]
    },
    {
      "cell_type": "markdown",
      "id": "96c4a4cf",
      "metadata": {
        "id": "96c4a4cf"
      },
      "source": [
        "![](https://raw.githubusercontent.com/dvgodoy/assets/main/PyTorchInPractice/images/ch0/data_step3.png)\n",
        "\n",
        "First, we built the \"dropdown\" dictionaries that we used to preprocess the data:"
      ]
    },
    {
      "cell_type": "code",
      "execution_count": 3,
      "id": "e0e63fc8",
      "metadata": {
        "id": "e0e63fc8",
        "colab": {
          "base_uri": "https://localhost:8080/",
          "height": 81,
          "referenced_widgets": [
            "7be090083b404969aa1a11e680628567",
            "94b36731f76c4014bde0f2aafe4ba8d4",
            "b7711537421443678ec71f5502df9bfb",
            "5773a925afcb456e9de60ee05dd269e4",
            "760e0c633c7b40ea829e0750fcd9441c",
            "2ec0e3180bd24742bd949b10770163cd",
            "3854b797e0d24c0c98b6f4bbedce0773",
            "d8b206a9efd04bfda42d20e2acde137e",
            "a99c9a8564594d81899210cfe0094fe3",
            "3a48ff250fb64b81ac0bafdee6f0c152",
            "4bee41f411e24971b95476293e78cb80",
            "6a8d64b2437248f7b925274d5ea92f4a",
            "4d3359531bae4cb3938531884a7bbac7",
            "cfe1cfe79ff4492f981fe918efcd6a01",
            "5a613d27011e410fb6e68e11343a7ad1",
            "30ae0e7031ad4c9882b1633372e57b09",
            "044a2d49ab1b4f359423cd9e74f13d7b",
            "775f9599abda42a29397ab4a8bc2c880",
            "d9825af693f14cbf99d6aec331e14113",
            "aa28fda6c8ee4401903e555391c2cdfa",
            "b9da2904c8a24c868723e143a9e4f420",
            "1773ea9e7d5343419ad060ec0854c37b"
          ]
        },
        "outputId": "eae82f27-d0f4-4c55-dffd-6ade4b888eb3"
      },
      "outputs": [
        {
          "output_type": "display_data",
          "data": {
            "text/plain": [
              "Generating train split: 0 examples [00:00, ? examples/s]"
            ],
            "application/vnd.jupyter.widget-view+json": {
              "version_major": 2,
              "version_minor": 0,
              "model_id": "7be090083b404969aa1a11e680628567"
            }
          },
          "metadata": {}
        },
        {
          "output_type": "display_data",
          "data": {
            "text/plain": [
              "Flattening the indices:   0%|          | 0/79349 [00:00<?, ? examples/s]"
            ],
            "application/vnd.jupyter.widget-view+json": {
              "version_major": 2,
              "version_minor": 0,
              "model_id": "6a8d64b2437248f7b925274d5ea92f4a"
            }
          },
          "metadata": {}
        }
      ],
      "source": [
        "import os\n",
        "import numpy as np\n",
        "from torch.utils.data import DataLoader\n",
        "from datasets import load_dataset, Split, DatasetDict\n",
        "\n",
        "def filter_for_data(filename):\n",
        "    return (\"unclean\" not in filename) and (\"focus\" not in filename) and (\"cclass\" not in filename) and filename.endswith(\".csv\")\n",
        "\n",
        "def gen_encoder_dict(dataset, col):\n",
        "    values = sorted(dataset.unique(col))\n",
        "    values += ['UNKNOWN']\n",
        "    return dict(zip(values, range(len(values))))\n",
        "\n",
        "colnames = ['model', 'year', 'price', 'transmission', 'mileage', 'fuel_type', 'road_tax', 'mpg', 'engine_size']#, 'manufacturer']\n",
        "\n",
        "folder = './car_prices'\n",
        "data_files = sorted([os.path.join(folder, fname) for fname in os.listdir(folder) if filter_for_data(fname)])\n",
        "\n",
        "dataset = load_dataset(\"csv\", data_files=data_files,\n",
        "                       sep=',',\n",
        "                       skiprows=1,\n",
        "                       column_names=colnames,\n",
        "                       split=Split.ALL)\n",
        "\n",
        "train_test = dataset.train_test_split(train_size=0.8) # split 0.8 | 0.2\n",
        "val_test = train_test['test'].train_test_split(train_size=0.5) #split test/validation portion into .10|.10 ?\n",
        "\n",
        "datasets = DatasetDict({'train': train_test['train'],\n",
        "                       'val': val_test['train'],  # How is this defined through the split function?\n",
        "                       'test': val_test['test']})\n",
        "\n",
        "cont_attr = ['year', 'mileage', 'road_tax', 'mpg', 'engine_size']\n",
        "cat_attr = ['model', 'transmission', 'fuel_type']\n",
        "\n",
        "dropdown_encoders = {col: gen_encoder_dict(datasets['train'], col) for col in cat_attr}"
      ]
    },
    {
      "cell_type": "markdown",
      "id": "c9c99722",
      "metadata": {
        "id": "c9c99722"
      },
      "source": [
        "Next, we used the preprocessing function to assemble the required columns in our dataset:"
      ]
    },
    {
      "cell_type": "markdown",
      "id": "9db14347",
      "metadata": {
        "id": "9db14347"
      },
      "source": [
        "![](https://raw.githubusercontent.com/dvgodoy/assets/main/PyTorchInPractice/images/ch0/data_step4.png)"
      ]
    },
    {
      "cell_type": "code",
      "execution_count": 4,
      "id": "8900a0c4",
      "metadata": {
        "id": "8900a0c4"
      },
      "outputs": [],
      "source": [
        "def preproc(row):\n",
        "    colnames = ['model', 'year', 'price', 'transmission', 'mileage', 'fuel_type', 'road_tax', 'mpg', 'engine_size']#, 'manufacturer']\n",
        "\n",
        "    cat_attr = ['model', 'transmission', 'fuel_type']\n",
        "    cont_attr = ['year', 'mileage', 'road_tax', 'mpg', 'engine_size']\n",
        "    target = 'price'\n",
        "\n",
        "    cont_X = [float(row[name]) for name in cont_attr]\n",
        "    cat_X = [dropdown_encoders[name].get(row[name], dropdown_encoders[name]['UNKNOWN']) for name in cat_attr]\n",
        "\n",
        "    return {'label': np.array([float(row[target])], dtype=np.float32),\n",
        "            'cont_X': np.array(cont_X, dtype=np.float32),\n",
        "            'cat_X': np.array(cat_X, dtype=int)}"
      ]
    },
    {
      "cell_type": "code",
      "execution_count": 5,
      "id": "82972c02",
      "metadata": {
        "id": "82972c02",
        "colab": {
          "base_uri": "https://localhost:8080/",
          "height": 113,
          "referenced_widgets": [
            "4faf262bdfcf417697fb4b6922f0e4f7",
            "f41bbb7a5b7a4a3b9d9263c08118f653",
            "cc9e660ea1ae4e5595e0fe26b9e27880",
            "4858c1d63bcc488a99ee86c70d378518",
            "434f7b9cdbc24ac0b73547cd3470a096",
            "142b11c79b72402a95dea39bc52959bd",
            "3afba7b79bdb4a7598a19903297ee3c0",
            "15024a8f2a8647bab324aa860a1e131b",
            "c4715a202f9a40a1b6926333ba8067e1",
            "55f34ee3a8f743d6bbd5164ef52e8c4e",
            "7bb035d9f27140c190cfe41af2c9410b",
            "d5f3500a5c0c41c984d653dbc66a2343",
            "c95b7286cd7d4251bf7de06edf471453",
            "a659813b1c1c4d508ace15f4f819c379",
            "9502f291720c44829516d61d784c6186",
            "bca7baba4cc24cf389e3a9d9479437fd",
            "0446c7e16ef342eaa2128bee94bac3cf",
            "64c4cff76e744649b4de66e3a1a35d3c",
            "e08c9e614b8f43a3b3476ff6bc16d7b2",
            "f31a93b485a942ebaf0bcdb5c47a6c13",
            "2e268349832d4f0597707c92a715c302",
            "be448ce9baed45e6a49dec1ca2da0acb",
            "da19e9c1dc6c4f4f85b5b78bb02809fb",
            "364ace68569a4b07bb407423e54f5410",
            "a851e9c7de0c4505a636b6aa086a3445",
            "a8b5960223774e71bea30bdad1e5a146",
            "1c65b3ac62694c11976146fdca27746f",
            "f94cd8098a6a4632ac229ad968a734cf",
            "5bdcf2c741a54ccb9847a52a464da704",
            "cd0ec3e542104bf797730af7d6afc6d1",
            "ea9ee2d57de949fb85bb4019b872247c",
            "c2a3c9ad44564983a57d00f4ee14eaa2",
            "2936e2d510e34d10a26c209367a9e002"
          ]
        },
        "outputId": "013baffe-edde-4742-c42b-e6c50ac855f5"
      },
      "outputs": [
        {
          "output_type": "display_data",
          "data": {
            "text/plain": [
              "Map:   0%|          | 0/79349 [00:00<?, ? examples/s]"
            ],
            "application/vnd.jupyter.widget-view+json": {
              "version_major": 2,
              "version_minor": 0,
              "model_id": "4faf262bdfcf417697fb4b6922f0e4f7"
            }
          },
          "metadata": {}
        },
        {
          "output_type": "display_data",
          "data": {
            "text/plain": [
              "Map:   0%|          | 0/9919 [00:00<?, ? examples/s]"
            ],
            "application/vnd.jupyter.widget-view+json": {
              "version_major": 2,
              "version_minor": 0,
              "model_id": "d5f3500a5c0c41c984d653dbc66a2343"
            }
          },
          "metadata": {}
        },
        {
          "output_type": "display_data",
          "data": {
            "text/plain": [
              "Map:   0%|          | 0/9919 [00:00<?, ? examples/s]"
            ],
            "application/vnd.jupyter.widget-view+json": {
              "version_major": 2,
              "version_minor": 0,
              "model_id": "da19e9c1dc6c4f4f85b5b78bb02809fb"
            }
          },
          "metadata": {}
        }
      ],
      "source": [
        "datasets = datasets.map(preproc)\n",
        "datasets = datasets.select_columns(['label', 'cont_X', 'cat_X'])\n",
        "datasets = datasets.with_format('torch')"
      ]
    },
    {
      "cell_type": "markdown",
      "id": "dbb3cc9f",
      "metadata": {
        "id": "dbb3cc9f"
      },
      "source": [
        "Once the datasets are ready, we created data loaders so we can load mini-batches of data, one at a time:"
      ]
    },
    {
      "cell_type": "markdown",
      "id": "b6b2e789",
      "metadata": {
        "id": "b6b2e789"
      },
      "source": [
        "![](https://raw.githubusercontent.com/dvgodoy/assets/main/PyTorchInPractice/images/ch0/data_step5.png)"
      ]
    },
    {
      "cell_type": "code",
      "execution_count": 6,
      "id": "ad16a024",
      "metadata": {
        "id": "ad16a024"
      },
      "outputs": [],
      "source": [
        "dataloaders = {}\n",
        "dataloaders['train'] = DataLoader(dataset=datasets['train'], batch_size=128, drop_last=True, shuffle=True)\n",
        "dataloaders['val'] = DataLoader(dataset=datasets['val'], batch_size=128)\n",
        "dataloaders['test'] = DataLoader(dataset=datasets['test'], batch_size=128)"
      ]
    },
    {
      "cell_type": "markdown",
      "id": "6ec63b54",
      "metadata": {
        "id": "6ec63b54"
      },
      "source": [
        "### 5.4.3 Custom Model\n",
        "\n",
        "![](https://raw.githubusercontent.com/dvgodoy/assets/main/PyTorchInPractice/images/ch0/model_step1.png)\n",
        "\n",
        "You know the drill: write a custom model class that implements both `__init__()` and `forward()` methods. You can use the model you wrote in Lab 1 as a starting point.\n",
        "\n",
        "In the constructor method, you will define the parts that make up your model, like linear layers and embeddings, as class attributes. Don't forget to include a call to `super().__init__()` at the top of the method so it executes the code from the parent class before your own. In our case, the model will receive the following arguments:\n",
        "\n",
        "- `n_cont`: the number of continuous attributes\n",
        "- `cat_list`: a list of lists of unique values of categorical attributes (the values from the dropdown encoders)\n",
        "- `emb_dim`: the number of dimensions of each embedding (we're keeping them the same for every categorical attribute for simplicity)\n",
        "\n",
        "The `forward()` method is where the magic happens, as you know. It receives an input `x`, which can be anything (e.g. a tensor, a tuple, a dictionary), and forwards this input through your model's components, such as layers, activation functions, and embeddings. In the end, it should return a prediction.\n",
        "\n",
        "Don't forget your data loader is returning dictionaries now, you'll need to make adjustments to how your model treats its inputs. Also, don't forget to add a batch normalization layer to preprocess the continuous attributes and, optionally, you can also add batch normalization layers after each hidden linear layer. Please refer to the diagram below for the implementation.\n",
        "\n",
        "![](https://raw.githubusercontent.com/dvgodoy/assets/main/PyTorchInPractice/images/ch3/lab2_model.png)"
      ]
    },
    {
      "cell_type": "code",
      "execution_count": 7,
      "id": "be654a02",
      "metadata": {
        "id": "be654a02"
      },
      "outputs": [],
      "source": [
        "import torch\n",
        "import torch.nn as nn\n",
        "import torch.optim as optim\n",
        "import torch.nn.functional as F\n",
        "\n",
        "class FFN(nn.Module):\n",
        "    def __init__(self, n_cont, cat_list, emb_dim):\n",
        "        super().__init__()\n",
        "\n",
        "        # Embedding layers\n",
        "        embedding_layers = []\n",
        "        # Creates one embedding layer for each categorical feature\n",
        "\n",
        "        # write your code here\n",
        "        for categories in cat_list:\n",
        "            embedding_layers.append(nn.Embedding(len(categories), emb_dim))\n",
        "\n",
        "        self.emb_layers = nn.ModuleList(embedding_layers)\n",
        "\n",
        "        # Total number of embedding dimensions\n",
        "        self.n_emb = len(cat_list) * emb_dim\n",
        "        self.n_cont = n_cont\n",
        "        # Batch Normalization layer for continuous features\n",
        "        self.bn_input = nn.BatchNorm1d(n_cont)\n",
        "\n",
        "        # Linear Layer(s)\n",
        "        lin_layers = []\n",
        "        # The input layers takes as many inputs as the number of continuous features\n",
        "        # plus the total number of concatenated embeddings\n",
        "        # The number of outputs is your own choice\n",
        "        # Optionally, add more hidden layers, don't forget to match the dimensions if you do\n",
        "        # write your code here\n",
        "        lin_layers.append(nn.Linear(self.n_emb + self.n_cont, 100))\n",
        "        self.lin_layers = nn.ModuleList(lin_layers)\n",
        "\n",
        "        # Batch Normalization Layer(s)\n",
        "        bn_layers = []\n",
        "        # Creates batch normalization layers for each linear hidden layer\n",
        "\n",
        "        # write your code here\n",
        "        bn_layers.append(nn.BatchNorm1d(100))\n",
        "        self.bn_layers = nn.ModuleList(bn_layers)\n",
        "\n",
        "        # The output layer must have as many inputs as there were outputs in the last hidden layer\n",
        "        # write your code here\n",
        "        self.output_layer = nn.Linear(self.lin_layers[-1].out_features, 1)\n",
        "\n",
        "        # Layer initialization\n",
        "        for lin_layer in self.lin_layers:\n",
        "            nn.init.kaiming_normal_(lin_layer.weight.data, nonlinearity='relu')\n",
        "        nn.init.kaiming_normal_(self.output_layer.weight.data, nonlinearity='relu')\n",
        "\n",
        "    def forward(self, inputs):\n",
        "        # The inputs are the features as returned in the first element of a tuple\n",
        "        # coming from the dataset/dataloader\n",
        "        # Make sure you split it into continuous and categorical attributes according\n",
        "        # to your dataset implementation of __getitem__\n",
        "        # write your code here\n",
        "        cont_data, cat_data = inputs['cont_X'], inputs['cat_X']\n",
        "\n",
        "        # Retrieve embeddings for each categorical attribute and concatenate them\n",
        "        embeddings = []\n",
        "        # write your code here\n",
        "        for i, layer in enumerate(self.emb_layers):\n",
        "            embeddings.append(layer(cat_data[:, i]))\n",
        "        embeddings = torch.cat(embeddings, 1)\n",
        "\n",
        "        # Normalizes continuous features using Batch Normalization layer\n",
        "        normalized_cont_data = self.bn_input(cont_data)\n",
        "\n",
        "        # Concatenate all features together, normalized continuous and embeddings\n",
        "        # write your code here\n",
        "        x = torch.cat([normalized_cont_data, embeddings], 1)\n",
        "\n",
        "        # Run the inputs through each layer and applies an activation function and batch norm to each output\n",
        "        for layer, bn_layer in zip(self.lin_layers, self.bn_layers):\n",
        "            # write your code here\n",
        "            x = layer(x)\n",
        "            x = F.relu(x)\n",
        "            x = bn_layer(x)\n",
        "\n",
        "        # Run the output of the last linear layer through the output layer\n",
        "        # write your code here\n",
        "        x = self.output_layer(x)\n",
        "\n",
        "        # Return the prediction\n",
        "        # write your code here\n",
        "        return x"
      ]
    },
    {
      "cell_type": "markdown",
      "id": "70725e71",
      "metadata": {
        "id": "70725e71"
      },
      "source": [
        "### 5.4.4 Training\n",
        "\n",
        "Now it is time to write your own training loop once again. First, you need to instantiate your model.\n",
        "\n",
        "![](https://raw.githubusercontent.com/dvgodoy/assets/main/PyTorchInPractice/images/ch0/model_step1.png)\n",
        "\n",
        "Just run the cell below as is to populate a few variables and visualize the outputs:"
      ]
    },
    {
      "cell_type": "code",
      "execution_count": 8,
      "id": "839956e2",
      "metadata": {
        "id": "839956e2",
        "colab": {
          "base_uri": "https://localhost:8080/"
        },
        "outputId": "2d70f683-ce17-46a9-fef0-cea494dde488"
      },
      "outputs": [
        {
          "output_type": "execute_result",
          "data": {
            "text/plain": [
              "(5,\n",
              " [array([  0,   1,   2,   3,   4,   5,   6,   7,   8,   9,  10,  11,  12,\n",
              "          13,  14,  15,  16,  17,  18,  19,  20,  21,  22,  23,  24,  25,\n",
              "          26,  27,  28,  29,  30,  31,  32,  33,  34,  35,  36,  37,  38,\n",
              "          39,  40,  41,  42,  43,  44,  45,  46,  47,  48,  49,  50,  51,\n",
              "          52,  53,  54,  55,  56,  57,  58,  59,  60,  61,  62,  63,  64,\n",
              "          65,  66,  67,  68,  69,  70,  71,  72,  73,  74,  75,  76,  77,\n",
              "          78,  79,  80,  81,  82,  83,  84,  85,  86,  87,  88,  89,  90,\n",
              "          91,  92,  93,  94,  95,  96,  97,  98,  99, 100, 101, 102, 103,\n",
              "         104, 105, 106, 107, 108, 109, 110, 111, 112, 113, 114, 115, 116,\n",
              "         117, 118, 119, 120, 121, 122, 123, 124, 125, 126, 127, 128, 129,\n",
              "         130, 131, 132, 133, 134, 135, 136, 137, 138, 139, 140, 141, 142,\n",
              "         143, 144, 145, 146, 147, 148, 149, 150, 151, 152, 153, 154, 155,\n",
              "         156, 157, 158, 159, 160, 161, 162, 163, 164, 165, 166, 167, 168,\n",
              "         169, 170, 171, 172, 173, 174, 175, 176, 177, 178, 179, 180, 181,\n",
              "         182, 183, 184, 185, 186, 187, 188, 189, 190, 191]),\n",
              "  array([0, 1, 2, 3, 4]),\n",
              "  array([0, 1, 2, 3, 4, 5])])"
            ]
          },
          "metadata": {},
          "execution_count": 8
        }
      ],
      "source": [
        "n_cont = len(cont_attr)\n",
        "cat_list = [np.array(list(dropdown_encoders[name].values())) for name in cat_attr]  #why are they called dropdown encoders?\n",
        "\n",
        "n_cont, cat_list"
      ]
    },
    {
      "cell_type": "markdown",
      "id": "f216c621",
      "metadata": {
        "id": "f216c621"
      },
      "source": [
        "The `n_cont` variable contains the number of continuous attributes you're using. The `cat_list` variable contains a list of lists, each inner list containing the unique values corresponding to one of the categorical attributes (\"dropdowns\").\n",
        "\n",
        "Both variables, together with the number of embedding dimensions you chose (`emb_dim`), should be used as arguments to create an instance of your custom model class (`FFN`):"
      ]
    },
    {
      "cell_type": "code",
      "execution_count": 9,
      "id": "f034dde1",
      "metadata": {
        "id": "f034dde1"
      },
      "outputs": [],
      "source": [
        "torch.manual_seed(42)\n",
        "\n",
        "# write your code here\n",
        "emb_dim = 5\n",
        "model = FFN(n_cont, cat_list, emb_dim=emb_dim)"
      ]
    },
    {
      "cell_type": "markdown",
      "id": "a7df0fc5",
      "metadata": {
        "id": "a7df0fc5"
      },
      "source": [
        "Now, create the appropriate loss function for the task:\n",
        "\n",
        "![](https://raw.githubusercontent.com/dvgodoy/assets/main/PyTorchInPractice/images/ch0/model_step2.png)"
      ]
    },
    {
      "cell_type": "code",
      "execution_count": 10,
      "id": "c8bf8305",
      "metadata": {
        "id": "c8bf8305"
      },
      "outputs": [],
      "source": [
        "# write your code here\n",
        "loss_fn = nn.MSELoss()"
      ]
    },
    {
      "cell_type": "markdown",
      "id": "645bcd47",
      "metadata": {
        "id": "645bcd47"
      },
      "source": [
        "Then, create an optimizer that will update your model's parameters:\n",
        "\n",
        "![](https://raw.githubusercontent.com/dvgodoy/assets/main/PyTorchInPractice/images/ch0/model_step3.png)"
      ]
    },
    {
      "cell_type": "code",
      "execution_count": 11,
      "id": "e8eb47a1",
      "metadata": {
        "id": "e8eb47a1"
      },
      "outputs": [],
      "source": [
        "# Suggested learning rate\n",
        "lr = 3e-3\n",
        "\n",
        "# write your code here\n",
        "optimizer = optim.Adam(model.parameters(), lr=lr)"
      ]
    },
    {
      "cell_type": "markdown",
      "id": "7af8453c",
      "metadata": {
        "id": "7af8453c"
      },
      "source": [
        "Next, you will write the training loop using the data loaders to iterate through your training and validation data (these loops are written for you already).\n",
        "\n",
        "![](https://raw.githubusercontent.com/dvgodoy/assets/main/PyTorchInPractice/images/ch0/model_step4.png)\n",
        "\n",
        "The training loop itself is pretty much the same as in the previous lab, but don't forget your data loaders return dictionaries now, so you'll need to adjust they way your data is being sent to the appropriate device."
      ]
    },
    {
      "cell_type": "code",
      "execution_count": 12,
      "id": "1d6b03f3",
      "metadata": {
        "id": "1d6b03f3",
        "colab": {
          "base_uri": "https://localhost:8080/"
        },
        "outputId": "64ab1fb1-4161-4599-b7e9-4a8e69821c06"
      },
      "outputs": [
        {
          "output_type": "stream",
          "name": "stderr",
          "text": [
            " 50%|█████     | 10/20 [01:18<01:18,  7.81s/it]"
          ]
        },
        {
          "output_type": "stream",
          "name": "stdout",
          "text": [
            "Early stopping at epoch #10\n"
          ]
        },
        {
          "output_type": "stream",
          "name": "stderr",
          "text": [
            "\n"
          ]
        }
      ],
      "source": [
        "from tqdm import tqdm\n",
        "\n",
        "device = 'cuda' if torch.cuda.is_available() else 'cpu'\n",
        "\n",
        "n_epochs = 20\n",
        "\n",
        "losses = torch.empty(n_epochs)\n",
        "val_losses = torch.empty(n_epochs)\n",
        "\n",
        "best_loss = torch.inf\n",
        "best_epoch = -1    # Is this initialized to -1 as a placeholder?\n",
        "patience = 3       # What is the patience parameter for?\n",
        "\n",
        "model.to(device)\n",
        "\n",
        "progress_bar = tqdm(range(n_epochs))\n",
        "\n",
        "for epoch in progress_bar:\n",
        "    batch_losses = []\n",
        "\n",
        "    ## Training\n",
        "    for i, batch in enumerate(dataloaders['train']):\n",
        "        # Set the model to training mode\n",
        "        # write your code here\n",
        "        model.train()\n",
        "\n",
        "        # Send batch features and targets to the device\n",
        "        # write your code here\n",
        "        batch['cont_X'] = batch['cont_X'].to(device)\n",
        "        batch['cat_X'] = batch['cat_X'].to(device)\n",
        "        batch['label'] = batch['label'].to(device)\n",
        "\n",
        "        # Step 1 - forward pass\n",
        "        # write your code here\n",
        "        predictions = model(batch)\n",
        "\n",
        "        # Step 2 - computing the loss\n",
        "        # write your code here\n",
        "        loss = loss_fn(predictions, batch['label'])\n",
        "\n",
        "        # Step 3 - computing the gradients\n",
        "        # Tip: it requires a single method call to backpropagate gradients\n",
        "        # write your code here\n",
        "        loss.backward()\n",
        "\n",
        "        batch_losses.append(loss.item())\n",
        "\n",
        "        # Step 4 - updating parameters and zeroing gradients\n",
        "        # Tip: it takes two calls to optimizer's methods\n",
        "        # write your code here\n",
        "        optimizer.step()\n",
        "        optimizer.zero_grad()\n",
        "\n",
        "    losses[epoch] = torch.tensor(batch_losses).mean()\n",
        "\n",
        "    ## Validation\n",
        "    with torch.inference_mode():\n",
        "        batch_losses = []\n",
        "\n",
        "        for i, val_batch in enumerate(dataloaders['val']):\n",
        "            # Set the model to evaluation mode\n",
        "            # write your code here\n",
        "            model.eval()\n",
        "\n",
        "            # Send batch features and targets to the device\n",
        "            # write your code here\n",
        "            val_batch['cont_X'] = val_batch['cont_X'].to(device)\n",
        "            val_batch['cat_X'] = val_batch['cat_X'].to(device)\n",
        "            val_batch['label'] = val_batch['label'].to(device)\n",
        "\n",
        "            # Step 1 - forward pass\n",
        "            # write your code here\n",
        "            predictions = model(val_batch)\n",
        "\n",
        "            # Step 2 - computing the loss\n",
        "            # write your code here\n",
        "            loss = loss_fn(predictions, val_batch['label'])\n",
        "\n",
        "            batch_losses.append(loss.item())\n",
        "\n",
        "        val_losses[epoch] = torch.tensor(batch_losses).mean()\n",
        "\n",
        "        if val_losses[epoch] < best_loss:\n",
        "            best_loss = val_losses[epoch]\n",
        "            best_epoch = epoch\n",
        "            torch.save({'model': model.state_dict(),\n",
        "                        'optimizer': optimizer.state_dict()},\n",
        "                       'best_model.pth')\n",
        "        elif (epoch - best_epoch) > patience:\n",
        "            print(f\"Early stopping at epoch #{epoch}\")\n",
        "            break"
      ]
    },
    {
      "cell_type": "markdown",
      "id": "99bcf0d8",
      "metadata": {
        "id": "99bcf0d8"
      },
      "source": [
        "Let's check the evolution of the losses. Run the cell below as is to plot your losses:"
      ]
    },
    {
      "cell_type": "code",
      "execution_count": null,
      "id": "e5726153",
      "metadata": {
        "id": "e5726153"
      },
      "outputs": [],
      "source": [
        "import matplotlib.pyplot as plt\n",
        "\n",
        "plt.plot(losses[:epoch], label='Training')\n",
        "plt.plot(val_losses[:epoch], label='Validation')\n",
        "plt.xlabel('Epoch')\n",
        "plt.ylabel('Loss')\n",
        "plt.yscale('log')\n",
        "plt.legend()"
      ]
    },
    {
      "cell_type": "markdown",
      "id": "8600d669",
      "metadata": {
        "id": "8600d669"
      },
      "source": [
        "Then, let's compare predicted and actual values in the validation set.\n",
        "\n",
        "![](https://raw.githubusercontent.com/dvgodoy/assets/main/PyTorchInPractice/images/ch0/model_step5.png)"
      ]
    },
    {
      "cell_type": "markdown",
      "id": "9cd4cc34",
      "metadata": {
        "id": "9cd4cc34"
      },
      "source": [
        "Run the cell below as is to visualize a scatterplot comparing predicted and actual values of fuel consumption. A perfect prediction corresponds to the dashed diagonal line."
      ]
    },
    {
      "cell_type": "code",
      "execution_count": null,
      "id": "1a9c227f",
      "metadata": {
        "id": "1a9c227f"
      },
      "outputs": [],
      "source": [
        "split = 'val'\n",
        "y_hat = []\n",
        "y_true = []\n",
        "for batch in dataloaders[split]:\n",
        "    model.eval()\n",
        "    batch['cont_X'] = batch['cont_X'].to(device)\n",
        "    batch['cat_X'] = batch['cat_X'].to(device)\n",
        "    batch['label'] = batch['label'].to(device)\n",
        "    y_hat.extend(model(batch).tolist())\n",
        "    y_true.extend(batch['label'].tolist())\n",
        "\n",
        "fig, ax = plt.subplots(1, 1, figsize=(5, 5))\n",
        "ax.scatter(y_true, y_hat, alpha=0.25)\n",
        "ax.plot([0, 80000], [0, 80000], linestyle='--', c='k', linewidth=1)\n",
        "ax.set_xlabel('Actual')\n",
        "ax.set_xlim([0, 80000])\n",
        "ax.set_ylabel('Predicted')\n",
        "ax.set_ylim([0, 80000])\n",
        "ax.set_title('Price')"
      ]
    },
    {
      "cell_type": "markdown",
      "id": "0b1c90af",
      "metadata": {
        "id": "0b1c90af"
      },
      "source": [
        "Ideally, you'll see a cloud of points around the diagonal line. What about the R2 score?"
      ]
    },
    {
      "cell_type": "code",
      "execution_count": null,
      "id": "ee750bb5",
      "metadata": {
        "id": "ee750bb5"
      },
      "outputs": [],
      "source": [
        "from sklearn.metrics import r2_score\n",
        "r2_score(y_true, y_hat)"
      ]
    },
    {
      "cell_type": "markdown",
      "id": "d0e8e967",
      "metadata": {
        "id": "d0e8e967"
      },
      "source": [
        "If your cloud of points were indeed around the diagonal line, you're probably expecting a high R2 score (>0.8). If you got a surprisingly low value for it, can you guess why?\n",
        "\n",
        "TIP: Try removing the `set_ylim()` range and look for extreme or negative values. If, for some reason, your model is producing extreme predictions (even if there's only a few of them), it may impact negatively the R2 score."
      ]
    }
  ],
  "metadata": {
    "kernelspec": {
      "display_name": "Python 3 (ipykernel)",
      "language": "python",
      "name": "python3"
    },
    "language_info": {
      "codemirror_mode": {
        "name": "ipython",
        "version": 3
      },
      "file_extension": ".py",
      "mimetype": "text/x-python",
      "name": "python",
      "nbconvert_exporter": "python",
      "pygments_lexer": "ipython3",
      "version": "3.9.0"
    },
    "colab": {
      "provenance": [],
      "include_colab_link": true
    },
    "widgets": {
      "application/vnd.jupyter.widget-state+json": {
        "7be090083b404969aa1a11e680628567": {
          "model_module": "@jupyter-widgets/controls",
          "model_name": "HBoxModel",
          "model_module_version": "1.5.0",
          "state": {
            "_dom_classes": [],
            "_model_module": "@jupyter-widgets/controls",
            "_model_module_version": "1.5.0",
            "_model_name": "HBoxModel",
            "_view_count": null,
            "_view_module": "@jupyter-widgets/controls",
            "_view_module_version": "1.5.0",
            "_view_name": "HBoxView",
            "box_style": "",
            "children": [
              "IPY_MODEL_94b36731f76c4014bde0f2aafe4ba8d4",
              "IPY_MODEL_b7711537421443678ec71f5502df9bfb",
              "IPY_MODEL_5773a925afcb456e9de60ee05dd269e4"
            ],
            "layout": "IPY_MODEL_760e0c633c7b40ea829e0750fcd9441c"
          }
        },
        "94b36731f76c4014bde0f2aafe4ba8d4": {
          "model_module": "@jupyter-widgets/controls",
          "model_name": "HTMLModel",
          "model_module_version": "1.5.0",
          "state": {
            "_dom_classes": [],
            "_model_module": "@jupyter-widgets/controls",
            "_model_module_version": "1.5.0",
            "_model_name": "HTMLModel",
            "_view_count": null,
            "_view_module": "@jupyter-widgets/controls",
            "_view_module_version": "1.5.0",
            "_view_name": "HTMLView",
            "description": "",
            "description_tooltip": null,
            "layout": "IPY_MODEL_2ec0e3180bd24742bd949b10770163cd",
            "placeholder": "​",
            "style": "IPY_MODEL_3854b797e0d24c0c98b6f4bbedce0773",
            "value": "Generating train split: "
          }
        },
        "b7711537421443678ec71f5502df9bfb": {
          "model_module": "@jupyter-widgets/controls",
          "model_name": "FloatProgressModel",
          "model_module_version": "1.5.0",
          "state": {
            "_dom_classes": [],
            "_model_module": "@jupyter-widgets/controls",
            "_model_module_version": "1.5.0",
            "_model_name": "FloatProgressModel",
            "_view_count": null,
            "_view_module": "@jupyter-widgets/controls",
            "_view_module_version": "1.5.0",
            "_view_name": "ProgressView",
            "bar_style": "success",
            "description": "",
            "description_tooltip": null,
            "layout": "IPY_MODEL_d8b206a9efd04bfda42d20e2acde137e",
            "max": 1,
            "min": 0,
            "orientation": "horizontal",
            "style": "IPY_MODEL_a99c9a8564594d81899210cfe0094fe3",
            "value": 1
          }
        },
        "5773a925afcb456e9de60ee05dd269e4": {
          "model_module": "@jupyter-widgets/controls",
          "model_name": "HTMLModel",
          "model_module_version": "1.5.0",
          "state": {
            "_dom_classes": [],
            "_model_module": "@jupyter-widgets/controls",
            "_model_module_version": "1.5.0",
            "_model_name": "HTMLModel",
            "_view_count": null,
            "_view_module": "@jupyter-widgets/controls",
            "_view_module_version": "1.5.0",
            "_view_name": "HTMLView",
            "description": "",
            "description_tooltip": null,
            "layout": "IPY_MODEL_3a48ff250fb64b81ac0bafdee6f0c152",
            "placeholder": "​",
            "style": "IPY_MODEL_4bee41f411e24971b95476293e78cb80",
            "value": " 99187/0 [00:00&lt;00:00, 346160.03 examples/s]"
          }
        },
        "760e0c633c7b40ea829e0750fcd9441c": {
          "model_module": "@jupyter-widgets/base",
          "model_name": "LayoutModel",
          "model_module_version": "1.2.0",
          "state": {
            "_model_module": "@jupyter-widgets/base",
            "_model_module_version": "1.2.0",
            "_model_name": "LayoutModel",
            "_view_count": null,
            "_view_module": "@jupyter-widgets/base",
            "_view_module_version": "1.2.0",
            "_view_name": "LayoutView",
            "align_content": null,
            "align_items": null,
            "align_self": null,
            "border": null,
            "bottom": null,
            "display": null,
            "flex": null,
            "flex_flow": null,
            "grid_area": null,
            "grid_auto_columns": null,
            "grid_auto_flow": null,
            "grid_auto_rows": null,
            "grid_column": null,
            "grid_gap": null,
            "grid_row": null,
            "grid_template_areas": null,
            "grid_template_columns": null,
            "grid_template_rows": null,
            "height": null,
            "justify_content": null,
            "justify_items": null,
            "left": null,
            "margin": null,
            "max_height": null,
            "max_width": null,
            "min_height": null,
            "min_width": null,
            "object_fit": null,
            "object_position": null,
            "order": null,
            "overflow": null,
            "overflow_x": null,
            "overflow_y": null,
            "padding": null,
            "right": null,
            "top": null,
            "visibility": null,
            "width": null
          }
        },
        "2ec0e3180bd24742bd949b10770163cd": {
          "model_module": "@jupyter-widgets/base",
          "model_name": "LayoutModel",
          "model_module_version": "1.2.0",
          "state": {
            "_model_module": "@jupyter-widgets/base",
            "_model_module_version": "1.2.0",
            "_model_name": "LayoutModel",
            "_view_count": null,
            "_view_module": "@jupyter-widgets/base",
            "_view_module_version": "1.2.0",
            "_view_name": "LayoutView",
            "align_content": null,
            "align_items": null,
            "align_self": null,
            "border": null,
            "bottom": null,
            "display": null,
            "flex": null,
            "flex_flow": null,
            "grid_area": null,
            "grid_auto_columns": null,
            "grid_auto_flow": null,
            "grid_auto_rows": null,
            "grid_column": null,
            "grid_gap": null,
            "grid_row": null,
            "grid_template_areas": null,
            "grid_template_columns": null,
            "grid_template_rows": null,
            "height": null,
            "justify_content": null,
            "justify_items": null,
            "left": null,
            "margin": null,
            "max_height": null,
            "max_width": null,
            "min_height": null,
            "min_width": null,
            "object_fit": null,
            "object_position": null,
            "order": null,
            "overflow": null,
            "overflow_x": null,
            "overflow_y": null,
            "padding": null,
            "right": null,
            "top": null,
            "visibility": null,
            "width": null
          }
        },
        "3854b797e0d24c0c98b6f4bbedce0773": {
          "model_module": "@jupyter-widgets/controls",
          "model_name": "DescriptionStyleModel",
          "model_module_version": "1.5.0",
          "state": {
            "_model_module": "@jupyter-widgets/controls",
            "_model_module_version": "1.5.0",
            "_model_name": "DescriptionStyleModel",
            "_view_count": null,
            "_view_module": "@jupyter-widgets/base",
            "_view_module_version": "1.2.0",
            "_view_name": "StyleView",
            "description_width": ""
          }
        },
        "d8b206a9efd04bfda42d20e2acde137e": {
          "model_module": "@jupyter-widgets/base",
          "model_name": "LayoutModel",
          "model_module_version": "1.2.0",
          "state": {
            "_model_module": "@jupyter-widgets/base",
            "_model_module_version": "1.2.0",
            "_model_name": "LayoutModel",
            "_view_count": null,
            "_view_module": "@jupyter-widgets/base",
            "_view_module_version": "1.2.0",
            "_view_name": "LayoutView",
            "align_content": null,
            "align_items": null,
            "align_self": null,
            "border": null,
            "bottom": null,
            "display": null,
            "flex": null,
            "flex_flow": null,
            "grid_area": null,
            "grid_auto_columns": null,
            "grid_auto_flow": null,
            "grid_auto_rows": null,
            "grid_column": null,
            "grid_gap": null,
            "grid_row": null,
            "grid_template_areas": null,
            "grid_template_columns": null,
            "grid_template_rows": null,
            "height": null,
            "justify_content": null,
            "justify_items": null,
            "left": null,
            "margin": null,
            "max_height": null,
            "max_width": null,
            "min_height": null,
            "min_width": null,
            "object_fit": null,
            "object_position": null,
            "order": null,
            "overflow": null,
            "overflow_x": null,
            "overflow_y": null,
            "padding": null,
            "right": null,
            "top": null,
            "visibility": null,
            "width": "20px"
          }
        },
        "a99c9a8564594d81899210cfe0094fe3": {
          "model_module": "@jupyter-widgets/controls",
          "model_name": "ProgressStyleModel",
          "model_module_version": "1.5.0",
          "state": {
            "_model_module": "@jupyter-widgets/controls",
            "_model_module_version": "1.5.0",
            "_model_name": "ProgressStyleModel",
            "_view_count": null,
            "_view_module": "@jupyter-widgets/base",
            "_view_module_version": "1.2.0",
            "_view_name": "StyleView",
            "bar_color": null,
            "description_width": ""
          }
        },
        "3a48ff250fb64b81ac0bafdee6f0c152": {
          "model_module": "@jupyter-widgets/base",
          "model_name": "LayoutModel",
          "model_module_version": "1.2.0",
          "state": {
            "_model_module": "@jupyter-widgets/base",
            "_model_module_version": "1.2.0",
            "_model_name": "LayoutModel",
            "_view_count": null,
            "_view_module": "@jupyter-widgets/base",
            "_view_module_version": "1.2.0",
            "_view_name": "LayoutView",
            "align_content": null,
            "align_items": null,
            "align_self": null,
            "border": null,
            "bottom": null,
            "display": null,
            "flex": null,
            "flex_flow": null,
            "grid_area": null,
            "grid_auto_columns": null,
            "grid_auto_flow": null,
            "grid_auto_rows": null,
            "grid_column": null,
            "grid_gap": null,
            "grid_row": null,
            "grid_template_areas": null,
            "grid_template_columns": null,
            "grid_template_rows": null,
            "height": null,
            "justify_content": null,
            "justify_items": null,
            "left": null,
            "margin": null,
            "max_height": null,
            "max_width": null,
            "min_height": null,
            "min_width": null,
            "object_fit": null,
            "object_position": null,
            "order": null,
            "overflow": null,
            "overflow_x": null,
            "overflow_y": null,
            "padding": null,
            "right": null,
            "top": null,
            "visibility": null,
            "width": null
          }
        },
        "4bee41f411e24971b95476293e78cb80": {
          "model_module": "@jupyter-widgets/controls",
          "model_name": "DescriptionStyleModel",
          "model_module_version": "1.5.0",
          "state": {
            "_model_module": "@jupyter-widgets/controls",
            "_model_module_version": "1.5.0",
            "_model_name": "DescriptionStyleModel",
            "_view_count": null,
            "_view_module": "@jupyter-widgets/base",
            "_view_module_version": "1.2.0",
            "_view_name": "StyleView",
            "description_width": ""
          }
        },
        "6a8d64b2437248f7b925274d5ea92f4a": {
          "model_module": "@jupyter-widgets/controls",
          "model_name": "HBoxModel",
          "model_module_version": "1.5.0",
          "state": {
            "_dom_classes": [],
            "_model_module": "@jupyter-widgets/controls",
            "_model_module_version": "1.5.0",
            "_model_name": "HBoxModel",
            "_view_count": null,
            "_view_module": "@jupyter-widgets/controls",
            "_view_module_version": "1.5.0",
            "_view_name": "HBoxView",
            "box_style": "",
            "children": [
              "IPY_MODEL_4d3359531bae4cb3938531884a7bbac7",
              "IPY_MODEL_cfe1cfe79ff4492f981fe918efcd6a01",
              "IPY_MODEL_5a613d27011e410fb6e68e11343a7ad1"
            ],
            "layout": "IPY_MODEL_30ae0e7031ad4c9882b1633372e57b09"
          }
        },
        "4d3359531bae4cb3938531884a7bbac7": {
          "model_module": "@jupyter-widgets/controls",
          "model_name": "HTMLModel",
          "model_module_version": "1.5.0",
          "state": {
            "_dom_classes": [],
            "_model_module": "@jupyter-widgets/controls",
            "_model_module_version": "1.5.0",
            "_model_name": "HTMLModel",
            "_view_count": null,
            "_view_module": "@jupyter-widgets/controls",
            "_view_module_version": "1.5.0",
            "_view_name": "HTMLView",
            "description": "",
            "description_tooltip": null,
            "layout": "IPY_MODEL_044a2d49ab1b4f359423cd9e74f13d7b",
            "placeholder": "​",
            "style": "IPY_MODEL_775f9599abda42a29397ab4a8bc2c880",
            "value": "Flattening the indices: 100%"
          }
        },
        "cfe1cfe79ff4492f981fe918efcd6a01": {
          "model_module": "@jupyter-widgets/controls",
          "model_name": "FloatProgressModel",
          "model_module_version": "1.5.0",
          "state": {
            "_dom_classes": [],
            "_model_module": "@jupyter-widgets/controls",
            "_model_module_version": "1.5.0",
            "_model_name": "FloatProgressModel",
            "_view_count": null,
            "_view_module": "@jupyter-widgets/controls",
            "_view_module_version": "1.5.0",
            "_view_name": "ProgressView",
            "bar_style": "success",
            "description": "",
            "description_tooltip": null,
            "layout": "IPY_MODEL_d9825af693f14cbf99d6aec331e14113",
            "max": 79349,
            "min": 0,
            "orientation": "horizontal",
            "style": "IPY_MODEL_aa28fda6c8ee4401903e555391c2cdfa",
            "value": 79349
          }
        },
        "5a613d27011e410fb6e68e11343a7ad1": {
          "model_module": "@jupyter-widgets/controls",
          "model_name": "HTMLModel",
          "model_module_version": "1.5.0",
          "state": {
            "_dom_classes": [],
            "_model_module": "@jupyter-widgets/controls",
            "_model_module_version": "1.5.0",
            "_model_name": "HTMLModel",
            "_view_count": null,
            "_view_module": "@jupyter-widgets/controls",
            "_view_module_version": "1.5.0",
            "_view_name": "HTMLView",
            "description": "",
            "description_tooltip": null,
            "layout": "IPY_MODEL_b9da2904c8a24c868723e143a9e4f420",
            "placeholder": "​",
            "style": "IPY_MODEL_1773ea9e7d5343419ad060ec0854c37b",
            "value": " 79349/79349 [00:06&lt;00:00, 11955.59 examples/s]"
          }
        },
        "30ae0e7031ad4c9882b1633372e57b09": {
          "model_module": "@jupyter-widgets/base",
          "model_name": "LayoutModel",
          "model_module_version": "1.2.0",
          "state": {
            "_model_module": "@jupyter-widgets/base",
            "_model_module_version": "1.2.0",
            "_model_name": "LayoutModel",
            "_view_count": null,
            "_view_module": "@jupyter-widgets/base",
            "_view_module_version": "1.2.0",
            "_view_name": "LayoutView",
            "align_content": null,
            "align_items": null,
            "align_self": null,
            "border": null,
            "bottom": null,
            "display": null,
            "flex": null,
            "flex_flow": null,
            "grid_area": null,
            "grid_auto_columns": null,
            "grid_auto_flow": null,
            "grid_auto_rows": null,
            "grid_column": null,
            "grid_gap": null,
            "grid_row": null,
            "grid_template_areas": null,
            "grid_template_columns": null,
            "grid_template_rows": null,
            "height": null,
            "justify_content": null,
            "justify_items": null,
            "left": null,
            "margin": null,
            "max_height": null,
            "max_width": null,
            "min_height": null,
            "min_width": null,
            "object_fit": null,
            "object_position": null,
            "order": null,
            "overflow": null,
            "overflow_x": null,
            "overflow_y": null,
            "padding": null,
            "right": null,
            "top": null,
            "visibility": null,
            "width": null
          }
        },
        "044a2d49ab1b4f359423cd9e74f13d7b": {
          "model_module": "@jupyter-widgets/base",
          "model_name": "LayoutModel",
          "model_module_version": "1.2.0",
          "state": {
            "_model_module": "@jupyter-widgets/base",
            "_model_module_version": "1.2.0",
            "_model_name": "LayoutModel",
            "_view_count": null,
            "_view_module": "@jupyter-widgets/base",
            "_view_module_version": "1.2.0",
            "_view_name": "LayoutView",
            "align_content": null,
            "align_items": null,
            "align_self": null,
            "border": null,
            "bottom": null,
            "display": null,
            "flex": null,
            "flex_flow": null,
            "grid_area": null,
            "grid_auto_columns": null,
            "grid_auto_flow": null,
            "grid_auto_rows": null,
            "grid_column": null,
            "grid_gap": null,
            "grid_row": null,
            "grid_template_areas": null,
            "grid_template_columns": null,
            "grid_template_rows": null,
            "height": null,
            "justify_content": null,
            "justify_items": null,
            "left": null,
            "margin": null,
            "max_height": null,
            "max_width": null,
            "min_height": null,
            "min_width": null,
            "object_fit": null,
            "object_position": null,
            "order": null,
            "overflow": null,
            "overflow_x": null,
            "overflow_y": null,
            "padding": null,
            "right": null,
            "top": null,
            "visibility": null,
            "width": null
          }
        },
        "775f9599abda42a29397ab4a8bc2c880": {
          "model_module": "@jupyter-widgets/controls",
          "model_name": "DescriptionStyleModel",
          "model_module_version": "1.5.0",
          "state": {
            "_model_module": "@jupyter-widgets/controls",
            "_model_module_version": "1.5.0",
            "_model_name": "DescriptionStyleModel",
            "_view_count": null,
            "_view_module": "@jupyter-widgets/base",
            "_view_module_version": "1.2.0",
            "_view_name": "StyleView",
            "description_width": ""
          }
        },
        "d9825af693f14cbf99d6aec331e14113": {
          "model_module": "@jupyter-widgets/base",
          "model_name": "LayoutModel",
          "model_module_version": "1.2.0",
          "state": {
            "_model_module": "@jupyter-widgets/base",
            "_model_module_version": "1.2.0",
            "_model_name": "LayoutModel",
            "_view_count": null,
            "_view_module": "@jupyter-widgets/base",
            "_view_module_version": "1.2.0",
            "_view_name": "LayoutView",
            "align_content": null,
            "align_items": null,
            "align_self": null,
            "border": null,
            "bottom": null,
            "display": null,
            "flex": null,
            "flex_flow": null,
            "grid_area": null,
            "grid_auto_columns": null,
            "grid_auto_flow": null,
            "grid_auto_rows": null,
            "grid_column": null,
            "grid_gap": null,
            "grid_row": null,
            "grid_template_areas": null,
            "grid_template_columns": null,
            "grid_template_rows": null,
            "height": null,
            "justify_content": null,
            "justify_items": null,
            "left": null,
            "margin": null,
            "max_height": null,
            "max_width": null,
            "min_height": null,
            "min_width": null,
            "object_fit": null,
            "object_position": null,
            "order": null,
            "overflow": null,
            "overflow_x": null,
            "overflow_y": null,
            "padding": null,
            "right": null,
            "top": null,
            "visibility": null,
            "width": null
          }
        },
        "aa28fda6c8ee4401903e555391c2cdfa": {
          "model_module": "@jupyter-widgets/controls",
          "model_name": "ProgressStyleModel",
          "model_module_version": "1.5.0",
          "state": {
            "_model_module": "@jupyter-widgets/controls",
            "_model_module_version": "1.5.0",
            "_model_name": "ProgressStyleModel",
            "_view_count": null,
            "_view_module": "@jupyter-widgets/base",
            "_view_module_version": "1.2.0",
            "_view_name": "StyleView",
            "bar_color": null,
            "description_width": ""
          }
        },
        "b9da2904c8a24c868723e143a9e4f420": {
          "model_module": "@jupyter-widgets/base",
          "model_name": "LayoutModel",
          "model_module_version": "1.2.0",
          "state": {
            "_model_module": "@jupyter-widgets/base",
            "_model_module_version": "1.2.0",
            "_model_name": "LayoutModel",
            "_view_count": null,
            "_view_module": "@jupyter-widgets/base",
            "_view_module_version": "1.2.0",
            "_view_name": "LayoutView",
            "align_content": null,
            "align_items": null,
            "align_self": null,
            "border": null,
            "bottom": null,
            "display": null,
            "flex": null,
            "flex_flow": null,
            "grid_area": null,
            "grid_auto_columns": null,
            "grid_auto_flow": null,
            "grid_auto_rows": null,
            "grid_column": null,
            "grid_gap": null,
            "grid_row": null,
            "grid_template_areas": null,
            "grid_template_columns": null,
            "grid_template_rows": null,
            "height": null,
            "justify_content": null,
            "justify_items": null,
            "left": null,
            "margin": null,
            "max_height": null,
            "max_width": null,
            "min_height": null,
            "min_width": null,
            "object_fit": null,
            "object_position": null,
            "order": null,
            "overflow": null,
            "overflow_x": null,
            "overflow_y": null,
            "padding": null,
            "right": null,
            "top": null,
            "visibility": null,
            "width": null
          }
        },
        "1773ea9e7d5343419ad060ec0854c37b": {
          "model_module": "@jupyter-widgets/controls",
          "model_name": "DescriptionStyleModel",
          "model_module_version": "1.5.0",
          "state": {
            "_model_module": "@jupyter-widgets/controls",
            "_model_module_version": "1.5.0",
            "_model_name": "DescriptionStyleModel",
            "_view_count": null,
            "_view_module": "@jupyter-widgets/base",
            "_view_module_version": "1.2.0",
            "_view_name": "StyleView",
            "description_width": ""
          }
        },
        "4faf262bdfcf417697fb4b6922f0e4f7": {
          "model_module": "@jupyter-widgets/controls",
          "model_name": "HBoxModel",
          "model_module_version": "1.5.0",
          "state": {
            "_dom_classes": [],
            "_model_module": "@jupyter-widgets/controls",
            "_model_module_version": "1.5.0",
            "_model_name": "HBoxModel",
            "_view_count": null,
            "_view_module": "@jupyter-widgets/controls",
            "_view_module_version": "1.5.0",
            "_view_name": "HBoxView",
            "box_style": "",
            "children": [
              "IPY_MODEL_f41bbb7a5b7a4a3b9d9263c08118f653",
              "IPY_MODEL_cc9e660ea1ae4e5595e0fe26b9e27880",
              "IPY_MODEL_4858c1d63bcc488a99ee86c70d378518"
            ],
            "layout": "IPY_MODEL_434f7b9cdbc24ac0b73547cd3470a096"
          }
        },
        "f41bbb7a5b7a4a3b9d9263c08118f653": {
          "model_module": "@jupyter-widgets/controls",
          "model_name": "HTMLModel",
          "model_module_version": "1.5.0",
          "state": {
            "_dom_classes": [],
            "_model_module": "@jupyter-widgets/controls",
            "_model_module_version": "1.5.0",
            "_model_name": "HTMLModel",
            "_view_count": null,
            "_view_module": "@jupyter-widgets/controls",
            "_view_module_version": "1.5.0",
            "_view_name": "HTMLView",
            "description": "",
            "description_tooltip": null,
            "layout": "IPY_MODEL_142b11c79b72402a95dea39bc52959bd",
            "placeholder": "​",
            "style": "IPY_MODEL_3afba7b79bdb4a7598a19903297ee3c0",
            "value": "Map: 100%"
          }
        },
        "cc9e660ea1ae4e5595e0fe26b9e27880": {
          "model_module": "@jupyter-widgets/controls",
          "model_name": "FloatProgressModel",
          "model_module_version": "1.5.0",
          "state": {
            "_dom_classes": [],
            "_model_module": "@jupyter-widgets/controls",
            "_model_module_version": "1.5.0",
            "_model_name": "FloatProgressModel",
            "_view_count": null,
            "_view_module": "@jupyter-widgets/controls",
            "_view_module_version": "1.5.0",
            "_view_name": "ProgressView",
            "bar_style": "success",
            "description": "",
            "description_tooltip": null,
            "layout": "IPY_MODEL_15024a8f2a8647bab324aa860a1e131b",
            "max": 79349,
            "min": 0,
            "orientation": "horizontal",
            "style": "IPY_MODEL_c4715a202f9a40a1b6926333ba8067e1",
            "value": 79349
          }
        },
        "4858c1d63bcc488a99ee86c70d378518": {
          "model_module": "@jupyter-widgets/controls",
          "model_name": "HTMLModel",
          "model_module_version": "1.5.0",
          "state": {
            "_dom_classes": [],
            "_model_module": "@jupyter-widgets/controls",
            "_model_module_version": "1.5.0",
            "_model_name": "HTMLModel",
            "_view_count": null,
            "_view_module": "@jupyter-widgets/controls",
            "_view_module_version": "1.5.0",
            "_view_name": "HTMLView",
            "description": "",
            "description_tooltip": null,
            "layout": "IPY_MODEL_55f34ee3a8f743d6bbd5164ef52e8c4e",
            "placeholder": "​",
            "style": "IPY_MODEL_7bb035d9f27140c190cfe41af2c9410b",
            "value": " 79349/79349 [00:28&lt;00:00, 2900.55 examples/s]"
          }
        },
        "434f7b9cdbc24ac0b73547cd3470a096": {
          "model_module": "@jupyter-widgets/base",
          "model_name": "LayoutModel",
          "model_module_version": "1.2.0",
          "state": {
            "_model_module": "@jupyter-widgets/base",
            "_model_module_version": "1.2.0",
            "_model_name": "LayoutModel",
            "_view_count": null,
            "_view_module": "@jupyter-widgets/base",
            "_view_module_version": "1.2.0",
            "_view_name": "LayoutView",
            "align_content": null,
            "align_items": null,
            "align_self": null,
            "border": null,
            "bottom": null,
            "display": null,
            "flex": null,
            "flex_flow": null,
            "grid_area": null,
            "grid_auto_columns": null,
            "grid_auto_flow": null,
            "grid_auto_rows": null,
            "grid_column": null,
            "grid_gap": null,
            "grid_row": null,
            "grid_template_areas": null,
            "grid_template_columns": null,
            "grid_template_rows": null,
            "height": null,
            "justify_content": null,
            "justify_items": null,
            "left": null,
            "margin": null,
            "max_height": null,
            "max_width": null,
            "min_height": null,
            "min_width": null,
            "object_fit": null,
            "object_position": null,
            "order": null,
            "overflow": null,
            "overflow_x": null,
            "overflow_y": null,
            "padding": null,
            "right": null,
            "top": null,
            "visibility": null,
            "width": null
          }
        },
        "142b11c79b72402a95dea39bc52959bd": {
          "model_module": "@jupyter-widgets/base",
          "model_name": "LayoutModel",
          "model_module_version": "1.2.0",
          "state": {
            "_model_module": "@jupyter-widgets/base",
            "_model_module_version": "1.2.0",
            "_model_name": "LayoutModel",
            "_view_count": null,
            "_view_module": "@jupyter-widgets/base",
            "_view_module_version": "1.2.0",
            "_view_name": "LayoutView",
            "align_content": null,
            "align_items": null,
            "align_self": null,
            "border": null,
            "bottom": null,
            "display": null,
            "flex": null,
            "flex_flow": null,
            "grid_area": null,
            "grid_auto_columns": null,
            "grid_auto_flow": null,
            "grid_auto_rows": null,
            "grid_column": null,
            "grid_gap": null,
            "grid_row": null,
            "grid_template_areas": null,
            "grid_template_columns": null,
            "grid_template_rows": null,
            "height": null,
            "justify_content": null,
            "justify_items": null,
            "left": null,
            "margin": null,
            "max_height": null,
            "max_width": null,
            "min_height": null,
            "min_width": null,
            "object_fit": null,
            "object_position": null,
            "order": null,
            "overflow": null,
            "overflow_x": null,
            "overflow_y": null,
            "padding": null,
            "right": null,
            "top": null,
            "visibility": null,
            "width": null
          }
        },
        "3afba7b79bdb4a7598a19903297ee3c0": {
          "model_module": "@jupyter-widgets/controls",
          "model_name": "DescriptionStyleModel",
          "model_module_version": "1.5.0",
          "state": {
            "_model_module": "@jupyter-widgets/controls",
            "_model_module_version": "1.5.0",
            "_model_name": "DescriptionStyleModel",
            "_view_count": null,
            "_view_module": "@jupyter-widgets/base",
            "_view_module_version": "1.2.0",
            "_view_name": "StyleView",
            "description_width": ""
          }
        },
        "15024a8f2a8647bab324aa860a1e131b": {
          "model_module": "@jupyter-widgets/base",
          "model_name": "LayoutModel",
          "model_module_version": "1.2.0",
          "state": {
            "_model_module": "@jupyter-widgets/base",
            "_model_module_version": "1.2.0",
            "_model_name": "LayoutModel",
            "_view_count": null,
            "_view_module": "@jupyter-widgets/base",
            "_view_module_version": "1.2.0",
            "_view_name": "LayoutView",
            "align_content": null,
            "align_items": null,
            "align_self": null,
            "border": null,
            "bottom": null,
            "display": null,
            "flex": null,
            "flex_flow": null,
            "grid_area": null,
            "grid_auto_columns": null,
            "grid_auto_flow": null,
            "grid_auto_rows": null,
            "grid_column": null,
            "grid_gap": null,
            "grid_row": null,
            "grid_template_areas": null,
            "grid_template_columns": null,
            "grid_template_rows": null,
            "height": null,
            "justify_content": null,
            "justify_items": null,
            "left": null,
            "margin": null,
            "max_height": null,
            "max_width": null,
            "min_height": null,
            "min_width": null,
            "object_fit": null,
            "object_position": null,
            "order": null,
            "overflow": null,
            "overflow_x": null,
            "overflow_y": null,
            "padding": null,
            "right": null,
            "top": null,
            "visibility": null,
            "width": null
          }
        },
        "c4715a202f9a40a1b6926333ba8067e1": {
          "model_module": "@jupyter-widgets/controls",
          "model_name": "ProgressStyleModel",
          "model_module_version": "1.5.0",
          "state": {
            "_model_module": "@jupyter-widgets/controls",
            "_model_module_version": "1.5.0",
            "_model_name": "ProgressStyleModel",
            "_view_count": null,
            "_view_module": "@jupyter-widgets/base",
            "_view_module_version": "1.2.0",
            "_view_name": "StyleView",
            "bar_color": null,
            "description_width": ""
          }
        },
        "55f34ee3a8f743d6bbd5164ef52e8c4e": {
          "model_module": "@jupyter-widgets/base",
          "model_name": "LayoutModel",
          "model_module_version": "1.2.0",
          "state": {
            "_model_module": "@jupyter-widgets/base",
            "_model_module_version": "1.2.0",
            "_model_name": "LayoutModel",
            "_view_count": null,
            "_view_module": "@jupyter-widgets/base",
            "_view_module_version": "1.2.0",
            "_view_name": "LayoutView",
            "align_content": null,
            "align_items": null,
            "align_self": null,
            "border": null,
            "bottom": null,
            "display": null,
            "flex": null,
            "flex_flow": null,
            "grid_area": null,
            "grid_auto_columns": null,
            "grid_auto_flow": null,
            "grid_auto_rows": null,
            "grid_column": null,
            "grid_gap": null,
            "grid_row": null,
            "grid_template_areas": null,
            "grid_template_columns": null,
            "grid_template_rows": null,
            "height": null,
            "justify_content": null,
            "justify_items": null,
            "left": null,
            "margin": null,
            "max_height": null,
            "max_width": null,
            "min_height": null,
            "min_width": null,
            "object_fit": null,
            "object_position": null,
            "order": null,
            "overflow": null,
            "overflow_x": null,
            "overflow_y": null,
            "padding": null,
            "right": null,
            "top": null,
            "visibility": null,
            "width": null
          }
        },
        "7bb035d9f27140c190cfe41af2c9410b": {
          "model_module": "@jupyter-widgets/controls",
          "model_name": "DescriptionStyleModel",
          "model_module_version": "1.5.0",
          "state": {
            "_model_module": "@jupyter-widgets/controls",
            "_model_module_version": "1.5.0",
            "_model_name": "DescriptionStyleModel",
            "_view_count": null,
            "_view_module": "@jupyter-widgets/base",
            "_view_module_version": "1.2.0",
            "_view_name": "StyleView",
            "description_width": ""
          }
        },
        "d5f3500a5c0c41c984d653dbc66a2343": {
          "model_module": "@jupyter-widgets/controls",
          "model_name": "HBoxModel",
          "model_module_version": "1.5.0",
          "state": {
            "_dom_classes": [],
            "_model_module": "@jupyter-widgets/controls",
            "_model_module_version": "1.5.0",
            "_model_name": "HBoxModel",
            "_view_count": null,
            "_view_module": "@jupyter-widgets/controls",
            "_view_module_version": "1.5.0",
            "_view_name": "HBoxView",
            "box_style": "",
            "children": [
              "IPY_MODEL_c95b7286cd7d4251bf7de06edf471453",
              "IPY_MODEL_a659813b1c1c4d508ace15f4f819c379",
              "IPY_MODEL_9502f291720c44829516d61d784c6186"
            ],
            "layout": "IPY_MODEL_bca7baba4cc24cf389e3a9d9479437fd"
          }
        },
        "c95b7286cd7d4251bf7de06edf471453": {
          "model_module": "@jupyter-widgets/controls",
          "model_name": "HTMLModel",
          "model_module_version": "1.5.0",
          "state": {
            "_dom_classes": [],
            "_model_module": "@jupyter-widgets/controls",
            "_model_module_version": "1.5.0",
            "_model_name": "HTMLModel",
            "_view_count": null,
            "_view_module": "@jupyter-widgets/controls",
            "_view_module_version": "1.5.0",
            "_view_name": "HTMLView",
            "description": "",
            "description_tooltip": null,
            "layout": "IPY_MODEL_0446c7e16ef342eaa2128bee94bac3cf",
            "placeholder": "​",
            "style": "IPY_MODEL_64c4cff76e744649b4de66e3a1a35d3c",
            "value": "Map: 100%"
          }
        },
        "a659813b1c1c4d508ace15f4f819c379": {
          "model_module": "@jupyter-widgets/controls",
          "model_name": "FloatProgressModel",
          "model_module_version": "1.5.0",
          "state": {
            "_dom_classes": [],
            "_model_module": "@jupyter-widgets/controls",
            "_model_module_version": "1.5.0",
            "_model_name": "FloatProgressModel",
            "_view_count": null,
            "_view_module": "@jupyter-widgets/controls",
            "_view_module_version": "1.5.0",
            "_view_name": "ProgressView",
            "bar_style": "success",
            "description": "",
            "description_tooltip": null,
            "layout": "IPY_MODEL_e08c9e614b8f43a3b3476ff6bc16d7b2",
            "max": 9919,
            "min": 0,
            "orientation": "horizontal",
            "style": "IPY_MODEL_f31a93b485a942ebaf0bcdb5c47a6c13",
            "value": 9919
          }
        },
        "9502f291720c44829516d61d784c6186": {
          "model_module": "@jupyter-widgets/controls",
          "model_name": "HTMLModel",
          "model_module_version": "1.5.0",
          "state": {
            "_dom_classes": [],
            "_model_module": "@jupyter-widgets/controls",
            "_model_module_version": "1.5.0",
            "_model_name": "HTMLModel",
            "_view_count": null,
            "_view_module": "@jupyter-widgets/controls",
            "_view_module_version": "1.5.0",
            "_view_name": "HTMLView",
            "description": "",
            "description_tooltip": null,
            "layout": "IPY_MODEL_2e268349832d4f0597707c92a715c302",
            "placeholder": "​",
            "style": "IPY_MODEL_be448ce9baed45e6a49dec1ca2da0acb",
            "value": " 9919/9919 [00:03&lt;00:00, 3492.64 examples/s]"
          }
        },
        "bca7baba4cc24cf389e3a9d9479437fd": {
          "model_module": "@jupyter-widgets/base",
          "model_name": "LayoutModel",
          "model_module_version": "1.2.0",
          "state": {
            "_model_module": "@jupyter-widgets/base",
            "_model_module_version": "1.2.0",
            "_model_name": "LayoutModel",
            "_view_count": null,
            "_view_module": "@jupyter-widgets/base",
            "_view_module_version": "1.2.0",
            "_view_name": "LayoutView",
            "align_content": null,
            "align_items": null,
            "align_self": null,
            "border": null,
            "bottom": null,
            "display": null,
            "flex": null,
            "flex_flow": null,
            "grid_area": null,
            "grid_auto_columns": null,
            "grid_auto_flow": null,
            "grid_auto_rows": null,
            "grid_column": null,
            "grid_gap": null,
            "grid_row": null,
            "grid_template_areas": null,
            "grid_template_columns": null,
            "grid_template_rows": null,
            "height": null,
            "justify_content": null,
            "justify_items": null,
            "left": null,
            "margin": null,
            "max_height": null,
            "max_width": null,
            "min_height": null,
            "min_width": null,
            "object_fit": null,
            "object_position": null,
            "order": null,
            "overflow": null,
            "overflow_x": null,
            "overflow_y": null,
            "padding": null,
            "right": null,
            "top": null,
            "visibility": null,
            "width": null
          }
        },
        "0446c7e16ef342eaa2128bee94bac3cf": {
          "model_module": "@jupyter-widgets/base",
          "model_name": "LayoutModel",
          "model_module_version": "1.2.0",
          "state": {
            "_model_module": "@jupyter-widgets/base",
            "_model_module_version": "1.2.0",
            "_model_name": "LayoutModel",
            "_view_count": null,
            "_view_module": "@jupyter-widgets/base",
            "_view_module_version": "1.2.0",
            "_view_name": "LayoutView",
            "align_content": null,
            "align_items": null,
            "align_self": null,
            "border": null,
            "bottom": null,
            "display": null,
            "flex": null,
            "flex_flow": null,
            "grid_area": null,
            "grid_auto_columns": null,
            "grid_auto_flow": null,
            "grid_auto_rows": null,
            "grid_column": null,
            "grid_gap": null,
            "grid_row": null,
            "grid_template_areas": null,
            "grid_template_columns": null,
            "grid_template_rows": null,
            "height": null,
            "justify_content": null,
            "justify_items": null,
            "left": null,
            "margin": null,
            "max_height": null,
            "max_width": null,
            "min_height": null,
            "min_width": null,
            "object_fit": null,
            "object_position": null,
            "order": null,
            "overflow": null,
            "overflow_x": null,
            "overflow_y": null,
            "padding": null,
            "right": null,
            "top": null,
            "visibility": null,
            "width": null
          }
        },
        "64c4cff76e744649b4de66e3a1a35d3c": {
          "model_module": "@jupyter-widgets/controls",
          "model_name": "DescriptionStyleModel",
          "model_module_version": "1.5.0",
          "state": {
            "_model_module": "@jupyter-widgets/controls",
            "_model_module_version": "1.5.0",
            "_model_name": "DescriptionStyleModel",
            "_view_count": null,
            "_view_module": "@jupyter-widgets/base",
            "_view_module_version": "1.2.0",
            "_view_name": "StyleView",
            "description_width": ""
          }
        },
        "e08c9e614b8f43a3b3476ff6bc16d7b2": {
          "model_module": "@jupyter-widgets/base",
          "model_name": "LayoutModel",
          "model_module_version": "1.2.0",
          "state": {
            "_model_module": "@jupyter-widgets/base",
            "_model_module_version": "1.2.0",
            "_model_name": "LayoutModel",
            "_view_count": null,
            "_view_module": "@jupyter-widgets/base",
            "_view_module_version": "1.2.0",
            "_view_name": "LayoutView",
            "align_content": null,
            "align_items": null,
            "align_self": null,
            "border": null,
            "bottom": null,
            "display": null,
            "flex": null,
            "flex_flow": null,
            "grid_area": null,
            "grid_auto_columns": null,
            "grid_auto_flow": null,
            "grid_auto_rows": null,
            "grid_column": null,
            "grid_gap": null,
            "grid_row": null,
            "grid_template_areas": null,
            "grid_template_columns": null,
            "grid_template_rows": null,
            "height": null,
            "justify_content": null,
            "justify_items": null,
            "left": null,
            "margin": null,
            "max_height": null,
            "max_width": null,
            "min_height": null,
            "min_width": null,
            "object_fit": null,
            "object_position": null,
            "order": null,
            "overflow": null,
            "overflow_x": null,
            "overflow_y": null,
            "padding": null,
            "right": null,
            "top": null,
            "visibility": null,
            "width": null
          }
        },
        "f31a93b485a942ebaf0bcdb5c47a6c13": {
          "model_module": "@jupyter-widgets/controls",
          "model_name": "ProgressStyleModel",
          "model_module_version": "1.5.0",
          "state": {
            "_model_module": "@jupyter-widgets/controls",
            "_model_module_version": "1.5.0",
            "_model_name": "ProgressStyleModel",
            "_view_count": null,
            "_view_module": "@jupyter-widgets/base",
            "_view_module_version": "1.2.0",
            "_view_name": "StyleView",
            "bar_color": null,
            "description_width": ""
          }
        },
        "2e268349832d4f0597707c92a715c302": {
          "model_module": "@jupyter-widgets/base",
          "model_name": "LayoutModel",
          "model_module_version": "1.2.0",
          "state": {
            "_model_module": "@jupyter-widgets/base",
            "_model_module_version": "1.2.0",
            "_model_name": "LayoutModel",
            "_view_count": null,
            "_view_module": "@jupyter-widgets/base",
            "_view_module_version": "1.2.0",
            "_view_name": "LayoutView",
            "align_content": null,
            "align_items": null,
            "align_self": null,
            "border": null,
            "bottom": null,
            "display": null,
            "flex": null,
            "flex_flow": null,
            "grid_area": null,
            "grid_auto_columns": null,
            "grid_auto_flow": null,
            "grid_auto_rows": null,
            "grid_column": null,
            "grid_gap": null,
            "grid_row": null,
            "grid_template_areas": null,
            "grid_template_columns": null,
            "grid_template_rows": null,
            "height": null,
            "justify_content": null,
            "justify_items": null,
            "left": null,
            "margin": null,
            "max_height": null,
            "max_width": null,
            "min_height": null,
            "min_width": null,
            "object_fit": null,
            "object_position": null,
            "order": null,
            "overflow": null,
            "overflow_x": null,
            "overflow_y": null,
            "padding": null,
            "right": null,
            "top": null,
            "visibility": null,
            "width": null
          }
        },
        "be448ce9baed45e6a49dec1ca2da0acb": {
          "model_module": "@jupyter-widgets/controls",
          "model_name": "DescriptionStyleModel",
          "model_module_version": "1.5.0",
          "state": {
            "_model_module": "@jupyter-widgets/controls",
            "_model_module_version": "1.5.0",
            "_model_name": "DescriptionStyleModel",
            "_view_count": null,
            "_view_module": "@jupyter-widgets/base",
            "_view_module_version": "1.2.0",
            "_view_name": "StyleView",
            "description_width": ""
          }
        },
        "da19e9c1dc6c4f4f85b5b78bb02809fb": {
          "model_module": "@jupyter-widgets/controls",
          "model_name": "HBoxModel",
          "model_module_version": "1.5.0",
          "state": {
            "_dom_classes": [],
            "_model_module": "@jupyter-widgets/controls",
            "_model_module_version": "1.5.0",
            "_model_name": "HBoxModel",
            "_view_count": null,
            "_view_module": "@jupyter-widgets/controls",
            "_view_module_version": "1.5.0",
            "_view_name": "HBoxView",
            "box_style": "",
            "children": [
              "IPY_MODEL_364ace68569a4b07bb407423e54f5410",
              "IPY_MODEL_a851e9c7de0c4505a636b6aa086a3445",
              "IPY_MODEL_a8b5960223774e71bea30bdad1e5a146"
            ],
            "layout": "IPY_MODEL_1c65b3ac62694c11976146fdca27746f"
          }
        },
        "364ace68569a4b07bb407423e54f5410": {
          "model_module": "@jupyter-widgets/controls",
          "model_name": "HTMLModel",
          "model_module_version": "1.5.0",
          "state": {
            "_dom_classes": [],
            "_model_module": "@jupyter-widgets/controls",
            "_model_module_version": "1.5.0",
            "_model_name": "HTMLModel",
            "_view_count": null,
            "_view_module": "@jupyter-widgets/controls",
            "_view_module_version": "1.5.0",
            "_view_name": "HTMLView",
            "description": "",
            "description_tooltip": null,
            "layout": "IPY_MODEL_f94cd8098a6a4632ac229ad968a734cf",
            "placeholder": "​",
            "style": "IPY_MODEL_5bdcf2c741a54ccb9847a52a464da704",
            "value": "Map: 100%"
          }
        },
        "a851e9c7de0c4505a636b6aa086a3445": {
          "model_module": "@jupyter-widgets/controls",
          "model_name": "FloatProgressModel",
          "model_module_version": "1.5.0",
          "state": {
            "_dom_classes": [],
            "_model_module": "@jupyter-widgets/controls",
            "_model_module_version": "1.5.0",
            "_model_name": "FloatProgressModel",
            "_view_count": null,
            "_view_module": "@jupyter-widgets/controls",
            "_view_module_version": "1.5.0",
            "_view_name": "ProgressView",
            "bar_style": "success",
            "description": "",
            "description_tooltip": null,
            "layout": "IPY_MODEL_cd0ec3e542104bf797730af7d6afc6d1",
            "max": 9919,
            "min": 0,
            "orientation": "horizontal",
            "style": "IPY_MODEL_ea9ee2d57de949fb85bb4019b872247c",
            "value": 9919
          }
        },
        "a8b5960223774e71bea30bdad1e5a146": {
          "model_module": "@jupyter-widgets/controls",
          "model_name": "HTMLModel",
          "model_module_version": "1.5.0",
          "state": {
            "_dom_classes": [],
            "_model_module": "@jupyter-widgets/controls",
            "_model_module_version": "1.5.0",
            "_model_name": "HTMLModel",
            "_view_count": null,
            "_view_module": "@jupyter-widgets/controls",
            "_view_module_version": "1.5.0",
            "_view_name": "HTMLView",
            "description": "",
            "description_tooltip": null,
            "layout": "IPY_MODEL_c2a3c9ad44564983a57d00f4ee14eaa2",
            "placeholder": "​",
            "style": "IPY_MODEL_2936e2d510e34d10a26c209367a9e002",
            "value": " 9919/9919 [00:03&lt;00:00, 2399.88 examples/s]"
          }
        },
        "1c65b3ac62694c11976146fdca27746f": {
          "model_module": "@jupyter-widgets/base",
          "model_name": "LayoutModel",
          "model_module_version": "1.2.0",
          "state": {
            "_model_module": "@jupyter-widgets/base",
            "_model_module_version": "1.2.0",
            "_model_name": "LayoutModel",
            "_view_count": null,
            "_view_module": "@jupyter-widgets/base",
            "_view_module_version": "1.2.0",
            "_view_name": "LayoutView",
            "align_content": null,
            "align_items": null,
            "align_self": null,
            "border": null,
            "bottom": null,
            "display": null,
            "flex": null,
            "flex_flow": null,
            "grid_area": null,
            "grid_auto_columns": null,
            "grid_auto_flow": null,
            "grid_auto_rows": null,
            "grid_column": null,
            "grid_gap": null,
            "grid_row": null,
            "grid_template_areas": null,
            "grid_template_columns": null,
            "grid_template_rows": null,
            "height": null,
            "justify_content": null,
            "justify_items": null,
            "left": null,
            "margin": null,
            "max_height": null,
            "max_width": null,
            "min_height": null,
            "min_width": null,
            "object_fit": null,
            "object_position": null,
            "order": null,
            "overflow": null,
            "overflow_x": null,
            "overflow_y": null,
            "padding": null,
            "right": null,
            "top": null,
            "visibility": null,
            "width": null
          }
        },
        "f94cd8098a6a4632ac229ad968a734cf": {
          "model_module": "@jupyter-widgets/base",
          "model_name": "LayoutModel",
          "model_module_version": "1.2.0",
          "state": {
            "_model_module": "@jupyter-widgets/base",
            "_model_module_version": "1.2.0",
            "_model_name": "LayoutModel",
            "_view_count": null,
            "_view_module": "@jupyter-widgets/base",
            "_view_module_version": "1.2.0",
            "_view_name": "LayoutView",
            "align_content": null,
            "align_items": null,
            "align_self": null,
            "border": null,
            "bottom": null,
            "display": null,
            "flex": null,
            "flex_flow": null,
            "grid_area": null,
            "grid_auto_columns": null,
            "grid_auto_flow": null,
            "grid_auto_rows": null,
            "grid_column": null,
            "grid_gap": null,
            "grid_row": null,
            "grid_template_areas": null,
            "grid_template_columns": null,
            "grid_template_rows": null,
            "height": null,
            "justify_content": null,
            "justify_items": null,
            "left": null,
            "margin": null,
            "max_height": null,
            "max_width": null,
            "min_height": null,
            "min_width": null,
            "object_fit": null,
            "object_position": null,
            "order": null,
            "overflow": null,
            "overflow_x": null,
            "overflow_y": null,
            "padding": null,
            "right": null,
            "top": null,
            "visibility": null,
            "width": null
          }
        },
        "5bdcf2c741a54ccb9847a52a464da704": {
          "model_module": "@jupyter-widgets/controls",
          "model_name": "DescriptionStyleModel",
          "model_module_version": "1.5.0",
          "state": {
            "_model_module": "@jupyter-widgets/controls",
            "_model_module_version": "1.5.0",
            "_model_name": "DescriptionStyleModel",
            "_view_count": null,
            "_view_module": "@jupyter-widgets/base",
            "_view_module_version": "1.2.0",
            "_view_name": "StyleView",
            "description_width": ""
          }
        },
        "cd0ec3e542104bf797730af7d6afc6d1": {
          "model_module": "@jupyter-widgets/base",
          "model_name": "LayoutModel",
          "model_module_version": "1.2.0",
          "state": {
            "_model_module": "@jupyter-widgets/base",
            "_model_module_version": "1.2.0",
            "_model_name": "LayoutModel",
            "_view_count": null,
            "_view_module": "@jupyter-widgets/base",
            "_view_module_version": "1.2.0",
            "_view_name": "LayoutView",
            "align_content": null,
            "align_items": null,
            "align_self": null,
            "border": null,
            "bottom": null,
            "display": null,
            "flex": null,
            "flex_flow": null,
            "grid_area": null,
            "grid_auto_columns": null,
            "grid_auto_flow": null,
            "grid_auto_rows": null,
            "grid_column": null,
            "grid_gap": null,
            "grid_row": null,
            "grid_template_areas": null,
            "grid_template_columns": null,
            "grid_template_rows": null,
            "height": null,
            "justify_content": null,
            "justify_items": null,
            "left": null,
            "margin": null,
            "max_height": null,
            "max_width": null,
            "min_height": null,
            "min_width": null,
            "object_fit": null,
            "object_position": null,
            "order": null,
            "overflow": null,
            "overflow_x": null,
            "overflow_y": null,
            "padding": null,
            "right": null,
            "top": null,
            "visibility": null,
            "width": null
          }
        },
        "ea9ee2d57de949fb85bb4019b872247c": {
          "model_module": "@jupyter-widgets/controls",
          "model_name": "ProgressStyleModel",
          "model_module_version": "1.5.0",
          "state": {
            "_model_module": "@jupyter-widgets/controls",
            "_model_module_version": "1.5.0",
            "_model_name": "ProgressStyleModel",
            "_view_count": null,
            "_view_module": "@jupyter-widgets/base",
            "_view_module_version": "1.2.0",
            "_view_name": "StyleView",
            "bar_color": null,
            "description_width": ""
          }
        },
        "c2a3c9ad44564983a57d00f4ee14eaa2": {
          "model_module": "@jupyter-widgets/base",
          "model_name": "LayoutModel",
          "model_module_version": "1.2.0",
          "state": {
            "_model_module": "@jupyter-widgets/base",
            "_model_module_version": "1.2.0",
            "_model_name": "LayoutModel",
            "_view_count": null,
            "_view_module": "@jupyter-widgets/base",
            "_view_module_version": "1.2.0",
            "_view_name": "LayoutView",
            "align_content": null,
            "align_items": null,
            "align_self": null,
            "border": null,
            "bottom": null,
            "display": null,
            "flex": null,
            "flex_flow": null,
            "grid_area": null,
            "grid_auto_columns": null,
            "grid_auto_flow": null,
            "grid_auto_rows": null,
            "grid_column": null,
            "grid_gap": null,
            "grid_row": null,
            "grid_template_areas": null,
            "grid_template_columns": null,
            "grid_template_rows": null,
            "height": null,
            "justify_content": null,
            "justify_items": null,
            "left": null,
            "margin": null,
            "max_height": null,
            "max_width": null,
            "min_height": null,
            "min_width": null,
            "object_fit": null,
            "object_position": null,
            "order": null,
            "overflow": null,
            "overflow_x": null,
            "overflow_y": null,
            "padding": null,
            "right": null,
            "top": null,
            "visibility": null,
            "width": null
          }
        },
        "2936e2d510e34d10a26c209367a9e002": {
          "model_module": "@jupyter-widgets/controls",
          "model_name": "DescriptionStyleModel",
          "model_module_version": "1.5.0",
          "state": {
            "_model_module": "@jupyter-widgets/controls",
            "_model_module_version": "1.5.0",
            "_model_name": "DescriptionStyleModel",
            "_view_count": null,
            "_view_module": "@jupyter-widgets/base",
            "_view_module_version": "1.2.0",
            "_view_name": "StyleView",
            "description_width": ""
          }
        }
      }
    }
  },
  "nbformat": 4,
  "nbformat_minor": 5
}