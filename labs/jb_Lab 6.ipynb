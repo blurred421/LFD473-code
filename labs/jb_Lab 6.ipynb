{
  "cells": [
    {
      "cell_type": "markdown",
      "metadata": {
        "id": "view-in-github",
        "colab_type": "text"
      },
      "source": [
        "<a href=\"https://colab.research.google.com/github/blurred421/LFD473-code/blob/main/labs/jb_Lab%206.ipynb\" target=\"_parent\"><img src=\"https://colab.research.google.com/assets/colab-badge.svg\" alt=\"Open In Colab\"/></a>"
      ]
    },
    {
      "cell_type": "markdown",
      "id": "d38c5bee",
      "metadata": {
        "id": "d38c5bee"
      },
      "source": [
        "# Lab Instructions\n",
        "\n",
        "In the lab, you're presented a task such as building a dataset, training a model, or writing a training loop, and we'll provide the code structured in such a way that you can fill in the blanks in the code using the knowledge you acquired in the chapters that precede the lab. You should be able to find appropriate snippets of code in the course content that work well in the lab with minor or no adjustments.\n",
        "\n",
        "The blanks in the code are indicated by ellipsis (`...`) and comments (`# write your code here`).\n",
        "\n",
        "In some cases, we'll provide you partial code to ensure the right variables are populated and any code that follows it runs accordingly.\n",
        "\n",
        "```python\n",
        "# write your code here\n",
        "x = ...\n",
        "```\n",
        "\n",
        "The solution should be a single statement that replaces the ellipsis, such as:\n",
        "\n",
        "```python\n",
        "# write your code here\n",
        "x = [0, 1, 2]\n",
        "```\n",
        "\n",
        "In some other cases, when there is no new variable being created, the blanks are shown like in the example below:\n",
        "\n",
        "```python\n",
        "# write your code here\n",
        "...\n",
        "```\n",
        "\n",
        "Although we're showing you only a single ellipsis (`...`), you may have to write more than one line of code to complete the step, such as:\n",
        "\n",
        "```python\n",
        "# write your code here\n",
        "for i, xi in enumerate(x):\n",
        "    x[i] = xi * 2\n",
        "```"
      ]
    },
    {
      "cell_type": "markdown",
      "id": "c1279c51",
      "metadata": {
        "id": "c1279c51"
      },
      "source": [
        "## Installation Notes\n",
        "\n",
        "To run this notebook on Google Colab, you will need to install the following libraries: transformers, evaluate, and datasets.\n",
        "\n",
        "In Google Colab, you can run the following command to install these libraries:"
      ]
    },
    {
      "cell_type": "code",
      "execution_count": 9,
      "id": "07f5ba99",
      "metadata": {
        "id": "07f5ba99",
        "colab": {
          "base_uri": "https://localhost:8080/"
        },
        "outputId": "a6a8d8d9-01e9-484b-e97d-cf1c6849eaeb"
      },
      "outputs": [
        {
          "output_type": "stream",
          "name": "stdout",
          "text": [
            "Requirement already satisfied: transformers in /usr/local/lib/python3.11/dist-packages (4.48.3)\n",
            "Requirement already satisfied: evaluate in /usr/local/lib/python3.11/dist-packages (0.4.3)\n",
            "Requirement already satisfied: datasets in /usr/local/lib/python3.11/dist-packages (3.4.0)\n",
            "Collecting gensim\n",
            "  Downloading gensim-4.3.3-cp311-cp311-manylinux_2_17_x86_64.manylinux2014_x86_64.whl.metadata (8.1 kB)\n",
            "Requirement already satisfied: filelock in /usr/local/lib/python3.11/dist-packages (from transformers) (3.17.0)\n",
            "Requirement already satisfied: huggingface-hub<1.0,>=0.24.0 in /usr/local/lib/python3.11/dist-packages (from transformers) (0.28.1)\n",
            "Requirement already satisfied: numpy>=1.17 in /usr/local/lib/python3.11/dist-packages (from transformers) (1.26.4)\n",
            "Requirement already satisfied: packaging>=20.0 in /usr/local/lib/python3.11/dist-packages (from transformers) (24.2)\n",
            "Requirement already satisfied: pyyaml>=5.1 in /usr/local/lib/python3.11/dist-packages (from transformers) (6.0.2)\n",
            "Requirement already satisfied: regex!=2019.12.17 in /usr/local/lib/python3.11/dist-packages (from transformers) (2024.11.6)\n",
            "Requirement already satisfied: requests in /usr/local/lib/python3.11/dist-packages (from transformers) (2.32.3)\n",
            "Requirement already satisfied: tokenizers<0.22,>=0.21 in /usr/local/lib/python3.11/dist-packages (from transformers) (0.21.0)\n",
            "Requirement already satisfied: safetensors>=0.4.1 in /usr/local/lib/python3.11/dist-packages (from transformers) (0.5.3)\n",
            "Requirement already satisfied: tqdm>=4.27 in /usr/local/lib/python3.11/dist-packages (from transformers) (4.67.1)\n",
            "Requirement already satisfied: dill in /usr/local/lib/python3.11/dist-packages (from evaluate) (0.3.8)\n",
            "Requirement already satisfied: pandas in /usr/local/lib/python3.11/dist-packages (from evaluate) (2.2.2)\n",
            "Requirement already satisfied: xxhash in /usr/local/lib/python3.11/dist-packages (from evaluate) (3.5.0)\n",
            "Requirement already satisfied: multiprocess in /usr/local/lib/python3.11/dist-packages (from evaluate) (0.70.16)\n",
            "Requirement already satisfied: fsspec>=2021.05.0 in /usr/local/lib/python3.11/dist-packages (from fsspec[http]>=2021.05.0->evaluate) (2024.10.0)\n",
            "Requirement already satisfied: pyarrow>=15.0.0 in /usr/local/lib/python3.11/dist-packages (from datasets) (18.1.0)\n",
            "Requirement already satisfied: aiohttp in /usr/local/lib/python3.11/dist-packages (from datasets) (3.11.13)\n",
            "Collecting scipy<1.14.0,>=1.7.0 (from gensim)\n",
            "  Downloading scipy-1.13.1-cp311-cp311-manylinux_2_17_x86_64.manylinux2014_x86_64.whl.metadata (60 kB)\n",
            "\u001b[2K     \u001b[90m━━━━━━━━━━━━━━━━━━━━━━━━━━━━━━━━━━━━━━━━\u001b[0m \u001b[32m60.6/60.6 kB\u001b[0m \u001b[31m2.8 MB/s\u001b[0m eta \u001b[36m0:00:00\u001b[0m\n",
            "\u001b[?25hRequirement already satisfied: smart-open>=1.8.1 in /usr/local/lib/python3.11/dist-packages (from gensim) (7.1.0)\n",
            "Requirement already satisfied: aiohappyeyeballs>=2.3.0 in /usr/local/lib/python3.11/dist-packages (from aiohttp->datasets) (2.6.1)\n",
            "Requirement already satisfied: aiosignal>=1.1.2 in /usr/local/lib/python3.11/dist-packages (from aiohttp->datasets) (1.3.2)\n",
            "Requirement already satisfied: attrs>=17.3.0 in /usr/local/lib/python3.11/dist-packages (from aiohttp->datasets) (25.2.0)\n",
            "Requirement already satisfied: frozenlist>=1.1.1 in /usr/local/lib/python3.11/dist-packages (from aiohttp->datasets) (1.5.0)\n",
            "Requirement already satisfied: multidict<7.0,>=4.5 in /usr/local/lib/python3.11/dist-packages (from aiohttp->datasets) (6.1.0)\n",
            "Requirement already satisfied: propcache>=0.2.0 in /usr/local/lib/python3.11/dist-packages (from aiohttp->datasets) (0.3.0)\n",
            "Requirement already satisfied: yarl<2.0,>=1.17.0 in /usr/local/lib/python3.11/dist-packages (from aiohttp->datasets) (1.18.3)\n",
            "Requirement already satisfied: typing-extensions>=3.7.4.3 in /usr/local/lib/python3.11/dist-packages (from huggingface-hub<1.0,>=0.24.0->transformers) (4.12.2)\n",
            "Requirement already satisfied: charset-normalizer<4,>=2 in /usr/local/lib/python3.11/dist-packages (from requests->transformers) (3.4.1)\n",
            "Requirement already satisfied: idna<4,>=2.5 in /usr/local/lib/python3.11/dist-packages (from requests->transformers) (3.10)\n",
            "Requirement already satisfied: urllib3<3,>=1.21.1 in /usr/local/lib/python3.11/dist-packages (from requests->transformers) (2.3.0)\n",
            "Requirement already satisfied: certifi>=2017.4.17 in /usr/local/lib/python3.11/dist-packages (from requests->transformers) (2025.1.31)\n",
            "Requirement already satisfied: wrapt in /usr/local/lib/python3.11/dist-packages (from smart-open>=1.8.1->gensim) (1.17.2)\n",
            "Requirement already satisfied: python-dateutil>=2.8.2 in /usr/local/lib/python3.11/dist-packages (from pandas->evaluate) (2.8.2)\n",
            "Requirement already satisfied: pytz>=2020.1 in /usr/local/lib/python3.11/dist-packages (from pandas->evaluate) (2025.1)\n",
            "Requirement already satisfied: tzdata>=2022.7 in /usr/local/lib/python3.11/dist-packages (from pandas->evaluate) (2025.1)\n",
            "Requirement already satisfied: six>=1.5 in /usr/local/lib/python3.11/dist-packages (from python-dateutil>=2.8.2->pandas->evaluate) (1.17.0)\n",
            "Downloading gensim-4.3.3-cp311-cp311-manylinux_2_17_x86_64.manylinux2014_x86_64.whl (26.7 MB)\n",
            "\u001b[2K   \u001b[90m━━━━━━━━━━━━━━━━━━━━━━━━━━━━━━━━━━━━━━━━\u001b[0m \u001b[32m26.7/26.7 MB\u001b[0m \u001b[31m45.3 MB/s\u001b[0m eta \u001b[36m0:00:00\u001b[0m\n",
            "\u001b[?25hDownloading scipy-1.13.1-cp311-cp311-manylinux_2_17_x86_64.manylinux2014_x86_64.whl (38.6 MB)\n",
            "\u001b[2K   \u001b[90m━━━━━━━━━━━━━━━━━━━━━━━━━━━━━━━━━━━━━━━━\u001b[0m \u001b[32m38.6/38.6 MB\u001b[0m \u001b[31m12.3 MB/s\u001b[0m eta \u001b[36m0:00:00\u001b[0m\n",
            "\u001b[?25hInstalling collected packages: scipy, gensim\n",
            "  Attempting uninstall: scipy\n",
            "    Found existing installation: scipy 1.14.1\n",
            "    Uninstalling scipy-1.14.1:\n",
            "      Successfully uninstalled scipy-1.14.1\n",
            "Successfully installed gensim-4.3.3 scipy-1.13.1\n"
          ]
        }
      ],
      "source": [
        "!pip install transformers evaluate datasets gensim"
      ]
    },
    {
      "cell_type": "markdown",
      "id": "231d8c75",
      "metadata": {
        "id": "231d8c75"
      },
      "source": [
        "## 15.10 Lab 6: Text Classification using Embeddings\n",
        "\n",
        "It is time to get our hands dirty! Let's use GloVe pretrained word embeddings as features for a multi-class linear classification model. It works like a linear regression model, but it produces four logits as output (one for each class in the AG News Dataset), and we'll use the softmax function to convert the logits into probabilities."
      ]
    },
    {
      "cell_type": "markdown",
      "id": "aff6bab2",
      "metadata": {
        "id": "aff6bab2"
      },
      "source": [
        "### 15.10.1 Recap\n",
        "\n",
        "In the last chapter, we loaded the AG News Dataset, cleaned it up of special characters and HTML tags, and discarded the title information, returning only labels and (cleaned) descriptions. Let's quickly retrace our steps here to prepare the dataset."
      ]
    },
    {
      "cell_type": "markdown",
      "id": "8b21e9cf",
      "metadata": {
        "id": "8b21e9cf"
      },
      "source": [
        "![](https://raw.githubusercontent.com/dvgodoy/assets/main/PyTorchInPractice/images/ch0/data_step1.png)\n",
        "\n",
        "First, we need to download the dataset. You can dowload the files from the following links:\n",
        "- `https://raw.githubusercontent.com/mhjabreel/CharCnn_Keras/master/data/ag_news_csv/train.csv`\n",
        "- `https://raw.githubusercontent.com/mhjabreel/CharCnn_Keras/master/data/ag_news_csv/test.csv`\n",
        "- `https://raw.githubusercontent.com/mhjabreel/CharCnn_Keras/master/data/ag_news_csv/classes.txt`\n",
        "\n",
        "Alternatively, you can download all files as a single compressed file instead:\n",
        "\n",
        "```\n",
        "https://github.com/dvgodoy/assets/raw/main/PyTorchInPractice/data/AGNews/agnews.zip\n",
        "```\n",
        "\n",
        "If you're running Google Colab, you can download the files using the commands below:"
      ]
    },
    {
      "cell_type": "code",
      "execution_count": 2,
      "id": "325391a5",
      "metadata": {
        "id": "325391a5",
        "colab": {
          "base_uri": "https://localhost:8080/"
        },
        "outputId": "dac86696-b3cd-4ec1-a9ed-2c63d081e8b5"
      },
      "outputs": [
        {
          "output_type": "stream",
          "name": "stdout",
          "text": [
            "--2025-03-15 02:13:55--  https://raw.githubusercontent.com/mhjabreel/CharCnn_Keras/master/data/ag_news_csv/train.csv\n",
            "Resolving raw.githubusercontent.com (raw.githubusercontent.com)... 185.199.111.133, 185.199.109.133, 185.199.108.133, ...\n",
            "Connecting to raw.githubusercontent.com (raw.githubusercontent.com)|185.199.111.133|:443... connected.\n",
            "HTTP request sent, awaiting response... 200 OK\n",
            "Length: 29470338 (28M) [text/plain]\n",
            "Saving to: ‘train.csv’\n",
            "\n",
            "train.csv           100%[===================>]  28.10M   169MB/s    in 0.2s    \n",
            "\n",
            "2025-03-15 02:13:56 (169 MB/s) - ‘train.csv’ saved [29470338/29470338]\n",
            "\n",
            "--2025-03-15 02:13:56--  https://raw.githubusercontent.com/mhjabreel/CharCnn_Keras/master/data/ag_news_csv/test.csv\n",
            "Resolving raw.githubusercontent.com (raw.githubusercontent.com)... 185.199.108.133, 185.199.109.133, 185.199.110.133, ...\n",
            "Connecting to raw.githubusercontent.com (raw.githubusercontent.com)|185.199.108.133|:443... connected.\n",
            "HTTP request sent, awaiting response... 200 OK\n",
            "Length: 1857427 (1.8M) [text/plain]\n",
            "Saving to: ‘test.csv’\n",
            "\n",
            "test.csv            100%[===================>]   1.77M  --.-KB/s    in 0.07s   \n",
            "\n",
            "2025-03-15 02:13:56 (26.2 MB/s) - ‘test.csv’ saved [1857427/1857427]\n",
            "\n",
            "--2025-03-15 02:13:56--  https://raw.githubusercontent.com/mhjabreel/CharCnn_Keras/master/data/ag_news_csv/classes.txt\n",
            "Resolving raw.githubusercontent.com (raw.githubusercontent.com)... 185.199.111.133, 185.199.110.133, 185.199.109.133, ...\n",
            "Connecting to raw.githubusercontent.com (raw.githubusercontent.com)|185.199.111.133|:443... connected.\n",
            "HTTP request sent, awaiting response... 200 OK\n",
            "Length: 31 [text/plain]\n",
            "Saving to: ‘classes.txt’\n",
            "\n",
            "classes.txt         100%[===================>]      31  --.-KB/s    in 0s      \n",
            "\n",
            "2025-03-15 02:13:57 (1.87 MB/s) - ‘classes.txt’ saved [31/31]\n",
            "\n"
          ]
        }
      ],
      "source": [
        "!wget https://raw.githubusercontent.com/mhjabreel/CharCnn_Keras/master/data/ag_news_csv/train.csv\n",
        "!wget https://raw.githubusercontent.com/mhjabreel/CharCnn_Keras/master/data/ag_news_csv/test.csv\n",
        "!wget https://raw.githubusercontent.com/mhjabreel/CharCnn_Keras/master/data/ag_news_csv/classes.txt"
      ]
    },
    {
      "cell_type": "markdown",
      "id": "456458d9",
      "metadata": {
        "id": "456458d9"
      },
      "source": [
        "![](https://raw.githubusercontent.com/dvgodoy/assets/main/PyTorchInPractice/images/ch0/data_step2.png)\n",
        "\n",
        "Next, let's do some data cleaning, getting rid of a few HTML tags, replacing some special characters, etc. Here is a non-exhaustive list of characters and tags for replacement:"
      ]
    },
    {
      "cell_type": "code",
      "execution_count": 3,
      "id": "85c82f2b",
      "metadata": {
        "id": "85c82f2b"
      },
      "outputs": [],
      "source": [
        "import numpy as np\n",
        "\n",
        "chr_codes = np.array([\n",
        "     36,   151,    38,  8220,   147,   148,   146,   225,   133,    39,  8221,  8212,   232,   149,   145,   233,\n",
        "  64257,  8217,   163,   160,    91,    93,  8211,  8482,   234,    37,  8364,   153,   195,   169\n",
        "])\n",
        "chr_subst = {f' #{c};':chr(c) for c in chr_codes}\n",
        "chr_subst.update({' amp;': '&', ' quot;': \"'\", ' hellip;': '...', ' nbsp;': ' ', '&lt;': '', '&gt;': '',\n",
        "                  '&lt;em&gt;': '', '&lt;/em&gt;': '', '&lt;strong&gt;': '', '&lt;/strong&gt;': ''})"
      ]
    },
    {
      "cell_type": "markdown",
      "id": "ed71c65b",
      "metadata": {
        "id": "ed71c65b"
      },
      "source": [
        "And here are a couple of helper functions we used to perform the cleanup:"
      ]
    },
    {
      "cell_type": "code",
      "execution_count": 4,
      "id": "c2041bb9",
      "metadata": {
        "id": "c2041bb9"
      },
      "outputs": [],
      "source": [
        "def replace_chars(sent):\n",
        "    to_replace = [c for c in list(chr_subst.keys()) if c in sent]\n",
        "    for c in to_replace:\n",
        "        sent = sent.replace(c, chr_subst[c])\n",
        "    return sent\n",
        "\n",
        "def preproc_description(desc):\n",
        "    desc = desc.replace('\\\\', ' ').strip()\n",
        "    return replace_chars(desc)"
      ]
    },
    {
      "cell_type": "markdown",
      "id": "e466147b",
      "metadata": {
        "id": "e466147b"
      },
      "source": [
        " After loading the CSV files using `load_dataset()` and building a `DatasetDict` out of them, we used the functions above to transform our datasets, cleaning up the text and converting the label into a 0-based numeric value:"
      ]
    },
    {
      "cell_type": "code",
      "execution_count": 5,
      "id": "1f31867b",
      "metadata": {
        "id": "1f31867b",
        "colab": {
          "base_uri": "https://localhost:8080/",
          "height": 145,
          "referenced_widgets": [
            "fcdf2e604b104c6aa84d349c4b2eccdf",
            "2b443fb0ead6422381a74fc8ad9f0aa7",
            "c6412ebcfbdc4939b1c6e9eaf61d631f",
            "69d85a554e21403abfd838959c489301",
            "c655f173a77948b8adec15529be2ae5e",
            "eaa4466b58254f9d866314e162dc9f6e",
            "66daa6b91c48473db462c8aa5b39305b",
            "6b781734210c41b2ab24472f525a60a6",
            "499fc9d19fa54dfea0f91e019fbb1804",
            "7a3b711f437a4f87858b54ff6829f281",
            "7b9556bf5e244b6c98680a464afed244",
            "58afa7221fa64e7ea61bf8dbe795fc68",
            "ac52d5983f074c6981c2d834a3252a8b",
            "2e7594566e444d3b9908498733331834",
            "2686d40ba17c44c28097c31d153e44da",
            "1891a3366d1544bebcb7cac59b2dec04",
            "73fabe115a0a431683a5b2dc8a7e5dd3",
            "9869b11dbf0c4ebc9bdfedc6995a56a2",
            "fc3ce31138034437a59a750e8030f33f",
            "007a5e818d564b0d8f2e3c6b1fd7423b",
            "9402d0ae966146efb73335eeccdf0374",
            "c9768e7a3c994519a32f67427c5088c6",
            "8926cb28218c4a4d8a70a66d58a95a84",
            "f2a36aaaace045afbe3a8885cbe0efc9",
            "71dee5a94d474205a867259a52ed5179",
            "5f7cfba061224a7382e3da259c188b18",
            "7da8267d4964441293dd77c3d169aee0",
            "52337d4ae9124ef587945b2fc8a3af22",
            "58cb46fd7e614f9380a6c8d70da54e52",
            "231e58c1d63b409d8ca7db1b4a876193",
            "b6a369c90b9f4f48865751738e9294c8",
            "c4f73a598f5e4d39a51730624e16fa6f",
            "57695f3bcf16432686bf52a662646ea1",
            "06043989b2264b58902d71eb55132747",
            "84f62d65feb24f53a8cd65c23f6400be",
            "dec4a2025ba244f3a0f408941bca1358",
            "c8a1bf60d06549eb9a96888e54eded28",
            "c0ec157a956c4271b7ee4580dfa9916b",
            "6e2a3b2ff51749d9916f48f0c553ec9d",
            "5552f2bb6c6247cfbcf7115b5702a731",
            "16b6a1fae69c4e81ad93c57f0a07b2d9",
            "9679053c0cf5435bab72a7c80e1f1713",
            "a3b5ee4a2ee2416bab3d2bd92155a33d",
            "c868d5f7235341d4a67e5fd2950aefd2"
          ]
        },
        "outputId": "e190be29-9df7-46fe-fa9c-3af0e571da46"
      },
      "outputs": [
        {
          "output_type": "display_data",
          "data": {
            "text/plain": [
              "Generating train split: 0 examples [00:00, ? examples/s]"
            ],
            "application/vnd.jupyter.widget-view+json": {
              "version_major": 2,
              "version_minor": 0,
              "model_id": "fcdf2e604b104c6aa84d349c4b2eccdf"
            }
          },
          "metadata": {}
        },
        {
          "output_type": "display_data",
          "data": {
            "text/plain": [
              "Generating train split: 0 examples [00:00, ? examples/s]"
            ],
            "application/vnd.jupyter.widget-view+json": {
              "version_major": 2,
              "version_minor": 0,
              "model_id": "58afa7221fa64e7ea61bf8dbe795fc68"
            }
          },
          "metadata": {}
        },
        {
          "output_type": "display_data",
          "data": {
            "text/plain": [
              "Map:   0%|          | 0/120000 [00:00<?, ? examples/s]"
            ],
            "application/vnd.jupyter.widget-view+json": {
              "version_major": 2,
              "version_minor": 0,
              "model_id": "8926cb28218c4a4d8a70a66d58a95a84"
            }
          },
          "metadata": {}
        },
        {
          "output_type": "display_data",
          "data": {
            "text/plain": [
              "Map:   0%|          | 0/7600 [00:00<?, ? examples/s]"
            ],
            "application/vnd.jupyter.widget-view+json": {
              "version_major": 2,
              "version_minor": 0,
              "model_id": "06043989b2264b58902d71eb55132747"
            }
          },
          "metadata": {}
        }
      ],
      "source": [
        "from datasets import load_dataset, Split, DatasetDict\n",
        "\n",
        "colnames = ['topic', 'title', 'news']\n",
        "\n",
        "train_ds = load_dataset(\"csv\", data_files='train.csv', sep=',', split=Split.ALL, column_names=colnames)\n",
        "test_ds = load_dataset(\"csv\", data_files='test.csv', sep=',', split=Split.ALL, column_names=colnames)\n",
        "\n",
        "datasets = DatasetDict({'train': train_ds, 'test': test_ds})\n",
        "datasets = datasets.map(lambda row: {'topic': row['topic']-1, 'news': preproc_description(row['news'])})\n",
        "datasets = datasets.select_columns(['topic', 'news'])"
      ]
    },
    {
      "cell_type": "markdown",
      "id": "6925cd6f",
      "metadata": {
        "id": "6925cd6f"
      },
      "source": [
        "### 15.10.2 Tokenizing and Embedding"
      ]
    },
    {
      "cell_type": "markdown",
      "id": "196fd349",
      "metadata": {
        "id": "196fd349"
      },
      "source": [
        "Let's plan ahead what needs to be done:\n",
        "- create data loaders, one for each split\n",
        "- write a function that tokenizes the sentences in a given batch\n",
        "- write a function that converts tokens into token ids for every sentence in a given batch\n",
        "- retrieve the word embeddings for each and every token\n",
        "- create a linear model that takes the embedding vectors as features\n",
        "- create the appropriate loss function and optimizer\n",
        "- write a training loop\n",
        "\n",
        "Create two data loaders, one for each split (training and validation/test). For now, use a small batch size, such as four, to be able to more easily peek at the values. Later on, you'll recreate the data loader with a more appropriate batch size."
      ]
    },
    {
      "cell_type": "code",
      "execution_count": 6,
      "id": "203fa575",
      "metadata": {
        "id": "203fa575"
      },
      "outputs": [],
      "source": [
        "from torch.utils.data import DataLoader\n",
        "\n",
        "dataloaders = {}\n",
        "# write your code here\n",
        "dataloaders['train'] = DataLoader(dataset=datasets['train'], batch_size=4, shuffle=True)\n",
        "dataloaders['test'] = DataLoader(dataset=datasets['test'], batch_size=4)"
      ]
    },
    {
      "cell_type": "markdown",
      "id": "4d6e66a7",
      "metadata": {
        "id": "4d6e66a7"
      },
      "source": [
        "Fetch one mini-batch of data to make sure it's working fine. Just run the code below as is to visualize the output:"
      ]
    },
    {
      "cell_type": "code",
      "execution_count": 7,
      "id": "219170f5",
      "metadata": {
        "id": "219170f5",
        "colab": {
          "base_uri": "https://localhost:8080/"
        },
        "outputId": "a9812327-eda7-4f40-a8b0-2c4129166e29"
      },
      "outputs": [
        {
          "output_type": "execute_result",
          "data": {
            "text/plain": [
              "(tensor([2, 3, 3, 3]),\n",
              " ['Harmony Gold Mining Co., the biggest miner of South African gold, may report a fifth consecutive quarterly loss while Gold Fields Ltd.',\n",
              "  \"PC World's already had a chance to test Windows XP Media Center Edition 2005, which was announced today in a big to-do thrown by Microsoft in Los Angeles.\",\n",
              "  \"What do Internet Explorer, Mozilla's browsers, and Opera all have in common? Bugs.\",\n",
              "  'InfoWorld - Enterprise software takes an evolutionary step forward as Edge Dynamics and Tibco Software develop software that combines elements of both ERP and BI applications.'])"
            ]
          },
          "metadata": {},
          "execution_count": 7
        }
      ],
      "source": [
        "batch = next(iter(dataloaders['train']))\n",
        "labels, sentences = batch['topic'], batch['news']\n",
        "labels, sentences"
      ]
    },
    {
      "cell_type": "markdown",
      "id": "57dace19",
      "metadata": {
        "id": "57dace19"
      },
      "source": [
        "![](https://raw.githubusercontent.com/dvgodoy/assets/main/PyTorchInPractice/images/ch0/data_step3.png)\n",
        "\n",
        "Now, write a function that tokenizes a mini-batch of sentences. The function must take as arguments:\n",
        "- a tuple or list containing multiple sentences (as returned by the data loader)\n",
        "- an optional tokenizer: if the tokenizer isn't provided, it should fall back to the default  `simple_preprocess()` function we have used before\n",
        "\n",
        "The function must return a list of lists of tokens."
      ]
    },
    {
      "cell_type": "code",
      "execution_count": 10,
      "id": "56c87f98",
      "metadata": {
        "id": "56c87f98"
      },
      "outputs": [],
      "source": [
        "from gensim.utils import simple_preprocess\n",
        "\n",
        "def tokenize_batch(sentences, tokenizer=None):\n",
        "    # Create the basic tokenizer if one isn't provided\n",
        "    # write your code here\n",
        "    if tokenizer is None:\n",
        "        tokenizer = simple_preprocess\n",
        "\n",
        "    # Tokenize sentences and returns the result\n",
        "    # write your code here\n",
        "    return [tokenizer(s) for s in sentences]"
      ]
    },
    {
      "cell_type": "markdown",
      "id": "7445f89a",
      "metadata": {
        "id": "7445f89a"
      },
      "source": [
        "Try your function out and assign its output to the `tokens` variable. Just run the code below as is to visualize the output:"
      ]
    },
    {
      "cell_type": "code",
      "execution_count": 11,
      "id": "999d3fba",
      "metadata": {
        "id": "999d3fba",
        "colab": {
          "base_uri": "https://localhost:8080/"
        },
        "outputId": "66b1be17-cfef-4439-c900-3983bff72bb6"
      },
      "outputs": [
        {
          "output_type": "stream",
          "name": "stdout",
          "text": [
            "['harmony', 'gold', 'mining', 'co', 'the', 'biggest', 'miner', 'of', 'south', 'african', 'gold', 'may', 'report', 'fifth', 'consecutive', 'quarterly', 'loss', 'while', 'gold', 'fields', 'ltd']\n",
            "['pc', 'world', 'already', 'had', 'chance', 'to', 'test', 'windows', 'xp', 'media', 'center', 'edition', 'which', 'was', 'announced', 'today', 'in', 'big', 'to', 'do', 'thrown', 'by', 'microsoft', 'in', 'los', 'angeles']\n",
            "['what', 'do', 'internet', 'explorer', 'mozilla', 'browsers', 'and', 'opera', 'all', 'have', 'in', 'common', 'bugs']\n",
            "['infoworld', 'enterprise', 'software', 'takes', 'an', 'evolutionary', 'step', 'forward', 'as', 'edge', 'dynamics', 'and', 'tibco', 'software', 'develop', 'software', 'that', 'combines', 'elements', 'of', 'both', 'erp', 'and', 'bi', 'applications']\n"
          ]
        }
      ],
      "source": [
        "tokens = tokenize_batch(sentences)\n",
        "for v in tokens:\n",
        "    print(v)"
      ]
    },
    {
      "cell_type": "markdown",
      "id": "48f45122",
      "metadata": {
        "id": "48f45122"
      },
      "source": [
        "More likely than not, each sentence in a mini-batch has different number of tokens in it. How many tokens are there in each sentence? Just run the code below as is to see the answer:"
      ]
    },
    {
      "cell_type": "code",
      "execution_count": 12,
      "id": "084e6227",
      "metadata": {
        "id": "084e6227",
        "colab": {
          "base_uri": "https://localhost:8080/"
        },
        "outputId": "e91719bd-1c8a-4ee2-d030-6e20f1f4c3d0"
      },
      "outputs": [
        {
          "output_type": "execute_result",
          "data": {
            "text/plain": [
              "[21, 26, 13, 25]"
            ]
          },
          "metadata": {},
          "execution_count": 12
        }
      ],
      "source": [
        "[len(s) for s in tokens]"
      ]
    },
    {
      "cell_type": "markdown",
      "id": "9db8e76e",
      "metadata": {
        "id": "9db8e76e"
      },
      "source": [
        "Now, let's briefly discuss two different approaches to handling this issue."
      ]
    },
    {
      "cell_type": "markdown",
      "id": "0366d82b",
      "metadata": {
        "id": "0366d82b"
      },
      "source": [
        "#### 15.10.2.1 Alternative 1: Padding\n",
        "\n",
        "Did padding come to your mind? We have taken this approach time and again.\n",
        "\n",
        "Now, you'll write a function called `encode_batch()` that combines both truncating and padding operations. The function must take as arguments:\n",
        "- a vocabulary dictionary, mapping tokens/words to their corresponding indices\n",
        "- a list of lists of tokens (as returned by the `tokenize_batch()` function)\n",
        "- the maximum length of tokens, above which they are truncated\n",
        "- an optional boolean argument indicating if the sequences should be padded\n",
        "- an optional id for the padding token (e.g. -1)\n",
        "- an optional id for the unknown token (e.g. -1)\n",
        "\n",
        "The function must truncate sequences of tokens that are too long and, afterward, pad the sequences so the shorter ones match the length of the longest.\n",
        "\n",
        "It must return a list of lists of token ids, every inner list having the same length.\n",
        "\n",
        "We're loading Gensim's GloVe embeddings, so you may use its `key_to_index()` method as the vocabulary dictionary. You can also call the `encode_str()` function from Chapter 15 to convert words/tokens into their corresponding ids.\n",
        "\n",
        "Perhaps you've also noticed that the default values for both padding and unknown tokens are the same. We'll keep them like that for now, but we'll assign them other values shortly."
      ]
    },
    {
      "cell_type": "code",
      "execution_count": 13,
      "id": "e1aa3032",
      "metadata": {
        "id": "e1aa3032",
        "colab": {
          "base_uri": "https://localhost:8080/"
        },
        "outputId": "b1ce44fb-ecb2-478d-e210-77c4dcf9951a"
      },
      "outputs": [
        {
          "output_type": "stream",
          "name": "stdout",
          "text": [
            "[==================================================] 100.0% 66.0/66.0MB downloaded\n"
          ]
        }
      ],
      "source": [
        "from gensim import downloader\n",
        "\n",
        "vec = downloader.load('glove-wiki-gigaword-50')\n",
        "\n",
        "def encode_str(key_to_index, tokens, unk_token=-1):\n",
        "    token_ids = [key_to_index.get(token, unk_token) for token in tokens]\n",
        "    return token_ids"
      ]
    },
    {
      "cell_type": "code",
      "execution_count": 14,
      "id": "2ede302a",
      "metadata": {
        "id": "2ede302a"
      },
      "outputs": [],
      "source": [
        "def encode_batch(key_to_index, batch, max_len=None, padding=False, pad_token_id=-1, unk_token_id=-1):\n",
        "    # Truncate every sentence to max_len\n",
        "    # write your code here\n",
        "    if isinstance(max_len, int):\n",
        "        truncated = [s[:max_len] for s in batch]\n",
        "    else:\n",
        "        truncated = batch[:]\n",
        "\n",
        "    # Check the actual maximum length of the (truncated) inputs\n",
        "    # write your code here\n",
        "    current_max = max([len(s) for s in truncated])\n",
        "\n",
        "    batch_ids = []\n",
        "    for tokens in truncated:\n",
        "        token_ids = encode_str(key_to_index, tokens, unk_token_id)\n",
        "        if padding:\n",
        "            # Appends as many padding tokens as necessary to make every\n",
        "            # sentence as long as the actual maximum length\n",
        "            # write your code here\n",
        "            token_ids.extend([pad_token_id] * (current_max - len(token_ids)))\n",
        "        batch_ids.append(token_ids)\n",
        "    return batch_ids"
      ]
    },
    {
      "cell_type": "code",
      "execution_count": 15,
      "id": "3eedc373",
      "metadata": {
        "id": "3eedc373",
        "colab": {
          "base_uri": "https://localhost:8080/"
        },
        "outputId": "9cd3bc03-ed62-44d8-bfee-ee1d07c4080d"
      },
      "outputs": [
        {
          "output_type": "stream",
          "name": "stdout",
          "text": [
            "[[8406, 764, 3224, 1644, 0, 882, 12642, 3, 139, 685, 764, 107, 255, 1239, 2470, 6206, 866, 110, 764, 2308, 8196, -1, -1, -1, -1, -1], [5190, 85, 411, 40, 1019, 4, 728, 2211, 19769, 493, 313, 2492, 42, 15, 457, 373, 6, 365, 4, 88, 4459, 21, 2058, 6, 796, 930], [102, 88, 925, 8627, 40721, 23687, 5, 2832, 64, 33, 6, 861, 12430, -1, -1, -1, -1, -1, -1, -1, -1, -1, -1, -1, -1, -1], [127845, 4894, 1516, 1144, 29, 13123, 1065, 990, 19, 2210, 10211, 5, 189918, 1516, 1790, 1516, 12, 10584, 2622, 3, 150, 43985, 5, 19203, 3310, -1]]\n"
          ]
        }
      ],
      "source": [
        "print(encode_batch(vec.key_to_index, tokens, padding=True, max_len=50))"
      ]
    },
    {
      "cell_type": "markdown",
      "id": "ac7e5e67",
      "metadata": {
        "id": "ac7e5e67"
      },
      "source": [
        "Double-check that every inner list has the same length, as expected. Just run the code below as is to visualize the output:"
      ]
    },
    {
      "cell_type": "code",
      "execution_count": 16,
      "id": "35f2d551",
      "metadata": {
        "id": "35f2d551",
        "colab": {
          "base_uri": "https://localhost:8080/"
        },
        "outputId": "c5238167-a993-4279-8320-0a87834a9b69"
      },
      "outputs": [
        {
          "output_type": "execute_result",
          "data": {
            "text/plain": [
              "[26, 26, 26, 26]"
            ]
          },
          "metadata": {},
          "execution_count": 16
        }
      ],
      "source": [
        "padded_token_ids = encode_batch(vec.key_to_index, tokens, padding=True)\n",
        "lengths = [len(s) for s in padded_token_ids]\n",
        "lengths"
      ]
    },
    {
      "cell_type": "markdown",
      "id": "023bcf23",
      "metadata": {
        "id": "023bcf23"
      },
      "source": [
        "Same length everywhere? Great!"
      ]
    },
    {
      "cell_type": "markdown",
      "id": "0e2e5454",
      "metadata": {
        "id": "0e2e5454"
      },
      "source": [
        "What if we try retrieving the embeddings for the padded sequences?"
      ]
    },
    {
      "cell_type": "code",
      "execution_count": 17,
      "id": "0c3b75cb",
      "metadata": {
        "id": "0c3b75cb"
      },
      "outputs": [],
      "source": [
        "import torch\n",
        "import torch.nn as nn\n",
        "\n",
        "tensor_glove = torch.as_tensor(vec.vectors).float()\n",
        "embedding = nn.Embedding.from_pretrained(tensor_glove)\n",
        "\n",
        "def get_embeddings(embedding, token_ids):\n",
        "    valid_ids = torch.as_tensor([token_id for token_id in token_ids if token_id >= 0])\n",
        "    embedded_tokens = embedding(valid_ids)\n",
        "    return embedded_tokens"
      ]
    },
    {
      "cell_type": "code",
      "execution_count": 18,
      "id": "f284ebd3",
      "metadata": {
        "id": "f284ebd3",
        "colab": {
          "base_uri": "https://localhost:8080/"
        },
        "outputId": "638e3abe-42f0-46bc-b04a-a7e608594e09"
      },
      "outputs": [
        {
          "output_type": "stream",
          "name": "stdout",
          "text": [
            "26\n",
            "[8406, 764, 3224, 1644, 0, 882, 12642, 3, 139, 685, 764, 107, 255, 1239, 2470, 6206, 866, 110, 764, 2308, 8196, -1, -1, -1, -1, -1]\n",
            "torch.Size([21, 50])\n"
          ]
        }
      ],
      "source": [
        "print(len(padded_token_ids[0]))\n",
        "print(padded_token_ids[0])\n",
        "print(get_embeddings(embedding, padded_token_ids[0]).shape)"
      ]
    },
    {
      "cell_type": "markdown",
      "id": "a5ee466d",
      "metadata": {
        "id": "a5ee466d"
      },
      "source": [
        "It shouldn't be a surprise that the embeddings are shorter than the padded sequence, after all, we are explicitly filtering out invalid ids in the `get_embeddings()` function. We have to make one small change to our embeddings to account for the possibility of padding and unknown tokens.\n",
        "\n",
        "So, we are appending not one, but two tensors full of zeros to our embeddings, one for the padding token and another one for the unknown token. We're setting the pad token id to the index corresponding to the second-to-last entry in the embedding layer, and the unknown token to the entry after that. This way, the mappings (from word/token to index) are preserved, and the only difference is that we call the `encode_batch()` function using different padding and unknown token ids this time."
      ]
    },
    {
      "cell_type": "markdown",
      "id": "3e71705f",
      "metadata": {
        "id": "3e71705f"
      },
      "source": [
        "Run the code below to see an example:"
      ]
    },
    {
      "cell_type": "code",
      "execution_count": 19,
      "id": "0d4aa7f5",
      "metadata": {
        "id": "0d4aa7f5",
        "colab": {
          "base_uri": "https://localhost:8080/"
        },
        "outputId": "5a5cdc31-cbf0-48e5-88f1-1259b713513f"
      },
      "outputs": [
        {
          "output_type": "execute_result",
          "data": {
            "text/plain": [
              "tensor([[-0.1984,  0.9872, -1.3635,  ..., -0.4875, -0.8251, -0.2795],\n",
              "        [-1.6190,  1.6652, -0.0795,  ..., -0.9578, -0.1329, -1.5706],\n",
              "        [-0.4002, -0.4066,  0.0078,  ...,  0.0682,  0.4842, -1.0277],\n",
              "        ...,\n",
              "        [ 0.0000,  0.0000,  0.0000,  ...,  0.0000,  0.0000,  0.0000],\n",
              "        [ 0.0000,  0.0000,  0.0000,  ...,  0.0000,  0.0000,  0.0000],\n",
              "        [ 0.0000,  0.0000,  0.0000,  ...,  0.0000,  0.0000,  0.0000]])"
            ]
          },
          "metadata": {},
          "execution_count": 19
        }
      ],
      "source": [
        "tensor_glove = torch.as_tensor(vec.vectors).float()\n",
        "tensor_glove = torch.cat([tensor_glove, torch.zeros((2, vec.vector_size))])\n",
        "\n",
        "embedding = nn.Embedding.from_pretrained(tensor_glove)\n",
        "# padding and unknown tokens are the last ones, so we don't mess with the key_to_index\n",
        "pad_token_id = embedding.num_embeddings - 2\n",
        "unk_token_id = pad_token_id + 1\n",
        "\n",
        "padded_token_ids = encode_batch(vec.key_to_index, tokens, padding=True, pad_token_id=pad_token_id, unk_token_id=unk_token_id)\n",
        "\n",
        "get_embeddings(embedding, padded_token_ids[0])"
      ]
    },
    {
      "cell_type": "markdown",
      "id": "ef14e0b4",
      "metadata": {
        "id": "ef14e0b4"
      },
      "source": [
        "Cool, right? Now, we can retrieve embeddings using the same `get_embeddings()` function whether our sequences are padded or not."
      ]
    },
    {
      "cell_type": "markdown",
      "id": "258edb46",
      "metadata": {
        "id": "258edb46"
      },
      "source": [
        "What's next? Let's write a function that takes as arguments:\n",
        "- an embedding layer\n",
        "- a list of lists of token ids\n",
        "\n",
        "And retrieves the corresponding embeddings for the whole batch as a tensor in the shape (N, L, D) where:\n",
        "- N is the number of data points in a mini-batch\n",
        "- L is the number of tokens in each sequence (they all have the same length now)\n",
        "- D is the number of dimensions in each embedding vector (50 in our instance of GloVe)"
      ]
    },
    {
      "cell_type": "code",
      "execution_count": 20,
      "id": "4a5578d7",
      "metadata": {
        "id": "4a5578d7"
      },
      "outputs": [],
      "source": [
        "def get_batch_embeddings(embedding, token_ids):\n",
        "    # Retrieve embeddings from the embedding layer using the token ids\n",
        "    # Make sure to get the shapes right, and concatenate the tensors so\n",
        "    # the resulting shape is N, L, D\n",
        "    # write your code here\n",
        "    embeddings = torch.cat([get_embeddings(embedding, ids).unsqueeze(0)\n",
        "                            for ids in token_ids], dim=0)\n",
        "    return embeddings"
      ]
    },
    {
      "cell_type": "markdown",
      "id": "c38adbaa",
      "metadata": {
        "id": "c38adbaa"
      },
      "source": [
        "Just run the code below as is to inspect the shape of the embeddings:"
      ]
    },
    {
      "cell_type": "code",
      "execution_count": 21,
      "id": "be5b81db",
      "metadata": {
        "id": "be5b81db",
        "colab": {
          "base_uri": "https://localhost:8080/"
        },
        "outputId": "9ded8de6-b6e1-4a0a-8e95-55468b500e95"
      },
      "outputs": [
        {
          "output_type": "execute_result",
          "data": {
            "text/plain": [
              "torch.Size([4, 26, 50])"
            ]
          },
          "metadata": {},
          "execution_count": 21
        }
      ],
      "source": [
        "token_ids = encode_batch(vec.key_to_index, tokens, padding=True, pad_token_id=pad_token_id, unk_token_id=unk_token_id)\n",
        "embeddings = get_batch_embeddings(embedding, token_ids)\n",
        "embeddings.shape"
      ]
    },
    {
      "cell_type": "markdown",
      "id": "41ce9275",
      "metadata": {
        "id": "41ce9275"
      },
      "source": [
        "There it is, the expected (N, L, D) shape. Let's take a quick look at the embeddings themselves. Just run the code below as is to visualize them:"
      ]
    },
    {
      "cell_type": "code",
      "execution_count": 22,
      "id": "9923f131",
      "metadata": {
        "id": "9923f131",
        "colab": {
          "base_uri": "https://localhost:8080/"
        },
        "outputId": "71dcf595-f7fa-4d9a-cf68-e6c02a914472"
      },
      "outputs": [
        {
          "output_type": "execute_result",
          "data": {
            "text/plain": [
              "tensor([[[-1.9842e-01,  9.8715e-01, -1.3635e+00,  ..., -4.8747e-01,\n",
              "          -8.2511e-01, -2.7946e-01],\n",
              "         [-1.6190e+00,  1.6652e+00, -7.9497e-02,  ..., -9.5785e-01,\n",
              "          -1.3292e-01, -1.5706e+00],\n",
              "         [-4.0025e-01, -4.0659e-01,  7.7521e-03,  ...,  6.8166e-02,\n",
              "           4.8418e-01, -1.0277e+00],\n",
              "         ...,\n",
              "         [ 0.0000e+00,  0.0000e+00,  0.0000e+00,  ...,  0.0000e+00,\n",
              "           0.0000e+00,  0.0000e+00],\n",
              "         [ 0.0000e+00,  0.0000e+00,  0.0000e+00,  ...,  0.0000e+00,\n",
              "           0.0000e+00,  0.0000e+00],\n",
              "         [ 0.0000e+00,  0.0000e+00,  0.0000e+00,  ...,  0.0000e+00,\n",
              "           0.0000e+00,  0.0000e+00]],\n",
              "\n",
              "        [[-2.4757e-01, -9.6592e-01,  1.9458e+00,  ..., -7.4217e-01,\n",
              "           7.4086e-01,  7.7354e-01],\n",
              "         [-4.1486e-01,  7.1848e-01, -3.0450e-01,  ..., -4.6022e-01,\n",
              "          -3.7639e-01, -6.7542e-01],\n",
              "         [ 7.7479e-01, -5.0637e-01,  5.5056e-01,  ...,  2.5758e-01,\n",
              "          -5.7977e-01, -4.4103e-01],\n",
              "         ...,\n",
              "         [ 3.3042e-01,  2.4995e-01, -6.0874e-01,  ..., -5.0703e-01,\n",
              "          -2.7273e-02, -5.3285e-01],\n",
              "         [-9.7114e-03,  1.0479e+00, -1.5266e-01,  ..., -7.1828e-01,\n",
              "           6.9078e-02,  1.7890e+00],\n",
              "         [-1.7063e-01,  8.2230e-01, -5.8367e-02,  ..., -5.9622e-01,\n",
              "          -2.0733e-01,  1.3045e+00]],\n",
              "\n",
              "        [[ 4.5323e-01,  5.9811e-02, -1.0577e-01,  ...,  5.3240e-01,\n",
              "          -2.5103e-01,  6.2546e-01],\n",
              "         [ 2.9605e-01, -1.3841e-01,  4.3774e-02,  ..., -1.1279e-04,\n",
              "           1.3854e-01,  9.6954e-01],\n",
              "         [ 5.7121e-01, -2.3423e-01,  1.5067e+00,  ..., -7.1777e-02,\n",
              "           4.3030e-01,  1.8940e-01],\n",
              "         ...,\n",
              "         [ 0.0000e+00,  0.0000e+00,  0.0000e+00,  ...,  0.0000e+00,\n",
              "           0.0000e+00,  0.0000e+00],\n",
              "         [ 0.0000e+00,  0.0000e+00,  0.0000e+00,  ...,  0.0000e+00,\n",
              "           0.0000e+00,  0.0000e+00],\n",
              "         [ 0.0000e+00,  0.0000e+00,  0.0000e+00,  ...,  0.0000e+00,\n",
              "           0.0000e+00,  0.0000e+00]],\n",
              "\n",
              "        [[-1.9730e+00, -2.1556e-01,  1.1882e-01,  ...,  4.8283e-01,\n",
              "           2.3523e-01,  2.7518e-01],\n",
              "         [ 1.4986e-01, -4.0330e-01,  9.4661e-02,  ...,  2.2373e-01,\n",
              "           5.2899e-01,  5.7816e-01],\n",
              "         [ 4.0093e-01, -1.1683e+00,  1.2586e+00,  ...,  5.7618e-01,\n",
              "           3.0619e-01,  3.0187e-01],\n",
              "         ...,\n",
              "         [-3.4659e-01,  2.9639e-01, -2.2340e-01,  ...,  2.8472e-01,\n",
              "           9.0462e-01,  2.3409e-01],\n",
              "         [ 4.6279e-01, -3.0926e-01,  1.1712e+00,  ...,  8.2631e-01,\n",
              "          -4.6772e-02, -2.1933e-01],\n",
              "         [ 0.0000e+00,  0.0000e+00,  0.0000e+00,  ...,  0.0000e+00,\n",
              "           0.0000e+00,  0.0000e+00]]])"
            ]
          },
          "metadata": {},
          "execution_count": 22
        }
      ],
      "source": [
        "embeddings"
      ]
    },
    {
      "cell_type": "markdown",
      "id": "1baa0129",
      "metadata": {
        "id": "1baa0129"
      },
      "source": [
        "At the end of each tensor (in the first dimension, there are four of them), you'll see a bunch of zeros. These correspond to the padding tokens that we appended to GloVe embeddings.\n",
        "\n",
        "It looks like a waste of space and computation to handle all these zero embeddings, right? As it turns out, these can either be ignored (by using masks that identify which tokens are meaningful - more on that later), or they can be completely dismissed at a much earlier stage, which brings us to the second alternative."
      ]
    },
    {
      "cell_type": "markdown",
      "id": "cae15f1a",
      "metadata": {
        "id": "cae15f1a"
      },
      "source": [
        "#### 15.10.2.2 Alternative 2: Bag of Embeddings"
      ]
    },
    {
      "cell_type": "markdown",
      "id": "4e68b79e",
      "metadata": {
        "id": "4e68b79e"
      },
      "source": [
        "The main purpose of padding sequences is to get matching lengths for all of them, after all, our models can only handle neatly organized tensors as inputs.\n",
        "\n",
        "But, what if we could get a single, neatly organized, tensor directly out of the sequence? One way to accomplish this is to simply compute the embeddings for each token in a sequence, regardless of how long the sequence actually is, and then aggregate all these tensors together by averaging them. That's called a bag of embeddings (BoE), and PyTorch even offers a special layer for it (`nn.EmbeddingBag`) that does the whole thing.\n",
        "\n",
        "The result, in this case, is a single tensor, with as many elements as the dimensionality of our vector (50, in the case of our GloVe), for each sentence. In this approach, it doesn't make sense to pad the sequences, otherwise we would be lowering the average by introducing a lot of zeros.\n",
        "\n",
        "Let's try this approach out! First, we retrieve the embeddings corresponding to the tokens in a given sentence. Just run the code below as is:"
      ]
    },
    {
      "cell_type": "code",
      "execution_count": 23,
      "id": "29fafd20",
      "metadata": {
        "id": "29fafd20",
        "colab": {
          "base_uri": "https://localhost:8080/"
        },
        "outputId": "de18b23f-6e52-4e52-cbde-6ff462ddf8d1"
      },
      "outputs": [
        {
          "output_type": "execute_result",
          "data": {
            "text/plain": [
              "torch.Size([21, 50])"
            ]
          },
          "metadata": {},
          "execution_count": 23
        }
      ],
      "source": [
        "token_ids = encode_batch(vec.key_to_index, tokens, padding=False)\n",
        "embeddings = get_embeddings(embedding, token_ids[0])\n",
        "\n",
        "embeddings.shape"
      ]
    },
    {
      "cell_type": "markdown",
      "id": "0f476387",
      "metadata": {
        "id": "0f476387"
      },
      "source": [
        "We'll get as many vectors back as there are tokens in the first sentence. Let's average them. Just run the code below as is to compute the average embedding for the sentence:"
      ]
    },
    {
      "cell_type": "code",
      "execution_count": 24,
      "id": "d01280ac",
      "metadata": {
        "id": "d01280ac",
        "colab": {
          "base_uri": "https://localhost:8080/"
        },
        "outputId": "9d824801-14d0-406d-b04f-76b0bff2ac96"
      },
      "outputs": [
        {
          "output_type": "execute_result",
          "data": {
            "text/plain": [
              "torch.Size([50])"
            ]
          },
          "metadata": {},
          "execution_count": 24
        }
      ],
      "source": [
        "boe = embeddings.mean(axis=0)\n",
        "boe.shape"
      ]
    },
    {
      "cell_type": "markdown",
      "id": "cb72110b",
      "metadata": {
        "id": "cb72110b"
      },
      "source": [
        "That's it, a single tensor of average embeddings. Easy, right?\n",
        "\n",
        "Now, write a function that takes as arguments:\n",
        "- an embedding layer\n",
        "- a list of lists of token ids\n",
        "\n",
        "It must retrieve the embeddings for the tokens in each inner list, average them, and concatenate the results together, so the resulting tensor to be returned has the shape (N, D):"
      ]
    },
    {
      "cell_type": "code",
      "execution_count": 25,
      "id": "4b7a992f",
      "metadata": {
        "id": "4b7a992f"
      },
      "outputs": [],
      "source": [
        "def get_bag_of_embeddings(embedding, token_ids):\n",
        "    # Retrieve embeddings from the embedding layer using the token ids\n",
        "    # For every list of tokens, take the average of their embeddings\n",
        "    # Make sure to get the shapes right, and concatenate the tensors so\n",
        "    # the resulting shape is N, D\n",
        "    # write your code here\n",
        "    embeddings = torch.cat([get_embeddings(embedding, ids).mean(axis=0).unsqueeze(0)\n",
        "                            for ids in token_ids], dim=0)\n",
        "    return embeddings"
      ]
    },
    {
      "cell_type": "markdown",
      "id": "8f3a6696",
      "metadata": {
        "id": "8f3a6696"
      },
      "source": [
        "Just run the code below as is to inspect the shape of the embeddings:"
      ]
    },
    {
      "cell_type": "code",
      "execution_count": 26,
      "id": "bda26913",
      "metadata": {
        "id": "bda26913",
        "colab": {
          "base_uri": "https://localhost:8080/"
        },
        "outputId": "f828809b-5ef5-44f2-b116-f956e7ad9497"
      },
      "outputs": [
        {
          "output_type": "execute_result",
          "data": {
            "text/plain": [
              "torch.Size([4, 50])"
            ]
          },
          "metadata": {},
          "execution_count": 26
        }
      ],
      "source": [
        "token_ids = encode_batch(vec.key_to_index, tokens, padding=False)\n",
        "boe = get_bag_of_embeddings(embedding, token_ids)#, vec)\n",
        "boe.shape"
      ]
    },
    {
      "cell_type": "markdown",
      "id": "cff9eb97",
      "metadata": {
        "id": "cff9eb97"
      },
      "source": [
        "The bag of embeddings is surely much more easy to handle, so we're sticking with that in this lab. Later on, when using larger models such as BERT, we'll to back to using the first alternative, including padding and masking."
      ]
    },
    {
      "cell_type": "markdown",
      "id": "8df32d55",
      "metadata": {
        "id": "8df32d55"
      },
      "source": [
        "### 15.10.2.3 Data Loaders\n",
        "\n",
        "Moreover, recreate the data loaders using a larger batch size this time.\n",
        "\n",
        "![](https://raw.githubusercontent.com/dvgodoy/assets/main/PyTorchInPractice/images/ch0/data_step5.png)"
      ]
    },
    {
      "cell_type": "code",
      "execution_count": 27,
      "id": "ae0be81b",
      "metadata": {
        "id": "ae0be81b"
      },
      "outputs": [],
      "source": [
        "dataloaders = {}\n",
        "# write your code here\n",
        "dataloaders['train'] = DataLoader(dataset=datasets['train'], batch_size=32, shuffle=True)\n",
        "dataloaders['test'] = DataLoader(dataset=datasets['test'], batch_size=32)"
      ]
    },
    {
      "cell_type": "markdown",
      "id": "f8d1c1a1",
      "metadata": {
        "id": "f8d1c1a1"
      },
      "source": [
        "### 15.10.3 Training Loop"
      ]
    },
    {
      "cell_type": "markdown",
      "id": "cadfbc2a",
      "metadata": {
        "id": "cadfbc2a"
      },
      "source": [
        "Before writing the training loop itself, you need to:\n",
        "- create a model that's able to take a batch of bags of embeddings as inputs, and produce four logits as outputs (we suggest to keep it as simple as a single linear layer, but you're welcome to try more-complex models)\n",
        "- create an appropriate loss function for multi-class classification\n",
        "- create an optimizer to handle the model's parameters\n",
        "\n",
        "![](https://raw.githubusercontent.com/dvgodoy/assets/main/PyTorchInPractice/images/ch0/model_step1.png)"
      ]
    },
    {
      "cell_type": "code",
      "execution_count": 28,
      "id": "86eccf21",
      "metadata": {
        "id": "86eccf21"
      },
      "outputs": [],
      "source": [
        "import torch\n",
        "import torch.nn as nn\n",
        "\n",
        "torch.manual_seed(11)\n",
        "# write your code here\n",
        "model = nn.Sequential(nn.Linear(50, 4))"
      ]
    },
    {
      "cell_type": "markdown",
      "id": "345db907",
      "metadata": {
        "id": "345db907"
      },
      "source": [
        "![](https://raw.githubusercontent.com/dvgodoy/assets/main/PyTorchInPractice/images/ch0/model_step2.png)"
      ]
    },
    {
      "cell_type": "code",
      "execution_count": 29,
      "id": "7c547404",
      "metadata": {
        "id": "7c547404"
      },
      "outputs": [],
      "source": [
        "# write your code here\n",
        "loss_fn = nn.CrossEntropyLoss()"
      ]
    },
    {
      "cell_type": "markdown",
      "id": "5e3e59b0",
      "metadata": {
        "id": "5e3e59b0"
      },
      "source": [
        "![](https://raw.githubusercontent.com/dvgodoy/assets/main/PyTorchInPractice/images/ch0/model_step3.png)"
      ]
    },
    {
      "cell_type": "code",
      "execution_count": 30,
      "id": "08a01b64",
      "metadata": {
        "id": "08a01b64"
      },
      "outputs": [],
      "source": [
        "import torch.optim as optim\n",
        "\n",
        "# Suggested learning rate\n",
        "lr = 1e-3\n",
        "# write your code here\n",
        "optimizer = optim.Adam(model.parameters(), lr=lr)"
      ]
    },
    {
      "cell_type": "markdown",
      "id": "945f507f",
      "metadata": {
        "id": "945f507f"
      },
      "source": [
        "![](https://raw.githubusercontent.com/dvgodoy/assets/main/PyTorchInPractice/images/ch0/model_step4.png)\n",
        "\n",
        "Finally, you may write the training loop. It is mostly the typical stuff we've done time and again, but remember that your mini-batches are dictionaries, and you have to tokenize and encode (that is, converting tokens into token ids) the sentences, and compute their corresponding bags of embeddings before feeding them to the model. You may leverage the functions you've already wrote to easily accomplish that."
      ]
    },
    {
      "cell_type": "code",
      "execution_count": 31,
      "id": "2df798ee",
      "metadata": {
        "id": "2df798ee"
      },
      "outputs": [],
      "source": [
        "vec = downloader.load('glove-wiki-gigaword-50')\n",
        "\n",
        "tensor_glove = torch.as_tensor(vec.vectors).float()\n",
        "# we don't need to bother appending zero tensors for padding and unknown tokens\n",
        "# since we're using a bag of embeddings, that is, we simply average the valid\n",
        "# tokens only and ignore the rest.\n",
        "embedding = nn.Embedding.from_pretrained(tensor_glove)\n",
        "\n",
        "batch_losses = []\n",
        "device = 'cuda' if torch.cuda.is_available() else 'cpu'\n",
        "\n",
        "model.to(device)\n",
        "\n",
        "## Training\n",
        "for i, batch in enumerate(dataloaders['train']):\n",
        "    # Set the model's mode\n",
        "    # write your code here\n",
        "    model.train()\n",
        "\n",
        "    # Unpack your batch (it has labels and sentences)\n",
        "    # Tokenize the sentences, and compute their bags of embeddings\n",
        "    # write your code here\n",
        "    #labels, sentences = batch\n",
        "    labels, sentences = batch['topic'], batch['news']\n",
        "    tokens = tokenize_batch(sentences)\n",
        "    token_ids = encode_batch(vec.key_to_index, tokens, padding=False)\n",
        "    embeddings = get_bag_of_embeddings(embedding, token_ids)\n",
        "\n",
        "    embeddings = embeddings.to(device)\n",
        "    labels = labels.to(device)\n",
        "\n",
        "    # Step 1 - forward pass\n",
        "    # write your code here\n",
        "    predictions = model(embeddings)\n",
        "\n",
        "    # Step 2 - computing the loss\n",
        "    # write your code here\n",
        "    loss = loss_fn(predictions, labels)\n",
        "\n",
        "    # Step 3 - computing the gradients\n",
        "    # write your code here\n",
        "    loss.backward()\n",
        "\n",
        "    batch_losses.append(loss.item())\n",
        "\n",
        "    # Step 4 - updating parameters and zeroing gradients\n",
        "    # write your code here\n",
        "    optimizer.step()\n",
        "    optimizer.zero_grad()"
      ]
    },
    {
      "cell_type": "markdown",
      "id": "a16ee364",
      "metadata": {
        "id": "a16ee364"
      },
      "source": [
        "It shouldn't take long to train this model (if you followed our suggestion to keep it as simple as it can be, that is). Just run the code below as is to visualize the losses:"
      ]
    },
    {
      "cell_type": "code",
      "execution_count": 32,
      "id": "42d8d323",
      "metadata": {
        "id": "42d8d323",
        "colab": {
          "base_uri": "https://localhost:8080/",
          "height": 447
        },
        "outputId": "8290f865-4878-44db-ef74-2dffc8de81bc"
      },
      "outputs": [
        {
          "output_type": "execute_result",
          "data": {
            "text/plain": [
              "[<matplotlib.lines.Line2D at 0x79af0da32b10>]"
            ]
          },
          "metadata": {},
          "execution_count": 32
        },
        {
          "output_type": "display_data",
          "data": {
            "text/plain": [
              "<Figure size 640x480 with 1 Axes>"
            ],
            "image/png": "[encoded data removed]"
          },
          "metadata": {}
        }
      ],
      "source": [
        "from matplotlib import pyplot as plt\n",
        "plt.plot(batch_losses)"
      ]
    },
    {
      "cell_type": "markdown",
      "id": "9cc2db23",
      "metadata": {
        "id": "9cc2db23"
      },
      "source": [
        "### 15.10.4 Evaluation"
      ]
    },
    {
      "cell_type": "markdown",
      "id": "c137054f",
      "metadata": {
        "id": "c137054f"
      },
      "source": [
        "![](https://raw.githubusercontent.com/dvgodoy/assets/main/PyTorchInPractice/images/ch0/model_step5.png)\n",
        "\n",
        "Losses are looking ok-ish, how about actual metrics? Let's use HuggingFace's `evaluate` package once again. This time, though, we're loading each metric (precision, recall, and accuracy) separately because we're dealing with a multi-class classification task, and this doesn't sit well with the `combine()` method (at the time of writing). Just run the code below as is to create evaluators for the three metrics:"
      ]
    },
    {
      "cell_type": "code",
      "execution_count": 33,
      "id": "16f4a24d",
      "metadata": {
        "id": "16f4a24d",
        "colab": {
          "base_uri": "https://localhost:8080/",
          "height": 237,
          "referenced_widgets": [
            "57984387d49541c382d6cb6a17a6a1c3",
            "452b5315afe04177933d5b8c4b7a46b9",
            "0ac50e5c9e95451294e9ef9c95e88afc",
            "f34d77a36f4f461a9269ca8d14a9becd",
            "b5369622ad9843508a44581c771b2be7",
            "78b6e45599a443189c4083745810e5ce",
            "b3f21b92c8c441019bab0c595a0da822",
            "1fd762a8bc414fb5acb141acdea2bf9f",
            "f6675625529c42689695d4cbb2bd5b8d",
            "60c808a0cee24ec6979ff5bbcb779c8a",
            "e77ff4754b8a4966a336a9a8ce130699",
            "e261540ee13241f4a94fcba741157f25",
            "56c19819c0e24f0a8d80be11c12f74e5",
            "19b1b2211ddd48b79dc78600c59748e4",
            "6c18cf7531f54a35b5ee459b8cf5ef6f",
            "d3380f632c6b46fab01b4ccad96ad2e5",
            "bef313fe3e7b432aa02f4bb96ac4d385",
            "5a4e6fc2ba4743cb8df8135ffdca1340",
            "918eb0207f7449fabc7c52dc2b3ab3af",
            "6fcfee354ac94dfb818a604534c53695",
            "0e822450d31f470891717ea4fe58ede3",
            "5113b851195c4112abbccad13d2d7c3e",
            "a510de36e56e42f3a4a685c7859a90ae",
            "09acfc7a66814296a1fb09947e5c6381",
            "cf1dd7ed208b47b98d3bd7ac822417c2",
            "8cce157f84ff41ed91e51ac9739d8d64",
            "e847ad2cfeb245b1b02e8df7cbd82503",
            "74b2b852e9744f9893f6edc00b896ebd",
            "0cc65236c964456cabb704f2ef31406f",
            "925a3c6d7e7f4d4ba556271cb4b26456",
            "d4858e31045f41799d854146e6b6be96",
            "511f98b43dbe474ea83d2d17deb6dbca",
            "af163f7516df4211ac6e085c5dc3ef16"
          ]
        },
        "outputId": "715e0c4b-ae5c-4d42-9821-e8a2e60cb215"
      },
      "outputs": [
        {
          "output_type": "stream",
          "name": "stderr",
          "text": [
            "/usr/local/lib/python3.11/dist-packages/huggingface_hub/utils/_auth.py:94: UserWarning: \n",
            "The secret `HF_TOKEN` does not exist in your Colab secrets.\n",
            "To authenticate with the Hugging Face Hub, create a token in your settings tab (https://huggingface.co/settings/tokens), set it as secret in your Google Colab and restart your session.\n",
            "You will be able to reuse this secret in all of your notebooks.\n",
            "Please note that authentication is recommended but still optional to access public models or datasets.\n",
            "  warnings.warn(\n"
          ]
        },
        {
          "output_type": "display_data",
          "data": {
            "text/plain": [
              "Downloading builder script:   0%|          | 0.00/7.56k [00:00<?, ?B/s]"
            ],
            "application/vnd.jupyter.widget-view+json": {
              "version_major": 2,
              "version_minor": 0,
              "model_id": "57984387d49541c382d6cb6a17a6a1c3"
            }
          },
          "metadata": {}
        },
        {
          "output_type": "display_data",
          "data": {
            "text/plain": [
              "Downloading builder script:   0%|          | 0.00/7.38k [00:00<?, ?B/s]"
            ],
            "application/vnd.jupyter.widget-view+json": {
              "version_major": 2,
              "version_minor": 0,
              "model_id": "e261540ee13241f4a94fcba741157f25"
            }
          },
          "metadata": {}
        },
        {
          "output_type": "display_data",
          "data": {
            "text/plain": [
              "Downloading builder script:   0%|          | 0.00/4.20k [00:00<?, ?B/s]"
            ],
            "application/vnd.jupyter.widget-view+json": {
              "version_major": 2,
              "version_minor": 0,
              "model_id": "a510de36e56e42f3a4a685c7859a90ae"
            }
          },
          "metadata": {}
        }
      ],
      "source": [
        "import evaluate\n",
        "\n",
        "metric1 = evaluate.load('precision', average=None)\n",
        "metric2 = evaluate.load('recall', average=None)\n",
        "metric3 = evaluate.load('accuracy')"
      ]
    },
    {
      "cell_type": "markdown",
      "id": "2e91131c",
      "metadata": {
        "id": "2e91131c"
      },
      "source": [
        "Write an evaluation loop that goes over the mini-batches in the test data pipe and:\n",
        "- tokenizes the sentences\n",
        "- encode the sentences (convert their tokens into token ids)\n",
        "- retrieves their corresponding bags of embeddings\n",
        "- get predictions from the model (logits)\n",
        "- gets the most-likely class from the logits\n",
        "- adds both predicted classes and labels to the metrics objects we've just created using their `add_batch()` method"
      ]
    },
    {
      "cell_type": "code",
      "execution_count": 34,
      "id": "58b3c6ff",
      "metadata": {
        "id": "58b3c6ff"
      },
      "outputs": [],
      "source": [
        "model.eval()\n",
        "\n",
        "for batch in dataloaders['test']:\n",
        "    # Unpack your batch (it has labels and sentences)\n",
        "    # Tokenize and encode the sentences, and compute their bags of embeddings\n",
        "    # write your code here\n",
        "    labels, sentences = batch['topic'], batch['news']\n",
        "    tokens = tokenize_batch(sentences)\n",
        "    token_ids = encode_batch(vec.key_to_index, tokens, padding=False)\n",
        "    embeddings = get_bag_of_embeddings(embedding, token_ids)\n",
        "\n",
        "    embeddings = embeddings.to(device)\n",
        "    labels = labels.to(device)\n",
        "\n",
        "    # write your code here\n",
        "    predictions = model(embeddings)\n",
        "\n",
        "    # write your code here\n",
        "    pred_class = predictions.argmax(dim=1)\n",
        "\n",
        "    pred_class = pred_class.tolist()\n",
        "    labels = labels.tolist()\n",
        "\n",
        "    metric1.add_batch(references=labels, predictions=pred_class)\n",
        "    metric2.add_batch(references=labels, predictions=pred_class)\n",
        "    metric3.add_batch(references=labels, predictions=pred_class)"
      ]
    },
    {
      "cell_type": "markdown",
      "id": "e32fe5f7",
      "metadata": {
        "id": "e32fe5f7"
      },
      "source": [
        "Finally, call each metric's `compute()` object to get the results. Just run the code below as is to visualize the resulting metrics:"
      ]
    },
    {
      "cell_type": "code",
      "execution_count": 35,
      "id": "79d64e36",
      "metadata": {
        "id": "79d64e36",
        "colab": {
          "base_uri": "https://localhost:8080/"
        },
        "outputId": "e661db13-166c-4c78-e62a-1717d23757b2"
      },
      "outputs": [
        {
          "output_type": "execute_result",
          "data": {
            "text/plain": [
              "({'precision': array([0.87607296, 0.9213198 , 0.80229525, 0.81990265])},\n",
              " {'recall': array([0.85947368, 0.95526316, 0.80947368, 0.79789474])},\n",
              " {'accuracy': 0.8555263157894737})"
            ]
          },
          "metadata": {},
          "execution_count": 35
        }
      ],
      "source": [
        "metric1.compute(average=None), metric2.compute(average=None), metric3.compute()"
      ]
    },
    {
      "cell_type": "markdown",
      "id": "f243255c",
      "metadata": {
        "id": "f243255c"
      },
      "source": [
        "A single linear layer can achieve roughly 85% accuracy, which isn't bad at all! Even old, traditional, embeddings such as GloVe can lead to pretty decent results."
      ]
    }
  ],
  "metadata": {
    "kernelspec": {
      "display_name": "Python 3 (ipykernel)",
      "language": "python",
      "name": "python3"
    },
    "language_info": {
      "codemirror_mode": {
        "name": "ipython",
        "version": 3
      },
      "file_extension": ".py",
      "mimetype": "text/x-python",
      "name": "python",
      "nbconvert_exporter": "python",
      "pygments_lexer": "ipython3",
      "version": "3.9.0"
    },
    "colab": {
      "provenance": [],
      "include_colab_link": true
    },
    "widgets": {
      "application/vnd.jupyter.widget-state+json": {
        "fcdf2e604b104c6aa84d349c4b2eccdf": {
          "model_module": "@jupyter-widgets/controls",
          "model_name": "HBoxModel",
          "model_module_version": "1.5.0",
          "state": {
            "_dom_classes": [],
            "_model_module": "@jupyter-widgets/controls",
            "_model_module_version": "1.5.0",
            "_model_name": "HBoxModel",
            "_view_count": null,
            "_view_module": "@jupyter-widgets/controls",
            "_view_module_version": "1.5.0",
            "_view_name": "HBoxView",
            "box_style": "",
            "children": [
              "IPY_MODEL_2b443fb0ead6422381a74fc8ad9f0aa7",
              "IPY_MODEL_c6412ebcfbdc4939b1c6e9eaf61d631f",
              "IPY_MODEL_69d85a554e21403abfd838959c489301"
            ],
            "layout": "IPY_MODEL_c655f173a77948b8adec15529be2ae5e"
          }
        },
        "2b443fb0ead6422381a74fc8ad9f0aa7": {
          "model_module": "@jupyter-widgets/controls",
          "model_name": "HTMLModel",
          "model_module_version": "1.5.0",
          "state": {
            "_dom_classes": [],
            "_model_module": "@jupyter-widgets/controls",
            "_model_module_version": "1.5.0",
            "_model_name": "HTMLModel",
            "_view_count": null,
            "_view_module": "@jupyter-widgets/controls",
            "_view_module_version": "1.5.0",
            "_view_name": "HTMLView",
            "description": "",
            "description_tooltip": null,
            "layout": "IPY_MODEL_eaa4466b58254f9d866314e162dc9f6e",
            "placeholder": "​",
            "style": "IPY_MODEL_66daa6b91c48473db462c8aa5b39305b",
            "value": "Generating train split: "
          }
        },
        "c6412ebcfbdc4939b1c6e9eaf61d631f": {
          "model_module": "@jupyter-widgets/controls",
          "model_name": "FloatProgressModel",
          "model_module_version": "1.5.0",
          "state": {
            "_dom_classes": [],
            "_model_module": "@jupyter-widgets/controls",
            "_model_module_version": "1.5.0",
            "_model_name": "FloatProgressModel",
            "_view_count": null,
            "_view_module": "@jupyter-widgets/controls",
            "_view_module_version": "1.5.0",
            "_view_name": "ProgressView",
            "bar_style": "success",
            "description": "",
            "description_tooltip": null,
            "layout": "IPY_MODEL_6b781734210c41b2ab24472f525a60a6",
            "max": 1,
            "min": 0,
            "orientation": "horizontal",
            "style": "IPY_MODEL_499fc9d19fa54dfea0f91e019fbb1804",
            "value": 1
          }
        },
        "69d85a554e21403abfd838959c489301": {
          "model_module": "@jupyter-widgets/controls",
          "model_name": "HTMLModel",
          "model_module_version": "1.5.0",
          "state": {
            "_dom_classes": [],
            "_model_module": "@jupyter-widgets/controls",
            "_model_module_version": "1.5.0",
            "_model_name": "HTMLModel",
            "_view_count": null,
            "_view_module": "@jupyter-widgets/controls",
            "_view_module_version": "1.5.0",
            "_view_name": "HTMLView",
            "description": "",
            "description_tooltip": null,
            "layout": "IPY_MODEL_7a3b711f437a4f87858b54ff6829f281",
            "placeholder": "​",
            "style": "IPY_MODEL_7b9556bf5e244b6c98680a464afed244",
            "value": " 120000/0 [00:00&lt;00:00, 167218.92 examples/s]"
          }
        },
        "c655f173a77948b8adec15529be2ae5e": {
          "model_module": "@jupyter-widgets/base",
          "model_name": "LayoutModel",
          "model_module_version": "1.2.0",
          "state": {
            "_model_module": "@jupyter-widgets/base",
            "_model_module_version": "1.2.0",
            "_model_name": "LayoutModel",
            "_view_count": null,
            "_view_module": "@jupyter-widgets/base",
            "_view_module_version": "1.2.0",
            "_view_name": "LayoutView",
            "align_content": null,
            "align_items": null,
            "align_self": null,
            "border": null,
            "bottom": null,
            "display": null,
            "flex": null,
            "flex_flow": null,
            "grid_area": null,
            "grid_auto_columns": null,
            "grid_auto_flow": null,
            "grid_auto_rows": null,
            "grid_column": null,
            "grid_gap": null,
            "grid_row": null,
            "grid_template_areas": null,
            "grid_template_columns": null,
            "grid_template_rows": null,
            "height": null,
            "justify_content": null,
            "justify_items": null,
            "left": null,
            "margin": null,
            "max_height": null,
            "max_width": null,
            "min_height": null,
            "min_width": null,
            "object_fit": null,
            "object_position": null,
            "order": null,
            "overflow": null,
            "overflow_x": null,
            "overflow_y": null,
            "padding": null,
            "right": null,
            "top": null,
            "visibility": null,
            "width": null
          }
        },
        "eaa4466b58254f9d866314e162dc9f6e": {
          "model_module": "@jupyter-widgets/base",
          "model_name": "LayoutModel",
          "model_module_version": "1.2.0",
          "state": {
            "_model_module": "@jupyter-widgets/base",
            "_model_module_version": "1.2.0",
            "_model_name": "LayoutModel",
            "_view_count": null,
            "_view_module": "@jupyter-widgets/base",
            "_view_module_version": "1.2.0",
            "_view_name": "LayoutView",
            "align_content": null,
            "align_items": null,
            "align_self": null,
            "border": null,
            "bottom": null,
            "display": null,
            "flex": null,
            "flex_flow": null,
            "grid_area": null,
            "grid_auto_columns": null,
            "grid_auto_flow": null,
            "grid_auto_rows": null,
            "grid_column": null,
            "grid_gap": null,
            "grid_row": null,
            "grid_template_areas": null,
            "grid_template_columns": null,
            "grid_template_rows": null,
            "height": null,
            "justify_content": null,
            "justify_items": null,
            "left": null,
            "margin": null,
            "max_height": null,
            "max_width": null,
            "min_height": null,
            "min_width": null,
            "object_fit": null,
            "object_position": null,
            "order": null,
            "overflow": null,
            "overflow_x": null,
            "overflow_y": null,
            "padding": null,
            "right": null,
            "top": null,
            "visibility": null,
            "width": null
          }
        },
        "66daa6b91c48473db462c8aa5b39305b": {
          "model_module": "@jupyter-widgets/controls",
          "model_name": "DescriptionStyleModel",
          "model_module_version": "1.5.0",
          "state": {
            "_model_module": "@jupyter-widgets/controls",
            "_model_module_version": "1.5.0",
            "_model_name": "DescriptionStyleModel",
            "_view_count": null,
            "_view_module": "@jupyter-widgets/base",
            "_view_module_version": "1.2.0",
            "_view_name": "StyleView",
            "description_width": ""
          }
        },
        "6b781734210c41b2ab24472f525a60a6": {
          "model_module": "@jupyter-widgets/base",
          "model_name": "LayoutModel",
          "model_module_version": "1.2.0",
          "state": {
            "_model_module": "@jupyter-widgets/base",
            "_model_module_version": "1.2.0",
            "_model_name": "LayoutModel",
            "_view_count": null,
            "_view_module": "@jupyter-widgets/base",
            "_view_module_version": "1.2.0",
            "_view_name": "LayoutView",
            "align_content": null,
            "align_items": null,
            "align_self": null,
            "border": null,
            "bottom": null,
            "display": null,
            "flex": null,
            "flex_flow": null,
            "grid_area": null,
            "grid_auto_columns": null,
            "grid_auto_flow": null,
            "grid_auto_rows": null,
            "grid_column": null,
            "grid_gap": null,
            "grid_row": null,
            "grid_template_areas": null,
            "grid_template_columns": null,
            "grid_template_rows": null,
            "height": null,
            "justify_content": null,
            "justify_items": null,
            "left": null,
            "margin": null,
            "max_height": null,
            "max_width": null,
            "min_height": null,
            "min_width": null,
            "object_fit": null,
            "object_position": null,
            "order": null,
            "overflow": null,
            "overflow_x": null,
            "overflow_y": null,
            "padding": null,
            "right": null,
            "top": null,
            "visibility": null,
            "width": "20px"
          }
        },
        "499fc9d19fa54dfea0f91e019fbb1804": {
          "model_module": "@jupyter-widgets/controls",
          "model_name": "ProgressStyleModel",
          "model_module_version": "1.5.0",
          "state": {
            "_model_module": "@jupyter-widgets/controls",
            "_model_module_version": "1.5.0",
            "_model_name": "ProgressStyleModel",
            "_view_count": null,
            "_view_module": "@jupyter-widgets/base",
            "_view_module_version": "1.2.0",
            "_view_name": "StyleView",
            "bar_color": null,
            "description_width": ""
          }
        },
        "7a3b711f437a4f87858b54ff6829f281": {
          "model_module": "@jupyter-widgets/base",
          "model_name": "LayoutModel",
          "model_module_version": "1.2.0",
          "state": {
            "_model_module": "@jupyter-widgets/base",
            "_model_module_version": "1.2.0",
            "_model_name": "LayoutModel",
            "_view_count": null,
            "_view_module": "@jupyter-widgets/base",
            "_view_module_version": "1.2.0",
            "_view_name": "LayoutView",
            "align_content": null,
            "align_items": null,
            "align_self": null,
            "border": null,
            "bottom": null,
            "display": null,
            "flex": null,
            "flex_flow": null,
            "grid_area": null,
            "grid_auto_columns": null,
            "grid_auto_flow": null,
            "grid_auto_rows": null,
            "grid_column": null,
            "grid_gap": null,
            "grid_row": null,
            "grid_template_areas": null,
            "grid_template_columns": null,
            "grid_template_rows": null,
            "height": null,
            "justify_content": null,
            "justify_items": null,
            "left": null,
            "margin": null,
            "max_height": null,
            "max_width": null,
            "min_height": null,
            "min_width": null,
            "object_fit": null,
            "object_position": null,
            "order": null,
            "overflow": null,
            "overflow_x": null,
            "overflow_y": null,
            "padding": null,
            "right": null,
            "top": null,
            "visibility": null,
            "width": null
          }
        },
        "7b9556bf5e244b6c98680a464afed244": {
          "model_module": "@jupyter-widgets/controls",
          "model_name": "DescriptionStyleModel",
          "model_module_version": "1.5.0",
          "state": {
            "_model_module": "@jupyter-widgets/controls",
            "_model_module_version": "1.5.0",
            "_model_name": "DescriptionStyleModel",
            "_view_count": null,
            "_view_module": "@jupyter-widgets/base",
            "_view_module_version": "1.2.0",
            "_view_name": "StyleView",
            "description_width": ""
          }
        },
        "58afa7221fa64e7ea61bf8dbe795fc68": {
          "model_module": "@jupyter-widgets/controls",
          "model_name": "HBoxModel",
          "model_module_version": "1.5.0",
          "state": {
            "_dom_classes": [],
            "_model_module": "@jupyter-widgets/controls",
            "_model_module_version": "1.5.0",
            "_model_name": "HBoxModel",
            "_view_count": null,
            "_view_module": "@jupyter-widgets/controls",
            "_view_module_version": "1.5.0",
            "_view_name": "HBoxView",
            "box_style": "",
            "children": [
              "IPY_MODEL_ac52d5983f074c6981c2d834a3252a8b",
              "IPY_MODEL_2e7594566e444d3b9908498733331834",
              "IPY_MODEL_2686d40ba17c44c28097c31d153e44da"
            ],
            "layout": "IPY_MODEL_1891a3366d1544bebcb7cac59b2dec04"
          }
        },
        "ac52d5983f074c6981c2d834a3252a8b": {
          "model_module": "@jupyter-widgets/controls",
          "model_name": "HTMLModel",
          "model_module_version": "1.5.0",
          "state": {
            "_dom_classes": [],
            "_model_module": "@jupyter-widgets/controls",
            "_model_module_version": "1.5.0",
            "_model_name": "HTMLModel",
            "_view_count": null,
            "_view_module": "@jupyter-widgets/controls",
            "_view_module_version": "1.5.0",
            "_view_name": "HTMLView",
            "description": "",
            "description_tooltip": null,
            "layout": "IPY_MODEL_73fabe115a0a431683a5b2dc8a7e5dd3",
            "placeholder": "​",
            "style": "IPY_MODEL_9869b11dbf0c4ebc9bdfedc6995a56a2",
            "value": "Generating train split: "
          }
        },
        "2e7594566e444d3b9908498733331834": {
          "model_module": "@jupyter-widgets/controls",
          "model_name": "FloatProgressModel",
          "model_module_version": "1.5.0",
          "state": {
            "_dom_classes": [],
            "_model_module": "@jupyter-widgets/controls",
            "_model_module_version": "1.5.0",
            "_model_name": "FloatProgressModel",
            "_view_count": null,
            "_view_module": "@jupyter-widgets/controls",
            "_view_module_version": "1.5.0",
            "_view_name": "ProgressView",
            "bar_style": "success",
            "description": "",
            "description_tooltip": null,
            "layout": "IPY_MODEL_fc3ce31138034437a59a750e8030f33f",
            "max": 1,
            "min": 0,
            "orientation": "horizontal",
            "style": "IPY_MODEL_007a5e818d564b0d8f2e3c6b1fd7423b",
            "value": 1
          }
        },
        "2686d40ba17c44c28097c31d153e44da": {
          "model_module": "@jupyter-widgets/controls",
          "model_name": "HTMLModel",
          "model_module_version": "1.5.0",
          "state": {
            "_dom_classes": [],
            "_model_module": "@jupyter-widgets/controls",
            "_model_module_version": "1.5.0",
            "_model_name": "HTMLModel",
            "_view_count": null,
            "_view_module": "@jupyter-widgets/controls",
            "_view_module_version": "1.5.0",
            "_view_name": "HTMLView",
            "description": "",
            "description_tooltip": null,
            "layout": "IPY_MODEL_9402d0ae966146efb73335eeccdf0374",
            "placeholder": "​",
            "style": "IPY_MODEL_c9768e7a3c994519a32f67427c5088c6",
            "value": " 7600/0 [00:00&lt;00:00, 85590.46 examples/s]"
          }
        },
        "1891a3366d1544bebcb7cac59b2dec04": {
          "model_module": "@jupyter-widgets/base",
          "model_name": "LayoutModel",
          "model_module_version": "1.2.0",
          "state": {
            "_model_module": "@jupyter-widgets/base",
            "_model_module_version": "1.2.0",
            "_model_name": "LayoutModel",
            "_view_count": null,
            "_view_module": "@jupyter-widgets/base",
            "_view_module_version": "1.2.0",
            "_view_name": "LayoutView",
            "align_content": null,
            "align_items": null,
            "align_self": null,
            "border": null,
            "bottom": null,
            "display": null,
            "flex": null,
            "flex_flow": null,
            "grid_area": null,
            "grid_auto_columns": null,
            "grid_auto_flow": null,
            "grid_auto_rows": null,
            "grid_column": null,
            "grid_gap": null,
            "grid_row": null,
            "grid_template_areas": null,
            "grid_template_columns": null,
            "grid_template_rows": null,
            "height": null,
            "justify_content": null,
            "justify_items": null,
            "left": null,
            "margin": null,
            "max_height": null,
            "max_width": null,
            "min_height": null,
            "min_width": null,
            "object_fit": null,
            "object_position": null,
            "order": null,
            "overflow": null,
            "overflow_x": null,
            "overflow_y": null,
            "padding": null,
            "right": null,
            "top": null,
            "visibility": null,
            "width": null
          }
        },
        "73fabe115a0a431683a5b2dc8a7e5dd3": {
          "model_module": "@jupyter-widgets/base",
          "model_name": "LayoutModel",
          "model_module_version": "1.2.0",
          "state": {
            "_model_module": "@jupyter-widgets/base",
            "_model_module_version": "1.2.0",
            "_model_name": "LayoutModel",
            "_view_count": null,
            "_view_module": "@jupyter-widgets/base",
            "_view_module_version": "1.2.0",
            "_view_name": "LayoutView",
            "align_content": null,
            "align_items": null,
            "align_self": null,
            "border": null,
            "bottom": null,
            "display": null,
            "flex": null,
            "flex_flow": null,
            "grid_area": null,
            "grid_auto_columns": null,
            "grid_auto_flow": null,
            "grid_auto_rows": null,
            "grid_column": null,
            "grid_gap": null,
            "grid_row": null,
            "grid_template_areas": null,
            "grid_template_columns": null,
            "grid_template_rows": null,
            "height": null,
            "justify_content": null,
            "justify_items": null,
            "left": null,
            "margin": null,
            "max_height": null,
            "max_width": null,
            "min_height": null,
            "min_width": null,
            "object_fit": null,
            "object_position": null,
            "order": null,
            "overflow": null,
            "overflow_x": null,
            "overflow_y": null,
            "padding": null,
            "right": null,
            "top": null,
            "visibility": null,
            "width": null
          }
        },
        "9869b11dbf0c4ebc9bdfedc6995a56a2": {
          "model_module": "@jupyter-widgets/controls",
          "model_name": "DescriptionStyleModel",
          "model_module_version": "1.5.0",
          "state": {
            "_model_module": "@jupyter-widgets/controls",
            "_model_module_version": "1.5.0",
            "_model_name": "DescriptionStyleModel",
            "_view_count": null,
            "_view_module": "@jupyter-widgets/base",
            "_view_module_version": "1.2.0",
            "_view_name": "StyleView",
            "description_width": ""
          }
        },
        "fc3ce31138034437a59a750e8030f33f": {
          "model_module": "@jupyter-widgets/base",
          "model_name": "LayoutModel",
          "model_module_version": "1.2.0",
          "state": {
            "_model_module": "@jupyter-widgets/base",
            "_model_module_version": "1.2.0",
            "_model_name": "LayoutModel",
            "_view_count": null,
            "_view_module": "@jupyter-widgets/base",
            "_view_module_version": "1.2.0",
            "_view_name": "LayoutView",
            "align_content": null,
            "align_items": null,
            "align_self": null,
            "border": null,
            "bottom": null,
            "display": null,
            "flex": null,
            "flex_flow": null,
            "grid_area": null,
            "grid_auto_columns": null,
            "grid_auto_flow": null,
            "grid_auto_rows": null,
            "grid_column": null,
            "grid_gap": null,
            "grid_row": null,
            "grid_template_areas": null,
            "grid_template_columns": null,
            "grid_template_rows": null,
            "height": null,
            "justify_content": null,
            "justify_items": null,
            "left": null,
            "margin": null,
            "max_height": null,
            "max_width": null,
            "min_height": null,
            "min_width": null,
            "object_fit": null,
            "object_position": null,
            "order": null,
            "overflow": null,
            "overflow_x": null,
            "overflow_y": null,
            "padding": null,
            "right": null,
            "top": null,
            "visibility": null,
            "width": "20px"
          }
        },
        "007a5e818d564b0d8f2e3c6b1fd7423b": {
          "model_module": "@jupyter-widgets/controls",
          "model_name": "ProgressStyleModel",
          "model_module_version": "1.5.0",
          "state": {
            "_model_module": "@jupyter-widgets/controls",
            "_model_module_version": "1.5.0",
            "_model_name": "ProgressStyleModel",
            "_view_count": null,
            "_view_module": "@jupyter-widgets/base",
            "_view_module_version": "1.2.0",
            "_view_name": "StyleView",
            "bar_color": null,
            "description_width": ""
          }
        },
        "9402d0ae966146efb73335eeccdf0374": {
          "model_module": "@jupyter-widgets/base",
          "model_name": "LayoutModel",
          "model_module_version": "1.2.0",
          "state": {
            "_model_module": "@jupyter-widgets/base",
            "_model_module_version": "1.2.0",
            "_model_name": "LayoutModel",
            "_view_count": null,
            "_view_module": "@jupyter-widgets/base",
            "_view_module_version": "1.2.0",
            "_view_name": "LayoutView",
            "align_content": null,
            "align_items": null,
            "align_self": null,
            "border": null,
            "bottom": null,
            "display": null,
            "flex": null,
            "flex_flow": null,
            "grid_area": null,
            "grid_auto_columns": null,
            "grid_auto_flow": null,
            "grid_auto_rows": null,
            "grid_column": null,
            "grid_gap": null,
            "grid_row": null,
            "grid_template_areas": null,
            "grid_template_columns": null,
            "grid_template_rows": null,
            "height": null,
            "justify_content": null,
            "justify_items": null,
            "left": null,
            "margin": null,
            "max_height": null,
            "max_width": null,
            "min_height": null,
            "min_width": null,
            "object_fit": null,
            "object_position": null,
            "order": null,
            "overflow": null,
            "overflow_x": null,
            "overflow_y": null,
            "padding": null,
            "right": null,
            "top": null,
            "visibility": null,
            "width": null
          }
        },
        "c9768e7a3c994519a32f67427c5088c6": {
          "model_module": "@jupyter-widgets/controls",
          "model_name": "DescriptionStyleModel",
          "model_module_version": "1.5.0",
          "state": {
            "_model_module": "@jupyter-widgets/controls",
            "_model_module_version": "1.5.0",
            "_model_name": "DescriptionStyleModel",
            "_view_count": null,
            "_view_module": "@jupyter-widgets/base",
            "_view_module_version": "1.2.0",
            "_view_name": "StyleView",
            "description_width": ""
          }
        },
        "8926cb28218c4a4d8a70a66d58a95a84": {
          "model_module": "@jupyter-widgets/controls",
          "model_name": "HBoxModel",
          "model_module_version": "1.5.0",
          "state": {
            "_dom_classes": [],
            "_model_module": "@jupyter-widgets/controls",
            "_model_module_version": "1.5.0",
            "_model_name": "HBoxModel",
            "_view_count": null,
            "_view_module": "@jupyter-widgets/controls",
            "_view_module_version": "1.5.0",
            "_view_name": "HBoxView",
            "box_style": "",
            "children": [
              "IPY_MODEL_f2a36aaaace045afbe3a8885cbe0efc9",
              "IPY_MODEL_71dee5a94d474205a867259a52ed5179",
              "IPY_MODEL_5f7cfba061224a7382e3da259c188b18"
            ],
            "layout": "IPY_MODEL_7da8267d4964441293dd77c3d169aee0"
          }
        },
        "f2a36aaaace045afbe3a8885cbe0efc9": {
          "model_module": "@jupyter-widgets/controls",
          "model_name": "HTMLModel",
          "model_module_version": "1.5.0",
          "state": {
            "_dom_classes": [],
            "_model_module": "@jupyter-widgets/controls",
            "_model_module_version": "1.5.0",
            "_model_name": "HTMLModel",
            "_view_count": null,
            "_view_module": "@jupyter-widgets/controls",
            "_view_module_version": "1.5.0",
            "_view_name": "HTMLView",
            "description": "",
            "description_tooltip": null,
            "layout": "IPY_MODEL_52337d4ae9124ef587945b2fc8a3af22",
            "placeholder": "​",
            "style": "IPY_MODEL_58cb46fd7e614f9380a6c8d70da54e52",
            "value": "Map: 100%"
          }
        },
        "71dee5a94d474205a867259a52ed5179": {
          "model_module": "@jupyter-widgets/controls",
          "model_name": "FloatProgressModel",
          "model_module_version": "1.5.0",
          "state": {
            "_dom_classes": [],
            "_model_module": "@jupyter-widgets/controls",
            "_model_module_version": "1.5.0",
            "_model_name": "FloatProgressModel",
            "_view_count": null,
            "_view_module": "@jupyter-widgets/controls",
            "_view_module_version": "1.5.0",
            "_view_name": "ProgressView",
            "bar_style": "success",
            "description": "",
            "description_tooltip": null,
            "layout": "IPY_MODEL_231e58c1d63b409d8ca7db1b4a876193",
            "max": 120000,
            "min": 0,
            "orientation": "horizontal",
            "style": "IPY_MODEL_b6a369c90b9f4f48865751738e9294c8",
            "value": 120000
          }
        },
        "5f7cfba061224a7382e3da259c188b18": {
          "model_module": "@jupyter-widgets/controls",
          "model_name": "HTMLModel",
          "model_module_version": "1.5.0",
          "state": {
            "_dom_classes": [],
            "_model_module": "@jupyter-widgets/controls",
            "_model_module_version": "1.5.0",
            "_model_name": "HTMLModel",
            "_view_count": null,
            "_view_module": "@jupyter-widgets/controls",
            "_view_module_version": "1.5.0",
            "_view_name": "HTMLView",
            "description": "",
            "description_tooltip": null,
            "layout": "IPY_MODEL_c4f73a598f5e4d39a51730624e16fa6f",
            "placeholder": "​",
            "style": "IPY_MODEL_57695f3bcf16432686bf52a662646ea1",
            "value": " 120000/120000 [00:10&lt;00:00, 12345.54 examples/s]"
          }
        },
        "7da8267d4964441293dd77c3d169aee0": {
          "model_module": "@jupyter-widgets/base",
          "model_name": "LayoutModel",
          "model_module_version": "1.2.0",
          "state": {
            "_model_module": "@jupyter-widgets/base",
            "_model_module_version": "1.2.0",
            "_model_name": "LayoutModel",
            "_view_count": null,
            "_view_module": "@jupyter-widgets/base",
            "_view_module_version": "1.2.0",
            "_view_name": "LayoutView",
            "align_content": null,
            "align_items": null,
            "align_self": null,
            "border": null,
            "bottom": null,
            "display": null,
            "flex": null,
            "flex_flow": null,
            "grid_area": null,
            "grid_auto_columns": null,
            "grid_auto_flow": null,
            "grid_auto_rows": null,
            "grid_column": null,
            "grid_gap": null,
            "grid_row": null,
            "grid_template_areas": null,
            "grid_template_columns": null,
            "grid_template_rows": null,
            "height": null,
            "justify_content": null,
            "justify_items": null,
            "left": null,
            "margin": null,
            "max_height": null,
            "max_width": null,
            "min_height": null,
            "min_width": null,
            "object_fit": null,
            "object_position": null,
            "order": null,
            "overflow": null,
            "overflow_x": null,
            "overflow_y": null,
            "padding": null,
            "right": null,
            "top": null,
            "visibility": null,
            "width": null
          }
        },
        "52337d4ae9124ef587945b2fc8a3af22": {
          "model_module": "@jupyter-widgets/base",
          "model_name": "LayoutModel",
          "model_module_version": "1.2.0",
          "state": {
            "_model_module": "@jupyter-widgets/base",
            "_model_module_version": "1.2.0",
            "_model_name": "LayoutModel",
            "_view_count": null,
            "_view_module": "@jupyter-widgets/base",
            "_view_module_version": "1.2.0",
            "_view_name": "LayoutView",
            "align_content": null,
            "align_items": null,
            "align_self": null,
            "border": null,
            "bottom": null,
            "display": null,
            "flex": null,
            "flex_flow": null,
            "grid_area": null,
            "grid_auto_columns": null,
            "grid_auto_flow": null,
            "grid_auto_rows": null,
            "grid_column": null,
            "grid_gap": null,
            "grid_row": null,
            "grid_template_areas": null,
            "grid_template_columns": null,
            "grid_template_rows": null,
            "height": null,
            "justify_content": null,
            "justify_items": null,
            "left": null,
            "margin": null,
            "max_height": null,
            "max_width": null,
            "min_height": null,
            "min_width": null,
            "object_fit": null,
            "object_position": null,
            "order": null,
            "overflow": null,
            "overflow_x": null,
            "overflow_y": null,
            "padding": null,
            "right": null,
            "top": null,
            "visibility": null,
            "width": null
          }
        },
        "58cb46fd7e614f9380a6c8d70da54e52": {
          "model_module": "@jupyter-widgets/controls",
          "model_name": "DescriptionStyleModel",
          "model_module_version": "1.5.0",
          "state": {
            "_model_module": "@jupyter-widgets/controls",
            "_model_module_version": "1.5.0",
            "_model_name": "DescriptionStyleModel",
            "_view_count": null,
            "_view_module": "@jupyter-widgets/base",
            "_view_module_version": "1.2.0",
            "_view_name": "StyleView",
            "description_width": ""
          }
        },
        "231e58c1d63b409d8ca7db1b4a876193": {
          "model_module": "@jupyter-widgets/base",
          "model_name": "LayoutModel",
          "model_module_version": "1.2.0",
          "state": {
            "_model_module": "@jupyter-widgets/base",
            "_model_module_version": "1.2.0",
            "_model_name": "LayoutModel",
            "_view_count": null,
            "_view_module": "@jupyter-widgets/base",
            "_view_module_version": "1.2.0",
            "_view_name": "LayoutView",
            "align_content": null,
            "align_items": null,
            "align_self": null,
            "border": null,
            "bottom": null,
            "display": null,
            "flex": null,
            "flex_flow": null,
            "grid_area": null,
            "grid_auto_columns": null,
            "grid_auto_flow": null,
            "grid_auto_rows": null,
            "grid_column": null,
            "grid_gap": null,
            "grid_row": null,
            "grid_template_areas": null,
            "grid_template_columns": null,
            "grid_template_rows": null,
            "height": null,
            "justify_content": null,
            "justify_items": null,
            "left": null,
            "margin": null,
            "max_height": null,
            "max_width": null,
            "min_height": null,
            "min_width": null,
            "object_fit": null,
            "object_position": null,
            "order": null,
            "overflow": null,
            "overflow_x": null,
            "overflow_y": null,
            "padding": null,
            "right": null,
            "top": null,
            "visibility": null,
            "width": null
          }
        },
        "b6a369c90b9f4f48865751738e9294c8": {
          "model_module": "@jupyter-widgets/controls",
          "model_name": "ProgressStyleModel",
          "model_module_version": "1.5.0",
          "state": {
            "_model_module": "@jupyter-widgets/controls",
            "_model_module_version": "1.5.0",
            "_model_name": "ProgressStyleModel",
            "_view_count": null,
            "_view_module": "@jupyter-widgets/base",
            "_view_module_version": "1.2.0",
            "_view_name": "StyleView",
            "bar_color": null,
            "description_width": ""
          }
        },
        "c4f73a598f5e4d39a51730624e16fa6f": {
          "model_module": "@jupyter-widgets/base",
          "model_name": "LayoutModel",
          "model_module_version": "1.2.0",
          "state": {
            "_model_module": "@jupyter-widgets/base",
            "_model_module_version": "1.2.0",
            "_model_name": "LayoutModel",
            "_view_count": null,
            "_view_module": "@jupyter-widgets/base",
            "_view_module_version": "1.2.0",
            "_view_name": "LayoutView",
            "align_content": null,
            "align_items": null,
            "align_self": null,
            "border": null,
            "bottom": null,
            "display": null,
            "flex": null,
            "flex_flow": null,
            "grid_area": null,
            "grid_auto_columns": null,
            "grid_auto_flow": null,
            "grid_auto_rows": null,
            "grid_column": null,
            "grid_gap": null,
            "grid_row": null,
            "grid_template_areas": null,
            "grid_template_columns": null,
            "grid_template_rows": null,
            "height": null,
            "justify_content": null,
            "justify_items": null,
            "left": null,
            "margin": null,
            "max_height": null,
            "max_width": null,
            "min_height": null,
            "min_width": null,
            "object_fit": null,
            "object_position": null,
            "order": null,
            "overflow": null,
            "overflow_x": null,
            "overflow_y": null,
            "padding": null,
            "right": null,
            "top": null,
            "visibility": null,
            "width": null
          }
        },
        "57695f3bcf16432686bf52a662646ea1": {
          "model_module": "@jupyter-widgets/controls",
          "model_name": "DescriptionStyleModel",
          "model_module_version": "1.5.0",
          "state": {
            "_model_module": "@jupyter-widgets/controls",
            "_model_module_version": "1.5.0",
            "_model_name": "DescriptionStyleModel",
            "_view_count": null,
            "_view_module": "@jupyter-widgets/base",
            "_view_module_version": "1.2.0",
            "_view_name": "StyleView",
            "description_width": ""
          }
        },
        "06043989b2264b58902d71eb55132747": {
          "model_module": "@jupyter-widgets/controls",
          "model_name": "HBoxModel",
          "model_module_version": "1.5.0",
          "state": {
            "_dom_classes": [],
            "_model_module": "@jupyter-widgets/controls",
            "_model_module_version": "1.5.0",
            "_model_name": "HBoxModel",
            "_view_count": null,
            "_view_module": "@jupyter-widgets/controls",
            "_view_module_version": "1.5.0",
            "_view_name": "HBoxView",
            "box_style": "",
            "children": [
              "IPY_MODEL_84f62d65feb24f53a8cd65c23f6400be",
              "IPY_MODEL_dec4a2025ba244f3a0f408941bca1358",
              "IPY_MODEL_c8a1bf60d06549eb9a96888e54eded28"
            ],
            "layout": "IPY_MODEL_c0ec157a956c4271b7ee4580dfa9916b"
          }
        },
        "84f62d65feb24f53a8cd65c23f6400be": {
          "model_module": "@jupyter-widgets/controls",
          "model_name": "HTMLModel",
          "model_module_version": "1.5.0",
          "state": {
            "_dom_classes": [],
            "_model_module": "@jupyter-widgets/controls",
            "_model_module_version": "1.5.0",
            "_model_name": "HTMLModel",
            "_view_count": null,
            "_view_module": "@jupyter-widgets/controls",
            "_view_module_version": "1.5.0",
            "_view_name": "HTMLView",
            "description": "",
            "description_tooltip": null,
            "layout": "IPY_MODEL_6e2a3b2ff51749d9916f48f0c553ec9d",
            "placeholder": "​",
            "style": "IPY_MODEL_5552f2bb6c6247cfbcf7115b5702a731",
            "value": "Map: 100%"
          }
        },
        "dec4a2025ba244f3a0f408941bca1358": {
          "model_module": "@jupyter-widgets/controls",
          "model_name": "FloatProgressModel",
          "model_module_version": "1.5.0",
          "state": {
            "_dom_classes": [],
            "_model_module": "@jupyter-widgets/controls",
            "_model_module_version": "1.5.0",
            "_model_name": "FloatProgressModel",
            "_view_count": null,
            "_view_module": "@jupyter-widgets/controls",
            "_view_module_version": "1.5.0",
            "_view_name": "ProgressView",
            "bar_style": "success",
            "description": "",
            "description_tooltip": null,
            "layout": "IPY_MODEL_16b6a1fae69c4e81ad93c57f0a07b2d9",
            "max": 7600,
            "min": 0,
            "orientation": "horizontal",
            "style": "IPY_MODEL_9679053c0cf5435bab72a7c80e1f1713",
            "value": 7600
          }
        },
        "c8a1bf60d06549eb9a96888e54eded28": {
          "model_module": "@jupyter-widgets/controls",
          "model_name": "HTMLModel",
          "model_module_version": "1.5.0",
          "state": {
            "_dom_classes": [],
            "_model_module": "@jupyter-widgets/controls",
            "_model_module_version": "1.5.0",
            "_model_name": "HTMLModel",
            "_view_count": null,
            "_view_module": "@jupyter-widgets/controls",
            "_view_module_version": "1.5.0",
            "_view_name": "HTMLView",
            "description": "",
            "description_tooltip": null,
            "layout": "IPY_MODEL_a3b5ee4a2ee2416bab3d2bd92155a33d",
            "placeholder": "​",
            "style": "IPY_MODEL_c868d5f7235341d4a67e5fd2950aefd2",
            "value": " 7600/7600 [00:00&lt;00:00, 12277.73 examples/s]"
          }
        },
        "c0ec157a956c4271b7ee4580dfa9916b": {
          "model_module": "@jupyter-widgets/base",
          "model_name": "LayoutModel",
          "model_module_version": "1.2.0",
          "state": {
            "_model_module": "@jupyter-widgets/base",
            "_model_module_version": "1.2.0",
            "_model_name": "LayoutModel",
            "_view_count": null,
            "_view_module": "@jupyter-widgets/base",
            "_view_module_version": "1.2.0",
            "_view_name": "LayoutView",
            "align_content": null,
            "align_items": null,
            "align_self": null,
            "border": null,
            "bottom": null,
            "display": null,
            "flex": null,
            "flex_flow": null,
            "grid_area": null,
            "grid_auto_columns": null,
            "grid_auto_flow": null,
            "grid_auto_rows": null,
            "grid_column": null,
            "grid_gap": null,
            "grid_row": null,
            "grid_template_areas": null,
            "grid_template_columns": null,
            "grid_template_rows": null,
            "height": null,
            "justify_content": null,
            "justify_items": null,
            "left": null,
            "margin": null,
            "max_height": null,
            "max_width": null,
            "min_height": null,
            "min_width": null,
            "object_fit": null,
            "object_position": null,
            "order": null,
            "overflow": null,
            "overflow_x": null,
            "overflow_y": null,
            "padding": null,
            "right": null,
            "top": null,
            "visibility": null,
            "width": null
          }
        },
        "6e2a3b2ff51749d9916f48f0c553ec9d": {
          "model_module": "@jupyter-widgets/base",
          "model_name": "LayoutModel",
          "model_module_version": "1.2.0",
          "state": {
            "_model_module": "@jupyter-widgets/base",
            "_model_module_version": "1.2.0",
            "_model_name": "LayoutModel",
            "_view_count": null,
            "_view_module": "@jupyter-widgets/base",
            "_view_module_version": "1.2.0",
            "_view_name": "LayoutView",
            "align_content": null,
            "align_items": null,
            "align_self": null,
            "border": null,
            "bottom": null,
            "display": null,
            "flex": null,
            "flex_flow": null,
            "grid_area": null,
            "grid_auto_columns": null,
            "grid_auto_flow": null,
            "grid_auto_rows": null,
            "grid_column": null,
            "grid_gap": null,
            "grid_row": null,
            "grid_template_areas": null,
            "grid_template_columns": null,
            "grid_template_rows": null,
            "height": null,
            "justify_content": null,
            "justify_items": null,
            "left": null,
            "margin": null,
            "max_height": null,
            "max_width": null,
            "min_height": null,
            "min_width": null,
            "object_fit": null,
            "object_position": null,
            "order": null,
            "overflow": null,
            "overflow_x": null,
            "overflow_y": null,
            "padding": null,
            "right": null,
            "top": null,
            "visibility": null,
            "width": null
          }
        },
        "5552f2bb6c6247cfbcf7115b5702a731": {
          "model_module": "@jupyter-widgets/controls",
          "model_name": "DescriptionStyleModel",
          "model_module_version": "1.5.0",
          "state": {
            "_model_module": "@jupyter-widgets/controls",
            "_model_module_version": "1.5.0",
            "_model_name": "DescriptionStyleModel",
            "_view_count": null,
            "_view_module": "@jupyter-widgets/base",
            "_view_module_version": "1.2.0",
            "_view_name": "StyleView",
            "description_width": ""
          }
        },
        "16b6a1fae69c4e81ad93c57f0a07b2d9": {
          "model_module": "@jupyter-widgets/base",
          "model_name": "LayoutModel",
          "model_module_version": "1.2.0",
          "state": {
            "_model_module": "@jupyter-widgets/base",
            "_model_module_version": "1.2.0",
            "_model_name": "LayoutModel",
            "_view_count": null,
            "_view_module": "@jupyter-widgets/base",
            "_view_module_version": "1.2.0",
            "_view_name": "LayoutView",
            "align_content": null,
            "align_items": null,
            "align_self": null,
            "border": null,
            "bottom": null,
            "display": null,
            "flex": null,
            "flex_flow": null,
            "grid_area": null,
            "grid_auto_columns": null,
            "grid_auto_flow": null,
            "grid_auto_rows": null,
            "grid_column": null,
            "grid_gap": null,
            "grid_row": null,
            "grid_template_areas": null,
            "grid_template_columns": null,
            "grid_template_rows": null,
            "height": null,
            "justify_content": null,
            "justify_items": null,
            "left": null,
            "margin": null,
            "max_height": null,
            "max_width": null,
            "min_height": null,
            "min_width": null,
            "object_fit": null,
            "object_position": null,
            "order": null,
            "overflow": null,
            "overflow_x": null,
            "overflow_y": null,
            "padding": null,
            "right": null,
            "top": null,
            "visibility": null,
            "width": null
          }
        },
        "9679053c0cf5435bab72a7c80e1f1713": {
          "model_module": "@jupyter-widgets/controls",
          "model_name": "ProgressStyleModel",
          "model_module_version": "1.5.0",
          "state": {
            "_model_module": "@jupyter-widgets/controls",
            "_model_module_version": "1.5.0",
            "_model_name": "ProgressStyleModel",
            "_view_count": null,
            "_view_module": "@jupyter-widgets/base",
            "_view_module_version": "1.2.0",
            "_view_name": "StyleView",
            "bar_color": null,
            "description_width": ""
          }
        },
        "a3b5ee4a2ee2416bab3d2bd92155a33d": {
          "model_module": "@jupyter-widgets/base",
          "model_name": "LayoutModel",
          "model_module_version": "1.2.0",
          "state": {
            "_model_module": "@jupyter-widgets/base",
            "_model_module_version": "1.2.0",
            "_model_name": "LayoutModel",
            "_view_count": null,
            "_view_module": "@jupyter-widgets/base",
            "_view_module_version": "1.2.0",
            "_view_name": "LayoutView",
            "align_content": null,
            "align_items": null,
            "align_self": null,
            "border": null,
            "bottom": null,
            "display": null,
            "flex": null,
            "flex_flow": null,
            "grid_area": null,
            "grid_auto_columns": null,
            "grid_auto_flow": null,
            "grid_auto_rows": null,
            "grid_column": null,
            "grid_gap": null,
            "grid_row": null,
            "grid_template_areas": null,
            "grid_template_columns": null,
            "grid_template_rows": null,
            "height": null,
            "justify_content": null,
            "justify_items": null,
            "left": null,
            "margin": null,
            "max_height": null,
            "max_width": null,
            "min_height": null,
            "min_width": null,
            "object_fit": null,
            "object_position": null,
            "order": null,
            "overflow": null,
            "overflow_x": null,
            "overflow_y": null,
            "padding": null,
            "right": null,
            "top": null,
            "visibility": null,
            "width": null
          }
        },
        "c868d5f7235341d4a67e5fd2950aefd2": {
          "model_module": "@jupyter-widgets/controls",
          "model_name": "DescriptionStyleModel",
          "model_module_version": "1.5.0",
          "state": {
            "_model_module": "@jupyter-widgets/controls",
            "_model_module_version": "1.5.0",
            "_model_name": "DescriptionStyleModel",
            "_view_count": null,
            "_view_module": "@jupyter-widgets/base",
            "_view_module_version": "1.2.0",
            "_view_name": "StyleView",
            "description_width": ""
          }
        },
        "57984387d49541c382d6cb6a17a6a1c3": {
          "model_module": "@jupyter-widgets/controls",
          "model_name": "HBoxModel",
          "model_module_version": "1.5.0",
          "state": {
            "_dom_classes": [],
            "_model_module": "@jupyter-widgets/controls",
            "_model_module_version": "1.5.0",
            "_model_name": "HBoxModel",
            "_view_count": null,
            "_view_module": "@jupyter-widgets/controls",
            "_view_module_version": "1.5.0",
            "_view_name": "HBoxView",
            "box_style": "",
            "children": [
              "IPY_MODEL_452b5315afe04177933d5b8c4b7a46b9",
              "IPY_MODEL_0ac50e5c9e95451294e9ef9c95e88afc",
              "IPY_MODEL_f34d77a36f4f461a9269ca8d14a9becd"
            ],
            "layout": "IPY_MODEL_b5369622ad9843508a44581c771b2be7"
          }
        },
        "452b5315afe04177933d5b8c4b7a46b9": {
          "model_module": "@jupyter-widgets/controls",
          "model_name": "HTMLModel",
          "model_module_version": "1.5.0",
          "state": {
            "_dom_classes": [],
            "_model_module": "@jupyter-widgets/controls",
            "_model_module_version": "1.5.0",
            "_model_name": "HTMLModel",
            "_view_count": null,
            "_view_module": "@jupyter-widgets/controls",
            "_view_module_version": "1.5.0",
            "_view_name": "HTMLView",
            "description": "",
            "description_tooltip": null,
            "layout": "IPY_MODEL_78b6e45599a443189c4083745810e5ce",
            "placeholder": "​",
            "style": "IPY_MODEL_b3f21b92c8c441019bab0c595a0da822",
            "value": "Downloading builder script: 100%"
          }
        },
        "0ac50e5c9e95451294e9ef9c95e88afc": {
          "model_module": "@jupyter-widgets/controls",
          "model_name": "FloatProgressModel",
          "model_module_version": "1.5.0",
          "state": {
            "_dom_classes": [],
            "_model_module": "@jupyter-widgets/controls",
            "_model_module_version": "1.5.0",
            "_model_name": "FloatProgressModel",
            "_view_count": null,
            "_view_module": "@jupyter-widgets/controls",
            "_view_module_version": "1.5.0",
            "_view_name": "ProgressView",
            "bar_style": "success",
            "description": "",
            "description_tooltip": null,
            "layout": "IPY_MODEL_1fd762a8bc414fb5acb141acdea2bf9f",
            "max": 7560,
            "min": 0,
            "orientation": "horizontal",
            "style": "IPY_MODEL_f6675625529c42689695d4cbb2bd5b8d",
            "value": 7560
          }
        },
        "f34d77a36f4f461a9269ca8d14a9becd": {
          "model_module": "@jupyter-widgets/controls",
          "model_name": "HTMLModel",
          "model_module_version": "1.5.0",
          "state": {
            "_dom_classes": [],
            "_model_module": "@jupyter-widgets/controls",
            "_model_module_version": "1.5.0",
            "_model_name": "HTMLModel",
            "_view_count": null,
            "_view_module": "@jupyter-widgets/controls",
            "_view_module_version": "1.5.0",
            "_view_name": "HTMLView",
            "description": "",
            "description_tooltip": null,
            "layout": "IPY_MODEL_60c808a0cee24ec6979ff5bbcb779c8a",
            "placeholder": "​",
            "style": "IPY_MODEL_e77ff4754b8a4966a336a9a8ce130699",
            "value": " 7.56k/7.56k [00:00&lt;00:00, 546kB/s]"
          }
        },
        "b5369622ad9843508a44581c771b2be7": {
          "model_module": "@jupyter-widgets/base",
          "model_name": "LayoutModel",
          "model_module_version": "1.2.0",
          "state": {
            "_model_module": "@jupyter-widgets/base",
            "_model_module_version": "1.2.0",
            "_model_name": "LayoutModel",
            "_view_count": null,
            "_view_module": "@jupyter-widgets/base",
            "_view_module_version": "1.2.0",
            "_view_name": "LayoutView",
            "align_content": null,
            "align_items": null,
            "align_self": null,
            "border": null,
            "bottom": null,
            "display": null,
            "flex": null,
            "flex_flow": null,
            "grid_area": null,
            "grid_auto_columns": null,
            "grid_auto_flow": null,
            "grid_auto_rows": null,
            "grid_column": null,
            "grid_gap": null,
            "grid_row": null,
            "grid_template_areas": null,
            "grid_template_columns": null,
            "grid_template_rows": null,
            "height": null,
            "justify_content": null,
            "justify_items": null,
            "left": null,
            "margin": null,
            "max_height": null,
            "max_width": null,
            "min_height": null,
            "min_width": null,
            "object_fit": null,
            "object_position": null,
            "order": null,
            "overflow": null,
            "overflow_x": null,
            "overflow_y": null,
            "padding": null,
            "right": null,
            "top": null,
            "visibility": null,
            "width": null
          }
        },
        "78b6e45599a443189c4083745810e5ce": {
          "model_module": "@jupyter-widgets/base",
          "model_name": "LayoutModel",
          "model_module_version": "1.2.0",
          "state": {
            "_model_module": "@jupyter-widgets/base",
            "_model_module_version": "1.2.0",
            "_model_name": "LayoutModel",
            "_view_count": null,
            "_view_module": "@jupyter-widgets/base",
            "_view_module_version": "1.2.0",
            "_view_name": "LayoutView",
            "align_content": null,
            "align_items": null,
            "align_self": null,
            "border": null,
            "bottom": null,
            "display": null,
            "flex": null,
            "flex_flow": null,
            "grid_area": null,
            "grid_auto_columns": null,
            "grid_auto_flow": null,
            "grid_auto_rows": null,
            "grid_column": null,
            "grid_gap": null,
            "grid_row": null,
            "grid_template_areas": null,
            "grid_template_columns": null,
            "grid_template_rows": null,
            "height": null,
            "justify_content": null,
            "justify_items": null,
            "left": null,
            "margin": null,
            "max_height": null,
            "max_width": null,
            "min_height": null,
            "min_width": null,
            "object_fit": null,
            "object_position": null,
            "order": null,
            "overflow": null,
            "overflow_x": null,
            "overflow_y": null,
            "padding": null,
            "right": null,
            "top": null,
            "visibility": null,
            "width": null
          }
        },
        "b3f21b92c8c441019bab0c595a0da822": {
          "model_module": "@jupyter-widgets/controls",
          "model_name": "DescriptionStyleModel",
          "model_module_version": "1.5.0",
          "state": {
            "_model_module": "@jupyter-widgets/controls",
            "_model_module_version": "1.5.0",
            "_model_name": "DescriptionStyleModel",
            "_view_count": null,
            "_view_module": "@jupyter-widgets/base",
            "_view_module_version": "1.2.0",
            "_view_name": "StyleView",
            "description_width": ""
          }
        },
        "1fd762a8bc414fb5acb141acdea2bf9f": {
          "model_module": "@jupyter-widgets/base",
          "model_name": "LayoutModel",
          "model_module_version": "1.2.0",
          "state": {
            "_model_module": "@jupyter-widgets/base",
            "_model_module_version": "1.2.0",
            "_model_name": "LayoutModel",
            "_view_count": null,
            "_view_module": "@jupyter-widgets/base",
            "_view_module_version": "1.2.0",
            "_view_name": "LayoutView",
            "align_content": null,
            "align_items": null,
            "align_self": null,
            "border": null,
            "bottom": null,
            "display": null,
            "flex": null,
            "flex_flow": null,
            "grid_area": null,
            "grid_auto_columns": null,
            "grid_auto_flow": null,
            "grid_auto_rows": null,
            "grid_column": null,
            "grid_gap": null,
            "grid_row": null,
            "grid_template_areas": null,
            "grid_template_columns": null,
            "grid_template_rows": null,
            "height": null,
            "justify_content": null,
            "justify_items": null,
            "left": null,
            "margin": null,
            "max_height": null,
            "max_width": null,
            "min_height": null,
            "min_width": null,
            "object_fit": null,
            "object_position": null,
            "order": null,
            "overflow": null,
            "overflow_x": null,
            "overflow_y": null,
            "padding": null,
            "right": null,
            "top": null,
            "visibility": null,
            "width": null
          }
        },
        "f6675625529c42689695d4cbb2bd5b8d": {
          "model_module": "@jupyter-widgets/controls",
          "model_name": "ProgressStyleModel",
          "model_module_version": "1.5.0",
          "state": {
            "_model_module": "@jupyter-widgets/controls",
            "_model_module_version": "1.5.0",
            "_model_name": "ProgressStyleModel",
            "_view_count": null,
            "_view_module": "@jupyter-widgets/base",
            "_view_module_version": "1.2.0",
            "_view_name": "StyleView",
            "bar_color": null,
            "description_width": ""
          }
        },
        "60c808a0cee24ec6979ff5bbcb779c8a": {
          "model_module": "@jupyter-widgets/base",
          "model_name": "LayoutModel",
          "model_module_version": "1.2.0",
          "state": {
            "_model_module": "@jupyter-widgets/base",
            "_model_module_version": "1.2.0",
            "_model_name": "LayoutModel",
            "_view_count": null,
            "_view_module": "@jupyter-widgets/base",
            "_view_module_version": "1.2.0",
            "_view_name": "LayoutView",
            "align_content": null,
            "align_items": null,
            "align_self": null,
            "border": null,
            "bottom": null,
            "display": null,
            "flex": null,
            "flex_flow": null,
            "grid_area": null,
            "grid_auto_columns": null,
            "grid_auto_flow": null,
            "grid_auto_rows": null,
            "grid_column": null,
            "grid_gap": null,
            "grid_row": null,
            "grid_template_areas": null,
            "grid_template_columns": null,
            "grid_template_rows": null,
            "height": null,
            "justify_content": null,
            "justify_items": null,
            "left": null,
            "margin": null,
            "max_height": null,
            "max_width": null,
            "min_height": null,
            "min_width": null,
            "object_fit": null,
            "object_position": null,
            "order": null,
            "overflow": null,
            "overflow_x": null,
            "overflow_y": null,
            "padding": null,
            "right": null,
            "top": null,
            "visibility": null,
            "width": null
          }
        },
        "e77ff4754b8a4966a336a9a8ce130699": {
          "model_module": "@jupyter-widgets/controls",
          "model_name": "DescriptionStyleModel",
          "model_module_version": "1.5.0",
          "state": {
            "_model_module": "@jupyter-widgets/controls",
            "_model_module_version": "1.5.0",
            "_model_name": "DescriptionStyleModel",
            "_view_count": null,
            "_view_module": "@jupyter-widgets/base",
            "_view_module_version": "1.2.0",
            "_view_name": "StyleView",
            "description_width": ""
          }
        },
        "e261540ee13241f4a94fcba741157f25": {
          "model_module": "@jupyter-widgets/controls",
          "model_name": "HBoxModel",
          "model_module_version": "1.5.0",
          "state": {
            "_dom_classes": [],
            "_model_module": "@jupyter-widgets/controls",
            "_model_module_version": "1.5.0",
            "_model_name": "HBoxModel",
            "_view_count": null,
            "_view_module": "@jupyter-widgets/controls",
            "_view_module_version": "1.5.0",
            "_view_name": "HBoxView",
            "box_style": "",
            "children": [
              "IPY_MODEL_56c19819c0e24f0a8d80be11c12f74e5",
              "IPY_MODEL_19b1b2211ddd48b79dc78600c59748e4",
              "IPY_MODEL_6c18cf7531f54a35b5ee459b8cf5ef6f"
            ],
            "layout": "IPY_MODEL_d3380f632c6b46fab01b4ccad96ad2e5"
          }
        },
        "56c19819c0e24f0a8d80be11c12f74e5": {
          "model_module": "@jupyter-widgets/controls",
          "model_name": "HTMLModel",
          "model_module_version": "1.5.0",
          "state": {
            "_dom_classes": [],
            "_model_module": "@jupyter-widgets/controls",
            "_model_module_version": "1.5.0",
            "_model_name": "HTMLModel",
            "_view_count": null,
            "_view_module": "@jupyter-widgets/controls",
            "_view_module_version": "1.5.0",
            "_view_name": "HTMLView",
            "description": "",
            "description_tooltip": null,
            "layout": "IPY_MODEL_bef313fe3e7b432aa02f4bb96ac4d385",
            "placeholder": "​",
            "style": "IPY_MODEL_5a4e6fc2ba4743cb8df8135ffdca1340",
            "value": "Downloading builder script: 100%"
          }
        },
        "19b1b2211ddd48b79dc78600c59748e4": {
          "model_module": "@jupyter-widgets/controls",
          "model_name": "FloatProgressModel",
          "model_module_version": "1.5.0",
          "state": {
            "_dom_classes": [],
            "_model_module": "@jupyter-widgets/controls",
            "_model_module_version": "1.5.0",
            "_model_name": "FloatProgressModel",
            "_view_count": null,
            "_view_module": "@jupyter-widgets/controls",
            "_view_module_version": "1.5.0",
            "_view_name": "ProgressView",
            "bar_style": "success",
            "description": "",
            "description_tooltip": null,
            "layout": "IPY_MODEL_918eb0207f7449fabc7c52dc2b3ab3af",
            "max": 7377,
            "min": 0,
            "orientation": "horizontal",
            "style": "IPY_MODEL_6fcfee354ac94dfb818a604534c53695",
            "value": 7377
          }
        },
        "6c18cf7531f54a35b5ee459b8cf5ef6f": {
          "model_module": "@jupyter-widgets/controls",
          "model_name": "HTMLModel",
          "model_module_version": "1.5.0",
          "state": {
            "_dom_classes": [],
            "_model_module": "@jupyter-widgets/controls",
            "_model_module_version": "1.5.0",
            "_model_name": "HTMLModel",
            "_view_count": null,
            "_view_module": "@jupyter-widgets/controls",
            "_view_module_version": "1.5.0",
            "_view_name": "HTMLView",
            "description": "",
            "description_tooltip": null,
            "layout": "IPY_MODEL_0e822450d31f470891717ea4fe58ede3",
            "placeholder": "​",
            "style": "IPY_MODEL_5113b851195c4112abbccad13d2d7c3e",
            "value": " 7.38k/7.38k [00:00&lt;00:00, 536kB/s]"
          }
        },
        "d3380f632c6b46fab01b4ccad96ad2e5": {
          "model_module": "@jupyter-widgets/base",
          "model_name": "LayoutModel",
          "model_module_version": "1.2.0",
          "state": {
            "_model_module": "@jupyter-widgets/base",
            "_model_module_version": "1.2.0",
            "_model_name": "LayoutModel",
            "_view_count": null,
            "_view_module": "@jupyter-widgets/base",
            "_view_module_version": "1.2.0",
            "_view_name": "LayoutView",
            "align_content": null,
            "align_items": null,
            "align_self": null,
            "border": null,
            "bottom": null,
            "display": null,
            "flex": null,
            "flex_flow": null,
            "grid_area": null,
            "grid_auto_columns": null,
            "grid_auto_flow": null,
            "grid_auto_rows": null,
            "grid_column": null,
            "grid_gap": null,
            "grid_row": null,
            "grid_template_areas": null,
            "grid_template_columns": null,
            "grid_template_rows": null,
            "height": null,
            "justify_content": null,
            "justify_items": null,
            "left": null,
            "margin": null,
            "max_height": null,
            "max_width": null,
            "min_height": null,
            "min_width": null,
            "object_fit": null,
            "object_position": null,
            "order": null,
            "overflow": null,
            "overflow_x": null,
            "overflow_y": null,
            "padding": null,
            "right": null,
            "top": null,
            "visibility": null,
            "width": null
          }
        },
        "bef313fe3e7b432aa02f4bb96ac4d385": {
          "model_module": "@jupyter-widgets/base",
          "model_name": "LayoutModel",
          "model_module_version": "1.2.0",
          "state": {
            "_model_module": "@jupyter-widgets/base",
            "_model_module_version": "1.2.0",
            "_model_name": "LayoutModel",
            "_view_count": null,
            "_view_module": "@jupyter-widgets/base",
            "_view_module_version": "1.2.0",
            "_view_name": "LayoutView",
            "align_content": null,
            "align_items": null,
            "align_self": null,
            "border": null,
            "bottom": null,
            "display": null,
            "flex": null,
            "flex_flow": null,
            "grid_area": null,
            "grid_auto_columns": null,
            "grid_auto_flow": null,
            "grid_auto_rows": null,
            "grid_column": null,
            "grid_gap": null,
            "grid_row": null,
            "grid_template_areas": null,
            "grid_template_columns": null,
            "grid_template_rows": null,
            "height": null,
            "justify_content": null,
            "justify_items": null,
            "left": null,
            "margin": null,
            "max_height": null,
            "max_width": null,
            "min_height": null,
            "min_width": null,
            "object_fit": null,
            "object_position": null,
            "order": null,
            "overflow": null,
            "overflow_x": null,
            "overflow_y": null,
            "padding": null,
            "right": null,
            "top": null,
            "visibility": null,
            "width": null
          }
        },
        "5a4e6fc2ba4743cb8df8135ffdca1340": {
          "model_module": "@jupyter-widgets/controls",
          "model_name": "DescriptionStyleModel",
          "model_module_version": "1.5.0",
          "state": {
            "_model_module": "@jupyter-widgets/controls",
            "_model_module_version": "1.5.0",
            "_model_name": "DescriptionStyleModel",
            "_view_count": null,
            "_view_module": "@jupyter-widgets/base",
            "_view_module_version": "1.2.0",
            "_view_name": "StyleView",
            "description_width": ""
          }
        },
        "918eb0207f7449fabc7c52dc2b3ab3af": {
          "model_module": "@jupyter-widgets/base",
          "model_name": "LayoutModel",
          "model_module_version": "1.2.0",
          "state": {
            "_model_module": "@jupyter-widgets/base",
            "_model_module_version": "1.2.0",
            "_model_name": "LayoutModel",
            "_view_count": null,
            "_view_module": "@jupyter-widgets/base",
            "_view_module_version": "1.2.0",
            "_view_name": "LayoutView",
            "align_content": null,
            "align_items": null,
            "align_self": null,
            "border": null,
            "bottom": null,
            "display": null,
            "flex": null,
            "flex_flow": null,
            "grid_area": null,
            "grid_auto_columns": null,
            "grid_auto_flow": null,
            "grid_auto_rows": null,
            "grid_column": null,
            "grid_gap": null,
            "grid_row": null,
            "grid_template_areas": null,
            "grid_template_columns": null,
            "grid_template_rows": null,
            "height": null,
            "justify_content": null,
            "justify_items": null,
            "left": null,
            "margin": null,
            "max_height": null,
            "max_width": null,
            "min_height": null,
            "min_width": null,
            "object_fit": null,
            "object_position": null,
            "order": null,
            "overflow": null,
            "overflow_x": null,
            "overflow_y": null,
            "padding": null,
            "right": null,
            "top": null,
            "visibility": null,
            "width": null
          }
        },
        "6fcfee354ac94dfb818a604534c53695": {
          "model_module": "@jupyter-widgets/controls",
          "model_name": "ProgressStyleModel",
          "model_module_version": "1.5.0",
          "state": {
            "_model_module": "@jupyter-widgets/controls",
            "_model_module_version": "1.5.0",
            "_model_name": "ProgressStyleModel",
            "_view_count": null,
            "_view_module": "@jupyter-widgets/base",
            "_view_module_version": "1.2.0",
            "_view_name": "StyleView",
            "bar_color": null,
            "description_width": ""
          }
        },
        "0e822450d31f470891717ea4fe58ede3": {
          "model_module": "@jupyter-widgets/base",
          "model_name": "LayoutModel",
          "model_module_version": "1.2.0",
          "state": {
            "_model_module": "@jupyter-widgets/base",
            "_model_module_version": "1.2.0",
            "_model_name": "LayoutModel",
            "_view_count": null,
            "_view_module": "@jupyter-widgets/base",
            "_view_module_version": "1.2.0",
            "_view_name": "LayoutView",
            "align_content": null,
            "align_items": null,
            "align_self": null,
            "border": null,
            "bottom": null,
            "display": null,
            "flex": null,
            "flex_flow": null,
            "grid_area": null,
            "grid_auto_columns": null,
            "grid_auto_flow": null,
            "grid_auto_rows": null,
            "grid_column": null,
            "grid_gap": null,
            "grid_row": null,
            "grid_template_areas": null,
            "grid_template_columns": null,
            "grid_template_rows": null,
            "height": null,
            "justify_content": null,
            "justify_items": null,
            "left": null,
            "margin": null,
            "max_height": null,
            "max_width": null,
            "min_height": null,
            "min_width": null,
            "object_fit": null,
            "object_position": null,
            "order": null,
            "overflow": null,
            "overflow_x": null,
            "overflow_y": null,
            "padding": null,
            "right": null,
            "top": null,
            "visibility": null,
            "width": null
          }
        },
        "5113b851195c4112abbccad13d2d7c3e": {
          "model_module": "@jupyter-widgets/controls",
          "model_name": "DescriptionStyleModel",
          "model_module_version": "1.5.0",
          "state": {
            "_model_module": "@jupyter-widgets/controls",
            "_model_module_version": "1.5.0",
            "_model_name": "DescriptionStyleModel",
            "_view_count": null,
            "_view_module": "@jupyter-widgets/base",
            "_view_module_version": "1.2.0",
            "_view_name": "StyleView",
            "description_width": ""
          }
        },
        "a510de36e56e42f3a4a685c7859a90ae": {
          "model_module": "@jupyter-widgets/controls",
          "model_name": "HBoxModel",
          "model_module_version": "1.5.0",
          "state": {
            "_dom_classes": [],
            "_model_module": "@jupyter-widgets/controls",
            "_model_module_version": "1.5.0",
            "_model_name": "HBoxModel",
            "_view_count": null,
            "_view_module": "@jupyter-widgets/controls",
            "_view_module_version": "1.5.0",
            "_view_name": "HBoxView",
            "box_style": "",
            "children": [
              "IPY_MODEL_09acfc7a66814296a1fb09947e5c6381",
              "IPY_MODEL_cf1dd7ed208b47b98d3bd7ac822417c2",
              "IPY_MODEL_8cce157f84ff41ed91e51ac9739d8d64"
            ],
            "layout": "IPY_MODEL_e847ad2cfeb245b1b02e8df7cbd82503"
          }
        },
        "09acfc7a66814296a1fb09947e5c6381": {
          "model_module": "@jupyter-widgets/controls",
          "model_name": "HTMLModel",
          "model_module_version": "1.5.0",
          "state": {
            "_dom_classes": [],
            "_model_module": "@jupyter-widgets/controls",
            "_model_module_version": "1.5.0",
            "_model_name": "HTMLModel",
            "_view_count": null,
            "_view_module": "@jupyter-widgets/controls",
            "_view_module_version": "1.5.0",
            "_view_name": "HTMLView",
            "description": "",
            "description_tooltip": null,
            "layout": "IPY_MODEL_74b2b852e9744f9893f6edc00b896ebd",
            "placeholder": "​",
            "style": "IPY_MODEL_0cc65236c964456cabb704f2ef31406f",
            "value": "Downloading builder script: 100%"
          }
        },
        "cf1dd7ed208b47b98d3bd7ac822417c2": {
          "model_module": "@jupyter-widgets/controls",
          "model_name": "FloatProgressModel",
          "model_module_version": "1.5.0",
          "state": {
            "_dom_classes": [],
            "_model_module": "@jupyter-widgets/controls",
            "_model_module_version": "1.5.0",
            "_model_name": "FloatProgressModel",
            "_view_count": null,
            "_view_module": "@jupyter-widgets/controls",
            "_view_module_version": "1.5.0",
            "_view_name": "ProgressView",
            "bar_style": "success",
            "description": "",
            "description_tooltip": null,
            "layout": "IPY_MODEL_925a3c6d7e7f4d4ba556271cb4b26456",
            "max": 4203,
            "min": 0,
            "orientation": "horizontal",
            "style": "IPY_MODEL_d4858e31045f41799d854146e6b6be96",
            "value": 4203
          }
        },
        "8cce157f84ff41ed91e51ac9739d8d64": {
          "model_module": "@jupyter-widgets/controls",
          "model_name": "HTMLModel",
          "model_module_version": "1.5.0",
          "state": {
            "_dom_classes": [],
            "_model_module": "@jupyter-widgets/controls",
            "_model_module_version": "1.5.0",
            "_model_name": "HTMLModel",
            "_view_count": null,
            "_view_module": "@jupyter-widgets/controls",
            "_view_module_version": "1.5.0",
            "_view_name": "HTMLView",
            "description": "",
            "description_tooltip": null,
            "layout": "IPY_MODEL_511f98b43dbe474ea83d2d17deb6dbca",
            "placeholder": "​",
            "style": "IPY_MODEL_af163f7516df4211ac6e085c5dc3ef16",
            "value": " 4.20k/4.20k [00:00&lt;00:00, 362kB/s]"
          }
        },
        "e847ad2cfeb245b1b02e8df7cbd82503": {
          "model_module": "@jupyter-widgets/base",
          "model_name": "LayoutModel",
          "model_module_version": "1.2.0",
          "state": {
            "_model_module": "@jupyter-widgets/base",
            "_model_module_version": "1.2.0",
            "_model_name": "LayoutModel",
            "_view_count": null,
            "_view_module": "@jupyter-widgets/base",
            "_view_module_version": "1.2.0",
            "_view_name": "LayoutView",
            "align_content": null,
            "align_items": null,
            "align_self": null,
            "border": null,
            "bottom": null,
            "display": null,
            "flex": null,
            "flex_flow": null,
            "grid_area": null,
            "grid_auto_columns": null,
            "grid_auto_flow": null,
            "grid_auto_rows": null,
            "grid_column": null,
            "grid_gap": null,
            "grid_row": null,
            "grid_template_areas": null,
            "grid_template_columns": null,
            "grid_template_rows": null,
            "height": null,
            "justify_content": null,
            "justify_items": null,
            "left": null,
            "margin": null,
            "max_height": null,
            "max_width": null,
            "min_height": null,
            "min_width": null,
            "object_fit": null,
            "object_position": null,
            "order": null,
            "overflow": null,
            "overflow_x": null,
            "overflow_y": null,
            "padding": null,
            "right": null,
            "top": null,
            "visibility": null,
            "width": null
          }
        },
        "74b2b852e9744f9893f6edc00b896ebd": {
          "model_module": "@jupyter-widgets/base",
          "model_name": "LayoutModel",
          "model_module_version": "1.2.0",
          "state": {
            "_model_module": "@jupyter-widgets/base",
            "_model_module_version": "1.2.0",
            "_model_name": "LayoutModel",
            "_view_count": null,
            "_view_module": "@jupyter-widgets/base",
            "_view_module_version": "1.2.0",
            "_view_name": "LayoutView",
            "align_content": null,
            "align_items": null,
            "align_self": null,
            "border": null,
            "bottom": null,
            "display": null,
            "flex": null,
            "flex_flow": null,
            "grid_area": null,
            "grid_auto_columns": null,
            "grid_auto_flow": null,
            "grid_auto_rows": null,
            "grid_column": null,
            "grid_gap": null,
            "grid_row": null,
            "grid_template_areas": null,
            "grid_template_columns": null,
            "grid_template_rows": null,
            "height": null,
            "justify_content": null,
            "justify_items": null,
            "left": null,
            "margin": null,
            "max_height": null,
            "max_width": null,
            "min_height": null,
            "min_width": null,
            "object_fit": null,
            "object_position": null,
            "order": null,
            "overflow": null,
            "overflow_x": null,
            "overflow_y": null,
            "padding": null,
            "right": null,
            "top": null,
            "visibility": null,
            "width": null
          }
        },
        "0cc65236c964456cabb704f2ef31406f": {
          "model_module": "@jupyter-widgets/controls",
          "model_name": "DescriptionStyleModel",
          "model_module_version": "1.5.0",
          "state": {
            "_model_module": "@jupyter-widgets/controls",
            "_model_module_version": "1.5.0",
            "_model_name": "DescriptionStyleModel",
            "_view_count": null,
            "_view_module": "@jupyter-widgets/base",
            "_view_module_version": "1.2.0",
            "_view_name": "StyleView",
            "description_width": ""
          }
        },
        "925a3c6d7e7f4d4ba556271cb4b26456": {
          "model_module": "@jupyter-widgets/base",
          "model_name": "LayoutModel",
          "model_module_version": "1.2.0",
          "state": {
            "_model_module": "@jupyter-widgets/base",
            "_model_module_version": "1.2.0",
            "_model_name": "LayoutModel",
            "_view_count": null,
            "_view_module": "@jupyter-widgets/base",
            "_view_module_version": "1.2.0",
            "_view_name": "LayoutView",
            "align_content": null,
            "align_items": null,
            "align_self": null,
            "border": null,
            "bottom": null,
            "display": null,
            "flex": null,
            "flex_flow": null,
            "grid_area": null,
            "grid_auto_columns": null,
            "grid_auto_flow": null,
            "grid_auto_rows": null,
            "grid_column": null,
            "grid_gap": null,
            "grid_row": null,
            "grid_template_areas": null,
            "grid_template_columns": null,
            "grid_template_rows": null,
            "height": null,
            "justify_content": null,
            "justify_items": null,
            "left": null,
            "margin": null,
            "max_height": null,
            "max_width": null,
            "min_height": null,
            "min_width": null,
            "object_fit": null,
            "object_position": null,
            "order": null,
            "overflow": null,
            "overflow_x": null,
            "overflow_y": null,
            "padding": null,
            "right": null,
            "top": null,
            "visibility": null,
            "width": null
          }
        },
        "d4858e31045f41799d854146e6b6be96": {
          "model_module": "@jupyter-widgets/controls",
          "model_name": "ProgressStyleModel",
          "model_module_version": "1.5.0",
          "state": {
            "_model_module": "@jupyter-widgets/controls",
            "_model_module_version": "1.5.0",
            "_model_name": "ProgressStyleModel",
            "_view_count": null,
            "_view_module": "@jupyter-widgets/base",
            "_view_module_version": "1.2.0",
            "_view_name": "StyleView",
            "bar_color": null,
            "description_width": ""
          }
        },
        "511f98b43dbe474ea83d2d17deb6dbca": {
          "model_module": "@jupyter-widgets/base",
          "model_name": "LayoutModel",
          "model_module_version": "1.2.0",
          "state": {
            "_model_module": "@jupyter-widgets/base",
            "_model_module_version": "1.2.0",
            "_model_name": "LayoutModel",
            "_view_count": null,
            "_view_module": "@jupyter-widgets/base",
            "_view_module_version": "1.2.0",
            "_view_name": "LayoutView",
            "align_content": null,
            "align_items": null,
            "align_self": null,
            "border": null,
            "bottom": null,
            "display": null,
            "flex": null,
            "flex_flow": null,
            "grid_area": null,
            "grid_auto_columns": null,
            "grid_auto_flow": null,
            "grid_auto_rows": null,
            "grid_column": null,
            "grid_gap": null,
            "grid_row": null,
            "grid_template_areas": null,
            "grid_template_columns": null,
            "grid_template_rows": null,
            "height": null,
            "justify_content": null,
            "justify_items": null,
            "left": null,
            "margin": null,
            "max_height": null,
            "max_width": null,
            "min_height": null,
            "min_width": null,
            "object_fit": null,
            "object_position": null,
            "order": null,
            "overflow": null,
            "overflow_x": null,
            "overflow_y": null,
            "padding": null,
            "right": null,
            "top": null,
            "visibility": null,
            "width": null
          }
        },
        "af163f7516df4211ac6e085c5dc3ef16": {
          "model_module": "@jupyter-widgets/controls",
          "model_name": "DescriptionStyleModel",
          "model_module_version": "1.5.0",
          "state": {
            "_model_module": "@jupyter-widgets/controls",
            "_model_module_version": "1.5.0",
            "_model_name": "DescriptionStyleModel",
            "_view_count": null,
            "_view_module": "@jupyter-widgets/base",
            "_view_module_version": "1.2.0",
            "_view_name": "StyleView",
            "description_width": ""
          }
        }
      }
    }
  },
  "nbformat": 4,
  "nbformat_minor": 5
}