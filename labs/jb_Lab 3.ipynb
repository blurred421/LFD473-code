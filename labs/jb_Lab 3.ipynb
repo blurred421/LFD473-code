{
  "cells": [
    {
      "cell_type": "markdown",
      "metadata": {
        "id": "view-in-github",
        "colab_type": "text"
      },
      "source": [
        "<a href=\"https://colab.research.google.com/github/blurred421/LFD473-code/blob/main/labs/jb_Lab%203.ipynb\" target=\"_parent\"><img src=\"https://colab.research.google.com/assets/colab-badge.svg\" alt=\"Open In Colab\"/></a>"
      ]
    },
    {
      "cell_type": "markdown",
      "id": "67609b90",
      "metadata": {
        "id": "67609b90"
      },
      "source": [
        "# Lab Instructions\n",
        "\n",
        "In the lab, you're presented a task such as building a dataset, training a model, or writing a training loop, and we'll provide the code structured in such a way that you can fill in the blanks in the code using the knowledge you acquired in the chapters that precede the lab. You should be able to find appropriate snippets of code in the course content that work well in the lab with minor or no adjustments.\n",
        "\n",
        "The blanks in the code are indicated by ellipsis (`...`) and comments (`# write your code here`).\n",
        "\n",
        "In some cases, we'll provide you partial code to ensure the right variables are populated and any code that follows it runs accordingly.\n",
        "\n",
        "```python\n",
        "# write your code here\n",
        "x = ...\n",
        "```\n",
        "\n",
        "The solution should be a single statement that replaces the ellipsis, such as:\n",
        "\n",
        "```python\n",
        "# write your code here\n",
        "x = [0, 1, 2]\n",
        "```\n",
        "\n",
        "In some other cases, when there is no new variable being created, the blanks are shown like in the example below:\n",
        "\n",
        "```python\n",
        "# write your code here\n",
        "...\n",
        "```\n",
        "\n",
        "Although we're showing you only a single ellipsis (`...`), you may have to write more than one line of code to complete the step, such as:\n",
        "\n",
        "```python\n",
        "# write your code here\n",
        "for i, xi in enumerate(x):\n",
        "    x[i] = xi * 2\n",
        "```"
      ]
    },
    {
      "cell_type": "markdown",
      "id": "da35abb9",
      "metadata": {
        "id": "da35abb9"
      },
      "source": [
        "## 7.8 Lab 3: Classifying Images\n",
        "\n",
        "Now it is YOUR turn to classify some images! First, you will need to choose and load a [model for image classification](https://pytorch.org/vision/stable/models.html#classification) and its corresponding [weights](https://pytorch.org/vision/stable/models.html#table-of-all-available-classification-weights).\n",
        "\n",
        "Don't forget to retrieve the prescribed transformation function or model corresponding to the model you chose. Also, take a look at its size and accuracy, so you have an idea of its performance.\n",
        "\n",
        "TIP: try a very small model (e.g. MobileNet) and a very large model (e.g. VGG) and see how long they take to run inference on your images."
      ]
    },
    {
      "cell_type": "markdown",
      "id": "7767b765",
      "metadata": {
        "id": "7767b765"
      },
      "source": [
        "### 7.8.1 Load Weights\n",
        "\n",
        "Load the weights from the model of your choice into its own object:"
      ]
    },
    {
      "cell_type": "code",
      "execution_count": 46,
      "id": "ab6ed969",
      "metadata": {
        "id": "ab6ed969"
      },
      "outputs": [],
      "source": [
        "#  May want to check out this website/api for images:  https://unsplash.com/developers\n",
        "\n",
        "\n",
        "from torchvision.models import get_weight\n",
        "\n",
        "# write your code here\n",
        "weights = get_weight('MobileNet_V3_Small_Weights.DEFAULT')"
      ]
    },
    {
      "cell_type": "markdown",
      "id": "f4512d16",
      "metadata": {
        "id": "f4512d16"
      },
      "source": [
        "### 7.8.2 Load Model\n",
        "\n",
        "![](https://raw.githubusercontent.com/dvgodoy/assets/main/PyTorchInPractice/images/ch0/model_step1.png)\n",
        "\n",
        "Load the model using Torch Hub and the weights you've just loaded:"
      ]
    },
    {
      "cell_type": "code",
      "execution_count": null,
      "id": "24757d81",
      "metadata": {
        "id": "24757d81",
        "outputId": "b92db100-09b7-43cd-d877-a530fab5f58d",
        "colab": {
          "base_uri": "https://localhost:8080/"
        }
      },
      "outputs": [
        {
          "output_type": "stream",
          "name": "stderr",
          "text": [
            "Downloading: \"https://github.com/pytorch/vision/zipball/main\" to /root/.cache/torch/hub/main.zip\n",
            "Downloading: \"https://download.pytorch.org/models/mobilenet_v3_small-047dcff4.pth\" to /root/.cache/torch/hub/checkpoints/mobilenet_v3_small-047dcff4.pth\n",
            "100%|██████████| 9.83M/9.83M [00:00<00:00, 66.3MB/s]\n"
          ]
        }
      ],
      "source": [
        "import torch\n",
        "repo = 'pytorch/vision'\n",
        "\n",
        "# write your code here\n",
        "model = torch.hub.load(repo, 'mobilenet_v3_small', weights=weights)"
      ]
    },
    {
      "cell_type": "markdown",
      "id": "7f8b8660",
      "metadata": {
        "id": "7f8b8660"
      },
      "source": [
        "### 7.8.3 Extract Metadata\n",
        "\n",
        "![](https://raw.githubusercontent.com/dvgodoy/assets/main/PyTorchInPractice/images/ch0/data_step3.png)\n",
        "\n",
        "Retrieve the categories used to pretrain the model, and the transformation function that should be applied to the input images:"
      ]
    },
    {
      "cell_type": "code",
      "execution_count": null,
      "id": "69d7aa03",
      "metadata": {
        "id": "69d7aa03",
        "outputId": "5896169f-b821-465e-a0e7-9b6884814b5f",
        "colab": {
          "base_uri": "https://localhost:8080/"
        }
      },
      "outputs": [
        {
          "output_type": "execute_result",
          "data": {
            "text/plain": [
              "ImageClassification(\n",
              "    crop_size=[224]\n",
              "    resize_size=[256]\n",
              "    mean=[0.485, 0.456, 0.406]\n",
              "    std=[0.229, 0.224, 0.225]\n",
              "    interpolation=InterpolationMode.BILINEAR\n",
              ")"
            ]
          },
          "metadata": {},
          "execution_count": 3
        }
      ],
      "source": [
        "# write your code here\n",
        "categories = weights.meta['categories']\n",
        "transforms_fn = weights.transforms()\n",
        "\n",
        "transforms_fn"
      ]
    },
    {
      "cell_type": "markdown",
      "id": "3fad143b",
      "metadata": {
        "id": "3fad143b"
      },
      "source": [
        "Let's inspect the number of parameters and the metrics of the model you chose. Run the two cells below as they are to visualize their output:"
      ]
    },
    {
      "cell_type": "code",
      "execution_count": null,
      "id": "9b38912d",
      "metadata": {
        "id": "9b38912d",
        "outputId": "20cdd433-0d7e-4df5-c2b2-da14282a4d5f",
        "colab": {
          "base_uri": "https://localhost:8080/"
        }
      },
      "outputs": [
        {
          "output_type": "execute_result",
          "data": {
            "text/plain": [
              "2.542856"
            ]
          },
          "metadata": {},
          "execution_count": 4
        }
      ],
      "source": [
        "weights.meta['num_params']/1e6"
      ]
    },
    {
      "cell_type": "code",
      "execution_count": null,
      "id": "02e30ccc",
      "metadata": {
        "id": "02e30ccc",
        "outputId": "1bba387b-d25a-43e3-d869-ec7188f5f277",
        "colab": {
          "base_uri": "https://localhost:8080/"
        }
      },
      "outputs": [
        {
          "output_type": "execute_result",
          "data": {
            "text/plain": [
              "{'ImageNet-1K': {'acc@1': 67.668, 'acc@5': 87.402}}"
            ]
          },
          "metadata": {},
          "execution_count": 5
        }
      ],
      "source": [
        "weights.meta['_metrics']"
      ]
    },
    {
      "cell_type": "markdown",
      "id": "a870b00f",
      "metadata": {
        "id": "a870b00f"
      },
      "source": [
        "### 7.8.4 Making Predictions\n",
        "\n",
        "![](https://raw.githubusercontent.com/dvgodoy/assets/main/PyTorchInPractice/images/ch0/model_step5.png)\n",
        "\n",
        "Now, let's use the pretrained model you've already loaded to make predictions for an image. First, though, let's download an image from Wikipedia once again. The downloading function is reproduced below for convenience."
      ]
    },
    {
      "cell_type": "code",
      "execution_count": null,
      "id": "c9e5d88b",
      "metadata": {
        "id": "c9e5d88b"
      },
      "outputs": [],
      "source": [
        "import numpy as np\n",
        "import requests\n",
        "from PIL import Image\n",
        "from io import BytesIO\n",
        "\n",
        "def get_image_from_url(url, headers=None):\n",
        "    if headers is None:\n",
        "        headers = {'User-Agent': 'Mozilla/5.0 (Windows NT 10.0; Win64; x64) AppleWebKit/537.36 (KHTML, like Gecko) Chrome/102.0.0.0 Safari/537.36'}\n",
        "    response = requests.get(url, headers=headers)\n",
        "    response.raise_for_status()\n",
        "    img = Image.open(BytesIO(response.content))\n",
        "    return img"
      ]
    },
    {
      "cell_type": "code",
      "execution_count": null,
      "id": "e1720756",
      "metadata": {
        "colab": {
          "base_uri": "https://localhost:8080/"
        },
        "id": "e1720756",
        "outputId": "7b3834a8-a266-4e08-d7d9-dd5d9e05f741"
      },
      "outputs": [
        {
          "output_type": "execute_result",
          "data": {
            "text/plain": [
              "(846, 1075)"
            ]
          },
          "metadata": {},
          "execution_count": 7
        }
      ],
      "source": [
        "url = 'https://upload.wikimedia.org/wikipedia/commons/7/72/Igel.JPG'\n",
        "img = get_image_from_url(url)\n",
        "img.height, img.width"
      ]
    },
    {
      "cell_type": "markdown",
      "id": "ad094453",
      "metadata": {
        "id": "ad094453"
      },
      "source": [
        "Remember, the model cannot take PIL images as inputs, you need to preprocess the image first:"
      ]
    },
    {
      "cell_type": "code",
      "execution_count": null,
      "id": "8d25ae65",
      "metadata": {
        "id": "8d25ae65"
      },
      "outputs": [],
      "source": [
        "# write your code here\n",
        "preprocessed_img = transforms_fn(img)"
      ]
    },
    {
      "cell_type": "markdown",
      "id": "f01cdc8e",
      "metadata": {
        "id": "f01cdc8e"
      },
      "source": [
        "Moreover, models expect mini-batches, not single images as inputs. Make sure you have a mini-batch with the right shape (N, C, H, W), standing for number of images in the mini-batch (one, in our case), number of channels in the image, its height, and its width:"
      ]
    },
    {
      "cell_type": "code",
      "execution_count": null,
      "id": "83438a80",
      "metadata": {
        "id": "83438a80",
        "outputId": "a3fbf4bd-9c6f-4ce9-c29c-7ff4ebe202c9",
        "colab": {
          "base_uri": "https://localhost:8080/"
        }
      },
      "outputs": [
        {
          "output_type": "execute_result",
          "data": {
            "text/plain": [
              "torch.Size([1, 3, 224, 224])"
            ]
          },
          "metadata": {},
          "execution_count": 9
        }
      ],
      "source": [
        "# write your code here\n",
        "mini_batch = preprocessed_img.unsqueeze(0)\n",
        "mini_batch.shape"
      ]
    },
    {
      "cell_type": "markdown",
      "id": "fc624901",
      "metadata": {
        "id": "fc624901"
      },
      "source": [
        "You can use the mini-batch and the pretrained model to make predictions now:"
      ]
    },
    {
      "cell_type": "code",
      "execution_count": null,
      "id": "9f7cfdae",
      "metadata": {
        "id": "9f7cfdae",
        "outputId": "145f9f40-9344-4aa2-dabd-cdb7f6dbc99a",
        "colab": {
          "base_uri": "https://localhost:8080/",
          "height": 36
        }
      },
      "outputs": [
        {
          "output_type": "execute_result",
          "data": {
            "text/plain": [
              "'groom'"
            ],
            "application/vnd.google.colaboratory.intrinsic+json": {
              "type": "string"
            }
          },
          "metadata": {},
          "execution_count": 10
        }
      ],
      "source": [
        "# The mini-batch above has a single data point\n",
        "# Call the model and get the corresponding predictions(logits)\n",
        "# write your code here\n",
        "logit = model(mini_batch)[0]\n",
        "\n",
        "# Fetch the index of the highest logit\n",
        "# write your code here\n",
        "idx = logit.argmax()\n",
        "\n",
        "# Find the corresponding category\n",
        "categories[idx]"
      ]
    },
    {
      "cell_type": "markdown",
      "id": "dfb53b99",
      "metadata": {
        "id": "dfb53b99"
      },
      "source": [
        "Perhaps you've figured it out that we forgot to set the model to evaluation mode. That shoudl fix it:"
      ]
    },
    {
      "cell_type": "code",
      "execution_count": null,
      "id": "ea7ea6cb",
      "metadata": {
        "id": "ea7ea6cb",
        "outputId": "ba5e5cc8-02b6-4f33-ad6d-4bf3ec7a6be6",
        "colab": {
          "base_uri": "https://localhost:8080/",
          "height": 36
        }
      },
      "outputs": [
        {
          "output_type": "execute_result",
          "data": {
            "text/plain": [
              "'porcupine'"
            ],
            "application/vnd.google.colaboratory.intrinsic+json": {
              "type": "string"
            }
          },
          "metadata": {},
          "execution_count": 11
        }
      ],
      "source": [
        "# Set the model to evaluation mode\n",
        "# write your code here\n",
        "model.eval()\n",
        "\n",
        "\n",
        "# Then find the predicted category as above\n",
        "# write your code here\n",
        "logit = model(mini_batch)[0]\n",
        "idx = logit.argmax()\n",
        "categories[idx]"
      ]
    },
    {
      "cell_type": "markdown",
      "id": "5f884177",
      "metadata": {
        "id": "5f884177"
      },
      "source": [
        "#### 7.8.4.1 Probabilities\n",
        "\n",
        "In many cases, it may be interesting to return the probabilities next to the predictions. Convert the logits produced by the model into probabilities:"
      ]
    },
    {
      "cell_type": "code",
      "execution_count": null,
      "id": "51a457d9",
      "metadata": {
        "id": "51a457d9",
        "outputId": "608f4b10-8802-45ed-dfd4-87bf3d9a1ba0",
        "colab": {
          "base_uri": "https://localhost:8080/"
        }
      },
      "outputs": [
        {
          "output_type": "execute_result",
          "data": {
            "text/plain": [
              "tensor([1.0329e-13, 3.6955e-17, 2.4925e-17, 1.0021e-16, 1.1528e-15, 2.8486e-13,\n",
              "        9.0883e-13, 5.9741e-12, 3.3040e-10, 6.8928e-12, 1.3547e-13, 6.2444e-12,\n",
              "        5.6574e-13, 1.0639e-12, 4.6894e-13, 3.8030e-16, 9.9499e-13, 1.0967e-13,\n",
              "        1.4335e-12, 4.4977e-14, 5.1692e-13, 2.0577e-12, 1.1808e-13, 4.8461e-12,\n",
              "        3.3553e-13, 7.8965e-16, 7.4297e-17, 1.4954e-15, 3.7244e-15, 1.5733e-16,\n",
              "        5.7226e-15, 1.3489e-15, 5.6601e-15, 3.1830e-17, 3.4425e-15, 8.8839e-14,\n",
              "        6.1755e-15, 3.2175e-14, 5.3052e-17, 6.9987e-15, 7.1730e-15, 8.7250e-15,\n",
              "        1.2340e-14, 8.5258e-15, 1.9840e-13, 2.6265e-13, 2.4225e-14, 6.6432e-16,\n",
              "        1.1115e-12, 1.3638e-15, 6.8803e-15, 8.4276e-14, 1.0537e-14, 2.6745e-16,\n",
              "        1.7853e-12, 9.1716e-15, 1.7690e-14, 7.6355e-14, 1.1701e-14, 7.8326e-14,\n",
              "        9.7861e-13, 2.5894e-14, 2.0973e-14, 3.6883e-12, 4.5869e-15, 1.0450e-15,\n",
              "        1.7195e-15, 4.8575e-12, 3.5163e-15, 6.0358e-15, 1.1010e-14, 5.2586e-16,\n",
              "        2.3044e-15, 5.2318e-14, 2.1084e-14, 1.1115e-15, 9.4042e-14, 2.1388e-12,\n",
              "        1.8381e-10, 6.5593e-13, 4.4635e-12, 2.1226e-11, 7.7120e-11, 2.9563e-12,\n",
              "        6.8710e-11, 1.3668e-09, 1.3850e-10, 5.1005e-15, 7.4421e-15, 2.7907e-15,\n",
              "        1.5278e-14, 1.3634e-10, 1.3013e-15, 1.4772e-13, 1.7401e-13, 3.8474e-15,\n",
              "        6.4975e-16, 2.3633e-12, 3.4795e-13, 3.9491e-13, 9.3008e-15, 2.5796e-14,\n",
              "        1.1247e-04, 2.5644e-12, 1.5866e-11, 6.5362e-15, 3.3494e-09, 3.2050e-16,\n",
              "        4.5802e-14, 1.9428e-13, 2.0168e-14, 4.4796e-16, 1.4896e-16, 9.5644e-14,\n",
              "        4.2524e-11, 1.8308e-15, 2.2338e-16, 3.5046e-15, 5.6795e-15, 3.8676e-16,\n",
              "        4.5454e-17, 1.4663e-15, 7.5715e-18, 9.3467e-16, 1.4004e-13, 1.4056e-16,\n",
              "        3.0295e-15, 2.3592e-13, 9.3565e-14, 1.3022e-16, 3.6735e-16, 8.0630e-13,\n",
              "        2.8596e-15, 1.0449e-11, 1.4005e-12, 1.5431e-07, 1.6404e-12, 9.0610e-14,\n",
              "        7.1241e-13, 3.6803e-14, 5.0152e-13, 1.3352e-13, 2.0169e-14, 1.1099e-13,\n",
              "        1.1001e-13, 1.5880e-13, 2.5960e-14, 9.6192e-15, 2.1693e-16, 7.1179e-15,\n",
              "        7.1941e-11, 1.9156e-14, 4.1271e-17, 7.1091e-18, 1.1159e-14, 9.4342e-16,\n",
              "        6.4312e-17, 6.2528e-15, 4.1576e-16, 1.8000e-15, 8.4464e-15, 6.0072e-18,\n",
              "        2.7029e-16, 3.6416e-16, 1.9040e-15, 1.4946e-16, 2.0489e-16, 2.5073e-16,\n",
              "        1.6131e-15, 6.3713e-16, 9.3334e-15, 7.3424e-15, 5.7883e-15, 3.1899e-15,\n",
              "        4.9128e-15, 3.1023e-15, 4.1068e-15, 5.1292e-15, 3.3837e-13, 9.5730e-16,\n",
              "        2.5779e-15, 1.2349e-15, 2.5050e-13, 2.5476e-16, 3.7162e-13, 5.5283e-13,\n",
              "        2.6198e-12, 8.7443e-14, 2.0382e-16, 7.7305e-15, 1.7233e-17, 1.6103e-15,\n",
              "        7.2310e-13, 2.6009e-13, 1.4897e-15, 1.0451e-16, 4.3391e-16, 4.3231e-16,\n",
              "        5.0777e-16, 2.6601e-15, 1.2126e-14, 1.6962e-13, 9.6514e-14, 1.8854e-16,\n",
              "        4.3828e-16, 5.7974e-13, 4.3180e-14, 3.8029e-14, 1.2133e-13, 1.6062e-12,\n",
              "        1.0348e-13, 1.9060e-14, 9.7977e-17, 4.3406e-14, 6.5801e-17, 2.9340e-15,\n",
              "        4.9687e-15, 7.9295e-15, 2.2720e-15, 6.2842e-14, 7.2659e-13, 7.5242e-13,\n",
              "        2.4700e-17, 6.4283e-15, 3.2338e-13, 1.7215e-14, 5.5594e-16, 2.8999e-14,\n",
              "        1.3654e-16, 2.3900e-18, 1.0671e-14, 1.0565e-13, 9.8138e-15, 2.2688e-16,\n",
              "        4.8613e-16, 3.1420e-15, 5.6829e-16, 1.1670e-16, 3.9832e-16, 6.4194e-17,\n",
              "        7.2120e-15, 3.4207e-16, 5.3162e-18, 3.2574e-16, 1.2312e-16, 4.3518e-17,\n",
              "        9.0922e-17, 1.0698e-16, 5.4076e-15, 1.6999e-15, 6.4828e-15, 4.6695e-16,\n",
              "        1.6253e-15, 1.5936e-16, 2.6759e-16, 1.1521e-14, 6.7812e-14, 1.7946e-16,\n",
              "        5.5384e-16, 2.9254e-13, 9.3469e-16, 3.8832e-15, 2.8735e-16, 3.5077e-15,\n",
              "        7.9518e-15, 7.5670e-15, 4.3784e-15, 7.0656e-16, 2.4390e-14, 1.4201e-14,\n",
              "        9.9276e-16, 6.5735e-14, 2.4264e-13, 6.3459e-15, 1.4821e-14, 4.3169e-14,\n",
              "        5.7887e-13, 9.8030e-12, 1.3284e-10, 1.7679e-12, 5.0181e-12, 4.9663e-14,\n",
              "        1.7836e-12, 3.8494e-14, 3.3817e-12, 1.8641e-14, 1.4118e-15, 3.2759e-15,\n",
              "        1.0642e-12, 5.6264e-16, 5.8168e-14, 1.4227e-15, 4.9397e-16, 5.8457e-12,\n",
              "        1.6575e-10, 1.9495e-12, 1.1053e-14, 6.5842e-14, 2.5097e-08, 1.1743e-09,\n",
              "        2.0437e-15, 5.0467e-13, 1.7877e-12, 1.3282e-12, 2.0974e-12, 4.5050e-12,\n",
              "        4.6684e-14, 1.4081e-11, 1.0657e-12, 2.0087e-11, 6.3235e-13, 1.2620e-14,\n",
              "        9.1499e-15, 3.8163e-15, 1.5753e-13, 2.2399e-16, 1.6088e-14, 5.1243e-15,\n",
              "        9.7752e-14, 5.1823e-15, 2.9674e-15, 3.1345e-15, 1.9324e-12, 1.2789e-15,\n",
              "        9.6199e-14, 3.2331e-13, 2.7102e-15, 1.8251e-14, 2.7617e-11, 2.2888e-13,\n",
              "        2.6827e-09, 3.8249e-09, 3.1713e-12, 5.4706e-11, 9.9989e-01, 2.2265e-11,\n",
              "        2.4056e-09, 3.7214e-07, 6.7156e-10, 1.8459e-17, 4.2958e-16, 4.9335e-11,\n",
              "        9.5015e-11, 2.7052e-13, 3.8144e-14, 4.5320e-14, 4.2423e-15, 1.3900e-13,\n",
              "        2.8450e-15, 1.0028e-15, 1.4167e-13, 6.2352e-18, 3.7339e-15, 1.6028e-13,\n",
              "        4.2267e-16, 2.0477e-14, 3.4210e-08, 1.5735e-07, 1.1207e-08, 9.8623e-10,\n",
              "        2.0891e-08, 2.5921e-10, 9.9264e-09, 3.3020e-10, 6.0289e-13, 3.0411e-14,\n",
              "        1.0612e-15, 2.9051e-15, 3.5763e-14, 2.0163e-15, 4.3977e-13, 3.1980e-13,\n",
              "        5.6832e-12, 4.9775e-13, 1.6803e-12, 2.0079e-13, 1.7804e-15, 2.4577e-11,\n",
              "        2.2561e-12, 1.5049e-12, 8.9985e-12, 1.5269e-13, 7.3079e-15, 1.5730e-16,\n",
              "        3.2999e-15, 5.8552e-14, 1.5457e-15, 7.2867e-13, 2.2979e-14, 5.3703e-16,\n",
              "        1.2792e-13, 6.9085e-16, 3.0800e-16, 5.1689e-16, 4.0344e-16, 2.8584e-15,\n",
              "        1.6713e-17, 1.0964e-11, 1.1495e-14, 2.4697e-16, 1.2749e-16, 1.0021e-16,\n",
              "        1.4530e-16, 7.0362e-16, 3.7722e-14, 1.5481e-16, 2.1087e-15, 7.1745e-17,\n",
              "        5.6086e-16, 1.6955e-16, 2.5690e-16, 1.3325e-15, 2.0646e-13, 3.8389e-15,\n",
              "        6.2350e-16, 3.7526e-16, 2.3240e-16, 1.1672e-14, 2.9688e-15, 7.5226e-14,\n",
              "        8.4477e-15, 5.1046e-16, 8.2952e-18, 3.0351e-17, 3.2806e-16, 2.5576e-14,\n",
              "        7.8661e-16, 2.3579e-13, 5.8964e-14, 1.2109e-14, 3.0939e-16, 7.6794e-16,\n",
              "        6.3384e-17, 1.5757e-16, 4.2022e-12, 5.3027e-15, 1.2361e-15, 1.2533e-14,\n",
              "        2.3818e-15, 1.2878e-18, 3.4594e-16, 5.7982e-17, 4.5748e-17, 3.7642e-16,\n",
              "        5.3977e-18, 5.7151e-16, 3.4263e-15, 6.4452e-14, 8.7498e-14, 2.6872e-16,\n",
              "        7.2625e-17, 7.4262e-17, 8.3751e-14, 7.8601e-15, 1.4302e-14, 4.6872e-15,\n",
              "        1.5308e-15, 4.9590e-16, 5.6669e-14, 1.1658e-16, 4.6303e-15, 1.0370e-16,\n",
              "        5.2457e-12, 1.1285e-12, 1.9586e-13, 1.0743e-17, 5.7675e-17, 4.2985e-14,\n",
              "        5.4075e-16, 1.3628e-14, 1.3711e-13, 2.1152e-15, 3.0293e-16, 1.5369e-15,\n",
              "        2.4022e-15, 2.9973e-15, 4.1921e-17, 3.8291e-17, 4.6352e-15, 1.8315e-14,\n",
              "        5.2359e-16, 2.9275e-12, 2.6542e-13, 1.5431e-16, 1.9105e-15, 1.8017e-14,\n",
              "        1.3247e-17, 2.0946e-14, 1.1534e-13, 1.5973e-14, 1.5203e-12, 1.0079e-15,\n",
              "        1.2640e-14, 4.8514e-15, 1.1375e-14, 4.1953e-17, 6.1473e-18, 5.4198e-17,\n",
              "        2.0422e-14, 5.3706e-15, 5.4280e-15, 1.6363e-16, 8.5643e-15, 6.5568e-16,\n",
              "        3.8071e-15, 2.7013e-15, 1.8761e-13, 1.1033e-15, 1.2451e-13, 2.5535e-14,\n",
              "        2.3546e-15, 8.1200e-15, 9.8992e-17, 2.6562e-17, 4.8166e-16, 1.0625e-13,\n",
              "        7.8675e-15, 1.4357e-14, 3.7249e-14, 4.1540e-14, 9.4028e-17, 8.3822e-15,\n",
              "        2.6754e-13, 2.9645e-14, 5.1544e-18, 1.2362e-17, 6.9323e-15, 8.3529e-15,\n",
              "        6.9912e-16, 7.3565e-17, 1.3726e-14, 1.0220e-16, 7.9660e-16, 1.8298e-14,\n",
              "        2.1751e-17, 9.5855e-17, 1.1703e-13, 6.8905e-17, 2.2699e-14, 2.6152e-14,\n",
              "        8.6625e-16, 1.4417e-14, 5.6307e-14, 2.5520e-16, 1.2775e-14, 5.6101e-14,\n",
              "        2.7887e-16, 2.6798e-17, 8.1683e-15, 6.3962e-15, 2.8120e-17, 4.0043e-16,\n",
              "        3.4374e-15, 5.2386e-17, 1.3784e-16, 1.5927e-15, 1.9609e-15, 5.4107e-15,\n",
              "        4.4105e-13, 1.7078e-14, 5.3756e-15, 4.7262e-16, 6.6680e-14, 3.8609e-15,\n",
              "        1.6431e-16, 2.9479e-16, 2.1313e-15, 6.0970e-14, 2.9087e-14, 3.0696e-16,\n",
              "        1.1939e-15, 1.2538e-17, 1.4923e-15, 2.3551e-16, 4.0948e-15, 1.0694e-15,\n",
              "        1.2961e-17, 2.0273e-15, 6.6106e-18, 2.3265e-16, 1.0373e-14, 8.0152e-16,\n",
              "        1.0346e-12, 2.9581e-15, 2.1518e-14, 2.1392e-14, 5.3024e-17, 1.9619e-13,\n",
              "        1.7920e-12, 3.5419e-14, 1.1145e-14, 1.4158e-13, 2.2693e-17, 1.5136e-13,\n",
              "        6.9374e-17, 2.0086e-15, 2.9495e-14, 2.3444e-17, 2.0733e-16, 9.9202e-13,\n",
              "        2.8704e-14, 1.3703e-16, 4.3886e-17, 9.9012e-17, 2.9375e-17, 3.7927e-14,\n",
              "        5.4245e-16, 1.2954e-14, 8.5804e-16, 4.8442e-15, 4.7647e-17, 3.5799e-14,\n",
              "        9.1949e-16, 1.5260e-15, 1.6812e-16, 1.6426e-14, 9.2878e-16, 8.3961e-16,\n",
              "        4.4163e-14, 1.3289e-13, 1.0594e-14, 4.5383e-15, 6.2740e-14, 3.3712e-15,\n",
              "        5.6844e-15, 4.4396e-17, 6.8086e-15, 3.4220e-15, 8.1387e-15, 1.0954e-15,\n",
              "        3.3075e-18, 1.9834e-14, 5.9410e-15, 1.2225e-13, 1.7985e-14, 2.8156e-14,\n",
              "        1.1890e-15, 1.9527e-15, 2.6747e-15, 1.9438e-15, 7.1578e-14, 3.1970e-13,\n",
              "        1.5044e-16, 2.5796e-15, 5.8338e-14, 6.8553e-16, 1.1991e-16, 1.0662e-15,\n",
              "        5.9703e-15, 1.1042e-15, 6.0043e-13, 3.1181e-16, 6.5470e-17, 7.6828e-17,\n",
              "        1.0907e-16, 1.3489e-14, 8.8470e-15, 3.7532e-16, 1.1332e-15, 8.2456e-14,\n",
              "        7.5510e-15, 1.4212e-18, 4.4398e-16, 1.3297e-17, 4.7132e-15, 8.0868e-16,\n",
              "        1.6780e-14, 1.6386e-14, 5.8226e-16, 4.9393e-16, 6.3427e-16, 2.8512e-17,\n",
              "        1.2990e-15, 8.9132e-14, 8.0498e-11, 5.1107e-17, 1.7395e-14, 8.4191e-13,\n",
              "        4.9521e-16, 2.7730e-16, 8.2404e-16, 1.7451e-14, 1.7914e-16, 1.2512e-14,\n",
              "        4.2424e-13, 1.3658e-15, 7.8302e-14, 1.5473e-16, 5.5229e-16, 1.0930e-16,\n",
              "        9.4568e-15, 5.0787e-16, 4.7460e-14, 3.5679e-15, 8.8616e-14, 4.1936e-15,\n",
              "        2.2767e-13, 1.7396e-15, 2.1741e-16, 4.7265e-15, 1.7121e-14, 2.1492e-15,\n",
              "        6.2380e-16, 4.8795e-14, 3.8573e-16, 1.7221e-14, 2.8006e-15, 1.5962e-15,\n",
              "        8.4476e-16, 6.1804e-15, 2.8011e-15, 1.1923e-15, 2.0695e-15, 3.7029e-15,\n",
              "        9.1864e-17, 5.4968e-17, 1.8117e-16, 3.5411e-16, 1.0229e-14, 4.5145e-15,\n",
              "        1.3473e-15, 1.5456e-14, 3.9202e-14, 2.6128e-14, 3.1428e-14, 4.4272e-14,\n",
              "        2.9277e-17, 4.7484e-16, 2.8370e-13, 8.3661e-16, 3.8292e-15, 1.0488e-14,\n",
              "        1.2128e-15, 8.0223e-14, 4.6986e-17, 1.6652e-14, 6.4070e-16, 5.0671e-15,\n",
              "        1.9116e-14, 1.1227e-16, 6.4516e-16, 4.3746e-15, 2.6867e-14, 5.8993e-15,\n",
              "        4.3215e-15, 1.2086e-14, 8.5146e-14, 7.4536e-17, 9.4881e-15, 9.1505e-14,\n",
              "        5.3471e-15, 2.8490e-15, 7.1850e-17, 3.8410e-16, 3.2949e-13, 6.1227e-15,\n",
              "        8.6343e-15, 6.4776e-15, 3.7937e-14, 1.8796e-16, 8.0474e-16, 1.9926e-15,\n",
              "        4.5955e-15, 5.0550e-15, 1.4345e-14, 1.1597e-13, 4.4718e-16, 8.4213e-16,\n",
              "        1.7083e-15, 1.4827e-13, 4.7971e-17, 1.3032e-13, 3.6715e-14, 5.2482e-15,\n",
              "        1.8430e-15, 2.0811e-15, 6.0140e-16, 1.9218e-14, 1.8251e-14, 1.5224e-15,\n",
              "        1.3535e-14, 1.0228e-15, 5.2035e-15, 1.4178e-14, 1.1142e-13, 6.8569e-16,\n",
              "        2.7649e-16, 9.9339e-15, 3.7405e-15, 6.4576e-16, 6.2012e-14, 2.3544e-13,\n",
              "        2.7528e-15, 7.7556e-14, 7.8999e-14, 7.5786e-17, 2.6057e-16, 1.7487e-15,\n",
              "        7.2667e-15, 3.6999e-16, 3.3929e-16, 9.9239e-16, 2.8908e-16, 3.5853e-18,\n",
              "        6.5034e-15, 1.0153e-12, 8.3857e-15, 1.7770e-14, 5.2028e-14, 4.9643e-14,\n",
              "        3.8827e-16, 7.0810e-13, 1.7737e-17, 1.9748e-14, 5.2901e-17, 4.4257e-13,\n",
              "        4.9478e-14, 3.2989e-15, 3.5764e-14, 1.3317e-15, 8.1918e-20, 2.1862e-14,\n",
              "        1.8309e-18, 3.3035e-15, 6.2372e-14, 2.0970e-14, 9.0915e-17, 2.9276e-14,\n",
              "        3.5230e-13, 1.6000e-15, 4.2938e-16, 1.0002e-15, 1.2082e-16, 7.1143e-16,\n",
              "        4.4891e-17, 4.2919e-13, 9.8061e-16, 5.2269e-15, 2.5379e-14, 1.5755e-15,\n",
              "        5.1718e-13, 6.4956e-16, 1.5263e-15, 1.6654e-15, 3.0678e-15, 1.8892e-12,\n",
              "        5.2486e-14, 4.3769e-16, 6.6808e-14, 5.0802e-15, 1.1870e-15, 1.0826e-15,\n",
              "        6.1986e-14, 6.2948e-13, 2.0638e-16, 2.6920e-14, 1.4099e-16, 1.1830e-17,\n",
              "        2.7512e-13, 1.8861e-16, 4.3662e-15, 1.7313e-15, 1.6891e-15, 1.6987e-18,\n",
              "        2.4403e-15, 8.3972e-17, 1.7737e-16, 6.9854e-17, 3.5975e-13, 3.9296e-15,\n",
              "        4.7333e-15, 1.3061e-15, 8.4355e-16, 2.4026e-15, 2.2134e-16, 2.7867e-17,\n",
              "        1.9332e-14, 2.0141e-15, 2.8863e-16, 1.9997e-12, 1.7624e-15, 9.6960e-17,\n",
              "        2.9271e-15, 1.0648e-14, 2.7347e-13, 1.5984e-15, 9.8287e-15, 4.6537e-17,\n",
              "        1.4532e-16, 3.5952e-16, 2.3447e-17, 1.1642e-15, 2.2193e-16, 5.3837e-13,\n",
              "        8.8486e-16, 2.3752e-15, 7.6445e-15, 3.8347e-16, 3.0113e-15, 3.6088e-14,\n",
              "        4.0378e-16, 1.5469e-16, 2.1365e-14, 1.0702e-15, 1.1444e-12, 4.3484e-15,\n",
              "        1.6291e-17, 3.1824e-15, 9.9323e-15, 8.3413e-15, 1.4212e-13, 2.1433e-13,\n",
              "        7.5682e-14, 9.0953e-15, 1.4162e-16, 5.1428e-18, 5.2026e-15, 5.2663e-16,\n",
              "        1.7971e-15, 7.1289e-18, 1.7672e-16, 7.2323e-15, 1.0840e-15, 5.3673e-15,\n",
              "        2.8786e-15, 5.7847e-16, 5.9645e-16, 4.1976e-15, 4.3519e-16, 9.7876e-14,\n",
              "        2.4556e-14, 1.4636e-12, 8.6275e-14, 1.9519e-15, 3.8311e-17, 2.0515e-16,\n",
              "        3.4243e-15, 4.5709e-10, 1.1909e-14, 1.0820e-12, 1.6116e-14, 3.1372e-14,\n",
              "        2.7174e-14, 2.5633e-13, 4.3435e-12, 4.9717e-13, 3.9733e-12, 5.4916e-11,\n",
              "        3.0892e-13, 1.2553e-13, 4.2767e-13, 7.7933e-13, 3.0971e-14, 9.5692e-11,\n",
              "        8.6524e-13, 2.7205e-12, 7.2237e-14, 3.6950e-13, 1.6532e-13, 1.4234e-15,\n",
              "        1.7618e-15, 4.4703e-15, 4.6325e-16, 3.6605e-16, 5.0142e-16, 1.7729e-17,\n",
              "        7.1790e-16, 5.1686e-15, 1.1374e-13, 6.5605e-17, 4.8649e-15, 5.5886e-16,\n",
              "        5.5384e-17, 1.4598e-14, 8.1617e-18, 4.8583e-15, 5.9187e-15, 2.4776e-14,\n",
              "        5.6244e-14, 1.2901e-15, 2.0251e-16, 7.4986e-18, 1.8704e-17, 1.4110e-15,\n",
              "        5.4110e-15, 1.6089e-14, 4.4627e-15, 1.6603e-10, 1.2003e-11, 1.1081e-14,\n",
              "        2.3588e-13, 4.2180e-14, 5.3320e-13, 5.4678e-14, 2.3755e-12, 2.0544e-13,\n",
              "        2.0657e-13, 1.6855e-11, 9.3479e-10, 1.9360e-14],\n",
              "       grad_fn=<SoftmaxBackward0>)"
            ]
          },
          "metadata": {},
          "execution_count": 12
        }
      ],
      "source": [
        "import torch.nn.functional as F\n",
        "\n",
        "# write your code here\n",
        "probabilities = F.softmax(logit, dim=0)\n",
        "probabilities"
      ]
    },
    {
      "cell_type": "markdown",
      "id": "759c9173",
      "metadata": {
        "id": "759c9173"
      },
      "source": [
        "Use PyTorch's own built-in function to get the top-K probabilities and corresponding indices:"
      ]
    },
    {
      "cell_type": "code",
      "execution_count": null,
      "id": "16d3b6dc",
      "metadata": {
        "id": "16d3b6dc",
        "outputId": "adab3637-e276-45d5-a3c4-ffcf8e6f3944",
        "colab": {
          "base_uri": "https://localhost:8080/"
        }
      },
      "outputs": [
        {
          "output_type": "execute_result",
          "data": {
            "text/plain": [
              "(tensor([0.9999], grad_fn=<TopkBackward0>), tensor([334]))"
            ]
          },
          "metadata": {},
          "execution_count": 13
        }
      ],
      "source": [
        "# write your code here\n",
        "values, indices = torch.topk(probabilities, 1)\n",
        "values, indices"
      ]
    },
    {
      "cell_type": "markdown",
      "id": "ea38af6f",
      "metadata": {
        "id": "ea38af6f"
      },
      "source": [
        "The target or label is the class corresponding to the index above. Just run the cell below as is to visualize its output:"
      ]
    },
    {
      "cell_type": "code",
      "execution_count": null,
      "id": "6435319e",
      "metadata": {
        "id": "6435319e",
        "outputId": "0435fe11-8b91-4f40-a719-c0133c3651be",
        "colab": {
          "base_uri": "https://localhost:8080/",
          "height": 36
        }
      },
      "outputs": [
        {
          "output_type": "execute_result",
          "data": {
            "text/plain": [
              "'porcupine'"
            ],
            "application/vnd.google.colaboratory.intrinsic+json": {
              "type": "string"
            }
          },
          "metadata": {},
          "execution_count": 14
        }
      ],
      "source": [
        "categories[indices[0]]"
      ]
    },
    {
      "cell_type": "markdown",
      "id": "0d26d132",
      "metadata": {
        "id": "0d26d132"
      },
      "source": [
        "#### 7.8.4.2 Testing\n",
        "\n",
        "In a real-world deployment, you won't have the input data neatly assembled as a dataset. You will have to create a mini-batch of the user's input data, feed it to the model to get its predicted logits, and then convert them into one or more predictions and probabilities that need to be returned to the user.\n",
        "\n",
        "Write a function that takes either an URL or a filepath, a model, its prescribed transformations, and a list of target categories, and returns a list of the top K predictions:"
      ]
    },
    {
      "cell_type": "code",
      "execution_count": null,
      "id": "d8419346",
      "metadata": {
        "id": "d8419346"
      },
      "outputs": [],
      "source": [
        "def predict(path_or_url, model, transforms_fn, categories, topk=1, headers=None):\n",
        "    if path_or_url.startswith('http'):\n",
        "        img = get_image_from_url(path_or_url, headers=headers)\n",
        "    else:\n",
        "        img = Image.open(path_or_url)\n",
        "\n",
        "    # Apply the transformation to the image\n",
        "    # write your code here\n",
        "    preproc_img = transforms_fn(img)\n",
        "\n",
        "    # If the transformation doesn't return a mini-batch\n",
        "    # We make one ourselves by unsqueezing the first dimension\n",
        "    if len(preproc_img.shape) == 3:\n",
        "        preproc_img = preproc_img.unsqueeze(0)\n",
        "\n",
        "    # Set the model to evaluation mode\n",
        "    # write your code here\n",
        "    model.eval()\n",
        "\n",
        "    device = next(model.parameters()).device\n",
        "\n",
        "    # Make predictions (logits)\n",
        "    pred = model(preproc_img)\n",
        "\n",
        "    # Compute probabilities out of the predicted logits\n",
        "    # and then get the topk values and indices\n",
        "    # write your code here\n",
        "    probabilities = torch.nn.functional.softmax(pred[0], dim=0)\n",
        "    values, indices = torch.topk(probabilities, topk)\n",
        "\n",
        "    return [{'label': categories[i], 'value': v.item()} for i, v in zip(indices, values)]"
      ]
    },
    {
      "cell_type": "markdown",
      "id": "11621c6c",
      "metadata": {
        "id": "11621c6c"
      },
      "source": [
        "Use the metadata from your model's weights as arguments to the function you wrote, and let's make a prediction using an image's URL:"
      ]
    },
    {
      "cell_type": "code",
      "execution_count": null,
      "id": "398bf19c",
      "metadata": {
        "id": "398bf19c"
      },
      "outputs": [],
      "source": [
        "# write your code here\n",
        "transforms_fn = weights.transforms()\n",
        "categories = weights.meta['categories']"
      ]
    },
    {
      "cell_type": "markdown",
      "id": "2e551a2a",
      "metadata": {
        "id": "2e551a2a"
      },
      "source": [
        "Let's make a prediction using an image's URL:"
      ]
    },
    {
      "cell_type": "code",
      "source": [],
      "metadata": {
        "id": "KHYwbgy40nY3"
      },
      "id": "KHYwbgy40nY3",
      "execution_count": null,
      "outputs": []
    },
    {
      "cell_type": "code",
      "source": [
        "from IPython.display import HTML\n",
        "\n",
        "url = 'https://upload.wikimedia.org/wikipedia/commons/c/ce/Daisy_G%C3%A4nsebl%C3%BCmchen_Bellis_perennis_01.jpg'\n",
        "\n",
        "HTML(f'<img src=\"{url}\" width=\"300px\">')"
      ],
      "metadata": {
        "id": "fZcTKytCz1VD",
        "outputId": "c28c300a-30ea-4c47-d3bd-013b4a26e127",
        "colab": {
          "base_uri": "https://localhost:8080/",
          "height": 247
        }
      },
      "id": "fZcTKytCz1VD",
      "execution_count": null,
      "outputs": [
        {
          "output_type": "execute_result",
          "data": {
            "text/plain": [
              "<IPython.core.display.HTML object>"
            ],
            "text/html": [
              "<img src=\"https://upload.wikimedia.org/wikipedia/commons/c/ce/Daisy_G%C3%A4nsebl%C3%BCmchen_Bellis_perennis_01.jpg\" width=\"300px\">"
            ]
          },
          "metadata": {},
          "execution_count": 20
        }
      ]
    },
    {
      "cell_type": "code",
      "execution_count": null,
      "id": "ec6f5245",
      "metadata": {
        "id": "ec6f5245",
        "outputId": "11bfbfbc-e2ff-4b1e-f2c0-d8552b877db0",
        "colab": {
          "base_uri": "https://localhost:8080/"
        }
      },
      "outputs": [
        {
          "output_type": "execute_result",
          "data": {
            "text/plain": [
              "[{'label': 'daisy', 'value': 0.9999676942825317}]"
            ]
          },
          "metadata": {},
          "execution_count": 17
        }
      ],
      "source": [
        "url = 'https://upload.wikimedia.org/wikipedia/commons/c/ce/Daisy_G%C3%A4nsebl%C3%BCmchen_Bellis_perennis_01.jpg'\n",
        "# Complying with Wikimedia User Agent's policy: https://meta.wikimedia.org/wiki/User-Agent_policy\n",
        "headers = {'User-Agent': 'CoolBot/0.0 (https://example.org/coolbot/; coolbot@example.org)'}\n",
        "\n",
        "# Call the predict function on an URL of an image, like the one above\n",
        "# Don't forget to pass the headers as argument\n",
        "# write your code here\n",
        "predict(url, model, transforms_fn, categories, headers=headers)"
      ]
    }
  ],
  "metadata": {
    "kernelspec": {
      "display_name": "Python 3 (ipykernel)",
      "language": "python",
      "name": "python3"
    },
    "language_info": {
      "codemirror_mode": {
        "name": "ipython",
        "version": 3
      },
      "file_extension": ".py",
      "mimetype": "text/x-python",
      "name": "python",
      "nbconvert_exporter": "python",
      "pygments_lexer": "ipython3",
      "version": "3.9.12"
    },
    "colab": {
      "provenance": [],
      "include_colab_link": true
    }
  },
  "nbformat": 4,
  "nbformat_minor": 5
}