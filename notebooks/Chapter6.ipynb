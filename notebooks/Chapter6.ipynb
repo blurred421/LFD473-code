{
  "cells": [
    {
      "cell_type": "markdown",
      "metadata": {
        "id": "7b8de4b9"
      },
      "source": [
        "# Chapter 6: Transfer Learning and Pretrained Models"
      ],
      "id": "7b8de4b9"
    },
    {
      "cell_type": "markdown",
      "metadata": {
        "id": "bf10226b"
      },
      "source": [
        "## 6.2 Learning Objectives\n",
        "\n",
        "By the end of this chapter, you should be able to:\n",
        "- understand what is transfer learning\n",
        "- load pretrained models for computer vision using TorchHub\n",
        "- preprocess images to make them suitable inputs for models\n",
        "- run inference on pretrained models using your own images\n",
        "- build a dataset of images"
      ],
      "id": "bf10226b"
    },
    {
      "cell_type": "markdown",
      "metadata": {
        "id": "51701390"
      },
      "source": [
        "## 6.3 What is Transfer Learning?\n",
        "\n",
        "The idea is actually quite simple: some Big Tech company with virtually infinite amounts of data and computing power trains a huge and powerful model and, once the model is trained, it releases the architecture and the corresponding trained weights (the pretrained model itself). Next, everyone can use these weights as a starting point and fine-tune them to fit a different - although similar - purpose of the original model."
      ],
      "id": "51701390"
    },
    {
      "cell_type": "markdown",
      "metadata": {
        "id": "5c3efc05"
      },
      "source": [
        "## 6.4 Torch Hub\n",
        "\n",
        "The [Torch Hub](https://pytorch.org/hub/) can be uset to try out and use to quickly run inference on your own data using pretrained models. It is a pretrained model repository designed to facilitate research reproducibility."
      ],
      "id": "5c3efc05"
    },
    {
      "cell_type": "markdown",
      "metadata": {
        "id": "fd595d0c"
      },
      "source": [
        "### 6.4.1 Listing Models"
      ],
      "id": "fd595d0c"
    },
    {
      "cell_type": "code",
      "execution_count": 1,
      "metadata": {
        "colab": {
          "base_uri": "https://localhost:8080/"
        },
        "id": "b939f30a",
        "outputId": "f7fbe33e-5aed-4029-9130-13b0a1143503"
      },
      "outputs": [
        {
          "output_type": "stream",
          "name": "stderr",
          "text": [
            "Downloading: \"https://github.com/pytorch/vision/zipball/v0.15.2\" to /root/.cache/torch/hub/v0.15.2.zip\n",
            "/root/.cache/torch/hub/pytorch_vision_v0.15.2/torchvision/io/image.py:13: UserWarning: Failed to load image Python extension: ''If you don't plan on using image functionality from `torchvision.io`, you can ignore this warning. Otherwise, there might be something wrong with your environment. Did you have `libjpeg` or `libpng` installed before building `torchvision` from source?\n",
            "  warn(\n"
          ]
        },
        {
          "output_type": "execute_result",
          "data": {
            "text/plain": [
              "['alexnet',\n",
              " 'convnext_base',\n",
              " 'convnext_large',\n",
              " 'convnext_small',\n",
              " 'convnext_tiny',\n",
              " 'deeplabv3_mobilenet_v3_large',\n",
              " 'deeplabv3_resnet101',\n",
              " 'deeplabv3_resnet50',\n",
              " 'densenet121',\n",
              " 'densenet161',\n",
              " 'densenet169',\n",
              " 'densenet201',\n",
              " 'efficientnet_b0',\n",
              " 'efficientnet_b1',\n",
              " 'efficientnet_b2',\n",
              " 'efficientnet_b3',\n",
              " 'efficientnet_b4',\n",
              " 'efficientnet_b5',\n",
              " 'efficientnet_b6',\n",
              " 'efficientnet_b7',\n",
              " 'efficientnet_v2_l',\n",
              " 'efficientnet_v2_m',\n",
              " 'efficientnet_v2_s',\n",
              " 'fcn_resnet101',\n",
              " 'fcn_resnet50',\n",
              " 'get_model_weights',\n",
              " 'get_weight',\n",
              " 'googlenet',\n",
              " 'inception_v3',\n",
              " 'lraspp_mobilenet_v3_large',\n",
              " 'maxvit_t',\n",
              " 'mc3_18',\n",
              " 'mnasnet0_5',\n",
              " 'mnasnet0_75',\n",
              " 'mnasnet1_0',\n",
              " 'mnasnet1_3',\n",
              " 'mobilenet_v2',\n",
              " 'mobilenet_v3_large',\n",
              " 'mobilenet_v3_small',\n",
              " 'mvit_v1_b',\n",
              " 'mvit_v2_s',\n",
              " 'r2plus1d_18',\n",
              " 'r3d_18',\n",
              " 'raft_large',\n",
              " 'raft_small',\n",
              " 'regnet_x_16gf',\n",
              " 'regnet_x_1_6gf',\n",
              " 'regnet_x_32gf',\n",
              " 'regnet_x_3_2gf',\n",
              " 'regnet_x_400mf',\n",
              " 'regnet_x_800mf',\n",
              " 'regnet_x_8gf',\n",
              " 'regnet_y_128gf',\n",
              " 'regnet_y_16gf',\n",
              " 'regnet_y_1_6gf',\n",
              " 'regnet_y_32gf',\n",
              " 'regnet_y_3_2gf',\n",
              " 'regnet_y_400mf',\n",
              " 'regnet_y_800mf',\n",
              " 'regnet_y_8gf',\n",
              " 'resnet101',\n",
              " 'resnet152',\n",
              " 'resnet18',\n",
              " 'resnet34',\n",
              " 'resnet50',\n",
              " 'resnext101_32x8d',\n",
              " 'resnext101_64x4d',\n",
              " 'resnext50_32x4d',\n",
              " 's3d',\n",
              " 'shufflenet_v2_x0_5',\n",
              " 'shufflenet_v2_x1_0',\n",
              " 'shufflenet_v2_x1_5',\n",
              " 'shufflenet_v2_x2_0',\n",
              " 'squeezenet1_0',\n",
              " 'squeezenet1_1',\n",
              " 'swin3d_b',\n",
              " 'swin3d_s',\n",
              " 'swin3d_t',\n",
              " 'swin_b',\n",
              " 'swin_s',\n",
              " 'swin_t',\n",
              " 'swin_v2_b',\n",
              " 'swin_v2_s',\n",
              " 'swin_v2_t',\n",
              " 'vgg11',\n",
              " 'vgg11_bn',\n",
              " 'vgg13',\n",
              " 'vgg13_bn',\n",
              " 'vgg16',\n",
              " 'vgg16_bn',\n",
              " 'vgg19',\n",
              " 'vgg19_bn',\n",
              " 'vit_b_16',\n",
              " 'vit_b_32',\n",
              " 'vit_h_14',\n",
              " 'vit_l_16',\n",
              " 'vit_l_32',\n",
              " 'wide_resnet101_2',\n",
              " 'wide_resnet50_2']"
            ]
          },
          "metadata": {},
          "execution_count": 1
        }
      ],
      "source": [
        "import torch\n",
        "repo = 'pytorch/vision:v0.15.2'\n",
        "entrypoints = torch.hub.list(repo)\n",
        "entrypoints"
      ],
      "id": "b939f30a"
    },
    {
      "cell_type": "markdown",
      "metadata": {
        "id": "a160b023"
      },
      "source": [
        "### 6.4.2 Loading a Model"
      ],
      "id": "a160b023"
    },
    {
      "cell_type": "code",
      "execution_count": 2,
      "metadata": {
        "colab": {
          "base_uri": "https://localhost:8080/"
        },
        "id": "5155e783",
        "outputId": "b57a62d8-121e-43b8-e53d-59812e5e95b5"
      },
      "outputs": [
        {
          "output_type": "stream",
          "name": "stdout",
          "text": [
            "ResNet-50 from `Deep Residual Learning for Image Recognition <https://arxiv.org/pdf/1512.03385.pdf>`__.\n",
            "\n",
            "    .. note::\n",
            "       The bottleneck of TorchVision places the stride for downsampling to the second 3x3\n",
            "       convolution while the original paper places it to the first 1x1 convolution.\n",
            "       This variant improves the accuracy and is known as `ResNet V1.5\n",
            "       <https://ngc.nvidia.com/catalog/model-scripts/nvidia:resnet_50_v1_5_for_pytorch>`_.\n",
            "\n",
            "    Args:\n",
            "        weights (:class:`~torchvision.models.ResNet50_Weights`, optional): The\n",
            "            pretrained weights to use. See\n",
            "            :class:`~torchvision.models.ResNet50_Weights` below for\n",
            "            more details, and possible values. By default, no pre-trained\n",
            "            weights are used.\n",
            "        progress (bool, optional): If True, displays a progress bar of the\n",
            "            download to stderr. Default is True.\n",
            "        **kwargs: parameters passed to the ``torchvision.models.resnet.ResNet``\n",
            "            base class. Please refer to the `source code\n",
            "            <https://github.com/pytorch/vision/blob/main/torchvision/models/resnet.py>`_\n",
            "            for more details about this class.\n",
            "\n",
            "    .. autoclass:: torchvision.models.ResNet50_Weights\n",
            "        :members:\n",
            "    \n"
          ]
        },
        {
          "output_type": "stream",
          "name": "stderr",
          "text": [
            "Using cache found in /root/.cache/torch/hub/pytorch_vision_v0.15.2\n"
          ]
        }
      ],
      "source": [
        "resnet_help = torch.hub.help(repo, 'resnet50')\n",
        "print(resnet_help)"
      ],
      "id": "5155e783"
    },
    {
      "cell_type": "code",
      "execution_count": 3,
      "metadata": {
        "colab": {
          "base_uri": "https://localhost:8080/"
        },
        "id": "1189ce03",
        "outputId": "da43aebc-9160-4487-ebd6-2f5be7802d21"
      },
      "outputs": [
        {
          "output_type": "stream",
          "name": "stderr",
          "text": [
            "Using cache found in /root/.cache/torch/hub/pytorch_vision_v0.15.2\n"
          ]
        },
        {
          "output_type": "execute_result",
          "data": {
            "text/plain": [
              "ResNet(\n",
              "  (conv1): Conv2d(3, 64, kernel_size=(7, 7), stride=(2, 2), padding=(3, 3), bias=False)\n",
              "  (bn1): BatchNorm2d(64, eps=1e-05, momentum=0.1, affine=True, track_running_stats=True)\n",
              "  (relu): ReLU(inplace=True)\n",
              "  (maxpool): MaxPool2d(kernel_size=3, stride=2, padding=1, dilation=1, ceil_mode=False)\n",
              "  (layer1): Sequential(\n",
              "    (0): Bottleneck(\n",
              "      (conv1): Conv2d(64, 64, kernel_size=(1, 1), stride=(1, 1), bias=False)\n",
              "      (bn1): BatchNorm2d(64, eps=1e-05, momentum=0.1, affine=True, track_running_stats=True)\n",
              "      (conv2): Conv2d(64, 64, kernel_size=(3, 3), stride=(1, 1), padding=(1, 1), bias=False)\n",
              "      (bn2): BatchNorm2d(64, eps=1e-05, momentum=0.1, affine=True, track_running_stats=True)\n",
              "      (conv3): Conv2d(64, 256, kernel_size=(1, 1), stride=(1, 1), bias=False)\n",
              "      (bn3): BatchNorm2d(256, eps=1e-05, momentum=0.1, affine=True, track_running_stats=True)\n",
              "      (relu): ReLU(inplace=True)\n",
              "      (downsample): Sequential(\n",
              "        (0): Conv2d(64, 256, kernel_size=(1, 1), stride=(1, 1), bias=False)\n",
              "        (1): BatchNorm2d(256, eps=1e-05, momentum=0.1, affine=True, track_running_stats=True)\n",
              "      )\n",
              "    )\n",
              "    (1): Bottleneck(\n",
              "      (conv1): Conv2d(256, 64, kernel_size=(1, 1), stride=(1, 1), bias=False)\n",
              "      (bn1): BatchNorm2d(64, eps=1e-05, momentum=0.1, affine=True, track_running_stats=True)\n",
              "      (conv2): Conv2d(64, 64, kernel_size=(3, 3), stride=(1, 1), padding=(1, 1), bias=False)\n",
              "      (bn2): BatchNorm2d(64, eps=1e-05, momentum=0.1, affine=True, track_running_stats=True)\n",
              "      (conv3): Conv2d(64, 256, kernel_size=(1, 1), stride=(1, 1), bias=False)\n",
              "      (bn3): BatchNorm2d(256, eps=1e-05, momentum=0.1, affine=True, track_running_stats=True)\n",
              "      (relu): ReLU(inplace=True)\n",
              "    )\n",
              "    (2): Bottleneck(\n",
              "      (conv1): Conv2d(256, 64, kernel_size=(1, 1), stride=(1, 1), bias=False)\n",
              "      (bn1): BatchNorm2d(64, eps=1e-05, momentum=0.1, affine=True, track_running_stats=True)\n",
              "      (conv2): Conv2d(64, 64, kernel_size=(3, 3), stride=(1, 1), padding=(1, 1), bias=False)\n",
              "      (bn2): BatchNorm2d(64, eps=1e-05, momentum=0.1, affine=True, track_running_stats=True)\n",
              "      (conv3): Conv2d(64, 256, kernel_size=(1, 1), stride=(1, 1), bias=False)\n",
              "      (bn3): BatchNorm2d(256, eps=1e-05, momentum=0.1, affine=True, track_running_stats=True)\n",
              "      (relu): ReLU(inplace=True)\n",
              "    )\n",
              "  )\n",
              "  (layer2): Sequential(\n",
              "    (0): Bottleneck(\n",
              "      (conv1): Conv2d(256, 128, kernel_size=(1, 1), stride=(1, 1), bias=False)\n",
              "      (bn1): BatchNorm2d(128, eps=1e-05, momentum=0.1, affine=True, track_running_stats=True)\n",
              "      (conv2): Conv2d(128, 128, kernel_size=(3, 3), stride=(2, 2), padding=(1, 1), bias=False)\n",
              "      (bn2): BatchNorm2d(128, eps=1e-05, momentum=0.1, affine=True, track_running_stats=True)\n",
              "      (conv3): Conv2d(128, 512, kernel_size=(1, 1), stride=(1, 1), bias=False)\n",
              "      (bn3): BatchNorm2d(512, eps=1e-05, momentum=0.1, affine=True, track_running_stats=True)\n",
              "      (relu): ReLU(inplace=True)\n",
              "      (downsample): Sequential(\n",
              "        (0): Conv2d(256, 512, kernel_size=(1, 1), stride=(2, 2), bias=False)\n",
              "        (1): BatchNorm2d(512, eps=1e-05, momentum=0.1, affine=True, track_running_stats=True)\n",
              "      )\n",
              "    )\n",
              "    (1): Bottleneck(\n",
              "      (conv1): Conv2d(512, 128, kernel_size=(1, 1), stride=(1, 1), bias=False)\n",
              "      (bn1): BatchNorm2d(128, eps=1e-05, momentum=0.1, affine=True, track_running_stats=True)\n",
              "      (conv2): Conv2d(128, 128, kernel_size=(3, 3), stride=(1, 1), padding=(1, 1), bias=False)\n",
              "      (bn2): BatchNorm2d(128, eps=1e-05, momentum=0.1, affine=True, track_running_stats=True)\n",
              "      (conv3): Conv2d(128, 512, kernel_size=(1, 1), stride=(1, 1), bias=False)\n",
              "      (bn3): BatchNorm2d(512, eps=1e-05, momentum=0.1, affine=True, track_running_stats=True)\n",
              "      (relu): ReLU(inplace=True)\n",
              "    )\n",
              "    (2): Bottleneck(\n",
              "      (conv1): Conv2d(512, 128, kernel_size=(1, 1), stride=(1, 1), bias=False)\n",
              "      (bn1): BatchNorm2d(128, eps=1e-05, momentum=0.1, affine=True, track_running_stats=True)\n",
              "      (conv2): Conv2d(128, 128, kernel_size=(3, 3), stride=(1, 1), padding=(1, 1), bias=False)\n",
              "      (bn2): BatchNorm2d(128, eps=1e-05, momentum=0.1, affine=True, track_running_stats=True)\n",
              "      (conv3): Conv2d(128, 512, kernel_size=(1, 1), stride=(1, 1), bias=False)\n",
              "      (bn3): BatchNorm2d(512, eps=1e-05, momentum=0.1, affine=True, track_running_stats=True)\n",
              "      (relu): ReLU(inplace=True)\n",
              "    )\n",
              "    (3): Bottleneck(\n",
              "      (conv1): Conv2d(512, 128, kernel_size=(1, 1), stride=(1, 1), bias=False)\n",
              "      (bn1): BatchNorm2d(128, eps=1e-05, momentum=0.1, affine=True, track_running_stats=True)\n",
              "      (conv2): Conv2d(128, 128, kernel_size=(3, 3), stride=(1, 1), padding=(1, 1), bias=False)\n",
              "      (bn2): BatchNorm2d(128, eps=1e-05, momentum=0.1, affine=True, track_running_stats=True)\n",
              "      (conv3): Conv2d(128, 512, kernel_size=(1, 1), stride=(1, 1), bias=False)\n",
              "      (bn3): BatchNorm2d(512, eps=1e-05, momentum=0.1, affine=True, track_running_stats=True)\n",
              "      (relu): ReLU(inplace=True)\n",
              "    )\n",
              "  )\n",
              "  (layer3): Sequential(\n",
              "    (0): Bottleneck(\n",
              "      (conv1): Conv2d(512, 256, kernel_size=(1, 1), stride=(1, 1), bias=False)\n",
              "      (bn1): BatchNorm2d(256, eps=1e-05, momentum=0.1, affine=True, track_running_stats=True)\n",
              "      (conv2): Conv2d(256, 256, kernel_size=(3, 3), stride=(2, 2), padding=(1, 1), bias=False)\n",
              "      (bn2): BatchNorm2d(256, eps=1e-05, momentum=0.1, affine=True, track_running_stats=True)\n",
              "      (conv3): Conv2d(256, 1024, kernel_size=(1, 1), stride=(1, 1), bias=False)\n",
              "      (bn3): BatchNorm2d(1024, eps=1e-05, momentum=0.1, affine=True, track_running_stats=True)\n",
              "      (relu): ReLU(inplace=True)\n",
              "      (downsample): Sequential(\n",
              "        (0): Conv2d(512, 1024, kernel_size=(1, 1), stride=(2, 2), bias=False)\n",
              "        (1): BatchNorm2d(1024, eps=1e-05, momentum=0.1, affine=True, track_running_stats=True)\n",
              "      )\n",
              "    )\n",
              "    (1): Bottleneck(\n",
              "      (conv1): Conv2d(1024, 256, kernel_size=(1, 1), stride=(1, 1), bias=False)\n",
              "      (bn1): BatchNorm2d(256, eps=1e-05, momentum=0.1, affine=True, track_running_stats=True)\n",
              "      (conv2): Conv2d(256, 256, kernel_size=(3, 3), stride=(1, 1), padding=(1, 1), bias=False)\n",
              "      (bn2): BatchNorm2d(256, eps=1e-05, momentum=0.1, affine=True, track_running_stats=True)\n",
              "      (conv3): Conv2d(256, 1024, kernel_size=(1, 1), stride=(1, 1), bias=False)\n",
              "      (bn3): BatchNorm2d(1024, eps=1e-05, momentum=0.1, affine=True, track_running_stats=True)\n",
              "      (relu): ReLU(inplace=True)\n",
              "    )\n",
              "    (2): Bottleneck(\n",
              "      (conv1): Conv2d(1024, 256, kernel_size=(1, 1), stride=(1, 1), bias=False)\n",
              "      (bn1): BatchNorm2d(256, eps=1e-05, momentum=0.1, affine=True, track_running_stats=True)\n",
              "      (conv2): Conv2d(256, 256, kernel_size=(3, 3), stride=(1, 1), padding=(1, 1), bias=False)\n",
              "      (bn2): BatchNorm2d(256, eps=1e-05, momentum=0.1, affine=True, track_running_stats=True)\n",
              "      (conv3): Conv2d(256, 1024, kernel_size=(1, 1), stride=(1, 1), bias=False)\n",
              "      (bn3): BatchNorm2d(1024, eps=1e-05, momentum=0.1, affine=True, track_running_stats=True)\n",
              "      (relu): ReLU(inplace=True)\n",
              "    )\n",
              "    (3): Bottleneck(\n",
              "      (conv1): Conv2d(1024, 256, kernel_size=(1, 1), stride=(1, 1), bias=False)\n",
              "      (bn1): BatchNorm2d(256, eps=1e-05, momentum=0.1, affine=True, track_running_stats=True)\n",
              "      (conv2): Conv2d(256, 256, kernel_size=(3, 3), stride=(1, 1), padding=(1, 1), bias=False)\n",
              "      (bn2): BatchNorm2d(256, eps=1e-05, momentum=0.1, affine=True, track_running_stats=True)\n",
              "      (conv3): Conv2d(256, 1024, kernel_size=(1, 1), stride=(1, 1), bias=False)\n",
              "      (bn3): BatchNorm2d(1024, eps=1e-05, momentum=0.1, affine=True, track_running_stats=True)\n",
              "      (relu): ReLU(inplace=True)\n",
              "    )\n",
              "    (4): Bottleneck(\n",
              "      (conv1): Conv2d(1024, 256, kernel_size=(1, 1), stride=(1, 1), bias=False)\n",
              "      (bn1): BatchNorm2d(256, eps=1e-05, momentum=0.1, affine=True, track_running_stats=True)\n",
              "      (conv2): Conv2d(256, 256, kernel_size=(3, 3), stride=(1, 1), padding=(1, 1), bias=False)\n",
              "      (bn2): BatchNorm2d(256, eps=1e-05, momentum=0.1, affine=True, track_running_stats=True)\n",
              "      (conv3): Conv2d(256, 1024, kernel_size=(1, 1), stride=(1, 1), bias=False)\n",
              "      (bn3): BatchNorm2d(1024, eps=1e-05, momentum=0.1, affine=True, track_running_stats=True)\n",
              "      (relu): ReLU(inplace=True)\n",
              "    )\n",
              "    (5): Bottleneck(\n",
              "      (conv1): Conv2d(1024, 256, kernel_size=(1, 1), stride=(1, 1), bias=False)\n",
              "      (bn1): BatchNorm2d(256, eps=1e-05, momentum=0.1, affine=True, track_running_stats=True)\n",
              "      (conv2): Conv2d(256, 256, kernel_size=(3, 3), stride=(1, 1), padding=(1, 1), bias=False)\n",
              "      (bn2): BatchNorm2d(256, eps=1e-05, momentum=0.1, affine=True, track_running_stats=True)\n",
              "      (conv3): Conv2d(256, 1024, kernel_size=(1, 1), stride=(1, 1), bias=False)\n",
              "      (bn3): BatchNorm2d(1024, eps=1e-05, momentum=0.1, affine=True, track_running_stats=True)\n",
              "      (relu): ReLU(inplace=True)\n",
              "    )\n",
              "  )\n",
              "  (layer4): Sequential(\n",
              "    (0): Bottleneck(\n",
              "      (conv1): Conv2d(1024, 512, kernel_size=(1, 1), stride=(1, 1), bias=False)\n",
              "      (bn1): BatchNorm2d(512, eps=1e-05, momentum=0.1, affine=True, track_running_stats=True)\n",
              "      (conv2): Conv2d(512, 512, kernel_size=(3, 3), stride=(2, 2), padding=(1, 1), bias=False)\n",
              "      (bn2): BatchNorm2d(512, eps=1e-05, momentum=0.1, affine=True, track_running_stats=True)\n",
              "      (conv3): Conv2d(512, 2048, kernel_size=(1, 1), stride=(1, 1), bias=False)\n",
              "      (bn3): BatchNorm2d(2048, eps=1e-05, momentum=0.1, affine=True, track_running_stats=True)\n",
              "      (relu): ReLU(inplace=True)\n",
              "      (downsample): Sequential(\n",
              "        (0): Conv2d(1024, 2048, kernel_size=(1, 1), stride=(2, 2), bias=False)\n",
              "        (1): BatchNorm2d(2048, eps=1e-05, momentum=0.1, affine=True, track_running_stats=True)\n",
              "      )\n",
              "    )\n",
              "    (1): Bottleneck(\n",
              "      (conv1): Conv2d(2048, 512, kernel_size=(1, 1), stride=(1, 1), bias=False)\n",
              "      (bn1): BatchNorm2d(512, eps=1e-05, momentum=0.1, affine=True, track_running_stats=True)\n",
              "      (conv2): Conv2d(512, 512, kernel_size=(3, 3), stride=(1, 1), padding=(1, 1), bias=False)\n",
              "      (bn2): BatchNorm2d(512, eps=1e-05, momentum=0.1, affine=True, track_running_stats=True)\n",
              "      (conv3): Conv2d(512, 2048, kernel_size=(1, 1), stride=(1, 1), bias=False)\n",
              "      (bn3): BatchNorm2d(2048, eps=1e-05, momentum=0.1, affine=True, track_running_stats=True)\n",
              "      (relu): ReLU(inplace=True)\n",
              "    )\n",
              "    (2): Bottleneck(\n",
              "      (conv1): Conv2d(2048, 512, kernel_size=(1, 1), stride=(1, 1), bias=False)\n",
              "      (bn1): BatchNorm2d(512, eps=1e-05, momentum=0.1, affine=True, track_running_stats=True)\n",
              "      (conv2): Conv2d(512, 512, kernel_size=(3, 3), stride=(1, 1), padding=(1, 1), bias=False)\n",
              "      (bn2): BatchNorm2d(512, eps=1e-05, momentum=0.1, affine=True, track_running_stats=True)\n",
              "      (conv3): Conv2d(512, 2048, kernel_size=(1, 1), stride=(1, 1), bias=False)\n",
              "      (bn3): BatchNorm2d(2048, eps=1e-05, momentum=0.1, affine=True, track_running_stats=True)\n",
              "      (relu): ReLU(inplace=True)\n",
              "    )\n",
              "  )\n",
              "  (avgpool): AdaptiveAvgPool2d(output_size=(1, 1))\n",
              "  (fc): Linear(in_features=2048, out_features=1000, bias=True)\n",
              ")"
            ]
          },
          "metadata": {},
          "execution_count": 3
        }
      ],
      "source": [
        "untrained_model = torch.hub.load(repo, 'resnet50')\n",
        "untrained_model"
      ],
      "id": "1189ce03"
    },
    {
      "cell_type": "markdown",
      "metadata": {
        "id": "734995ac"
      },
      "source": [
        "### 6.4.3 Loading Pretrained Weights"
      ],
      "id": "734995ac"
    },
    {
      "cell_type": "code",
      "execution_count": 4,
      "metadata": {
        "colab": {
          "base_uri": "https://localhost:8080/"
        },
        "id": "ade710a8",
        "outputId": "be525504-1564-4997-85f9-259223110c27"
      },
      "outputs": [
        {
          "output_type": "stream",
          "name": "stderr",
          "text": [
            "Using cache found in /root/.cache/torch/hub/pytorch_vision_v0.15.2\n",
            "Downloading: \"https://download.pytorch.org/models/resnet50-11ad3fa6.pth\" to /root/.cache/torch/hub/checkpoints/resnet50-11ad3fa6.pth\n",
            "100%|██████████| 97.8M/97.8M [00:00<00:00, 319MB/s]\n"
          ]
        }
      ],
      "source": [
        "model = torch.hub.load(repo, 'resnet50', weights='ResNet50_Weights.DEFAULT')"
      ],
      "id": "ade710a8"
    },
    {
      "cell_type": "code",
      "execution_count": 5,
      "metadata": {
        "colab": {
          "base_uri": "https://localhost:8080/",
          "height": 36
        },
        "id": "063448d0",
        "outputId": "888c2bb2-9564-4109-f807-afc51a6c1260"
      },
      "outputs": [
        {
          "output_type": "execute_result",
          "data": {
            "text/plain": [
              "'/root/.cache/torch/hub'"
            ],
            "application/vnd.google.colaboratory.intrinsic+json": {
              "type": "string"
            }
          },
          "metadata": {},
          "execution_count": 5
        }
      ],
      "source": [
        "torch.hub.get_dir()"
      ],
      "id": "063448d0"
    },
    {
      "cell_type": "markdown",
      "metadata": {
        "id": "cf90c68a"
      },
      "source": [
        "## 6.5 Computer Vision"
      ],
      "id": "cf90c68a"
    },
    {
      "cell_type": "markdown",
      "metadata": {
        "id": "6fe0011a"
      },
      "source": [
        "Torchvision has many available [models for computer vision](https://pytorch.org/vision/stable/models.html) split among different tasks: image classification (which we're focusing on in this and the next chapter), semanting segmentation, object detection, instance segmentation, person keypoint detection (we'll get back to these in the next part of the course), and video classification (which, unfortunately, won't be covered in this course).\n",
        "\n",
        "![](https://raw.githubusercontent.com/dvgodoy/assets/main/PyTorchInPractice/images/ch4/other_cv_tasks.png)"
      ],
      "id": "6fe0011a"
    },
    {
      "cell_type": "markdown",
      "metadata": {
        "id": "eb98de23"
      },
      "source": [
        "### 6.5.1 Image Classification\n",
        "\n",
        "If we check Torchvision's documentation on [image classification models](https://pytorch.org/vision/stable/models.html#classification) we'll see many familiar models once again: [AlexNet](https://pytorch.org/vision/stable/models/alexnet.html), [VGG](https://pytorch.org/vision/stable/models/vgg.html), [ResNet](https://pytorch.org/vision/stable/models/resnet.html), and [Inception V3](https://pytorch.org/vision/stable/models/inception.html)."
      ],
      "id": "eb98de23"
    },
    {
      "cell_type": "markdown",
      "metadata": {
        "id": "e5f21f4b"
      },
      "source": [
        "### 6.5.2 Model\n",
        "\n",
        "![](https://raw.githubusercontent.com/dvgodoy/assets/main/PyTorchInPractice/images/ch0/model_step1.png)"
      ],
      "id": "e5f21f4b"
    },
    {
      "cell_type": "code",
      "execution_count": 6,
      "metadata": {
        "colab": {
          "base_uri": "https://localhost:8080/"
        },
        "id": "a0480829",
        "outputId": "9bf84eba-94ed-43bb-b4b6-f8945a28bdb0"
      },
      "outputs": [
        {
          "output_type": "stream",
          "name": "stderr",
          "text": [
            "Using cache found in /root/.cache/torch/hub/pytorch_vision_v0.15.2\n"
          ]
        }
      ],
      "source": [
        "model = torch.hub.load(repo, 'resnet50', weights='ResNet50_Weights.DEFAULT')"
      ],
      "id": "a0480829"
    },
    {
      "cell_type": "code",
      "execution_count": 7,
      "metadata": {
        "colab": {
          "base_uri": "https://localhost:8080/"
        },
        "id": "7614b02a",
        "outputId": "adbfa337-6184-4060-ba0c-c8791a854c8d"
      },
      "outputs": [
        {
          "output_type": "stream",
          "name": "stderr",
          "text": [
            "Using cache found in /root/.cache/torch/hub/pytorch_vision_v0.15.2\n"
          ]
        }
      ],
      "source": [
        "from torchvision.models import get_weight\n",
        "\n",
        "weights = get_weight('ResNet50_Weights.DEFAULT')\n",
        "model = torch.hub.load(repo, 'resnet50', weights=weights)"
      ],
      "id": "7614b02a"
    },
    {
      "cell_type": "code",
      "execution_count": 8,
      "metadata": {
        "colab": {
          "base_uri": "https://localhost:8080/"
        },
        "id": "4e39b19d",
        "outputId": "72e2c1e9-8d32-4176-a227-39160711a034"
      },
      "outputs": [
        {
          "output_type": "execute_result",
          "data": {
            "text/plain": [
              "dict_keys(['min_size', 'categories', 'num_params', 'recipe', '_metrics', '_ops', '_file_size', '_docs'])"
            ]
          },
          "metadata": {},
          "execution_count": 8
        }
      ],
      "source": [
        "weights.meta.keys()"
      ],
      "id": "4e39b19d"
    },
    {
      "cell_type": "markdown",
      "metadata": {
        "id": "04112253"
      },
      "source": [
        "### 6.5.3 Weights' Metadata"
      ],
      "id": "04112253"
    },
    {
      "cell_type": "code",
      "execution_count": 9,
      "metadata": {
        "colab": {
          "base_uri": "https://localhost:8080/"
        },
        "id": "80687941",
        "outputId": "029cad3d-179b-4511-cce0-76ac1677acf6"
      },
      "outputs": [
        {
          "output_type": "execute_result",
          "data": {
            "text/plain": [
              "['tench',\n",
              " 'goldfish',\n",
              " 'great white shark',\n",
              " 'tiger shark',\n",
              " 'hammerhead',\n",
              " 'electric ray',\n",
              " 'stingray',\n",
              " 'cock',\n",
              " 'hen',\n",
              " 'ostrich',\n",
              " 'brambling',\n",
              " 'goldfinch',\n",
              " 'house finch',\n",
              " 'junco',\n",
              " 'indigo bunting',\n",
              " 'robin',\n",
              " 'bulbul',\n",
              " 'jay',\n",
              " 'magpie',\n",
              " 'chickadee']"
            ]
          },
          "metadata": {},
          "execution_count": 9
        }
      ],
      "source": [
        "categories = weights.meta['categories']\n",
        "categories[:20]"
      ],
      "id": "80687941"
    },
    {
      "cell_type": "code",
      "execution_count": 10,
      "metadata": {
        "colab": {
          "base_uri": "https://localhost:8080/"
        },
        "id": "e3fa3786",
        "outputId": "c1487bc8-6617-4a4d-ffd1-2b6de292423e"
      },
      "outputs": [
        {
          "output_type": "execute_result",
          "data": {
            "text/plain": [
              "25.557032"
            ]
          },
          "metadata": {},
          "execution_count": 10
        }
      ],
      "source": [
        "weights.meta['num_params']/1e6"
      ],
      "id": "e3fa3786"
    },
    {
      "cell_type": "code",
      "execution_count": 11,
      "metadata": {
        "colab": {
          "base_uri": "https://localhost:8080/"
        },
        "id": "fa957bd6",
        "outputId": "e6d6f79f-3a59-41dc-cc35-c9548f6337cb"
      },
      "outputs": [
        {
          "output_type": "stream",
          "name": "stdout",
          "text": [
            "ResNet18: 11.69 million\n",
            "ResNet34: 21.80 million\n",
            "ResNet50: 25.56 million\n",
            "ResNet101: 44.55 million\n",
            "ResNet152: 60.19 million\n"
          ]
        }
      ],
      "source": [
        "for s in [18, 34, 50, 101, 152]:\n",
        "    n_params = get_weight(f'ResNet{s}_Weights.DEFAULT').meta['num_params']/1e6\n",
        "    print(f'ResNet{s}: {n_params:.2f} million')"
      ],
      "id": "fa957bd6"
    },
    {
      "cell_type": "code",
      "execution_count": 12,
      "metadata": {
        "colab": {
          "base_uri": "https://localhost:8080/"
        },
        "id": "e942cf8f",
        "outputId": "25067250-182a-4522-cdd2-e8b9cbc2b91f"
      },
      "outputs": [
        {
          "output_type": "stream",
          "name": "stdout",
          "text": [
            "ResNet18: 69.758\n",
            "ResNet34: 73.314\n",
            "ResNet50: 80.858\n",
            "ResNet101: 81.886\n",
            "ResNet152: 82.284\n"
          ]
        }
      ],
      "source": [
        "for s in [18, 34, 50, 101, 152]:\n",
        "    acc1 = get_weight(f'ResNet{s}_Weights.DEFAULT').meta['_metrics']['ImageNet-1K']['acc@1']\n",
        "    print(f'ResNet{s}: {acc1}')"
      ],
      "id": "e942cf8f"
    },
    {
      "cell_type": "markdown",
      "metadata": {
        "id": "94ae14a5"
      },
      "source": [
        "### 6.5.4 Transforms\n",
        "\n",
        "![](https://raw.githubusercontent.com/dvgodoy/assets/main/PyTorchInPractice/images/ch0/data_step3.png)"
      ],
      "id": "94ae14a5"
    },
    {
      "cell_type": "code",
      "execution_count": 13,
      "metadata": {
        "colab": {
          "base_uri": "https://localhost:8080/"
        },
        "id": "43a3647c",
        "outputId": "c4bfaebf-ce2a-4687-d888-5e6127972a0c"
      },
      "outputs": [
        {
          "output_type": "execute_result",
          "data": {
            "text/plain": [
              "ImageClassification(\n",
              "    crop_size=[224]\n",
              "    resize_size=[232]\n",
              "    mean=[0.485, 0.456, 0.406]\n",
              "    std=[0.229, 0.224, 0.225]\n",
              "    interpolation=InterpolationMode.BILINEAR\n",
              ")"
            ]
          },
          "metadata": {},
          "execution_count": 13
        }
      ],
      "source": [
        "transforms_fn = weights.transforms()\n",
        "transforms_fn"
      ],
      "id": "43a3647c"
    },
    {
      "cell_type": "code",
      "execution_count": 14,
      "metadata": {
        "colab": {
          "base_uri": "https://localhost:8080/"
        },
        "id": "be77b23c",
        "outputId": "ae46c5f4-dc43-4b21-a16a-1e370422730d"
      },
      "outputs": [
        {
          "output_type": "execute_result",
          "data": {
            "text/plain": [
              "True"
            ]
          },
          "metadata": {},
          "execution_count": 14
        }
      ],
      "source": [
        "isinstance(transforms_fn, torch.nn.Module)"
      ],
      "id": "be77b23c"
    },
    {
      "cell_type": "markdown",
      "metadata": {
        "id": "858c39e3"
      },
      "source": [
        "Since it is a PyTorch model, it must implement a `forward()` method, and it looks like this:\n",
        "\n",
        "```python\n",
        "def forward(self, img: Tensor) -> Tensor:\n",
        "    img = F.resize(img, self.resize_size, interpolation=self.interpolation)\n",
        "    img = F.center_crop(img, self.crop_size)\n",
        "    if not isinstance(img, Tensor):\n",
        "        img = F.pil_to_tensor(img)\n",
        "    img = F.convert_image_dtype(img, torch.float)\n",
        "    img = F.normalize(img, mean=self.mean, std=self.std)\n",
        "    return img\n",
        "```"
      ],
      "id": "858c39e3"
    },
    {
      "cell_type": "markdown",
      "metadata": {
        "id": "470acf85"
      },
      "source": [
        "***\n",
        "**ASIDE: Images and Channels**\n",
        "\n",
        "In case you're not familiar with the meaning of channels, pixel values, and how images are represented as tensors, this is a brief overview of these topics.\n",
        "\n",
        "To illustrate how images are represented, let's create three separate \"images\" first:\n",
        "\n",
        "![](https://raw.githubusercontent.com/dvgodoy/assets/main/PyTorchInPractice/images/ch4/image_channels2.png)\n",
        "\n",
        "As you can see in the figure above, colored images have three channels, one for each color: red, green, and blue, in that order (thus the RGB acronym). An RGB image can be seen as these three channels stacked together:\n",
        "\n",
        "```python\n",
        "image_rgb = np.stack([image_r, image_g, image_b], axis=2)\n",
        "```\n",
        "\n",
        "Each channel is represented by a five-by-five matrix. Moreover, their `dtype` is `np.uint8`, which only accepts values from zero to 255, so these are the only possible pixel values. The matrices below are the ones used to build the image above:\n",
        "\n",
        "```python\n",
        "image_r  = np.zeros((5, 5), dtype=np.uint8)\n",
        "image_r[:, 0] = 255  # left-most column is max red\n",
        "image_r[:, 1] = 128  # second column is half-red\n",
        "\n",
        "image_g = np.zeros((5, 5), dtype=np.uint8)\n",
        "image_g[:, 1] = 128  # second column is half-green\n",
        "image_g[:, 2] = 255  # center column is max green\n",
        "image_g[:, 3] = 128  # fourth column is half-green\n",
        "\n",
        "image_b = np.zeros((5, 5), dtype=np.uint8)\n",
        "image_b[:, 3] = 128  # fourth column is half-blue\n",
        "image_b[:, 4] = 255  # right-most column is max blue\n",
        "```\n",
        "***"
      ],
      "id": "470acf85"
    },
    {
      "cell_type": "markdown",
      "metadata": {
        "id": "e4ef3059"
      },
      "source": [
        "<a title=\"Gibe, CC BY-SA 3.0 &lt;http://creativecommons.org/licenses/by-sa/3.0/&gt;, via Wikimedia Commons\" href=\"https://commons.wikimedia.org/wiki/File:Igel.JPG\"><img width=\"512\" alt=\"Igel\" src=\"https://upload.wikimedia.org/wikipedia/commons/thumb/7/72/Igel.JPG/512px-Igel.JPG\"></a>\n",
        "<center><a href=\"https://commons.wikimedia.org/wiki/File:Igel.JPG\">Gibe</a>, <a href=\"http://creativecommons.org/licenses/by-sa/3.0/\">CC BY-SA 3.0</a>, via Wikimedia Commons</center>"
      ],
      "id": "e4ef3059"
    },
    {
      "cell_type": "code",
      "execution_count": 15,
      "metadata": {
        "id": "c9e5d88b"
      },
      "outputs": [],
      "source": [
        "import numpy as np\n",
        "import requests\n",
        "from PIL import Image\n",
        "from io import BytesIO\n",
        "\n",
        "def get_image_from_url(url, headers=None):\n",
        "    if headers is None:\n",
        "        headers = {'User-Agent': 'Mozilla/5.0 (Windows NT 10.0; Win64; x64) AppleWebKit/537.36 (KHTML, like Gecko) Chrome/102.0.0.0 Safari/537.36'}\n",
        "    response = requests.get(url, headers=headers)\n",
        "    response.raise_for_status()\n",
        "    img = Image.open(BytesIO(response.content))\n",
        "    return img"
      ],
      "id": "c9e5d88b"
    },
    {
      "cell_type": "code",
      "execution_count": 16,
      "metadata": {
        "colab": {
          "base_uri": "https://localhost:8080/"
        },
        "id": "e1720756",
        "outputId": "cdb4519d-5c74-4932-a79e-1cad376c1b0c"
      },
      "outputs": [
        {
          "output_type": "execute_result",
          "data": {
            "text/plain": [
              "(846, 1075)"
            ]
          },
          "metadata": {},
          "execution_count": 16
        }
      ],
      "source": [
        "url = 'https://upload.wikimedia.org/wikipedia/commons/7/72/Igel.JPG'\n",
        "img = get_image_from_url(url)\n",
        "img.height, img.width"
      ],
      "id": "e1720756"
    },
    {
      "cell_type": "code",
      "execution_count": 17,
      "metadata": {
        "colab": {
          "base_uri": "https://localhost:8080/"
        },
        "id": "28a17f10",
        "outputId": "2c9e5ee2-f784-4c13-ff3b-073efeb6e162"
      },
      "outputs": [
        {
          "output_type": "execute_result",
          "data": {
            "text/plain": [
              "((846, 1075, 3),\n",
              " array([[206, 206, 208, ..., 255, 255, 255],\n",
              "        [197, 205, 203, ..., 255, 255, 255],\n",
              "        [207, 211, 215, ..., 254, 253, 253],\n",
              "        ...,\n",
              "        [176, 186, 200, ...,   0,   0,   0],\n",
              "        [152, 165, 179, ...,   0,   0,   0],\n",
              "        [132, 136, 145, ...,   0,   0,   0]], dtype=uint8))"
            ]
          },
          "metadata": {},
          "execution_count": 17
        }
      ],
      "source": [
        "array = np.array(img)\n",
        "array.shape, array[:, :, 0]"
      ],
      "id": "28a17f10"
    },
    {
      "cell_type": "code",
      "execution_count": 18,
      "metadata": {
        "colab": {
          "base_uri": "https://localhost:8080/"
        },
        "id": "5c128a15",
        "outputId": "72b7499f-c9eb-456b-eb36-d55a74f62ecf"
      },
      "outputs": [
        {
          "output_type": "execute_result",
          "data": {
            "text/plain": [
              "(torch.Size([3, 224, 224]),\n",
              " tensor([[-0.0116, -0.0458, -0.1657,  ...,  2.2318,  2.2489,  2.2318],\n",
              "         [-0.0972, -0.1828, -0.1486,  ...,  2.1804,  2.1633,  1.8722],\n",
              "         [-0.0629, -0.0458,  0.0056,  ...,  1.7523,  2.1290,  1.7865],\n",
              "         ...,\n",
              "         [ 2.1975,  2.1633,  2.0434,  ..., -0.4226, -0.7993, -1.2103],\n",
              "         [ 1.8722,  2.0777,  2.1633,  ..., -1.1760, -0.9877, -0.7650],\n",
              "         [-0.6965,  0.2111,  0.7591,  ..., -1.5185, -1.3815, -1.3815]]))"
            ]
          },
          "metadata": {},
          "execution_count": 18
        }
      ],
      "source": [
        "preproc_img = transforms_fn(img)\n",
        "preproc_img.shape, preproc_img[0, :, :]"
      ],
      "id": "5c128a15"
    },
    {
      "cell_type": "markdown",
      "metadata": {
        "id": "RjoIJzWrl3Fd"
      },
      "source": [
        "***\n",
        "**ASIDE: Image Shapes (NCHW vs NHWC)**\n",
        "\n",
        "\"What do these acronyms stand for?\"\n",
        "\n",
        "It's quite simple, actually:\n",
        "\n",
        "- N stands for the Number of images (in a mini-batch, for instance).\n",
        "- C stands for the number of Channels in each image.\n",
        "- H stands for each image's Height.\n",
        "- W stands for each image's Width.\n",
        "\n",
        "Thus the acronyms indicate the expected shape of the mini-batch:\n",
        "\n",
        "- NCHW: (number of images, channels, height, width)\n",
        "- NHWC: (number of images, height, width, channels)\n",
        "\n",
        "Usage:\n",
        "- _PyTorch_ uses NCHW\n",
        "- _TensorFlow_ uses NHWC\n",
        "- _PIL_ images are HWC\n",
        "\n",
        "***"
      ],
      "id": "RjoIJzWrl3Fd"
    },
    {
      "cell_type": "code",
      "execution_count": 19,
      "metadata": {
        "colab": {
          "base_uri": "https://localhost:8080/",
          "height": 241
        },
        "id": "102b8c2a",
        "outputId": "0311a211-2d3c-499e-b680-f5c2e952a6ad"
      },
      "outputs": [
        {
          "output_type": "execute_result",
          "data": {
            "text/plain": [
              "<PIL.Image.Image image mode=RGB size=224x224>"
            ],
            "image/png": "[encoded data removed]",
            "image/jpeg": "[encoded data removed]"
          },
          "metadata": {},
          "execution_count": 19
        }
      ],
      "source": [
        "from torchvision.transforms import ToPILImage\n",
        "\n",
        "ToPILImage()(preproc_img)"
      ],
      "id": "102b8c2a"
    },
    {
      "cell_type": "markdown",
      "metadata": {
        "id": "0b439a89"
      },
      "source": [
        "### 6.5.5 Inference\n",
        "\n",
        "![](https://raw.githubusercontent.com/dvgodoy/assets/main/PyTorchInPractice/images/ch0/model_step5.png)"
      ],
      "id": "0b439a89"
    },
    {
      "cell_type": "code",
      "execution_count": 20,
      "metadata": {
        "colab": {
          "base_uri": "https://localhost:8080/"
        },
        "id": "5fbc8c92",
        "outputId": "1cf23386-9635-4d6c-8ed0-78d5878cdce7"
      },
      "outputs": [
        {
          "output_type": "execute_result",
          "data": {
            "text/plain": [
              "torch.Size([1, 3, 224, 224])"
            ]
          },
          "metadata": {},
          "execution_count": 20
        }
      ],
      "source": [
        "mini_batch = preproc_img.unsqueeze(0)\n",
        "mini_batch.shape"
      ],
      "id": "5fbc8c92"
    },
    {
      "cell_type": "markdown",
      "metadata": {
        "id": "2baee311"
      },
      "source": [
        "![](https://raw.githubusercontent.com/dvgodoy/assets/main/PyTorchInPractice/images/ch4/logits.png)\n",
        "    \n",
        "   \n",
        "![](https://raw.githubusercontent.com/dvgodoy/assets/main/PyTorchInPractice/images/ch4/logits_probs.png)"
      ],
      "id": "2baee311"
    },
    {
      "cell_type": "code",
      "execution_count": 21,
      "metadata": {
        "colab": {
          "base_uri": "https://localhost:8080/"
        },
        "id": "34763c21",
        "outputId": "0081ac80-1bcd-407a-f6b0-fc0c7f3306b2"
      },
      "outputs": [
        {
          "output_type": "execute_result",
          "data": {
            "text/plain": [
              "(tensor([185]), 'Norfolk terrier')"
            ]
          },
          "metadata": {},
          "execution_count": 21
        }
      ],
      "source": [
        "#The model is in training mode by default (this is why it wrongly predicts the Norfolk Terrier)\n",
        "logits = model(preproc_img.unsqueeze(0))\n",
        "highest_logit = logits.argmax(axis=1)\n",
        "\n",
        "highest_logit, categories[highest_logit]"
      ],
      "id": "34763c21"
    },
    {
      "cell_type": "code",
      "execution_count": 22,
      "metadata": {
        "colab": {
          "base_uri": "https://localhost:8080/"
        },
        "id": "54ba8868",
        "outputId": "59f9f523-53f3-438c-8ebf-f7f35a48c634"
      },
      "outputs": [
        {
          "output_type": "execute_result",
          "data": {
            "text/plain": [
              "(tensor([334]), 'porcupine')"
            ]
          },
          "metadata": {},
          "execution_count": 22
        }
      ],
      "source": [
        "model.eval()\n",
        "logits = model(preproc_img.unsqueeze(0))\n",
        "highest_logit = logits.argmax(axis=1)\n",
        "\n",
        "highest_logit, categories[highest_logit]"
      ],
      "id": "54ba8868"
    },
    {
      "cell_type": "markdown",
      "metadata": {
        "id": "645c9e05"
      },
      "source": [
        "#### 6.5.5.1 Probabilities"
      ],
      "id": "645c9e05"
    },
    {
      "cell_type": "code",
      "execution_count": 23,
      "metadata": {
        "colab": {
          "base_uri": "https://localhost:8080/"
        },
        "id": "de45892e",
        "outputId": "c77d4bf8-49db-438d-9958-e4f3d1c1680f"
      },
      "outputs": [
        {
          "output_type": "execute_result",
          "data": {
            "text/plain": [
              "(torch.Size([1, 1000]), tensor([1.0000], grad_fn=<SumBackward1>))"
            ]
          },
          "metadata": {},
          "execution_count": 23
        }
      ],
      "source": [
        "import torch.nn.functional as F\n",
        "probabilities = F.softmax(logits, dim=-1)\n",
        "probabilities.shape, probabilities.sum(dim=-1)"
      ],
      "id": "de45892e"
    },
    {
      "cell_type": "code",
      "execution_count": 24,
      "metadata": {
        "colab": {
          "base_uri": "https://localhost:8080/"
        },
        "id": "71f8aac6",
        "outputId": "61c3fc19-7d8c-4556-9867-fdcb1b79e508"
      },
      "outputs": [
        {
          "output_type": "execute_result",
          "data": {
            "text/plain": [
              "(tensor([[0.3559]], grad_fn=<TopkBackward0>), tensor([[334]]))"
            ]
          },
          "metadata": {},
          "execution_count": 24
        }
      ],
      "source": [
        "values, indices = torch.topk(probabilities, k=1)\n",
        "values, indices"
      ],
      "id": "71f8aac6"
    },
    {
      "cell_type": "code",
      "execution_count": 25,
      "metadata": {
        "colab": {
          "base_uri": "https://localhost:8080/",
          "height": 36
        },
        "id": "11c3e08f",
        "outputId": "3f0979df-e410-4eb1-e0bf-b0c7a1e2d910"
      },
      "outputs": [
        {
          "output_type": "execute_result",
          "data": {
            "text/plain": [
              "'porcupine'"
            ],
            "application/vnd.google.colaboratory.intrinsic+json": {
              "type": "string"
            }
          },
          "metadata": {},
          "execution_count": 25
        }
      ],
      "source": [
        "categories[indices[0]]"
      ],
      "id": "11c3e08f"
    },
    {
      "cell_type": "markdown",
      "metadata": {
        "id": "08ad7cdb"
      },
      "source": [
        "## 6.6 Dropout\n",
        "    \n",
        "![](https://raw.githubusercontent.com/dvgodoy/assets/main/PyTorchInPractice/images/ch0/model_step1.png)"
      ],
      "id": "08ad7cdb"
    },
    {
      "cell_type": "code",
      "execution_count": 26,
      "metadata": {
        "id": "110811c1"
      },
      "outputs": [],
      "source": [
        "import torch.nn as nn\n",
        "\n",
        "dropping_model = nn.Sequential(nn.Dropout(p=0.5))"
      ],
      "id": "110811c1"
    },
    {
      "cell_type": "code",
      "execution_count": 27,
      "metadata": {
        "colab": {
          "base_uri": "https://localhost:8080/"
        },
        "id": "72806c28",
        "outputId": "3214f7f2-6fda-4e09-c83b-7166ee9ed7c5"
      },
      "outputs": [
        {
          "output_type": "execute_result",
          "data": {
            "text/plain": [
              "tensor([-0.9736, -0.0428, -0.9353, -0.7362,  1.1543, -1.4263,  0.6747, -0.3589,\n",
              "        -1.6938, -0.3310])"
            ]
          },
          "metadata": {},
          "execution_count": 27
        }
      ],
      "source": [
        "random_input = torch.randn(10)\n",
        "random_input"
      ],
      "id": "72806c28"
    },
    {
      "cell_type": "code",
      "execution_count": 28,
      "metadata": {
        "colab": {
          "base_uri": "https://localhost:8080/"
        },
        "id": "9f9a9e92",
        "outputId": "126e7140-17fb-4b0c-fa94-6d773517d744"
      },
      "outputs": [
        {
          "output_type": "execute_result",
          "data": {
            "text/plain": [
              "tensor([-1.9472, -0.0855, -0.0000, -0.0000,  0.0000, -0.0000,  1.3494, -0.7179,\n",
              "        -3.3876, -0.0000])"
            ]
          },
          "metadata": {},
          "execution_count": 28
        }
      ],
      "source": [
        "dropping_model.train()\n",
        "output_train = dropping_model(random_input)\n",
        "output_train"
      ],
      "id": "9f9a9e92"
    },
    {
      "cell_type": "code",
      "execution_count": 29,
      "metadata": {
        "colab": {
          "base_uri": "https://localhost:8080/"
        },
        "id": "29aa712a",
        "outputId": "8493097a-efa7-44e2-8a7d-d9d61175a1b1"
      },
      "outputs": [
        {
          "output_type": "execute_result",
          "data": {
            "text/plain": [
              "tensor([-0.9736, -0.0428, -0.9353, -0.7362,  1.1543, -1.4263,  0.6747, -0.3589,\n",
              "        -1.6938, -0.3310])"
            ]
          },
          "metadata": {},
          "execution_count": 29
        }
      ],
      "source": [
        "dropping_model.eval()\n",
        "output_eval = dropping_model(random_input)\n",
        "output_eval"
      ],
      "id": "29aa712a"
    },
    {
      "cell_type": "markdown",
      "metadata": {
        "id": "d10c2aeb"
      },
      "source": [
        "### 6.7 ImageFolder Dataset\n",
        "    \n",
        "![](https://raw.githubusercontent.com/dvgodoy/assets/main/PyTorchInPractice/images/ch0/data_step4.png)\n",
        "\n",
        "We'll be using PyTorch's `ImageFolder` dataset, which is a very convenient way of building a dataset from a collection of images organized in folders, one for each category.\n",
        "\n",
        "This is not a dataset itself, but a generic dataset that you can use with your own images provided that they are properly organized into sub-folders, with each sub-folder named after a class and containing the corresponding images:\n",
        "\n",
        "```\n",
        "root/dog/xxx.png\n",
        "root/dog/xxy.png\n",
        "root/dog/[...]/xxz.png\n",
        "\n",
        "root/cat/123.png\n",
        "root/cat/nsdf3.png\n",
        "root/cat/[...]/asd932_.png\n",
        "```\n",
        "\n",
        "The `ImageFolder` dataset requires only the root folder, but it can take another four optional arguments:\n",
        "- `transform`: You know that one already; it tells the dataset which transformations should be applied to each image\n",
        "- `target_transform`: So far, our targets have always been integers, so this argument wouldn’t make sense; it starts making sense if your target is also an image (for instance, in a segmentation task)\n",
        "- `loader`: A function that loads an image from a given path, in case you’re using weird or atypical formats that cannot be handled by PIL\n",
        "- `is_valid_file`: A function that checks if a file is corrupted or not\n",
        "\n",
        "### 6.7.1 ImageNet Dataset\n",
        "\n",
        "Unfortunately the original ImageNet dataset isn't publicly available, only the original URLs to the images were published. If you're a researcher, though, it is possible to request access to versions of this dataset."
      ],
      "id": "d10c2aeb"
    },
    {
      "cell_type": "markdown",
      "metadata": {
        "id": "a293702a"
      },
      "source": [
        "### 6.7.2 Downloading and Saving Images\n",
        "\n",
        "The function below, inspired by Nate Raw's [HuggingPics](https://github.com/nateraw/huggingpics) project, uses HuggingFace's experimental search API to retrieve and save images files to the disk.\n",
        "\n",
        "**UPDATE**: Unfortunately, the experimental API isn't open anymore. To programatically retrieve images using the function below, we suggest using a different free API such as [Pixabay](https://pixabay.com/api/docs/) (although free, you still need to signup to get your own key)."
      ],
      "id": "a293702a"
    },
    {
      "cell_type": "code",
      "execution_count": 30,
      "metadata": {
        "id": "c9eeae93"
      },
      "outputs": [],
      "source": [
        "import os\n",
        "import requests\n",
        "from io import BytesIO\n",
        "from PIL import Image\n",
        "\n",
        "os.environ['PIXABAY_KEY'] = '<INSERT YOUR PIXABAY KEY HERE>'\n",
        "\n",
        "def save_images(folder, search_term, count=10):\n",
        "    if not os.path.exists(folder):\n",
        "        os.mkdir(folder)\n",
        "\n",
        "#     SEARCH_URL = \"https://huggingface.co/api/experimental/images/search\"\n",
        "#     params = {\"q\": search_term, \"license\": \"public\", \"imageType\": \"photo\", \"count\": count}\n",
        "\n",
        "    SEARCH_URL = \"https://pixabay.com/api/\"\n",
        "    params = {\"q\": search_term.replace(' ', '+'),\n",
        "              \"image_type\": \"photo\",\n",
        "              \"per_page\": count,\n",
        "              \"page\": 1,\n",
        "              \"key\": os.environ[\"PIXABAY_KEY\"]}\n",
        "\n",
        "    resp = requests.get(SEARCH_URL, params=params)\n",
        "    if resp.status_code == 200:\n",
        "#         content = resp.json()['value']\n",
        "#         urls = [img['thumbnailUrl'] for img in content]\n",
        "        content = resp.json()['hits']\n",
        "        urls = [img['previewURL'] for img in content]\n",
        "\n",
        "        folder = os.path.join(folder, search_term)\n",
        "        if not os.path.exists(folder):\n",
        "            os.mkdir(folder)\n",
        "\n",
        "        i = 0\n",
        "        for url in urls:\n",
        "            try:\n",
        "                img = get_image_from_url(url)\n",
        "                fname = os.path.join(folder, f'{i}.jpg')\n",
        "                img.save(fname)\n",
        "                i += 1\n",
        "            except Exception:\n",
        "                pass\n",
        "        print(f'Retrieved {i} images for {search_term}')\n",
        "    else:\n",
        "        print(f'Failed to retrieve URLs for {search_term}')"
      ],
      "id": "c9eeae93"
    },
    {
      "cell_type": "code",
      "execution_count": 31,
      "metadata": {
        "colab": {
          "base_uri": "https://localhost:8080/"
        },
        "id": "011da922",
        "outputId": "991f9874-eaff-42dc-f840-ec9575e04378"
      },
      "outputs": [
        {
          "output_type": "stream",
          "name": "stdout",
          "text": [
            "Failed to retrieve URLs for hedgehog\n",
            "Failed to retrieve URLs for ostrich\n",
            "Failed to retrieve URLs for armadillo\n"
          ]
        }
      ],
      "source": [
        "targets = ['hedgehog', 'ostrich', 'armadillo']\n",
        "\n",
        "for term in targets:\n",
        "    save_images('./animals', term)"
      ],
      "id": "011da922"
    },
    {
      "cell_type": "markdown",
      "metadata": {
        "id": "m4xrsJqHl3GC"
      },
      "source": [
        "If you prefer not to signup for an API key, you may download some small images directly from the following link:\n",
        "\n",
        "- `https://github.com/dvgodoy/assets/raw/main/PyTorchInPractice/data/animals.zip`"
      ],
      "id": "m4xrsJqHl3GC"
    },
    {
      "cell_type": "code",
      "execution_count": 32,
      "metadata": {
        "id": "gFqXIAVnl3GD"
      },
      "outputs": [],
      "source": [
        "# !wget https://github.com/dvgodoy/assets/raw/main/PyTorchInPractice/data/animals.zip\n",
        "# !unzip animals.zip"
      ],
      "id": "gFqXIAVnl3GD"
    },
    {
      "cell_type": "code",
      "execution_count": 33,
      "metadata": {
        "colab": {
          "base_uri": "https://localhost:8080/"
        },
        "id": "5301c247",
        "outputId": "be24961a-0768-41fd-e828-72432be867d8"
      },
      "outputs": [
        {
          "output_type": "stream",
          "name": "stdout",
          "text": [
            "total 0\n"
          ]
        }
      ],
      "source": [
        "!ls -l ./animals"
      ],
      "id": "5301c247"
    },
    {
      "cell_type": "code",
      "execution_count": null,
      "metadata": {
        "colab": {
          "base_uri": "https://localhost:8080/"
        },
        "id": "aab0ca74",
        "outputId": "af2b5b21-d6fb-4c39-8837-c5023a893e71"
      },
      "outputs": [
        {
          "name": "stdout",
          "output_type": "stream",
          "text": [
            "total 480\n",
            "-rw-r--r-- 1 root root 38291 Jul 20 19:10 0.jpg\n",
            "-rw-r--r-- 1 root root  7458 Jul 20 19:10 1.jpg\n",
            "-rw-r--r-- 1 root root 41981 Jul 20 19:10 2.jpg\n",
            "-rw-r--r-- 1 root root 41132 Jul 20 19:10 3.jpg\n",
            "-rw-r--r-- 1 root root 51142 Jul 20 19:10 4.jpg\n",
            "-rw-r--r-- 1 root root 59301 Jul 20 19:10 5.jpg\n",
            "-rw-r--r-- 1 root root 41383 Jul 20 19:10 6.jpg\n",
            "-rw-r--r-- 1 root root 73822 Jul 20 19:10 7.jpg\n",
            "-rw-r--r-- 1 root root 58300 Jul 20 19:10 8.jpg\n",
            "-rw-r--r-- 1 root root 51982 Jul 20 19:10 9.jpg\n"
          ]
        }
      ],
      "source": [
        "!ls -l ./animals/armadillo"
      ],
      "id": "aab0ca74"
    },
    {
      "cell_type": "code",
      "execution_count": null,
      "metadata": {
        "id": "800e713b"
      },
      "outputs": [],
      "source": [
        "from torchvision.datasets import ImageFolder\n",
        "from torchvision.models import get_weight\n",
        "\n",
        "weights = get_weight('ResNet50_Weights.DEFAULT')\n",
        "transforms_fn = weights.transforms()\n",
        "\n",
        "dataset = ImageFolder('./animals', transform=transforms_fn)\n",
        "targets = dataset.classes"
      ],
      "id": "800e713b"
    },
    {
      "cell_type": "code",
      "execution_count": null,
      "metadata": {
        "colab": {
          "base_uri": "https://localhost:8080/"
        },
        "id": "fc66e791",
        "outputId": "20b784a0-1d88-477e-c852-b432b7003504"
      },
      "outputs": [
        {
          "data": {
            "text/plain": [
              "(Dataset ImageFolder\n",
              "     Number of datapoints: 30\n",
              "     Root location: ./animals\n",
              "     StandardTransform\n",
              " Transform: ImageClassification(\n",
              "                crop_size=[224]\n",
              "                resize_size=[232]\n",
              "                mean=[0.485, 0.456, 0.406]\n",
              "                std=[0.229, 0.224, 0.225]\n",
              "                interpolation=InterpolationMode.BILINEAR\n",
              "            ),\n",
              " ['armadillo', 'hedgehog', 'ostrich'])"
            ]
          },
          "execution_count": 35,
          "metadata": {},
          "output_type": "execute_result"
        }
      ],
      "source": [
        "dataset, targets"
      ],
      "id": "fc66e791"
    },
    {
      "cell_type": "code",
      "execution_count": null,
      "metadata": {
        "colab": {
          "base_uri": "https://localhost:8080/"
        },
        "id": "f8a641df",
        "outputId": "fb42eecb-d441-424f-f21a-35e59ae6af21"
      },
      "outputs": [
        {
          "data": {
            "text/plain": [
              "('armadillo',\n",
              " tensor([[[ 0.0227, -0.0287, -0.0972,  ..., -0.8335, -0.9020, -0.9192],\n",
              "          [-0.0116, -0.0629, -0.1314,  ..., -0.7822, -0.8507, -0.8849],\n",
              "          [ 0.0227, -0.0801, -0.1828,  ..., -0.6623, -0.7137, -0.7993],\n",
              "          ...,\n",
              "          [ 0.2282,  0.2282,  0.3652,  ..., -0.8849, -0.5253, -0.5424],\n",
              "          [ 0.5193,  0.6049,  0.6392,  ..., -0.3712, -0.3712, -0.4397],\n",
              "          [ 0.5193,  0.7933,  0.8447,  ...,  0.0056, -0.1314, -0.1999]],\n",
              " \n",
              "         [[-0.2150, -0.2675, -0.3375,  ..., -0.9153, -0.9678, -0.9853],\n",
              "          [-0.2500, -0.3025, -0.3725,  ..., -0.8627, -0.9153, -0.9503],\n",
              "          [-0.2150, -0.3200, -0.4251,  ..., -0.7402, -0.7752, -0.8627],\n",
              "          ...,\n",
              "          [-0.0749, -0.1275, -0.0399,  ..., -0.8627, -0.5301, -0.5476],\n",
              "          [ 0.1176,  0.1527,  0.1352,  ..., -0.5126, -0.5301, -0.5826],\n",
              "          [ 0.0301,  0.2752,  0.2927,  ..., -0.2675, -0.3725, -0.4426]],\n",
              " \n",
              "         [[-0.2881, -0.3404, -0.4101,  ..., -0.8981, -0.9156, -0.9330],\n",
              "          [-0.3230, -0.3753, -0.4450,  ..., -0.8633, -0.8633, -0.8981],\n",
              "          [-0.2881, -0.3927, -0.4973,  ..., -0.7413, -0.7238, -0.8110],\n",
              "          ...,\n",
              "          [-0.1835, -0.2184, -0.1312,  ..., -0.6715, -0.3578, -0.3753],\n",
              "          [ 0.0779,  0.1302,  0.1128,  ..., -0.4101, -0.4450, -0.4973],\n",
              "          [ 0.0431,  0.3045,  0.3219,  ..., -0.2532, -0.3753, -0.4450]]]))"
            ]
          },
          "execution_count": 36,
          "metadata": {},
          "output_type": "execute_result"
        }
      ],
      "source": [
        "x, y = dataset[0]\n",
        "targets[y], x"
      ],
      "id": "f8a641df"
    },
    {
      "cell_type": "code",
      "execution_count": null,
      "metadata": {
        "colab": {
          "base_uri": "https://localhost:8080/",
          "height": 35
        },
        "id": "af513b7c",
        "outputId": "f5f118f6-76c0-4712-8c0b-a8624e297bf7"
      },
      "outputs": [
        {
          "data": {
            "application/vnd.google.colaboratory.intrinsic+json": {
              "type": "string"
            },
            "text/plain": [
              "'armadillo'"
            ]
          },
          "execution_count": 37,
          "metadata": {},
          "output_type": "execute_result"
        }
      ],
      "source": [
        "model.eval()\n",
        "mini_batch = x.unsqueeze(0)\n",
        "\n",
        "logits = model(mini_batch)\n",
        "pred_idx = logits.argmax(dim=1)\n",
        "\n",
        "categories[pred_idx]"
      ],
      "id": "af513b7c"
    }
  ],
  "metadata": {
    "accelerator": "GPU",
    "colab": {
      "gpuType": "T4",
      "provenance": []
    },
    "gpuClass": "standard",
    "kernelspec": {
      "display_name": "Python 3",
      "language": "python",
      "name": "python3"
    },
    "language_info": {
      "codemirror_mode": {
        "name": "ipython",
        "version": 3
      },
      "file_extension": ".py",
      "mimetype": "text/x-python",
      "name": "python",
      "nbconvert_exporter": "python",
      "pygments_lexer": "ipython3",
      "version": "3.7.4"
    }
  },
  "nbformat": 4,
  "nbformat_minor": 5
}