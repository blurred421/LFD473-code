{
  "cells": [
    {
      "cell_type": "markdown",
      "metadata": {
        "id": "view-in-github",
        "colab_type": "text"
      },
      "source": [
        "<a href=\"https://colab.research.google.com/github/blurred421/LFD473-code/blob/main/notebooks/Chapter15.ipynb\" target=\"_parent\"><img src=\"https://colab.research.google.com/assets/colab-badge.svg\" alt=\"Open In Colab\"/></a>"
      ]
    },
    {
      "cell_type": "markdown",
      "metadata": {
        "id": "5eef016c"
      },
      "source": [
        "# Chapter 15: Word Embeddings and Text Classification"
      ],
      "id": "5eef016c"
    },
    {
      "cell_type": "code",
      "execution_count": 10,
      "metadata": {
        "id": "928565dd",
        "colab": {
          "base_uri": "https://localhost:8080/"
        },
        "outputId": "bfee8c8f-066a-4633-92a8-57f46656c485"
      },
      "outputs": [
        {
          "output_type": "stream",
          "name": "stdout",
          "text": [
            "Requirement already satisfied: transformers in /usr/local/lib/python3.11/dist-packages (4.48.3)\n",
            "Collecting evaluate\n",
            "  Downloading evaluate-0.4.3-py3-none-any.whl.metadata (9.2 kB)\n",
            "Collecting chromadb\n",
            "  Downloading chromadb-0.6.3-py3-none-any.whl.metadata (6.8 kB)\n",
            "Requirement already satisfied: langchain in /usr/local/lib/python3.11/dist-packages (0.3.20)\n",
            "Collecting datasets\n",
            "  Downloading datasets-3.3.2-py3-none-any.whl.metadata (19 kB)\n",
            "Collecting gensim\n",
            "  Downloading gensim-4.3.3-cp311-cp311-manylinux_2_17_x86_64.manylinux2014_x86_64.whl.metadata (8.1 kB)\n",
            "Requirement already satisfied: filelock in /usr/local/lib/python3.11/dist-packages (from transformers) (3.17.0)\n",
            "Requirement already satisfied: huggingface-hub<1.0,>=0.24.0 in /usr/local/lib/python3.11/dist-packages (from transformers) (0.28.1)\n",
            "Requirement already satisfied: numpy>=1.17 in /usr/local/lib/python3.11/dist-packages (from transformers) (1.26.4)\n",
            "Requirement already satisfied: packaging>=20.0 in /usr/local/lib/python3.11/dist-packages (from transformers) (24.2)\n",
            "Requirement already satisfied: pyyaml>=5.1 in /usr/local/lib/python3.11/dist-packages (from transformers) (6.0.2)\n",
            "Requirement already satisfied: regex!=2019.12.17 in /usr/local/lib/python3.11/dist-packages (from transformers) (2024.11.6)\n",
            "Requirement already satisfied: requests in /usr/local/lib/python3.11/dist-packages (from transformers) (2.32.3)\n",
            "Requirement already satisfied: tokenizers<0.22,>=0.21 in /usr/local/lib/python3.11/dist-packages (from transformers) (0.21.0)\n",
            "Requirement already satisfied: safetensors>=0.4.1 in /usr/local/lib/python3.11/dist-packages (from transformers) (0.5.3)\n",
            "Requirement already satisfied: tqdm>=4.27 in /usr/local/lib/python3.11/dist-packages (from transformers) (4.67.1)\n",
            "Collecting dill (from evaluate)\n",
            "  Downloading dill-0.3.9-py3-none-any.whl.metadata (10 kB)\n",
            "Requirement already satisfied: pandas in /usr/local/lib/python3.11/dist-packages (from evaluate) (2.2.2)\n",
            "Collecting xxhash (from evaluate)\n",
            "  Downloading xxhash-3.5.0-cp311-cp311-manylinux_2_17_x86_64.manylinux2014_x86_64.whl.metadata (12 kB)\n",
            "Collecting multiprocess (from evaluate)\n",
            "  Downloading multiprocess-0.70.17-py311-none-any.whl.metadata (7.2 kB)\n",
            "Requirement already satisfied: fsspec>=2021.05.0 in /usr/local/lib/python3.11/dist-packages (from fsspec[http]>=2021.05.0->evaluate) (2024.10.0)\n",
            "Collecting build>=1.0.3 (from chromadb)\n",
            "  Downloading build-1.2.2.post1-py3-none-any.whl.metadata (6.5 kB)\n",
            "Requirement already satisfied: pydantic>=1.9 in /usr/local/lib/python3.11/dist-packages (from chromadb) (2.10.6)\n",
            "Collecting chroma-hnswlib==0.7.6 (from chromadb)\n",
            "  Downloading chroma_hnswlib-0.7.6-cp311-cp311-manylinux_2_17_x86_64.manylinux2014_x86_64.whl.metadata (252 bytes)\n",
            "Collecting fastapi>=0.95.2 (from chromadb)\n",
            "  Downloading fastapi-0.115.11-py3-none-any.whl.metadata (27 kB)\n",
            "Collecting uvicorn>=0.18.3 (from uvicorn[standard]>=0.18.3->chromadb)\n",
            "  Downloading uvicorn-0.34.0-py3-none-any.whl.metadata (6.5 kB)\n",
            "Collecting posthog>=2.4.0 (from chromadb)\n",
            "  Downloading posthog-3.19.1-py2.py3-none-any.whl.metadata (2.9 kB)\n",
            "Requirement already satisfied: typing_extensions>=4.5.0 in /usr/local/lib/python3.11/dist-packages (from chromadb) (4.12.2)\n",
            "Collecting onnxruntime>=1.14.1 (from chromadb)\n",
            "  Downloading onnxruntime-1.21.0-cp311-cp311-manylinux_2_27_x86_64.manylinux_2_28_x86_64.whl.metadata (4.5 kB)\n",
            "Requirement already satisfied: opentelemetry-api>=1.2.0 in /usr/local/lib/python3.11/dist-packages (from chromadb) (1.16.0)\n",
            "Collecting opentelemetry-exporter-otlp-proto-grpc>=1.2.0 (from chromadb)\n",
            "  Downloading opentelemetry_exporter_otlp_proto_grpc-1.31.0-py3-none-any.whl.metadata (2.5 kB)\n",
            "Collecting opentelemetry-instrumentation-fastapi>=0.41b0 (from chromadb)\n",
            "  Downloading opentelemetry_instrumentation_fastapi-0.52b0-py3-none-any.whl.metadata (2.2 kB)\n",
            "Requirement already satisfied: opentelemetry-sdk>=1.2.0 in /usr/local/lib/python3.11/dist-packages (from chromadb) (1.16.0)\n",
            "Collecting pypika>=0.48.9 (from chromadb)\n",
            "  Downloading PyPika-0.48.9.tar.gz (67 kB)\n",
            "\u001b[2K     \u001b[90m━━━━━━━━━━━━━━━━━━━━━━━━━━━━━━━━━━━━━━━━\u001b[0m \u001b[32m67.3/67.3 kB\u001b[0m \u001b[31m6.2 MB/s\u001b[0m eta \u001b[36m0:00:00\u001b[0m\n",
            "\u001b[?25h  Installing build dependencies ... \u001b[?25l\u001b[?25hdone\n",
            "  Getting requirements to build wheel ... \u001b[?25l\u001b[?25hdone\n",
            "  Preparing metadata (pyproject.toml) ... \u001b[?25l\u001b[?25hdone\n",
            "Collecting overrides>=7.3.1 (from chromadb)\n",
            "  Downloading overrides-7.7.0-py3-none-any.whl.metadata (5.8 kB)\n",
            "Requirement already satisfied: importlib-resources in /usr/local/lib/python3.11/dist-packages (from chromadb) (6.5.2)\n",
            "Requirement already satisfied: grpcio>=1.58.0 in /usr/local/lib/python3.11/dist-packages (from chromadb) (1.70.0)\n",
            "Collecting bcrypt>=4.0.1 (from chromadb)\n",
            "  Downloading bcrypt-4.3.0-cp39-abi3-manylinux_2_34_x86_64.whl.metadata (10 kB)\n",
            "Requirement already satisfied: typer>=0.9.0 in /usr/local/lib/python3.11/dist-packages (from chromadb) (0.15.2)\n",
            "Collecting kubernetes>=28.1.0 (from chromadb)\n",
            "  Downloading kubernetes-32.0.1-py2.py3-none-any.whl.metadata (1.7 kB)\n",
            "Requirement already satisfied: tenacity>=8.2.3 in /usr/local/lib/python3.11/dist-packages (from chromadb) (9.0.0)\n",
            "Collecting mmh3>=4.0.1 (from chromadb)\n",
            "  Downloading mmh3-5.1.0-cp311-cp311-manylinux_2_5_x86_64.manylinux1_x86_64.manylinux_2_17_x86_64.manylinux2014_x86_64.whl.metadata (16 kB)\n",
            "Requirement already satisfied: orjson>=3.9.12 in /usr/local/lib/python3.11/dist-packages (from chromadb) (3.10.15)\n",
            "Requirement already satisfied: httpx>=0.27.0 in /usr/local/lib/python3.11/dist-packages (from chromadb) (0.28.1)\n",
            "Requirement already satisfied: rich>=10.11.0 in /usr/local/lib/python3.11/dist-packages (from chromadb) (13.9.4)\n",
            "Requirement already satisfied: langchain-core<1.0.0,>=0.3.41 in /usr/local/lib/python3.11/dist-packages (from langchain) (0.3.43)\n",
            "Requirement already satisfied: langchain-text-splitters<1.0.0,>=0.3.6 in /usr/local/lib/python3.11/dist-packages (from langchain) (0.3.6)\n",
            "Requirement already satisfied: langsmith<0.4,>=0.1.17 in /usr/local/lib/python3.11/dist-packages (from langchain) (0.3.13)\n",
            "Requirement already satisfied: SQLAlchemy<3,>=1.4 in /usr/local/lib/python3.11/dist-packages (from langchain) (2.0.38)\n",
            "Requirement already satisfied: pyarrow>=15.0.0 in /usr/local/lib/python3.11/dist-packages (from datasets) (18.1.0)\n",
            "Collecting dill (from evaluate)\n",
            "  Downloading dill-0.3.8-py3-none-any.whl.metadata (10 kB)\n",
            "Collecting multiprocess (from evaluate)\n",
            "  Downloading multiprocess-0.70.16-py311-none-any.whl.metadata (7.2 kB)\n",
            "Requirement already satisfied: aiohttp in /usr/local/lib/python3.11/dist-packages (from datasets) (3.11.13)\n",
            "Collecting scipy<1.14.0,>=1.7.0 (from gensim)\n",
            "  Downloading scipy-1.13.1-cp311-cp311-manylinux_2_17_x86_64.manylinux2014_x86_64.whl.metadata (60 kB)\n",
            "\u001b[2K     \u001b[90m━━━━━━━━━━━━━━━━━━━━━━━━━━━━━━━━━━━━━━━━\u001b[0m \u001b[32m60.6/60.6 kB\u001b[0m \u001b[31m5.5 MB/s\u001b[0m eta \u001b[36m0:00:00\u001b[0m\n",
            "\u001b[?25hRequirement already satisfied: smart-open>=1.8.1 in /usr/local/lib/python3.11/dist-packages (from gensim) (7.1.0)\n",
            "Collecting pyproject_hooks (from build>=1.0.3->chromadb)\n",
            "  Downloading pyproject_hooks-1.2.0-py3-none-any.whl.metadata (1.3 kB)\n",
            "Collecting starlette<0.47.0,>=0.40.0 (from fastapi>=0.95.2->chromadb)\n",
            "  Downloading starlette-0.46.1-py3-none-any.whl.metadata (6.2 kB)\n",
            "Requirement already satisfied: aiohappyeyeballs>=2.3.0 in /usr/local/lib/python3.11/dist-packages (from aiohttp->datasets) (2.5.0)\n",
            "Requirement already satisfied: aiosignal>=1.1.2 in /usr/local/lib/python3.11/dist-packages (from aiohttp->datasets) (1.3.2)\n",
            "Requirement already satisfied: attrs>=17.3.0 in /usr/local/lib/python3.11/dist-packages (from aiohttp->datasets) (25.1.0)\n",
            "Requirement already satisfied: frozenlist>=1.1.1 in /usr/local/lib/python3.11/dist-packages (from aiohttp->datasets) (1.5.0)\n",
            "Requirement already satisfied: multidict<7.0,>=4.5 in /usr/local/lib/python3.11/dist-packages (from aiohttp->datasets) (6.1.0)\n",
            "Requirement already satisfied: propcache>=0.2.0 in /usr/local/lib/python3.11/dist-packages (from aiohttp->datasets) (0.3.0)\n",
            "Requirement already satisfied: yarl<2.0,>=1.17.0 in /usr/local/lib/python3.11/dist-packages (from aiohttp->datasets) (1.18.3)\n",
            "Requirement already satisfied: anyio in /usr/local/lib/python3.11/dist-packages (from httpx>=0.27.0->chromadb) (3.7.1)\n",
            "Requirement already satisfied: certifi in /usr/local/lib/python3.11/dist-packages (from httpx>=0.27.0->chromadb) (2025.1.31)\n",
            "Requirement already satisfied: httpcore==1.* in /usr/local/lib/python3.11/dist-packages (from httpx>=0.27.0->chromadb) (1.0.7)\n",
            "Requirement already satisfied: idna in /usr/local/lib/python3.11/dist-packages (from httpx>=0.27.0->chromadb) (3.10)\n",
            "Requirement already satisfied: h11<0.15,>=0.13 in /usr/local/lib/python3.11/dist-packages (from httpcore==1.*->httpx>=0.27.0->chromadb) (0.14.0)\n",
            "Requirement already satisfied: six>=1.9.0 in /usr/local/lib/python3.11/dist-packages (from kubernetes>=28.1.0->chromadb) (1.17.0)\n",
            "Requirement already satisfied: python-dateutil>=2.5.3 in /usr/local/lib/python3.11/dist-packages (from kubernetes>=28.1.0->chromadb) (2.8.2)\n",
            "Requirement already satisfied: google-auth>=1.0.1 in /usr/local/lib/python3.11/dist-packages (from kubernetes>=28.1.0->chromadb) (2.38.0)\n",
            "Requirement already satisfied: websocket-client!=0.40.0,!=0.41.*,!=0.42.*,>=0.32.0 in /usr/local/lib/python3.11/dist-packages (from kubernetes>=28.1.0->chromadb) (1.8.0)\n",
            "Requirement already satisfied: requests-oauthlib in /usr/local/lib/python3.11/dist-packages (from kubernetes>=28.1.0->chromadb) (2.0.0)\n",
            "Requirement already satisfied: oauthlib>=3.2.2 in /usr/local/lib/python3.11/dist-packages (from kubernetes>=28.1.0->chromadb) (3.2.2)\n",
            "Requirement already satisfied: urllib3>=1.24.2 in /usr/local/lib/python3.11/dist-packages (from kubernetes>=28.1.0->chromadb) (2.3.0)\n",
            "Collecting durationpy>=0.7 (from kubernetes>=28.1.0->chromadb)\n",
            "  Downloading durationpy-0.9-py3-none-any.whl.metadata (338 bytes)\n",
            "Requirement already satisfied: jsonpatch<2.0,>=1.33 in /usr/local/lib/python3.11/dist-packages (from langchain-core<1.0.0,>=0.3.41->langchain) (1.33)\n",
            "Requirement already satisfied: requests-toolbelt<2.0.0,>=1.0.0 in /usr/local/lib/python3.11/dist-packages (from langsmith<0.4,>=0.1.17->langchain) (1.0.0)\n",
            "Requirement already satisfied: zstandard<0.24.0,>=0.23.0 in /usr/local/lib/python3.11/dist-packages (from langsmith<0.4,>=0.1.17->langchain) (0.23.0)\n",
            "Collecting coloredlogs (from onnxruntime>=1.14.1->chromadb)\n",
            "  Downloading coloredlogs-15.0.1-py2.py3-none-any.whl.metadata (12 kB)\n",
            "Requirement already satisfied: flatbuffers in /usr/local/lib/python3.11/dist-packages (from onnxruntime>=1.14.1->chromadb) (25.2.10)\n",
            "Requirement already satisfied: protobuf in /usr/local/lib/python3.11/dist-packages (from onnxruntime>=1.14.1->chromadb) (4.25.6)\n",
            "Requirement already satisfied: sympy in /usr/local/lib/python3.11/dist-packages (from onnxruntime>=1.14.1->chromadb) (1.13.1)\n",
            "Requirement already satisfied: deprecated>=1.2.6 in /usr/local/lib/python3.11/dist-packages (from opentelemetry-api>=1.2.0->chromadb) (1.2.18)\n",
            "Requirement already satisfied: setuptools>=16.0 in /usr/local/lib/python3.11/dist-packages (from opentelemetry-api>=1.2.0->chromadb) (75.1.0)\n",
            "Requirement already satisfied: googleapis-common-protos~=1.52 in /usr/local/lib/python3.11/dist-packages (from opentelemetry-exporter-otlp-proto-grpc>=1.2.0->chromadb) (1.69.1)\n",
            "Collecting opentelemetry-exporter-otlp-proto-common==1.31.0 (from opentelemetry-exporter-otlp-proto-grpc>=1.2.0->chromadb)\n",
            "  Downloading opentelemetry_exporter_otlp_proto_common-1.31.0-py3-none-any.whl.metadata (1.9 kB)\n",
            "Collecting opentelemetry-proto==1.31.0 (from opentelemetry-exporter-otlp-proto-grpc>=1.2.0->chromadb)\n",
            "  Downloading opentelemetry_proto-1.31.0-py3-none-any.whl.metadata (2.4 kB)\n",
            "Collecting opentelemetry-sdk>=1.2.0 (from chromadb)\n",
            "  Downloading opentelemetry_sdk-1.31.0-py3-none-any.whl.metadata (1.6 kB)\n",
            "Collecting protobuf (from onnxruntime>=1.14.1->chromadb)\n",
            "  Downloading protobuf-5.29.3-cp38-abi3-manylinux2014_x86_64.whl.metadata (592 bytes)\n",
            "Collecting opentelemetry-instrumentation-asgi==0.52b0 (from opentelemetry-instrumentation-fastapi>=0.41b0->chromadb)\n",
            "  Downloading opentelemetry_instrumentation_asgi-0.52b0-py3-none-any.whl.metadata (2.1 kB)\n",
            "Collecting opentelemetry-instrumentation==0.52b0 (from opentelemetry-instrumentation-fastapi>=0.41b0->chromadb)\n",
            "  Downloading opentelemetry_instrumentation-0.52b0-py3-none-any.whl.metadata (6.8 kB)\n",
            "Collecting opentelemetry-semantic-conventions==0.52b0 (from opentelemetry-instrumentation-fastapi>=0.41b0->chromadb)\n",
            "  Downloading opentelemetry_semantic_conventions-0.52b0-py3-none-any.whl.metadata (2.5 kB)\n",
            "Collecting opentelemetry-util-http==0.52b0 (from opentelemetry-instrumentation-fastapi>=0.41b0->chromadb)\n",
            "  Downloading opentelemetry_util_http-0.52b0-py3-none-any.whl.metadata (2.6 kB)\n",
            "Requirement already satisfied: wrapt<2.0.0,>=1.0.0 in /usr/local/lib/python3.11/dist-packages (from opentelemetry-instrumentation==0.52b0->opentelemetry-instrumentation-fastapi>=0.41b0->chromadb) (1.17.2)\n",
            "Collecting asgiref~=3.0 (from opentelemetry-instrumentation-asgi==0.52b0->opentelemetry-instrumentation-fastapi>=0.41b0->chromadb)\n",
            "  Downloading asgiref-3.8.1-py3-none-any.whl.metadata (9.3 kB)\n",
            "Collecting opentelemetry-api>=1.2.0 (from chromadb)\n",
            "  Downloading opentelemetry_api-1.31.0-py3-none-any.whl.metadata (1.6 kB)\n",
            "Requirement already satisfied: importlib-metadata<8.7.0,>=6.0 in /usr/local/lib/python3.11/dist-packages (from opentelemetry-api>=1.2.0->chromadb) (8.6.1)\n",
            "Collecting monotonic>=1.5 (from posthog>=2.4.0->chromadb)\n",
            "  Downloading monotonic-1.6-py2.py3-none-any.whl.metadata (1.5 kB)\n",
            "Collecting backoff>=1.10.0 (from posthog>=2.4.0->chromadb)\n",
            "  Downloading backoff-2.2.1-py3-none-any.whl.metadata (14 kB)\n",
            "Requirement already satisfied: distro>=1.5.0 in /usr/local/lib/python3.11/dist-packages (from posthog>=2.4.0->chromadb) (1.9.0)\n",
            "Requirement already satisfied: annotated-types>=0.6.0 in /usr/local/lib/python3.11/dist-packages (from pydantic>=1.9->chromadb) (0.7.0)\n",
            "Requirement already satisfied: pydantic-core==2.27.2 in /usr/local/lib/python3.11/dist-packages (from pydantic>=1.9->chromadb) (2.27.2)\n",
            "Requirement already satisfied: charset-normalizer<4,>=2 in /usr/local/lib/python3.11/dist-packages (from requests->transformers) (3.4.1)\n",
            "Requirement already satisfied: markdown-it-py>=2.2.0 in /usr/local/lib/python3.11/dist-packages (from rich>=10.11.0->chromadb) (3.0.0)\n",
            "Requirement already satisfied: pygments<3.0.0,>=2.13.0 in /usr/local/lib/python3.11/dist-packages (from rich>=10.11.0->chromadb) (2.18.0)\n",
            "Requirement already satisfied: greenlet!=0.4.17 in /usr/local/lib/python3.11/dist-packages (from SQLAlchemy<3,>=1.4->langchain) (3.1.1)\n",
            "Requirement already satisfied: click>=8.0.0 in /usr/local/lib/python3.11/dist-packages (from typer>=0.9.0->chromadb) (8.1.8)\n",
            "Requirement already satisfied: shellingham>=1.3.0 in /usr/local/lib/python3.11/dist-packages (from typer>=0.9.0->chromadb) (1.5.4)\n",
            "Collecting httptools>=0.6.3 (from uvicorn[standard]>=0.18.3->chromadb)\n",
            "  Downloading httptools-0.6.4-cp311-cp311-manylinux_2_5_x86_64.manylinux1_x86_64.manylinux_2_17_x86_64.manylinux2014_x86_64.whl.metadata (3.6 kB)\n",
            "Collecting python-dotenv>=0.13 (from uvicorn[standard]>=0.18.3->chromadb)\n",
            "  Downloading python_dotenv-1.0.1-py3-none-any.whl.metadata (23 kB)\n",
            "Collecting uvloop!=0.15.0,!=0.15.1,>=0.14.0 (from uvicorn[standard]>=0.18.3->chromadb)\n",
            "  Downloading uvloop-0.21.0-cp311-cp311-manylinux_2_17_x86_64.manylinux2014_x86_64.whl.metadata (4.9 kB)\n",
            "Collecting watchfiles>=0.13 (from uvicorn[standard]>=0.18.3->chromadb)\n",
            "  Downloading watchfiles-1.0.4-cp311-cp311-manylinux_2_17_x86_64.manylinux2014_x86_64.whl.metadata (4.9 kB)\n",
            "Requirement already satisfied: websockets>=10.4 in /usr/local/lib/python3.11/dist-packages (from uvicorn[standard]>=0.18.3->chromadb) (14.2)\n",
            "Requirement already satisfied: pytz>=2020.1 in /usr/local/lib/python3.11/dist-packages (from pandas->evaluate) (2025.1)\n",
            "Requirement already satisfied: tzdata>=2022.7 in /usr/local/lib/python3.11/dist-packages (from pandas->evaluate) (2025.1)\n",
            "Requirement already satisfied: cachetools<6.0,>=2.0.0 in /usr/local/lib/python3.11/dist-packages (from google-auth>=1.0.1->kubernetes>=28.1.0->chromadb) (5.5.2)\n",
            "Requirement already satisfied: pyasn1-modules>=0.2.1 in /usr/local/lib/python3.11/dist-packages (from google-auth>=1.0.1->kubernetes>=28.1.0->chromadb) (0.4.1)\n",
            "Requirement already satisfied: rsa<5,>=3.1.4 in /usr/local/lib/python3.11/dist-packages (from google-auth>=1.0.1->kubernetes>=28.1.0->chromadb) (4.9)\n",
            "Requirement already satisfied: zipp>=3.20 in /usr/local/lib/python3.11/dist-packages (from importlib-metadata<8.7.0,>=6.0->opentelemetry-api>=1.2.0->chromadb) (3.21.0)\n",
            "Requirement already satisfied: jsonpointer>=1.9 in /usr/local/lib/python3.11/dist-packages (from jsonpatch<2.0,>=1.33->langchain-core<1.0.0,>=0.3.41->langchain) (3.0.0)\n",
            "Requirement already satisfied: mdurl~=0.1 in /usr/local/lib/python3.11/dist-packages (from markdown-it-py>=2.2.0->rich>=10.11.0->chromadb) (0.1.2)\n",
            "Requirement already satisfied: sniffio>=1.1 in /usr/local/lib/python3.11/dist-packages (from anyio->httpx>=0.27.0->chromadb) (1.3.1)\n",
            "Collecting humanfriendly>=9.1 (from coloredlogs->onnxruntime>=1.14.1->chromadb)\n",
            "  Downloading humanfriendly-10.0-py2.py3-none-any.whl.metadata (9.2 kB)\n",
            "Requirement already satisfied: mpmath<1.4,>=1.1.0 in /usr/local/lib/python3.11/dist-packages (from sympy->onnxruntime>=1.14.1->chromadb) (1.3.0)\n",
            "Requirement already satisfied: pyasn1<0.7.0,>=0.4.6 in /usr/local/lib/python3.11/dist-packages (from pyasn1-modules>=0.2.1->google-auth>=1.0.1->kubernetes>=28.1.0->chromadb) (0.6.1)\n",
            "Downloading evaluate-0.4.3-py3-none-any.whl (84 kB)\n",
            "\u001b[2K   \u001b[90m━━━━━━━━━━━━━━━━━━━━━━━━━━━━━━━━━━━━━━━━\u001b[0m \u001b[32m84.0/84.0 kB\u001b[0m \u001b[31m7.7 MB/s\u001b[0m eta \u001b[36m0:00:00\u001b[0m\n",
            "\u001b[?25hDownloading chromadb-0.6.3-py3-none-any.whl (611 kB)\n",
            "\u001b[2K   \u001b[90m━━━━━━━━━━━━━━━━━━━━━━━━━━━━━━━━━━━━━━━━\u001b[0m \u001b[32m611.1/611.1 kB\u001b[0m \u001b[31m35.6 MB/s\u001b[0m eta \u001b[36m0:00:00\u001b[0m\n",
            "\u001b[?25hDownloading chroma_hnswlib-0.7.6-cp311-cp311-manylinux_2_17_x86_64.manylinux2014_x86_64.whl (2.4 MB)\n",
            "\u001b[2K   \u001b[90m━━━━━━━━━━━━━━━━━━━━━━━━━━━━━━━━━━━━━━━━\u001b[0m \u001b[32m2.4/2.4 MB\u001b[0m \u001b[31m84.1 MB/s\u001b[0m eta \u001b[36m0:00:00\u001b[0m\n",
            "\u001b[?25hDownloading datasets-3.3.2-py3-none-any.whl (485 kB)\n",
            "\u001b[2K   \u001b[90m━━━━━━━━━━━━━━━━━━━━━━━━━━━━━━━━━━━━━━━━\u001b[0m \u001b[32m485.4/485.4 kB\u001b[0m \u001b[31m36.6 MB/s\u001b[0m eta \u001b[36m0:00:00\u001b[0m\n",
            "\u001b[?25hDownloading gensim-4.3.3-cp311-cp311-manylinux_2_17_x86_64.manylinux2014_x86_64.whl (26.7 MB)\n",
            "\u001b[2K   \u001b[90m━━━━━━━━━━━━━━━━━━━━━━━━━━━━━━━━━━━━━━━━\u001b[0m \u001b[32m26.7/26.7 MB\u001b[0m \u001b[31m76.4 MB/s\u001b[0m eta \u001b[36m0:00:00\u001b[0m\n",
            "\u001b[?25hDownloading bcrypt-4.3.0-cp39-abi3-manylinux_2_34_x86_64.whl (284 kB)\n",
            "\u001b[2K   \u001b[90m━━━━━━━━━━━━━━━━━━━━━━━━━━━━━━━━━━━━━━━━\u001b[0m \u001b[32m284.2/284.2 kB\u001b[0m \u001b[31m25.1 MB/s\u001b[0m eta \u001b[36m0:00:00\u001b[0m\n",
            "\u001b[?25hDownloading build-1.2.2.post1-py3-none-any.whl (22 kB)\n",
            "Downloading dill-0.3.8-py3-none-any.whl (116 kB)\n",
            "\u001b[2K   \u001b[90m━━━━━━━━━━━━━━━━━━━━━━━━━━━━━━━━━━━━━━━━\u001b[0m \u001b[32m116.3/116.3 kB\u001b[0m \u001b[31m12.1 MB/s\u001b[0m eta \u001b[36m0:00:00\u001b[0m\n",
            "\u001b[?25hDownloading fastapi-0.115.11-py3-none-any.whl (94 kB)\n",
            "\u001b[2K   \u001b[90m━━━━━━━━━━━━━━━━━━━━━━━━━━━━━━━━━━━━━━━━\u001b[0m \u001b[32m94.9/94.9 kB\u001b[0m \u001b[31m9.1 MB/s\u001b[0m eta \u001b[36m0:00:00\u001b[0m\n",
            "\u001b[?25hDownloading kubernetes-32.0.1-py2.py3-none-any.whl (2.0 MB)\n",
            "\u001b[2K   \u001b[90m━━━━━━━━━━━━━━━━━━━━━━━━━━━━━━━━━━━━━━━━\u001b[0m \u001b[32m2.0/2.0 MB\u001b[0m \u001b[31m83.8 MB/s\u001b[0m eta \u001b[36m0:00:00\u001b[0m\n",
            "\u001b[?25hDownloading mmh3-5.1.0-cp311-cp311-manylinux_2_5_x86_64.manylinux1_x86_64.manylinux_2_17_x86_64.manylinux2014_x86_64.whl (101 kB)\n",
            "\u001b[2K   \u001b[90m━━━━━━━━━━━━━━━━━━━━━━━━━━━━━━━━━━━━━━━━\u001b[0m \u001b[32m101.6/101.6 kB\u001b[0m \u001b[31m9.5 MB/s\u001b[0m eta \u001b[36m0:00:00\u001b[0m\n",
            "\u001b[?25hDownloading multiprocess-0.70.16-py311-none-any.whl (143 kB)\n",
            "\u001b[2K   \u001b[90m━━━━━━━━━━━━━━━━━━━━━━━━━━━━━━━━━━━━━━━━\u001b[0m \u001b[32m143.5/143.5 kB\u001b[0m \u001b[31m13.4 MB/s\u001b[0m eta \u001b[36m0:00:00\u001b[0m\n",
            "\u001b[?25hDownloading onnxruntime-1.21.0-cp311-cp311-manylinux_2_27_x86_64.manylinux_2_28_x86_64.whl (16.0 MB)\n",
            "\u001b[2K   \u001b[90m━━━━━━━━━━━━━━━━━━━━━━━━━━━━━━━━━━━━━━━━\u001b[0m \u001b[32m16.0/16.0 MB\u001b[0m \u001b[31m83.0 MB/s\u001b[0m eta \u001b[36m0:00:00\u001b[0m\n",
            "\u001b[?25hDownloading opentelemetry_exporter_otlp_proto_grpc-1.31.0-py3-none-any.whl (18 kB)\n",
            "Downloading opentelemetry_exporter_otlp_proto_common-1.31.0-py3-none-any.whl (18 kB)\n",
            "Downloading opentelemetry_proto-1.31.0-py3-none-any.whl (55 kB)\n",
            "\u001b[2K   \u001b[90m━━━━━━━━━━━━━━━━━━━━━━━━━━━━━━━━━━━━━━━━\u001b[0m \u001b[32m55.9/55.9 kB\u001b[0m \u001b[31m5.3 MB/s\u001b[0m eta \u001b[36m0:00:00\u001b[0m\n",
            "\u001b[?25hDownloading opentelemetry_instrumentation_fastapi-0.52b0-py3-none-any.whl (12 kB)\n",
            "Downloading opentelemetry_instrumentation-0.52b0-py3-none-any.whl (31 kB)\n",
            "Downloading opentelemetry_instrumentation_asgi-0.52b0-py3-none-any.whl (16 kB)\n",
            "Downloading opentelemetry_semantic_conventions-0.52b0-py3-none-any.whl (183 kB)\n",
            "\u001b[2K   \u001b[90m━━━━━━━━━━━━━━━━━━━━━━━━━━━━━━━━━━━━━━━━\u001b[0m \u001b[32m183.4/183.4 kB\u001b[0m \u001b[31m16.4 MB/s\u001b[0m eta \u001b[36m0:00:00\u001b[0m\n",
            "\u001b[?25hDownloading opentelemetry_api-1.31.0-py3-none-any.whl (65 kB)\n",
            "\u001b[2K   \u001b[90m━━━━━━━━━━━━━━━━━━━━━━━━━━━━━━━━━━━━━━━━\u001b[0m \u001b[32m65.1/65.1 kB\u001b[0m \u001b[31m5.9 MB/s\u001b[0m eta \u001b[36m0:00:00\u001b[0m\n",
            "\u001b[?25hDownloading opentelemetry_util_http-0.52b0-py3-none-any.whl (7.3 kB)\n",
            "Downloading opentelemetry_sdk-1.31.0-py3-none-any.whl (118 kB)\n",
            "\u001b[2K   \u001b[90m━━━━━━━━━━━━━━━━━━━━━━━━━━━━━━━━━━━━━━━━\u001b[0m \u001b[32m118.9/118.9 kB\u001b[0m \u001b[31m11.5 MB/s\u001b[0m eta \u001b[36m0:00:00\u001b[0m\n",
            "\u001b[?25hDownloading overrides-7.7.0-py3-none-any.whl (17 kB)\n",
            "Downloading posthog-3.19.1-py2.py3-none-any.whl (77 kB)\n",
            "\u001b[2K   \u001b[90m━━━━━━━━━━━━━━━━━━━━━━━━━━━━━━━━━━━━━━━━\u001b[0m \u001b[32m77.8/77.8 kB\u001b[0m \u001b[31m7.6 MB/s\u001b[0m eta \u001b[36m0:00:00\u001b[0m\n",
            "\u001b[?25hDownloading scipy-1.13.1-cp311-cp311-manylinux_2_17_x86_64.manylinux2014_x86_64.whl (38.6 MB)\n",
            "\u001b[2K   \u001b[90m━━━━━━━━━━━━━━━━━━━━━━━━━━━━━━━━━━━━━━━━\u001b[0m \u001b[32m38.6/38.6 MB\u001b[0m \u001b[31m16.5 MB/s\u001b[0m eta \u001b[36m0:00:00\u001b[0m\n",
            "\u001b[?25hDownloading uvicorn-0.34.0-py3-none-any.whl (62 kB)\n",
            "\u001b[2K   \u001b[90m━━━━━━━━━━━━━━━━━━━━━━━━━━━━━━━━━━━━━━━━\u001b[0m \u001b[32m62.3/62.3 kB\u001b[0m \u001b[31m5.0 MB/s\u001b[0m eta \u001b[36m0:00:00\u001b[0m\n",
            "\u001b[?25hDownloading xxhash-3.5.0-cp311-cp311-manylinux_2_17_x86_64.manylinux2014_x86_64.whl (194 kB)\n",
            "\u001b[2K   \u001b[90m━━━━━━━━━━━━━━━━━━━━━━━━━━━━━━━━━━━━━━━━\u001b[0m \u001b[32m194.8/194.8 kB\u001b[0m \u001b[31m17.7 MB/s\u001b[0m eta \u001b[36m0:00:00\u001b[0m\n",
            "\u001b[?25hDownloading backoff-2.2.1-py3-none-any.whl (15 kB)\n",
            "Downloading durationpy-0.9-py3-none-any.whl (3.5 kB)\n",
            "Downloading httptools-0.6.4-cp311-cp311-manylinux_2_5_x86_64.manylinux1_x86_64.manylinux_2_17_x86_64.manylinux2014_x86_64.whl (459 kB)\n",
            "\u001b[2K   \u001b[90m━━━━━━━━━━━━━━━━━━━━━━━━━━━━━━━━━━━━━━━━\u001b[0m \u001b[32m459.8/459.8 kB\u001b[0m \u001b[31m37.6 MB/s\u001b[0m eta \u001b[36m0:00:00\u001b[0m\n",
            "\u001b[?25hDownloading monotonic-1.6-py2.py3-none-any.whl (8.2 kB)\n",
            "Downloading protobuf-5.29.3-cp38-abi3-manylinux2014_x86_64.whl (319 kB)\n",
            "\u001b[2K   \u001b[90m━━━━━━━━━━━━━━━━━━━━━━━━━━━━━━━━━━━━━━━━\u001b[0m \u001b[32m319.7/319.7 kB\u001b[0m \u001b[31m24.2 MB/s\u001b[0m eta \u001b[36m0:00:00\u001b[0m\n",
            "\u001b[?25hDownloading python_dotenv-1.0.1-py3-none-any.whl (19 kB)\n",
            "Downloading starlette-0.46.1-py3-none-any.whl (71 kB)\n",
            "\u001b[2K   \u001b[90m━━━━━━━━━━━━━━━━━━━━━━━━━━━━━━━━━━━━━━━━\u001b[0m \u001b[32m72.0/72.0 kB\u001b[0m \u001b[31m7.1 MB/s\u001b[0m eta \u001b[36m0:00:00\u001b[0m\n",
            "\u001b[?25hDownloading uvloop-0.21.0-cp311-cp311-manylinux_2_17_x86_64.manylinux2014_x86_64.whl (4.0 MB)\n",
            "\u001b[2K   \u001b[90m━━━━━━━━━━━━━━━━━━━━━━━━━━━━━━━━━━━━━━━━\u001b[0m \u001b[32m4.0/4.0 MB\u001b[0m \u001b[31m85.1 MB/s\u001b[0m eta \u001b[36m0:00:00\u001b[0m\n",
            "\u001b[?25hDownloading watchfiles-1.0.4-cp311-cp311-manylinux_2_17_x86_64.manylinux2014_x86_64.whl (452 kB)\n",
            "\u001b[2K   \u001b[90m━━━━━━━━━━━━━━━━━━━━━━━━━━━━━━━━━━━━━━━━\u001b[0m \u001b[32m452.6/452.6 kB\u001b[0m \u001b[31m37.0 MB/s\u001b[0m eta \u001b[36m0:00:00\u001b[0m\n",
            "\u001b[?25hDownloading coloredlogs-15.0.1-py2.py3-none-any.whl (46 kB)\n",
            "\u001b[2K   \u001b[90m━━━━━━━━━━━━━━━━━━━━━━━━━━━━━━━━━━━━━━━━\u001b[0m \u001b[32m46.0/46.0 kB\u001b[0m \u001b[31m4.3 MB/s\u001b[0m eta \u001b[36m0:00:00\u001b[0m\n",
            "\u001b[?25hDownloading pyproject_hooks-1.2.0-py3-none-any.whl (10 kB)\n",
            "Downloading asgiref-3.8.1-py3-none-any.whl (23 kB)\n",
            "Downloading humanfriendly-10.0-py2.py3-none-any.whl (86 kB)\n",
            "\u001b[2K   \u001b[90m━━━━━━━━━━━━━━━━━━━━━━━━━━━━━━━━━━━━━━━━\u001b[0m \u001b[32m86.8/86.8 kB\u001b[0m \u001b[31m8.6 MB/s\u001b[0m eta \u001b[36m0:00:00\u001b[0m\n",
            "\u001b[?25hBuilding wheels for collected packages: pypika\n",
            "  Building wheel for pypika (pyproject.toml) ... \u001b[?25l\u001b[?25hdone\n",
            "  Created wheel for pypika: filename=pypika-0.48.9-py2.py3-none-any.whl size=53769 sha256=8d5873ece9e3e84a799cc617e7d1a699622c81c2d9e4e1ec8b3a0ad6e1e1c0d3\n",
            "  Stored in directory: /root/.cache/pip/wheels/a3/01/bd/4c40ceb9d5354160cb186dcc153360f4ab7eb23e2b24daf96d\n",
            "Successfully built pypika\n",
            "Installing collected packages: pypika, monotonic, durationpy, xxhash, uvloop, uvicorn, scipy, python-dotenv, pyproject_hooks, protobuf, overrides, opentelemetry-util-http, mmh3, humanfriendly, httptools, dill, chroma-hnswlib, bcrypt, backoff, asgiref, watchfiles, starlette, posthog, opentelemetry-proto, opentelemetry-api, multiprocess, gensim, coloredlogs, build, opentelemetry-semantic-conventions, opentelemetry-exporter-otlp-proto-common, onnxruntime, kubernetes, fastapi, opentelemetry-sdk, opentelemetry-instrumentation, datasets, opentelemetry-instrumentation-asgi, opentelemetry-exporter-otlp-proto-grpc, evaluate, opentelemetry-instrumentation-fastapi, chromadb\n",
            "  Attempting uninstall: scipy\n",
            "    Found existing installation: scipy 1.14.1\n",
            "    Uninstalling scipy-1.14.1:\n",
            "      Successfully uninstalled scipy-1.14.1\n",
            "  Attempting uninstall: protobuf\n",
            "    Found existing installation: protobuf 4.25.6\n",
            "    Uninstalling protobuf-4.25.6:\n",
            "      Successfully uninstalled protobuf-4.25.6\n",
            "  Attempting uninstall: opentelemetry-api\n",
            "    Found existing installation: opentelemetry-api 1.16.0\n",
            "    Uninstalling opentelemetry-api-1.16.0:\n",
            "      Successfully uninstalled opentelemetry-api-1.16.0\n",
            "  Attempting uninstall: opentelemetry-semantic-conventions\n",
            "    Found existing installation: opentelemetry-semantic-conventions 0.37b0\n",
            "    Uninstalling opentelemetry-semantic-conventions-0.37b0:\n",
            "      Successfully uninstalled opentelemetry-semantic-conventions-0.37b0\n",
            "  Attempting uninstall: opentelemetry-sdk\n",
            "    Found existing installation: opentelemetry-sdk 1.16.0\n",
            "    Uninstalling opentelemetry-sdk-1.16.0:\n",
            "      Successfully uninstalled opentelemetry-sdk-1.16.0\n",
            "Successfully installed asgiref-3.8.1 backoff-2.2.1 bcrypt-4.3.0 build-1.2.2.post1 chroma-hnswlib-0.7.6 chromadb-0.6.3 coloredlogs-15.0.1 datasets-3.3.2 dill-0.3.8 durationpy-0.9 evaluate-0.4.3 fastapi-0.115.11 gensim-4.3.3 httptools-0.6.4 humanfriendly-10.0 kubernetes-32.0.1 mmh3-5.1.0 monotonic-1.6 multiprocess-0.70.16 onnxruntime-1.21.0 opentelemetry-api-1.31.0 opentelemetry-exporter-otlp-proto-common-1.31.0 opentelemetry-exporter-otlp-proto-grpc-1.31.0 opentelemetry-instrumentation-0.52b0 opentelemetry-instrumentation-asgi-0.52b0 opentelemetry-instrumentation-fastapi-0.52b0 opentelemetry-proto-1.31.0 opentelemetry-sdk-1.31.0 opentelemetry-semantic-conventions-0.52b0 opentelemetry-util-http-0.52b0 overrides-7.7.0 posthog-3.19.1 protobuf-5.29.3 pypika-0.48.9 pyproject_hooks-1.2.0 python-dotenv-1.0.1 scipy-1.13.1 starlette-0.46.1 uvicorn-0.34.0 uvloop-0.21.0 watchfiles-1.0.4 xxhash-3.5.0\n"
          ]
        }
      ],
      "source": [
        "!pip install transformers evaluate chromadb langchain datasets gensim"
      ],
      "id": "928565dd"
    },
    {
      "cell_type": "markdown",
      "metadata": {
        "id": "2c8fa4c2"
      },
      "source": [
        "## 15.2 Learning Objectives\n",
        "\n",
        "By the end of this chapter, you should be able to:\n",
        "- tokenize and encode sentences into their corresponding embeddings\n",
        "- train a simple model using embeddings as features\n",
        "- use vector databases to store and search documents\n",
        "- use a similarity metric to perform zero-shot text classification"
      ],
      "id": "2c8fa4c2"
    },
    {
      "cell_type": "markdown",
      "metadata": {
        "id": "d17cefe0"
      },
      "source": [
        "## 15.4 AG News Dataset\n",
        "\n",
        "![](https://raw.githubusercontent.com/dvgodoy/assets/main/PyTorchInPractice/images/ch0/data_step1.png)\n",
        "\n",
        "In this chapter, we'll be primarily using the AG News Dataset. The original [AG](http://groups.di.unipi.it/~gulli/AG_corpus_of_news_articles.html) is a collection of more than 1,000,000 news articles gathered from more than 2,000 news sources.\n",
        "\n",
        "The version we'll be using here, the [AG News Dataset](https://github.com/mhjabreel/CharCnn_Keras/tree/master/data/ag_news_csv) was constructed by choosing the four largest classes from the original corpus, namely, \"world\", \"sports\", \"business\", and \"science and technology\". Each class contains 30,000 training and 1,900 testing samples, amouting to a total of 120,000 training and 7,600 testing samples.\n",
        "\n",
        "The AG News Dataset is a [built-in dataset](https://pytorch.org/text/stable/datasets.html#ag-news) from Torchtext. It downloads the corresponding files directly from the [AG News Dataset](https://github.com/mhjabreel/CharCnn_Keras/tree/master/data/ag_news_csv) repository."
      ],
      "id": "d17cefe0"
    },
    {
      "cell_type": "code",
      "execution_count": 11,
      "metadata": {
        "id": "11466c94",
        "outputId": "07060008-9cce-47e0-e553-e99ce193dbcc",
        "colab": {
          "base_uri": "https://localhost:8080/"
        }
      },
      "outputs": [
        {
          "output_type": "stream",
          "name": "stdout",
          "text": [
            "--2025-03-13 14:15:26--  https://raw.githubusercontent.com/mhjabreel/CharCnn_Keras/master/data/ag_news_csv/train.csv\n",
            "Resolving raw.githubusercontent.com (raw.githubusercontent.com)... 185.199.111.133, 185.199.108.133, 185.199.109.133, ...\n",
            "Connecting to raw.githubusercontent.com (raw.githubusercontent.com)|185.199.111.133|:443... connected.\n",
            "HTTP request sent, awaiting response... 200 OK\n",
            "Length: 29470338 (28M) [text/plain]\n",
            "Saving to: ‘train.csv.1’\n",
            "\n",
            "\rtrain.csv.1           0%[                    ]       0  --.-KB/s               \rtrain.csv.1         100%[===================>]  28.10M  --.-KB/s    in 0.1s    \n",
            "\n",
            "2025-03-13 14:15:26 (236 MB/s) - ‘train.csv.1’ saved [29470338/29470338]\n",
            "\n",
            "--2025-03-13 14:15:26--  https://raw.githubusercontent.com/mhjabreel/CharCnn_Keras/master/data/ag_news_csv/test.csv\n",
            "Resolving raw.githubusercontent.com (raw.githubusercontent.com)... 185.199.108.133, 185.199.109.133, 185.199.110.133, ...\n",
            "Connecting to raw.githubusercontent.com (raw.githubusercontent.com)|185.199.108.133|:443... connected.\n",
            "HTTP request sent, awaiting response... 200 OK\n",
            "Length: 1857427 (1.8M) [text/plain]\n",
            "Saving to: ‘test.csv.1’\n",
            "\n",
            "test.csv.1          100%[===================>]   1.77M  --.-KB/s    in 0.03s   \n",
            "\n",
            "2025-03-13 14:15:26 (69.7 MB/s) - ‘test.csv.1’ saved [1857427/1857427]\n",
            "\n",
            "--2025-03-13 14:15:26--  https://raw.githubusercontent.com/mhjabreel/CharCnn_Keras/master/data/ag_news_csv/classes.txt\n",
            "Resolving raw.githubusercontent.com (raw.githubusercontent.com)... 185.199.109.133, 185.199.108.133, 185.199.111.133, ...\n",
            "Connecting to raw.githubusercontent.com (raw.githubusercontent.com)|185.199.109.133|:443... connected.\n",
            "HTTP request sent, awaiting response... 200 OK\n",
            "Length: 31 [text/plain]\n",
            "Saving to: ‘classes.txt.1’\n",
            "\n",
            "classes.txt.1       100%[===================>]      31  --.-KB/s    in 0s      \n",
            "\n",
            "2025-03-13 14:15:26 (2.17 MB/s) - ‘classes.txt.1’ saved [31/31]\n",
            "\n"
          ]
        }
      ],
      "source": [
        "!wget https://raw.githubusercontent.com/mhjabreel/CharCnn_Keras/master/data/ag_news_csv/train.csv\n",
        "!wget https://raw.githubusercontent.com/mhjabreel/CharCnn_Keras/master/data/ag_news_csv/test.csv\n",
        "!wget https://raw.githubusercontent.com/mhjabreel/CharCnn_Keras/master/data/ag_news_csv/classes.txt"
      ],
      "id": "11466c94"
    },
    {
      "cell_type": "markdown",
      "metadata": {
        "id": "5d4390d4"
      },
      "source": [
        "### 15.4.1 Data Cleaning\n",
        "\n",
        "![](https://raw.githubusercontent.com/dvgodoy/assets/main/PyTorchInPractice/images/ch0/data_step2.png)"
      ],
      "id": "5d4390d4"
    },
    {
      "cell_type": "code",
      "execution_count": 12,
      "metadata": {
        "id": "7c8cbebf"
      },
      "outputs": [],
      "source": [
        "import numpy as np\n",
        "\n",
        "chr_codes = np.array([\n",
        "     36,   151,    38,  8220,   147,   148,   146,   225,   133,    39,  8221,  8212,   232,   149,   145,   233,\n",
        "  64257,  8217,   163,   160,    91,    93,  8211,  8482,   234,    37,  8364,   153,   195,   169\n",
        "])\n",
        "chr_subst = {f' #{c};':chr(c) for c in chr_codes}\n",
        "chr_subst.update({' amp;': '&', ' quot;': \"'\", ' hellip;': '...', ' nbsp;': ' ', '&lt;': '', '&gt;': '',\n",
        "                  '&lt;em&gt;': '', '&lt;/em&gt;': '', '&lt;strong&gt;': '', '&lt;/strong&gt;': ''})"
      ],
      "id": "7c8cbebf"
    },
    {
      "cell_type": "code",
      "execution_count": 13,
      "metadata": {
        "id": "a2108e26"
      },
      "outputs": [],
      "source": [
        "def replace_chars(sent):\n",
        "    to_replace = [c for c in list(chr_subst.keys()) if c in sent]\n",
        "    for c in to_replace:\n",
        "        sent = sent.replace(c, chr_subst[c])\n",
        "    return sent\n",
        "\n",
        "def preproc_description(desc):\n",
        "    desc = desc.replace('\\\\', ' ').strip()\n",
        "    return replace_chars(desc)"
      ],
      "id": "a2108e26"
    },
    {
      "cell_type": "markdown",
      "metadata": {
        "id": "902cca8d"
      },
      "source": [
        "### 15.4.2 Hugging Face Datasets\n",
        "\n",
        "![](https://raw.githubusercontent.com/dvgodoy/assets/main/PyTorchInPractice/images/ch0/data_step4.png)"
      ],
      "id": "902cca8d"
    },
    {
      "cell_type": "code",
      "execution_count": 14,
      "metadata": {
        "id": "KADBGpSQMmAv",
        "outputId": "a6c29a28-23a2-48f9-bac1-0016cfb6b689",
        "colab": {
          "referenced_widgets": [
            "3aa69b8b812f4beeae1794fdccd1f907",
            "01c8e37387cd4594855a8beb71f54cff",
            "6d12666660244361bb9977d534d461f0",
            "d723b9ac59954d16b075f309a3cf1394",
            "68753392b69241ba97e8049618ebfd31",
            "e1011a8539c146c99450ce7dc0bc0edb",
            "85a89435d0824f20b6a39dd2c62c4708",
            "95d9c26881d2480f82983ee1004dd78c",
            "98495311d0c9480680659499ac5422af",
            "b1fcd4efac6747ffb70c1d7021760464",
            "817995a07b414dedb883ca8f2ca34a53",
            "92b58473feaf4dfca7dbe78356dab05f",
            "553a9f02083d4ab995ed40c5b46daa0e",
            "a2a4a5f72fcc40a2972c3dca6674ae58",
            "ddb923cc25ea43cfaf5e8d82d6cee166",
            "1a09df46925f413895ebbf5e7ef0491b",
            "5d95d1ad454a418f9255155d24d8f717",
            "5b8619ded0b84ce7b391997bc840546c",
            "a77361f1b52648d8bc5aa650694d1428",
            "37cbcd5560004c509c2f383b7ea9c6da",
            "9cf71b9fa222471594bf9780372a18e1",
            "83bf76ec90ce4a8497b35f033e522dc3"
          ],
          "base_uri": "https://localhost:8080/",
          "height": 255
        }
      },
      "outputs": [
        {
          "output_type": "display_data",
          "data": {
            "text/plain": [
              "Generating train split: 0 examples [00:00, ? examples/s]"
            ],
            "application/vnd.jupyter.widget-view+json": {
              "version_major": 2,
              "version_minor": 0,
              "model_id": "3aa69b8b812f4beeae1794fdccd1f907"
            }
          },
          "metadata": {}
        },
        {
          "output_type": "display_data",
          "data": {
            "text/plain": [
              "Generating train split: 0 examples [00:00, ? examples/s]"
            ],
            "application/vnd.jupyter.widget-view+json": {
              "version_major": 2,
              "version_minor": 0,
              "model_id": "92b58473feaf4dfca7dbe78356dab05f"
            }
          },
          "metadata": {}
        },
        {
          "output_type": "execute_result",
          "data": {
            "text/plain": [
              "DatasetDict({\n",
              "    train: Dataset({\n",
              "        features: ['topic', 'title', 'news'],\n",
              "        num_rows: 120000\n",
              "    })\n",
              "    test: Dataset({\n",
              "        features: ['topic', 'title', 'news'],\n",
              "        num_rows: 7600\n",
              "    })\n",
              "})"
            ]
          },
          "metadata": {},
          "execution_count": 14
        }
      ],
      "source": [
        "from datasets import load_dataset, Split, DatasetDict\n",
        "\n",
        "colnames = ['topic', 'title', 'news']\n",
        "\n",
        "train_ds = load_dataset(\"csv\", data_files='train.csv', sep=',', split=Split.ALL, column_names=colnames)\n",
        "test_ds = load_dataset(\"csv\", data_files='test.csv', sep=',', split=Split.ALL, column_names=colnames)\n",
        "\n",
        "datasets = DatasetDict({'train': train_ds, 'test': test_ds})\n",
        "datasets"
      ],
      "id": "KADBGpSQMmAv"
    },
    {
      "cell_type": "code",
      "execution_count": 15,
      "metadata": {
        "id": "nYI29H8pMmAx",
        "outputId": "11a14d60-35e6-4086-c27c-656b1e245ec5",
        "colab": {
          "base_uri": "https://localhost:8080/"
        }
      },
      "outputs": [
        {
          "output_type": "execute_result",
          "data": {
            "text/plain": [
              "{'topic': 3,\n",
              " 'title': 'Wall St. Bears Claw Back Into the Black (Reuters)',\n",
              " 'news': \"Reuters - Short-sellers, Wall Street's dwindling\\\\band of ultra-cynics, are seeing green again.\"}"
            ]
          },
          "metadata": {},
          "execution_count": 15
        }
      ],
      "source": [
        "datasets['train'][0]"
      ],
      "id": "nYI29H8pMmAx"
    },
    {
      "cell_type": "code",
      "execution_count": 16,
      "metadata": {
        "id": "3Qlex1m0MmA0",
        "outputId": "8ab848cb-ea94-435f-8041-3056eb436f3c",
        "colab": {
          "referenced_widgets": [
            "6c826c8cfe974150bccdb25aa9b1c8dc",
            "d203a069212542b5bdf933fe6ff73b03",
            "38ae8c40679944b1bfa70d095d064a0d",
            "8c629001266342e1a73a845469a17504",
            "29b984d06baf4f829e047a5478ce4a26",
            "4d7172ad0c6e455ca18634a6f1ec7723",
            "8fff62eba05a4d78a9b5305a478a16b8",
            "d13d3d08bd2247eba0b20607d16c02b6",
            "6b0b18c34dfe4b19a29887d9b339a2eb",
            "1c6a9fb016d0463ab03480c19b9f4b6d",
            "fa24fc27609c47209aefa9f9222f7804",
            "6f8079b43ea84aaeac1392b56152f11c",
            "05817a0a12334c2a9abc9646a26cdd49",
            "ef81661b0386406f8c6e2d0aa07a7a3c",
            "a346cb4df9b1444c822640c76f6162cc",
            "17c818b73d4e482dab4f5facfffaee66",
            "4b2dd0a336cd472ab827b07ecf62b7cb",
            "fabdb39f88644daf9f91c1cf3f634dd0",
            "6b1c781afb814d39ad452ab7fd72a43c",
            "1e2d29bd742f4357919a47d3de7d9af1",
            "627b4cb88f24409c8b6dd2a95123b767",
            "6ba502991c9046a3bcda25d8654ea3da"
          ],
          "base_uri": "https://localhost:8080/",
          "height": 81
        }
      },
      "outputs": [
        {
          "output_type": "display_data",
          "data": {
            "text/plain": [
              "Map:   0%|          | 0/120000 [00:00<?, ? examples/s]"
            ],
            "application/vnd.jupyter.widget-view+json": {
              "version_major": 2,
              "version_minor": 0,
              "model_id": "6c826c8cfe974150bccdb25aa9b1c8dc"
            }
          },
          "metadata": {}
        },
        {
          "output_type": "display_data",
          "data": {
            "text/plain": [
              "Map:   0%|          | 0/7600 [00:00<?, ? examples/s]"
            ],
            "application/vnd.jupyter.widget-view+json": {
              "version_major": 2,
              "version_minor": 0,
              "model_id": "6f8079b43ea84aaeac1392b56152f11c"
            }
          },
          "metadata": {}
        }
      ],
      "source": [
        "datasets = datasets.map(lambda row: {'topic': row['topic']-1,\n",
        "                                     'news': preproc_description(row['news'])})\n",
        "datasets = datasets.select_columns(['topic', 'news'])"
      ],
      "id": "3Qlex1m0MmA0"
    },
    {
      "cell_type": "code",
      "execution_count": 17,
      "metadata": {
        "id": "6-YFHINLMmBD",
        "outputId": "81b09b04-3673-4de4-d3a9-50b95b479b9d",
        "colab": {
          "base_uri": "https://localhost:8080/"
        }
      },
      "outputs": [
        {
          "output_type": "execute_result",
          "data": {
            "text/plain": [
              "([2, 2, 2, 2],\n",
              " [\"Reuters - Short-sellers, Wall Street's dwindling band of ultra-cynics, are seeing green again.\",\n",
              "  'Reuters - Private investment firm Carlyle Group, which has a reputation for making well-timed and occasionally controversial plays in the defense industry, has quietly placed its bets on another part of the market.',\n",
              "  'Reuters - Soaring crude prices plus worries about the economy and the outlook for earnings are expected to hang over the stock market next week during the depth of the summer doldrums.',\n",
              "  'Reuters - Authorities have halted oil export flows from the main pipeline in southern Iraq after intelligence showed a rebel militia could strike infrastructure, an oil official said on Saturday.'])"
            ]
          },
          "metadata": {},
          "execution_count": 17
        }
      ],
      "source": [
        "batch = datasets['train'][:4]\n",
        "labels, descriptions = batch['topic'], batch['news']\n",
        "labels, descriptions"
      ],
      "id": "6-YFHINLMmBD"
    },
    {
      "cell_type": "markdown",
      "metadata": {
        "id": "c20834dc"
      },
      "source": [
        "## 15.5 Tokenization\n",
        "\n",
        "![](https://raw.githubusercontent.com/dvgodoy/assets/main/PyTorchInPractice/images/ch0/data_step3.png)"
      ],
      "id": "c20834dc"
    },
    {
      "cell_type": "code",
      "execution_count": 18,
      "metadata": {
        "id": "Qx3u08LjMmBF",
        "outputId": "1ab383ab-5378-4fa1-972c-96fb26be7107",
        "colab": {
          "base_uri": "https://localhost:8080/"
        }
      },
      "outputs": [
        {
          "output_type": "execute_result",
          "data": {
            "text/plain": [
              "['Reuters',\n",
              " '-',\n",
              " 'Short-sellers,',\n",
              " 'Wall',\n",
              " \"Street's\",\n",
              " 'dwindling',\n",
              " 'band',\n",
              " 'of',\n",
              " 'ultra-cynics,',\n",
              " 'are',\n",
              " 'seeing',\n",
              " 'green',\n",
              " 'again.']"
            ]
          },
          "metadata": {},
          "execution_count": 18
        }
      ],
      "source": [
        "tokens = descriptions[0].split()\n",
        "tokens"
      ],
      "id": "Qx3u08LjMmBF"
    },
    {
      "cell_type": "code",
      "execution_count": 19,
      "metadata": {
        "id": "9wFvLOdDMmBH",
        "outputId": "0c0f4108-11e3-44cb-9588-2adddfd18442",
        "colab": {
          "base_uri": "https://localhost:8080/"
        }
      },
      "outputs": [
        {
          "output_type": "execute_result",
          "data": {
            "text/plain": [
              "['reuters',\n",
              " 'short',\n",
              " 'sellers',\n",
              " 'wall',\n",
              " 'street',\n",
              " 'dwindling',\n",
              " 'band',\n",
              " 'of',\n",
              " 'ultra',\n",
              " 'cynics',\n",
              " 'are',\n",
              " 'seeing',\n",
              " 'green',\n",
              " 'again']"
            ]
          },
          "metadata": {},
          "execution_count": 19
        }
      ],
      "source": [
        "from gensim.utils import simple_preprocess\n",
        "tokens = simple_preprocess(descriptions[0])\n",
        "tokens"
      ],
      "id": "9wFvLOdDMmBH"
    },
    {
      "cell_type": "code",
      "execution_count": 3,
      "metadata": {
        "id": "n1cE0IpOMmBI",
        "outputId": "673c0f38-de43-4d15-8d6e-7cfa87a991df",
        "colab": {
          "base_uri": "https://localhost:8080/",
          "height": 510,
          "referenced_widgets": [
            "0eda0d02b19047fb9f50d3eabb6db1e7",
            "c39c301af75b48f2b3194f93e7a74267",
            "b7c69ab0da674c7f8b5ba97e5d651693",
            "bd11f08b6df44fd0afd84b4b35e19e1d",
            "3f63bdd9a39247059741e9ea84012af5",
            "16e0f9a5aecd41dab11d42325c690c9b",
            "e3e2c0ba4fd14bcfba9cb35107ce6618",
            "a9f0a274192d4d5ca708b47ae5dbf2c1",
            "b134dc6064c4497586e148f52fa66132",
            "b0233bd1730e44b397a63a16fff936e9",
            "45b74a457e314d63b056fdbfd396ace6",
            "9e8a2acaa831451ab58710fa9c02e3ef",
            "3617beed4a34422797f33155f954771e",
            "663f53f30dc647a4a50848f251170ed5",
            "5532f3953f81418c913fab54f0bc3996",
            "871249d6b5b54fbe8bd196e3a51d6508",
            "065027ff1eef4815afc3fb6040c0c968",
            "48c8033400904c0ba11ade3fe0b22fd2",
            "4b33fb13db134bf29483d8e312270c34",
            "a95840a8202b49518ecc7c7b5e9323f5",
            "d37a60b018894412bd12254dfc0cd910",
            "1d3c649ffa414fe5823ce297da2414e1",
            "f3e2c1de41ad4dd78b6db483d771fe45",
            "5f12b32313944ddd9ca4d99fdaade7bc",
            "859889ac96e3409e9c7d9693fb0cb2f0",
            "c8913a5c7498474997b456b723e9519d",
            "e2e9da3ff61d4528919feb57fb7a6b7c",
            "023c4d40aa3b499e98910d87bbeeb791",
            "37088311ccaf42e0aedd230b17762114",
            "73a5ddb5de704986a765020ed09d532b",
            "8eb09623f9ec4c6e93ae7b7d24d8110b",
            "959b793a814b448491ec5ad0c436a9b3",
            "6720d4ef90ac49219d42a3c910c005a1",
            "0380fe74b6934474b69a0fb32a58427c",
            "de31159f27884d3c8908f441accb1c50",
            "83cf16d6142a4b3aae13189dcc3af393",
            "5a37ecd4ed4343709c0d64f2c526f551",
            "c166b5875fcb4b44922477620d069bde",
            "20875c1cf1f6407cbcb7d0e79f02e02a",
            "72f759dad1cf44baa292676acc4f7993",
            "8900ac12eb96434abc00845543baae43",
            "a004712544ca47a4bdc47ff3ce9d0c46",
            "9955c18c36574dbb942fce221c81a49a",
            "0566f503d8924929b716bf0f88e63f4d"
          ]
        }
      },
      "outputs": [
        {
          "output_type": "stream",
          "name": "stderr",
          "text": [
            "/usr/local/lib/python3.11/dist-packages/huggingface_hub/utils/_auth.py:94: UserWarning: \n",
            "The secret `HF_TOKEN` does not exist in your Colab secrets.\n",
            "To authenticate with the Hugging Face Hub, create a token in your settings tab (https://huggingface.co/settings/tokens), set it as secret in your Google Colab and restart your session.\n",
            "You will be able to reuse this secret in all of your notebooks.\n",
            "Please note that authentication is recommended but still optional to access public models or datasets.\n",
            "  warnings.warn(\n"
          ]
        },
        {
          "output_type": "display_data",
          "data": {
            "text/plain": [
              "tokenizer_config.json:   0%|          | 0.00/48.0 [00:00<?, ?B/s]"
            ],
            "application/vnd.jupyter.widget-view+json": {
              "version_major": 2,
              "version_minor": 0,
              "model_id": "0eda0d02b19047fb9f50d3eabb6db1e7"
            }
          },
          "metadata": {}
        },
        {
          "output_type": "display_data",
          "data": {
            "text/plain": [
              "config.json:   0%|          | 0.00/570 [00:00<?, ?B/s]"
            ],
            "application/vnd.jupyter.widget-view+json": {
              "version_major": 2,
              "version_minor": 0,
              "model_id": "9e8a2acaa831451ab58710fa9c02e3ef"
            }
          },
          "metadata": {}
        },
        {
          "output_type": "display_data",
          "data": {
            "text/plain": [
              "vocab.txt:   0%|          | 0.00/232k [00:00<?, ?B/s]"
            ],
            "application/vnd.jupyter.widget-view+json": {
              "version_major": 2,
              "version_minor": 0,
              "model_id": "f3e2c1de41ad4dd78b6db483d771fe45"
            }
          },
          "metadata": {}
        },
        {
          "output_type": "display_data",
          "data": {
            "text/plain": [
              "tokenizer.json:   0%|          | 0.00/466k [00:00<?, ?B/s]"
            ],
            "application/vnd.jupyter.widget-view+json": {
              "version_major": 2,
              "version_minor": 0,
              "model_id": "0380fe74b6934474b69a0fb32a58427c"
            }
          },
          "metadata": {}
        },
        {
          "output_type": "execute_result",
          "data": {
            "text/plain": [
              "Tokenizer(version=\"1.0\", truncation=None, padding=None, added_tokens=[{\"id\":0, \"content\":\"[PAD]\", \"single_word\":False, \"lstrip\":False, \"rstrip\":False, \"normalized\":False, \"special\":True}, {\"id\":100, \"content\":\"[UNK]\", \"single_word\":False, \"lstrip\":False, \"rstrip\":False, \"normalized\":False, \"special\":True}, {\"id\":101, \"content\":\"[CLS]\", \"single_word\":False, \"lstrip\":False, \"rstrip\":False, \"normalized\":False, \"special\":True}, {\"id\":102, \"content\":\"[SEP]\", \"single_word\":False, \"lstrip\":False, \"rstrip\":False, \"normalized\":False, \"special\":True}, {\"id\":103, \"content\":\"[MASK]\", \"single_word\":False, \"lstrip\":False, \"rstrip\":False, \"normalized\":False, \"special\":True}], normalizer=BertNormalizer(clean_text=True, handle_chinese_chars=True, strip_accents=None, lowercase=True), pre_tokenizer=BertPreTokenizer(), post_processor=TemplateProcessing(single=[SpecialToken(id=\"[CLS]\", type_id=0), Sequence(id=A, type_id=0), SpecialToken(id=\"[SEP]\", type_id=0)], pair=[SpecialToken(id=\"[CLS]\", type_id=0), Sequence(id=A, type_id=0), SpecialToken(id=\"[SEP]\", type_id=0), Sequence(id=B, type_id=1), SpecialToken(id=\"[SEP]\", type_id=1)], special_tokens={\"[CLS]\":SpecialToken(id=\"[CLS]\", ids=[101], tokens=[\"[CLS]\"]), \"[SEP]\":SpecialToken(id=\"[SEP]\", ids=[102], tokens=[\"[SEP]\"])}), decoder=WordPiece(prefix=\"##\", cleanup=True), model=WordPiece(unk_token=\"[UNK]\", continuing_subword_prefix=\"##\", max_input_chars_per_word=100, vocab={\"[PAD]\":0, \"[unused0]\":1, \"[unused1]\":2, \"[unused2]\":3, \"[unused3]\":4, \"[unused4]\":5, \"[unused5]\":6, \"[unused6]\":7, \"[unused7]\":8, \"[unused8]\":9, \"[unused9]\":10, \"[unused10]\":11, \"[unused11]\":12, \"[unused12]\":13, \"[unused13]\":14, \"[unused14]\":15, \"[unused15]\":16, \"[unused16]\":17, \"[unused17]\":18, \"[unused18]\":19, \"[unused19]\":20, \"[unused20]\":21, \"[unused21]\":22, \"[unused22]\":23, \"[unused23]\":24, \"[unused24]\":25, \"[unused25]\":26, \"[unused26]\":27, \"[unused27]\":28, \"[unused28]\":29, \"[unused29]\":30, \"[unused30]\":31, \"[unused31]\":32, \"[unused32]\":33, \"[unused33]\":34, \"[unused34]\":35, \"[unused35]\":36, \"[unused36]\":37, \"[unused37]\":38, \"[unused38]\":39, \"[unused39]\":40, \"[unused40]\":41, \"[unused41]\":42, \"[unused42]\":43, \"[unused43]\":44, \"[unused44]\":45, \"[unused45]\":46, \"[unused46]\":47, \"[unused47]\":48, \"[unused48]\":49, \"[unused49]\":50, \"[unused50]\":51, \"[unused51]\":52, \"[unused52]\":53, \"[unused53]\":54, \"[unused54]\":55, \"[unused55]\":56, \"[unused56]\":57, \"[unused57]\":58, \"[unused58]\":59, \"[unused59]\":60, \"[unused60]\":61, \"[unused61]\":62, \"[unused62]\":63, \"[unused63]\":64, \"[unused64]\":65, \"[unused65]\":66, \"[unused66]\":67, \"[unused67]\":68, \"[unused68]\":69, \"[unused69]\":70, \"[unused70]\":71, \"[unused71]\":72, \"[unused72]\":73, \"[unused73]\":74, \"[unused74]\":75, \"[unused75]\":76, \"[unused76]\":77, \"[unused77]\":78, \"[unused78]\":79, \"[unused79]\":80, \"[unused80]\":81, \"[unused81]\":82, \"[unused82]\":83, \"[unused83]\":84, \"[unused84]\":85, \"[unused85]\":86, \"[unused86]\":87, \"[unused87]\":88, \"[unused88]\":89, \"[unused89]\":90, \"[unused90]\":91, \"[unused91]\":92, \"[unused92]\":93, \"[unused93]\":94, \"[unused94]\":95, \"[unused95]\":96, \"[unused96]\":97, \"[unused97]\":98, ...}))"
            ]
          },
          "metadata": {},
          "execution_count": 3
        }
      ],
      "source": [
        "from transformers import AutoTokenizer\n",
        "\n",
        "tokenizer = AutoTokenizer.from_pretrained(\"bert-base-uncased\")\n",
        "\n",
        "tok_obj = tokenizer.backend_tokenizer\n",
        "tok_obj"
      ],
      "id": "n1cE0IpOMmBI"
    },
    {
      "cell_type": "code",
      "execution_count": 20,
      "metadata": {
        "id": "e1PF3YmMMmBJ",
        "outputId": "22b92f24-0d13-4652-da54-cee665bce183",
        "colab": {
          "base_uri": "https://localhost:8080/"
        }
      },
      "outputs": [
        {
          "output_type": "execute_result",
          "data": {
            "text/plain": [
              "(True, True, None)"
            ]
          },
          "metadata": {},
          "execution_count": 20
        }
      ],
      "source": [
        "normalizer = tok_obj.normalizer\n",
        "normalizer.lowercase, normalizer.clean_text, normalizer.strip_accents"
      ],
      "id": "e1PF3YmMMmBJ"
    },
    {
      "cell_type": "code",
      "execution_count": 21,
      "metadata": {
        "id": "U-lKQTK2MmBL",
        "outputId": "b0dc69c9-b45a-4e4a-e8be-336e68e99224",
        "colab": {
          "base_uri": "https://localhost:8080/",
          "height": 35
        }
      },
      "outputs": [
        {
          "output_type": "execute_result",
          "data": {
            "text/plain": [
              "\"reuters - short-sellers, wall street's dwindling band of ultra-cynics, are seeing green again.\""
            ],
            "application/vnd.google.colaboratory.intrinsic+json": {
              "type": "string"
            }
          },
          "metadata": {},
          "execution_count": 21
        }
      ],
      "source": [
        "normalized = normalizer.normalize_str(descriptions[0])\n",
        "normalized"
      ],
      "id": "U-lKQTK2MmBL"
    },
    {
      "cell_type": "code",
      "execution_count": 22,
      "metadata": {
        "id": "CO5wR9SiMmBX",
        "outputId": "63f75826-dd17-4388-ebb7-11c41394c778",
        "colab": {
          "base_uri": "https://localhost:8080/"
        }
      },
      "outputs": [
        {
          "output_type": "execute_result",
          "data": {
            "text/plain": [
              "[('reuters', (0, 7)),\n",
              " ('-', (8, 9)),\n",
              " ('short', (10, 15)),\n",
              " ('-', (15, 16)),\n",
              " ('sellers', (16, 23)),\n",
              " (',', (23, 24)),\n",
              " ('wall', (25, 29)),\n",
              " ('street', (30, 36)),\n",
              " (\"'\", (36, 37)),\n",
              " ('s', (37, 38)),\n",
              " ('dwindling', (39, 48)),\n",
              " ('band', (49, 53)),\n",
              " ('of', (54, 56)),\n",
              " ('ultra', (57, 62)),\n",
              " ('-', (62, 63)),\n",
              " ('cynics', (63, 69)),\n",
              " (',', (69, 70)),\n",
              " ('are', (71, 74)),\n",
              " ('seeing', (75, 81)),\n",
              " ('green', (82, 87)),\n",
              " ('again', (88, 93)),\n",
              " ('.', (93, 94))]"
            ]
          },
          "metadata": {},
          "execution_count": 22
        }
      ],
      "source": [
        "pre_tokenizer = tok_obj.pre_tokenizer\n",
        "tokens = pre_tokenizer.pre_tokenize_str(normalized)\n",
        "tokens"
      ],
      "id": "CO5wR9SiMmBX"
    },
    {
      "cell_type": "markdown",
      "metadata": {
        "id": "02890969"
      },
      "source": [
        "### 15.5.1 Vocabulary"
      ],
      "id": "02890969"
    },
    {
      "cell_type": "code",
      "execution_count": 23,
      "metadata": {
        "id": "8ccQMcWJMmBZ",
        "outputId": "3de959f2-ab37-4642-da43-a893a1ae59db",
        "colab": {
          "base_uri": "https://localhost:8080/"
        }
      },
      "outputs": [
        {
          "output_type": "execute_result",
          "data": {
            "text/plain": [
              "{'sargent': 27599,\n",
              " '##tani': 17681,\n",
              " 'architect': 4944,\n",
              " 'jacobite': 28725,\n",
              " 'liking': 16663,\n",
              " 'tucking': 25056,\n",
              " '##houses': 15666,\n",
              " 'monopoly': 15404,\n",
              " 'dissent': 24116,\n",
              " 'gunther': 19384,\n",
              " '1761': 21364,\n",
              " 'section': 2930,\n",
              " 'enforcement': 7285,\n",
              " '##nica': 12782,\n",
              " '##ʉ': 29697,\n",
              " 'cassidy': 13737,\n",
              " 'indianapolis': 9506,\n",
              " 'lenses': 15072,\n",
              " 'sacred': 6730,\n",
              " 'ル': 1733,\n",
              " '1928': 4662,\n",
              " 'distinct': 5664,\n",
              " 'reversal': 23163,\n",
              " '##ba': 3676,\n",
              " 'pierre': 5578,\n",
              " 'confidential': 18777,\n",
              " 'tearing': 13311,\n",
              " 'eels': 29317,\n",
              " 'unwanted': 18162,\n",
              " 'transformation': 8651,\n",
              " '##dai': 21351,\n",
              " 'antarctic': 10227,\n",
              " '##hosh': 26643,\n",
              " 'mika': 27857,\n",
              " 'shipment': 22613,\n",
              " '##宿': 30352,\n",
              " 'stiffly': 27499,\n",
              " 'advance': 5083,\n",
              " 'chronology': 17873,\n",
              " 'marvelous': 28851,\n",
              " 'disciplinary': 17972,\n",
              " '[unused80]': 81,\n",
              " 'smashed': 14368,\n",
              " '##ives': 24653,\n",
              " '##phine': 20738,\n",
              " 'utilizing': 16911,\n",
              " 'rises': 9466,\n",
              " '##ك': 29835,\n",
              " '##krishna': 23017,\n",
              " '##riety': 27840,\n",
              " 'delle': 24121,\n",
              " 'thrive': 25220,\n",
              " 'scrub': 18157,\n",
              " 'saves': 13169,\n",
              " 'fourteenth': 15276,\n",
              " 'sums': 20571,\n",
              " 'watered': 27129,\n",
              " '[unused993]': 998,\n",
              " 'consultative': 28581,\n",
              " 'tablet': 13855,\n",
              " 'barbed': 25007,\n",
              " 'turnover': 20991,\n",
              " '##ase': 11022,\n",
              " 'hospitality': 15961,\n",
              " 'blair': 10503,\n",
              " 'buena': 27493,\n",
              " 'marriott': 26490,\n",
              " 'dried': 9550,\n",
              " 'habitats': 10746,\n",
              " 'moments': 5312,\n",
              " 'tarzan': 24566,\n",
              " '[unused3]': 4,\n",
              " 'retail': 7027,\n",
              " 'screened': 12238,\n",
              " 'updates': 14409,\n",
              " 'leyte': 27214,\n",
              " 'arrive': 7180,\n",
              " 'overlap': 17702,\n",
              " 'mutants': 23892,\n",
              " '##42': 20958,\n",
              " '##uze': 20395,\n",
              " 'measurements': 11702,\n",
              " 'mon': 12256,\n",
              " 'tribunal': 12152,\n",
              " 'tier': 7563,\n",
              " '##rano': 20770,\n",
              " '##uria': 27703,\n",
              " 'bwv': 23860,\n",
              " 'galloway': 22372,\n",
              " 'japanese': 2887,\n",
              " 'patsy': 25382,\n",
              " '63': 6191,\n",
              " 'everything': 2673,\n",
              " '##zione': 20574,\n",
              " '168': 16923,\n",
              " 'everton': 18022,\n",
              " 'barrier': 8803,\n",
              " '##ching': 8450,\n",
              " 'rm': 28549,\n",
              " 'bernstein': 18862,\n",
              " 'enormous': 8216,\n",
              " 'mcleod': 25363,\n",
              " 'foxes': 24623,\n",
              " 'scrubbed': 27820,\n",
              " 'col': 8902,\n",
              " 'kumar': 9600,\n",
              " 'anglo': 7819,\n",
              " 'appetite': 18923,\n",
              " 'answer': 3437,\n",
              " 'hinted': 21795,\n",
              " 'toward': 2646,\n",
              " 'twelve': 4376,\n",
              " 'ま': 1677,\n",
              " '##場': 30332,\n",
              " 'hectares': 9076,\n",
              " 'designing': 12697,\n",
              " 'syndicated': 13889,\n",
              " 'unofficial': 11982,\n",
              " 'dragoons': 28069,\n",
              " 'wouldn': 2876,\n",
              " '##lon': 7811,\n",
              " 'emancipation': 22656,\n",
              " 'postage': 22981,\n",
              " 'nervously': 12531,\n",
              " '[unused175]': 180,\n",
              " 'sighed': 5489,\n",
              " 'tolerate': 19242,\n",
              " '##crest': 25313,\n",
              " 'gus': 12670,\n",
              " '##よ': 30210,\n",
              " 'stationary': 17337,\n",
              " 'greet': 17021,\n",
              " 'mist': 11094,\n",
              " 'descend': 18855,\n",
              " 'emitted': 22627,\n",
              " '##yr': 12541,\n",
              " 'fe': 10768,\n",
              " 'vietnamese': 9101,\n",
              " '##ग': 29853,\n",
              " 'greenville': 20967,\n",
              " '##gre': 17603,\n",
              " 'off': 2125,\n",
              " 'dial': 13764,\n",
              " 'mtv': 8692,\n",
              " 'devote': 23313,\n",
              " 'over': 2058,\n",
              " 'aziz': 21196,\n",
              " 'mor': 22822,\n",
              " '##am': 3286,\n",
              " 'vocal': 5554,\n",
              " 'stuart': 6990,\n",
              " 'religions': 11822,\n",
              " 'concession': 16427,\n",
              " 'nicolas': 9473,\n",
              " 'enchanted': 22454,\n",
              " 'inflicted': 17303,\n",
              " '##dded': 19520,\n",
              " 'learning': 4083,\n",
              " '馬': 1980,\n",
              " 'prefer': 9544,\n",
              " 'grenades': 21914,\n",
              " 'sea': 2712,\n",
              " 'captives': 21496,\n",
              " 'bundles': 26825,\n",
              " 'و': 1298,\n",
              " 'syria': 7795,\n",
              " 'benevolent': 25786,\n",
              " '[unused957]': 962,\n",
              " 'ivan': 7332,\n",
              " 'sigismund': 26748,\n",
              " '##ably': 8231,\n",
              " 'dorchester': 27252,\n",
              " 'instead': 2612,\n",
              " 'ʼ': 1146,\n",
              " '[unused361]': 366,\n",
              " 'tasked': 13487,\n",
              " '##う': 30174,\n",
              " 'crops': 8765,\n",
              " '1736': 28192,\n",
              " 'jericho': 17309,\n",
              " 'recruited': 8733,\n",
              " 'rumbled': 22257,\n",
              " 'caliphate': 28034,\n",
              " 'chinatown': 22321,\n",
              " 'begged': 12999,\n",
              " '##cha': 7507,\n",
              " 'frontier': 8880,\n",
              " '##မ': 29973,\n",
              " 'cheerleading': 25721,\n",
              " 'flashlight': 15257,\n",
              " 'lc': 29215,\n",
              " 'transfers': 15210,\n",
              " 'superfamily': 24169,\n",
              " 'uphold': 27329,\n",
              " '##pine': 19265,\n",
              " '##ᄎ': 30001,\n",
              " 'detachment': 11009,\n",
              " 'inspect': 22459,\n",
              " '##foot': 13064,\n",
              " 'armistice': 19125,\n",
              " 'reason': 3114,\n",
              " 'dreamer': 24726,\n",
              " 'watford': 21740,\n",
              " 'an': 2019,\n",
              " 'demise': 13614,\n",
              " 'key': 3145,\n",
              " 'ambiguity': 27637,\n",
              " 'mclean': 17602,\n",
              " 'remembrance': 19451,\n",
              " 'coalition': 6056,\n",
              " 'cass': 16220,\n",
              " 'cong': 26478,\n",
              " 'morphological': 24012,\n",
              " 'poor': 3532,\n",
              " '##hole': 11484,\n",
              " 'haste': 24748,\n",
              " 'row': 5216,\n",
              " 'hiking': 13039,\n",
              " 'replied': 3880,\n",
              " 'tiffany': 14381,\n",
              " 'geneva': 9810,\n",
              " 'requested': 7303,\n",
              " 'station': 2276,\n",
              " 'jason': 4463,\n",
              " 'militants': 17671,\n",
              " '##ok': 6559,\n",
              " 'close': 2485,\n",
              " 'greece': 5483,\n",
              " 'two': 2048,\n",
              " '##止': 30413,\n",
              " 'integration': 8346,\n",
              " 'crying': 6933,\n",
              " 'renumbered': 27855,\n",
              " 'generals': 11593,\n",
              " 'selective': 13228,\n",
              " 'abs': 14689,\n",
              " 'ц': 1201,\n",
              " 'spokane': 21878,\n",
              " 'buckley': 17898,\n",
              " 'quickly': 2855,\n",
              " 'organizes': 22013,\n",
              " '##oes': 22504,\n",
              " 'torso': 15190,\n",
              " 'kickoff': 25233,\n",
              " '##tion': 3508,\n",
              " 'shouldn': 5807,\n",
              " 'sunderland': 15518,\n",
              " 'coconut': 16027,\n",
              " 'tia': 27339,\n",
              " 'diverse': 7578,\n",
              " 'building': 2311,\n",
              " 'flexed': 24244,\n",
              " 'trinity': 7124,\n",
              " 'contacts': 10402,\n",
              " '##yuki': 19663,\n",
              " 'kitten': 18401,\n",
              " 'undrafted': 21347,\n",
              " 'genetics': 14471,\n",
              " 'fame': 4476,\n",
              " 'neural': 15756,\n",
              " '##ram': 6444,\n",
              " 'diver': 17856,\n",
              " 'hagen': 24047,\n",
              " 'painful': 9145,\n",
              " 'brendan': 15039,\n",
              " 'genealogical': 29606,\n",
              " 'inaugural': 7725,\n",
              " 'arranged': 5412,\n",
              " 'onto': 3031,\n",
              " 'finishes': 12321,\n",
              " 'spitfire': 28323,\n",
              " '##mouth': 14359,\n",
              " 'ends': 4515,\n",
              " 'inn': 7601,\n",
              " 'darmstadt': 28381,\n",
              " 'opponent': 7116,\n",
              " 'rookie': 8305,\n",
              " '172': 18253,\n",
              " 'icc': 16461,\n",
              " '125': 8732,\n",
              " '##cies': 9243,\n",
              " 'hannibal': 24181,\n",
              " 'chips': 11772,\n",
              " 'infant': 10527,\n",
              " 'carmen': 11425,\n",
              " 'landslide': 20148,\n",
              " 'dixie': 18910,\n",
              " 'attention': 3086,\n",
              " '[unused364]': 369,\n",
              " '##burn': 8022,\n",
              " '[unused466]': 471,\n",
              " 'mb': 16914,\n",
              " 'kept': 2921,\n",
              " 'neue': 27713,\n",
              " 'perpetual': 18870,\n",
              " 'pirate': 11304,\n",
              " 'messina': 27270,\n",
              " 'shiver': 13277,\n",
              " 'accountable': 26771,\n",
              " 'hamas': 22129,\n",
              " 'truce': 18415,\n",
              " 'julius': 10396,\n",
              " 'climate': 4785,\n",
              " '##ony': 16585,\n",
              " 'risky': 19188,\n",
              " 'easier': 6082,\n",
              " 'barons': 21487,\n",
              " 'jumper': 21097,\n",
              " 'θ': 1162,\n",
              " '森': 1882,\n",
              " '1702': 26776,\n",
              " '##uation': 14505,\n",
              " 'newfoundland': 11944,\n",
              " 'yelled': 7581,\n",
              " 'miami': 5631,\n",
              " '##ease': 19500,\n",
              " 'founder': 3910,\n",
              " '##dlow': 27002,\n",
              " 'authorised': 19256,\n",
              " 'html': 16129,\n",
              " 'leaflets': 27306,\n",
              " 'blooded': 26064,\n",
              " 'nothin': 24218,\n",
              " 'roth': 12211,\n",
              " '[unused921]': 926,\n",
              " 'looming': 23430,\n",
              " 'missiles': 10815,\n",
              " 'flux': 19251,\n",
              " 'schwartz': 16756,\n",
              " 'apes': 27754,\n",
              " 'refusing': 11193,\n",
              " 'mbe': 20301,\n",
              " 'singers': 8453,\n",
              " '[unused947]': 952,\n",
              " 'handbook': 14812,\n",
              " '[unused234]': 239,\n",
              " 'directed': 2856,\n",
              " '##kind': 18824,\n",
              " '##ी': 29878,\n",
              " '##ted': 3064,\n",
              " 'neville': 14871,\n",
              " 'galaxies': 21706,\n",
              " 'pink': 5061,\n",
              " '##ড': 29896,\n",
              " 'distinguishing': 20852,\n",
              " 'warring': 28509,\n",
              " 'innsbruck': 28914,\n",
              " '##ensburg': 28812,\n",
              " '404': 24837,\n",
              " 'headwaters': 25345,\n",
              " 'mating': 15100,\n",
              " 'hog': 27589,\n",
              " 'zhao': 15634,\n",
              " 'callum': 15229,\n",
              " 'molina': 25601,\n",
              " 'mathematicians': 29374,\n",
              " 'mccann': 28641,\n",
              " '##aba': 19736,\n",
              " 'association': 2523,\n",
              " 'photographers': 17008,\n",
              " 'athletic': 5188,\n",
              " 'forget': 5293,\n",
              " 'bahia': 22474,\n",
              " '1796': 13885,\n",
              " 'isles': 14195,\n",
              " '##rcle': 21769,\n",
              " '[unused969]': 974,\n",
              " 'pact': 14790,\n",
              " 'barack': 13857,\n",
              " 'civilizations': 24784,\n",
              " 'comic': 5021,\n",
              " 'info': 18558,\n",
              " 'amsterdam': 7598,\n",
              " 'hines': 25445,\n",
              " 'interception': 17385,\n",
              " 'slits': 29199,\n",
              " '##cliff': 27580,\n",
              " 'arabia': 9264,\n",
              " 'baby': 3336,\n",
              " 'domains': 13100,\n",
              " 'environmentally': 25262,\n",
              " 'edited': 5493,\n",
              " 'phillips': 8109,\n",
              " 'thanksgiving': 15060,\n",
              " 'wharf': 16435,\n",
              " 'foley': 17106,\n",
              " '##nn': 10695,\n",
              " 'sobbing': 20040,\n",
              " '##oue': 27872,\n",
              " 'interpretation': 7613,\n",
              " '##nzo': 25650,\n",
              " '[unused603]': 608,\n",
              " 'scooted': 24289,\n",
              " 'kristina': 28802,\n",
              " 'icy': 13580,\n",
              " 'witchcraft': 21599,\n",
              " '[unused849]': 854,\n",
              " '##ex': 10288,\n",
              " '##used': 13901,\n",
              " 'compressor': 29329,\n",
              " 'electronically': 28926,\n",
              " '##point': 8400,\n",
              " '##ky': 4801,\n",
              " 'fray': 25975,\n",
              " 'graf': 22160,\n",
              " 'ashton': 13772,\n",
              " 'diva': 25992,\n",
              " '##far': 14971,\n",
              " 'physiology': 16127,\n",
              " 'seeming': 16064,\n",
              " 'temps': 29023,\n",
              " '##p': 2361,\n",
              " 'monarch': 11590,\n",
              " 'nod': 7293,\n",
              " '##active': 19620,\n",
              " 'merits': 22617,\n",
              " '##erted': 28728,\n",
              " '##than': 21604,\n",
              " 'clover': 25133,\n",
              " 'orthodoxy': 26582,\n",
              " 'coded': 22402,\n",
              " 'brasil': 21133,\n",
              " 'raphael': 12551,\n",
              " 'basic': 3937,\n",
              " '2d': 14134,\n",
              " 'ג': 1243,\n",
              " 'phase': 4403,\n",
              " 'africa': 3088,\n",
              " 'polka': 29499,\n",
              " '[unused100]': 105,\n",
              " '##polis': 17699,\n",
              " '##eries': 28077,\n",
              " 'doe': 18629,\n",
              " '##橋': 30411,\n",
              " '##eral': 21673,\n",
              " 'worried': 5191,\n",
              " 'lovely': 8403,\n",
              " 'thermal': 9829,\n",
              " 'casablanca': 24592,\n",
              " 'rogue': 12406,\n",
              " 'doubled': 11515,\n",
              " 'slalom': 19617,\n",
              " 'existent': 25953,\n",
              " '##inking': 29377,\n",
              " '##alle': 24164,\n",
              " 'ح': 1276,\n",
              " 'reigns': 23481,\n",
              " 'tempered': 22148,\n",
              " 'level': 2504,\n",
              " 'tampa': 9925,\n",
              " 'jai': 17410,\n",
              " 'tanner': 12780,\n",
              " '##ђ': 29758,\n",
              " 'chatting': 22331,\n",
              " '[unused476]': 481,\n",
              " '##rigue': 27611,\n",
              " 'becoming': 3352,\n",
              " 'confront': 14323,\n",
              " 'executions': 22679,\n",
              " 'eight': 2809,\n",
              " 'ipod': 26322,\n",
              " 'lila': 19286,\n",
              " 'brittany': 12686,\n",
              " 'outs': 21100,\n",
              " 'moines': 23286,\n",
              " 'eine': 27665,\n",
              " 'neighbor': 11429,\n",
              " 'invented': 8826,\n",
              " '##heimer': 18826,\n",
              " '##tens': 25808,\n",
              " '##и': 10325,\n",
              " 'cantor': 26519,\n",
              " 'spark': 12125,\n",
              " 'guilty': 5905,\n",
              " 'craftsmen': 25736,\n",
              " 'izzy': 16699,\n",
              " 'torino': 24737,\n",
              " 'university': 2118,\n",
              " 'enters': 8039,\n",
              " '1783': 15331,\n",
              " 'bothered': 11250,\n",
              " 'singles': 3895,\n",
              " '##jit': 18902,\n",
              " 'anal': 20302,\n",
              " 'redistribution': 25707,\n",
              " 'funny': 6057,\n",
              " 'asher': 17243,\n",
              " 'yerevan': 23383,\n",
              " '##ication': 21261,\n",
              " 'tajikistan': 23538,\n",
              " 'energetic': 18114,\n",
              " 'industries': 6088,\n",
              " 'synthesizer': 13564,\n",
              " '[unused502]': 507,\n",
              " 'classrooms': 12463,\n",
              " 'е': 1185,\n",
              " '288': 24841,\n",
              " 'asia': 4021,\n",
              " 'spectacle': 21177,\n",
              " 'guilt': 8056,\n",
              " 'chosen': 4217,\n",
              " 'untouched': 22154,\n",
              " 'yields': 16189,\n",
              " 'lana': 16554,\n",
              " 'nepal': 8222,\n",
              " 'relocated': 7448,\n",
              " 'definitely': 5791,\n",
              " 'ᄑ': 1468,\n",
              " 'insert': 19274,\n",
              " 'leah': 14188,\n",
              " 'homer': 11525,\n",
              " '道': 1957,\n",
              " 'constrained': 27570,\n",
              " 'control': 2491,\n",
              " 'insects': 9728,\n",
              " 'louisa': 15731,\n",
              " '##カ': 30226,\n",
              " 'parents': 3008,\n",
              " 'υ': 1175,\n",
              " '[unused408]': 413,\n",
              " 'leukemia': 25468,\n",
              " 'someplace': 24956,\n",
              " '##ited': 17572,\n",
              " 'ramirez': 15206,\n",
              " '115': 10630,\n",
              " '[unused973]': 978,\n",
              " 'vikings': 13468,\n",
              " '前': 1776,\n",
              " '##resh': 21898,\n",
              " 'damian': 19507,\n",
              " '1659': 28288,\n",
              " 'gamer': 27911,\n",
              " 'heard': 2657,\n",
              " 'ultrasound': 27312,\n",
              " 'instruction': 7899,\n",
              " '1651': 29077,\n",
              " 'baird': 20866,\n",
              " 'reproduce': 21376,\n",
              " 'plasma': 12123,\n",
              " 'exports': 14338,\n",
              " 'agustin': 26889,\n",
              " 'barnes': 9957,\n",
              " 'obeyed': 22665,\n",
              " '##ffie': 29055,\n",
              " '##nig': 25518,\n",
              " 'strides': 22215,\n",
              " '520': 19611,\n",
              " 'duluth': 28218,\n",
              " 'beneficial': 15189,\n",
              " 'finances': 16156,\n",
              " 'spiral': 12313,\n",
              " '》': 1640,\n",
              " '27': 2676,\n",
              " 'motionless': 19917,\n",
              " 'millennium': 10144,\n",
              " '⺩': 1632,\n",
              " '##olic': 23518,\n",
              " '[unused161]': 166,\n",
              " 'kato': 27496,\n",
              " '##dner': 28001,\n",
              " 'kernel': 16293,\n",
              " 'leadership': 4105,\n",
              " '##ments': 8163,\n",
              " 'restrained': 19868,\n",
              " 'տ': 1236,\n",
              " 'inspire': 18708,\n",
              " 'shortstop': 25359,\n",
              " 'freiburg': 22871,\n",
              " 'stuff': 4933,\n",
              " 'cute': 10140,\n",
              " 'because': 2138,\n",
              " 'amir': 18904,\n",
              " 'exported': 15612,\n",
              " 'lara': 13679,\n",
              " 'templar': 27850,\n",
              " 'briefcase': 21793,\n",
              " 'yearning': 29479,\n",
              " 'yong': 18999,\n",
              " '##rst': 12096,\n",
              " '##kley': 22315,\n",
              " 'epstein': 26646,\n",
              " 'wealthiest': 27809,\n",
              " 'dali': 29095,\n",
              " 'glancing': 10167,\n",
              " 'brow': 8306,\n",
              " '##hine': 14014,\n",
              " '##lok': 29027,\n",
              " 'persistent': 14516,\n",
              " '##pu': 14289,\n",
              " '[unused76]': 77,\n",
              " 'bored': 11471,\n",
              " 'pry': 29198,\n",
              " 'qb': 26171,\n",
              " '##ressed': 16119,\n",
              " 'shooters': 28310,\n",
              " '##ivision': 24607,\n",
              " '##wd': 21724,\n",
              " 'volcanoes': 23694,\n",
              " 'mace': 19382,\n",
              " 'entities': 11422,\n",
              " 'seize': 15126,\n",
              " 'campaign': 3049,\n",
              " 'spawning': 27957,\n",
              " 'rutherford': 18472,\n",
              " 'constantinople': 11776,\n",
              " 'worn': 6247,\n",
              " '1886': 6929,\n",
              " 'utilizes': 21852,\n",
              " '##tok': 18715,\n",
              " 'shakespeare': 8101,\n",
              " 'heron': 22914,\n",
              " '##lak': 23451,\n",
              " 'secure': 5851,\n",
              " 'argued': 5275,\n",
              " 'subdued': 20442,\n",
              " 'sparkle': 26831,\n",
              " 'ল': 1373,\n",
              " 'feet': 2519,\n",
              " 'tops': 13284,\n",
              " 'seychelles': 27438,\n",
              " 'caravan': 17184,\n",
              " 'dangers': 16796,\n",
              " 'rake': 26008,\n",
              " 'anti': 3424,\n",
              " 'elegance': 27745,\n",
              " '##ब': 29865,\n",
              " 'comet': 15699,\n",
              " 'skipping': 25978,\n",
              " 'whipped': 12428,\n",
              " '##gard': 13444,\n",
              " 'inlet': 15824,\n",
              " 'awarding': 21467,\n",
              " 'mild': 10256,\n",
              " 'productivity': 15836,\n",
              " '##ا': 25573,\n",
              " 'philippe': 11169,\n",
              " 'clermont': 27956,\n",
              " 'jumping': 8660,\n",
              " '##rso': 25301,\n",
              " 'novelist': 9974,\n",
              " 'tidal': 15065,\n",
              " 'governance': 10615,\n",
              " 'setup': 16437,\n",
              " '1000': 6694,\n",
              " 'owed': 12232,\n",
              " 'fontana': 27182,\n",
              " '##less': 3238,\n",
              " '1947': 4006,\n",
              " 'somalia': 14717,\n",
              " 'forums': 21415,\n",
              " 'stony': 16104,\n",
              " 'plurality': 29018,\n",
              " '##@': 29633,\n",
              " 'nietzsche': 28898,\n",
              " 'braced': 15515,\n",
              " 'dissolve': 21969,\n",
              " 'healing': 8907,\n",
              " '##ysis': 20960,\n",
              " '門': 1968,\n",
              " 'dora': 21008,\n",
              " 'stressed': 13233,\n",
              " 'mark': 2928,\n",
              " '##wyl': 27740,\n",
              " 'affects': 13531,\n",
              " 'loft': 19459,\n",
              " 'owls': 22388,\n",
              " 'feasibility': 24010,\n",
              " '##xt': 18413,\n",
              " 'ben': 3841,\n",
              " 'draught': 25349,\n",
              " 'backseat': 19978,\n",
              " '##香': 30505,\n",
              " 'semantic': 21641,\n",
              " '##lis': 6856,\n",
              " 'teaches': 12011,\n",
              " 'apical': 29197,\n",
              " 'showered': 23973,\n",
              " 'fate': 6580,\n",
              " 'matthew': 5487,\n",
              " 'representation': 6630,\n",
              " '##25': 17788,\n",
              " '##opsis': 22599,\n",
              " 'shi': 11895,\n",
              " '##enay': 27727,\n",
              " 'appearances': 3922,\n",
              " 'strange': 4326,\n",
              " '##শ': 29910,\n",
              " '##ic': 2594,\n",
              " 'orion': 18747,\n",
              " 'seem': 4025,\n",
              " '##oria': 11069,\n",
              " 'boring': 11771,\n",
              " 'clothing': 5929,\n",
              " 'encoded': 12359,\n",
              " 'kari': 27356,\n",
              " 'ivory': 11554,\n",
              " 'mapping': 12375,\n",
              " 'sway': 17812,\n",
              " 'belinda': 24574,\n",
              " '1938': 4260,\n",
              " 'purposely': 24680,\n",
              " 'sharon': 10666,\n",
              " 'agnes': 11166,\n",
              " 'barge': 19398,\n",
              " 'us': 2149,\n",
              " 'identification': 8720,\n",
              " 'uttered': 20947,\n",
              " 'promising': 10015,\n",
              " '##lization': 22731,\n",
              " '##ɐ': 29676,\n",
              " '710': 27671,\n",
              " 'foliage': 19624,\n",
              " 'น': 1413,\n",
              " '[unused64]': 65,\n",
              " '##hl': 7317,\n",
              " '##log': 21197,\n",
              " '##ₖ': 30094,\n",
              " 'feral': 18993,\n",
              " 'upgrades': 18739,\n",
              " 'contribute': 9002,\n",
              " 'holders': 13304,\n",
              " '##nberger': 28825,\n",
              " 'already': 2525,\n",
              " '##ronia': 28140,\n",
              " '##民': 30418,\n",
              " '##star': 14117,\n",
              " 'highs': 26836,\n",
              " 'mason': 6701,\n",
              " 'lesley': 23920,\n",
              " 'loomed': 24358,\n",
              " 'mounds': 19503,\n",
              " 'peter': 2848,\n",
              " 'yemen': 13968,\n",
              " 'ե': 1223,\n",
              " '##dust': 24220,\n",
              " 'bunk': 25277,\n",
              " 'province': 2874,\n",
              " 'help': 2393,\n",
              " 'nairobi': 21124,\n",
              " 'elementary': 4732,\n",
              " 'tiberius': 28411,\n",
              " 'jones': 3557,\n",
              " '##ctic': 13306,\n",
              " 'spiked': 25362,\n",
              " '##resses': 25932,\n",
              " 'refer': 6523,\n",
              " 'seldom': 15839,\n",
              " 'extremely': 5186,\n",
              " 'unincorporated': 7754,\n",
              " '##21': 17465,\n",
              " 'findings': 9556,\n",
              " 'ecology': 13517,\n",
              " '##aco': 22684,\n",
              " '##boat': 11975,\n",
              " '##uke': 15851,\n",
              " 'fauna': 15018,\n",
              " 'umpire': 20887,\n",
              " 'dissolved': 8314,\n",
              " '32nd': 20628,\n",
              " '##lc': 15472,\n",
              " 'presidents': 11274,\n",
              " '##tle': 9286,\n",
              " 'auschwitz': 24363,\n",
              " 'distraction': 14836,\n",
              " '##ove': 21818,\n",
              " 'battery': 6046,\n",
              " '##bha': 22655,\n",
              " 'harder': 6211,\n",
              " 'affect': 7461,\n",
              " 'sept': 17419,\n",
              " 'mixing': 6809,\n",
              " 'admired': 12749,\n",
              " 'tully': 25724,\n",
              " 'vip': 21722,\n",
              " 'effectively': 6464,\n",
              " 'ultimate': 7209,\n",
              " '1979': 3245,\n",
              " '[unused213]': 218,\n",
              " 'tanned': 25973,\n",
              " 'wife': 2564,\n",
              " 'suffering': 6114,\n",
              " 'reg': 19723,\n",
              " 'landing': 4899,\n",
              " 'leland': 27134,\n",
              " 'pajamas': 27621,\n",
              " 'lectured': 19206,\n",
              " '阝': 1970,\n",
              " 'towering': 20314,\n",
              " '##grove': 21525,\n",
              " 'blending': 23293,\n",
              " 'beginnings': 16508,\n",
              " '##ght': 13900,\n",
              " 'google': 8224,\n",
              " 'dismounted': 29580,\n",
              " 'edict': 24754,\n",
              " 'interviews': 7636,\n",
              " '[unused765]': 770,\n",
              " 'poland': 3735,\n",
              " '##mpt': 27718,\n",
              " '##rring': 18807,\n",
              " 'cheyenne': 17778,\n",
              " 'raiding': 23530,\n",
              " 'accompany': 12673,\n",
              " 'inevitably': 21268,\n",
              " 'brick': 5318,\n",
              " '##aud': 19513,\n",
              " 'violinist': 16609,\n",
              " 'warrant': 10943,\n",
              " 'determine': 5646,\n",
              " 'lazy': 13971,\n",
              " '##ginal': 24965,\n",
              " 'mad': 5506,\n",
              " 'auf': 21200,\n",
              " '##meter': 22828,\n",
              " '##ots': 12868,\n",
              " '##tea': 27058,\n",
              " 'gripped': 9672,\n",
              " 'jennifer': 7673,\n",
              " 'rolf': 23381,\n",
              " 'ﬁ': 1984,\n",
              " 'cobra': 16604,\n",
              " 'bombing': 8647,\n",
              " 'periodic': 15861,\n",
              " '##hs': 7898,\n",
              " 'finnish': 6983,\n",
              " 'steel': 3886,\n",
              " '##ndt': 26379,\n",
              " 'maze': 15079,\n",
              " 'ethiopia': 11154,\n",
              " 'aqueduct': 24016,\n",
              " 'clip': 12528,\n",
              " 'h₂o': 24833,\n",
              " '##zic': 27586,\n",
              " 'mildred': 25452,\n",
              " 'aching': 14750,\n",
              " '##chase': 26300,\n",
              " 'celaena': 29252,\n",
              " 'convection': 23849,\n",
              " 'variants': 10176,\n",
              " 'defenders': 12534,\n",
              " 'tails': 17448,\n",
              " 'legally': 10142,\n",
              " 'na': 6583,\n",
              " 'manuscripts': 10485,\n",
              " 'subcontinent': 26125,\n",
              " 'orange': 4589,\n",
              " 'jd': 26219,\n",
              " 'professors': 12655,\n",
              " 'accessories': 16611,\n",
              " '女': 1815,\n",
              " 'alto': 10766,\n",
              " 'generates': 19421,\n",
              " 'cockpit': 13828,\n",
              " 'abraham': 8181,\n",
              " '##nin': 11483,\n",
              " '##gger': 13327,\n",
              " 'discovered': 3603,\n",
              " 'nsa': 23971,\n",
              " 'cyclones': 26069,\n",
              " 'childish': 24282,\n",
              " '1745': 21809,\n",
              " 'magical': 8687,\n",
              " '##zo': 6844,\n",
              " 'fish': 3869,\n",
              " '294': 28135,\n",
              " 'consciously': 24447,\n",
              " 'antonia': 24272,\n",
              " 'kerala': 8935,\n",
              " '##ive': 3512,\n",
              " 'arc': 8115,\n",
              " 'killed': 2730,\n",
              " 'saul': 16897,\n",
              " 'grassy': 22221,\n",
              " '##iam': 25107,\n",
              " '##ก': 29945,\n",
              " 'marguerite': 15334,\n",
              " '##illy': 20577,\n",
              " 'breakers': 24742,\n",
              " 'broadband': 19595,\n",
              " 'indifferent': 24436,\n",
              " 'nebraska': 8506,\n",
              " 'aid': 4681,\n",
              " 'pitt': 15091,\n",
              " '##uate': 20598,\n",
              " '##ধ': 29901,\n",
              " '[unused728]': 733,\n",
              " 'automobiles': 19207,\n",
              " 'bankrupt': 17482,\n",
              " 'downhill': 19448,\n",
              " 'happened': 3047,\n",
              " 'ufo': 24321,\n",
              " '##cous': 27199,\n",
              " 'battered': 17548,\n",
              " '##sten': 16173,\n",
              " 'migrants': 16836,\n",
              " 'baked': 17776,\n",
              " '##date': 13701,\n",
              " 'spec': 28699,\n",
              " '##itors': 27287,\n",
              " 'historic': 3181,\n",
              " 'generating': 11717,\n",
              " 'sofa': 10682,\n",
              " 'ties': 7208,\n",
              " '##arina': 27943,\n",
              " '2009': 2268,\n",
              " 'mph': 5601,\n",
              " '##−': 22543,\n",
              " 'pleased': 7537,\n",
              " '##ator': 8844,\n",
              " '°': 1080,\n",
              " 'scarf': 18982,\n",
              " 'レ': 1734,\n",
              " '##oche': 23555,\n",
              " 'arya': 26140,\n",
              " 'permission': 6656,\n",
              " '##mac': 22911,\n",
              " 'puddle': 25081,\n",
              " '##ل': 23673,\n",
              " '##bone': 14417,\n",
              " '##tite': 23096,\n",
              " '##hmi': 26837,\n",
              " '##郎': 30484,\n",
              " '[unused164]': 169,\n",
              " 'problematic': 18636,\n",
              " '##tus': 5809,\n",
              " '[unused978]': 983,\n",
              " 'scoring': 4577,\n",
              " '##cuting': 29163,\n",
              " 'bad': 2919,\n",
              " '##cke': 19869,\n",
              " '##write': 26373,\n",
              " 'malls': 25943,\n",
              " 'mcguire': 23872,\n",
              " 'yer': 20416,\n",
              " '##oys': 27153,\n",
              " 'get': 2131,\n",
              " 'depressed': 14777,\n",
              " 'fruits': 10962,\n",
              " 'tonight': 3892,\n",
              " 'dragon': 5202,\n",
              " 'lid': 11876,\n",
              " 'gaius': 19564,\n",
              " 'arabian': 13771,\n",
              " 'notion': 9366,\n",
              " 'message': 4471,\n",
              " ']': 1033,\n",
              " 'huskies': 29471,\n",
              " '44th': 26409,\n",
              " '##inus': 13429,\n",
              " 'hugh': 6621,\n",
              " '##ト': 30240,\n",
              " 'sponsor': 10460,\n",
              " 'inhabitants': 4864,\n",
              " '[unused889]': 894,\n",
              " 'papers': 4981,\n",
              " '[unused389]': 394,\n",
              " 'gables': 27008,\n",
              " 'abyss': 22159,\n",
              " '##kra': 22272,\n",
              " 'trait': 18275,\n",
              " 'belarus': 12545,\n",
              " 'enthusiastic': 14727,\n",
              " 'orr': 26914,\n",
              " 'lisa': 7059,\n",
              " '##stra': 20528,\n",
              " 'assistant': 3353,\n",
              " 'studies': 2913,\n",
              " 'ledger': 27106,\n",
              " 'bo': 8945,\n",
              " 'exclusion': 15945,\n",
              " 'nyu': 27935,\n",
              " '##ik': 5480,\n",
              " 'angrily': 14136,\n",
              " '##ssing': 18965,\n",
              " '##hia': 12995,\n",
              " 'wrapped': 5058,\n",
              " 'laborers': 23428,\n",
              " 'liturgical': 19246,\n",
              " 'interceptor': 24727,\n",
              " 'melbourne': 4940,\n",
              " 'periphery': 23275,\n",
              " 'entered': 3133,\n",
              " 'neolithic': 19061,\n",
              " 'tourism': 6813,\n",
              " '##uso': 26658,\n",
              " 'musicians': 5389,\n",
              " '106': 10114,\n",
              " 'chicago': 3190,\n",
              " 'nos': 16839,\n",
              " 'oppressive': 28558,\n",
              " 'determining': 12515,\n",
              " 'marne': 25823,\n",
              " 'tending': 25069,\n",
              " 'chennai': 12249,\n",
              " 'investing': 19920,\n",
              " 'echoing': 17142,\n",
              " 'blitz': 22312,\n",
              " 'first': 2034,\n",
              " '1802': 13515,\n",
              " 'akbar': 20730,\n",
              " ...}"
            ]
          },
          "metadata": {},
          "execution_count": 23
        }
      ],
      "source": [
        "vocab = tok_obj.get_vocab()\n",
        "vocab"
      ],
      "id": "8ccQMcWJMmBZ"
    },
    {
      "cell_type": "code",
      "execution_count": 27,
      "metadata": {
        "id": "QlERHlxAMmBZ",
        "outputId": "2937cf30-72ed-4a53-de1b-c212ace47791",
        "colab": {
          "base_uri": "https://localhost:8080/",
          "height": 141
        }
      },
      "outputs": [
        {
          "output_type": "error",
          "ename": "KeyError",
          "evalue": "'dwindling'",
          "traceback": [
            "\u001b[0;31m---------------------------------------------------------------------------\u001b[0m",
            "\u001b[0;31mKeyError\u001b[0m                                  Traceback (most recent call last)",
            "\u001b[0;32m<ipython-input-27-fb61eabd4994>\u001b[0m in \u001b[0;36m<cell line: 0>\u001b[0;34m()\u001b[0m\n\u001b[0;32m----> 1\u001b[0;31m \u001b[0mvocab\u001b[0m\u001b[0;34m[\u001b[0m\u001b[0;34m'dwindling'\u001b[0m\u001b[0;34m]\u001b[0m\u001b[0;34m\u001b[0m\u001b[0;34m\u001b[0m\u001b[0m\n\u001b[0m",
            "\u001b[0;31mKeyError\u001b[0m: 'dwindling'"
          ]
        }
      ],
      "source": [
        "vocab['dwindling']"
      ],
      "id": "QlERHlxAMmBZ"
    },
    {
      "cell_type": "code",
      "execution_count": 28,
      "metadata": {
        "id": "WGDOT7U8MmBb",
        "outputId": "0885b42c-2a90-448d-ef08-0f61cfc27ee6",
        "colab": {
          "base_uri": "https://localhost:8080/"
        }
      },
      "outputs": [
        {
          "output_type": "execute_result",
          "data": {
            "text/plain": [
              "30522"
            ]
          },
          "metadata": {},
          "execution_count": 28
        }
      ],
      "source": [
        "tok_obj.get_vocab_size()"
      ],
      "id": "WGDOT7U8MmBb"
    },
    {
      "cell_type": "markdown",
      "metadata": {
        "id": "91ba2a34"
      },
      "source": [
        "### 15.5.2 Tokenizer's Model"
      ],
      "id": "91ba2a34"
    },
    {
      "cell_type": "code",
      "execution_count": 29,
      "metadata": {
        "id": "HKs8-ABBMmBb",
        "outputId": "89870ea3-6077-41b0-c08d-c6f7b3b9e5a8",
        "colab": {
          "base_uri": "https://localhost:8080/"
        }
      },
      "outputs": [
        {
          "output_type": "execute_result",
          "data": {
            "text/plain": [
              "WordPiece(unk_token=\"[UNK]\", continuing_subword_prefix=\"##\", max_input_chars_per_word=100, vocab={\"[PAD]\":0, \"[unused0]\":1, \"[unused1]\":2, \"[unused2]\":3, \"[unused3]\":4, \"[unused4]\":5, \"[unused5]\":6, \"[unused6]\":7, \"[unused7]\":8, \"[unused8]\":9, \"[unused9]\":10, \"[unused10]\":11, \"[unused11]\":12, \"[unused12]\":13, \"[unused13]\":14, \"[unused14]\":15, \"[unused15]\":16, \"[unused16]\":17, \"[unused17]\":18, \"[unused18]\":19, \"[unused19]\":20, \"[unused20]\":21, \"[unused21]\":22, \"[unused22]\":23, \"[unused23]\":24, \"[unused24]\":25, \"[unused25]\":26, \"[unused26]\":27, \"[unused27]\":28, \"[unused28]\":29, \"[unused29]\":30, \"[unused30]\":31, \"[unused31]\":32, \"[unused32]\":33, \"[unused33]\":34, \"[unused34]\":35, \"[unused35]\":36, \"[unused36]\":37, \"[unused37]\":38, \"[unused38]\":39, \"[unused39]\":40, \"[unused40]\":41, \"[unused41]\":42, \"[unused42]\":43, \"[unused43]\":44, \"[unused44]\":45, \"[unused45]\":46, \"[unused46]\":47, \"[unused47]\":48, \"[unused48]\":49, \"[unused49]\":50, \"[unused50]\":51, \"[unused51]\":52, \"[unused52]\":53, \"[unused53]\":54, \"[unused54]\":55, \"[unused55]\":56, \"[unused56]\":57, \"[unused57]\":58, \"[unused58]\":59, \"[unused59]\":60, \"[unused60]\":61, \"[unused61]\":62, \"[unused62]\":63, \"[unused63]\":64, \"[unused64]\":65, \"[unused65]\":66, \"[unused66]\":67, \"[unused67]\":68, \"[unused68]\":69, \"[unused69]\":70, \"[unused70]\":71, \"[unused71]\":72, \"[unused72]\":73, \"[unused73]\":74, \"[unused74]\":75, \"[unused75]\":76, \"[unused76]\":77, \"[unused77]\":78, \"[unused78]\":79, \"[unused79]\":80, \"[unused80]\":81, \"[unused81]\":82, \"[unused82]\":83, \"[unused83]\":84, \"[unused84]\":85, \"[unused85]\":86, \"[unused86]\":87, \"[unused87]\":88, \"[unused88]\":89, \"[unused89]\":90, \"[unused90]\":91, \"[unused91]\":92, \"[unused92]\":93, \"[unused93]\":94, \"[unused94]\":95, \"[unused95]\":96, \"[unused96]\":97, \"[unused97]\":98, ...})"
            ]
          },
          "metadata": {},
          "execution_count": 29
        }
      ],
      "source": [
        "tok_obj.model"
      ],
      "id": "HKs8-ABBMmBb"
    },
    {
      "cell_type": "code",
      "execution_count": 30,
      "metadata": {
        "id": "Dja1G5E2MmBb",
        "outputId": "f9e232c2-bbf9-412e-f020-663914b89d90",
        "colab": {
          "base_uri": "https://localhost:8080/"
        }
      },
      "outputs": [
        {
          "output_type": "stream",
          "name": "stdout",
          "text": [
            "['reuters', '-', 'short', '-', 'sellers', ',', 'wall', 'street', \"'\", 's', 'dwindling', 'band', 'of', 'ultra', '-', 'cynics', ',', 'are', 'seeing', 'green', 'again', '.']\n",
            "[26665, 1011, 2460, 1011, 19041, 1010, 2813, 2395, 1005, 1055, None, 2316, 1997, 11087, 1011, None, 1010, 2024, 3773, 2665, 2153, 1012]\n"
          ]
        }
      ],
      "source": [
        "tokens_only = [token[0] for token in tokens]\n",
        "token_ids = [tok_obj.model.token_to_id(token) for token in tokens_only]\n",
        "print(tokens_only)\n",
        "print(token_ids)"
      ],
      "id": "Dja1G5E2MmBb"
    },
    {
      "cell_type": "code",
      "execution_count": 31,
      "metadata": {
        "id": "B-AhhHdvMmBc",
        "outputId": "2f580097-3298-431b-870c-03116541c7df",
        "colab": {
          "base_uri": "https://localhost:8080/"
        }
      },
      "outputs": [
        {
          "output_type": "execute_result",
          "data": {
            "text/plain": [
              "(10, 'dwindling')"
            ]
          },
          "metadata": {},
          "execution_count": 31
        }
      ],
      "source": [
        "missing_id = token_ids.index(None)\n",
        "missing_token = tokens_only[missing_id]\n",
        "missing_id, missing_token"
      ],
      "id": "B-AhhHdvMmBc"
    },
    {
      "cell_type": "code",
      "execution_count": 32,
      "metadata": {
        "id": "pXwaSpixMmBq",
        "outputId": "a1c552c1-12f5-413a-99e5-f6a7fa118f68",
        "colab": {
          "base_uri": "https://localhost:8080/"
        }
      },
      "outputs": [
        {
          "output_type": "execute_result",
          "data": {
            "text/plain": [
              "[(1040, 'd', (0, 1)), (11101, '##wind', (1, 5)), (2989, '##ling', (5, 9))]"
            ]
          },
          "metadata": {},
          "execution_count": 32
        }
      ],
      "source": [
        "tokenized_word = tok_obj.model.tokenize(missing_token)\n",
        "[piece.as_tuple() for piece in tokenized_word]"
      ],
      "id": "pXwaSpixMmBq"
    },
    {
      "cell_type": "code",
      "execution_count": 33,
      "metadata": {
        "id": "_XkgTcc-MmBr",
        "outputId": "897e6c37-c236-4e8f-b394-ea29be2b59f7",
        "colab": {
          "base_uri": "https://localhost:8080/"
        }
      },
      "outputs": [
        {
          "output_type": "stream",
          "name": "stdout",
          "text": [
            "['reuters', '-', 'short', '-', 'sellers', ',', 'wall', 'street', \"'\", 's', 'd', '##wind', '##ling', 'band', 'of', 'ultra', '-', 'cy', '##nic', '##s', ',', 'are', 'seeing', 'green', 'again', '.']\n",
            "[26665, 1011, 2460, 1011, 19041, 1010, 2813, 2395, 1005, 1055, 1040, 11101, 2989, 2316, 1997, 11087, 1011, 22330, 8713, 2015, 1010, 2024, 3773, 2665, 2153, 1012]\n"
          ]
        }
      ],
      "source": [
        "encoded = tok_obj.encode(descriptions[0], add_special_tokens=False)\n",
        "print(encoded.tokens)\n",
        "print(encoded.ids)"
      ],
      "id": "_XkgTcc-MmBr"
    },
    {
      "cell_type": "markdown",
      "metadata": {
        "id": "296731d1"
      },
      "source": [
        "### 15.5.3 Special Tokens"
      ],
      "id": "296731d1"
    },
    {
      "cell_type": "code",
      "execution_count": 34,
      "metadata": {
        "id": "t6tL79gxMmBs",
        "outputId": "d0d29072-15a5-4cc6-f1ae-5cb46639f568",
        "colab": {
          "base_uri": "https://localhost:8080/"
        }
      },
      "outputs": [
        {
          "output_type": "stream",
          "name": "stdout",
          "text": [
            "['[CLS]', 'reuters', '-', 'short', '-', 'sellers', ',', 'wall', 'street', \"'\", 's', 'd', '##wind', '##ling', 'band', 'of', 'ultra', '-', 'cy', '##nic', '##s', ',', 'are', 'seeing', 'green', 'again', '.', '[SEP]']\n"
          ]
        }
      ],
      "source": [
        "post_processor = tok_obj.post_processor\n",
        "post_encoded = post_processor.process(encoded)\n",
        "print(post_encoded.tokens)"
      ],
      "id": "t6tL79gxMmBs"
    },
    {
      "cell_type": "code",
      "execution_count": 35,
      "metadata": {
        "id": "TBRoiVLnMmBt",
        "outputId": "b41cb1d7-50d7-452a-94ad-25db6b5ac692",
        "colab": {
          "base_uri": "https://localhost:8080/"
        }
      },
      "outputs": [
        {
          "output_type": "stream",
          "name": "stdout",
          "text": [
            "['[CLS]', 'reuters', '-', 'short', '-', 'sellers', ',', 'wall', 'street', \"'\", 's', 'd', '##wind', '##ling', 'band', 'of', 'ultra', '-', 'cy', '##nic', '##s', ',', 'are', 'seeing', 'green', 'again', '.', '[SEP]']\n"
          ]
        }
      ],
      "source": [
        "print(tok_obj.encode(descriptions[0]).tokens)"
      ],
      "id": "TBRoiVLnMmBt"
    },
    {
      "cell_type": "markdown",
      "metadata": {
        "id": "deeb46f0"
      },
      "source": [
        "#### 15.5.3.1 `[CLS]`: Classification Token"
      ],
      "id": "deeb46f0"
    },
    {
      "cell_type": "code",
      "execution_count": 36,
      "metadata": {
        "colab": {
          "base_uri": "https://localhost:8080/"
        },
        "id": "21803090",
        "outputId": "4fb13fc0-aff8-4393-9f7a-aef1dc65ccae"
      },
      "outputs": [
        {
          "output_type": "execute_result",
          "data": {
            "text/plain": [
              "('[CLS]', 101)"
            ]
          },
          "metadata": {},
          "execution_count": 36
        }
      ],
      "source": [
        "tokenizer.cls_token, tokenizer.cls_token_id"
      ],
      "id": "21803090"
    },
    {
      "cell_type": "markdown",
      "metadata": {
        "id": "8fb5ea5b"
      },
      "source": [
        "#### 15.5.3.2 `[SEP]`: Separation Token"
      ],
      "id": "8fb5ea5b"
    },
    {
      "cell_type": "code",
      "execution_count": 37,
      "metadata": {
        "colab": {
          "base_uri": "https://localhost:8080/"
        },
        "id": "5f48c2bb",
        "outputId": "75049836-7353-401b-9fe9-b02fd1ee6035"
      },
      "outputs": [
        {
          "output_type": "execute_result",
          "data": {
            "text/plain": [
              "('[SEP]', 102)"
            ]
          },
          "metadata": {},
          "execution_count": 37
        }
      ],
      "source": [
        "tokenizer.sep_token, tokenizer.sep_token_id"
      ],
      "id": "5f48c2bb"
    },
    {
      "cell_type": "code",
      "execution_count": 38,
      "metadata": {
        "colab": {
          "base_uri": "https://localhost:8080/"
        },
        "id": "4a9772d4",
        "outputId": "0159bd41-06c4-404b-8178-c1c509e3fbd0"
      },
      "outputs": [
        {
          "output_type": "stream",
          "name": "stdout",
          "text": [
            "['[CLS]', 'reuters', '-', 'short', '-', 'sellers', ',', 'wall', 'street', \"'\", 's', 'd', '##wind', '##ling', 'band', 'of', 'ultra', '-', 'cy', '##nic', '##s', ',', 'are', 'seeing', 'green', 'again', '.', '[SEP]', 'reuters', '-', 'private', 'investment', 'firm', 'carly', '##le', 'group', ',', 'which', 'has', 'a', 'reputation', 'for', 'making', 'well', '-', 'timed', 'and', 'occasionally', 'controversial', 'plays', 'in', 'the', 'defense', 'industry', ',', 'has', 'quietly', 'placed', 'its', 'bets', 'on', 'another', 'part', 'of', 'the', 'market', '.', '[SEP]']\n"
          ]
        }
      ],
      "source": [
        "print(tok_obj.encode(*descriptions[:2]).tokens)"
      ],
      "id": "4a9772d4"
    },
    {
      "cell_type": "markdown",
      "metadata": {
        "id": "eedf8f81"
      },
      "source": [
        "#### 15.5.3.3 `[UNK]`: Unknown Token"
      ],
      "id": "eedf8f81"
    },
    {
      "cell_type": "code",
      "execution_count": 39,
      "metadata": {
        "colab": {
          "base_uri": "https://localhost:8080/"
        },
        "id": "03e2c584",
        "outputId": "bf9595d1-06a2-4d86-f09a-114fc901d210"
      },
      "outputs": [
        {
          "output_type": "execute_result",
          "data": {
            "text/plain": [
              "('[UNK]', 100)"
            ]
          },
          "metadata": {},
          "execution_count": 39
        }
      ],
      "source": [
        "tokenizer.unk_token, tokenizer.unk_token_id"
      ],
      "id": "03e2c584"
    },
    {
      "cell_type": "markdown",
      "metadata": {
        "id": "e9dc0b2c"
      },
      "source": [
        "#### 15.5.3.4 `[PAD]`: Padding Token"
      ],
      "id": "e9dc0b2c"
    },
    {
      "cell_type": "code",
      "execution_count": 40,
      "metadata": {
        "id": "8QzihQfUMmBw",
        "outputId": "f1da39eb-d9af-425f-ab78-fc0925d575ef",
        "colab": {
          "base_uri": "https://localhost:8080/"
        }
      },
      "outputs": [
        {
          "output_type": "execute_result",
          "data": {
            "text/plain": [
              "('[PAD]', 0)"
            ]
          },
          "metadata": {},
          "execution_count": 40
        }
      ],
      "source": [
        "tokenizer.pad_token, tokenizer.pad_token_id"
      ],
      "id": "8QzihQfUMmBw"
    },
    {
      "cell_type": "code",
      "execution_count": 41,
      "metadata": {
        "id": "uquW35dmMmBx",
        "outputId": "c742497f-0a9d-46da-ab5d-a9eaa5e8a729",
        "colab": {
          "base_uri": "https://localhost:8080/"
        }
      },
      "outputs": [
        {
          "output_type": "execute_result",
          "data": {
            "text/plain": [
              "[28, 41, 38, 34]"
            ]
          },
          "metadata": {},
          "execution_count": 41
        }
      ],
      "source": [
        "[len(seq) for seq in tokenizer(descriptions)['input_ids']]"
      ],
      "id": "uquW35dmMmBx"
    },
    {
      "cell_type": "code",
      "execution_count": 42,
      "metadata": {
        "id": "AQ37bFUEMmBx",
        "outputId": "171090c0-6f4f-489f-f525-a92853208ea5",
        "colab": {
          "base_uri": "https://localhost:8080/"
        }
      },
      "outputs": [
        {
          "output_type": "execute_result",
          "data": {
            "text/plain": [
              "tensor([[  101, 26665,  1011,  2460,  1011, 19041,  1010,  2813,  2395,  1005,\n",
              "          1055,  1040, 11101,  2989,  2316,  1997, 11087,  1011, 22330,  8713,\n",
              "          2015,  1010,  2024,  3773,  2665,  2153,  1012,   102,     0,     0,\n",
              "             0,     0,     0,     0,     0,     0,     0,     0,     0,     0,\n",
              "             0],\n",
              "        [  101, 26665,  1011,  2797,  5211,  3813, 18431,  2571,  2177,  1010,\n",
              "          2029,  2038,  1037,  5891,  2005,  2437,  2092,  1011, 22313,  1998,\n",
              "          5681,  6801,  3248,  1999,  1996,  3639,  3068,  1010,  2038,  5168,\n",
              "          2872,  2049, 29475,  2006,  2178,  2112,  1997,  1996,  3006,  1012,\n",
              "           102],\n",
              "        [  101, 26665,  1011, 23990, 13587,  7597,  4606, 15508,  2055,  1996,\n",
              "          4610,  1998,  1996, 17680,  2005, 16565,  2024,  3517,  2000,  6865,\n",
              "          2058,  1996,  4518,  3006,  2279,  2733,  2076,  1996,  5995,  1997,\n",
              "          1996,  2621,  2079,  6392,  6824,  2015,  1012,   102,     0,     0,\n",
              "             0],\n",
              "        [  101, 26665,  1011,  4614,  2031, 12705,  3514,  9167,  6223,  2013,\n",
              "          1996,  2364, 13117,  1999,  2670,  5712,  2044,  4454,  3662,  1037,\n",
              "          8443,  8396,  2071,  4894,  6502,  1010,  2019,  3514,  2880,  2056,\n",
              "          2006,  5095,  1012,   102,     0,     0,     0,     0,     0,     0,\n",
              "             0]])"
            ]
          },
          "metadata": {},
          "execution_count": 42
        }
      ],
      "source": [
        "padded_token_ids = tokenizer(descriptions, padding=True, return_tensors='pt')['input_ids']\n",
        "padded_token_ids"
      ],
      "id": "AQ37bFUEMmBx"
    },
    {
      "cell_type": "markdown",
      "metadata": {
        "id": "41c30064"
      },
      "source": [
        "### 15.5.4 Truncation"
      ],
      "id": "41c30064"
    },
    {
      "cell_type": "code",
      "execution_count": 43,
      "metadata": {
        "id": "95e0ec0f",
        "outputId": "5595b35f-6318-4194-81b6-6eb7388ad8af",
        "colab": {
          "base_uri": "https://localhost:8080/"
        }
      },
      "outputs": [
        {
          "output_type": "execute_result",
          "data": {
            "text/plain": [
              "(510, 512)"
            ]
          },
          "metadata": {},
          "execution_count": 43
        }
      ],
      "source": [
        "tokenizer.max_len_single_sentence, tokenizer.model_max_length"
      ],
      "id": "95e0ec0f"
    },
    {
      "cell_type": "markdown",
      "metadata": {
        "id": "59092fde"
      },
      "source": [
        "## 15.6 Embeddings"
      ],
      "id": "59092fde"
    },
    {
      "cell_type": "code",
      "execution_count": 44,
      "metadata": {
        "colab": {
          "base_uri": "https://localhost:8080/"
        },
        "id": "97f75748",
        "outputId": "4105ea1f-d599-494f-eadf-c2f208e5909d"
      },
      "outputs": [
        {
          "output_type": "execute_result",
          "data": {
            "text/plain": [
              "Embedding(30522, 50)"
            ]
          },
          "metadata": {},
          "execution_count": 44
        }
      ],
      "source": [
        "import torch.nn as nn\n",
        "\n",
        "emb_dims = 50\n",
        "embeddings = nn.Embedding(len(vocab), emb_dims)\n",
        "embeddings"
      ],
      "id": "97f75748"
    },
    {
      "cell_type": "code",
      "execution_count": 45,
      "metadata": {
        "colab": {
          "base_uri": "https://localhost:8080/"
        },
        "id": "553745ac",
        "outputId": "43bd1653-bf29-4fa0-eeaf-0c4db2a2bbf3"
      },
      "outputs": [
        {
          "output_type": "execute_result",
          "data": {
            "text/plain": [
              "(tensor([26665]),\n",
              " tensor([[ 1.3360,  0.1016,  1.8749, -0.8941, -1.4914, -1.7019,  1.1315, -0.0853,\n",
              "          -1.3006,  0.7707, -0.2601, -0.1850, -1.1706,  0.8702, -0.5045,  0.7813,\n",
              "           0.8897, -0.2054, -0.1245,  0.5188, -0.4332,  0.1100, -1.1622,  0.1341,\n",
              "          -0.0938,  1.2634,  0.1181,  0.2270,  0.8923, -0.8769, -0.7068, -0.4941,\n",
              "           1.6205, -0.1187,  0.5508,  0.0232,  0.3571,  0.2845,  0.4467,  1.3224,\n",
              "           0.3107, -1.0648, -1.1099,  0.8433, -0.1694,  2.5043,  0.5511, -1.3663,\n",
              "           0.6359, -0.5316]], grad_fn=<EmbeddingBackward0>))"
            ]
          },
          "metadata": {},
          "execution_count": 45
        }
      ],
      "source": [
        "import torch\n",
        "\n",
        "idx = torch.as_tensor([vocab['reuters']])\n",
        "idx, embeddings(idx)"
      ],
      "id": "553745ac"
    },
    {
      "cell_type": "code",
      "execution_count": 46,
      "metadata": {
        "colab": {
          "base_uri": "https://localhost:8080/"
        },
        "id": "24bd2513",
        "outputId": "b522273b-c0a4-45d3-83f7-954139f5f54b"
      },
      "outputs": [
        {
          "output_type": "execute_result",
          "data": {
            "text/plain": [
              "tensor([[ 1.3360,  0.1016,  1.8749, -0.8941, -1.4914, -1.7019,  1.1315, -0.0853,\n",
              "         -1.3006,  0.7707, -0.2601, -0.1850, -1.1706,  0.8702, -0.5045,  0.7813,\n",
              "          0.8897, -0.2054, -0.1245,  0.5188, -0.4332,  0.1100, -1.1622,  0.1341,\n",
              "         -0.0938,  1.2634,  0.1181,  0.2270,  0.8923, -0.8769, -0.7068, -0.4941,\n",
              "          1.6205, -0.1187,  0.5508,  0.0232,  0.3571,  0.2845,  0.4467,  1.3224,\n",
              "          0.3107, -1.0648, -1.1099,  0.8433, -0.1694,  2.5043,  0.5511, -1.3663,\n",
              "          0.6359, -0.5316]], grad_fn=<IndexBackward0>)"
            ]
          },
          "metadata": {},
          "execution_count": 46
        }
      ],
      "source": [
        "embeddings.weight[idx]"
      ],
      "id": "24bd2513"
    },
    {
      "cell_type": "markdown",
      "metadata": {
        "id": "dc731723"
      },
      "source": [
        "### 15.6.1 Word2Vec"
      ],
      "id": "dc731723"
    },
    {
      "cell_type": "markdown",
      "metadata": {
        "id": "3fd37adf"
      },
      "source": [
        "### 15.6.2 Embedding Arithmetic\n",
        "\n",
        "**KING - MAN + WOMAN = ?**\n",
        "\n",
        "**KING - MAN + WOMAN = QUEEN**\n",
        "\n",
        "![](https://raw.githubusercontent.com/dvgodoy/assets/main/PyTorchInPractice/images/ch13/embed_arithmetic.png)"
      ],
      "id": "3fd37adf"
    },
    {
      "cell_type": "markdown",
      "metadata": {
        "id": "a0da8bb0"
      },
      "source": [
        "**KING - MAN + WOMAN ~ KING**\n",
        "\n",
        "![](https://raw.githubusercontent.com/dvgodoy/assets/main/PyTorchInPractice/images/ch13/synthetic_queen.png)"
      ],
      "id": "a0da8bb0"
    },
    {
      "cell_type": "markdown",
      "metadata": {
        "id": "2bee9d13"
      },
      "source": [
        "### 15.6.3 Global Vectors (GloVe)"
      ],
      "id": "2bee9d13"
    },
    {
      "cell_type": "code",
      "execution_count": 47,
      "metadata": {
        "id": "mjTuIoYOMmB2",
        "colab": {
          "base_uri": "https://localhost:8080/"
        },
        "outputId": "71542a9d-e824-4a7a-980f-aa2050d605dd"
      },
      "outputs": [
        {
          "output_type": "stream",
          "name": "stdout",
          "text": [
            "[==================================================] 100.0% 66.0/66.0MB downloaded\n"
          ]
        }
      ],
      "source": [
        "from gensim import downloader\n",
        "\n",
        "vec = downloader.load('glove-wiki-gigaword-50')"
      ],
      "id": "mjTuIoYOMmB2"
    },
    {
      "cell_type": "code",
      "execution_count": 48,
      "metadata": {
        "colab": {
          "base_uri": "https://localhost:8080/"
        },
        "id": "f31dc5dc",
        "outputId": "d8c2c626-f75a-42d8-a2ef-3d117a532ff7"
      },
      "outputs": [
        {
          "output_type": "execute_result",
          "data": {
            "text/plain": [
              "(array([[ 0.418   ,  0.24968 , -0.41242 , ..., -0.18411 , -0.11514 ,\n",
              "         -0.78581 ],\n",
              "        [ 0.013441,  0.23682 , -0.16899 , ..., -0.56657 ,  0.044691,\n",
              "          0.30392 ],\n",
              "        [ 0.15164 ,  0.30177 , -0.16763 , ..., -0.35652 ,  0.016413,\n",
              "          0.10216 ],\n",
              "        ...,\n",
              "        [-0.51181 ,  0.058706,  1.0913  , ..., -0.25003 , -1.125   ,\n",
              "          1.5863  ],\n",
              "        [-0.75898 , -0.47426 ,  0.4737  , ...,  0.78954 , -0.014116,\n",
              "          0.6448  ],\n",
              "        [ 0.072617, -0.51393 ,  0.4728  , ..., -0.18907 , -0.59021 ,\n",
              "          0.55559 ]], dtype=float32),\n",
              " (400000, 50))"
            ]
          },
          "metadata": {},
          "execution_count": 48
        }
      ],
      "source": [
        "vec.vectors, vec.vectors.shape"
      ],
      "id": "f31dc5dc"
    },
    {
      "cell_type": "code",
      "execution_count": 49,
      "metadata": {
        "colab": {
          "base_uri": "https://localhost:8080/"
        },
        "id": "601ace49",
        "outputId": "a0a4db87-3f8e-415a-eb90-3318700afe23"
      },
      "outputs": [
        {
          "output_type": "execute_result",
          "data": {
            "text/plain": [
              "array([-0.13741  , -0.25495  ,  1.8853   ,  0.1476   ,  0.63859  ,\n",
              "       -0.67678  , -1.1622   , -0.21528  ,  0.2598   , -0.52879  ,\n",
              "        0.66678  , -0.76747  , -0.52731  ,  0.06657  ,  0.076613 ,\n",
              "        0.32743  , -0.80251  , -0.4955   , -0.37393  ,  0.11261  ,\n",
              "        1.1671   ,  1.1508   ,  0.61801  ,  0.079467 ,  0.1269   ,\n",
              "       -0.072447 , -1.2037   , -0.24622  , -0.77076  ,  0.76699  ,\n",
              "        1.2745   , -0.12898  ,  0.99892  , -0.26733  , -0.57542  ,\n",
              "       -1.0151   , -0.14278  , -0.43824  ,  0.76577  , -0.0087715,\n",
              "        1.2848   ,  0.0030819,  0.1186   , -0.38817  , -0.23516  ,\n",
              "       -0.92094  , -0.51644  ,  1.5083   ,  0.36456  ,  0.59912  ],\n",
              "      dtype=float32)"
            ]
          },
          "metadata": {},
          "execution_count": 49
        }
      ],
      "source": [
        "vec['reuters']"
      ],
      "id": "601ace49"
    },
    {
      "cell_type": "code",
      "execution_count": 50,
      "metadata": {
        "id": "22HTPk1DMmB2",
        "outputId": "0f10855b-697f-4664-b536-795b84aefc4b",
        "colab": {
          "base_uri": "https://localhost:8080/"
        }
      },
      "outputs": [
        {
          "output_type": "execute_result",
          "data": {
            "text/plain": [
              "OrderedDict([('weight',\n",
              "              tensor([[ 0.4180,  0.2497, -0.4124,  ..., -0.1841, -0.1151, -0.7858],\n",
              "                      [ 0.0134,  0.2368, -0.1690,  ..., -0.5666,  0.0447,  0.3039],\n",
              "                      [ 0.1516,  0.3018, -0.1676,  ..., -0.3565,  0.0164,  0.1022],\n",
              "                      ...,\n",
              "                      [-0.5118,  0.0587,  1.0913,  ..., -0.2500, -1.1250,  1.5863],\n",
              "                      [-0.7590, -0.4743,  0.4737,  ...,  0.7895, -0.0141,  0.6448],\n",
              "                      [ 0.0726, -0.5139,  0.4728,  ..., -0.1891, -0.5902,  0.5556]]))])"
            ]
          },
          "metadata": {},
          "execution_count": 50
        }
      ],
      "source": [
        "import torch.nn as nn\n",
        "\n",
        "tensor_glove = torch.as_tensor(vec.vectors).float()\n",
        "embedding = nn.Embedding.from_pretrained(tensor_glove)\n",
        "embedding.state_dict()"
      ],
      "id": "22HTPk1DMmB2"
    },
    {
      "cell_type": "code",
      "execution_count": 51,
      "metadata": {
        "colab": {
          "base_uri": "https://localhost:8080/"
        },
        "id": "ebdd6588",
        "outputId": "b93256b8-8563-4800-80ca-890e938ca82d"
      },
      "outputs": [
        {
          "output_type": "execute_result",
          "data": {
            "text/plain": [
              "(10851, 'reuters')"
            ]
          },
          "metadata": {},
          "execution_count": 51
        }
      ],
      "source": [
        "idx = vec.key_to_index['reuters']\n",
        "token = vec.index_to_key[idx]\n",
        "idx, token"
      ],
      "id": "ebdd6588"
    },
    {
      "cell_type": "code",
      "execution_count": 52,
      "metadata": {
        "colab": {
          "base_uri": "https://localhost:8080/",
          "height": 141
        },
        "id": "d9da37f2",
        "outputId": "91cbc94e-e367-4339-833d-3820a6a0f122"
      },
      "outputs": [
        {
          "output_type": "error",
          "ename": "KeyError",
          "evalue": "'zzzzz'",
          "traceback": [
            "\u001b[0;31m---------------------------------------------------------------------------\u001b[0m",
            "\u001b[0;31mKeyError\u001b[0m                                  Traceback (most recent call last)",
            "\u001b[0;32m<ipython-input-52-a62273797861>\u001b[0m in \u001b[0;36m<cell line: 0>\u001b[0;34m()\u001b[0m\n\u001b[0;32m----> 1\u001b[0;31m \u001b[0mvec\u001b[0m\u001b[0;34m.\u001b[0m\u001b[0mkey_to_index\u001b[0m\u001b[0;34m[\u001b[0m\u001b[0;34m'zzzzz'\u001b[0m\u001b[0;34m]\u001b[0m\u001b[0;34m\u001b[0m\u001b[0;34m\u001b[0m\u001b[0m\n\u001b[0m",
            "\u001b[0;31mKeyError\u001b[0m: 'zzzzz'"
          ]
        }
      ],
      "source": [
        "vec.key_to_index['zzzzz']"
      ],
      "id": "d9da37f2"
    },
    {
      "cell_type": "code",
      "execution_count": 53,
      "metadata": {
        "id": "WOQ0TxPkMmB4"
      },
      "outputs": [],
      "source": [
        "def encode_str(key_to_index, tokens, unk_token=-1):\n",
        "    token_ids = [key_to_index.get(token, unk_token) for token in tokens]\n",
        "    return token_ids"
      ],
      "id": "WOQ0TxPkMmB4"
    },
    {
      "cell_type": "code",
      "execution_count": 54,
      "metadata": {
        "id": "sGZjV-qqMmB4",
        "outputId": "2e8cdd15-5d26-44fc-e438-a2f1c0ee69ec",
        "colab": {
          "base_uri": "https://localhost:8080/"
        }
      },
      "outputs": [
        {
          "output_type": "execute_result",
          "data": {
            "text/plain": [
              "[10851, -1]"
            ]
          },
          "metadata": {},
          "execution_count": 54
        }
      ],
      "source": [
        "some_ids = encode_str(vec.key_to_index, ['reuters', 'zzzzz'])\n",
        "some_ids"
      ],
      "id": "sGZjV-qqMmB4"
    },
    {
      "cell_type": "code",
      "execution_count": 55,
      "metadata": {
        "id": "95P5FCXDMmB5"
      },
      "outputs": [],
      "source": [
        "def get_embeddings(embedding, token_ids):\n",
        "    valid_ids = torch.as_tensor([token_id for token_id in token_ids if token_id >= 0])\n",
        "    embedded_tokens = embedding(valid_ids)\n",
        "    return embedded_tokens"
      ],
      "id": "95P5FCXDMmB5"
    },
    {
      "cell_type": "code",
      "execution_count": 57,
      "metadata": {
        "id": "diAwkQa8MmB5",
        "outputId": "6294f3b8-7194-48e1-a7f9-82b5314b87e1",
        "colab": {
          "base_uri": "https://localhost:8080/"
        }
      },
      "outputs": [
        {
          "output_type": "execute_result",
          "data": {
            "text/plain": [
              "tensor([[-0.1374, -0.2549,  1.8853,  0.1476,  0.6386, -0.6768, -1.1622, -0.2153,\n",
              "          0.2598, -0.5288,  0.6668, -0.7675, -0.5273,  0.0666,  0.0766,  0.3274,\n",
              "         -0.8025, -0.4955, -0.3739,  0.1126,  1.1671,  1.1508,  0.6180,  0.0795,\n",
              "          0.1269, -0.0724, -1.2037, -0.2462, -0.7708,  0.7670,  1.2745, -0.1290,\n",
              "          0.9989, -0.2673, -0.5754, -1.0151, -0.1428, -0.4382,  0.7658, -0.0088,\n",
              "          1.2848,  0.0031,  0.1186, -0.3882, -0.2352, -0.9209, -0.5164,  1.5083,\n",
              "          0.3646,  0.5991]])"
            ]
          },
          "metadata": {},
          "execution_count": 57
        }
      ],
      "source": [
        "get_embeddings(embedding, some_ids)"
      ],
      "id": "diAwkQa8MmB5"
    },
    {
      "cell_type": "code",
      "execution_count": 58,
      "metadata": {
        "id": "OM-Q2g__MmB5"
      },
      "outputs": [],
      "source": [
        "def func_builder(vec):\n",
        "    tensor_glove = torch.as_tensor(vec.vectors).float()\n",
        "    embedding = nn.Embedding.from_pretrained(tensor_glove)\n",
        "\n",
        "    def get_vecs_by_tokens(tokens):\n",
        "        token_ids = encode_str(vec.key_to_index, tokens)\n",
        "        embedded_tokens = get_embeddings(embedding, token_ids)\n",
        "        return embedded_tokens\n",
        "\n",
        "    return get_vecs_by_tokens\n",
        "\n",
        "get_vecs_by_tokens = func_builder(vec)"
      ],
      "id": "OM-Q2g__MmB5"
    },
    {
      "cell_type": "code",
      "execution_count": 59,
      "metadata": {
        "id": "aUMmGkHqMmB5",
        "outputId": "ba1f4e6f-178d-4187-c4b5-cf741774bace",
        "colab": {
          "base_uri": "https://localhost:8080/"
        }
      },
      "outputs": [
        {
          "output_type": "execute_result",
          "data": {
            "text/plain": [
              "['reuters',\n",
              " 'short',\n",
              " 'sellers',\n",
              " 'wall',\n",
              " 'street',\n",
              " 'dwindling',\n",
              " 'band',\n",
              " 'of',\n",
              " 'ultra',\n",
              " 'cynics',\n",
              " 'are',\n",
              " 'seeing',\n",
              " 'green',\n",
              " 'again']"
            ]
          },
          "metadata": {},
          "execution_count": 59
        }
      ],
      "source": [
        "from gensim.utils import simple_preprocess\n",
        "tokens = simple_preprocess(descriptions[0])\n",
        "tokens"
      ],
      "id": "aUMmGkHqMmB5"
    },
    {
      "cell_type": "code",
      "execution_count": 60,
      "metadata": {
        "id": "WGloDB82MmB5",
        "outputId": "6cea786a-273a-41c5-a016-0adf4820f747",
        "colab": {
          "base_uri": "https://localhost:8080/"
        }
      },
      "outputs": [
        {
          "output_type": "execute_result",
          "data": {
            "text/plain": [
              "torch.Size([14, 50])"
            ]
          },
          "metadata": {},
          "execution_count": 60
        }
      ],
      "source": [
        "embedded_tokens = get_vecs_by_tokens(tokens)\n",
        "embedded_tokens.shape"
      ],
      "id": "WGloDB82MmB5"
    },
    {
      "cell_type": "markdown",
      "metadata": {
        "id": "9c5cd348"
      },
      "source": [
        "## 15.7 Vector Databases"
      ],
      "id": "9c5cd348"
    },
    {
      "cell_type": "markdown",
      "metadata": {
        "id": "676af97f"
      },
      "source": [
        "### 15.7.1 ChromaDB\n",
        "\n",
        "[ChromaDB](https://docs.trychroma.com/getting-started) is an open-source embedding database that allows you store embeddings and metadata, embed documents and queries, and search embeddings.\n",
        "\n",
        "In this example, we'll be storing a collection of GloVe embeddings for the AG News Dataset on a persisted database, and then will query the collection to search for similar items.\n",
        "\n",
        "Creating a database in ChromaDB follows a short sequence of steps:\n",
        "- getting a client, which we can configure to persist the data\n",
        "- creating a collection that will store the embeddings and metadata - you can think of it as a folder or table\n",
        "- adding documents (to be embedded by ChromaDB itself) or embeddings (as we're doing here) to the collection, along with any corresponding metadata you may wish to add\n",
        "- querying the collection to get the most similar results back\n",
        "\n",
        "Let's get a client and define `agnews_db` as the folder our collection must be saved to:"
      ],
      "id": "676af97f"
    },
    {
      "cell_type": "code",
      "execution_count": 61,
      "metadata": {
        "id": "3efc931f"
      },
      "outputs": [],
      "source": [
        "import chromadb\n",
        "\n",
        "client = chromadb.PersistentClient(path=\"./agnews_db\")"
      ],
      "id": "3efc931f"
    },
    {
      "cell_type": "code",
      "execution_count": 62,
      "metadata": {
        "id": "6b2b4719"
      },
      "outputs": [],
      "source": [
        "collection = client.create_collection(\"agnews_collection\")"
      ],
      "id": "6b2b4719"
    },
    {
      "cell_type": "markdown",
      "metadata": {
        "id": "2088f815"
      },
      "source": [
        "![](https://raw.githubusercontent.com/dvgodoy/assets/main/PyTorchInPractice/images/ch13/vector_db.png)"
      ],
      "id": "2088f815"
    },
    {
      "cell_type": "code",
      "execution_count": 63,
      "metadata": {
        "id": "a6d-b382MmB8"
      },
      "outputs": [],
      "source": [
        "def tokenize_batch(sentences, tokenizer=None):\n",
        "    if tokenizer is None:\n",
        "        tokenizer = simple_preprocess\n",
        "\n",
        "    return [tokenizer(s) for s in sentences]\n",
        "\n",
        "def get_bag_of_embeddings(tokens):\n",
        "    embeddings = torch.cat([get_vecs_by_tokens(s).mean(axis=0).unsqueeze(0) for s in tokens], dim=0)\n",
        "    return embeddings"
      ],
      "id": "a6d-b382MmB8"
    },
    {
      "cell_type": "code",
      "execution_count": 64,
      "metadata": {
        "id": "7b04a64d"
      },
      "outputs": [],
      "source": [
        "from torch.utils.data import DataLoader\n",
        "\n",
        "batch_size = 32\n",
        "unshuffled_dl = DataLoader(dataset=datasets['train'], batch_size=batch_size, shuffle=False)\n",
        "\n",
        "for i, batch in enumerate(unshuffled_dl):\n",
        "    labels, sentences = batch['topic'], batch['news']\n",
        "    tokens = tokenize_batch(sentences)\n",
        "    embeddings = get_bag_of_embeddings(tokens)\n",
        "    ids = [f'{i:06}' for i in np.arange(i*batch_size, i*batch_size+len(sentences))]\n",
        "\n",
        "    collection.add(embeddings=embeddings.tolist(),\n",
        "                   documents=sentences,\n",
        "                   metadatas=[{'label': v} for v in labels.tolist()],\n",
        "                   ids=ids)\n",
        "\n",
        "    if i == 300: # roughly 10k docs\n",
        "        break"
      ],
      "id": "7b04a64d"
    },
    {
      "cell_type": "code",
      "execution_count": 65,
      "metadata": {
        "colab": {
          "base_uri": "https://localhost:8080/"
        },
        "id": "ffddd9cc",
        "outputId": "18bfbb49-d86b-4d75-e393-6f82b524d052"
      },
      "outputs": [
        {
          "output_type": "execute_result",
          "data": {
            "text/plain": [
              "9632"
            ]
          },
          "metadata": {},
          "execution_count": 65
        }
      ],
      "source": [
        "collection.count()"
      ],
      "id": "ffddd9cc"
    },
    {
      "cell_type": "markdown",
      "metadata": {
        "id": "b119f4b8"
      },
      "source": [
        "### 15.7.2 Similarity Search"
      ],
      "id": "b119f4b8"
    },
    {
      "cell_type": "code",
      "execution_count": 66,
      "metadata": {
        "colab": {
          "base_uri": "https://localhost:8080/"
        },
        "id": "879e7f65",
        "outputId": "832e2eb8-7804-4ffe-c97c-abb96070087b"
      },
      "outputs": [
        {
          "output_type": "execute_result",
          "data": {
            "text/plain": [
              "tensor([ 4.0827e-01,  7.9920e-02,  3.1115e-01,  1.8721e-01, -4.7369e-02,\n",
              "         3.3698e-01, -5.0617e-01, -3.6810e-02,  2.6068e-01, -1.2847e-01,\n",
              "         2.2948e-01, -5.9424e-02, -3.3787e-01,  2.9188e-02,  2.6071e-01,\n",
              "         2.0179e-01, -7.7526e-02,  3.3718e-01, -5.2526e-01, -2.7158e-01,\n",
              "         3.7156e-01, -1.0214e-01, -1.1645e-01, -2.9637e-01,  7.9672e-02,\n",
              "        -1.6904e+00, -4.1659e-02,  1.0523e-01,  2.8247e-01,  2.9835e-03,\n",
              "         3.0708e+00, -1.5180e-01, -1.4941e-01, -2.3085e-01,  2.1777e-01,\n",
              "        -4.0086e-02,  2.0281e-01,  8.9309e-02,  5.5554e-02,  2.6830e-02,\n",
              "        -2.9215e-01, -1.5104e-01,  2.6449e-01, -1.0034e-01,  1.4842e-01,\n",
              "         8.8036e-02, -2.3717e-01,  3.1029e-01,  1.2701e-02, -1.4513e-01])"
            ]
          },
          "metadata": {},
          "execution_count": 66
        }
      ],
      "source": [
        "query_sentence = 'The company running the Japanese nuclear plant hit by a fatal accident is to close its reactors for safety checks.'\n",
        "query_tokens = tokenize_batch([query_sentence])\n",
        "query_embeddings = get_bag_of_embeddings(query_tokens)[0]\n",
        "\n",
        "query_embeddings"
      ],
      "id": "879e7f65"
    },
    {
      "cell_type": "markdown",
      "metadata": {
        "id": "e557588c"
      },
      "source": [
        "![](https://raw.githubusercontent.com/dvgodoy/assets/main/PyTorchInPractice/images/ch13/query_db.png)"
      ],
      "id": "e557588c"
    },
    {
      "cell_type": "code",
      "execution_count": 67,
      "metadata": {
        "colab": {
          "base_uri": "https://localhost:8080/"
        },
        "id": "1ae3e903",
        "outputId": "718927f1-c00d-43f6-8b3b-52da06512eaa"
      },
      "outputs": [
        {
          "output_type": "execute_result",
          "data": {
            "text/plain": [
              "{'ids': [['000030', '001046', '004715', '002464', '006905']],\n",
              " 'embeddings': None,\n",
              " 'documents': [['The company running the Japanese nuclear plant hit by a fatal accident is to close its reactors for safety checks.',\n",
              "   'AP - The operator of a nuclear power plant where a long-neglected cooling pipe burst and killed four workers last week said Monday that four other pipes at its reactors also went unchecked for years.',\n",
              "   'TOKYO The operators of a Japanese nuclear plant say there was no evidence of danger at the plant before a deadly explosion this month.',\n",
              "   'Reuters - No more Japanese nuclear reactors need to be closed for inspections, electric power companies said on Wednesday after submitting reports ordered by the government following a reactor accident that killed four workers last week.',\n",
              "   \"The company managing Rio Tinto iron ore's rail lines in the Pilbara, in north-west Western Australia, says equipment failure rather than human error is to blame for a major derailment last week.\"]],\n",
              " 'uris': None,\n",
              " 'data': None,\n",
              " 'metadatas': [[{'label': 2},\n",
              "   {'label': 0},\n",
              "   {'label': 0},\n",
              "   {'label': 0},\n",
              "   {'label': 2}]],\n",
              " 'distances': [[0.0,\n",
              "   0.8038501739501953,\n",
              "   0.9175586104393005,\n",
              "   0.9644219875335693,\n",
              "   0.9812381267547607]],\n",
              " 'included': [<IncludeEnum.distances: 'distances'>,\n",
              "  <IncludeEnum.documents: 'documents'>,\n",
              "  <IncludeEnum.metadatas: 'metadatas'>]}"
            ]
          },
          "metadata": {},
          "execution_count": 67
        }
      ],
      "source": [
        "query_embeddings = query_embeddings.tolist()\n",
        "collection.query(query_embeddings=query_embeddings, n_results=5)"
      ],
      "id": "1ae3e903"
    },
    {
      "cell_type": "code",
      "execution_count": 68,
      "metadata": {
        "id": "7ede4123"
      },
      "outputs": [],
      "source": [
        "query_sentence = 'asian stock market'\n",
        "query_tokens = tokenize_batch([query_sentence])\n",
        "query_embeddings = get_bag_of_embeddings(query_tokens)[0]\n",
        "query_embeddings = query_embeddings.tolist()"
      ],
      "id": "7ede4123"
    },
    {
      "cell_type": "code",
      "execution_count": 69,
      "metadata": {
        "colab": {
          "base_uri": "https://localhost:8080/"
        },
        "id": "9d245d3b",
        "outputId": "c2a9dc1e-c84c-4e96-b196-d766f22561f1"
      },
      "outputs": [
        {
          "output_type": "execute_result",
          "data": {
            "text/plain": [
              "{'ids': [['007389', '006925', '004791', '007014', '006829']],\n",
              " 'embeddings': None,\n",
              " 'documents': [['Asian stocks rose after oil prices fell from a record on Friday, easing concern higher energy costs will damp consumer spending and corporate profits.',\n",
              "   'Asian stocks advanced after oil prices fell from a record Friday in New York, easing concern higher energy costs will damp consumer spending and corporate profits.',\n",
              "   \"AP - Tokyo's main stock index ended lower Friday amid profit-taking of technology issues and concerns about soaring oil prices. The U.S. dollar was down against the Japanese yen.\",\n",
              "   'Japanese stocks rose after oil prices fell from a record in New York on Friday, easing concern higher energy costs will damp consumer spending and corporate profits.',\n",
              "   'Japanese stocks may rise after oil prices fell from a record in New York, easing concern higher energy costs will damp consumer spending and corporate profits.']],\n",
              " 'uris': None,\n",
              " 'data': None,\n",
              " 'metadatas': [[{'label': 2},\n",
              "   {'label': 2},\n",
              "   {'label': 0},\n",
              "   {'label': 0},\n",
              "   {'label': 2}]],\n",
              " 'distances': [[5.2573628425598145,\n",
              "   5.490711688995361,\n",
              "   5.643772125244141,\n",
              "   5.697542190551758,\n",
              "   5.810704231262207]],\n",
              " 'included': [<IncludeEnum.distances: 'distances'>,\n",
              "  <IncludeEnum.documents: 'documents'>,\n",
              "  <IncludeEnum.metadatas: 'metadatas'>]}"
            ]
          },
          "metadata": {},
          "execution_count": 69
        }
      ],
      "source": [
        "collection.query(query_embeddings=query_embeddings, n_results=5)"
      ],
      "id": "9d245d3b"
    },
    {
      "cell_type": "markdown",
      "metadata": {
        "id": "xGpANJYwMmCA"
      },
      "source": [
        "***\n",
        "**ASIDE: Cosine Similarity**\n",
        "\n",
        "If two vectors are pointing in the same direction, their cosine similarity is a perfect one. If they are orthogonal (that is, if there is a right angle between them), their cosine similarity is zero. If they are pointing in opposite directions, their cosine similarity is minus one.\n",
        "\n",
        "$$\n",
        "\\Large\n",
        "\\cos \\theta = \\frac{\\sum_i{x_iy_i}}{\\sqrt{\\sum_j{x_j^2}}\\sqrt{\\sum_j{y_j^2}}}\n",
        "$$\n",
        "***\n"
      ],
      "id": "xGpANJYwMmCA"
    },
    {
      "cell_type": "markdown",
      "metadata": {
        "id": "1916f4f7"
      },
      "source": [
        "## 15.8 Zero-Shot Text Classification\n",
        "\n",
        "![](https://raw.githubusercontent.com/dvgodoy/assets/main/PyTorchInPractice/images/ch0/model_step5.png)"
      ],
      "id": "1916f4f7"
    },
    {
      "cell_type": "code",
      "execution_count": 70,
      "metadata": {
        "colab": {
          "base_uri": "https://localhost:8080/"
        },
        "id": "ea70a16c",
        "outputId": "0e10db78-7698-49ea-f915-588e7b94f294"
      },
      "outputs": [
        {
          "output_type": "execute_result",
          "data": {
            "text/plain": [
              "torch.Size([4, 50])"
            ]
          },
          "metadata": {},
          "execution_count": 70
        }
      ],
      "source": [
        "cand_labels = [\"world\", \"sports\", \"business\", \"science and technology\"]\n",
        "\n",
        "cand_emb = torch.vstack([get_vecs_by_tokens(tokens).mean(axis=0) for tokens in tokenize_batch(cand_labels)])\n",
        "cand_emb.shape"
      ],
      "id": "ea70a16c"
    },
    {
      "cell_type": "code",
      "execution_count": 71,
      "metadata": {
        "colab": {
          "base_uri": "https://localhost:8080/"
        },
        "id": "e73d28aa",
        "outputId": "19073aff-57d1-42a5-8947-552d766f0542"
      },
      "outputs": [
        {
          "output_type": "execute_result",
          "data": {
            "text/plain": [
              "tensor([[1.0000, 0.6529, 0.6136, 0.6678],\n",
              "        [0.6529, 1.0000, 0.6410, 0.6171],\n",
              "        [0.6136, 0.6410, 1.0000, 0.8069],\n",
              "        [0.6678, 0.6171, 0.8069, 1.0000]])"
            ]
          },
          "metadata": {},
          "execution_count": 71
        }
      ],
      "source": [
        "cos = nn.CosineSimilarity(dim=2)\n",
        "\n",
        "cos(cand_emb.unsqueeze(1), cand_emb.unsqueeze(0))"
      ],
      "id": "e73d28aa"
    },
    {
      "cell_type": "code",
      "execution_count": 72,
      "metadata": {
        "id": "QASypfVAMmCB",
        "outputId": "5ab407cc-11ab-42d0-a1e9-8fb6720c576d",
        "colab": {
          "base_uri": "https://localhost:8080/"
        }
      },
      "outputs": [
        {
          "output_type": "execute_result",
          "data": {
            "text/plain": [
              "tensor([[0.6534, 0.5361, 0.7945, 0.7030],\n",
              "        [0.7634, 0.6130, 0.7007, 0.7579],\n",
              "        [0.6658, 0.5156, 0.7244, 0.8548],\n",
              "        [0.7275, 0.5425, 0.6800, 0.7176],\n",
              "        [0.7058, 0.5120, 0.7004, 0.7567],\n",
              "        [0.7184, 0.5626, 0.7428, 0.7919],\n",
              "        [0.7056, 0.5410, 0.7269, 0.8026],\n",
              "        [0.6613, 0.5637, 0.7525, 0.8029],\n",
              "        [0.5893, 0.4821, 0.6439, 0.6403],\n",
              "        [0.7183, 0.5389, 0.7209, 0.7500],\n",
              "        [0.6883, 0.6081, 0.8330, 0.8441],\n",
              "        [0.6728, 0.6266, 0.8165, 0.8166],\n",
              "        [0.7453, 0.6166, 0.8239, 0.8035],\n",
              "        [0.7400, 0.4860, 0.6221, 0.7080],\n",
              "        [0.6582, 0.4579, 0.6692, 0.7232],\n",
              "        [0.6819, 0.4262, 0.6630, 0.7159],\n",
              "        [0.6154, 0.4228, 0.5796, 0.6999],\n",
              "        [0.7636, 0.5894, 0.7239, 0.8140],\n",
              "        [0.6990, 0.4981, 0.6911, 0.8043],\n",
              "        [0.6747, 0.4536, 0.7283, 0.6745],\n",
              "        [0.7615, 0.5422, 0.7594, 0.7675],\n",
              "        [0.6438, 0.5324, 0.7470, 0.7863],\n",
              "        [0.5911, 0.4596, 0.7293, 0.8482],\n",
              "        [0.7202, 0.5606, 0.7810, 0.7704],\n",
              "        [0.6610, 0.5386, 0.8161, 0.7544],\n",
              "        [0.7272, 0.5415, 0.7617, 0.8091],\n",
              "        [0.8396, 0.5678, 0.5800, 0.6891],\n",
              "        [0.6894, 0.5641, 0.6844, 0.7507],\n",
              "        [0.7033, 0.5307, 0.6915, 0.7208],\n",
              "        [0.6693, 0.5329, 0.6521, 0.6608],\n",
              "        [0.6276, 0.5180, 0.6498, 0.6811],\n",
              "        [0.6656, 0.5054, 0.5853, 0.6365]])"
            ]
          },
          "metadata": {},
          "execution_count": 72
        }
      ],
      "source": [
        "batch_size = 32\n",
        "dataloader = DataLoader(dataset=datasets['test'], batch_size=batch_size, shuffle=False)\n",
        "\n",
        "batch = next(iter(dataloader))\n",
        "labels, sentences = batch['topic'], batch['news']\n",
        "tokens = tokenize_batch(sentences)\n",
        "embeddings = get_bag_of_embeddings(tokens)\n",
        "similarities = cos(embeddings.unsqueeze(1), cand_emb.unsqueeze(0))\n",
        "similarities"
      ],
      "id": "QASypfVAMmCB"
    },
    {
      "cell_type": "code",
      "execution_count": 73,
      "metadata": {
        "colab": {
          "base_uri": "https://localhost:8080/"
        },
        "id": "61450876",
        "outputId": "7b2d3cc6-4611-4026-ff98-620ab9028c08"
      },
      "outputs": [
        {
          "output_type": "execute_result",
          "data": {
            "text/plain": [
              "tensor([2, 0, 3, 0, 3, 3, 3, 3, 2, 3, 3, 3, 2, 0, 3, 3, 3, 3, 3, 2, 3, 3, 3, 2,\n",
              "        2, 3, 0, 3, 3, 0, 3, 0])"
            ]
          },
          "metadata": {},
          "execution_count": 73
        }
      ],
      "source": [
        "predicted_class = similarities.argmax(dim=1)\n",
        "predicted_class"
      ],
      "id": "61450876"
    },
    {
      "cell_type": "code",
      "execution_count": 74,
      "metadata": {
        "colab": {
          "base_uri": "https://localhost:8080/"
        },
        "id": "e48b587d",
        "outputId": "3736fab4-57d9-46da-da6b-c8ef91cd64f1"
      },
      "outputs": [
        {
          "output_type": "execute_result",
          "data": {
            "text/plain": [
              "tensor(0.5625)"
            ]
          },
          "metadata": {},
          "execution_count": 74
        }
      ],
      "source": [
        "(predicted_class == labels).float().mean()"
      ],
      "id": "e48b587d"
    },
    {
      "cell_type": "markdown",
      "metadata": {
        "id": "9707b1fb"
      },
      "source": [
        "### 15.8.1 Evaluation"
      ],
      "id": "9707b1fb"
    },
    {
      "cell_type": "code",
      "execution_count": 75,
      "metadata": {
        "id": "6d70bcb1",
        "colab": {
          "base_uri": "https://localhost:8080/",
          "height": 113,
          "referenced_widgets": [
            "e007c37a1d28438dbd7b020b6ff892e1",
            "f789e6afd0f446699ea2d11f385476b7",
            "df05766b99f34594ba095f76e44b5507",
            "429aefdea3144de38b301a5055965697",
            "33a91cbdbf164c159cf34652bde0d004",
            "1796417276034f99ab44f838ddc8255f",
            "8ca30f5cafca49499aaf471a2f0212d7",
            "3389cd9af0a64d509602ff061b3054a4",
            "0a12498e5c4a44a9b05db7c58024238b",
            "381885941be94b35aaab6b78e246de5e",
            "2e2be86d98284e3eaac70dc3e0f8c6bf",
            "5718584581b44e60acdc4fefe40d7f17",
            "6b128fcf44b14069aa567c7e4cdd3b73",
            "1073d2d677254a67a8e8ebf43c2a4021",
            "1c19862adb484ae9b020781f950cb98b",
            "9741f157da7a443ca8bad6b9bc837a3a",
            "b47f27a19d284a8e9a08fab2476aa50d",
            "65dad21155a54ce2a764f3c774ca9e90",
            "0a97222da5954aec86e4f83761b8cc35",
            "3eb76f285fbc4c71b1d90dc40378cada",
            "c396dd303ea049ebbbed1ddf4d4d9217",
            "57beda480c2d47f9b1e8d369ad7a1326",
            "b63425326a824f80a05567c74b693776",
            "b7bd8c51b5074a7295da8a1cc316f040",
            "fb0f8aa8588d40268cec889633b4ed67",
            "5c2cc83b166443178488f017a6cd5d6d",
            "8c920744b72b4049b2ce5ecb74ae4dd1",
            "3d7c3d8a25f74f24b12da18990288cb5",
            "cd350320edd1436daebddc2cc9cf193f",
            "89d8c0bd85ef429dbdba8ddd4430a62a",
            "27c6bf696f4643118d25d9077d1ce7a2",
            "142216ae11f14885b42e461d973418fc",
            "6b1d342268e24d28a40d073db4ef5db0"
          ]
        },
        "outputId": "afac1365-67a4-4da6-e875-e32de5467671"
      },
      "outputs": [
        {
          "output_type": "display_data",
          "data": {
            "text/plain": [
              "Downloading builder script:   0%|          | 0.00/7.56k [00:00<?, ?B/s]"
            ],
            "application/vnd.jupyter.widget-view+json": {
              "version_major": 2,
              "version_minor": 0,
              "model_id": "e007c37a1d28438dbd7b020b6ff892e1"
            }
          },
          "metadata": {}
        },
        {
          "output_type": "display_data",
          "data": {
            "text/plain": [
              "Downloading builder script:   0%|          | 0.00/7.38k [00:00<?, ?B/s]"
            ],
            "application/vnd.jupyter.widget-view+json": {
              "version_major": 2,
              "version_minor": 0,
              "model_id": "5718584581b44e60acdc4fefe40d7f17"
            }
          },
          "metadata": {}
        },
        {
          "output_type": "display_data",
          "data": {
            "text/plain": [
              "Downloading builder script:   0%|          | 0.00/4.20k [00:00<?, ?B/s]"
            ],
            "application/vnd.jupyter.widget-view+json": {
              "version_major": 2,
              "version_minor": 0,
              "model_id": "b63425326a824f80a05567c74b693776"
            }
          },
          "metadata": {}
        }
      ],
      "source": [
        "import evaluate\n",
        "\n",
        "metric1 = evaluate.load('precision', average=None)\n",
        "metric2 = evaluate.load('recall', average=None)\n",
        "metric3 = evaluate.load('accuracy')"
      ],
      "id": "6d70bcb1"
    },
    {
      "cell_type": "code",
      "execution_count": 76,
      "metadata": {
        "id": "40d627b8"
      },
      "outputs": [],
      "source": [
        "for batch in dataloader:\n",
        "    labels, sentences = batch['topic'], batch['news']\n",
        "    tokens = tokenize_batch(sentences)\n",
        "    embeddings = get_bag_of_embeddings(tokens)\n",
        "\n",
        "    # predictions = model(embeddings)\n",
        "    predictions = cos(embeddings.unsqueeze(1), cand_emb.unsqueeze(0))\n",
        "\n",
        "    pred_class = predictions.argmax(dim=1).tolist()\n",
        "    labels = labels.tolist()\n",
        "\n",
        "    metric1.add_batch(references=labels, predictions=pred_class)\n",
        "    metric2.add_batch(references=labels, predictions=pred_class)\n",
        "    metric3.add_batch(references=labels, predictions=pred_class)"
      ],
      "id": "40d627b8"
    },
    {
      "cell_type": "code",
      "execution_count": 77,
      "metadata": {
        "colab": {
          "base_uri": "https://localhost:8080/"
        },
        "id": "101ae04d",
        "outputId": "6d449200-bc81-4d8d-ba82-8ad7465c79b2"
      },
      "outputs": [
        {
          "output_type": "execute_result",
          "data": {
            "text/plain": [
              "({'precision': array([0.33205619, 1.        , 0.67253045, 0.43290471])},\n",
              " {'recall': array([4.10526316e-01, 5.26315789e-04, 7.84736842e-01, 6.91052632e-01])},\n",
              " {'accuracy': 0.47171052631578947})"
            ]
          },
          "metadata": {},
          "execution_count": 77
        }
      ],
      "source": [
        "metric1.compute(average=None), metric2.compute(average=None), metric3.compute()"
      ],
      "id": "101ae04d"
    },
    {
      "cell_type": "markdown",
      "metadata": {
        "id": "51585ffc"
      },
      "source": [
        "## 15.9 Chunking Strategies"
      ],
      "id": "51585ffc"
    },
    {
      "cell_type": "code",
      "execution_count": 78,
      "metadata": {
        "id": "saIdUTVzMmCC"
      },
      "outputs": [],
      "source": [
        "text = \"\"\"\n",
        "ITEM 1A. RISK FACTORS Our operations and financial results are subject to various risks and uncertainties, including those described below, that could adversely affect our business, financial condition, results of operations, cash flows, and the trading price of our common stock. STRATEGIC AND COMPETITIVE RISKS We face intense competition across all markets for our products and services, which may lead to lower revenue or operating margins.    Competition in the technology sector Our competitors range in size from diversified global companies with significant research and development resources to small, specialized firms whose narrower product lines may let them be more effective in deploying technical, marketing, and financial resources. Barriers to entry in many of our businesses are low and many of the areas in which we compete evolve rapidly with changing and disruptive technologies, shifting user needs, and frequent introductions of new products and services. Our ability to remain competitive depends on our success in making innovative products, devices, and services that appeal to businesses and consumers.    Competition among platform-based ecosystems An important element of our business model has been to create platform-based ecosystems on which many participants can build diverse solutions. A well-established ecosystem creates beneficial network effects among users, application developers, and the platform provider that can accelerate growth. Establishing significant scale in the marketplace is necessary to achieve and maintain attractive margins. We face significant competition from firms that provide competing platforms.\n",
        "\"\"\""
      ],
      "id": "saIdUTVzMmCC"
    },
    {
      "cell_type": "markdown",
      "metadata": {
        "id": "vHcU_ucdMmCD"
      },
      "source": [
        "### 15.9.1 Fixed-Length"
      ],
      "id": "vHcU_ucdMmCD"
    },
    {
      "cell_type": "code",
      "execution_count": 79,
      "metadata": {
        "colab": {
          "base_uri": "https://localhost:8080/"
        },
        "id": "eeb5aacb",
        "outputId": "7c98bc24-9fb0-4b97-eae0-446991148167"
      },
      "outputs": [
        {
          "output_type": "execute_result",
          "data": {
            "text/plain": [
              "[Document(metadata={}, page_content='ITEM 1A. RISK FACTORS Our operations and financial results are subject to various risks and uncertainties, including those described below, that could adversely affect our business, financial condition, results of operations, cash flows, and the trading'),\n",
              " Document(metadata={}, page_content='and the trading price of our common stock. STRATEGIC AND COMPETITIVE RISKS We face intense competition across all markets for our products and services, which may lead to lower revenue or operating margins.    Competition in the technology sector Our'),\n",
              " Document(metadata={}, page_content='sector Our competitors range in size from diversified global companies with significant research and development resources to small, specialized firms whose narrower product lines may let them be more effective in deploying technical, marketing, and')]"
            ]
          },
          "metadata": {},
          "execution_count": 79
        }
      ],
      "source": [
        "from langchain.text_splitter import RecursiveCharacterTextSplitter\n",
        "\n",
        "text_splitter = RecursiveCharacterTextSplitter(chunk_size=256, chunk_overlap=20)\n",
        "chunks = text_splitter.create_documents([text])\n",
        "chunks[:3]"
      ],
      "id": "eeb5aacb"
    },
    {
      "cell_type": "markdown",
      "metadata": {
        "id": "4f607097"
      },
      "source": [
        "### 15.9.2 Content-Aware"
      ],
      "id": "4f607097"
    },
    {
      "cell_type": "code",
      "execution_count": 80,
      "metadata": {
        "colab": {
          "base_uri": "https://localhost:8080/"
        },
        "id": "1344c93e",
        "outputId": "30f0da1e-f687-4c33-ec82-c0defc95adb6"
      },
      "outputs": [
        {
          "output_type": "stream",
          "name": "stderr",
          "text": [
            "[nltk_data] Downloading package punkt to /root/nltk_data...\n",
            "[nltk_data]   Unzipping tokenizers/punkt.zip.\n",
            "[nltk_data] Downloading package punkt_tab to /root/nltk_data...\n",
            "[nltk_data]   Unzipping tokenizers/punkt_tab.zip.\n"
          ]
        },
        {
          "output_type": "execute_result",
          "data": {
            "text/plain": [
              "True"
            ]
          },
          "metadata": {},
          "execution_count": 80
        }
      ],
      "source": [
        "import nltk\n",
        "nltk.download('punkt')\n",
        "nltk.download('punkt_tab')"
      ],
      "id": "1344c93e"
    },
    {
      "cell_type": "code",
      "execution_count": 81,
      "metadata": {
        "colab": {
          "base_uri": "https://localhost:8080/"
        },
        "id": "eade466d",
        "outputId": "3e522dbd-08d3-4865-ff9f-102d753ea6e3"
      },
      "outputs": [
        {
          "output_type": "execute_result",
          "data": {
            "text/plain": [
              "['\\nITEM 1A.',\n",
              " 'RISK FACTORS Our operations and financial results are subject to various risks and uncertainties, including those described below, that could adversely affect our business, financial condition, results of operations, cash flows, and the trading price of our common stock.',\n",
              " 'STRATEGIC AND COMPETITIVE RISKS We face intense competition across all markets for our products and services, which may lead to lower revenue or operating margins.']"
            ]
          },
          "metadata": {},
          "execution_count": 81
        }
      ],
      "source": [
        "from nltk.tokenize import sent_tokenize\n",
        "\n",
        "chunks = sent_tokenize(text)\n",
        "chunks[:3]"
      ],
      "id": "eade466d"
    },
    {
      "cell_type": "markdown",
      "metadata": {
        "id": "b55a5898"
      },
      "source": [
        "### 15.9.3 Custom"
      ],
      "id": "b55a5898"
    },
    {
      "cell_type": "code",
      "execution_count": 82,
      "metadata": {
        "colab": {
          "base_uri": "https://localhost:8080/"
        },
        "id": "67e8137f",
        "outputId": "d796ab79-ca5b-4068-dbce-b23b35bb05c1"
      },
      "outputs": [
        {
          "output_type": "execute_result",
          "data": {
            "text/plain": [
              "['\\nITEM 1A. RISK FACTORS Our operations and financial results are subject to various risks and uncertainties, including those described below, that could adversely affect our business, financial condition, results of operations, cash flows, and the trading price of our common stock. STRATEGIC AND COMPETITIVE RISKS We face intense competition across all markets for our products and services, which may lead to lower revenue or operating margins.',\n",
              " '',\n",
              " 'Competition in the technology sector Our competitors range in size from diversified global companies with significant research and development resources to small, specialized firms whose narrower product lines may let them be more effective in deploying technical, marketing, and financial resources. Barriers to entry in many of our businesses are low and many of the areas in which we compete evolve rapidly with changing and disruptive technologies, shifting user needs, and frequent introductions of new products and services. Our ability to remain competitive depends on our success in making innovative products, devices, and services that appeal to businesses and consumers.']"
            ]
          },
          "metadata": {},
          "execution_count": 82
        }
      ],
      "source": [
        "chunks = text.split('  ')\n",
        "chunks[:3]"
      ],
      "id": "67e8137f"
    }
  ],
  "metadata": {
    "accelerator": "GPU",
    "colab": {
      "gpuType": "T4",
      "provenance": [],
      "include_colab_link": true
    },
    "kernelspec": {
      "display_name": "Python 3",
      "language": "python",
      "name": "python3"
    },
    "language_info": {
      "codemirror_mode": {
        "name": "ipython",
        "version": 3
      },
      "file_extension": ".py",
      "mimetype": "text/x-python",
      "name": "python",
      "nbconvert_exporter": "python",
      "pygments_lexer": "ipython3",
      "version": "3.7.4"
    },
    "widgets": {
      "application/vnd.jupyter.widget-state+json": {
        "3aa69b8b812f4beeae1794fdccd1f907": {
          "model_module": "@jupyter-widgets/controls",
          "model_name": "HBoxModel",
          "model_module_version": "1.5.0",
          "state": {
            "_dom_classes": [],
            "_model_module": "@jupyter-widgets/controls",
            "_model_module_version": "1.5.0",
            "_model_name": "HBoxModel",
            "_view_count": null,
            "_view_module": "@jupyter-widgets/controls",
            "_view_module_version": "1.5.0",
            "_view_name": "HBoxView",
            "box_style": "",
            "children": [
              "IPY_MODEL_01c8e37387cd4594855a8beb71f54cff",
              "IPY_MODEL_6d12666660244361bb9977d534d461f0",
              "IPY_MODEL_d723b9ac59954d16b075f309a3cf1394"
            ],
            "layout": "IPY_MODEL_68753392b69241ba97e8049618ebfd31"
          }
        },
        "01c8e37387cd4594855a8beb71f54cff": {
          "model_module": "@jupyter-widgets/controls",
          "model_name": "HTMLModel",
          "model_module_version": "1.5.0",
          "state": {
            "_dom_classes": [],
            "_model_module": "@jupyter-widgets/controls",
            "_model_module_version": "1.5.0",
            "_model_name": "HTMLModel",
            "_view_count": null,
            "_view_module": "@jupyter-widgets/controls",
            "_view_module_version": "1.5.0",
            "_view_name": "HTMLView",
            "description": "",
            "description_tooltip": null,
            "layout": "IPY_MODEL_e1011a8539c146c99450ce7dc0bc0edb",
            "placeholder": "​",
            "style": "IPY_MODEL_85a89435d0824f20b6a39dd2c62c4708",
            "value": "Generating train split: "
          }
        },
        "6d12666660244361bb9977d534d461f0": {
          "model_module": "@jupyter-widgets/controls",
          "model_name": "FloatProgressModel",
          "model_module_version": "1.5.0",
          "state": {
            "_dom_classes": [],
            "_model_module": "@jupyter-widgets/controls",
            "_model_module_version": "1.5.0",
            "_model_name": "FloatProgressModel",
            "_view_count": null,
            "_view_module": "@jupyter-widgets/controls",
            "_view_module_version": "1.5.0",
            "_view_name": "ProgressView",
            "bar_style": "success",
            "description": "",
            "description_tooltip": null,
            "layout": "IPY_MODEL_95d9c26881d2480f82983ee1004dd78c",
            "max": 1,
            "min": 0,
            "orientation": "horizontal",
            "style": "IPY_MODEL_98495311d0c9480680659499ac5422af",
            "value": 1
          }
        },
        "d723b9ac59954d16b075f309a3cf1394": {
          "model_module": "@jupyter-widgets/controls",
          "model_name": "HTMLModel",
          "model_module_version": "1.5.0",
          "state": {
            "_dom_classes": [],
            "_model_module": "@jupyter-widgets/controls",
            "_model_module_version": "1.5.0",
            "_model_name": "HTMLModel",
            "_view_count": null,
            "_view_module": "@jupyter-widgets/controls",
            "_view_module_version": "1.5.0",
            "_view_name": "HTMLView",
            "description": "",
            "description_tooltip": null,
            "layout": "IPY_MODEL_b1fcd4efac6747ffb70c1d7021760464",
            "placeholder": "​",
            "style": "IPY_MODEL_817995a07b414dedb883ca8f2ca34a53",
            "value": " 120000/0 [00:00&lt;00:00, 301810.81 examples/s]"
          }
        },
        "68753392b69241ba97e8049618ebfd31": {
          "model_module": "@jupyter-widgets/base",
          "model_name": "LayoutModel",
          "model_module_version": "1.2.0",
          "state": {
            "_model_module": "@jupyter-widgets/base",
            "_model_module_version": "1.2.0",
            "_model_name": "LayoutModel",
            "_view_count": null,
            "_view_module": "@jupyter-widgets/base",
            "_view_module_version": "1.2.0",
            "_view_name": "LayoutView",
            "align_content": null,
            "align_items": null,
            "align_self": null,
            "border": null,
            "bottom": null,
            "display": null,
            "flex": null,
            "flex_flow": null,
            "grid_area": null,
            "grid_auto_columns": null,
            "grid_auto_flow": null,
            "grid_auto_rows": null,
            "grid_column": null,
            "grid_gap": null,
            "grid_row": null,
            "grid_template_areas": null,
            "grid_template_columns": null,
            "grid_template_rows": null,
            "height": null,
            "justify_content": null,
            "justify_items": null,
            "left": null,
            "margin": null,
            "max_height": null,
            "max_width": null,
            "min_height": null,
            "min_width": null,
            "object_fit": null,
            "object_position": null,
            "order": null,
            "overflow": null,
            "overflow_x": null,
            "overflow_y": null,
            "padding": null,
            "right": null,
            "top": null,
            "visibility": null,
            "width": null
          }
        },
        "e1011a8539c146c99450ce7dc0bc0edb": {
          "model_module": "@jupyter-widgets/base",
          "model_name": "LayoutModel",
          "model_module_version": "1.2.0",
          "state": {
            "_model_module": "@jupyter-widgets/base",
            "_model_module_version": "1.2.0",
            "_model_name": "LayoutModel",
            "_view_count": null,
            "_view_module": "@jupyter-widgets/base",
            "_view_module_version": "1.2.0",
            "_view_name": "LayoutView",
            "align_content": null,
            "align_items": null,
            "align_self": null,
            "border": null,
            "bottom": null,
            "display": null,
            "flex": null,
            "flex_flow": null,
            "grid_area": null,
            "grid_auto_columns": null,
            "grid_auto_flow": null,
            "grid_auto_rows": null,
            "grid_column": null,
            "grid_gap": null,
            "grid_row": null,
            "grid_template_areas": null,
            "grid_template_columns": null,
            "grid_template_rows": null,
            "height": null,
            "justify_content": null,
            "justify_items": null,
            "left": null,
            "margin": null,
            "max_height": null,
            "max_width": null,
            "min_height": null,
            "min_width": null,
            "object_fit": null,
            "object_position": null,
            "order": null,
            "overflow": null,
            "overflow_x": null,
            "overflow_y": null,
            "padding": null,
            "right": null,
            "top": null,
            "visibility": null,
            "width": null
          }
        },
        "85a89435d0824f20b6a39dd2c62c4708": {
          "model_module": "@jupyter-widgets/controls",
          "model_name": "DescriptionStyleModel",
          "model_module_version": "1.5.0",
          "state": {
            "_model_module": "@jupyter-widgets/controls",
            "_model_module_version": "1.5.0",
            "_model_name": "DescriptionStyleModel",
            "_view_count": null,
            "_view_module": "@jupyter-widgets/base",
            "_view_module_version": "1.2.0",
            "_view_name": "StyleView",
            "description_width": ""
          }
        },
        "95d9c26881d2480f82983ee1004dd78c": {
          "model_module": "@jupyter-widgets/base",
          "model_name": "LayoutModel",
          "model_module_version": "1.2.0",
          "state": {
            "_model_module": "@jupyter-widgets/base",
            "_model_module_version": "1.2.0",
            "_model_name": "LayoutModel",
            "_view_count": null,
            "_view_module": "@jupyter-widgets/base",
            "_view_module_version": "1.2.0",
            "_view_name": "LayoutView",
            "align_content": null,
            "align_items": null,
            "align_self": null,
            "border": null,
            "bottom": null,
            "display": null,
            "flex": null,
            "flex_flow": null,
            "grid_area": null,
            "grid_auto_columns": null,
            "grid_auto_flow": null,
            "grid_auto_rows": null,
            "grid_column": null,
            "grid_gap": null,
            "grid_row": null,
            "grid_template_areas": null,
            "grid_template_columns": null,
            "grid_template_rows": null,
            "height": null,
            "justify_content": null,
            "justify_items": null,
            "left": null,
            "margin": null,
            "max_height": null,
            "max_width": null,
            "min_height": null,
            "min_width": null,
            "object_fit": null,
            "object_position": null,
            "order": null,
            "overflow": null,
            "overflow_x": null,
            "overflow_y": null,
            "padding": null,
            "right": null,
            "top": null,
            "visibility": null,
            "width": "20px"
          }
        },
        "98495311d0c9480680659499ac5422af": {
          "model_module": "@jupyter-widgets/controls",
          "model_name": "ProgressStyleModel",
          "model_module_version": "1.5.0",
          "state": {
            "_model_module": "@jupyter-widgets/controls",
            "_model_module_version": "1.5.0",
            "_model_name": "ProgressStyleModel",
            "_view_count": null,
            "_view_module": "@jupyter-widgets/base",
            "_view_module_version": "1.2.0",
            "_view_name": "StyleView",
            "bar_color": null,
            "description_width": ""
          }
        },
        "b1fcd4efac6747ffb70c1d7021760464": {
          "model_module": "@jupyter-widgets/base",
          "model_name": "LayoutModel",
          "model_module_version": "1.2.0",
          "state": {
            "_model_module": "@jupyter-widgets/base",
            "_model_module_version": "1.2.0",
            "_model_name": "LayoutModel",
            "_view_count": null,
            "_view_module": "@jupyter-widgets/base",
            "_view_module_version": "1.2.0",
            "_view_name": "LayoutView",
            "align_content": null,
            "align_items": null,
            "align_self": null,
            "border": null,
            "bottom": null,
            "display": null,
            "flex": null,
            "flex_flow": null,
            "grid_area": null,
            "grid_auto_columns": null,
            "grid_auto_flow": null,
            "grid_auto_rows": null,
            "grid_column": null,
            "grid_gap": null,
            "grid_row": null,
            "grid_template_areas": null,
            "grid_template_columns": null,
            "grid_template_rows": null,
            "height": null,
            "justify_content": null,
            "justify_items": null,
            "left": null,
            "margin": null,
            "max_height": null,
            "max_width": null,
            "min_height": null,
            "min_width": null,
            "object_fit": null,
            "object_position": null,
            "order": null,
            "overflow": null,
            "overflow_x": null,
            "overflow_y": null,
            "padding": null,
            "right": null,
            "top": null,
            "visibility": null,
            "width": null
          }
        },
        "817995a07b414dedb883ca8f2ca34a53": {
          "model_module": "@jupyter-widgets/controls",
          "model_name": "DescriptionStyleModel",
          "model_module_version": "1.5.0",
          "state": {
            "_model_module": "@jupyter-widgets/controls",
            "_model_module_version": "1.5.0",
            "_model_name": "DescriptionStyleModel",
            "_view_count": null,
            "_view_module": "@jupyter-widgets/base",
            "_view_module_version": "1.2.0",
            "_view_name": "StyleView",
            "description_width": ""
          }
        },
        "92b58473feaf4dfca7dbe78356dab05f": {
          "model_module": "@jupyter-widgets/controls",
          "model_name": "HBoxModel",
          "model_module_version": "1.5.0",
          "state": {
            "_dom_classes": [],
            "_model_module": "@jupyter-widgets/controls",
            "_model_module_version": "1.5.0",
            "_model_name": "HBoxModel",
            "_view_count": null,
            "_view_module": "@jupyter-widgets/controls",
            "_view_module_version": "1.5.0",
            "_view_name": "HBoxView",
            "box_style": "",
            "children": [
              "IPY_MODEL_553a9f02083d4ab995ed40c5b46daa0e",
              "IPY_MODEL_a2a4a5f72fcc40a2972c3dca6674ae58",
              "IPY_MODEL_ddb923cc25ea43cfaf5e8d82d6cee166"
            ],
            "layout": "IPY_MODEL_1a09df46925f413895ebbf5e7ef0491b"
          }
        },
        "553a9f02083d4ab995ed40c5b46daa0e": {
          "model_module": "@jupyter-widgets/controls",
          "model_name": "HTMLModel",
          "model_module_version": "1.5.0",
          "state": {
            "_dom_classes": [],
            "_model_module": "@jupyter-widgets/controls",
            "_model_module_version": "1.5.0",
            "_model_name": "HTMLModel",
            "_view_count": null,
            "_view_module": "@jupyter-widgets/controls",
            "_view_module_version": "1.5.0",
            "_view_name": "HTMLView",
            "description": "",
            "description_tooltip": null,
            "layout": "IPY_MODEL_5d95d1ad454a418f9255155d24d8f717",
            "placeholder": "​",
            "style": "IPY_MODEL_5b8619ded0b84ce7b391997bc840546c",
            "value": "Generating train split: "
          }
        },
        "a2a4a5f72fcc40a2972c3dca6674ae58": {
          "model_module": "@jupyter-widgets/controls",
          "model_name": "FloatProgressModel",
          "model_module_version": "1.5.0",
          "state": {
            "_dom_classes": [],
            "_model_module": "@jupyter-widgets/controls",
            "_model_module_version": "1.5.0",
            "_model_name": "FloatProgressModel",
            "_view_count": null,
            "_view_module": "@jupyter-widgets/controls",
            "_view_module_version": "1.5.0",
            "_view_name": "ProgressView",
            "bar_style": "success",
            "description": "",
            "description_tooltip": null,
            "layout": "IPY_MODEL_a77361f1b52648d8bc5aa650694d1428",
            "max": 1,
            "min": 0,
            "orientation": "horizontal",
            "style": "IPY_MODEL_37cbcd5560004c509c2f383b7ea9c6da",
            "value": 1
          }
        },
        "ddb923cc25ea43cfaf5e8d82d6cee166": {
          "model_module": "@jupyter-widgets/controls",
          "model_name": "HTMLModel",
          "model_module_version": "1.5.0",
          "state": {
            "_dom_classes": [],
            "_model_module": "@jupyter-widgets/controls",
            "_model_module_version": "1.5.0",
            "_model_name": "HTMLModel",
            "_view_count": null,
            "_view_module": "@jupyter-widgets/controls",
            "_view_module_version": "1.5.0",
            "_view_name": "HTMLView",
            "description": "",
            "description_tooltip": null,
            "layout": "IPY_MODEL_9cf71b9fa222471594bf9780372a18e1",
            "placeholder": "​",
            "style": "IPY_MODEL_83bf76ec90ce4a8497b35f033e522dc3",
            "value": " 7600/0 [00:00&lt;00:00, 126620.50 examples/s]"
          }
        },
        "1a09df46925f413895ebbf5e7ef0491b": {
          "model_module": "@jupyter-widgets/base",
          "model_name": "LayoutModel",
          "model_module_version": "1.2.0",
          "state": {
            "_model_module": "@jupyter-widgets/base",
            "_model_module_version": "1.2.0",
            "_model_name": "LayoutModel",
            "_view_count": null,
            "_view_module": "@jupyter-widgets/base",
            "_view_module_version": "1.2.0",
            "_view_name": "LayoutView",
            "align_content": null,
            "align_items": null,
            "align_self": null,
            "border": null,
            "bottom": null,
            "display": null,
            "flex": null,
            "flex_flow": null,
            "grid_area": null,
            "grid_auto_columns": null,
            "grid_auto_flow": null,
            "grid_auto_rows": null,
            "grid_column": null,
            "grid_gap": null,
            "grid_row": null,
            "grid_template_areas": null,
            "grid_template_columns": null,
            "grid_template_rows": null,
            "height": null,
            "justify_content": null,
            "justify_items": null,
            "left": null,
            "margin": null,
            "max_height": null,
            "max_width": null,
            "min_height": null,
            "min_width": null,
            "object_fit": null,
            "object_position": null,
            "order": null,
            "overflow": null,
            "overflow_x": null,
            "overflow_y": null,
            "padding": null,
            "right": null,
            "top": null,
            "visibility": null,
            "width": null
          }
        },
        "5d95d1ad454a418f9255155d24d8f717": {
          "model_module": "@jupyter-widgets/base",
          "model_name": "LayoutModel",
          "model_module_version": "1.2.0",
          "state": {
            "_model_module": "@jupyter-widgets/base",
            "_model_module_version": "1.2.0",
            "_model_name": "LayoutModel",
            "_view_count": null,
            "_view_module": "@jupyter-widgets/base",
            "_view_module_version": "1.2.0",
            "_view_name": "LayoutView",
            "align_content": null,
            "align_items": null,
            "align_self": null,
            "border": null,
            "bottom": null,
            "display": null,
            "flex": null,
            "flex_flow": null,
            "grid_area": null,
            "grid_auto_columns": null,
            "grid_auto_flow": null,
            "grid_auto_rows": null,
            "grid_column": null,
            "grid_gap": null,
            "grid_row": null,
            "grid_template_areas": null,
            "grid_template_columns": null,
            "grid_template_rows": null,
            "height": null,
            "justify_content": null,
            "justify_items": null,
            "left": null,
            "margin": null,
            "max_height": null,
            "max_width": null,
            "min_height": null,
            "min_width": null,
            "object_fit": null,
            "object_position": null,
            "order": null,
            "overflow": null,
            "overflow_x": null,
            "overflow_y": null,
            "padding": null,
            "right": null,
            "top": null,
            "visibility": null,
            "width": null
          }
        },
        "5b8619ded0b84ce7b391997bc840546c": {
          "model_module": "@jupyter-widgets/controls",
          "model_name": "DescriptionStyleModel",
          "model_module_version": "1.5.0",
          "state": {
            "_model_module": "@jupyter-widgets/controls",
            "_model_module_version": "1.5.0",
            "_model_name": "DescriptionStyleModel",
            "_view_count": null,
            "_view_module": "@jupyter-widgets/base",
            "_view_module_version": "1.2.0",
            "_view_name": "StyleView",
            "description_width": ""
          }
        },
        "a77361f1b52648d8bc5aa650694d1428": {
          "model_module": "@jupyter-widgets/base",
          "model_name": "LayoutModel",
          "model_module_version": "1.2.0",
          "state": {
            "_model_module": "@jupyter-widgets/base",
            "_model_module_version": "1.2.0",
            "_model_name": "LayoutModel",
            "_view_count": null,
            "_view_module": "@jupyter-widgets/base",
            "_view_module_version": "1.2.0",
            "_view_name": "LayoutView",
            "align_content": null,
            "align_items": null,
            "align_self": null,
            "border": null,
            "bottom": null,
            "display": null,
            "flex": null,
            "flex_flow": null,
            "grid_area": null,
            "grid_auto_columns": null,
            "grid_auto_flow": null,
            "grid_auto_rows": null,
            "grid_column": null,
            "grid_gap": null,
            "grid_row": null,
            "grid_template_areas": null,
            "grid_template_columns": null,
            "grid_template_rows": null,
            "height": null,
            "justify_content": null,
            "justify_items": null,
            "left": null,
            "margin": null,
            "max_height": null,
            "max_width": null,
            "min_height": null,
            "min_width": null,
            "object_fit": null,
            "object_position": null,
            "order": null,
            "overflow": null,
            "overflow_x": null,
            "overflow_y": null,
            "padding": null,
            "right": null,
            "top": null,
            "visibility": null,
            "width": "20px"
          }
        },
        "37cbcd5560004c509c2f383b7ea9c6da": {
          "model_module": "@jupyter-widgets/controls",
          "model_name": "ProgressStyleModel",
          "model_module_version": "1.5.0",
          "state": {
            "_model_module": "@jupyter-widgets/controls",
            "_model_module_version": "1.5.0",
            "_model_name": "ProgressStyleModel",
            "_view_count": null,
            "_view_module": "@jupyter-widgets/base",
            "_view_module_version": "1.2.0",
            "_view_name": "StyleView",
            "bar_color": null,
            "description_width": ""
          }
        },
        "9cf71b9fa222471594bf9780372a18e1": {
          "model_module": "@jupyter-widgets/base",
          "model_name": "LayoutModel",
          "model_module_version": "1.2.0",
          "state": {
            "_model_module": "@jupyter-widgets/base",
            "_model_module_version": "1.2.0",
            "_model_name": "LayoutModel",
            "_view_count": null,
            "_view_module": "@jupyter-widgets/base",
            "_view_module_version": "1.2.0",
            "_view_name": "LayoutView",
            "align_content": null,
            "align_items": null,
            "align_self": null,
            "border": null,
            "bottom": null,
            "display": null,
            "flex": null,
            "flex_flow": null,
            "grid_area": null,
            "grid_auto_columns": null,
            "grid_auto_flow": null,
            "grid_auto_rows": null,
            "grid_column": null,
            "grid_gap": null,
            "grid_row": null,
            "grid_template_areas": null,
            "grid_template_columns": null,
            "grid_template_rows": null,
            "height": null,
            "justify_content": null,
            "justify_items": null,
            "left": null,
            "margin": null,
            "max_height": null,
            "max_width": null,
            "min_height": null,
            "min_width": null,
            "object_fit": null,
            "object_position": null,
            "order": null,
            "overflow": null,
            "overflow_x": null,
            "overflow_y": null,
            "padding": null,
            "right": null,
            "top": null,
            "visibility": null,
            "width": null
          }
        },
        "83bf76ec90ce4a8497b35f033e522dc3": {
          "model_module": "@jupyter-widgets/controls",
          "model_name": "DescriptionStyleModel",
          "model_module_version": "1.5.0",
          "state": {
            "_model_module": "@jupyter-widgets/controls",
            "_model_module_version": "1.5.0",
            "_model_name": "DescriptionStyleModel",
            "_view_count": null,
            "_view_module": "@jupyter-widgets/base",
            "_view_module_version": "1.2.0",
            "_view_name": "StyleView",
            "description_width": ""
          }
        },
        "6c826c8cfe974150bccdb25aa9b1c8dc": {
          "model_module": "@jupyter-widgets/controls",
          "model_name": "HBoxModel",
          "model_module_version": "1.5.0",
          "state": {
            "_dom_classes": [],
            "_model_module": "@jupyter-widgets/controls",
            "_model_module_version": "1.5.0",
            "_model_name": "HBoxModel",
            "_view_count": null,
            "_view_module": "@jupyter-widgets/controls",
            "_view_module_version": "1.5.0",
            "_view_name": "HBoxView",
            "box_style": "",
            "children": [
              "IPY_MODEL_d203a069212542b5bdf933fe6ff73b03",
              "IPY_MODEL_38ae8c40679944b1bfa70d095d064a0d",
              "IPY_MODEL_8c629001266342e1a73a845469a17504"
            ],
            "layout": "IPY_MODEL_29b984d06baf4f829e047a5478ce4a26"
          }
        },
        "d203a069212542b5bdf933fe6ff73b03": {
          "model_module": "@jupyter-widgets/controls",
          "model_name": "HTMLModel",
          "model_module_version": "1.5.0",
          "state": {
            "_dom_classes": [],
            "_model_module": "@jupyter-widgets/controls",
            "_model_module_version": "1.5.0",
            "_model_name": "HTMLModel",
            "_view_count": null,
            "_view_module": "@jupyter-widgets/controls",
            "_view_module_version": "1.5.0",
            "_view_name": "HTMLView",
            "description": "",
            "description_tooltip": null,
            "layout": "IPY_MODEL_4d7172ad0c6e455ca18634a6f1ec7723",
            "placeholder": "​",
            "style": "IPY_MODEL_8fff62eba05a4d78a9b5305a478a16b8",
            "value": "Map: 100%"
          }
        },
        "38ae8c40679944b1bfa70d095d064a0d": {
          "model_module": "@jupyter-widgets/controls",
          "model_name": "FloatProgressModel",
          "model_module_version": "1.5.0",
          "state": {
            "_dom_classes": [],
            "_model_module": "@jupyter-widgets/controls",
            "_model_module_version": "1.5.0",
            "_model_name": "FloatProgressModel",
            "_view_count": null,
            "_view_module": "@jupyter-widgets/controls",
            "_view_module_version": "1.5.0",
            "_view_name": "ProgressView",
            "bar_style": "success",
            "description": "",
            "description_tooltip": null,
            "layout": "IPY_MODEL_d13d3d08bd2247eba0b20607d16c02b6",
            "max": 120000,
            "min": 0,
            "orientation": "horizontal",
            "style": "IPY_MODEL_6b0b18c34dfe4b19a29887d9b339a2eb",
            "value": 120000
          }
        },
        "8c629001266342e1a73a845469a17504": {
          "model_module": "@jupyter-widgets/controls",
          "model_name": "HTMLModel",
          "model_module_version": "1.5.0",
          "state": {
            "_dom_classes": [],
            "_model_module": "@jupyter-widgets/controls",
            "_model_module_version": "1.5.0",
            "_model_name": "HTMLModel",
            "_view_count": null,
            "_view_module": "@jupyter-widgets/controls",
            "_view_module_version": "1.5.0",
            "_view_name": "HTMLView",
            "description": "",
            "description_tooltip": null,
            "layout": "IPY_MODEL_1c6a9fb016d0463ab03480c19b9f4b6d",
            "placeholder": "​",
            "style": "IPY_MODEL_fa24fc27609c47209aefa9f9222f7804",
            "value": " 120000/120000 [00:08&lt;00:00, 16310.26 examples/s]"
          }
        },
        "29b984d06baf4f829e047a5478ce4a26": {
          "model_module": "@jupyter-widgets/base",
          "model_name": "LayoutModel",
          "model_module_version": "1.2.0",
          "state": {
            "_model_module": "@jupyter-widgets/base",
            "_model_module_version": "1.2.0",
            "_model_name": "LayoutModel",
            "_view_count": null,
            "_view_module": "@jupyter-widgets/base",
            "_view_module_version": "1.2.0",
            "_view_name": "LayoutView",
            "align_content": null,
            "align_items": null,
            "align_self": null,
            "border": null,
            "bottom": null,
            "display": null,
            "flex": null,
            "flex_flow": null,
            "grid_area": null,
            "grid_auto_columns": null,
            "grid_auto_flow": null,
            "grid_auto_rows": null,
            "grid_column": null,
            "grid_gap": null,
            "grid_row": null,
            "grid_template_areas": null,
            "grid_template_columns": null,
            "grid_template_rows": null,
            "height": null,
            "justify_content": null,
            "justify_items": null,
            "left": null,
            "margin": null,
            "max_height": null,
            "max_width": null,
            "min_height": null,
            "min_width": null,
            "object_fit": null,
            "object_position": null,
            "order": null,
            "overflow": null,
            "overflow_x": null,
            "overflow_y": null,
            "padding": null,
            "right": null,
            "top": null,
            "visibility": null,
            "width": null
          }
        },
        "4d7172ad0c6e455ca18634a6f1ec7723": {
          "model_module": "@jupyter-widgets/base",
          "model_name": "LayoutModel",
          "model_module_version": "1.2.0",
          "state": {
            "_model_module": "@jupyter-widgets/base",
            "_model_module_version": "1.2.0",
            "_model_name": "LayoutModel",
            "_view_count": null,
            "_view_module": "@jupyter-widgets/base",
            "_view_module_version": "1.2.0",
            "_view_name": "LayoutView",
            "align_content": null,
            "align_items": null,
            "align_self": null,
            "border": null,
            "bottom": null,
            "display": null,
            "flex": null,
            "flex_flow": null,
            "grid_area": null,
            "grid_auto_columns": null,
            "grid_auto_flow": null,
            "grid_auto_rows": null,
            "grid_column": null,
            "grid_gap": null,
            "grid_row": null,
            "grid_template_areas": null,
            "grid_template_columns": null,
            "grid_template_rows": null,
            "height": null,
            "justify_content": null,
            "justify_items": null,
            "left": null,
            "margin": null,
            "max_height": null,
            "max_width": null,
            "min_height": null,
            "min_width": null,
            "object_fit": null,
            "object_position": null,
            "order": null,
            "overflow": null,
            "overflow_x": null,
            "overflow_y": null,
            "padding": null,
            "right": null,
            "top": null,
            "visibility": null,
            "width": null
          }
        },
        "8fff62eba05a4d78a9b5305a478a16b8": {
          "model_module": "@jupyter-widgets/controls",
          "model_name": "DescriptionStyleModel",
          "model_module_version": "1.5.0",
          "state": {
            "_model_module": "@jupyter-widgets/controls",
            "_model_module_version": "1.5.0",
            "_model_name": "DescriptionStyleModel",
            "_view_count": null,
            "_view_module": "@jupyter-widgets/base",
            "_view_module_version": "1.2.0",
            "_view_name": "StyleView",
            "description_width": ""
          }
        },
        "d13d3d08bd2247eba0b20607d16c02b6": {
          "model_module": "@jupyter-widgets/base",
          "model_name": "LayoutModel",
          "model_module_version": "1.2.0",
          "state": {
            "_model_module": "@jupyter-widgets/base",
            "_model_module_version": "1.2.0",
            "_model_name": "LayoutModel",
            "_view_count": null,
            "_view_module": "@jupyter-widgets/base",
            "_view_module_version": "1.2.0",
            "_view_name": "LayoutView",
            "align_content": null,
            "align_items": null,
            "align_self": null,
            "border": null,
            "bottom": null,
            "display": null,
            "flex": null,
            "flex_flow": null,
            "grid_area": null,
            "grid_auto_columns": null,
            "grid_auto_flow": null,
            "grid_auto_rows": null,
            "grid_column": null,
            "grid_gap": null,
            "grid_row": null,
            "grid_template_areas": null,
            "grid_template_columns": null,
            "grid_template_rows": null,
            "height": null,
            "justify_content": null,
            "justify_items": null,
            "left": null,
            "margin": null,
            "max_height": null,
            "max_width": null,
            "min_height": null,
            "min_width": null,
            "object_fit": null,
            "object_position": null,
            "order": null,
            "overflow": null,
            "overflow_x": null,
            "overflow_y": null,
            "padding": null,
            "right": null,
            "top": null,
            "visibility": null,
            "width": null
          }
        },
        "6b0b18c34dfe4b19a29887d9b339a2eb": {
          "model_module": "@jupyter-widgets/controls",
          "model_name": "ProgressStyleModel",
          "model_module_version": "1.5.0",
          "state": {
            "_model_module": "@jupyter-widgets/controls",
            "_model_module_version": "1.5.0",
            "_model_name": "ProgressStyleModel",
            "_view_count": null,
            "_view_module": "@jupyter-widgets/base",
            "_view_module_version": "1.2.0",
            "_view_name": "StyleView",
            "bar_color": null,
            "description_width": ""
          }
        },
        "1c6a9fb016d0463ab03480c19b9f4b6d": {
          "model_module": "@jupyter-widgets/base",
          "model_name": "LayoutModel",
          "model_module_version": "1.2.0",
          "state": {
            "_model_module": "@jupyter-widgets/base",
            "_model_module_version": "1.2.0",
            "_model_name": "LayoutModel",
            "_view_count": null,
            "_view_module": "@jupyter-widgets/base",
            "_view_module_version": "1.2.0",
            "_view_name": "LayoutView",
            "align_content": null,
            "align_items": null,
            "align_self": null,
            "border": null,
            "bottom": null,
            "display": null,
            "flex": null,
            "flex_flow": null,
            "grid_area": null,
            "grid_auto_columns": null,
            "grid_auto_flow": null,
            "grid_auto_rows": null,
            "grid_column": null,
            "grid_gap": null,
            "grid_row": null,
            "grid_template_areas": null,
            "grid_template_columns": null,
            "grid_template_rows": null,
            "height": null,
            "justify_content": null,
            "justify_items": null,
            "left": null,
            "margin": null,
            "max_height": null,
            "max_width": null,
            "min_height": null,
            "min_width": null,
            "object_fit": null,
            "object_position": null,
            "order": null,
            "overflow": null,
            "overflow_x": null,
            "overflow_y": null,
            "padding": null,
            "right": null,
            "top": null,
            "visibility": null,
            "width": null
          }
        },
        "fa24fc27609c47209aefa9f9222f7804": {
          "model_module": "@jupyter-widgets/controls",
          "model_name": "DescriptionStyleModel",
          "model_module_version": "1.5.0",
          "state": {
            "_model_module": "@jupyter-widgets/controls",
            "_model_module_version": "1.5.0",
            "_model_name": "DescriptionStyleModel",
            "_view_count": null,
            "_view_module": "@jupyter-widgets/base",
            "_view_module_version": "1.2.0",
            "_view_name": "StyleView",
            "description_width": ""
          }
        },
        "6f8079b43ea84aaeac1392b56152f11c": {
          "model_module": "@jupyter-widgets/controls",
          "model_name": "HBoxModel",
          "model_module_version": "1.5.0",
          "state": {
            "_dom_classes": [],
            "_model_module": "@jupyter-widgets/controls",
            "_model_module_version": "1.5.0",
            "_model_name": "HBoxModel",
            "_view_count": null,
            "_view_module": "@jupyter-widgets/controls",
            "_view_module_version": "1.5.0",
            "_view_name": "HBoxView",
            "box_style": "",
            "children": [
              "IPY_MODEL_05817a0a12334c2a9abc9646a26cdd49",
              "IPY_MODEL_ef81661b0386406f8c6e2d0aa07a7a3c",
              "IPY_MODEL_a346cb4df9b1444c822640c76f6162cc"
            ],
            "layout": "IPY_MODEL_17c818b73d4e482dab4f5facfffaee66"
          }
        },
        "05817a0a12334c2a9abc9646a26cdd49": {
          "model_module": "@jupyter-widgets/controls",
          "model_name": "HTMLModel",
          "model_module_version": "1.5.0",
          "state": {
            "_dom_classes": [],
            "_model_module": "@jupyter-widgets/controls",
            "_model_module_version": "1.5.0",
            "_model_name": "HTMLModel",
            "_view_count": null,
            "_view_module": "@jupyter-widgets/controls",
            "_view_module_version": "1.5.0",
            "_view_name": "HTMLView",
            "description": "",
            "description_tooltip": null,
            "layout": "IPY_MODEL_4b2dd0a336cd472ab827b07ecf62b7cb",
            "placeholder": "​",
            "style": "IPY_MODEL_fabdb39f88644daf9f91c1cf3f634dd0",
            "value": "Map: 100%"
          }
        },
        "ef81661b0386406f8c6e2d0aa07a7a3c": {
          "model_module": "@jupyter-widgets/controls",
          "model_name": "FloatProgressModel",
          "model_module_version": "1.5.0",
          "state": {
            "_dom_classes": [],
            "_model_module": "@jupyter-widgets/controls",
            "_model_module_version": "1.5.0",
            "_model_name": "FloatProgressModel",
            "_view_count": null,
            "_view_module": "@jupyter-widgets/controls",
            "_view_module_version": "1.5.0",
            "_view_name": "ProgressView",
            "bar_style": "success",
            "description": "",
            "description_tooltip": null,
            "layout": "IPY_MODEL_6b1c781afb814d39ad452ab7fd72a43c",
            "max": 7600,
            "min": 0,
            "orientation": "horizontal",
            "style": "IPY_MODEL_1e2d29bd742f4357919a47d3de7d9af1",
            "value": 7600
          }
        },
        "a346cb4df9b1444c822640c76f6162cc": {
          "model_module": "@jupyter-widgets/controls",
          "model_name": "HTMLModel",
          "model_module_version": "1.5.0",
          "state": {
            "_dom_classes": [],
            "_model_module": "@jupyter-widgets/controls",
            "_model_module_version": "1.5.0",
            "_model_name": "HTMLModel",
            "_view_count": null,
            "_view_module": "@jupyter-widgets/controls",
            "_view_module_version": "1.5.0",
            "_view_name": "HTMLView",
            "description": "",
            "description_tooltip": null,
            "layout": "IPY_MODEL_627b4cb88f24409c8b6dd2a95123b767",
            "placeholder": "​",
            "style": "IPY_MODEL_6ba502991c9046a3bcda25d8654ea3da",
            "value": " 7600/7600 [00:00&lt;00:00, 16662.56 examples/s]"
          }
        },
        "17c818b73d4e482dab4f5facfffaee66": {
          "model_module": "@jupyter-widgets/base",
          "model_name": "LayoutModel",
          "model_module_version": "1.2.0",
          "state": {
            "_model_module": "@jupyter-widgets/base",
            "_model_module_version": "1.2.0",
            "_model_name": "LayoutModel",
            "_view_count": null,
            "_view_module": "@jupyter-widgets/base",
            "_view_module_version": "1.2.0",
            "_view_name": "LayoutView",
            "align_content": null,
            "align_items": null,
            "align_self": null,
            "border": null,
            "bottom": null,
            "display": null,
            "flex": null,
            "flex_flow": null,
            "grid_area": null,
            "grid_auto_columns": null,
            "grid_auto_flow": null,
            "grid_auto_rows": null,
            "grid_column": null,
            "grid_gap": null,
            "grid_row": null,
            "grid_template_areas": null,
            "grid_template_columns": null,
            "grid_template_rows": null,
            "height": null,
            "justify_content": null,
            "justify_items": null,
            "left": null,
            "margin": null,
            "max_height": null,
            "max_width": null,
            "min_height": null,
            "min_width": null,
            "object_fit": null,
            "object_position": null,
            "order": null,
            "overflow": null,
            "overflow_x": null,
            "overflow_y": null,
            "padding": null,
            "right": null,
            "top": null,
            "visibility": null,
            "width": null
          }
        },
        "4b2dd0a336cd472ab827b07ecf62b7cb": {
          "model_module": "@jupyter-widgets/base",
          "model_name": "LayoutModel",
          "model_module_version": "1.2.0",
          "state": {
            "_model_module": "@jupyter-widgets/base",
            "_model_module_version": "1.2.0",
            "_model_name": "LayoutModel",
            "_view_count": null,
            "_view_module": "@jupyter-widgets/base",
            "_view_module_version": "1.2.0",
            "_view_name": "LayoutView",
            "align_content": null,
            "align_items": null,
            "align_self": null,
            "border": null,
            "bottom": null,
            "display": null,
            "flex": null,
            "flex_flow": null,
            "grid_area": null,
            "grid_auto_columns": null,
            "grid_auto_flow": null,
            "grid_auto_rows": null,
            "grid_column": null,
            "grid_gap": null,
            "grid_row": null,
            "grid_template_areas": null,
            "grid_template_columns": null,
            "grid_template_rows": null,
            "height": null,
            "justify_content": null,
            "justify_items": null,
            "left": null,
            "margin": null,
            "max_height": null,
            "max_width": null,
            "min_height": null,
            "min_width": null,
            "object_fit": null,
            "object_position": null,
            "order": null,
            "overflow": null,
            "overflow_x": null,
            "overflow_y": null,
            "padding": null,
            "right": null,
            "top": null,
            "visibility": null,
            "width": null
          }
        },
        "fabdb39f88644daf9f91c1cf3f634dd0": {
          "model_module": "@jupyter-widgets/controls",
          "model_name": "DescriptionStyleModel",
          "model_module_version": "1.5.0",
          "state": {
            "_model_module": "@jupyter-widgets/controls",
            "_model_module_version": "1.5.0",
            "_model_name": "DescriptionStyleModel",
            "_view_count": null,
            "_view_module": "@jupyter-widgets/base",
            "_view_module_version": "1.2.0",
            "_view_name": "StyleView",
            "description_width": ""
          }
        },
        "6b1c781afb814d39ad452ab7fd72a43c": {
          "model_module": "@jupyter-widgets/base",
          "model_name": "LayoutModel",
          "model_module_version": "1.2.0",
          "state": {
            "_model_module": "@jupyter-widgets/base",
            "_model_module_version": "1.2.0",
            "_model_name": "LayoutModel",
            "_view_count": null,
            "_view_module": "@jupyter-widgets/base",
            "_view_module_version": "1.2.0",
            "_view_name": "LayoutView",
            "align_content": null,
            "align_items": null,
            "align_self": null,
            "border": null,
            "bottom": null,
            "display": null,
            "flex": null,
            "flex_flow": null,
            "grid_area": null,
            "grid_auto_columns": null,
            "grid_auto_flow": null,
            "grid_auto_rows": null,
            "grid_column": null,
            "grid_gap": null,
            "grid_row": null,
            "grid_template_areas": null,
            "grid_template_columns": null,
            "grid_template_rows": null,
            "height": null,
            "justify_content": null,
            "justify_items": null,
            "left": null,
            "margin": null,
            "max_height": null,
            "max_width": null,
            "min_height": null,
            "min_width": null,
            "object_fit": null,
            "object_position": null,
            "order": null,
            "overflow": null,
            "overflow_x": null,
            "overflow_y": null,
            "padding": null,
            "right": null,
            "top": null,
            "visibility": null,
            "width": null
          }
        },
        "1e2d29bd742f4357919a47d3de7d9af1": {
          "model_module": "@jupyter-widgets/controls",
          "model_name": "ProgressStyleModel",
          "model_module_version": "1.5.0",
          "state": {
            "_model_module": "@jupyter-widgets/controls",
            "_model_module_version": "1.5.0",
            "_model_name": "ProgressStyleModel",
            "_view_count": null,
            "_view_module": "@jupyter-widgets/base",
            "_view_module_version": "1.2.0",
            "_view_name": "StyleView",
            "bar_color": null,
            "description_width": ""
          }
        },
        "627b4cb88f24409c8b6dd2a95123b767": {
          "model_module": "@jupyter-widgets/base",
          "model_name": "LayoutModel",
          "model_module_version": "1.2.0",
          "state": {
            "_model_module": "@jupyter-widgets/base",
            "_model_module_version": "1.2.0",
            "_model_name": "LayoutModel",
            "_view_count": null,
            "_view_module": "@jupyter-widgets/base",
            "_view_module_version": "1.2.0",
            "_view_name": "LayoutView",
            "align_content": null,
            "align_items": null,
            "align_self": null,
            "border": null,
            "bottom": null,
            "display": null,
            "flex": null,
            "flex_flow": null,
            "grid_area": null,
            "grid_auto_columns": null,
            "grid_auto_flow": null,
            "grid_auto_rows": null,
            "grid_column": null,
            "grid_gap": null,
            "grid_row": null,
            "grid_template_areas": null,
            "grid_template_columns": null,
            "grid_template_rows": null,
            "height": null,
            "justify_content": null,
            "justify_items": null,
            "left": null,
            "margin": null,
            "max_height": null,
            "max_width": null,
            "min_height": null,
            "min_width": null,
            "object_fit": null,
            "object_position": null,
            "order": null,
            "overflow": null,
            "overflow_x": null,
            "overflow_y": null,
            "padding": null,
            "right": null,
            "top": null,
            "visibility": null,
            "width": null
          }
        },
        "6ba502991c9046a3bcda25d8654ea3da": {
          "model_module": "@jupyter-widgets/controls",
          "model_name": "DescriptionStyleModel",
          "model_module_version": "1.5.0",
          "state": {
            "_model_module": "@jupyter-widgets/controls",
            "_model_module_version": "1.5.0",
            "_model_name": "DescriptionStyleModel",
            "_view_count": null,
            "_view_module": "@jupyter-widgets/base",
            "_view_module_version": "1.2.0",
            "_view_name": "StyleView",
            "description_width": ""
          }
        },
        "0eda0d02b19047fb9f50d3eabb6db1e7": {
          "model_module": "@jupyter-widgets/controls",
          "model_name": "HBoxModel",
          "model_module_version": "1.5.0",
          "state": {
            "_dom_classes": [],
            "_model_module": "@jupyter-widgets/controls",
            "_model_module_version": "1.5.0",
            "_model_name": "HBoxModel",
            "_view_count": null,
            "_view_module": "@jupyter-widgets/controls",
            "_view_module_version": "1.5.0",
            "_view_name": "HBoxView",
            "box_style": "",
            "children": [
              "IPY_MODEL_c39c301af75b48f2b3194f93e7a74267",
              "IPY_MODEL_b7c69ab0da674c7f8b5ba97e5d651693",
              "IPY_MODEL_bd11f08b6df44fd0afd84b4b35e19e1d"
            ],
            "layout": "IPY_MODEL_3f63bdd9a39247059741e9ea84012af5"
          }
        },
        "c39c301af75b48f2b3194f93e7a74267": {
          "model_module": "@jupyter-widgets/controls",
          "model_name": "HTMLModel",
          "model_module_version": "1.5.0",
          "state": {
            "_dom_classes": [],
            "_model_module": "@jupyter-widgets/controls",
            "_model_module_version": "1.5.0",
            "_model_name": "HTMLModel",
            "_view_count": null,
            "_view_module": "@jupyter-widgets/controls",
            "_view_module_version": "1.5.0",
            "_view_name": "HTMLView",
            "description": "",
            "description_tooltip": null,
            "layout": "IPY_MODEL_16e0f9a5aecd41dab11d42325c690c9b",
            "placeholder": "​",
            "style": "IPY_MODEL_e3e2c0ba4fd14bcfba9cb35107ce6618",
            "value": "tokenizer_config.json: 100%"
          }
        },
        "b7c69ab0da674c7f8b5ba97e5d651693": {
          "model_module": "@jupyter-widgets/controls",
          "model_name": "FloatProgressModel",
          "model_module_version": "1.5.0",
          "state": {
            "_dom_classes": [],
            "_model_module": "@jupyter-widgets/controls",
            "_model_module_version": "1.5.0",
            "_model_name": "FloatProgressModel",
            "_view_count": null,
            "_view_module": "@jupyter-widgets/controls",
            "_view_module_version": "1.5.0",
            "_view_name": "ProgressView",
            "bar_style": "success",
            "description": "",
            "description_tooltip": null,
            "layout": "IPY_MODEL_a9f0a274192d4d5ca708b47ae5dbf2c1",
            "max": 48,
            "min": 0,
            "orientation": "horizontal",
            "style": "IPY_MODEL_b134dc6064c4497586e148f52fa66132",
            "value": 48
          }
        },
        "bd11f08b6df44fd0afd84b4b35e19e1d": {
          "model_module": "@jupyter-widgets/controls",
          "model_name": "HTMLModel",
          "model_module_version": "1.5.0",
          "state": {
            "_dom_classes": [],
            "_model_module": "@jupyter-widgets/controls",
            "_model_module_version": "1.5.0",
            "_model_name": "HTMLModel",
            "_view_count": null,
            "_view_module": "@jupyter-widgets/controls",
            "_view_module_version": "1.5.0",
            "_view_name": "HTMLView",
            "description": "",
            "description_tooltip": null,
            "layout": "IPY_MODEL_b0233bd1730e44b397a63a16fff936e9",
            "placeholder": "​",
            "style": "IPY_MODEL_45b74a457e314d63b056fdbfd396ace6",
            "value": " 48.0/48.0 [00:00&lt;00:00, 4.91kB/s]"
          }
        },
        "3f63bdd9a39247059741e9ea84012af5": {
          "model_module": "@jupyter-widgets/base",
          "model_name": "LayoutModel",
          "model_module_version": "1.2.0",
          "state": {
            "_model_module": "@jupyter-widgets/base",
            "_model_module_version": "1.2.0",
            "_model_name": "LayoutModel",
            "_view_count": null,
            "_view_module": "@jupyter-widgets/base",
            "_view_module_version": "1.2.0",
            "_view_name": "LayoutView",
            "align_content": null,
            "align_items": null,
            "align_self": null,
            "border": null,
            "bottom": null,
            "display": null,
            "flex": null,
            "flex_flow": null,
            "grid_area": null,
            "grid_auto_columns": null,
            "grid_auto_flow": null,
            "grid_auto_rows": null,
            "grid_column": null,
            "grid_gap": null,
            "grid_row": null,
            "grid_template_areas": null,
            "grid_template_columns": null,
            "grid_template_rows": null,
            "height": null,
            "justify_content": null,
            "justify_items": null,
            "left": null,
            "margin": null,
            "max_height": null,
            "max_width": null,
            "min_height": null,
            "min_width": null,
            "object_fit": null,
            "object_position": null,
            "order": null,
            "overflow": null,
            "overflow_x": null,
            "overflow_y": null,
            "padding": null,
            "right": null,
            "top": null,
            "visibility": null,
            "width": null
          }
        },
        "16e0f9a5aecd41dab11d42325c690c9b": {
          "model_module": "@jupyter-widgets/base",
          "model_name": "LayoutModel",
          "model_module_version": "1.2.0",
          "state": {
            "_model_module": "@jupyter-widgets/base",
            "_model_module_version": "1.2.0",
            "_model_name": "LayoutModel",
            "_view_count": null,
            "_view_module": "@jupyter-widgets/base",
            "_view_module_version": "1.2.0",
            "_view_name": "LayoutView",
            "align_content": null,
            "align_items": null,
            "align_self": null,
            "border": null,
            "bottom": null,
            "display": null,
            "flex": null,
            "flex_flow": null,
            "grid_area": null,
            "grid_auto_columns": null,
            "grid_auto_flow": null,
            "grid_auto_rows": null,
            "grid_column": null,
            "grid_gap": null,
            "grid_row": null,
            "grid_template_areas": null,
            "grid_template_columns": null,
            "grid_template_rows": null,
            "height": null,
            "justify_content": null,
            "justify_items": null,
            "left": null,
            "margin": null,
            "max_height": null,
            "max_width": null,
            "min_height": null,
            "min_width": null,
            "object_fit": null,
            "object_position": null,
            "order": null,
            "overflow": null,
            "overflow_x": null,
            "overflow_y": null,
            "padding": null,
            "right": null,
            "top": null,
            "visibility": null,
            "width": null
          }
        },
        "e3e2c0ba4fd14bcfba9cb35107ce6618": {
          "model_module": "@jupyter-widgets/controls",
          "model_name": "DescriptionStyleModel",
          "model_module_version": "1.5.0",
          "state": {
            "_model_module": "@jupyter-widgets/controls",
            "_model_module_version": "1.5.0",
            "_model_name": "DescriptionStyleModel",
            "_view_count": null,
            "_view_module": "@jupyter-widgets/base",
            "_view_module_version": "1.2.0",
            "_view_name": "StyleView",
            "description_width": ""
          }
        },
        "a9f0a274192d4d5ca708b47ae5dbf2c1": {
          "model_module": "@jupyter-widgets/base",
          "model_name": "LayoutModel",
          "model_module_version": "1.2.0",
          "state": {
            "_model_module": "@jupyter-widgets/base",
            "_model_module_version": "1.2.0",
            "_model_name": "LayoutModel",
            "_view_count": null,
            "_view_module": "@jupyter-widgets/base",
            "_view_module_version": "1.2.0",
            "_view_name": "LayoutView",
            "align_content": null,
            "align_items": null,
            "align_self": null,
            "border": null,
            "bottom": null,
            "display": null,
            "flex": null,
            "flex_flow": null,
            "grid_area": null,
            "grid_auto_columns": null,
            "grid_auto_flow": null,
            "grid_auto_rows": null,
            "grid_column": null,
            "grid_gap": null,
            "grid_row": null,
            "grid_template_areas": null,
            "grid_template_columns": null,
            "grid_template_rows": null,
            "height": null,
            "justify_content": null,
            "justify_items": null,
            "left": null,
            "margin": null,
            "max_height": null,
            "max_width": null,
            "min_height": null,
            "min_width": null,
            "object_fit": null,
            "object_position": null,
            "order": null,
            "overflow": null,
            "overflow_x": null,
            "overflow_y": null,
            "padding": null,
            "right": null,
            "top": null,
            "visibility": null,
            "width": null
          }
        },
        "b134dc6064c4497586e148f52fa66132": {
          "model_module": "@jupyter-widgets/controls",
          "model_name": "ProgressStyleModel",
          "model_module_version": "1.5.0",
          "state": {
            "_model_module": "@jupyter-widgets/controls",
            "_model_module_version": "1.5.0",
            "_model_name": "ProgressStyleModel",
            "_view_count": null,
            "_view_module": "@jupyter-widgets/base",
            "_view_module_version": "1.2.0",
            "_view_name": "StyleView",
            "bar_color": null,
            "description_width": ""
          }
        },
        "b0233bd1730e44b397a63a16fff936e9": {
          "model_module": "@jupyter-widgets/base",
          "model_name": "LayoutModel",
          "model_module_version": "1.2.0",
          "state": {
            "_model_module": "@jupyter-widgets/base",
            "_model_module_version": "1.2.0",
            "_model_name": "LayoutModel",
            "_view_count": null,
            "_view_module": "@jupyter-widgets/base",
            "_view_module_version": "1.2.0",
            "_view_name": "LayoutView",
            "align_content": null,
            "align_items": null,
            "align_self": null,
            "border": null,
            "bottom": null,
            "display": null,
            "flex": null,
            "flex_flow": null,
            "grid_area": null,
            "grid_auto_columns": null,
            "grid_auto_flow": null,
            "grid_auto_rows": null,
            "grid_column": null,
            "grid_gap": null,
            "grid_row": null,
            "grid_template_areas": null,
            "grid_template_columns": null,
            "grid_template_rows": null,
            "height": null,
            "justify_content": null,
            "justify_items": null,
            "left": null,
            "margin": null,
            "max_height": null,
            "max_width": null,
            "min_height": null,
            "min_width": null,
            "object_fit": null,
            "object_position": null,
            "order": null,
            "overflow": null,
            "overflow_x": null,
            "overflow_y": null,
            "padding": null,
            "right": null,
            "top": null,
            "visibility": null,
            "width": null
          }
        },
        "45b74a457e314d63b056fdbfd396ace6": {
          "model_module": "@jupyter-widgets/controls",
          "model_name": "DescriptionStyleModel",
          "model_module_version": "1.5.0",
          "state": {
            "_model_module": "@jupyter-widgets/controls",
            "_model_module_version": "1.5.0",
            "_model_name": "DescriptionStyleModel",
            "_view_count": null,
            "_view_module": "@jupyter-widgets/base",
            "_view_module_version": "1.2.0",
            "_view_name": "StyleView",
            "description_width": ""
          }
        },
        "9e8a2acaa831451ab58710fa9c02e3ef": {
          "model_module": "@jupyter-widgets/controls",
          "model_name": "HBoxModel",
          "model_module_version": "1.5.0",
          "state": {
            "_dom_classes": [],
            "_model_module": "@jupyter-widgets/controls",
            "_model_module_version": "1.5.0",
            "_model_name": "HBoxModel",
            "_view_count": null,
            "_view_module": "@jupyter-widgets/controls",
            "_view_module_version": "1.5.0",
            "_view_name": "HBoxView",
            "box_style": "",
            "children": [
              "IPY_MODEL_3617beed4a34422797f33155f954771e",
              "IPY_MODEL_663f53f30dc647a4a50848f251170ed5",
              "IPY_MODEL_5532f3953f81418c913fab54f0bc3996"
            ],
            "layout": "IPY_MODEL_871249d6b5b54fbe8bd196e3a51d6508"
          }
        },
        "3617beed4a34422797f33155f954771e": {
          "model_module": "@jupyter-widgets/controls",
          "model_name": "HTMLModel",
          "model_module_version": "1.5.0",
          "state": {
            "_dom_classes": [],
            "_model_module": "@jupyter-widgets/controls",
            "_model_module_version": "1.5.0",
            "_model_name": "HTMLModel",
            "_view_count": null,
            "_view_module": "@jupyter-widgets/controls",
            "_view_module_version": "1.5.0",
            "_view_name": "HTMLView",
            "description": "",
            "description_tooltip": null,
            "layout": "IPY_MODEL_065027ff1eef4815afc3fb6040c0c968",
            "placeholder": "​",
            "style": "IPY_MODEL_48c8033400904c0ba11ade3fe0b22fd2",
            "value": "config.json: 100%"
          }
        },
        "663f53f30dc647a4a50848f251170ed5": {
          "model_module": "@jupyter-widgets/controls",
          "model_name": "FloatProgressModel",
          "model_module_version": "1.5.0",
          "state": {
            "_dom_classes": [],
            "_model_module": "@jupyter-widgets/controls",
            "_model_module_version": "1.5.0",
            "_model_name": "FloatProgressModel",
            "_view_count": null,
            "_view_module": "@jupyter-widgets/controls",
            "_view_module_version": "1.5.0",
            "_view_name": "ProgressView",
            "bar_style": "success",
            "description": "",
            "description_tooltip": null,
            "layout": "IPY_MODEL_4b33fb13db134bf29483d8e312270c34",
            "max": 570,
            "min": 0,
            "orientation": "horizontal",
            "style": "IPY_MODEL_a95840a8202b49518ecc7c7b5e9323f5",
            "value": 570
          }
        },
        "5532f3953f81418c913fab54f0bc3996": {
          "model_module": "@jupyter-widgets/controls",
          "model_name": "HTMLModel",
          "model_module_version": "1.5.0",
          "state": {
            "_dom_classes": [],
            "_model_module": "@jupyter-widgets/controls",
            "_model_module_version": "1.5.0",
            "_model_name": "HTMLModel",
            "_view_count": null,
            "_view_module": "@jupyter-widgets/controls",
            "_view_module_version": "1.5.0",
            "_view_name": "HTMLView",
            "description": "",
            "description_tooltip": null,
            "layout": "IPY_MODEL_d37a60b018894412bd12254dfc0cd910",
            "placeholder": "​",
            "style": "IPY_MODEL_1d3c649ffa414fe5823ce297da2414e1",
            "value": " 570/570 [00:00&lt;00:00, 66.0kB/s]"
          }
        },
        "871249d6b5b54fbe8bd196e3a51d6508": {
          "model_module": "@jupyter-widgets/base",
          "model_name": "LayoutModel",
          "model_module_version": "1.2.0",
          "state": {
            "_model_module": "@jupyter-widgets/base",
            "_model_module_version": "1.2.0",
            "_model_name": "LayoutModel",
            "_view_count": null,
            "_view_module": "@jupyter-widgets/base",
            "_view_module_version": "1.2.0",
            "_view_name": "LayoutView",
            "align_content": null,
            "align_items": null,
            "align_self": null,
            "border": null,
            "bottom": null,
            "display": null,
            "flex": null,
            "flex_flow": null,
            "grid_area": null,
            "grid_auto_columns": null,
            "grid_auto_flow": null,
            "grid_auto_rows": null,
            "grid_column": null,
            "grid_gap": null,
            "grid_row": null,
            "grid_template_areas": null,
            "grid_template_columns": null,
            "grid_template_rows": null,
            "height": null,
            "justify_content": null,
            "justify_items": null,
            "left": null,
            "margin": null,
            "max_height": null,
            "max_width": null,
            "min_height": null,
            "min_width": null,
            "object_fit": null,
            "object_position": null,
            "order": null,
            "overflow": null,
            "overflow_x": null,
            "overflow_y": null,
            "padding": null,
            "right": null,
            "top": null,
            "visibility": null,
            "width": null
          }
        },
        "065027ff1eef4815afc3fb6040c0c968": {
          "model_module": "@jupyter-widgets/base",
          "model_name": "LayoutModel",
          "model_module_version": "1.2.0",
          "state": {
            "_model_module": "@jupyter-widgets/base",
            "_model_module_version": "1.2.0",
            "_model_name": "LayoutModel",
            "_view_count": null,
            "_view_module": "@jupyter-widgets/base",
            "_view_module_version": "1.2.0",
            "_view_name": "LayoutView",
            "align_content": null,
            "align_items": null,
            "align_self": null,
            "border": null,
            "bottom": null,
            "display": null,
            "flex": null,
            "flex_flow": null,
            "grid_area": null,
            "grid_auto_columns": null,
            "grid_auto_flow": null,
            "grid_auto_rows": null,
            "grid_column": null,
            "grid_gap": null,
            "grid_row": null,
            "grid_template_areas": null,
            "grid_template_columns": null,
            "grid_template_rows": null,
            "height": null,
            "justify_content": null,
            "justify_items": null,
            "left": null,
            "margin": null,
            "max_height": null,
            "max_width": null,
            "min_height": null,
            "min_width": null,
            "object_fit": null,
            "object_position": null,
            "order": null,
            "overflow": null,
            "overflow_x": null,
            "overflow_y": null,
            "padding": null,
            "right": null,
            "top": null,
            "visibility": null,
            "width": null
          }
        },
        "48c8033400904c0ba11ade3fe0b22fd2": {
          "model_module": "@jupyter-widgets/controls",
          "model_name": "DescriptionStyleModel",
          "model_module_version": "1.5.0",
          "state": {
            "_model_module": "@jupyter-widgets/controls",
            "_model_module_version": "1.5.0",
            "_model_name": "DescriptionStyleModel",
            "_view_count": null,
            "_view_module": "@jupyter-widgets/base",
            "_view_module_version": "1.2.0",
            "_view_name": "StyleView",
            "description_width": ""
          }
        },
        "4b33fb13db134bf29483d8e312270c34": {
          "model_module": "@jupyter-widgets/base",
          "model_name": "LayoutModel",
          "model_module_version": "1.2.0",
          "state": {
            "_model_module": "@jupyter-widgets/base",
            "_model_module_version": "1.2.0",
            "_model_name": "LayoutModel",
            "_view_count": null,
            "_view_module": "@jupyter-widgets/base",
            "_view_module_version": "1.2.0",
            "_view_name": "LayoutView",
            "align_content": null,
            "align_items": null,
            "align_self": null,
            "border": null,
            "bottom": null,
            "display": null,
            "flex": null,
            "flex_flow": null,
            "grid_area": null,
            "grid_auto_columns": null,
            "grid_auto_flow": null,
            "grid_auto_rows": null,
            "grid_column": null,
            "grid_gap": null,
            "grid_row": null,
            "grid_template_areas": null,
            "grid_template_columns": null,
            "grid_template_rows": null,
            "height": null,
            "justify_content": null,
            "justify_items": null,
            "left": null,
            "margin": null,
            "max_height": null,
            "max_width": null,
            "min_height": null,
            "min_width": null,
            "object_fit": null,
            "object_position": null,
            "order": null,
            "overflow": null,
            "overflow_x": null,
            "overflow_y": null,
            "padding": null,
            "right": null,
            "top": null,
            "visibility": null,
            "width": null
          }
        },
        "a95840a8202b49518ecc7c7b5e9323f5": {
          "model_module": "@jupyter-widgets/controls",
          "model_name": "ProgressStyleModel",
          "model_module_version": "1.5.0",
          "state": {
            "_model_module": "@jupyter-widgets/controls",
            "_model_module_version": "1.5.0",
            "_model_name": "ProgressStyleModel",
            "_view_count": null,
            "_view_module": "@jupyter-widgets/base",
            "_view_module_version": "1.2.0",
            "_view_name": "StyleView",
            "bar_color": null,
            "description_width": ""
          }
        },
        "d37a60b018894412bd12254dfc0cd910": {
          "model_module": "@jupyter-widgets/base",
          "model_name": "LayoutModel",
          "model_module_version": "1.2.0",
          "state": {
            "_model_module": "@jupyter-widgets/base",
            "_model_module_version": "1.2.0",
            "_model_name": "LayoutModel",
            "_view_count": null,
            "_view_module": "@jupyter-widgets/base",
            "_view_module_version": "1.2.0",
            "_view_name": "LayoutView",
            "align_content": null,
            "align_items": null,
            "align_self": null,
            "border": null,
            "bottom": null,
            "display": null,
            "flex": null,
            "flex_flow": null,
            "grid_area": null,
            "grid_auto_columns": null,
            "grid_auto_flow": null,
            "grid_auto_rows": null,
            "grid_column": null,
            "grid_gap": null,
            "grid_row": null,
            "grid_template_areas": null,
            "grid_template_columns": null,
            "grid_template_rows": null,
            "height": null,
            "justify_content": null,
            "justify_items": null,
            "left": null,
            "margin": null,
            "max_height": null,
            "max_width": null,
            "min_height": null,
            "min_width": null,
            "object_fit": null,
            "object_position": null,
            "order": null,
            "overflow": null,
            "overflow_x": null,
            "overflow_y": null,
            "padding": null,
            "right": null,
            "top": null,
            "visibility": null,
            "width": null
          }
        },
        "1d3c649ffa414fe5823ce297da2414e1": {
          "model_module": "@jupyter-widgets/controls",
          "model_name": "DescriptionStyleModel",
          "model_module_version": "1.5.0",
          "state": {
            "_model_module": "@jupyter-widgets/controls",
            "_model_module_version": "1.5.0",
            "_model_name": "DescriptionStyleModel",
            "_view_count": null,
            "_view_module": "@jupyter-widgets/base",
            "_view_module_version": "1.2.0",
            "_view_name": "StyleView",
            "description_width": ""
          }
        },
        "f3e2c1de41ad4dd78b6db483d771fe45": {
          "model_module": "@jupyter-widgets/controls",
          "model_name": "HBoxModel",
          "model_module_version": "1.5.0",
          "state": {
            "_dom_classes": [],
            "_model_module": "@jupyter-widgets/controls",
            "_model_module_version": "1.5.0",
            "_model_name": "HBoxModel",
            "_view_count": null,
            "_view_module": "@jupyter-widgets/controls",
            "_view_module_version": "1.5.0",
            "_view_name": "HBoxView",
            "box_style": "",
            "children": [
              "IPY_MODEL_5f12b32313944ddd9ca4d99fdaade7bc",
              "IPY_MODEL_859889ac96e3409e9c7d9693fb0cb2f0",
              "IPY_MODEL_c8913a5c7498474997b456b723e9519d"
            ],
            "layout": "IPY_MODEL_e2e9da3ff61d4528919feb57fb7a6b7c"
          }
        },
        "5f12b32313944ddd9ca4d99fdaade7bc": {
          "model_module": "@jupyter-widgets/controls",
          "model_name": "HTMLModel",
          "model_module_version": "1.5.0",
          "state": {
            "_dom_classes": [],
            "_model_module": "@jupyter-widgets/controls",
            "_model_module_version": "1.5.0",
            "_model_name": "HTMLModel",
            "_view_count": null,
            "_view_module": "@jupyter-widgets/controls",
            "_view_module_version": "1.5.0",
            "_view_name": "HTMLView",
            "description": "",
            "description_tooltip": null,
            "layout": "IPY_MODEL_023c4d40aa3b499e98910d87bbeeb791",
            "placeholder": "​",
            "style": "IPY_MODEL_37088311ccaf42e0aedd230b17762114",
            "value": "vocab.txt: 100%"
          }
        },
        "859889ac96e3409e9c7d9693fb0cb2f0": {
          "model_module": "@jupyter-widgets/controls",
          "model_name": "FloatProgressModel",
          "model_module_version": "1.5.0",
          "state": {
            "_dom_classes": [],
            "_model_module": "@jupyter-widgets/controls",
            "_model_module_version": "1.5.0",
            "_model_name": "FloatProgressModel",
            "_view_count": null,
            "_view_module": "@jupyter-widgets/controls",
            "_view_module_version": "1.5.0",
            "_view_name": "ProgressView",
            "bar_style": "success",
            "description": "",
            "description_tooltip": null,
            "layout": "IPY_MODEL_73a5ddb5de704986a765020ed09d532b",
            "max": 231508,
            "min": 0,
            "orientation": "horizontal",
            "style": "IPY_MODEL_8eb09623f9ec4c6e93ae7b7d24d8110b",
            "value": 231508
          }
        },
        "c8913a5c7498474997b456b723e9519d": {
          "model_module": "@jupyter-widgets/controls",
          "model_name": "HTMLModel",
          "model_module_version": "1.5.0",
          "state": {
            "_dom_classes": [],
            "_model_module": "@jupyter-widgets/controls",
            "_model_module_version": "1.5.0",
            "_model_name": "HTMLModel",
            "_view_count": null,
            "_view_module": "@jupyter-widgets/controls",
            "_view_module_version": "1.5.0",
            "_view_name": "HTMLView",
            "description": "",
            "description_tooltip": null,
            "layout": "IPY_MODEL_959b793a814b448491ec5ad0c436a9b3",
            "placeholder": "​",
            "style": "IPY_MODEL_6720d4ef90ac49219d42a3c910c005a1",
            "value": " 232k/232k [00:00&lt;00:00, 1.42MB/s]"
          }
        },
        "e2e9da3ff61d4528919feb57fb7a6b7c": {
          "model_module": "@jupyter-widgets/base",
          "model_name": "LayoutModel",
          "model_module_version": "1.2.0",
          "state": {
            "_model_module": "@jupyter-widgets/base",
            "_model_module_version": "1.2.0",
            "_model_name": "LayoutModel",
            "_view_count": null,
            "_view_module": "@jupyter-widgets/base",
            "_view_module_version": "1.2.0",
            "_view_name": "LayoutView",
            "align_content": null,
            "align_items": null,
            "align_self": null,
            "border": null,
            "bottom": null,
            "display": null,
            "flex": null,
            "flex_flow": null,
            "grid_area": null,
            "grid_auto_columns": null,
            "grid_auto_flow": null,
            "grid_auto_rows": null,
            "grid_column": null,
            "grid_gap": null,
            "grid_row": null,
            "grid_template_areas": null,
            "grid_template_columns": null,
            "grid_template_rows": null,
            "height": null,
            "justify_content": null,
            "justify_items": null,
            "left": null,
            "margin": null,
            "max_height": null,
            "max_width": null,
            "min_height": null,
            "min_width": null,
            "object_fit": null,
            "object_position": null,
            "order": null,
            "overflow": null,
            "overflow_x": null,
            "overflow_y": null,
            "padding": null,
            "right": null,
            "top": null,
            "visibility": null,
            "width": null
          }
        },
        "023c4d40aa3b499e98910d87bbeeb791": {
          "model_module": "@jupyter-widgets/base",
          "model_name": "LayoutModel",
          "model_module_version": "1.2.0",
          "state": {
            "_model_module": "@jupyter-widgets/base",
            "_model_module_version": "1.2.0",
            "_model_name": "LayoutModel",
            "_view_count": null,
            "_view_module": "@jupyter-widgets/base",
            "_view_module_version": "1.2.0",
            "_view_name": "LayoutView",
            "align_content": null,
            "align_items": null,
            "align_self": null,
            "border": null,
            "bottom": null,
            "display": null,
            "flex": null,
            "flex_flow": null,
            "grid_area": null,
            "grid_auto_columns": null,
            "grid_auto_flow": null,
            "grid_auto_rows": null,
            "grid_column": null,
            "grid_gap": null,
            "grid_row": null,
            "grid_template_areas": null,
            "grid_template_columns": null,
            "grid_template_rows": null,
            "height": null,
            "justify_content": null,
            "justify_items": null,
            "left": null,
            "margin": null,
            "max_height": null,
            "max_width": null,
            "min_height": null,
            "min_width": null,
            "object_fit": null,
            "object_position": null,
            "order": null,
            "overflow": null,
            "overflow_x": null,
            "overflow_y": null,
            "padding": null,
            "right": null,
            "top": null,
            "visibility": null,
            "width": null
          }
        },
        "37088311ccaf42e0aedd230b17762114": {
          "model_module": "@jupyter-widgets/controls",
          "model_name": "DescriptionStyleModel",
          "model_module_version": "1.5.0",
          "state": {
            "_model_module": "@jupyter-widgets/controls",
            "_model_module_version": "1.5.0",
            "_model_name": "DescriptionStyleModel",
            "_view_count": null,
            "_view_module": "@jupyter-widgets/base",
            "_view_module_version": "1.2.0",
            "_view_name": "StyleView",
            "description_width": ""
          }
        },
        "73a5ddb5de704986a765020ed09d532b": {
          "model_module": "@jupyter-widgets/base",
          "model_name": "LayoutModel",
          "model_module_version": "1.2.0",
          "state": {
            "_model_module": "@jupyter-widgets/base",
            "_model_module_version": "1.2.0",
            "_model_name": "LayoutModel",
            "_view_count": null,
            "_view_module": "@jupyter-widgets/base",
            "_view_module_version": "1.2.0",
            "_view_name": "LayoutView",
            "align_content": null,
            "align_items": null,
            "align_self": null,
            "border": null,
            "bottom": null,
            "display": null,
            "flex": null,
            "flex_flow": null,
            "grid_area": null,
            "grid_auto_columns": null,
            "grid_auto_flow": null,
            "grid_auto_rows": null,
            "grid_column": null,
            "grid_gap": null,
            "grid_row": null,
            "grid_template_areas": null,
            "grid_template_columns": null,
            "grid_template_rows": null,
            "height": null,
            "justify_content": null,
            "justify_items": null,
            "left": null,
            "margin": null,
            "max_height": null,
            "max_width": null,
            "min_height": null,
            "min_width": null,
            "object_fit": null,
            "object_position": null,
            "order": null,
            "overflow": null,
            "overflow_x": null,
            "overflow_y": null,
            "padding": null,
            "right": null,
            "top": null,
            "visibility": null,
            "width": null
          }
        },
        "8eb09623f9ec4c6e93ae7b7d24d8110b": {
          "model_module": "@jupyter-widgets/controls",
          "model_name": "ProgressStyleModel",
          "model_module_version": "1.5.0",
          "state": {
            "_model_module": "@jupyter-widgets/controls",
            "_model_module_version": "1.5.0",
            "_model_name": "ProgressStyleModel",
            "_view_count": null,
            "_view_module": "@jupyter-widgets/base",
            "_view_module_version": "1.2.0",
            "_view_name": "StyleView",
            "bar_color": null,
            "description_width": ""
          }
        },
        "959b793a814b448491ec5ad0c436a9b3": {
          "model_module": "@jupyter-widgets/base",
          "model_name": "LayoutModel",
          "model_module_version": "1.2.0",
          "state": {
            "_model_module": "@jupyter-widgets/base",
            "_model_module_version": "1.2.0",
            "_model_name": "LayoutModel",
            "_view_count": null,
            "_view_module": "@jupyter-widgets/base",
            "_view_module_version": "1.2.0",
            "_view_name": "LayoutView",
            "align_content": null,
            "align_items": null,
            "align_self": null,
            "border": null,
            "bottom": null,
            "display": null,
            "flex": null,
            "flex_flow": null,
            "grid_area": null,
            "grid_auto_columns": null,
            "grid_auto_flow": null,
            "grid_auto_rows": null,
            "grid_column": null,
            "grid_gap": null,
            "grid_row": null,
            "grid_template_areas": null,
            "grid_template_columns": null,
            "grid_template_rows": null,
            "height": null,
            "justify_content": null,
            "justify_items": null,
            "left": null,
            "margin": null,
            "max_height": null,
            "max_width": null,
            "min_height": null,
            "min_width": null,
            "object_fit": null,
            "object_position": null,
            "order": null,
            "overflow": null,
            "overflow_x": null,
            "overflow_y": null,
            "padding": null,
            "right": null,
            "top": null,
            "visibility": null,
            "width": null
          }
        },
        "6720d4ef90ac49219d42a3c910c005a1": {
          "model_module": "@jupyter-widgets/controls",
          "model_name": "DescriptionStyleModel",
          "model_module_version": "1.5.0",
          "state": {
            "_model_module": "@jupyter-widgets/controls",
            "_model_module_version": "1.5.0",
            "_model_name": "DescriptionStyleModel",
            "_view_count": null,
            "_view_module": "@jupyter-widgets/base",
            "_view_module_version": "1.2.0",
            "_view_name": "StyleView",
            "description_width": ""
          }
        },
        "0380fe74b6934474b69a0fb32a58427c": {
          "model_module": "@jupyter-widgets/controls",
          "model_name": "HBoxModel",
          "model_module_version": "1.5.0",
          "state": {
            "_dom_classes": [],
            "_model_module": "@jupyter-widgets/controls",
            "_model_module_version": "1.5.0",
            "_model_name": "HBoxModel",
            "_view_count": null,
            "_view_module": "@jupyter-widgets/controls",
            "_view_module_version": "1.5.0",
            "_view_name": "HBoxView",
            "box_style": "",
            "children": [
              "IPY_MODEL_de31159f27884d3c8908f441accb1c50",
              "IPY_MODEL_83cf16d6142a4b3aae13189dcc3af393",
              "IPY_MODEL_5a37ecd4ed4343709c0d64f2c526f551"
            ],
            "layout": "IPY_MODEL_c166b5875fcb4b44922477620d069bde"
          }
        },
        "de31159f27884d3c8908f441accb1c50": {
          "model_module": "@jupyter-widgets/controls",
          "model_name": "HTMLModel",
          "model_module_version": "1.5.0",
          "state": {
            "_dom_classes": [],
            "_model_module": "@jupyter-widgets/controls",
            "_model_module_version": "1.5.0",
            "_model_name": "HTMLModel",
            "_view_count": null,
            "_view_module": "@jupyter-widgets/controls",
            "_view_module_version": "1.5.0",
            "_view_name": "HTMLView",
            "description": "",
            "description_tooltip": null,
            "layout": "IPY_MODEL_20875c1cf1f6407cbcb7d0e79f02e02a",
            "placeholder": "​",
            "style": "IPY_MODEL_72f759dad1cf44baa292676acc4f7993",
            "value": "tokenizer.json: 100%"
          }
        },
        "83cf16d6142a4b3aae13189dcc3af393": {
          "model_module": "@jupyter-widgets/controls",
          "model_name": "FloatProgressModel",
          "model_module_version": "1.5.0",
          "state": {
            "_dom_classes": [],
            "_model_module": "@jupyter-widgets/controls",
            "_model_module_version": "1.5.0",
            "_model_name": "FloatProgressModel",
            "_view_count": null,
            "_view_module": "@jupyter-widgets/controls",
            "_view_module_version": "1.5.0",
            "_view_name": "ProgressView",
            "bar_style": "success",
            "description": "",
            "description_tooltip": null,
            "layout": "IPY_MODEL_8900ac12eb96434abc00845543baae43",
            "max": 466062,
            "min": 0,
            "orientation": "horizontal",
            "style": "IPY_MODEL_a004712544ca47a4bdc47ff3ce9d0c46",
            "value": 466062
          }
        },
        "5a37ecd4ed4343709c0d64f2c526f551": {
          "model_module": "@jupyter-widgets/controls",
          "model_name": "HTMLModel",
          "model_module_version": "1.5.0",
          "state": {
            "_dom_classes": [],
            "_model_module": "@jupyter-widgets/controls",
            "_model_module_version": "1.5.0",
            "_model_name": "HTMLModel",
            "_view_count": null,
            "_view_module": "@jupyter-widgets/controls",
            "_view_module_version": "1.5.0",
            "_view_name": "HTMLView",
            "description": "",
            "description_tooltip": null,
            "layout": "IPY_MODEL_9955c18c36574dbb942fce221c81a49a",
            "placeholder": "​",
            "style": "IPY_MODEL_0566f503d8924929b716bf0f88e63f4d",
            "value": " 466k/466k [00:00&lt;00:00, 2.77MB/s]"
          }
        },
        "c166b5875fcb4b44922477620d069bde": {
          "model_module": "@jupyter-widgets/base",
          "model_name": "LayoutModel",
          "model_module_version": "1.2.0",
          "state": {
            "_model_module": "@jupyter-widgets/base",
            "_model_module_version": "1.2.0",
            "_model_name": "LayoutModel",
            "_view_count": null,
            "_view_module": "@jupyter-widgets/base",
            "_view_module_version": "1.2.0",
            "_view_name": "LayoutView",
            "align_content": null,
            "align_items": null,
            "align_self": null,
            "border": null,
            "bottom": null,
            "display": null,
            "flex": null,
            "flex_flow": null,
            "grid_area": null,
            "grid_auto_columns": null,
            "grid_auto_flow": null,
            "grid_auto_rows": null,
            "grid_column": null,
            "grid_gap": null,
            "grid_row": null,
            "grid_template_areas": null,
            "grid_template_columns": null,
            "grid_template_rows": null,
            "height": null,
            "justify_content": null,
            "justify_items": null,
            "left": null,
            "margin": null,
            "max_height": null,
            "max_width": null,
            "min_height": null,
            "min_width": null,
            "object_fit": null,
            "object_position": null,
            "order": null,
            "overflow": null,
            "overflow_x": null,
            "overflow_y": null,
            "padding": null,
            "right": null,
            "top": null,
            "visibility": null,
            "width": null
          }
        },
        "20875c1cf1f6407cbcb7d0e79f02e02a": {
          "model_module": "@jupyter-widgets/base",
          "model_name": "LayoutModel",
          "model_module_version": "1.2.0",
          "state": {
            "_model_module": "@jupyter-widgets/base",
            "_model_module_version": "1.2.0",
            "_model_name": "LayoutModel",
            "_view_count": null,
            "_view_module": "@jupyter-widgets/base",
            "_view_module_version": "1.2.0",
            "_view_name": "LayoutView",
            "align_content": null,
            "align_items": null,
            "align_self": null,
            "border": null,
            "bottom": null,
            "display": null,
            "flex": null,
            "flex_flow": null,
            "grid_area": null,
            "grid_auto_columns": null,
            "grid_auto_flow": null,
            "grid_auto_rows": null,
            "grid_column": null,
            "grid_gap": null,
            "grid_row": null,
            "grid_template_areas": null,
            "grid_template_columns": null,
            "grid_template_rows": null,
            "height": null,
            "justify_content": null,
            "justify_items": null,
            "left": null,
            "margin": null,
            "max_height": null,
            "max_width": null,
            "min_height": null,
            "min_width": null,
            "object_fit": null,
            "object_position": null,
            "order": null,
            "overflow": null,
            "overflow_x": null,
            "overflow_y": null,
            "padding": null,
            "right": null,
            "top": null,
            "visibility": null,
            "width": null
          }
        },
        "72f759dad1cf44baa292676acc4f7993": {
          "model_module": "@jupyter-widgets/controls",
          "model_name": "DescriptionStyleModel",
          "model_module_version": "1.5.0",
          "state": {
            "_model_module": "@jupyter-widgets/controls",
            "_model_module_version": "1.5.0",
            "_model_name": "DescriptionStyleModel",
            "_view_count": null,
            "_view_module": "@jupyter-widgets/base",
            "_view_module_version": "1.2.0",
            "_view_name": "StyleView",
            "description_width": ""
          }
        },
        "8900ac12eb96434abc00845543baae43": {
          "model_module": "@jupyter-widgets/base",
          "model_name": "LayoutModel",
          "model_module_version": "1.2.0",
          "state": {
            "_model_module": "@jupyter-widgets/base",
            "_model_module_version": "1.2.0",
            "_model_name": "LayoutModel",
            "_view_count": null,
            "_view_module": "@jupyter-widgets/base",
            "_view_module_version": "1.2.0",
            "_view_name": "LayoutView",
            "align_content": null,
            "align_items": null,
            "align_self": null,
            "border": null,
            "bottom": null,
            "display": null,
            "flex": null,
            "flex_flow": null,
            "grid_area": null,
            "grid_auto_columns": null,
            "grid_auto_flow": null,
            "grid_auto_rows": null,
            "grid_column": null,
            "grid_gap": null,
            "grid_row": null,
            "grid_template_areas": null,
            "grid_template_columns": null,
            "grid_template_rows": null,
            "height": null,
            "justify_content": null,
            "justify_items": null,
            "left": null,
            "margin": null,
            "max_height": null,
            "max_width": null,
            "min_height": null,
            "min_width": null,
            "object_fit": null,
            "object_position": null,
            "order": null,
            "overflow": null,
            "overflow_x": null,
            "overflow_y": null,
            "padding": null,
            "right": null,
            "top": null,
            "visibility": null,
            "width": null
          }
        },
        "a004712544ca47a4bdc47ff3ce9d0c46": {
          "model_module": "@jupyter-widgets/controls",
          "model_name": "ProgressStyleModel",
          "model_module_version": "1.5.0",
          "state": {
            "_model_module": "@jupyter-widgets/controls",
            "_model_module_version": "1.5.0",
            "_model_name": "ProgressStyleModel",
            "_view_count": null,
            "_view_module": "@jupyter-widgets/base",
            "_view_module_version": "1.2.0",
            "_view_name": "StyleView",
            "bar_color": null,
            "description_width": ""
          }
        },
        "9955c18c36574dbb942fce221c81a49a": {
          "model_module": "@jupyter-widgets/base",
          "model_name": "LayoutModel",
          "model_module_version": "1.2.0",
          "state": {
            "_model_module": "@jupyter-widgets/base",
            "_model_module_version": "1.2.0",
            "_model_name": "LayoutModel",
            "_view_count": null,
            "_view_module": "@jupyter-widgets/base",
            "_view_module_version": "1.2.0",
            "_view_name": "LayoutView",
            "align_content": null,
            "align_items": null,
            "align_self": null,
            "border": null,
            "bottom": null,
            "display": null,
            "flex": null,
            "flex_flow": null,
            "grid_area": null,
            "grid_auto_columns": null,
            "grid_auto_flow": null,
            "grid_auto_rows": null,
            "grid_column": null,
            "grid_gap": null,
            "grid_row": null,
            "grid_template_areas": null,
            "grid_template_columns": null,
            "grid_template_rows": null,
            "height": null,
            "justify_content": null,
            "justify_items": null,
            "left": null,
            "margin": null,
            "max_height": null,
            "max_width": null,
            "min_height": null,
            "min_width": null,
            "object_fit": null,
            "object_position": null,
            "order": null,
            "overflow": null,
            "overflow_x": null,
            "overflow_y": null,
            "padding": null,
            "right": null,
            "top": null,
            "visibility": null,
            "width": null
          }
        },
        "0566f503d8924929b716bf0f88e63f4d": {
          "model_module": "@jupyter-widgets/controls",
          "model_name": "DescriptionStyleModel",
          "model_module_version": "1.5.0",
          "state": {
            "_model_module": "@jupyter-widgets/controls",
            "_model_module_version": "1.5.0",
            "_model_name": "DescriptionStyleModel",
            "_view_count": null,
            "_view_module": "@jupyter-widgets/base",
            "_view_module_version": "1.2.0",
            "_view_name": "StyleView",
            "description_width": ""
          }
        },
        "e007c37a1d28438dbd7b020b6ff892e1": {
          "model_module": "@jupyter-widgets/controls",
          "model_name": "HBoxModel",
          "model_module_version": "1.5.0",
          "state": {
            "_dom_classes": [],
            "_model_module": "@jupyter-widgets/controls",
            "_model_module_version": "1.5.0",
            "_model_name": "HBoxModel",
            "_view_count": null,
            "_view_module": "@jupyter-widgets/controls",
            "_view_module_version": "1.5.0",
            "_view_name": "HBoxView",
            "box_style": "",
            "children": [
              "IPY_MODEL_f789e6afd0f446699ea2d11f385476b7",
              "IPY_MODEL_df05766b99f34594ba095f76e44b5507",
              "IPY_MODEL_429aefdea3144de38b301a5055965697"
            ],
            "layout": "IPY_MODEL_33a91cbdbf164c159cf34652bde0d004"
          }
        },
        "f789e6afd0f446699ea2d11f385476b7": {
          "model_module": "@jupyter-widgets/controls",
          "model_name": "HTMLModel",
          "model_module_version": "1.5.0",
          "state": {
            "_dom_classes": [],
            "_model_module": "@jupyter-widgets/controls",
            "_model_module_version": "1.5.0",
            "_model_name": "HTMLModel",
            "_view_count": null,
            "_view_module": "@jupyter-widgets/controls",
            "_view_module_version": "1.5.0",
            "_view_name": "HTMLView",
            "description": "",
            "description_tooltip": null,
            "layout": "IPY_MODEL_1796417276034f99ab44f838ddc8255f",
            "placeholder": "​",
            "style": "IPY_MODEL_8ca30f5cafca49499aaf471a2f0212d7",
            "value": "Downloading builder script: 100%"
          }
        },
        "df05766b99f34594ba095f76e44b5507": {
          "model_module": "@jupyter-widgets/controls",
          "model_name": "FloatProgressModel",
          "model_module_version": "1.5.0",
          "state": {
            "_dom_classes": [],
            "_model_module": "@jupyter-widgets/controls",
            "_model_module_version": "1.5.0",
            "_model_name": "FloatProgressModel",
            "_view_count": null,
            "_view_module": "@jupyter-widgets/controls",
            "_view_module_version": "1.5.0",
            "_view_name": "ProgressView",
            "bar_style": "success",
            "description": "",
            "description_tooltip": null,
            "layout": "IPY_MODEL_3389cd9af0a64d509602ff061b3054a4",
            "max": 7560,
            "min": 0,
            "orientation": "horizontal",
            "style": "IPY_MODEL_0a12498e5c4a44a9b05db7c58024238b",
            "value": 7560
          }
        },
        "429aefdea3144de38b301a5055965697": {
          "model_module": "@jupyter-widgets/controls",
          "model_name": "HTMLModel",
          "model_module_version": "1.5.0",
          "state": {
            "_dom_classes": [],
            "_model_module": "@jupyter-widgets/controls",
            "_model_module_version": "1.5.0",
            "_model_name": "HTMLModel",
            "_view_count": null,
            "_view_module": "@jupyter-widgets/controls",
            "_view_module_version": "1.5.0",
            "_view_name": "HTMLView",
            "description": "",
            "description_tooltip": null,
            "layout": "IPY_MODEL_381885941be94b35aaab6b78e246de5e",
            "placeholder": "​",
            "style": "IPY_MODEL_2e2be86d98284e3eaac70dc3e0f8c6bf",
            "value": " 7.56k/7.56k [00:00&lt;00:00, 709kB/s]"
          }
        },
        "33a91cbdbf164c159cf34652bde0d004": {
          "model_module": "@jupyter-widgets/base",
          "model_name": "LayoutModel",
          "model_module_version": "1.2.0",
          "state": {
            "_model_module": "@jupyter-widgets/base",
            "_model_module_version": "1.2.0",
            "_model_name": "LayoutModel",
            "_view_count": null,
            "_view_module": "@jupyter-widgets/base",
            "_view_module_version": "1.2.0",
            "_view_name": "LayoutView",
            "align_content": null,
            "align_items": null,
            "align_self": null,
            "border": null,
            "bottom": null,
            "display": null,
            "flex": null,
            "flex_flow": null,
            "grid_area": null,
            "grid_auto_columns": null,
            "grid_auto_flow": null,
            "grid_auto_rows": null,
            "grid_column": null,
            "grid_gap": null,
            "grid_row": null,
            "grid_template_areas": null,
            "grid_template_columns": null,
            "grid_template_rows": null,
            "height": null,
            "justify_content": null,
            "justify_items": null,
            "left": null,
            "margin": null,
            "max_height": null,
            "max_width": null,
            "min_height": null,
            "min_width": null,
            "object_fit": null,
            "object_position": null,
            "order": null,
            "overflow": null,
            "overflow_x": null,
            "overflow_y": null,
            "padding": null,
            "right": null,
            "top": null,
            "visibility": null,
            "width": null
          }
        },
        "1796417276034f99ab44f838ddc8255f": {
          "model_module": "@jupyter-widgets/base",
          "model_name": "LayoutModel",
          "model_module_version": "1.2.0",
          "state": {
            "_model_module": "@jupyter-widgets/base",
            "_model_module_version": "1.2.0",
            "_model_name": "LayoutModel",
            "_view_count": null,
            "_view_module": "@jupyter-widgets/base",
            "_view_module_version": "1.2.0",
            "_view_name": "LayoutView",
            "align_content": null,
            "align_items": null,
            "align_self": null,
            "border": null,
            "bottom": null,
            "display": null,
            "flex": null,
            "flex_flow": null,
            "grid_area": null,
            "grid_auto_columns": null,
            "grid_auto_flow": null,
            "grid_auto_rows": null,
            "grid_column": null,
            "grid_gap": null,
            "grid_row": null,
            "grid_template_areas": null,
            "grid_template_columns": null,
            "grid_template_rows": null,
            "height": null,
            "justify_content": null,
            "justify_items": null,
            "left": null,
            "margin": null,
            "max_height": null,
            "max_width": null,
            "min_height": null,
            "min_width": null,
            "object_fit": null,
            "object_position": null,
            "order": null,
            "overflow": null,
            "overflow_x": null,
            "overflow_y": null,
            "padding": null,
            "right": null,
            "top": null,
            "visibility": null,
            "width": null
          }
        },
        "8ca30f5cafca49499aaf471a2f0212d7": {
          "model_module": "@jupyter-widgets/controls",
          "model_name": "DescriptionStyleModel",
          "model_module_version": "1.5.0",
          "state": {
            "_model_module": "@jupyter-widgets/controls",
            "_model_module_version": "1.5.0",
            "_model_name": "DescriptionStyleModel",
            "_view_count": null,
            "_view_module": "@jupyter-widgets/base",
            "_view_module_version": "1.2.0",
            "_view_name": "StyleView",
            "description_width": ""
          }
        },
        "3389cd9af0a64d509602ff061b3054a4": {
          "model_module": "@jupyter-widgets/base",
          "model_name": "LayoutModel",
          "model_module_version": "1.2.0",
          "state": {
            "_model_module": "@jupyter-widgets/base",
            "_model_module_version": "1.2.0",
            "_model_name": "LayoutModel",
            "_view_count": null,
            "_view_module": "@jupyter-widgets/base",
            "_view_module_version": "1.2.0",
            "_view_name": "LayoutView",
            "align_content": null,
            "align_items": null,
            "align_self": null,
            "border": null,
            "bottom": null,
            "display": null,
            "flex": null,
            "flex_flow": null,
            "grid_area": null,
            "grid_auto_columns": null,
            "grid_auto_flow": null,
            "grid_auto_rows": null,
            "grid_column": null,
            "grid_gap": null,
            "grid_row": null,
            "grid_template_areas": null,
            "grid_template_columns": null,
            "grid_template_rows": null,
            "height": null,
            "justify_content": null,
            "justify_items": null,
            "left": null,
            "margin": null,
            "max_height": null,
            "max_width": null,
            "min_height": null,
            "min_width": null,
            "object_fit": null,
            "object_position": null,
            "order": null,
            "overflow": null,
            "overflow_x": null,
            "overflow_y": null,
            "padding": null,
            "right": null,
            "top": null,
            "visibility": null,
            "width": null
          }
        },
        "0a12498e5c4a44a9b05db7c58024238b": {
          "model_module": "@jupyter-widgets/controls",
          "model_name": "ProgressStyleModel",
          "model_module_version": "1.5.0",
          "state": {
            "_model_module": "@jupyter-widgets/controls",
            "_model_module_version": "1.5.0",
            "_model_name": "ProgressStyleModel",
            "_view_count": null,
            "_view_module": "@jupyter-widgets/base",
            "_view_module_version": "1.2.0",
            "_view_name": "StyleView",
            "bar_color": null,
            "description_width": ""
          }
        },
        "381885941be94b35aaab6b78e246de5e": {
          "model_module": "@jupyter-widgets/base",
          "model_name": "LayoutModel",
          "model_module_version": "1.2.0",
          "state": {
            "_model_module": "@jupyter-widgets/base",
            "_model_module_version": "1.2.0",
            "_model_name": "LayoutModel",
            "_view_count": null,
            "_view_module": "@jupyter-widgets/base",
            "_view_module_version": "1.2.0",
            "_view_name": "LayoutView",
            "align_content": null,
            "align_items": null,
            "align_self": null,
            "border": null,
            "bottom": null,
            "display": null,
            "flex": null,
            "flex_flow": null,
            "grid_area": null,
            "grid_auto_columns": null,
            "grid_auto_flow": null,
            "grid_auto_rows": null,
            "grid_column": null,
            "grid_gap": null,
            "grid_row": null,
            "grid_template_areas": null,
            "grid_template_columns": null,
            "grid_template_rows": null,
            "height": null,
            "justify_content": null,
            "justify_items": null,
            "left": null,
            "margin": null,
            "max_height": null,
            "max_width": null,
            "min_height": null,
            "min_width": null,
            "object_fit": null,
            "object_position": null,
            "order": null,
            "overflow": null,
            "overflow_x": null,
            "overflow_y": null,
            "padding": null,
            "right": null,
            "top": null,
            "visibility": null,
            "width": null
          }
        },
        "2e2be86d98284e3eaac70dc3e0f8c6bf": {
          "model_module": "@jupyter-widgets/controls",
          "model_name": "DescriptionStyleModel",
          "model_module_version": "1.5.0",
          "state": {
            "_model_module": "@jupyter-widgets/controls",
            "_model_module_version": "1.5.0",
            "_model_name": "DescriptionStyleModel",
            "_view_count": null,
            "_view_module": "@jupyter-widgets/base",
            "_view_module_version": "1.2.0",
            "_view_name": "StyleView",
            "description_width": ""
          }
        },
        "5718584581b44e60acdc4fefe40d7f17": {
          "model_module": "@jupyter-widgets/controls",
          "model_name": "HBoxModel",
          "model_module_version": "1.5.0",
          "state": {
            "_dom_classes": [],
            "_model_module": "@jupyter-widgets/controls",
            "_model_module_version": "1.5.0",
            "_model_name": "HBoxModel",
            "_view_count": null,
            "_view_module": "@jupyter-widgets/controls",
            "_view_module_version": "1.5.0",
            "_view_name": "HBoxView",
            "box_style": "",
            "children": [
              "IPY_MODEL_6b128fcf44b14069aa567c7e4cdd3b73",
              "IPY_MODEL_1073d2d677254a67a8e8ebf43c2a4021",
              "IPY_MODEL_1c19862adb484ae9b020781f950cb98b"
            ],
            "layout": "IPY_MODEL_9741f157da7a443ca8bad6b9bc837a3a"
          }
        },
        "6b128fcf44b14069aa567c7e4cdd3b73": {
          "model_module": "@jupyter-widgets/controls",
          "model_name": "HTMLModel",
          "model_module_version": "1.5.0",
          "state": {
            "_dom_classes": [],
            "_model_module": "@jupyter-widgets/controls",
            "_model_module_version": "1.5.0",
            "_model_name": "HTMLModel",
            "_view_count": null,
            "_view_module": "@jupyter-widgets/controls",
            "_view_module_version": "1.5.0",
            "_view_name": "HTMLView",
            "description": "",
            "description_tooltip": null,
            "layout": "IPY_MODEL_b47f27a19d284a8e9a08fab2476aa50d",
            "placeholder": "​",
            "style": "IPY_MODEL_65dad21155a54ce2a764f3c774ca9e90",
            "value": "Downloading builder script: 100%"
          }
        },
        "1073d2d677254a67a8e8ebf43c2a4021": {
          "model_module": "@jupyter-widgets/controls",
          "model_name": "FloatProgressModel",
          "model_module_version": "1.5.0",
          "state": {
            "_dom_classes": [],
            "_model_module": "@jupyter-widgets/controls",
            "_model_module_version": "1.5.0",
            "_model_name": "FloatProgressModel",
            "_view_count": null,
            "_view_module": "@jupyter-widgets/controls",
            "_view_module_version": "1.5.0",
            "_view_name": "ProgressView",
            "bar_style": "success",
            "description": "",
            "description_tooltip": null,
            "layout": "IPY_MODEL_0a97222da5954aec86e4f83761b8cc35",
            "max": 7377,
            "min": 0,
            "orientation": "horizontal",
            "style": "IPY_MODEL_3eb76f285fbc4c71b1d90dc40378cada",
            "value": 7377
          }
        },
        "1c19862adb484ae9b020781f950cb98b": {
          "model_module": "@jupyter-widgets/controls",
          "model_name": "HTMLModel",
          "model_module_version": "1.5.0",
          "state": {
            "_dom_classes": [],
            "_model_module": "@jupyter-widgets/controls",
            "_model_module_version": "1.5.0",
            "_model_name": "HTMLModel",
            "_view_count": null,
            "_view_module": "@jupyter-widgets/controls",
            "_view_module_version": "1.5.0",
            "_view_name": "HTMLView",
            "description": "",
            "description_tooltip": null,
            "layout": "IPY_MODEL_c396dd303ea049ebbbed1ddf4d4d9217",
            "placeholder": "​",
            "style": "IPY_MODEL_57beda480c2d47f9b1e8d369ad7a1326",
            "value": " 7.38k/7.38k [00:00&lt;00:00, 480kB/s]"
          }
        },
        "9741f157da7a443ca8bad6b9bc837a3a": {
          "model_module": "@jupyter-widgets/base",
          "model_name": "LayoutModel",
          "model_module_version": "1.2.0",
          "state": {
            "_model_module": "@jupyter-widgets/base",
            "_model_module_version": "1.2.0",
            "_model_name": "LayoutModel",
            "_view_count": null,
            "_view_module": "@jupyter-widgets/base",
            "_view_module_version": "1.2.0",
            "_view_name": "LayoutView",
            "align_content": null,
            "align_items": null,
            "align_self": null,
            "border": null,
            "bottom": null,
            "display": null,
            "flex": null,
            "flex_flow": null,
            "grid_area": null,
            "grid_auto_columns": null,
            "grid_auto_flow": null,
            "grid_auto_rows": null,
            "grid_column": null,
            "grid_gap": null,
            "grid_row": null,
            "grid_template_areas": null,
            "grid_template_columns": null,
            "grid_template_rows": null,
            "height": null,
            "justify_content": null,
            "justify_items": null,
            "left": null,
            "margin": null,
            "max_height": null,
            "max_width": null,
            "min_height": null,
            "min_width": null,
            "object_fit": null,
            "object_position": null,
            "order": null,
            "overflow": null,
            "overflow_x": null,
            "overflow_y": null,
            "padding": null,
            "right": null,
            "top": null,
            "visibility": null,
            "width": null
          }
        },
        "b47f27a19d284a8e9a08fab2476aa50d": {
          "model_module": "@jupyter-widgets/base",
          "model_name": "LayoutModel",
          "model_module_version": "1.2.0",
          "state": {
            "_model_module": "@jupyter-widgets/base",
            "_model_module_version": "1.2.0",
            "_model_name": "LayoutModel",
            "_view_count": null,
            "_view_module": "@jupyter-widgets/base",
            "_view_module_version": "1.2.0",
            "_view_name": "LayoutView",
            "align_content": null,
            "align_items": null,
            "align_self": null,
            "border": null,
            "bottom": null,
            "display": null,
            "flex": null,
            "flex_flow": null,
            "grid_area": null,
            "grid_auto_columns": null,
            "grid_auto_flow": null,
            "grid_auto_rows": null,
            "grid_column": null,
            "grid_gap": null,
            "grid_row": null,
            "grid_template_areas": null,
            "grid_template_columns": null,
            "grid_template_rows": null,
            "height": null,
            "justify_content": null,
            "justify_items": null,
            "left": null,
            "margin": null,
            "max_height": null,
            "max_width": null,
            "min_height": null,
            "min_width": null,
            "object_fit": null,
            "object_position": null,
            "order": null,
            "overflow": null,
            "overflow_x": null,
            "overflow_y": null,
            "padding": null,
            "right": null,
            "top": null,
            "visibility": null,
            "width": null
          }
        },
        "65dad21155a54ce2a764f3c774ca9e90": {
          "model_module": "@jupyter-widgets/controls",
          "model_name": "DescriptionStyleModel",
          "model_module_version": "1.5.0",
          "state": {
            "_model_module": "@jupyter-widgets/controls",
            "_model_module_version": "1.5.0",
            "_model_name": "DescriptionStyleModel",
            "_view_count": null,
            "_view_module": "@jupyter-widgets/base",
            "_view_module_version": "1.2.0",
            "_view_name": "StyleView",
            "description_width": ""
          }
        },
        "0a97222da5954aec86e4f83761b8cc35": {
          "model_module": "@jupyter-widgets/base",
          "model_name": "LayoutModel",
          "model_module_version": "1.2.0",
          "state": {
            "_model_module": "@jupyter-widgets/base",
            "_model_module_version": "1.2.0",
            "_model_name": "LayoutModel",
            "_view_count": null,
            "_view_module": "@jupyter-widgets/base",
            "_view_module_version": "1.2.0",
            "_view_name": "LayoutView",
            "align_content": null,
            "align_items": null,
            "align_self": null,
            "border": null,
            "bottom": null,
            "display": null,
            "flex": null,
            "flex_flow": null,
            "grid_area": null,
            "grid_auto_columns": null,
            "grid_auto_flow": null,
            "grid_auto_rows": null,
            "grid_column": null,
            "grid_gap": null,
            "grid_row": null,
            "grid_template_areas": null,
            "grid_template_columns": null,
            "grid_template_rows": null,
            "height": null,
            "justify_content": null,
            "justify_items": null,
            "left": null,
            "margin": null,
            "max_height": null,
            "max_width": null,
            "min_height": null,
            "min_width": null,
            "object_fit": null,
            "object_position": null,
            "order": null,
            "overflow": null,
            "overflow_x": null,
            "overflow_y": null,
            "padding": null,
            "right": null,
            "top": null,
            "visibility": null,
            "width": null
          }
        },
        "3eb76f285fbc4c71b1d90dc40378cada": {
          "model_module": "@jupyter-widgets/controls",
          "model_name": "ProgressStyleModel",
          "model_module_version": "1.5.0",
          "state": {
            "_model_module": "@jupyter-widgets/controls",
            "_model_module_version": "1.5.0",
            "_model_name": "ProgressStyleModel",
            "_view_count": null,
            "_view_module": "@jupyter-widgets/base",
            "_view_module_version": "1.2.0",
            "_view_name": "StyleView",
            "bar_color": null,
            "description_width": ""
          }
        },
        "c396dd303ea049ebbbed1ddf4d4d9217": {
          "model_module": "@jupyter-widgets/base",
          "model_name": "LayoutModel",
          "model_module_version": "1.2.0",
          "state": {
            "_model_module": "@jupyter-widgets/base",
            "_model_module_version": "1.2.0",
            "_model_name": "LayoutModel",
            "_view_count": null,
            "_view_module": "@jupyter-widgets/base",
            "_view_module_version": "1.2.0",
            "_view_name": "LayoutView",
            "align_content": null,
            "align_items": null,
            "align_self": null,
            "border": null,
            "bottom": null,
            "display": null,
            "flex": null,
            "flex_flow": null,
            "grid_area": null,
            "grid_auto_columns": null,
            "grid_auto_flow": null,
            "grid_auto_rows": null,
            "grid_column": null,
            "grid_gap": null,
            "grid_row": null,
            "grid_template_areas": null,
            "grid_template_columns": null,
            "grid_template_rows": null,
            "height": null,
            "justify_content": null,
            "justify_items": null,
            "left": null,
            "margin": null,
            "max_height": null,
            "max_width": null,
            "min_height": null,
            "min_width": null,
            "object_fit": null,
            "object_position": null,
            "order": null,
            "overflow": null,
            "overflow_x": null,
            "overflow_y": null,
            "padding": null,
            "right": null,
            "top": null,
            "visibility": null,
            "width": null
          }
        },
        "57beda480c2d47f9b1e8d369ad7a1326": {
          "model_module": "@jupyter-widgets/controls",
          "model_name": "DescriptionStyleModel",
          "model_module_version": "1.5.0",
          "state": {
            "_model_module": "@jupyter-widgets/controls",
            "_model_module_version": "1.5.0",
            "_model_name": "DescriptionStyleModel",
            "_view_count": null,
            "_view_module": "@jupyter-widgets/base",
            "_view_module_version": "1.2.0",
            "_view_name": "StyleView",
            "description_width": ""
          }
        },
        "b63425326a824f80a05567c74b693776": {
          "model_module": "@jupyter-widgets/controls",
          "model_name": "HBoxModel",
          "model_module_version": "1.5.0",
          "state": {
            "_dom_classes": [],
            "_model_module": "@jupyter-widgets/controls",
            "_model_module_version": "1.5.0",
            "_model_name": "HBoxModel",
            "_view_count": null,
            "_view_module": "@jupyter-widgets/controls",
            "_view_module_version": "1.5.0",
            "_view_name": "HBoxView",
            "box_style": "",
            "children": [
              "IPY_MODEL_b7bd8c51b5074a7295da8a1cc316f040",
              "IPY_MODEL_fb0f8aa8588d40268cec889633b4ed67",
              "IPY_MODEL_5c2cc83b166443178488f017a6cd5d6d"
            ],
            "layout": "IPY_MODEL_8c920744b72b4049b2ce5ecb74ae4dd1"
          }
        },
        "b7bd8c51b5074a7295da8a1cc316f040": {
          "model_module": "@jupyter-widgets/controls",
          "model_name": "HTMLModel",
          "model_module_version": "1.5.0",
          "state": {
            "_dom_classes": [],
            "_model_module": "@jupyter-widgets/controls",
            "_model_module_version": "1.5.0",
            "_model_name": "HTMLModel",
            "_view_count": null,
            "_view_module": "@jupyter-widgets/controls",
            "_view_module_version": "1.5.0",
            "_view_name": "HTMLView",
            "description": "",
            "description_tooltip": null,
            "layout": "IPY_MODEL_3d7c3d8a25f74f24b12da18990288cb5",
            "placeholder": "​",
            "style": "IPY_MODEL_cd350320edd1436daebddc2cc9cf193f",
            "value": "Downloading builder script: 100%"
          }
        },
        "fb0f8aa8588d40268cec889633b4ed67": {
          "model_module": "@jupyter-widgets/controls",
          "model_name": "FloatProgressModel",
          "model_module_version": "1.5.0",
          "state": {
            "_dom_classes": [],
            "_model_module": "@jupyter-widgets/controls",
            "_model_module_version": "1.5.0",
            "_model_name": "FloatProgressModel",
            "_view_count": null,
            "_view_module": "@jupyter-widgets/controls",
            "_view_module_version": "1.5.0",
            "_view_name": "ProgressView",
            "bar_style": "success",
            "description": "",
            "description_tooltip": null,
            "layout": "IPY_MODEL_89d8c0bd85ef429dbdba8ddd4430a62a",
            "max": 4203,
            "min": 0,
            "orientation": "horizontal",
            "style": "IPY_MODEL_27c6bf696f4643118d25d9077d1ce7a2",
            "value": 4203
          }
        },
        "5c2cc83b166443178488f017a6cd5d6d": {
          "model_module": "@jupyter-widgets/controls",
          "model_name": "HTMLModel",
          "model_module_version": "1.5.0",
          "state": {
            "_dom_classes": [],
            "_model_module": "@jupyter-widgets/controls",
            "_model_module_version": "1.5.0",
            "_model_name": "HTMLModel",
            "_view_count": null,
            "_view_module": "@jupyter-widgets/controls",
            "_view_module_version": "1.5.0",
            "_view_name": "HTMLView",
            "description": "",
            "description_tooltip": null,
            "layout": "IPY_MODEL_142216ae11f14885b42e461d973418fc",
            "placeholder": "​",
            "style": "IPY_MODEL_6b1d342268e24d28a40d073db4ef5db0",
            "value": " 4.20k/4.20k [00:00&lt;00:00, 450kB/s]"
          }
        },
        "8c920744b72b4049b2ce5ecb74ae4dd1": {
          "model_module": "@jupyter-widgets/base",
          "model_name": "LayoutModel",
          "model_module_version": "1.2.0",
          "state": {
            "_model_module": "@jupyter-widgets/base",
            "_model_module_version": "1.2.0",
            "_model_name": "LayoutModel",
            "_view_count": null,
            "_view_module": "@jupyter-widgets/base",
            "_view_module_version": "1.2.0",
            "_view_name": "LayoutView",
            "align_content": null,
            "align_items": null,
            "align_self": null,
            "border": null,
            "bottom": null,
            "display": null,
            "flex": null,
            "flex_flow": null,
            "grid_area": null,
            "grid_auto_columns": null,
            "grid_auto_flow": null,
            "grid_auto_rows": null,
            "grid_column": null,
            "grid_gap": null,
            "grid_row": null,
            "grid_template_areas": null,
            "grid_template_columns": null,
            "grid_template_rows": null,
            "height": null,
            "justify_content": null,
            "justify_items": null,
            "left": null,
            "margin": null,
            "max_height": null,
            "max_width": null,
            "min_height": null,
            "min_width": null,
            "object_fit": null,
            "object_position": null,
            "order": null,
            "overflow": null,
            "overflow_x": null,
            "overflow_y": null,
            "padding": null,
            "right": null,
            "top": null,
            "visibility": null,
            "width": null
          }
        },
        "3d7c3d8a25f74f24b12da18990288cb5": {
          "model_module": "@jupyter-widgets/base",
          "model_name": "LayoutModel",
          "model_module_version": "1.2.0",
          "state": {
            "_model_module": "@jupyter-widgets/base",
            "_model_module_version": "1.2.0",
            "_model_name": "LayoutModel",
            "_view_count": null,
            "_view_module": "@jupyter-widgets/base",
            "_view_module_version": "1.2.0",
            "_view_name": "LayoutView",
            "align_content": null,
            "align_items": null,
            "align_self": null,
            "border": null,
            "bottom": null,
            "display": null,
            "flex": null,
            "flex_flow": null,
            "grid_area": null,
            "grid_auto_columns": null,
            "grid_auto_flow": null,
            "grid_auto_rows": null,
            "grid_column": null,
            "grid_gap": null,
            "grid_row": null,
            "grid_template_areas": null,
            "grid_template_columns": null,
            "grid_template_rows": null,
            "height": null,
            "justify_content": null,
            "justify_items": null,
            "left": null,
            "margin": null,
            "max_height": null,
            "max_width": null,
            "min_height": null,
            "min_width": null,
            "object_fit": null,
            "object_position": null,
            "order": null,
            "overflow": null,
            "overflow_x": null,
            "overflow_y": null,
            "padding": null,
            "right": null,
            "top": null,
            "visibility": null,
            "width": null
          }
        },
        "cd350320edd1436daebddc2cc9cf193f": {
          "model_module": "@jupyter-widgets/controls",
          "model_name": "DescriptionStyleModel",
          "model_module_version": "1.5.0",
          "state": {
            "_model_module": "@jupyter-widgets/controls",
            "_model_module_version": "1.5.0",
            "_model_name": "DescriptionStyleModel",
            "_view_count": null,
            "_view_module": "@jupyter-widgets/base",
            "_view_module_version": "1.2.0",
            "_view_name": "StyleView",
            "description_width": ""
          }
        },
        "89d8c0bd85ef429dbdba8ddd4430a62a": {
          "model_module": "@jupyter-widgets/base",
          "model_name": "LayoutModel",
          "model_module_version": "1.2.0",
          "state": {
            "_model_module": "@jupyter-widgets/base",
            "_model_module_version": "1.2.0",
            "_model_name": "LayoutModel",
            "_view_count": null,
            "_view_module": "@jupyter-widgets/base",
            "_view_module_version": "1.2.0",
            "_view_name": "LayoutView",
            "align_content": null,
            "align_items": null,
            "align_self": null,
            "border": null,
            "bottom": null,
            "display": null,
            "flex": null,
            "flex_flow": null,
            "grid_area": null,
            "grid_auto_columns": null,
            "grid_auto_flow": null,
            "grid_auto_rows": null,
            "grid_column": null,
            "grid_gap": null,
            "grid_row": null,
            "grid_template_areas": null,
            "grid_template_columns": null,
            "grid_template_rows": null,
            "height": null,
            "justify_content": null,
            "justify_items": null,
            "left": null,
            "margin": null,
            "max_height": null,
            "max_width": null,
            "min_height": null,
            "min_width": null,
            "object_fit": null,
            "object_position": null,
            "order": null,
            "overflow": null,
            "overflow_x": null,
            "overflow_y": null,
            "padding": null,
            "right": null,
            "top": null,
            "visibility": null,
            "width": null
          }
        },
        "27c6bf696f4643118d25d9077d1ce7a2": {
          "model_module": "@jupyter-widgets/controls",
          "model_name": "ProgressStyleModel",
          "model_module_version": "1.5.0",
          "state": {
            "_model_module": "@jupyter-widgets/controls",
            "_model_module_version": "1.5.0",
            "_model_name": "ProgressStyleModel",
            "_view_count": null,
            "_view_module": "@jupyter-widgets/base",
            "_view_module_version": "1.2.0",
            "_view_name": "StyleView",
            "bar_color": null,
            "description_width": ""
          }
        },
        "142216ae11f14885b42e461d973418fc": {
          "model_module": "@jupyter-widgets/base",
          "model_name": "LayoutModel",
          "model_module_version": "1.2.0",
          "state": {
            "_model_module": "@jupyter-widgets/base",
            "_model_module_version": "1.2.0",
            "_model_name": "LayoutModel",
            "_view_count": null,
            "_view_module": "@jupyter-widgets/base",
            "_view_module_version": "1.2.0",
            "_view_name": "LayoutView",
            "align_content": null,
            "align_items": null,
            "align_self": null,
            "border": null,
            "bottom": null,
            "display": null,
            "flex": null,
            "flex_flow": null,
            "grid_area": null,
            "grid_auto_columns": null,
            "grid_auto_flow": null,
            "grid_auto_rows": null,
            "grid_column": null,
            "grid_gap": null,
            "grid_row": null,
            "grid_template_areas": null,
            "grid_template_columns": null,
            "grid_template_rows": null,
            "height": null,
            "justify_content": null,
            "justify_items": null,
            "left": null,
            "margin": null,
            "max_height": null,
            "max_width": null,
            "min_height": null,
            "min_width": null,
            "object_fit": null,
            "object_position": null,
            "order": null,
            "overflow": null,
            "overflow_x": null,
            "overflow_y": null,
            "padding": null,
            "right": null,
            "top": null,
            "visibility": null,
            "width": null
          }
        },
        "6b1d342268e24d28a40d073db4ef5db0": {
          "model_module": "@jupyter-widgets/controls",
          "model_name": "DescriptionStyleModel",
          "model_module_version": "1.5.0",
          "state": {
            "_model_module": "@jupyter-widgets/controls",
            "_model_module_version": "1.5.0",
            "_model_name": "DescriptionStyleModel",
            "_view_count": null,
            "_view_module": "@jupyter-widgets/base",
            "_view_module_version": "1.2.0",
            "_view_name": "StyleView",
            "description_width": ""
          }
        }
      }
    }
  },
  "nbformat": 4,
  "nbformat_minor": 5
}