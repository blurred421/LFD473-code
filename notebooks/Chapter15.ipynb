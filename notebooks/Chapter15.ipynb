{
  "cells": [
    {
      "cell_type": "markdown",
      "metadata": {
        "id": "view-in-github",
        "colab_type": "text"
      },
      "source": [
        "<a href=\"https://colab.research.google.com/github/blurred421/LFD473-code/blob/main/notebooks/Chapter15.ipynb\" target=\"_parent\"><img src=\"https://colab.research.google.com/assets/colab-badge.svg\" alt=\"Open In Colab\"/></a>"
      ]
    },
    {
      "cell_type": "markdown",
      "metadata": {
        "id": "5eef016c"
      },
      "source": [
        "# Chapter 15: Word Embeddings and Text Classification"
      ],
      "id": "5eef016c"
    },
    {
      "cell_type": "code",
      "execution_count": 1,
      "metadata": {
        "id": "928565dd",
        "colab": {
          "base_uri": "https://localhost:8080/"
        },
        "outputId": "573920db-bf18-4278-808b-a40451891157"
      },
      "outputs": [
        {
          "output_type": "stream",
          "name": "stdout",
          "text": [
            "Requirement already satisfied: transformers in /usr/local/lib/python3.11/dist-packages (4.48.3)\n",
            "Collecting evaluate\n",
            "  Downloading evaluate-0.4.3-py3-none-any.whl.metadata (9.2 kB)\n",
            "Collecting chromadb\n",
            "  Downloading chromadb-0.6.3-py3-none-any.whl.metadata (6.8 kB)\n",
            "Requirement already satisfied: langchain in /usr/local/lib/python3.11/dist-packages (0.3.20)\n",
            "Collecting datasets\n",
            "  Downloading datasets-3.3.2-py3-none-any.whl.metadata (19 kB)\n",
            "Collecting gensim\n",
            "  Downloading gensim-4.3.3-cp311-cp311-manylinux_2_17_x86_64.manylinux2014_x86_64.whl.metadata (8.1 kB)\n",
            "Requirement already satisfied: filelock in /usr/local/lib/python3.11/dist-packages (from transformers) (3.17.0)\n",
            "Requirement already satisfied: huggingface-hub<1.0,>=0.24.0 in /usr/local/lib/python3.11/dist-packages (from transformers) (0.28.1)\n",
            "Requirement already satisfied: numpy>=1.17 in /usr/local/lib/python3.11/dist-packages (from transformers) (1.26.4)\n",
            "Requirement already satisfied: packaging>=20.0 in /usr/local/lib/python3.11/dist-packages (from transformers) (24.2)\n",
            "Requirement already satisfied: pyyaml>=5.1 in /usr/local/lib/python3.11/dist-packages (from transformers) (6.0.2)\n",
            "Requirement already satisfied: regex!=2019.12.17 in /usr/local/lib/python3.11/dist-packages (from transformers) (2024.11.6)\n",
            "Requirement already satisfied: requests in /usr/local/lib/python3.11/dist-packages (from transformers) (2.32.3)\n",
            "Requirement already satisfied: tokenizers<0.22,>=0.21 in /usr/local/lib/python3.11/dist-packages (from transformers) (0.21.0)\n",
            "Requirement already satisfied: safetensors>=0.4.1 in /usr/local/lib/python3.11/dist-packages (from transformers) (0.5.3)\n",
            "Requirement already satisfied: tqdm>=4.27 in /usr/local/lib/python3.11/dist-packages (from transformers) (4.67.1)\n",
            "Collecting dill (from evaluate)\n",
            "  Downloading dill-0.3.9-py3-none-any.whl.metadata (10 kB)\n",
            "Requirement already satisfied: pandas in /usr/local/lib/python3.11/dist-packages (from evaluate) (2.2.2)\n",
            "Collecting xxhash (from evaluate)\n",
            "  Downloading xxhash-3.5.0-cp311-cp311-manylinux_2_17_x86_64.manylinux2014_x86_64.whl.metadata (12 kB)\n",
            "Collecting multiprocess (from evaluate)\n",
            "  Downloading multiprocess-0.70.17-py311-none-any.whl.metadata (7.2 kB)\n",
            "Requirement already satisfied: fsspec>=2021.05.0 in /usr/local/lib/python3.11/dist-packages (from fsspec[http]>=2021.05.0->evaluate) (2024.10.0)\n",
            "Collecting build>=1.0.3 (from chromadb)\n",
            "  Downloading build-1.2.2.post1-py3-none-any.whl.metadata (6.5 kB)\n",
            "Requirement already satisfied: pydantic>=1.9 in /usr/local/lib/python3.11/dist-packages (from chromadb) (2.10.6)\n",
            "Collecting chroma-hnswlib==0.7.6 (from chromadb)\n",
            "  Downloading chroma_hnswlib-0.7.6-cp311-cp311-manylinux_2_17_x86_64.manylinux2014_x86_64.whl.metadata (252 bytes)\n",
            "Collecting fastapi>=0.95.2 (from chromadb)\n",
            "  Downloading fastapi-0.115.11-py3-none-any.whl.metadata (27 kB)\n",
            "Collecting uvicorn>=0.18.3 (from uvicorn[standard]>=0.18.3->chromadb)\n",
            "  Downloading uvicorn-0.34.0-py3-none-any.whl.metadata (6.5 kB)\n",
            "Collecting posthog>=2.4.0 (from chromadb)\n",
            "  Downloading posthog-3.19.1-py2.py3-none-any.whl.metadata (2.9 kB)\n",
            "Requirement already satisfied: typing_extensions>=4.5.0 in /usr/local/lib/python3.11/dist-packages (from chromadb) (4.12.2)\n",
            "Collecting onnxruntime>=1.14.1 (from chromadb)\n",
            "  Downloading onnxruntime-1.21.0-cp311-cp311-manylinux_2_27_x86_64.manylinux_2_28_x86_64.whl.metadata (4.5 kB)\n",
            "Requirement already satisfied: opentelemetry-api>=1.2.0 in /usr/local/lib/python3.11/dist-packages (from chromadb) (1.16.0)\n",
            "Collecting opentelemetry-exporter-otlp-proto-grpc>=1.2.0 (from chromadb)\n",
            "  Downloading opentelemetry_exporter_otlp_proto_grpc-1.31.0-py3-none-any.whl.metadata (2.5 kB)\n",
            "Collecting opentelemetry-instrumentation-fastapi>=0.41b0 (from chromadb)\n",
            "  Downloading opentelemetry_instrumentation_fastapi-0.52b0-py3-none-any.whl.metadata (2.2 kB)\n",
            "Requirement already satisfied: opentelemetry-sdk>=1.2.0 in /usr/local/lib/python3.11/dist-packages (from chromadb) (1.16.0)\n",
            "Collecting pypika>=0.48.9 (from chromadb)\n",
            "  Downloading PyPika-0.48.9.tar.gz (67 kB)\n",
            "\u001b[2K     \u001b[90m━━━━━━━━━━━━━━━━━━━━━━━━━━━━━━━━━━━━━━━━\u001b[0m \u001b[32m67.3/67.3 kB\u001b[0m \u001b[31m3.8 MB/s\u001b[0m eta \u001b[36m0:00:00\u001b[0m\n",
            "\u001b[?25h  Installing build dependencies ... \u001b[?25l\u001b[?25hdone\n",
            "  Getting requirements to build wheel ... \u001b[?25l\u001b[?25hdone\n",
            "  Preparing metadata (pyproject.toml) ... \u001b[?25l\u001b[?25hdone\n",
            "Collecting overrides>=7.3.1 (from chromadb)\n",
            "  Downloading overrides-7.7.0-py3-none-any.whl.metadata (5.8 kB)\n",
            "Requirement already satisfied: importlib-resources in /usr/local/lib/python3.11/dist-packages (from chromadb) (6.5.2)\n",
            "Requirement already satisfied: grpcio>=1.58.0 in /usr/local/lib/python3.11/dist-packages (from chromadb) (1.70.0)\n",
            "Collecting bcrypt>=4.0.1 (from chromadb)\n",
            "  Downloading bcrypt-4.3.0-cp39-abi3-manylinux_2_34_x86_64.whl.metadata (10 kB)\n",
            "Requirement already satisfied: typer>=0.9.0 in /usr/local/lib/python3.11/dist-packages (from chromadb) (0.15.2)\n",
            "Collecting kubernetes>=28.1.0 (from chromadb)\n",
            "  Downloading kubernetes-32.0.1-py2.py3-none-any.whl.metadata (1.7 kB)\n",
            "Requirement already satisfied: tenacity>=8.2.3 in /usr/local/lib/python3.11/dist-packages (from chromadb) (9.0.0)\n",
            "Collecting mmh3>=4.0.1 (from chromadb)\n",
            "  Downloading mmh3-5.1.0-cp311-cp311-manylinux_2_5_x86_64.manylinux1_x86_64.manylinux_2_17_x86_64.manylinux2014_x86_64.whl.metadata (16 kB)\n",
            "Requirement already satisfied: orjson>=3.9.12 in /usr/local/lib/python3.11/dist-packages (from chromadb) (3.10.15)\n",
            "Requirement already satisfied: httpx>=0.27.0 in /usr/local/lib/python3.11/dist-packages (from chromadb) (0.28.1)\n",
            "Requirement already satisfied: rich>=10.11.0 in /usr/local/lib/python3.11/dist-packages (from chromadb) (13.9.4)\n",
            "Requirement already satisfied: langchain-core<1.0.0,>=0.3.41 in /usr/local/lib/python3.11/dist-packages (from langchain) (0.3.43)\n",
            "Requirement already satisfied: langchain-text-splitters<1.0.0,>=0.3.6 in /usr/local/lib/python3.11/dist-packages (from langchain) (0.3.6)\n",
            "Requirement already satisfied: langsmith<0.4,>=0.1.17 in /usr/local/lib/python3.11/dist-packages (from langchain) (0.3.13)\n",
            "Requirement already satisfied: SQLAlchemy<3,>=1.4 in /usr/local/lib/python3.11/dist-packages (from langchain) (2.0.38)\n",
            "Requirement already satisfied: pyarrow>=15.0.0 in /usr/local/lib/python3.11/dist-packages (from datasets) (18.1.0)\n",
            "Collecting dill (from evaluate)\n",
            "  Downloading dill-0.3.8-py3-none-any.whl.metadata (10 kB)\n",
            "Collecting multiprocess (from evaluate)\n",
            "  Downloading multiprocess-0.70.16-py311-none-any.whl.metadata (7.2 kB)\n",
            "Requirement already satisfied: aiohttp in /usr/local/lib/python3.11/dist-packages (from datasets) (3.11.13)\n",
            "Collecting scipy<1.14.0,>=1.7.0 (from gensim)\n",
            "  Downloading scipy-1.13.1-cp311-cp311-manylinux_2_17_x86_64.manylinux2014_x86_64.whl.metadata (60 kB)\n",
            "\u001b[2K     \u001b[90m━━━━━━━━━━━━━━━━━━━━━━━━━━━━━━━━━━━━━━━━\u001b[0m \u001b[32m60.6/60.6 kB\u001b[0m \u001b[31m2.1 MB/s\u001b[0m eta \u001b[36m0:00:00\u001b[0m\n",
            "\u001b[?25hRequirement already satisfied: smart-open>=1.8.1 in /usr/local/lib/python3.11/dist-packages (from gensim) (7.1.0)\n",
            "Collecting pyproject_hooks (from build>=1.0.3->chromadb)\n",
            "  Downloading pyproject_hooks-1.2.0-py3-none-any.whl.metadata (1.3 kB)\n",
            "Collecting starlette<0.47.0,>=0.40.0 (from fastapi>=0.95.2->chromadb)\n",
            "  Downloading starlette-0.46.1-py3-none-any.whl.metadata (6.2 kB)\n",
            "Requirement already satisfied: aiohappyeyeballs>=2.3.0 in /usr/local/lib/python3.11/dist-packages (from aiohttp->datasets) (2.5.0)\n",
            "Requirement already satisfied: aiosignal>=1.1.2 in /usr/local/lib/python3.11/dist-packages (from aiohttp->datasets) (1.3.2)\n",
            "Requirement already satisfied: attrs>=17.3.0 in /usr/local/lib/python3.11/dist-packages (from aiohttp->datasets) (25.1.0)\n",
            "Requirement already satisfied: frozenlist>=1.1.1 in /usr/local/lib/python3.11/dist-packages (from aiohttp->datasets) (1.5.0)\n",
            "Requirement already satisfied: multidict<7.0,>=4.5 in /usr/local/lib/python3.11/dist-packages (from aiohttp->datasets) (6.1.0)\n",
            "Requirement already satisfied: propcache>=0.2.0 in /usr/local/lib/python3.11/dist-packages (from aiohttp->datasets) (0.3.0)\n",
            "Requirement already satisfied: yarl<2.0,>=1.17.0 in /usr/local/lib/python3.11/dist-packages (from aiohttp->datasets) (1.18.3)\n",
            "Requirement already satisfied: anyio in /usr/local/lib/python3.11/dist-packages (from httpx>=0.27.0->chromadb) (3.7.1)\n",
            "Requirement already satisfied: certifi in /usr/local/lib/python3.11/dist-packages (from httpx>=0.27.0->chromadb) (2025.1.31)\n",
            "Requirement already satisfied: httpcore==1.* in /usr/local/lib/python3.11/dist-packages (from httpx>=0.27.0->chromadb) (1.0.7)\n",
            "Requirement already satisfied: idna in /usr/local/lib/python3.11/dist-packages (from httpx>=0.27.0->chromadb) (3.10)\n",
            "Requirement already satisfied: h11<0.15,>=0.13 in /usr/local/lib/python3.11/dist-packages (from httpcore==1.*->httpx>=0.27.0->chromadb) (0.14.0)\n",
            "Requirement already satisfied: six>=1.9.0 in /usr/local/lib/python3.11/dist-packages (from kubernetes>=28.1.0->chromadb) (1.17.0)\n",
            "Requirement already satisfied: python-dateutil>=2.5.3 in /usr/local/lib/python3.11/dist-packages (from kubernetes>=28.1.0->chromadb) (2.8.2)\n",
            "Requirement already satisfied: google-auth>=1.0.1 in /usr/local/lib/python3.11/dist-packages (from kubernetes>=28.1.0->chromadb) (2.38.0)\n",
            "Requirement already satisfied: websocket-client!=0.40.0,!=0.41.*,!=0.42.*,>=0.32.0 in /usr/local/lib/python3.11/dist-packages (from kubernetes>=28.1.0->chromadb) (1.8.0)\n",
            "Requirement already satisfied: requests-oauthlib in /usr/local/lib/python3.11/dist-packages (from kubernetes>=28.1.0->chromadb) (2.0.0)\n",
            "Requirement already satisfied: oauthlib>=3.2.2 in /usr/local/lib/python3.11/dist-packages (from kubernetes>=28.1.0->chromadb) (3.2.2)\n",
            "Requirement already satisfied: urllib3>=1.24.2 in /usr/local/lib/python3.11/dist-packages (from kubernetes>=28.1.0->chromadb) (2.3.0)\n",
            "Collecting durationpy>=0.7 (from kubernetes>=28.1.0->chromadb)\n",
            "  Downloading durationpy-0.9-py3-none-any.whl.metadata (338 bytes)\n",
            "Requirement already satisfied: jsonpatch<2.0,>=1.33 in /usr/local/lib/python3.11/dist-packages (from langchain-core<1.0.0,>=0.3.41->langchain) (1.33)\n",
            "Requirement already satisfied: requests-toolbelt<2.0.0,>=1.0.0 in /usr/local/lib/python3.11/dist-packages (from langsmith<0.4,>=0.1.17->langchain) (1.0.0)\n",
            "Requirement already satisfied: zstandard<0.24.0,>=0.23.0 in /usr/local/lib/python3.11/dist-packages (from langsmith<0.4,>=0.1.17->langchain) (0.23.0)\n",
            "Collecting coloredlogs (from onnxruntime>=1.14.1->chromadb)\n",
            "  Downloading coloredlogs-15.0.1-py2.py3-none-any.whl.metadata (12 kB)\n",
            "Requirement already satisfied: flatbuffers in /usr/local/lib/python3.11/dist-packages (from onnxruntime>=1.14.1->chromadb) (25.2.10)\n",
            "Requirement already satisfied: protobuf in /usr/local/lib/python3.11/dist-packages (from onnxruntime>=1.14.1->chromadb) (4.25.6)\n",
            "Requirement already satisfied: sympy in /usr/local/lib/python3.11/dist-packages (from onnxruntime>=1.14.1->chromadb) (1.13.1)\n",
            "Requirement already satisfied: deprecated>=1.2.6 in /usr/local/lib/python3.11/dist-packages (from opentelemetry-api>=1.2.0->chromadb) (1.2.18)\n",
            "Requirement already satisfied: setuptools>=16.0 in /usr/local/lib/python3.11/dist-packages (from opentelemetry-api>=1.2.0->chromadb) (75.1.0)\n",
            "Requirement already satisfied: googleapis-common-protos~=1.52 in /usr/local/lib/python3.11/dist-packages (from opentelemetry-exporter-otlp-proto-grpc>=1.2.0->chromadb) (1.69.1)\n",
            "Collecting opentelemetry-exporter-otlp-proto-common==1.31.0 (from opentelemetry-exporter-otlp-proto-grpc>=1.2.0->chromadb)\n",
            "  Downloading opentelemetry_exporter_otlp_proto_common-1.31.0-py3-none-any.whl.metadata (1.9 kB)\n",
            "Collecting opentelemetry-proto==1.31.0 (from opentelemetry-exporter-otlp-proto-grpc>=1.2.0->chromadb)\n",
            "  Downloading opentelemetry_proto-1.31.0-py3-none-any.whl.metadata (2.4 kB)\n",
            "Collecting opentelemetry-sdk>=1.2.0 (from chromadb)\n",
            "  Downloading opentelemetry_sdk-1.31.0-py3-none-any.whl.metadata (1.6 kB)\n",
            "Collecting protobuf (from onnxruntime>=1.14.1->chromadb)\n",
            "  Downloading protobuf-5.29.3-cp38-abi3-manylinux2014_x86_64.whl.metadata (592 bytes)\n",
            "Collecting opentelemetry-instrumentation-asgi==0.52b0 (from opentelemetry-instrumentation-fastapi>=0.41b0->chromadb)\n",
            "  Downloading opentelemetry_instrumentation_asgi-0.52b0-py3-none-any.whl.metadata (2.1 kB)\n",
            "Collecting opentelemetry-instrumentation==0.52b0 (from opentelemetry-instrumentation-fastapi>=0.41b0->chromadb)\n",
            "  Downloading opentelemetry_instrumentation-0.52b0-py3-none-any.whl.metadata (6.8 kB)\n",
            "Collecting opentelemetry-semantic-conventions==0.52b0 (from opentelemetry-instrumentation-fastapi>=0.41b0->chromadb)\n",
            "  Downloading opentelemetry_semantic_conventions-0.52b0-py3-none-any.whl.metadata (2.5 kB)\n",
            "Collecting opentelemetry-util-http==0.52b0 (from opentelemetry-instrumentation-fastapi>=0.41b0->chromadb)\n",
            "  Downloading opentelemetry_util_http-0.52b0-py3-none-any.whl.metadata (2.6 kB)\n",
            "Requirement already satisfied: wrapt<2.0.0,>=1.0.0 in /usr/local/lib/python3.11/dist-packages (from opentelemetry-instrumentation==0.52b0->opentelemetry-instrumentation-fastapi>=0.41b0->chromadb) (1.17.2)\n",
            "Collecting asgiref~=3.0 (from opentelemetry-instrumentation-asgi==0.52b0->opentelemetry-instrumentation-fastapi>=0.41b0->chromadb)\n",
            "  Downloading asgiref-3.8.1-py3-none-any.whl.metadata (9.3 kB)\n",
            "Collecting opentelemetry-api>=1.2.0 (from chromadb)\n",
            "  Downloading opentelemetry_api-1.31.0-py3-none-any.whl.metadata (1.6 kB)\n",
            "Requirement already satisfied: importlib-metadata<8.7.0,>=6.0 in /usr/local/lib/python3.11/dist-packages (from opentelemetry-api>=1.2.0->chromadb) (8.6.1)\n",
            "Collecting monotonic>=1.5 (from posthog>=2.4.0->chromadb)\n",
            "  Downloading monotonic-1.6-py2.py3-none-any.whl.metadata (1.5 kB)\n",
            "Collecting backoff>=1.10.0 (from posthog>=2.4.0->chromadb)\n",
            "  Downloading backoff-2.2.1-py3-none-any.whl.metadata (14 kB)\n",
            "Requirement already satisfied: distro>=1.5.0 in /usr/local/lib/python3.11/dist-packages (from posthog>=2.4.0->chromadb) (1.9.0)\n",
            "Requirement already satisfied: annotated-types>=0.6.0 in /usr/local/lib/python3.11/dist-packages (from pydantic>=1.9->chromadb) (0.7.0)\n",
            "Requirement already satisfied: pydantic-core==2.27.2 in /usr/local/lib/python3.11/dist-packages (from pydantic>=1.9->chromadb) (2.27.2)\n",
            "Requirement already satisfied: charset-normalizer<4,>=2 in /usr/local/lib/python3.11/dist-packages (from requests->transformers) (3.4.1)\n",
            "Requirement already satisfied: markdown-it-py>=2.2.0 in /usr/local/lib/python3.11/dist-packages (from rich>=10.11.0->chromadb) (3.0.0)\n",
            "Requirement already satisfied: pygments<3.0.0,>=2.13.0 in /usr/local/lib/python3.11/dist-packages (from rich>=10.11.0->chromadb) (2.18.0)\n",
            "Requirement already satisfied: greenlet!=0.4.17 in /usr/local/lib/python3.11/dist-packages (from SQLAlchemy<3,>=1.4->langchain) (3.1.1)\n",
            "Requirement already satisfied: click>=8.0.0 in /usr/local/lib/python3.11/dist-packages (from typer>=0.9.0->chromadb) (8.1.8)\n",
            "Requirement already satisfied: shellingham>=1.3.0 in /usr/local/lib/python3.11/dist-packages (from typer>=0.9.0->chromadb) (1.5.4)\n",
            "Collecting httptools>=0.6.3 (from uvicorn[standard]>=0.18.3->chromadb)\n",
            "  Downloading httptools-0.6.4-cp311-cp311-manylinux_2_5_x86_64.manylinux1_x86_64.manylinux_2_17_x86_64.manylinux2014_x86_64.whl.metadata (3.6 kB)\n",
            "Collecting python-dotenv>=0.13 (from uvicorn[standard]>=0.18.3->chromadb)\n",
            "  Downloading python_dotenv-1.0.1-py3-none-any.whl.metadata (23 kB)\n",
            "Collecting uvloop!=0.15.0,!=0.15.1,>=0.14.0 (from uvicorn[standard]>=0.18.3->chromadb)\n",
            "  Downloading uvloop-0.21.0-cp311-cp311-manylinux_2_17_x86_64.manylinux2014_x86_64.whl.metadata (4.9 kB)\n",
            "Collecting watchfiles>=0.13 (from uvicorn[standard]>=0.18.3->chromadb)\n",
            "  Downloading watchfiles-1.0.4-cp311-cp311-manylinux_2_17_x86_64.manylinux2014_x86_64.whl.metadata (4.9 kB)\n",
            "Requirement already satisfied: websockets>=10.4 in /usr/local/lib/python3.11/dist-packages (from uvicorn[standard]>=0.18.3->chromadb) (14.2)\n",
            "Requirement already satisfied: pytz>=2020.1 in /usr/local/lib/python3.11/dist-packages (from pandas->evaluate) (2025.1)\n",
            "Requirement already satisfied: tzdata>=2022.7 in /usr/local/lib/python3.11/dist-packages (from pandas->evaluate) (2025.1)\n",
            "Requirement already satisfied: cachetools<6.0,>=2.0.0 in /usr/local/lib/python3.11/dist-packages (from google-auth>=1.0.1->kubernetes>=28.1.0->chromadb) (5.5.2)\n",
            "Requirement already satisfied: pyasn1-modules>=0.2.1 in /usr/local/lib/python3.11/dist-packages (from google-auth>=1.0.1->kubernetes>=28.1.0->chromadb) (0.4.1)\n",
            "Requirement already satisfied: rsa<5,>=3.1.4 in /usr/local/lib/python3.11/dist-packages (from google-auth>=1.0.1->kubernetes>=28.1.0->chromadb) (4.9)\n",
            "Requirement already satisfied: zipp>=3.20 in /usr/local/lib/python3.11/dist-packages (from importlib-metadata<8.7.0,>=6.0->opentelemetry-api>=1.2.0->chromadb) (3.21.0)\n",
            "Requirement already satisfied: jsonpointer>=1.9 in /usr/local/lib/python3.11/dist-packages (from jsonpatch<2.0,>=1.33->langchain-core<1.0.0,>=0.3.41->langchain) (3.0.0)\n",
            "Requirement already satisfied: mdurl~=0.1 in /usr/local/lib/python3.11/dist-packages (from markdown-it-py>=2.2.0->rich>=10.11.0->chromadb) (0.1.2)\n",
            "Requirement already satisfied: sniffio>=1.1 in /usr/local/lib/python3.11/dist-packages (from anyio->httpx>=0.27.0->chromadb) (1.3.1)\n",
            "Collecting humanfriendly>=9.1 (from coloredlogs->onnxruntime>=1.14.1->chromadb)\n",
            "  Downloading humanfriendly-10.0-py2.py3-none-any.whl.metadata (9.2 kB)\n",
            "Requirement already satisfied: mpmath<1.4,>=1.1.0 in /usr/local/lib/python3.11/dist-packages (from sympy->onnxruntime>=1.14.1->chromadb) (1.3.0)\n",
            "Requirement already satisfied: pyasn1<0.7.0,>=0.4.6 in /usr/local/lib/python3.11/dist-packages (from pyasn1-modules>=0.2.1->google-auth>=1.0.1->kubernetes>=28.1.0->chromadb) (0.6.1)\n",
            "Downloading evaluate-0.4.3-py3-none-any.whl (84 kB)\n",
            "\u001b[2K   \u001b[90m━━━━━━━━━━━━━━━━━━━━━━━━━━━━━━━━━━━━━━━━\u001b[0m \u001b[32m84.0/84.0 kB\u001b[0m \u001b[31m6.5 MB/s\u001b[0m eta \u001b[36m0:00:00\u001b[0m\n",
            "\u001b[?25hDownloading chromadb-0.6.3-py3-none-any.whl (611 kB)\n",
            "\u001b[2K   \u001b[90m━━━━━━━━━━━━━━━━━━━━━━━━━━━━━━━━━━━━━━━━\u001b[0m \u001b[32m611.1/611.1 kB\u001b[0m \u001b[31m33.4 MB/s\u001b[0m eta \u001b[36m0:00:00\u001b[0m\n",
            "\u001b[?25hDownloading chroma_hnswlib-0.7.6-cp311-cp311-manylinux_2_17_x86_64.manylinux2014_x86_64.whl (2.4 MB)\n",
            "\u001b[2K   \u001b[90m━━━━━━━━━━━━━━━━━━━━━━━━━━━━━━━━━━━━━━━━\u001b[0m \u001b[32m2.4/2.4 MB\u001b[0m \u001b[31m35.8 MB/s\u001b[0m eta \u001b[36m0:00:00\u001b[0m\n",
            "\u001b[?25hDownloading datasets-3.3.2-py3-none-any.whl (485 kB)\n",
            "\u001b[2K   \u001b[90m━━━━━━━━━━━━━━━━━━━━━━━━━━━━━━━━━━━━━━━━\u001b[0m \u001b[32m485.4/485.4 kB\u001b[0m \u001b[31m28.3 MB/s\u001b[0m eta \u001b[36m0:00:00\u001b[0m\n",
            "\u001b[?25hDownloading gensim-4.3.3-cp311-cp311-manylinux_2_17_x86_64.manylinux2014_x86_64.whl (26.7 MB)\n",
            "\u001b[2K   \u001b[90m━━━━━━━━━━━━━━━━━━━━━━━━━━━━━━━━━━━━━━━━\u001b[0m \u001b[32m26.7/26.7 MB\u001b[0m \u001b[31m43.4 MB/s\u001b[0m eta \u001b[36m0:00:00\u001b[0m\n",
            "\u001b[?25hDownloading bcrypt-4.3.0-cp39-abi3-manylinux_2_34_x86_64.whl (284 kB)\n",
            "\u001b[2K   \u001b[90m━━━━━━━━━━━━━━━━━━━━━━━━━━━━━━━━━━━━━━━━\u001b[0m \u001b[32m284.2/284.2 kB\u001b[0m \u001b[31m15.0 MB/s\u001b[0m eta \u001b[36m0:00:00\u001b[0m\n",
            "\u001b[?25hDownloading build-1.2.2.post1-py3-none-any.whl (22 kB)\n",
            "Downloading dill-0.3.8-py3-none-any.whl (116 kB)\n",
            "\u001b[2K   \u001b[90m━━━━━━━━━━━━━━━━━━━━━━━━━━━━━━━━━━━━━━━━\u001b[0m \u001b[32m116.3/116.3 kB\u001b[0m \u001b[31m3.2 MB/s\u001b[0m eta \u001b[36m0:00:00\u001b[0m\n",
            "\u001b[?25hDownloading fastapi-0.115.11-py3-none-any.whl (94 kB)\n",
            "\u001b[2K   \u001b[90m━━━━━━━━━━━━━━━━━━━━━━━━━━━━━━━━━━━━━━━━\u001b[0m \u001b[32m94.9/94.9 kB\u001b[0m \u001b[31m7.8 MB/s\u001b[0m eta \u001b[36m0:00:00\u001b[0m\n",
            "\u001b[?25hDownloading kubernetes-32.0.1-py2.py3-none-any.whl (2.0 MB)\n",
            "\u001b[2K   \u001b[90m━━━━━━━━━━━━━━━━━━━━━━━━━━━━━━━━━━━━━━━━\u001b[0m \u001b[32m2.0/2.0 MB\u001b[0m \u001b[31m17.1 MB/s\u001b[0m eta \u001b[36m0:00:00\u001b[0m\n",
            "\u001b[?25hDownloading mmh3-5.1.0-cp311-cp311-manylinux_2_5_x86_64.manylinux1_x86_64.manylinux_2_17_x86_64.manylinux2014_x86_64.whl (101 kB)\n",
            "\u001b[2K   \u001b[90m━━━━━━━━━━━━━━━━━━━━━━━━━━━━━━━━━━━━━━━━\u001b[0m \u001b[32m101.6/101.6 kB\u001b[0m \u001b[31m8.2 MB/s\u001b[0m eta \u001b[36m0:00:00\u001b[0m\n",
            "\u001b[?25hDownloading multiprocess-0.70.16-py311-none-any.whl (143 kB)\n",
            "\u001b[2K   \u001b[90m━━━━━━━━━━━━━━━━━━━━━━━━━━━━━━━━━━━━━━━━\u001b[0m \u001b[32m143.5/143.5 kB\u001b[0m \u001b[31m11.4 MB/s\u001b[0m eta \u001b[36m0:00:00\u001b[0m\n",
            "\u001b[?25hDownloading onnxruntime-1.21.0-cp311-cp311-manylinux_2_27_x86_64.manylinux_2_28_x86_64.whl (16.0 MB)\n",
            "\u001b[2K   \u001b[90m━━━━━━━━━━━━━━━━━━━━━━━━━━━━━━━━━━━━━━━━\u001b[0m \u001b[32m16.0/16.0 MB\u001b[0m \u001b[31m18.7 MB/s\u001b[0m eta \u001b[36m0:00:00\u001b[0m\n",
            "\u001b[?25hDownloading opentelemetry_exporter_otlp_proto_grpc-1.31.0-py3-none-any.whl (18 kB)\n",
            "Downloading opentelemetry_exporter_otlp_proto_common-1.31.0-py3-none-any.whl (18 kB)\n",
            "Downloading opentelemetry_proto-1.31.0-py3-none-any.whl (55 kB)\n",
            "\u001b[2K   \u001b[90m━━━━━━━━━━━━━━━━━━━━━━━━━━━━━━━━━━━━━━━━\u001b[0m \u001b[32m55.9/55.9 kB\u001b[0m \u001b[31m1.9 MB/s\u001b[0m eta \u001b[36m0:00:00\u001b[0m\n",
            "\u001b[?25hDownloading opentelemetry_instrumentation_fastapi-0.52b0-py3-none-any.whl (12 kB)\n",
            "Downloading opentelemetry_instrumentation-0.52b0-py3-none-any.whl (31 kB)\n",
            "Downloading opentelemetry_instrumentation_asgi-0.52b0-py3-none-any.whl (16 kB)\n",
            "Downloading opentelemetry_semantic_conventions-0.52b0-py3-none-any.whl (183 kB)\n",
            "\u001b[2K   \u001b[90m━━━━━━━━━━━━━━━━━━━━━━━━━━━━━━━━━━━━━━━━\u001b[0m \u001b[32m183.4/183.4 kB\u001b[0m \u001b[31m12.1 MB/s\u001b[0m eta \u001b[36m0:00:00\u001b[0m\n",
            "\u001b[?25hDownloading opentelemetry_api-1.31.0-py3-none-any.whl (65 kB)\n",
            "\u001b[2K   \u001b[90m━━━━━━━━━━━━━━━━━━━━━━━━━━━━━━━━━━━━━━━━\u001b[0m \u001b[32m65.1/65.1 kB\u001b[0m \u001b[31m6.2 MB/s\u001b[0m eta \u001b[36m0:00:00\u001b[0m\n",
            "\u001b[?25hDownloading opentelemetry_util_http-0.52b0-py3-none-any.whl (7.3 kB)\n",
            "Downloading opentelemetry_sdk-1.31.0-py3-none-any.whl (118 kB)\n",
            "\u001b[2K   \u001b[90m━━━━━━━━━━━━━━━━━━━━━━━━━━━━━━━━━━━━━━━━\u001b[0m \u001b[32m118.9/118.9 kB\u001b[0m \u001b[31m10.0 MB/s\u001b[0m eta \u001b[36m0:00:00\u001b[0m\n",
            "\u001b[?25hDownloading overrides-7.7.0-py3-none-any.whl (17 kB)\n",
            "Downloading posthog-3.19.1-py2.py3-none-any.whl (77 kB)\n",
            "\u001b[2K   \u001b[90m━━━━━━━━━━━━━━━━━━━━━━━━━━━━━━━━━━━━━━━━\u001b[0m \u001b[32m77.8/77.8 kB\u001b[0m \u001b[31m6.9 MB/s\u001b[0m eta \u001b[36m0:00:00\u001b[0m\n",
            "\u001b[?25hDownloading scipy-1.13.1-cp311-cp311-manylinux_2_17_x86_64.manylinux2014_x86_64.whl (38.6 MB)\n",
            "\u001b[2K   \u001b[90m━━━━━━━━━━━━━━━━━━━━━━━━━━━━━━━━━━━━━━━━\u001b[0m \u001b[32m38.6/38.6 MB\u001b[0m \u001b[31m18.1 MB/s\u001b[0m eta \u001b[36m0:00:00\u001b[0m\n",
            "\u001b[?25hDownloading uvicorn-0.34.0-py3-none-any.whl (62 kB)\n",
            "\u001b[2K   \u001b[90m━━━━━━━━━━━━━━━━━━━━━━━━━━━━━━━━━━━━━━━━\u001b[0m \u001b[32m62.3/62.3 kB\u001b[0m \u001b[31m4.5 MB/s\u001b[0m eta \u001b[36m0:00:00\u001b[0m\n",
            "\u001b[?25hDownloading xxhash-3.5.0-cp311-cp311-manylinux_2_17_x86_64.manylinux2014_x86_64.whl (194 kB)\n",
            "\u001b[2K   \u001b[90m━━━━━━━━━━━━━━━━━━━━━━━━━━━━━━━━━━━━━━━━\u001b[0m \u001b[32m194.8/194.8 kB\u001b[0m \u001b[31m14.1 MB/s\u001b[0m eta \u001b[36m0:00:00\u001b[0m\n",
            "\u001b[?25hDownloading backoff-2.2.1-py3-none-any.whl (15 kB)\n",
            "Downloading durationpy-0.9-py3-none-any.whl (3.5 kB)\n",
            "Downloading httptools-0.6.4-cp311-cp311-manylinux_2_5_x86_64.manylinux1_x86_64.manylinux_2_17_x86_64.manylinux2014_x86_64.whl (459 kB)\n",
            "\u001b[2K   \u001b[90m━━━━━━━━━━━━━━━━━━━━━━━━━━━━━━━━━━━━━━━━\u001b[0m \u001b[32m459.8/459.8 kB\u001b[0m \u001b[31m28.4 MB/s\u001b[0m eta \u001b[36m0:00:00\u001b[0m\n",
            "\u001b[?25hDownloading monotonic-1.6-py2.py3-none-any.whl (8.2 kB)\n",
            "Downloading protobuf-5.29.3-cp38-abi3-manylinux2014_x86_64.whl (319 kB)\n",
            "\u001b[2K   \u001b[90m━━━━━━━━━━━━━━━━━━━━━━━━━━━━━━━━━━━━━━━━\u001b[0m \u001b[32m319.7/319.7 kB\u001b[0m \u001b[31m21.1 MB/s\u001b[0m eta \u001b[36m0:00:00\u001b[0m\n",
            "\u001b[?25hDownloading python_dotenv-1.0.1-py3-none-any.whl (19 kB)\n",
            "Downloading starlette-0.46.1-py3-none-any.whl (71 kB)\n",
            "\u001b[2K   \u001b[90m━━━━━━━━━━━━━━━━━━━━━━━━━━━━━━━━━━━━━━━━\u001b[0m \u001b[32m72.0/72.0 kB\u001b[0m \u001b[31m5.9 MB/s\u001b[0m eta \u001b[36m0:00:00\u001b[0m\n",
            "\u001b[?25hDownloading uvloop-0.21.0-cp311-cp311-manylinux_2_17_x86_64.manylinux2014_x86_64.whl (4.0 MB)\n",
            "\u001b[2K   \u001b[90m━━━━━━━━━━━━━━━━━━━━━━━━━━━━━━━━━━━━━━━━\u001b[0m \u001b[32m4.0/4.0 MB\u001b[0m \u001b[31m67.6 MB/s\u001b[0m eta \u001b[36m0:00:00\u001b[0m\n",
            "\u001b[?25hDownloading watchfiles-1.0.4-cp311-cp311-manylinux_2_17_x86_64.manylinux2014_x86_64.whl (452 kB)\n",
            "\u001b[2K   \u001b[90m━━━━━━━━━━━━━━━━━━━━━━━━━━━━━━━━━━━━━━━━\u001b[0m \u001b[32m452.6/452.6 kB\u001b[0m \u001b[31m26.9 MB/s\u001b[0m eta \u001b[36m0:00:00\u001b[0m\n",
            "\u001b[?25hDownloading coloredlogs-15.0.1-py2.py3-none-any.whl (46 kB)\n",
            "\u001b[2K   \u001b[90m━━━━━━━━━━━━━━━━━━━━━━━━━━━━━━━━━━━━━━━━\u001b[0m \u001b[32m46.0/46.0 kB\u001b[0m \u001b[31m3.5 MB/s\u001b[0m eta \u001b[36m0:00:00\u001b[0m\n",
            "\u001b[?25hDownloading pyproject_hooks-1.2.0-py3-none-any.whl (10 kB)\n",
            "Downloading asgiref-3.8.1-py3-none-any.whl (23 kB)\n",
            "Downloading humanfriendly-10.0-py2.py3-none-any.whl (86 kB)\n",
            "\u001b[2K   \u001b[90m━━━━━━━━━━━━━━━━━━━━━━━━━━━━━━━━━━━━━━━━\u001b[0m \u001b[32m86.8/86.8 kB\u001b[0m \u001b[31m6.3 MB/s\u001b[0m eta \u001b[36m0:00:00\u001b[0m\n",
            "\u001b[?25hBuilding wheels for collected packages: pypika\n",
            "  Building wheel for pypika (pyproject.toml) ... \u001b[?25l\u001b[?25hdone\n",
            "  Created wheel for pypika: filename=pypika-0.48.9-py2.py3-none-any.whl size=53769 sha256=994f18ae5d4860bb186e49e857a39496b73f2f40130da1a4e43351d47a6cd1db\n",
            "  Stored in directory: /root/.cache/pip/wheels/a3/01/bd/4c40ceb9d5354160cb186dcc153360f4ab7eb23e2b24daf96d\n",
            "Successfully built pypika\n",
            "Installing collected packages: pypika, monotonic, durationpy, xxhash, uvloop, uvicorn, scipy, python-dotenv, pyproject_hooks, protobuf, overrides, opentelemetry-util-http, mmh3, humanfriendly, httptools, dill, chroma-hnswlib, bcrypt, backoff, asgiref, watchfiles, starlette, posthog, opentelemetry-proto, opentelemetry-api, multiprocess, gensim, coloredlogs, build, opentelemetry-semantic-conventions, opentelemetry-exporter-otlp-proto-common, onnxruntime, kubernetes, fastapi, opentelemetry-sdk, opentelemetry-instrumentation, datasets, opentelemetry-instrumentation-asgi, opentelemetry-exporter-otlp-proto-grpc, evaluate, opentelemetry-instrumentation-fastapi, chromadb\n",
            "  Attempting uninstall: scipy\n",
            "    Found existing installation: scipy 1.14.1\n",
            "    Uninstalling scipy-1.14.1:\n",
            "      Successfully uninstalled scipy-1.14.1\n",
            "  Attempting uninstall: protobuf\n",
            "    Found existing installation: protobuf 4.25.6\n",
            "    Uninstalling protobuf-4.25.6:\n",
            "      Successfully uninstalled protobuf-4.25.6\n",
            "  Attempting uninstall: opentelemetry-api\n",
            "    Found existing installation: opentelemetry-api 1.16.0\n",
            "    Uninstalling opentelemetry-api-1.16.0:\n",
            "      Successfully uninstalled opentelemetry-api-1.16.0\n",
            "  Attempting uninstall: opentelemetry-semantic-conventions\n",
            "    Found existing installation: opentelemetry-semantic-conventions 0.37b0\n",
            "    Uninstalling opentelemetry-semantic-conventions-0.37b0:\n",
            "      Successfully uninstalled opentelemetry-semantic-conventions-0.37b0\n",
            "  Attempting uninstall: opentelemetry-sdk\n",
            "    Found existing installation: opentelemetry-sdk 1.16.0\n",
            "    Uninstalling opentelemetry-sdk-1.16.0:\n",
            "      Successfully uninstalled opentelemetry-sdk-1.16.0\n",
            "Successfully installed asgiref-3.8.1 backoff-2.2.1 bcrypt-4.3.0 build-1.2.2.post1 chroma-hnswlib-0.7.6 chromadb-0.6.3 coloredlogs-15.0.1 datasets-3.3.2 dill-0.3.8 durationpy-0.9 evaluate-0.4.3 fastapi-0.115.11 gensim-4.3.3 httptools-0.6.4 humanfriendly-10.0 kubernetes-32.0.1 mmh3-5.1.0 monotonic-1.6 multiprocess-0.70.16 onnxruntime-1.21.0 opentelemetry-api-1.31.0 opentelemetry-exporter-otlp-proto-common-1.31.0 opentelemetry-exporter-otlp-proto-grpc-1.31.0 opentelemetry-instrumentation-0.52b0 opentelemetry-instrumentation-asgi-0.52b0 opentelemetry-instrumentation-fastapi-0.52b0 opentelemetry-proto-1.31.0 opentelemetry-sdk-1.31.0 opentelemetry-semantic-conventions-0.52b0 opentelemetry-util-http-0.52b0 overrides-7.7.0 posthog-3.19.1 protobuf-5.29.3 pypika-0.48.9 pyproject_hooks-1.2.0 python-dotenv-1.0.1 scipy-1.13.1 starlette-0.46.1 uvicorn-0.34.0 uvloop-0.21.0 watchfiles-1.0.4 xxhash-3.5.0\n"
          ]
        }
      ],
      "source": [
        "!pip install transformers evaluate chromadb langchain datasets gensim"
      ],
      "id": "928565dd"
    },
    {
      "cell_type": "markdown",
      "metadata": {
        "id": "2c8fa4c2"
      },
      "source": [
        "## 15.2 Learning Objectives\n",
        "\n",
        "By the end of this chapter, you should be able to:\n",
        "- tokenize and encode sentences into their corresponding embeddings\n",
        "- train a simple model using embeddings as features\n",
        "- use vector databases to store and search documents\n",
        "- use a similarity metric to perform zero-shot text classification"
      ],
      "id": "2c8fa4c2"
    },
    {
      "cell_type": "markdown",
      "metadata": {
        "id": "d17cefe0"
      },
      "source": [
        "## 15.4 AG News Dataset\n",
        "\n",
        "![](https://raw.githubusercontent.com/dvgodoy/assets/main/PyTorchInPractice/images/ch0/data_step1.png)\n",
        "\n",
        "In this chapter, we'll be primarily using the AG News Dataset. The original [AG](http://groups.di.unipi.it/~gulli/AG_corpus_of_news_articles.html) is a collection of more than 1,000,000 news articles gathered from more than 2,000 news sources.\n",
        "\n",
        "The version we'll be using here, the [AG News Dataset](https://github.com/mhjabreel/CharCnn_Keras/tree/master/data/ag_news_csv) was constructed by choosing the four largest classes from the original corpus, namely, \"world\", \"sports\", \"business\", and \"science and technology\". Each class contains 30,000 training and 1,900 testing samples, amouting to a total of 120,000 training and 7,600 testing samples.\n",
        "\n",
        "The AG News Dataset is a [built-in dataset](https://pytorch.org/text/stable/datasets.html#ag-news) from Torchtext. It downloads the corresponding files directly from the [AG News Dataset](https://github.com/mhjabreel/CharCnn_Keras/tree/master/data/ag_news_csv) repository."
      ],
      "id": "d17cefe0"
    },
    {
      "cell_type": "code",
      "execution_count": 2,
      "metadata": {
        "id": "11466c94",
        "outputId": "377e05b3-ec12-49c2-93ea-8d86c63a95af",
        "colab": {
          "base_uri": "https://localhost:8080/"
        }
      },
      "outputs": [
        {
          "output_type": "stream",
          "name": "stdout",
          "text": [
            "--2025-03-13 11:12:37--  https://raw.githubusercontent.com/mhjabreel/CharCnn_Keras/master/data/ag_news_csv/train.csv\n",
            "Resolving raw.githubusercontent.com (raw.githubusercontent.com)... 185.199.108.133, 185.199.109.133, 185.199.111.133, ...\n",
            "Connecting to raw.githubusercontent.com (raw.githubusercontent.com)|185.199.108.133|:443... connected.\n",
            "HTTP request sent, awaiting response... 200 OK\n",
            "Length: 29470338 (28M) [text/plain]\n",
            "Saving to: ‘train.csv’\n",
            "\n",
            "train.csv           100%[===================>]  28.10M   107MB/s    in 0.3s    \n",
            "\n",
            "2025-03-13 11:12:37 (107 MB/s) - ‘train.csv’ saved [29470338/29470338]\n",
            "\n",
            "--2025-03-13 11:12:37--  https://raw.githubusercontent.com/mhjabreel/CharCnn_Keras/master/data/ag_news_csv/test.csv\n",
            "Resolving raw.githubusercontent.com (raw.githubusercontent.com)... 185.199.108.133, 185.199.109.133, 185.199.110.133, ...\n",
            "Connecting to raw.githubusercontent.com (raw.githubusercontent.com)|185.199.108.133|:443... connected.\n",
            "HTTP request sent, awaiting response... 200 OK\n",
            "Length: 1857427 (1.8M) [text/plain]\n",
            "Saving to: ‘test.csv’\n",
            "\n",
            "test.csv            100%[===================>]   1.77M  --.-KB/s    in 0.01s   \n",
            "\n",
            "2025-03-13 11:12:38 (153 MB/s) - ‘test.csv’ saved [1857427/1857427]\n",
            "\n",
            "--2025-03-13 11:12:38--  https://raw.githubusercontent.com/mhjabreel/CharCnn_Keras/master/data/ag_news_csv/classes.txt\n",
            "Resolving raw.githubusercontent.com (raw.githubusercontent.com)... 185.199.108.133, 185.199.109.133, 185.199.110.133, ...\n",
            "Connecting to raw.githubusercontent.com (raw.githubusercontent.com)|185.199.108.133|:443... connected.\n",
            "HTTP request sent, awaiting response... 200 OK\n",
            "Length: 31 [text/plain]\n",
            "Saving to: ‘classes.txt’\n",
            "\n",
            "classes.txt         100%[===================>]      31  --.-KB/s    in 0s      \n",
            "\n",
            "2025-03-13 11:12:38 (479 KB/s) - ‘classes.txt’ saved [31/31]\n",
            "\n"
          ]
        }
      ],
      "source": [
        "!wget https://raw.githubusercontent.com/mhjabreel/CharCnn_Keras/master/data/ag_news_csv/train.csv\n",
        "!wget https://raw.githubusercontent.com/mhjabreel/CharCnn_Keras/master/data/ag_news_csv/test.csv\n",
        "!wget https://raw.githubusercontent.com/mhjabreel/CharCnn_Keras/master/data/ag_news_csv/classes.txt"
      ],
      "id": "11466c94"
    },
    {
      "cell_type": "markdown",
      "metadata": {
        "id": "5d4390d4"
      },
      "source": [
        "### 15.4.1 Data Cleaning\n",
        "\n",
        "![](https://raw.githubusercontent.com/dvgodoy/assets/main/PyTorchInPractice/images/ch0/data_step2.png)"
      ],
      "id": "5d4390d4"
    },
    {
      "cell_type": "code",
      "execution_count": 3,
      "metadata": {
        "id": "7c8cbebf"
      },
      "outputs": [],
      "source": [
        "import numpy as np\n",
        "\n",
        "chr_codes = np.array([\n",
        "     36,   151,    38,  8220,   147,   148,   146,   225,   133,    39,  8221,  8212,   232,   149,   145,   233,\n",
        "  64257,  8217,   163,   160,    91,    93,  8211,  8482,   234,    37,  8364,   153,   195,   169\n",
        "])\n",
        "chr_subst = {f' #{c};':chr(c) for c in chr_codes}\n",
        "chr_subst.update({' amp;': '&', ' quot;': \"'\", ' hellip;': '...', ' nbsp;': ' ', '&lt;': '', '&gt;': '',\n",
        "                  '&lt;em&gt;': '', '&lt;/em&gt;': '', '&lt;strong&gt;': '', '&lt;/strong&gt;': ''})"
      ],
      "id": "7c8cbebf"
    },
    {
      "cell_type": "code",
      "execution_count": 4,
      "metadata": {
        "id": "a2108e26"
      },
      "outputs": [],
      "source": [
        "def replace_chars(sent):\n",
        "    to_replace = [c for c in list(chr_subst.keys()) if c in sent]\n",
        "    for c in to_replace:\n",
        "        sent = sent.replace(c, chr_subst[c])\n",
        "    return sent\n",
        "\n",
        "def preproc_description(desc):\n",
        "    desc = desc.replace('\\\\', ' ').strip()\n",
        "    return replace_chars(desc)"
      ],
      "id": "a2108e26"
    },
    {
      "cell_type": "markdown",
      "metadata": {
        "id": "902cca8d"
      },
      "source": [
        "### 15.4.2 Hugging Face Datasets\n",
        "\n",
        "![](https://raw.githubusercontent.com/dvgodoy/assets/main/PyTorchInPractice/images/ch0/data_step4.png)"
      ],
      "id": "902cca8d"
    },
    {
      "cell_type": "code",
      "execution_count": 5,
      "metadata": {
        "id": "KADBGpSQMmAv",
        "outputId": "c52a1244-d78f-4ec7-e34d-83be6e6d7340",
        "colab": {
          "referenced_widgets": [
            "65b68fa70ec84cf9b970d4fef4c47710",
            "1e9428942a4c496188a7163a406ce44c",
            "04ca7599860d44d5b7900e3b96c907fe",
            "a18960e8edc94c61a3d7d2116853eea4",
            "9d11cde0d11444dbb1319dbd4e21a799",
            "dd0b9bef64434304b10d7fa95c143968",
            "73b12201e206448da144ac2ed9002302",
            "2f8bb61e478a499b85b941665c6fe84b",
            "e8d9eb2a40424828ba29c2fee7bb07fb",
            "ee42e8d31c9a4b89b1923f07ae431b6f",
            "e5f439e9f8f44b8d8aa081b993fd8c56",
            "96403b05dde647d5a429c189f69b901c",
            "000e950e88a543bf9e0bc8eee596cd2d",
            "919a91a5d0bb483f8c60989fe71c8c85",
            "4ff019cb94fd4fadb26d4ccb38ca5115",
            "52e8f05122cb4de9b16593f7c9267e7a",
            "69ccd24ee7ef402f809da10ce0bdf176",
            "22ca53b33d27403f99dfbb26f84f55ad",
            "4957d4af166e4a3b87e54ee04bdfd70c",
            "aab04c4ba18a4d3c99d2da372048c7ac",
            "3b6a3bd4a2c640aab8c6e598810a4f65",
            "ef10fc6ed1ea4d86a292ac6964bb7829"
          ],
          "base_uri": "https://localhost:8080/",
          "height": 255
        }
      },
      "outputs": [
        {
          "output_type": "display_data",
          "data": {
            "text/plain": [
              "Generating train split: 0 examples [00:00, ? examples/s]"
            ],
            "application/vnd.jupyter.widget-view+json": {
              "version_major": 2,
              "version_minor": 0,
              "model_id": "65b68fa70ec84cf9b970d4fef4c47710"
            }
          },
          "metadata": {}
        },
        {
          "output_type": "display_data",
          "data": {
            "text/plain": [
              "Generating train split: 0 examples [00:00, ? examples/s]"
            ],
            "application/vnd.jupyter.widget-view+json": {
              "version_major": 2,
              "version_minor": 0,
              "model_id": "96403b05dde647d5a429c189f69b901c"
            }
          },
          "metadata": {}
        },
        {
          "output_type": "execute_result",
          "data": {
            "text/plain": [
              "DatasetDict({\n",
              "    train: Dataset({\n",
              "        features: ['topic', 'title', 'news'],\n",
              "        num_rows: 120000\n",
              "    })\n",
              "    test: Dataset({\n",
              "        features: ['topic', 'title', 'news'],\n",
              "        num_rows: 7600\n",
              "    })\n",
              "})"
            ]
          },
          "metadata": {},
          "execution_count": 5
        }
      ],
      "source": [
        "from datasets import load_dataset, Split, DatasetDict\n",
        "\n",
        "colnames = ['topic', 'title', 'news']\n",
        "\n",
        "train_ds = load_dataset(\"csv\", data_files='train.csv', sep=',', split=Split.ALL, column_names=colnames)\n",
        "test_ds = load_dataset(\"csv\", data_files='test.csv', sep=',', split=Split.ALL, column_names=colnames)\n",
        "\n",
        "datasets = DatasetDict({'train': train_ds, 'test': test_ds})\n",
        "datasets"
      ],
      "id": "KADBGpSQMmAv"
    },
    {
      "cell_type": "code",
      "execution_count": 6,
      "metadata": {
        "id": "nYI29H8pMmAx",
        "outputId": "0aebe4a3-4c85-4405-fa5f-3d677d7f37ba",
        "colab": {
          "base_uri": "https://localhost:8080/"
        }
      },
      "outputs": [
        {
          "output_type": "execute_result",
          "data": {
            "text/plain": [
              "{'topic': 3,\n",
              " 'title': 'Wall St. Bears Claw Back Into the Black (Reuters)',\n",
              " 'news': \"Reuters - Short-sellers, Wall Street's dwindling\\\\band of ultra-cynics, are seeing green again.\"}"
            ]
          },
          "metadata": {},
          "execution_count": 6
        }
      ],
      "source": [
        "datasets['train'][0]"
      ],
      "id": "nYI29H8pMmAx"
    },
    {
      "cell_type": "code",
      "execution_count": 7,
      "metadata": {
        "id": "3Qlex1m0MmA0",
        "outputId": "220ab857-7205-4037-f7d7-8d555d134b76",
        "colab": {
          "referenced_widgets": [
            "cb6d125a142640cd8e9672c8aafb83fa",
            "9265d4de9f1c427f9b9a5ba3ae0e2d11",
            "ad93dca6119e42efba5d7cc09f264cb8",
            "325c0c98f2c04ff1b12acf5a1fd2f95e",
            "8147a34a998946cf865d65d673680ceb",
            "b42255234af24eec8b83619b2b0bf724",
            "39eaf8b9214a4ca8944fde49b0e6b755",
            "dcea7898591a4130b036517f65605b49",
            "5b1cf1a35ad74f769a40abc2640d1091",
            "1385e76ae1104135a890123ef505a3de",
            "8262199903a344e68b86560cb9ef31d8",
            "64c5e6b600eb4ee59241011a0df92721",
            "c942e9545c7d403e9139bb87eb4b4be0",
            "729fc578f1124c90b2d7f63c74a4e282",
            "652fb902f3904b3b93a82fd23f2d062c",
            "ff801ba54566469981cb38608756ad46",
            "aa73dcadb7fb4f0293b6067fcd728926",
            "f55b016a483e47ae83a64d7da2c24542",
            "5232149fc71b482cb301407e29911194",
            "cfe1cfffc2f14fc4bada761f38379d48",
            "a0be420e7a854d3a91abfa1d8606f69c",
            "47eb596a404c4d6f8cb240095e6f84e4"
          ],
          "base_uri": "https://localhost:8080/",
          "height": 81
        }
      },
      "outputs": [
        {
          "output_type": "display_data",
          "data": {
            "text/plain": [
              "Map:   0%|          | 0/120000 [00:00<?, ? examples/s]"
            ],
            "application/vnd.jupyter.widget-view+json": {
              "version_major": 2,
              "version_minor": 0,
              "model_id": "cb6d125a142640cd8e9672c8aafb83fa"
            }
          },
          "metadata": {}
        },
        {
          "output_type": "display_data",
          "data": {
            "text/plain": [
              "Map:   0%|          | 0/7600 [00:00<?, ? examples/s]"
            ],
            "application/vnd.jupyter.widget-view+json": {
              "version_major": 2,
              "version_minor": 0,
              "model_id": "64c5e6b600eb4ee59241011a0df92721"
            }
          },
          "metadata": {}
        }
      ],
      "source": [
        "datasets = datasets.map(lambda row: {'topic': row['topic']-1,\n",
        "                                     'news': preproc_description(row['news'])})\n",
        "datasets = datasets.select_columns(['topic', 'news'])"
      ],
      "id": "3Qlex1m0MmA0"
    },
    {
      "cell_type": "code",
      "execution_count": 8,
      "metadata": {
        "id": "6-YFHINLMmBD",
        "outputId": "5dc82cd9-9bec-47b0-b49b-684bd91734a3",
        "colab": {
          "base_uri": "https://localhost:8080/"
        }
      },
      "outputs": [
        {
          "output_type": "execute_result",
          "data": {
            "text/plain": [
              "([2, 2, 2, 2],\n",
              " [\"Reuters - Short-sellers, Wall Street's dwindling band of ultra-cynics, are seeing green again.\",\n",
              "  'Reuters - Private investment firm Carlyle Group, which has a reputation for making well-timed and occasionally controversial plays in the defense industry, has quietly placed its bets on another part of the market.',\n",
              "  'Reuters - Soaring crude prices plus worries about the economy and the outlook for earnings are expected to hang over the stock market next week during the depth of the summer doldrums.',\n",
              "  'Reuters - Authorities have halted oil export flows from the main pipeline in southern Iraq after intelligence showed a rebel militia could strike infrastructure, an oil official said on Saturday.'])"
            ]
          },
          "metadata": {},
          "execution_count": 8
        }
      ],
      "source": [
        "batch = datasets['train'][:4]\n",
        "labels, descriptions = batch['topic'], batch['news']\n",
        "labels, descriptions"
      ],
      "id": "6-YFHINLMmBD"
    },
    {
      "cell_type": "markdown",
      "metadata": {
        "id": "c20834dc"
      },
      "source": [
        "## 15.5 Tokenization\n",
        "\n",
        "![](https://raw.githubusercontent.com/dvgodoy/assets/main/PyTorchInPractice/images/ch0/data_step3.png)"
      ],
      "id": "c20834dc"
    },
    {
      "cell_type": "code",
      "execution_count": 9,
      "metadata": {
        "id": "Qx3u08LjMmBF",
        "outputId": "390c1629-295f-4e1e-8758-973246f58204",
        "colab": {
          "base_uri": "https://localhost:8080/"
        }
      },
      "outputs": [
        {
          "output_type": "execute_result",
          "data": {
            "text/plain": [
              "['Reuters',\n",
              " '-',\n",
              " 'Short-sellers,',\n",
              " 'Wall',\n",
              " \"Street's\",\n",
              " 'dwindling',\n",
              " 'band',\n",
              " 'of',\n",
              " 'ultra-cynics,',\n",
              " 'are',\n",
              " 'seeing',\n",
              " 'green',\n",
              " 'again.']"
            ]
          },
          "metadata": {},
          "execution_count": 9
        }
      ],
      "source": [
        "tokens = descriptions[0].split()\n",
        "tokens"
      ],
      "id": "Qx3u08LjMmBF"
    },
    {
      "cell_type": "code",
      "execution_count": 10,
      "metadata": {
        "id": "9wFvLOdDMmBH",
        "outputId": "0fdc3516-fa7b-4e93-ea9b-ab753b36c4b5",
        "colab": {
          "base_uri": "https://localhost:8080/"
        }
      },
      "outputs": [
        {
          "output_type": "execute_result",
          "data": {
            "text/plain": [
              "['reuters',\n",
              " 'short',\n",
              " 'sellers',\n",
              " 'wall',\n",
              " 'street',\n",
              " 'dwindling',\n",
              " 'band',\n",
              " 'of',\n",
              " 'ultra',\n",
              " 'cynics',\n",
              " 'are',\n",
              " 'seeing',\n",
              " 'green',\n",
              " 'again']"
            ]
          },
          "metadata": {},
          "execution_count": 10
        }
      ],
      "source": [
        "from gensim.utils import simple_preprocess\n",
        "tokens = simple_preprocess(descriptions[0])\n",
        "tokens"
      ],
      "id": "9wFvLOdDMmBH"
    },
    {
      "cell_type": "code",
      "execution_count": 11,
      "metadata": {
        "id": "n1cE0IpOMmBI",
        "outputId": "29ce57f9-fcab-45b3-936a-8ce239d85f18",
        "colab": {
          "base_uri": "https://localhost:8080/",
          "height": 475,
          "referenced_widgets": [
            "654b556b03b54764bae167db9684c475",
            "a432982612a544f6a5284314f67c2d9e",
            "21b2d2894dae4e538fbdefadbc9899ba",
            "1eb98b3efa2f4502b8bfa83916aa75df",
            "df3222abf1954d63a01d6d0ca4a2de4c",
            "52bd79f1f2c64ccebe392a5700ac3e8d",
            "8fd1753bd956405984d5e3c41c2da44b",
            "fa97fac1fd23491c81975384ca85d767",
            "6fe718dd71f54c52a6be785b151bc07c",
            "b555640ff92048d3ada4a2ad5afaddb5",
            "5ffcb5aab6e44b9482e694c786e519e8",
            "c39e118f61cc4dcc97a020fef9572d95",
            "ff49cd387609443994c68181a3bd555e",
            "da5cf258ff0c4f4f909fdb796155d8ec",
            "7341df3ad66446db964a31aca4857efb",
            "39fff3faae2e4401a1d2ae31e32ffab6",
            "45d0bf57b7d54b458b98b76771ab0306",
            "05e96bd46ae248ce9819d587409d9248",
            "45834d94c2b844fa8a23b3a82e0cd326",
            "d933a3a51ed54a3f9767351c979a1df5",
            "74bc5195d6704324b08e2e0088807b22",
            "ace8ce401dc246039d6a40b364d8b431",
            "5c46083905754f48bdcdd356c29f3be6",
            "1bc1c9afc05641c6a3a4a8d55b28b7da",
            "8f4174714c314e7898c026ebb9c8e3eb",
            "28088515f53943aa8acdb8b0c51c9b7c",
            "f689cc91f9e343238f257a544caf19ec",
            "f6f4eadc02de487382d21e585459c56f",
            "c1318a3e19394c228a9fbed2f0286e54",
            "018b8997d75d4b7c892b4b9c99b7603c",
            "80b26cdebe8b4419bdcba6e4f7b112fd",
            "3c17b102fb264b12aabbd0c0d0675c1b",
            "f647c8aaf40b4bac9b0558d0d9d8c8be",
            "f66f38992e1a461a9bbed2a2cc86a9c0",
            "2bc7e838e6884a09ae912e0705d76161",
            "56f8aa99af664ee89aae408ed26b91d9",
            "587b96bf09b649b8aa6ca7bea4fe25d8",
            "1046a869204742b8aa0e88bcfb8e4ac0",
            "d00ceef016254901a73fded669343f93",
            "fc3a5a33d8084fa8a90b7e0a80be0e40",
            "ea2ed161c44a4549a51374dedeec3300",
            "71ad1f84a1fb4a1da6c103ff3202ca38",
            "e8e48b03e1c941478254f71c78301ac7",
            "5cb74e59f44947b89fb8b1aab5cde081"
          ]
        }
      },
      "outputs": [
        {
          "output_type": "stream",
          "name": "stderr",
          "text": [
            "/usr/local/lib/python3.11/dist-packages/huggingface_hub/utils/_auth.py:94: UserWarning: \n",
            "The secret `HF_TOKEN` does not exist in your Colab secrets.\n",
            "To authenticate with the Hugging Face Hub, create a token in your settings tab (https://huggingface.co/settings/tokens), set it as secret in your Google Colab and restart your session.\n",
            "You will be able to reuse this secret in all of your notebooks.\n",
            "Please note that authentication is recommended but still optional to access public models or datasets.\n",
            "  warnings.warn(\n"
          ]
        },
        {
          "output_type": "display_data",
          "data": {
            "text/plain": [
              "tokenizer_config.json:   0%|          | 0.00/48.0 [00:00<?, ?B/s]"
            ],
            "application/vnd.jupyter.widget-view+json": {
              "version_major": 2,
              "version_minor": 0,
              "model_id": "654b556b03b54764bae167db9684c475"
            }
          },
          "metadata": {}
        },
        {
          "output_type": "display_data",
          "data": {
            "text/plain": [
              "config.json:   0%|          | 0.00/570 [00:00<?, ?B/s]"
            ],
            "application/vnd.jupyter.widget-view+json": {
              "version_major": 2,
              "version_minor": 0,
              "model_id": "c39e118f61cc4dcc97a020fef9572d95"
            }
          },
          "metadata": {}
        },
        {
          "output_type": "display_data",
          "data": {
            "text/plain": [
              "vocab.txt:   0%|          | 0.00/232k [00:00<?, ?B/s]"
            ],
            "application/vnd.jupyter.widget-view+json": {
              "version_major": 2,
              "version_minor": 0,
              "model_id": "5c46083905754f48bdcdd356c29f3be6"
            }
          },
          "metadata": {}
        },
        {
          "output_type": "display_data",
          "data": {
            "text/plain": [
              "tokenizer.json:   0%|          | 0.00/466k [00:00<?, ?B/s]"
            ],
            "application/vnd.jupyter.widget-view+json": {
              "version_major": 2,
              "version_minor": 0,
              "model_id": "f66f38992e1a461a9bbed2a2cc86a9c0"
            }
          },
          "metadata": {}
        },
        {
          "output_type": "execute_result",
          "data": {
            "text/plain": [
              "Tokenizer(version=\"1.0\", truncation=None, padding=None, added_tokens=[{\"id\":0, \"content\":\"[PAD]\", \"single_word\":False, \"lstrip\":False, \"rstrip\":False, \"normalized\":False, \"special\":True}, {\"id\":100, \"content\":\"[UNK]\", \"single_word\":False, \"lstrip\":False, \"rstrip\":False, \"normalized\":False, \"special\":True}, {\"id\":101, \"content\":\"[CLS]\", \"single_word\":False, \"lstrip\":False, \"rstrip\":False, \"normalized\":False, \"special\":True}, {\"id\":102, \"content\":\"[SEP]\", \"single_word\":False, \"lstrip\":False, \"rstrip\":False, \"normalized\":False, \"special\":True}, {\"id\":103, \"content\":\"[MASK]\", \"single_word\":False, \"lstrip\":False, \"rstrip\":False, \"normalized\":False, \"special\":True}], normalizer=BertNormalizer(clean_text=True, handle_chinese_chars=True, strip_accents=None, lowercase=True), pre_tokenizer=BertPreTokenizer(), post_processor=TemplateProcessing(single=[SpecialToken(id=\"[CLS]\", type_id=0), Sequence(id=A, type_id=0), SpecialToken(id=\"[SEP]\", type_id=0)], pair=[SpecialToken(id=\"[CLS]\", type_id=0), Sequence(id=A, type_id=0), SpecialToken(id=\"[SEP]\", type_id=0), Sequence(id=B, type_id=1), SpecialToken(id=\"[SEP]\", type_id=1)], special_tokens={\"[CLS]\":SpecialToken(id=\"[CLS]\", ids=[101], tokens=[\"[CLS]\"]), \"[SEP]\":SpecialToken(id=\"[SEP]\", ids=[102], tokens=[\"[SEP]\"])}), decoder=WordPiece(prefix=\"##\", cleanup=True), model=WordPiece(unk_token=\"[UNK]\", continuing_subword_prefix=\"##\", max_input_chars_per_word=100, vocab={\"[PAD]\":0, \"[unused0]\":1, \"[unused1]\":2, \"[unused2]\":3, \"[unused3]\":4, \"[unused4]\":5, \"[unused5]\":6, \"[unused6]\":7, \"[unused7]\":8, \"[unused8]\":9, \"[unused9]\":10, \"[unused10]\":11, \"[unused11]\":12, \"[unused12]\":13, \"[unused13]\":14, \"[unused14]\":15, \"[unused15]\":16, \"[unused16]\":17, \"[unused17]\":18, \"[unused18]\":19, \"[unused19]\":20, \"[unused20]\":21, \"[unused21]\":22, \"[unused22]\":23, \"[unused23]\":24, \"[unused24]\":25, \"[unused25]\":26, \"[unused26]\":27, \"[unused27]\":28, \"[unused28]\":29, \"[unused29]\":30, \"[unused30]\":31, \"[unused31]\":32, \"[unused32]\":33, \"[unused33]\":34, \"[unused34]\":35, \"[unused35]\":36, \"[unused36]\":37, \"[unused37]\":38, \"[unused38]\":39, \"[unused39]\":40, \"[unused40]\":41, \"[unused41]\":42, \"[unused42]\":43, \"[unused43]\":44, \"[unused44]\":45, \"[unused45]\":46, \"[unused46]\":47, \"[unused47]\":48, \"[unused48]\":49, \"[unused49]\":50, \"[unused50]\":51, \"[unused51]\":52, \"[unused52]\":53, \"[unused53]\":54, \"[unused54]\":55, \"[unused55]\":56, \"[unused56]\":57, \"[unused57]\":58, \"[unused58]\":59, \"[unused59]\":60, \"[unused60]\":61, \"[unused61]\":62, \"[unused62]\":63, \"[unused63]\":64, \"[unused64]\":65, \"[unused65]\":66, \"[unused66]\":67, \"[unused67]\":68, \"[unused68]\":69, \"[unused69]\":70, \"[unused70]\":71, \"[unused71]\":72, \"[unused72]\":73, \"[unused73]\":74, \"[unused74]\":75, \"[unused75]\":76, \"[unused76]\":77, \"[unused77]\":78, \"[unused78]\":79, \"[unused79]\":80, \"[unused80]\":81, \"[unused81]\":82, \"[unused82]\":83, \"[unused83]\":84, \"[unused84]\":85, \"[unused85]\":86, \"[unused86]\":87, \"[unused87]\":88, \"[unused88]\":89, \"[unused89]\":90, \"[unused90]\":91, \"[unused91]\":92, \"[unused92]\":93, \"[unused93]\":94, \"[unused94]\":95, \"[unused95]\":96, \"[unused96]\":97, \"[unused97]\":98, ...}))"
            ]
          },
          "metadata": {},
          "execution_count": 11
        }
      ],
      "source": [
        "from transformers import AutoTokenizer\n",
        "\n",
        "tokenizer = AutoTokenizer.from_pretrained(\"bert-base-uncased\")\n",
        "\n",
        "tok_obj = tokenizer.backend_tokenizer\n",
        "tok_obj"
      ],
      "id": "n1cE0IpOMmBI"
    },
    {
      "cell_type": "code",
      "execution_count": 12,
      "metadata": {
        "id": "e1PF3YmMMmBJ",
        "outputId": "8024da6a-9cc5-4804-c94a-1a68a6873ca6",
        "colab": {
          "base_uri": "https://localhost:8080/"
        }
      },
      "outputs": [
        {
          "output_type": "execute_result",
          "data": {
            "text/plain": [
              "(True, True, None)"
            ]
          },
          "metadata": {},
          "execution_count": 12
        }
      ],
      "source": [
        "normalizer = tok_obj.normalizer\n",
        "normalizer.lowercase, normalizer.clean_text, normalizer.strip_accents"
      ],
      "id": "e1PF3YmMMmBJ"
    },
    {
      "cell_type": "code",
      "execution_count": 13,
      "metadata": {
        "id": "U-lKQTK2MmBL",
        "outputId": "0ecb7847-5910-498e-e1db-86e8b22f3d97",
        "colab": {
          "base_uri": "https://localhost:8080/",
          "height": 35
        }
      },
      "outputs": [
        {
          "output_type": "execute_result",
          "data": {
            "text/plain": [
              "\"reuters - short-sellers, wall street's dwindling band of ultra-cynics, are seeing green again.\""
            ],
            "application/vnd.google.colaboratory.intrinsic+json": {
              "type": "string"
            }
          },
          "metadata": {},
          "execution_count": 13
        }
      ],
      "source": [
        "normalized = normalizer.normalize_str(descriptions[0])\n",
        "normalized"
      ],
      "id": "U-lKQTK2MmBL"
    },
    {
      "cell_type": "code",
      "execution_count": 14,
      "metadata": {
        "id": "CO5wR9SiMmBX",
        "outputId": "5a960507-4a23-4bb8-8165-c419343e56d5",
        "colab": {
          "base_uri": "https://localhost:8080/"
        }
      },
      "outputs": [
        {
          "output_type": "execute_result",
          "data": {
            "text/plain": [
              "[('reuters', (0, 7)),\n",
              " ('-', (8, 9)),\n",
              " ('short', (10, 15)),\n",
              " ('-', (15, 16)),\n",
              " ('sellers', (16, 23)),\n",
              " (',', (23, 24)),\n",
              " ('wall', (25, 29)),\n",
              " ('street', (30, 36)),\n",
              " (\"'\", (36, 37)),\n",
              " ('s', (37, 38)),\n",
              " ('dwindling', (39, 48)),\n",
              " ('band', (49, 53)),\n",
              " ('of', (54, 56)),\n",
              " ('ultra', (57, 62)),\n",
              " ('-', (62, 63)),\n",
              " ('cynics', (63, 69)),\n",
              " (',', (69, 70)),\n",
              " ('are', (71, 74)),\n",
              " ('seeing', (75, 81)),\n",
              " ('green', (82, 87)),\n",
              " ('again', (88, 93)),\n",
              " ('.', (93, 94))]"
            ]
          },
          "metadata": {},
          "execution_count": 14
        }
      ],
      "source": [
        "pre_tokenizer = tok_obj.pre_tokenizer\n",
        "tokens = pre_tokenizer.pre_tokenize_str(normalized)\n",
        "tokens"
      ],
      "id": "CO5wR9SiMmBX"
    },
    {
      "cell_type": "markdown",
      "metadata": {
        "id": "02890969"
      },
      "source": [
        "### 15.5.1 Vocabulary"
      ],
      "id": "02890969"
    },
    {
      "cell_type": "code",
      "execution_count": 15,
      "metadata": {
        "id": "8ccQMcWJMmBZ",
        "outputId": "d88041da-4344-4770-d43d-56a5bab93062",
        "colab": {
          "base_uri": "https://localhost:8080/"
        }
      },
      "outputs": [
        {
          "output_type": "execute_result",
          "data": {
            "text/plain": [
              "{'nato': 10079,\n",
              " 'germanic': 15139,\n",
              " 'squire': 21263,\n",
              " 'deteriorating': 28440,\n",
              " '##truct': 18300,\n",
              " 'my': 2026,\n",
              " 'lucille': 28016,\n",
              " 'pulled': 2766,\n",
              " 'barangay': 20937,\n",
              " 'hours': 2847,\n",
              " 'scriptures': 22481,\n",
              " 'ק': 1264,\n",
              " 'hastily': 15789,\n",
              " 'andrey': 29219,\n",
              " 'ec': 14925,\n",
              " 'ports': 8831,\n",
              " 'ensemble': 7241,\n",
              " 'insistent': 29204,\n",
              " 'suite': 7621,\n",
              " 'ms': 5796,\n",
              " 'library': 3075,\n",
              " 'fletcher': 10589,\n",
              " 'rainforest': 18951,\n",
              " '1609': 28058,\n",
              " '##grapher': 18657,\n",
              " 'chromosomes': 26874,\n",
              " '##holes': 19990,\n",
              " 'communes': 16569,\n",
              " 'federico': 20493,\n",
              " 'symbol': 6454,\n",
              " '##sund': 25168,\n",
              " 'complicated': 8552,\n",
              " 'territorial': 7894,\n",
              " 'manifesto': 17124,\n",
              " 'household': 4398,\n",
              " 'reaching': 4285,\n",
              " 'ivy': 7768,\n",
              " 'archive': 8756,\n",
              " 'crook': 19302,\n",
              " '°c': 6362,\n",
              " 'ம': 1389,\n",
              " '分': 1775,\n",
              " 'odyssey': 18735,\n",
              " 'pounding': 9836,\n",
              " 'booming': 24716,\n",
              " '##minate': 19269,\n",
              " 'fat': 6638,\n",
              " 'python': 18750,\n",
              " '广': 1842,\n",
              " 'lumpur': 17761,\n",
              " '[unused559]': 564,\n",
              " 'chords': 18495,\n",
              " '##dana': 25917,\n",
              " 'invasions': 23536,\n",
              " 'worrying': 15366,\n",
              " 'ћ': 1217,\n",
              " '##佐': 30290,\n",
              " '1685': 25053,\n",
              " '##combe': 14149,\n",
              " 'congregations': 16850,\n",
              " 'ind': 27427,\n",
              " 'cocaine': 16034,\n",
              " 'entertaining': 14036,\n",
              " 'liberals': 13350,\n",
              " 'masters': 5972,\n",
              " 'saw': 2387,\n",
              " 'submit': 12040,\n",
              " 'pounder': 20091,\n",
              " 'shields': 11824,\n",
              " 'ministers': 7767,\n",
              " 'halfway': 8576,\n",
              " 'opposition': 4559,\n",
              " 'simultaneous': 17424,\n",
              " 'agony': 12812,\n",
              " 'china': 2859,\n",
              " 'easy': 3733,\n",
              " 'hop': 6154,\n",
              " 'keys': 6309,\n",
              " 'egg': 8288,\n",
              " 'ripped': 9157,\n",
              " '[unused355]': 360,\n",
              " '1749': 24704,\n",
              " 'malaria': 19132,\n",
              " 'elvis': 12280,\n",
              " 'shots': 7171,\n",
              " 'anand': 18887,\n",
              " 'ranging': 7478,\n",
              " '##vr': 19716,\n",
              " '##ns': 3619,\n",
              " 'amplifier': 22686,\n",
              " 'form': 2433,\n",
              " 'summer': 2621,\n",
              " 'necessary': 4072,\n",
              " '##ill': 8591,\n",
              " 'formats': 11630,\n",
              " '##mat': 18900,\n",
              " '##ian': 2937,\n",
              " '##男': 30438,\n",
              " 'ff': 21461,\n",
              " 'cosmopolitan': 24686,\n",
              " 'gonna': 6069,\n",
              " '[unused625]': 630,\n",
              " 'pena': 19409,\n",
              " '##dun': 27584,\n",
              " 'toronto': 4361,\n",
              " 'odessa': 19693,\n",
              " '##venor': 26806,\n",
              " 'iraq': 5712,\n",
              " '##chfield': 22693,\n",
              " 'gaston': 18572,\n",
              " 'aggregator': 24089,\n",
              " 'gladly': 24986,\n",
              " '##♣': 30151,\n",
              " 'smiling': 5629,\n",
              " '##2': 2475,\n",
              " '##tness': 27401,\n",
              " 'owned': 3079,\n",
              " '##љ': 29762,\n",
              " '[unused603]': 608,\n",
              " '##ᅳ': 30017,\n",
              " 'warped': 25618,\n",
              " '##mon': 8202,\n",
              " 'margarita': 24570,\n",
              " 'trades': 14279,\n",
              " '##rger': 25858,\n",
              " 'sample': 7099,\n",
              " '##bane': 27543,\n",
              " '##meo': 26247,\n",
              " 'billions': 25501,\n",
              " 'schumacher': 22253,\n",
              " 'erratic': 24122,\n",
              " 'obsession': 17418,\n",
              " 'reggae': 15662,\n",
              " 'cumberland': 12310,\n",
              " '##tate': 12259,\n",
              " '##hai': 10932,\n",
              " 'snarled': 15022,\n",
              " 'chihuahua': 28480,\n",
              " 'buckingham': 17836,\n",
              " '##life': 15509,\n",
              " 'annual': 3296,\n",
              " 'derbyshire': 15207,\n",
              " 'dudley': 12648,\n",
              " 'fuselage': 13478,\n",
              " 'turning': 3810,\n",
              " '##holz': 28094,\n",
              " '##ho': 6806,\n",
              " '##ots': 12868,\n",
              " 'equipment': 3941,\n",
              " 'scandal': 9446,\n",
              " 'antwerp': 14003,\n",
              " 'consider': 5136,\n",
              " '##kin': 4939,\n",
              " 'astros': 22058,\n",
              " 'nw': 22064,\n",
              " '##vino': 26531,\n",
              " 'launched': 3390,\n",
              " 'loose': 6065,\n",
              " 'sears': 18493,\n",
              " 'beverages': 21705,\n",
              " '##ako': 20411,\n",
              " 'wasting': 18313,\n",
              " 'plans': 3488,\n",
              " '事': 1751,\n",
              " 'marx': 13518,\n",
              " 'dictator': 21237,\n",
              " '##hen': 10222,\n",
              " 'cassandra': 15609,\n",
              " '24th': 13386,\n",
              " '##10': 10790,\n",
              " '##lage': 20679,\n",
              " 'elders': 13376,\n",
              " '##nitz': 22792,\n",
              " 'claim': 4366,\n",
              " '##堂': 30331,\n",
              " '##lin': 4115,\n",
              " '##breakers': 27623,\n",
              " 'distracting': 25012,\n",
              " 'tones': 12623,\n",
              " 'trier': 25487,\n",
              " '##uba': 19761,\n",
              " 'linebacker': 15674,\n",
              " 'arun': 28217,\n",
              " 'assam': 15181,\n",
              " 'beasts': 15109,\n",
              " 'henson': 27227,\n",
              " '8': 1022,\n",
              " 'judaism': 13725,\n",
              " 'easton': 21636,\n",
              " '233': 22115,\n",
              " 'ள': 1393,\n",
              " 'brown': 2829,\n",
              " 'ape': 23957,\n",
              " 'fc': 4429,\n",
              " '331': 27533,\n",
              " '##icum': 22167,\n",
              " 'eternity': 12715,\n",
              " 'wipe': 13387,\n",
              " '##ng': 3070,\n",
              " '##州': 30362,\n",
              " 'sparkled': 28092,\n",
              " 'bangor': 21895,\n",
              " 'tuition': 15413,\n",
              " '##`': 29639,\n",
              " 'ต': 1411,\n",
              " '##tained': 28055,\n",
              " 'a2': 22441,\n",
              " '##aby': 21275,\n",
              " 'watkins': 17055,\n",
              " '[unused800]': 805,\n",
              " '[unused696]': 701,\n",
              " 'solving': 13729,\n",
              " 'ratios': 21879,\n",
              " 'auditions': 21732,\n",
              " 'depicts': 11230,\n",
              " '##‡': 30062,\n",
              " 'swat': 25414,\n",
              " 'elongated': 17876,\n",
              " 'romantic': 6298,\n",
              " 'similarity': 14402,\n",
              " 'hughes': 8099,\n",
              " 'व': 1335,\n",
              " 'mckenzie': 18506,\n",
              " '##:': 29627,\n",
              " 'branded': 11180,\n",
              " '##gm': 21693,\n",
              " 'fluorescent': 22184,\n",
              " '[unused551]': 556,\n",
              " 'meaningful': 15902,\n",
              " '##cor': 27108,\n",
              " '##gam': 22864,\n",
              " 'elastic': 21274,\n",
              " 'metaphor': 19240,\n",
              " 'notified': 19488,\n",
              " '##dome': 26173,\n",
              " 'khyber': 28416,\n",
              " 'inherit': 22490,\n",
              " 'dso': 22951,\n",
              " '##valent': 24879,\n",
              " 'poisoned': 17672,\n",
              " 'pioneers': 13200,\n",
              " 'newmarket': 22489,\n",
              " 'stiffly': 27499,\n",
              " 'ai': 9932,\n",
              " 'subunit': 24312,\n",
              " '##у': 29748,\n",
              " '##alla': 25425,\n",
              " '##*': 29621,\n",
              " '##tos': 13122,\n",
              " 'dress': 4377,\n",
              " 'explained': 4541,\n",
              " 'foundation': 3192,\n",
              " 'historian': 5272,\n",
              " 'clapton': 24705,\n",
              " 'characteristic': 8281,\n",
              " '##bow': 18912,\n",
              " 'research': 2470,\n",
              " 'organised': 7362,\n",
              " 'rollins': 23502,\n",
              " 'manpower': 22039,\n",
              " 'remington': 25282,\n",
              " 'affirmative': 27352,\n",
              " 'researching': 20059,\n",
              " '##itation': 18557,\n",
              " '##ள': 29929,\n",
              " '##ᅥ': 30008,\n",
              " 'exceptions': 11790,\n",
              " '章': 1932,\n",
              " 'sentence': 6251,\n",
              " '##ハ': 30244,\n",
              " 'scientology': 23845,\n",
              " 'wei': 11417,\n",
              " 'toy': 9121,\n",
              " 'asserts': 19514,\n",
              " 'thrilled': 16082,\n",
              " '##士': 30333,\n",
              " '340': 16029,\n",
              " 'þ': 1101,\n",
              " 'bouts': 23666,\n",
              " 'dip': 16510,\n",
              " '##ckey': 29183,\n",
              " 'estonian': 12029,\n",
              " 'republics': 24822,\n",
              " 'nsa': 23971,\n",
              " 'employers': 12433,\n",
              " '##tub': 28251,\n",
              " 'artifact': 20785,\n",
              " 'ira': 11209,\n",
              " 'squealed': 26175,\n",
              " '##eta': 12928,\n",
              " '1000': 6694,\n",
              " '##raphic': 20721,\n",
              " 'benson': 11999,\n",
              " 'comrade': 27661,\n",
              " 'gables': 27008,\n",
              " 'wwe': 11700,\n",
              " 'armory': 24139,\n",
              " '##wick': 7184,\n",
              " 'rt': 19387,\n",
              " 'tata': 23236,\n",
              " 'celeste': 21113,\n",
              " 'curious': 8025,\n",
              " 'hopeful': 17772,\n",
              " 'calf': 19134,\n",
              " '##lang': 25023,\n",
              " '1800s': 19878,\n",
              " '##laya': 22923,\n",
              " 'best': 2190,\n",
              " 'か': 1651,\n",
              " 'finishing': 5131,\n",
              " 'spacecraft': 12076,\n",
              " 'singapore': 5264,\n",
              " '##ipe': 15457,\n",
              " '##sea': 17310,\n",
              " 'cables': 15196,\n",
              " '##hani': 23573,\n",
              " 'integrity': 11109,\n",
              " 'grown': 4961,\n",
              " 'amy': 6864,\n",
              " 'signage': 29404,\n",
              " 'seeker': 29444,\n",
              " 'allergic': 27395,\n",
              " 'assistance': 5375,\n",
              " 'companies': 3316,\n",
              " 'bluegrass': 21286,\n",
              " 'fe': 10768,\n",
              " '##p': 2361,\n",
              " 'frey': 20068,\n",
              " 'heavenly': 16581,\n",
              " 'ว': 1419,\n",
              " 'bribes': 29117,\n",
              " 'folder': 19622,\n",
              " 'resurrected': 23053,\n",
              " 'predictable': 21425,\n",
              " '##olis': 20872,\n",
              " 'allegedly': 9382,\n",
              " 'owing': 11427,\n",
              " '##gated': 11644,\n",
              " 'roared': 14242,\n",
              " 'stereo': 12991,\n",
              " 'ki': 11382,\n",
              " '##eria': 11610,\n",
              " 'fumble': 19576,\n",
              " 'bug': 11829,\n",
              " 'dino': 22412,\n",
              " 'talmud': 24380,\n",
              " 'mcmahon': 17741,\n",
              " '##fan': 15143,\n",
              " '##ˣ': 29718,\n",
              " 'catalog': 12105,\n",
              " 'catastrophic': 23546,\n",
              " 'cuba': 7394,\n",
              " 'thirsty': 24907,\n",
              " '高': 1981,\n",
              " 'benches': 19571,\n",
              " 'cameo': 12081,\n",
              " 'telecom': 18126,\n",
              " 'strengthen': 12919,\n",
              " '[unused831]': 836,\n",
              " 'felipe': 17095,\n",
              " '##tto': 9284,\n",
              " '1720': 23535,\n",
              " 'altitudes': 21973,\n",
              " 'curving': 21439,\n",
              " 'levin': 20206,\n",
              " 'belongs': 7460,\n",
              " 'determined': 4340,\n",
              " 'mothers': 10756,\n",
              " 'reflection': 9185,\n",
              " 'powerplant': 19526,\n",
              " '##key': 14839,\n",
              " 'determines': 16463,\n",
              " 'correspondence': 11061,\n",
              " 'supplemented': 20585,\n",
              " '##drop': 25711,\n",
              " 'harvest': 11203,\n",
              " 'roofed': 26080,\n",
              " '##qing': 19784,\n",
              " '[unused822]': 827,\n",
              " 'indonesian': 9003,\n",
              " 'saloon': 17078,\n",
              " 'fresh': 4840,\n",
              " 'plumbing': 27902,\n",
              " '##ezer': 25733,\n",
              " 'refusal': 13948,\n",
              " 'beat': 3786,\n",
              " 'tor': 17153,\n",
              " 'heated': 9685,\n",
              " 'tailor': 22701,\n",
              " 'wide': 2898,\n",
              " 'highs': 26836,\n",
              " '##ington': 7853,\n",
              " '##dek': 24463,\n",
              " 'introduced': 3107,\n",
              " 'julia': 6423,\n",
              " 'curtain': 11002,\n",
              " '##fs': 10343,\n",
              " 'bari': 22466,\n",
              " 'clones': 24418,\n",
              " '44': 4008,\n",
              " 'rewards': 19054,\n",
              " 'forehead': 6130,\n",
              " 'courses': 5352,\n",
              " 'voice': 2376,\n",
              " 'ze': 27838,\n",
              " 'directed': 2856,\n",
              " 'trenches': 19874,\n",
              " '##amine': 19915,\n",
              " 'tame': 24763,\n",
              " '##行': 30471,\n",
              " 'conquered': 11438,\n",
              " 'saying': 3038,\n",
              " '##rson': 17753,\n",
              " 'might': 2453,\n",
              " '##lines': 12735,\n",
              " '##tum': 11667,\n",
              " 'amazed': 15261,\n",
              " 'continuing': 5719,\n",
              " 'notice': 5060,\n",
              " 'domino': 23968,\n",
              " 'orthodox': 6244,\n",
              " 'asteroid': 12175,\n",
              " 'domesday': 22310,\n",
              " 'bizarre': 13576,\n",
              " '##60': 16086,\n",
              " '##bahn': 16052,\n",
              " 'insider': 25297,\n",
              " 'pitt': 15091,\n",
              " '##ment': 3672,\n",
              " 'nap': 18996,\n",
              " 'overview': 19184,\n",
              " 'pennant': 22690,\n",
              " 'picturesque': 23273,\n",
              " '##mps': 25370,\n",
              " '##bler': 16213,\n",
              " 'johnny': 5206,\n",
              " 'richie': 14411,\n",
              " 'tracey': 25984,\n",
              " 'imprint': 15738,\n",
              " '##uce': 18796,\n",
              " 'barber': 13362,\n",
              " 'inherently': 26096,\n",
              " 'catchment': 22865,\n",
              " '##ntial': 19909,\n",
              " 'missionary': 8696,\n",
              " 'militants': 17671,\n",
              " '##ened': 6675,\n",
              " 'fluttering': 25001,\n",
              " 'marche': 28791,\n",
              " 'nike': 18368,\n",
              " '##shire': 7430,\n",
              " 'solutions': 7300,\n",
              " 'organise': 22933,\n",
              " 'structure': 3252,\n",
              " 'dalai': 28511,\n",
              " 'white': 2317,\n",
              " 'mean': 2812,\n",
              " 'す': 1658,\n",
              " 'eruption': 17259,\n",
              " '152': 15017,\n",
              " 'army': 2390,\n",
              " 'awhile': 19511,\n",
              " '163': 17867,\n",
              " 'lock': 5843,\n",
              " 'blades': 10491,\n",
              " 'deception': 17575,\n",
              " '##太': 30338,\n",
              " 'ramsey': 15092,\n",
              " 'symphony': 6189,\n",
              " 'farmer': 7500,\n",
              " 'vamps': 24064,\n",
              " 'ideas': 4784,\n",
              " 'meetings': 6295,\n",
              " '##yp': 22571,\n",
              " 'ট': 1359,\n",
              " 'replies': 14054,\n",
              " 'displacement': 13508,\n",
              " 'naga': 26539,\n",
              " '##ida': 8524,\n",
              " 'jenks': 15119,\n",
              " 'textbooks': 18841,\n",
              " '##rius': 13245,\n",
              " 'enclosed': 10837,\n",
              " '##uts': 16446,\n",
              " 'surgical': 11707,\n",
              " 'jays': 18930,\n",
              " 'reportedly': 7283,\n",
              " 'harriet': 14207,\n",
              " 'controls': 7711,\n",
              " 'damage': 4053,\n",
              " 'cruises': 23986,\n",
              " 'manners': 14632,\n",
              " 'centimeters': 18119,\n",
              " 'ranking': 5464,\n",
              " 'upside': 14961,\n",
              " 'lobbied': 26421,\n",
              " 'sultanate': 21308,\n",
              " '1811': 13086,\n",
              " 'tong': 15740,\n",
              " 'wizard': 10276,\n",
              " 'उ': 1313,\n",
              " 'filing': 15242,\n",
              " 'sickness': 15556,\n",
              " 'io': 22834,\n",
              " 'format': 4289,\n",
              " 'mystic': 17477,\n",
              " 'passed': 2979,\n",
              " 'repetition': 23318,\n",
              " '##gga': 23033,\n",
              " 'shared': 4207,\n",
              " 'sang': 6369,\n",
              " 'paddy': 16063,\n",
              " '##・': 30264,\n",
              " 'aqua': 28319,\n",
              " '##light': 7138,\n",
              " 'tailored': 21727,\n",
              " '##chu': 20760,\n",
              " 'audi': 20075,\n",
              " 'plague': 11629,\n",
              " 'lopez': 8685,\n",
              " 'silver': 3165,\n",
              " 'placed': 2872,\n",
              " 'solve': 9611,\n",
              " '##ti': 3775,\n",
              " 'tourist': 7538,\n",
              " '##⊂': 30137,\n",
              " 'ruled': 5451,\n",
              " 'tuba': 29242,\n",
              " 'resentment': 20234,\n",
              " 'whoever': 9444,\n",
              " 'hour': 3178,\n",
              " '1654': 27445,\n",
              " '##mate': 8585,\n",
              " 'snooker': 26448,\n",
              " 'peterborough': 17587,\n",
              " 'ear': 4540,\n",
              " 'rotational': 25254,\n",
              " 'crush': 10188,\n",
              " 'wines': 14746,\n",
              " '##zon': 11597,\n",
              " 'dresser': 16641,\n",
              " 'blessings': 24618,\n",
              " 'salman': 28542,\n",
              " 'services': 2578,\n",
              " 'townsville': 27492,\n",
              " 'alps': 13698,\n",
              " 'songwriter': 6009,\n",
              " 'healing': 8907,\n",
              " 'pavel': 18635,\n",
              " 'pain': 3255,\n",
              " '##vary': 21639,\n",
              " '[unused82]': 83,\n",
              " 'memories': 5758,\n",
              " 'drill': 12913,\n",
              " 'kyiv': 25669,\n",
              " 'santo': 11685,\n",
              " 'weeds': 20777,\n",
              " 'worship': 7425,\n",
              " '##100': 18613,\n",
              " 'according': 2429,\n",
              " 'exasperated': 24379,\n",
              " 'speeding': 21485,\n",
              " '1690': 24765,\n",
              " 'came': 2234,\n",
              " '##信': 30293,\n",
              " 'propeller': 15692,\n",
              " 'arya': 26140,\n",
              " '##nic': 8713,\n",
              " 'skill': 8066,\n",
              " 'projects': 3934,\n",
              " '1874': 7586,\n",
              " 'buried': 3950,\n",
              " 'saint': 3002,\n",
              " 'multicultural': 27135,\n",
              " '##tten': 25970,\n",
              " '„': 1525,\n",
              " 'tr': 19817,\n",
              " '##deck': 26547,\n",
              " 'homework': 19453,\n",
              " 'breakers': 24742,\n",
              " 'slavery': 8864,\n",
              " 'preaching': 17979,\n",
              " 'anterior': 15099,\n",
              " 'aggressive': 9376,\n",
              " 'homosexual': 15667,\n",
              " 'galactic': 21375,\n",
              " 'soothing': 16684,\n",
              " 'weekends': 13499,\n",
              " 'rochester': 10541,\n",
              " '##示': 30449,\n",
              " '[unused608]': 613,\n",
              " 'kinds': 7957,\n",
              " 'river': 2314,\n",
              " 'saharan': 24505,\n",
              " 'judith': 12924,\n",
              " 'through': 2083,\n",
              " '505': 28952,\n",
              " 'tow': 15805,\n",
              " 'urgently': 25478,\n",
              " 'otto': 8064,\n",
              " '##uan': 13860,\n",
              " 'dunedin': 22020,\n",
              " 'priority': 9470,\n",
              " 'imagined': 8078,\n",
              " 'electronics': 8139,\n",
              " '##plication': 21557,\n",
              " 'historical': 3439,\n",
              " 'irvine': 16272,\n",
              " 'jammu': 21433,\n",
              " 'andrea': 8657,\n",
              " '[unused813]': 818,\n",
              " 'ق': 1292,\n",
              " 'fade': 12985,\n",
              " 'bless': 19994,\n",
              " 'lilith': 25576,\n",
              " 'roosevelt': 8573,\n",
              " 'voiced': 6126,\n",
              " '[unused445]': 450,\n",
              " 'under': 2104,\n",
              " 'impatient': 17380,\n",
              " '##br': 19892,\n",
              " 'cancer': 4456,\n",
              " 'ars': 29393,\n",
              " '##د': 15394,\n",
              " 'gleaming': 18242,\n",
              " '##rest': 28533,\n",
              " 'rayon': 26810,\n",
              " 'informing': 21672,\n",
              " 'shack': 22200,\n",
              " 'senegal': 16028,\n",
              " 'remotely': 19512,\n",
              " '##sio': 20763,\n",
              " 'neville': 14871,\n",
              " 'infinitely': 25773,\n",
              " 'presley': 17229,\n",
              " 'nanjing': 21455,\n",
              " 'manga': 8952,\n",
              " 'painters': 12499,\n",
              " 'sustained': 8760,\n",
              " '##চ': 29892,\n",
              " 'promoters': 26512,\n",
              " 'aunt': 5916,\n",
              " '¶': 1086,\n",
              " '##ose': 9232,\n",
              " 'roc': 21326,\n",
              " 'ellington': 21630,\n",
              " 'ghz': 29066,\n",
              " 'tito': 20712,\n",
              " 'angeles': 3349,\n",
              " 'া': 1378,\n",
              " 'selling': 4855,\n",
              " '[unused788]': 793,\n",
              " 'betsy': 22396,\n",
              " 'teach': 6570,\n",
              " 'withdraw': 10632,\n",
              " 'mounting': 15986,\n",
              " 'vietnamese': 9101,\n",
              " 'aerodrome': 23843,\n",
              " 'ieee': 15368,\n",
              " 'parma': 19177,\n",
              " 'detachments': 29568,\n",
              " 'screaming': 7491,\n",
              " 'obsolete': 15832,\n",
              " 'rocking': 14934,\n",
              " 'spreads': 20861,\n",
              " '177': 18118,\n",
              " 'turned': 2357,\n",
              " 'rocco': 28167,\n",
              " 'aliens': 12114,\n",
              " 'starting': 3225,\n",
              " '##ental': 21050,\n",
              " '[unused288]': 293,\n",
              " '[unused3]': 4,\n",
              " 'zimmerman': 27946,\n",
              " '##ต': 29947,\n",
              " 'basha': 26074,\n",
              " 'dominion': 13738,\n",
              " 'satellites': 14549,\n",
              " 'bounded': 10351,\n",
              " '##kshi': 27488,\n",
              " 'hospitals': 8323,\n",
              " 'weightlifting': 29305,\n",
              " 'latin': 3763,\n",
              " '##mma': 14760,\n",
              " 'harvard': 5765,\n",
              " '##avi': 18891,\n",
              " 'nat': 14085,\n",
              " 'supervisors': 22565,\n",
              " 'localized': 22574,\n",
              " '##asa': 16782,\n",
              " 'findings': 9556,\n",
              " 'somerset': 9198,\n",
              " '[unused607]': 612,\n",
              " 'averaging': 14985,\n",
              " 'berry': 10498,\n",
              " '##inging': 23180,\n",
              " 'grammatical': 24402,\n",
              " 'sash': 24511,\n",
              " '##col': 25778,\n",
              " '[unused774]': 779,\n",
              " 'cone': 13171,\n",
              " 'hectares': 9076,\n",
              " 'forks': 19896,\n",
              " 'decreases': 17913,\n",
              " 'increased': 3445,\n",
              " 'launching': 12106,\n",
              " 'traces': 10279,\n",
              " 'neglected': 15486,\n",
              " 'reintroduced': 28263,\n",
              " 'sincere': 18006,\n",
              " 'vie': 20098,\n",
              " 'ク': 1702,\n",
              " '##jack': 17364,\n",
              " 'instincts': 16160,\n",
              " 'rampant': 25883,\n",
              " 'reduce': 5547,\n",
              " 'belonging': 7495,\n",
              " 'stabbing': 21690,\n",
              " 'operas': 14281,\n",
              " 'partial': 7704,\n",
              " 'tomato': 20856,\n",
              " 'fictional': 7214,\n",
              " 'encountered': 8567,\n",
              " 'progress': 5082,\n",
              " 'reductions': 25006,\n",
              " 'wheeling': 29142,\n",
              " '978': 4891,\n",
              " '[unused504]': 509,\n",
              " 'cookie': 17387,\n",
              " '120': 6036,\n",
              " 'rabbit': 10442,\n",
              " '[unused631]': 636,\n",
              " 'buick': 28865,\n",
              " '∘': 1599,\n",
              " 'alcoholism': 25519,\n",
              " '[unused747]': 752,\n",
              " 'potential': 4022,\n",
              " 'windmill': 25367,\n",
              " 'sanity': 20039,\n",
              " '36th': 21460,\n",
              " 'cost': 3465,\n",
              " 'sailors': 11279,\n",
              " 'ब': 1329,\n",
              " '150': 5018,\n",
              " 'investigate': 8556,\n",
              " '##nine': 19105,\n",
              " '[unused701]': 706,\n",
              " '##7th': 27506,\n",
              " 'canary': 17154,\n",
              " 'jen': 15419,\n",
              " 'basic': 3937,\n",
              " '[unused672]': 677,\n",
              " 'napoli': 29485,\n",
              " 'circa': 12800,\n",
              " 'drilled': 24311,\n",
              " 'porter': 8716,\n",
              " 'allied': 6035,\n",
              " 'diplomats': 23473,\n",
              " 'abu': 8273,\n",
              " 'fridays': 26587,\n",
              " '##saka': 29289,\n",
              " 'tightening': 18711,\n",
              " 'goats': 17977,\n",
              " 'radically': 25796,\n",
              " 'loads': 15665,\n",
              " '##に': 30194,\n",
              " 'ely': 20779,\n",
              " '##routed': 25849,\n",
              " '[unused443]': 448,\n",
              " 'mighty': 10478,\n",
              " 'noting': 9073,\n",
              " '##t': 2102,\n",
              " 'mari': 16266,\n",
              " 'vilnius': 20513,\n",
              " 'yusuf': 23495,\n",
              " 'hostel': 21071,\n",
              " 'denomination': 18683,\n",
              " 'isbn': 3175,\n",
              " '##bolt': 22803,\n",
              " 'northumberland': 16205,\n",
              " 'banded': 25264,\n",
              " 'limb': 15291,\n",
              " 'tumbling': 21552,\n",
              " '62': 5786,\n",
              " 'functions': 4972,\n",
              " 'strategic': 6143,\n",
              " 'yacht': 12187,\n",
              " '##lus': 7393,\n",
              " 'currency': 9598,\n",
              " 'likened': 28834,\n",
              " 'preferring': 21393,\n",
              " '[unused428]': 433,\n",
              " 'escort': 8620,\n",
              " '[unused158]': 163,\n",
              " '##ctric': 22601,\n",
              " 'marguerite': 15334,\n",
              " '##yck': 28377,\n",
              " '州': 1836,\n",
              " 'tenth': 7891,\n",
              " 'factor': 5387,\n",
              " '##lev': 20414,\n",
              " '##cs': 6169,\n",
              " 'ow': 27593,\n",
              " 'barnsley': 25139,\n",
              " 'ignition': 17446,\n",
              " 'ministries': 16410,\n",
              " 'mutter': 23457,\n",
              " 'ama': 25933,\n",
              " 'website': 4037,\n",
              " 'ර': 1405,\n",
              " 'commence': 22825,\n",
              " 'flashing': 12659,\n",
              " '##ta': 2696,\n",
              " 'sculptor': 10160,\n",
              " 'busy': 5697,\n",
              " '志': 1851,\n",
              " 'pipeline': 13117,\n",
              " 'stefano': 19618,\n",
              " 'technicians': 20202,\n",
              " 'transformed': 8590,\n",
              " 'barrel': 8460,\n",
              " 'colonists': 15526,\n",
              " 'learns': 10229,\n",
              " 'knit': 22404,\n",
              " '[unused75]': 76,\n",
              " '##beam': 28302,\n",
              " 'clearly': 4415,\n",
              " 'confederate': 8055,\n",
              " 'electrically': 29103,\n",
              " 'fen': 21713,\n",
              " 'stating': 5517,\n",
              " 'hoax': 28520,\n",
              " '##ᄀ': 29991,\n",
              " 'tense': 9049,\n",
              " '##ф': 29749,\n",
              " 'helsinki': 12331,\n",
              " 'lyrical': 16376,\n",
              " '##tory': 7062,\n",
              " '##ume': 17897,\n",
              " 'wasp': 19411,\n",
              " 'infrared': 14611,\n",
              " '##mp': 8737,\n",
              " 'confirming': 19195,\n",
              " 'minsk': 20790,\n",
              " 'success': 3112,\n",
              " 'cartoonist': 19659,\n",
              " 'settlers': 7322,\n",
              " 'fastest': 7915,\n",
              " 'oval': 9242,\n",
              " '##cology': 19824,\n",
              " 'prefect': 19402,\n",
              " 'naturally': 8100,\n",
              " 'reports': 4311,\n",
              " 'bruno': 10391,\n",
              " 'roar': 11950,\n",
              " 'curvature': 25045,\n",
              " 'kidnapped': 11364,\n",
              " 'maori': 12600,\n",
              " 'judged': 13224,\n",
              " 'tab': 21628,\n",
              " 'williams': 3766,\n",
              " 'lectured': 19206,\n",
              " 'looted': 27775,\n",
              " '[unused174]': 179,\n",
              " 'afraid': 4452,\n",
              " 'chose': 4900,\n",
              " 'ring': 3614,\n",
              " '##ptic': 20746,\n",
              " 'ひ': 1673,\n",
              " 'zagreb': 12974,\n",
              " '##gny': 19393,\n",
              " 'interiors': 20769,\n",
              " 'spray': 12509,\n",
              " 'slavic': 13838,\n",
              " 'tatiana': 22725,\n",
              " '##ksha': 28132,\n",
              " 'genocide': 14052,\n",
              " '##cas': 15671,\n",
              " 'radius': 12177,\n",
              " 'achieved': 4719,\n",
              " 'blond': 8855,\n",
              " 'paying': 7079,\n",
              " 'spike': 9997,\n",
              " 'unicef': 29073,\n",
              " '##’': 30056,\n",
              " 'expo': 16258,\n",
              " 'sharpe': 22147,\n",
              " '##tort': 25485,\n",
              " 'trigger': 9495,\n",
              " 'internment': 29041,\n",
              " 'dying': 5996,\n",
              " 'extension': 5331,\n",
              " '##fi': 8873,\n",
              " 'rosewood': 29528,\n",
              " '##mania': 27010,\n",
              " '##ani': 7088,\n",
              " 'illness': 7355,\n",
              " 'problems': 3471,\n",
              " '[unused196]': 201,\n",
              " '[unused780]': 785,\n",
              " 'constellation': 15300,\n",
              " 'couch': 6411,\n",
              " 'mirrored': 22243,\n",
              " 'murderous': 25303,\n",
              " 'landau': 28570,\n",
              " '[unused276]': 281,\n",
              " '##mura': 16069,\n",
              " 'walked': 2939,\n",
              " '##rana': 16737,\n",
              " 'third': 2353,\n",
              " '##zman': 24340,\n",
              " 'sumner': 23922,\n",
              " 'spatial': 13589,\n",
              " 'started': 2318,\n",
              " 'nestled': 22704,\n",
              " 'romance': 7472,\n",
              " 'ᄑ': 1468,\n",
              " 'las': 5869,\n",
              " 'obstacles': 15314,\n",
              " 'manifested': 24906,\n",
              " 'remnant': 19614,\n",
              " 'beheaded': 28923,\n",
              " 'stands': 4832,\n",
              " 'output': 6434,\n",
              " 'perhaps': 3383,\n",
              " 'borders': 6645,\n",
              " 'mortality': 13356,\n",
              " '##tti': 6916,\n",
              " 'tudor': 15588,\n",
              " 'fridge': 16716,\n",
              " 'acronym': 20137,\n",
              " 'confidential': 18777,\n",
              " '##⽥': 30160,\n",
              " '##20': 11387,\n",
              " 'trial': 3979,\n",
              " 'solely': 9578,\n",
              " 'lil': 13451,\n",
              " '##fa': 7011,\n",
              " 'packages': 14555,\n",
              " 'jail': 7173,\n",
              " 'outsider': 21002,\n",
              " 'tunisia': 13437,\n",
              " 'locker': 12625,\n",
              " 'exploration': 8993,\n",
              " 'discarded': 15105,\n",
              " 'joke': 8257,\n",
              " '##dern': 25888,\n",
              " '##ⁱ': 30072,\n",
              " 'brands': 9639,\n",
              " 'whom': 3183,\n",
              " '手': 1858,\n",
              " 'dripping': 14309,\n",
              " '[unused15]': 16,\n",
              " '116': 12904,\n",
              " 'uber': 19169,\n",
              " 'columbian': 25882,\n",
              " 'reworked': 27575,\n",
              " '##harat': 28074,\n",
              " '##kes': 9681,\n",
              " 'sutton': 11175,\n",
              " '##lak': 23451,\n",
              " 'van': 3158,\n",
              " '##帝': 30364,\n",
              " 'alleged': 6884,\n",
              " 'corresponds': 14788,\n",
              " 'kurt': 9679,\n",
              " '1940s': 7675,\n",
              " 'acquisition': 7654,\n",
              " 'managing': 6605,\n",
              " '##rera': 24068,\n",
              " '##ols': 27896,\n",
              " 'backup': 10200,\n",
              " 'rowan': 14596,\n",
              " 'gotten': 5407,\n",
              " 'privy': 14452,\n",
              " 'criminal': 4735,\n",
              " 'jae': 22770,\n",
              " 'brightest': 26849,\n",
              " 'shipped': 12057,\n",
              " '和': 1796,\n",
              " 'uncommon': 13191,\n",
              " '##福': 30452,\n",
              " 'highness': 17114,\n",
              " 'bono': 23648,\n",
              " 'celine': 24550,\n",
              " 'melinda': 23721,\n",
              " '##sk': 6711,\n",
              " '1628': 28627,\n",
              " '##ulating': 10924,\n",
              " '[unused345]': 350,\n",
              " '°': 1080,\n",
              " 'total': 2561,\n",
              " 'bros': 10243,\n",
              " 'dude': 12043,\n",
              " 'peace': 3521,\n",
              " 'girl': 2611,\n",
              " 'traumatic': 19686,\n",
              " '##corp': 24586,\n",
              " 'scene': 3496,\n",
              " 'vista': 13005,\n",
              " ...}"
            ]
          },
          "metadata": {},
          "execution_count": 15
        }
      ],
      "source": [
        "vocab = tok_obj.get_vocab()\n",
        "vocab"
      ],
      "id": "8ccQMcWJMmBZ"
    },
    {
      "cell_type": "code",
      "execution_count": 16,
      "metadata": {
        "id": "QlERHlxAMmBZ",
        "outputId": "b2cdb9c8-d709-4758-d586-3b3489d44ef3",
        "colab": {
          "base_uri": "https://localhost:8080/",
          "height": 141
        }
      },
      "outputs": [
        {
          "output_type": "error",
          "ename": "KeyError",
          "evalue": "'dwindling'",
          "traceback": [
            "\u001b[0;31m---------------------------------------------------------------------------\u001b[0m",
            "\u001b[0;31mKeyError\u001b[0m                                  Traceback (most recent call last)",
            "\u001b[0;32m<ipython-input-16-fb61eabd4994>\u001b[0m in \u001b[0;36m<cell line: 0>\u001b[0;34m()\u001b[0m\n\u001b[0;32m----> 1\u001b[0;31m \u001b[0mvocab\u001b[0m\u001b[0;34m[\u001b[0m\u001b[0;34m'dwindling'\u001b[0m\u001b[0;34m]\u001b[0m\u001b[0;34m\u001b[0m\u001b[0;34m\u001b[0m\u001b[0m\n\u001b[0m",
            "\u001b[0;31mKeyError\u001b[0m: 'dwindling'"
          ]
        }
      ],
      "source": [
        "vocab['dwindling']"
      ],
      "id": "QlERHlxAMmBZ"
    },
    {
      "cell_type": "code",
      "execution_count": 17,
      "metadata": {
        "id": "WGDOT7U8MmBb",
        "outputId": "d9df416c-5d72-4425-ab5b-af4942f3862a",
        "colab": {
          "base_uri": "https://localhost:8080/"
        }
      },
      "outputs": [
        {
          "output_type": "execute_result",
          "data": {
            "text/plain": [
              "30522"
            ]
          },
          "metadata": {},
          "execution_count": 17
        }
      ],
      "source": [
        "tok_obj.get_vocab_size()"
      ],
      "id": "WGDOT7U8MmBb"
    },
    {
      "cell_type": "markdown",
      "metadata": {
        "id": "91ba2a34"
      },
      "source": [
        "### 15.5.2 Tokenizer's Model"
      ],
      "id": "91ba2a34"
    },
    {
      "cell_type": "code",
      "execution_count": 18,
      "metadata": {
        "id": "HKs8-ABBMmBb",
        "outputId": "e020756d-0872-4baa-b29a-cf3525726ba2",
        "colab": {
          "base_uri": "https://localhost:8080/"
        }
      },
      "outputs": [
        {
          "output_type": "execute_result",
          "data": {
            "text/plain": [
              "WordPiece(unk_token=\"[UNK]\", continuing_subword_prefix=\"##\", max_input_chars_per_word=100, vocab={\"[PAD]\":0, \"[unused0]\":1, \"[unused1]\":2, \"[unused2]\":3, \"[unused3]\":4, \"[unused4]\":5, \"[unused5]\":6, \"[unused6]\":7, \"[unused7]\":8, \"[unused8]\":9, \"[unused9]\":10, \"[unused10]\":11, \"[unused11]\":12, \"[unused12]\":13, \"[unused13]\":14, \"[unused14]\":15, \"[unused15]\":16, \"[unused16]\":17, \"[unused17]\":18, \"[unused18]\":19, \"[unused19]\":20, \"[unused20]\":21, \"[unused21]\":22, \"[unused22]\":23, \"[unused23]\":24, \"[unused24]\":25, \"[unused25]\":26, \"[unused26]\":27, \"[unused27]\":28, \"[unused28]\":29, \"[unused29]\":30, \"[unused30]\":31, \"[unused31]\":32, \"[unused32]\":33, \"[unused33]\":34, \"[unused34]\":35, \"[unused35]\":36, \"[unused36]\":37, \"[unused37]\":38, \"[unused38]\":39, \"[unused39]\":40, \"[unused40]\":41, \"[unused41]\":42, \"[unused42]\":43, \"[unused43]\":44, \"[unused44]\":45, \"[unused45]\":46, \"[unused46]\":47, \"[unused47]\":48, \"[unused48]\":49, \"[unused49]\":50, \"[unused50]\":51, \"[unused51]\":52, \"[unused52]\":53, \"[unused53]\":54, \"[unused54]\":55, \"[unused55]\":56, \"[unused56]\":57, \"[unused57]\":58, \"[unused58]\":59, \"[unused59]\":60, \"[unused60]\":61, \"[unused61]\":62, \"[unused62]\":63, \"[unused63]\":64, \"[unused64]\":65, \"[unused65]\":66, \"[unused66]\":67, \"[unused67]\":68, \"[unused68]\":69, \"[unused69]\":70, \"[unused70]\":71, \"[unused71]\":72, \"[unused72]\":73, \"[unused73]\":74, \"[unused74]\":75, \"[unused75]\":76, \"[unused76]\":77, \"[unused77]\":78, \"[unused78]\":79, \"[unused79]\":80, \"[unused80]\":81, \"[unused81]\":82, \"[unused82]\":83, \"[unused83]\":84, \"[unused84]\":85, \"[unused85]\":86, \"[unused86]\":87, \"[unused87]\":88, \"[unused88]\":89, \"[unused89]\":90, \"[unused90]\":91, \"[unused91]\":92, \"[unused92]\":93, \"[unused93]\":94, \"[unused94]\":95, \"[unused95]\":96, \"[unused96]\":97, \"[unused97]\":98, ...})"
            ]
          },
          "metadata": {},
          "execution_count": 18
        }
      ],
      "source": [
        "tok_obj.model"
      ],
      "id": "HKs8-ABBMmBb"
    },
    {
      "cell_type": "code",
      "execution_count": 19,
      "metadata": {
        "id": "Dja1G5E2MmBb",
        "outputId": "da393479-52a9-4de1-ff85-d62862cca748",
        "colab": {
          "base_uri": "https://localhost:8080/"
        }
      },
      "outputs": [
        {
          "output_type": "stream",
          "name": "stdout",
          "text": [
            "['reuters', '-', 'short', '-', 'sellers', ',', 'wall', 'street', \"'\", 's', 'dwindling', 'band', 'of', 'ultra', '-', 'cynics', ',', 'are', 'seeing', 'green', 'again', '.']\n",
            "[26665, 1011, 2460, 1011, 19041, 1010, 2813, 2395, 1005, 1055, None, 2316, 1997, 11087, 1011, None, 1010, 2024, 3773, 2665, 2153, 1012]\n"
          ]
        }
      ],
      "source": [
        "tokens_only = [token[0] for token in tokens]\n",
        "token_ids = [tok_obj.model.token_to_id(token) for token in tokens_only]\n",
        "print(tokens_only)\n",
        "print(token_ids)"
      ],
      "id": "Dja1G5E2MmBb"
    },
    {
      "cell_type": "code",
      "execution_count": 20,
      "metadata": {
        "id": "B-AhhHdvMmBc",
        "outputId": "801d30a2-14eb-4298-dd37-0b6eea06bca3",
        "colab": {
          "base_uri": "https://localhost:8080/"
        }
      },
      "outputs": [
        {
          "output_type": "execute_result",
          "data": {
            "text/plain": [
              "(10, 'dwindling')"
            ]
          },
          "metadata": {},
          "execution_count": 20
        }
      ],
      "source": [
        "missing_id = token_ids.index(None)\n",
        "missing_token = tokens_only[missing_id]\n",
        "missing_id, missing_token"
      ],
      "id": "B-AhhHdvMmBc"
    },
    {
      "cell_type": "code",
      "execution_count": 21,
      "metadata": {
        "id": "pXwaSpixMmBq",
        "outputId": "6265a7e9-91df-4edb-da18-6216cdf76a66",
        "colab": {
          "base_uri": "https://localhost:8080/"
        }
      },
      "outputs": [
        {
          "output_type": "execute_result",
          "data": {
            "text/plain": [
              "[(1040, 'd', (0, 1)), (11101, '##wind', (1, 5)), (2989, '##ling', (5, 9))]"
            ]
          },
          "metadata": {},
          "execution_count": 21
        }
      ],
      "source": [
        "tokenized_word = tok_obj.model.tokenize(missing_token)\n",
        "[piece.as_tuple() for piece in tokenized_word]"
      ],
      "id": "pXwaSpixMmBq"
    },
    {
      "cell_type": "code",
      "execution_count": 22,
      "metadata": {
        "id": "_XkgTcc-MmBr",
        "outputId": "329de488-00c3-48e5-b7b5-0c90727fa8bb",
        "colab": {
          "base_uri": "https://localhost:8080/"
        }
      },
      "outputs": [
        {
          "output_type": "stream",
          "name": "stdout",
          "text": [
            "['reuters', '-', 'short', '-', 'sellers', ',', 'wall', 'street', \"'\", 's', 'd', '##wind', '##ling', 'band', 'of', 'ultra', '-', 'cy', '##nic', '##s', ',', 'are', 'seeing', 'green', 'again', '.']\n",
            "[26665, 1011, 2460, 1011, 19041, 1010, 2813, 2395, 1005, 1055, 1040, 11101, 2989, 2316, 1997, 11087, 1011, 22330, 8713, 2015, 1010, 2024, 3773, 2665, 2153, 1012]\n"
          ]
        }
      ],
      "source": [
        "encoded = tok_obj.encode(descriptions[0], add_special_tokens=False)\n",
        "print(encoded.tokens)\n",
        "print(encoded.ids)"
      ],
      "id": "_XkgTcc-MmBr"
    },
    {
      "cell_type": "markdown",
      "metadata": {
        "id": "296731d1"
      },
      "source": [
        "### 15.5.3 Special Tokens"
      ],
      "id": "296731d1"
    },
    {
      "cell_type": "code",
      "execution_count": 23,
      "metadata": {
        "id": "t6tL79gxMmBs",
        "outputId": "fbfce12b-75f2-4e02-d1f9-f299aa795173",
        "colab": {
          "base_uri": "https://localhost:8080/"
        }
      },
      "outputs": [
        {
          "output_type": "stream",
          "name": "stdout",
          "text": [
            "['[CLS]', 'reuters', '-', 'short', '-', 'sellers', ',', 'wall', 'street', \"'\", 's', 'd', '##wind', '##ling', 'band', 'of', 'ultra', '-', 'cy', '##nic', '##s', ',', 'are', 'seeing', 'green', 'again', '.', '[SEP]']\n"
          ]
        }
      ],
      "source": [
        "post_processor = tok_obj.post_processor\n",
        "post_encoded = post_processor.process(encoded)\n",
        "print(post_encoded.tokens)"
      ],
      "id": "t6tL79gxMmBs"
    },
    {
      "cell_type": "code",
      "execution_count": 24,
      "metadata": {
        "id": "TBRoiVLnMmBt",
        "outputId": "e42d041c-f898-4467-a55d-e781bd1dd101",
        "colab": {
          "base_uri": "https://localhost:8080/"
        }
      },
      "outputs": [
        {
          "output_type": "stream",
          "name": "stdout",
          "text": [
            "['[CLS]', 'reuters', '-', 'short', '-', 'sellers', ',', 'wall', 'street', \"'\", 's', 'd', '##wind', '##ling', 'band', 'of', 'ultra', '-', 'cy', '##nic', '##s', ',', 'are', 'seeing', 'green', 'again', '.', '[SEP]']\n"
          ]
        }
      ],
      "source": [
        "print(tok_obj.encode(descriptions[0]).tokens)"
      ],
      "id": "TBRoiVLnMmBt"
    },
    {
      "cell_type": "markdown",
      "metadata": {
        "id": "deeb46f0"
      },
      "source": [
        "#### 15.5.3.1 `[CLS]`: Classification Token"
      ],
      "id": "deeb46f0"
    },
    {
      "cell_type": "code",
      "execution_count": 25,
      "metadata": {
        "colab": {
          "base_uri": "https://localhost:8080/"
        },
        "id": "21803090",
        "outputId": "831e22a5-7df8-42f6-8a16-fd10b7079c5b"
      },
      "outputs": [
        {
          "output_type": "execute_result",
          "data": {
            "text/plain": [
              "('[CLS]', 101)"
            ]
          },
          "metadata": {},
          "execution_count": 25
        }
      ],
      "source": [
        "tokenizer.cls_token, tokenizer.cls_token_id"
      ],
      "id": "21803090"
    },
    {
      "cell_type": "markdown",
      "metadata": {
        "id": "8fb5ea5b"
      },
      "source": [
        "#### 15.5.3.2 `[SEP]`: Separation Token"
      ],
      "id": "8fb5ea5b"
    },
    {
      "cell_type": "code",
      "execution_count": 26,
      "metadata": {
        "colab": {
          "base_uri": "https://localhost:8080/"
        },
        "id": "5f48c2bb",
        "outputId": "e5c56ab8-db89-404c-f7f4-4d5a027b8e7f"
      },
      "outputs": [
        {
          "output_type": "execute_result",
          "data": {
            "text/plain": [
              "('[SEP]', 102)"
            ]
          },
          "metadata": {},
          "execution_count": 26
        }
      ],
      "source": [
        "tokenizer.sep_token, tokenizer.sep_token_id"
      ],
      "id": "5f48c2bb"
    },
    {
      "cell_type": "code",
      "execution_count": 27,
      "metadata": {
        "colab": {
          "base_uri": "https://localhost:8080/"
        },
        "id": "4a9772d4",
        "outputId": "a76c4074-1624-4ca1-c7bd-b2f612669840"
      },
      "outputs": [
        {
          "output_type": "stream",
          "name": "stdout",
          "text": [
            "['[CLS]', 'reuters', '-', 'short', '-', 'sellers', ',', 'wall', 'street', \"'\", 's', 'd', '##wind', '##ling', 'band', 'of', 'ultra', '-', 'cy', '##nic', '##s', ',', 'are', 'seeing', 'green', 'again', '.', '[SEP]', 'reuters', '-', 'private', 'investment', 'firm', 'carly', '##le', 'group', ',', 'which', 'has', 'a', 'reputation', 'for', 'making', 'well', '-', 'timed', 'and', 'occasionally', 'controversial', 'plays', 'in', 'the', 'defense', 'industry', ',', 'has', 'quietly', 'placed', 'its', 'bets', 'on', 'another', 'part', 'of', 'the', 'market', '.', '[SEP]']\n"
          ]
        }
      ],
      "source": [
        "print(tok_obj.encode(*descriptions[:2]).tokens)"
      ],
      "id": "4a9772d4"
    },
    {
      "cell_type": "markdown",
      "metadata": {
        "id": "eedf8f81"
      },
      "source": [
        "#### 15.5.3.3 `[UNK]`: Unknown Token"
      ],
      "id": "eedf8f81"
    },
    {
      "cell_type": "code",
      "execution_count": 28,
      "metadata": {
        "colab": {
          "base_uri": "https://localhost:8080/"
        },
        "id": "03e2c584",
        "outputId": "7249f36d-2a59-4b73-dda6-536e69f77c4b"
      },
      "outputs": [
        {
          "output_type": "execute_result",
          "data": {
            "text/plain": [
              "('[UNK]', 100)"
            ]
          },
          "metadata": {},
          "execution_count": 28
        }
      ],
      "source": [
        "tokenizer.unk_token, tokenizer.unk_token_id"
      ],
      "id": "03e2c584"
    },
    {
      "cell_type": "markdown",
      "metadata": {
        "id": "e9dc0b2c"
      },
      "source": [
        "#### 15.5.3.4 `[PAD]`: Padding Token"
      ],
      "id": "e9dc0b2c"
    },
    {
      "cell_type": "code",
      "execution_count": 29,
      "metadata": {
        "id": "8QzihQfUMmBw",
        "outputId": "8295f2c0-78c3-4bea-d7fd-83f74791d743",
        "colab": {
          "base_uri": "https://localhost:8080/"
        }
      },
      "outputs": [
        {
          "output_type": "execute_result",
          "data": {
            "text/plain": [
              "('[PAD]', 0)"
            ]
          },
          "metadata": {},
          "execution_count": 29
        }
      ],
      "source": [
        "tokenizer.pad_token, tokenizer.pad_token_id"
      ],
      "id": "8QzihQfUMmBw"
    },
    {
      "cell_type": "code",
      "execution_count": 30,
      "metadata": {
        "id": "uquW35dmMmBx",
        "outputId": "282fa6a0-4fbd-4f74-81bd-b257dd08a6d4",
        "colab": {
          "base_uri": "https://localhost:8080/"
        }
      },
      "outputs": [
        {
          "output_type": "execute_result",
          "data": {
            "text/plain": [
              "[28, 41, 38, 34]"
            ]
          },
          "metadata": {},
          "execution_count": 30
        }
      ],
      "source": [
        "[len(seq) for seq in tokenizer(descriptions)['input_ids']]"
      ],
      "id": "uquW35dmMmBx"
    },
    {
      "cell_type": "code",
      "execution_count": 31,
      "metadata": {
        "id": "AQ37bFUEMmBx",
        "outputId": "1ebbe4c1-23c0-4aaf-f3a8-686893df4d85",
        "colab": {
          "base_uri": "https://localhost:8080/"
        }
      },
      "outputs": [
        {
          "output_type": "execute_result",
          "data": {
            "text/plain": [
              "tensor([[  101, 26665,  1011,  2460,  1011, 19041,  1010,  2813,  2395,  1005,\n",
              "          1055,  1040, 11101,  2989,  2316,  1997, 11087,  1011, 22330,  8713,\n",
              "          2015,  1010,  2024,  3773,  2665,  2153,  1012,   102,     0,     0,\n",
              "             0,     0,     0,     0,     0,     0,     0,     0,     0,     0,\n",
              "             0],\n",
              "        [  101, 26665,  1011,  2797,  5211,  3813, 18431,  2571,  2177,  1010,\n",
              "          2029,  2038,  1037,  5891,  2005,  2437,  2092,  1011, 22313,  1998,\n",
              "          5681,  6801,  3248,  1999,  1996,  3639,  3068,  1010,  2038,  5168,\n",
              "          2872,  2049, 29475,  2006,  2178,  2112,  1997,  1996,  3006,  1012,\n",
              "           102],\n",
              "        [  101, 26665,  1011, 23990, 13587,  7597,  4606, 15508,  2055,  1996,\n",
              "          4610,  1998,  1996, 17680,  2005, 16565,  2024,  3517,  2000,  6865,\n",
              "          2058,  1996,  4518,  3006,  2279,  2733,  2076,  1996,  5995,  1997,\n",
              "          1996,  2621,  2079,  6392,  6824,  2015,  1012,   102,     0,     0,\n",
              "             0],\n",
              "        [  101, 26665,  1011,  4614,  2031, 12705,  3514,  9167,  6223,  2013,\n",
              "          1996,  2364, 13117,  1999,  2670,  5712,  2044,  4454,  3662,  1037,\n",
              "          8443,  8396,  2071,  4894,  6502,  1010,  2019,  3514,  2880,  2056,\n",
              "          2006,  5095,  1012,   102,     0,     0,     0,     0,     0,     0,\n",
              "             0]])"
            ]
          },
          "metadata": {},
          "execution_count": 31
        }
      ],
      "source": [
        "padded_token_ids = tokenizer(descriptions, padding=True, return_tensors='pt')['input_ids']\n",
        "padded_token_ids"
      ],
      "id": "AQ37bFUEMmBx"
    },
    {
      "cell_type": "markdown",
      "metadata": {
        "id": "41c30064"
      },
      "source": [
        "### 15.5.4 Truncation"
      ],
      "id": "41c30064"
    },
    {
      "cell_type": "code",
      "execution_count": 32,
      "metadata": {
        "id": "95e0ec0f",
        "outputId": "df686ae5-51bb-4835-9e65-874fdab1c5df",
        "colab": {
          "base_uri": "https://localhost:8080/"
        }
      },
      "outputs": [
        {
          "output_type": "execute_result",
          "data": {
            "text/plain": [
              "(510, 512)"
            ]
          },
          "metadata": {},
          "execution_count": 32
        }
      ],
      "source": [
        "tokenizer.max_len_single_sentence, tokenizer.model_max_length"
      ],
      "id": "95e0ec0f"
    },
    {
      "cell_type": "markdown",
      "metadata": {
        "id": "59092fde"
      },
      "source": [
        "## 15.6 Embeddings"
      ],
      "id": "59092fde"
    },
    {
      "cell_type": "code",
      "execution_count": 33,
      "metadata": {
        "colab": {
          "base_uri": "https://localhost:8080/"
        },
        "id": "97f75748",
        "outputId": "ba8bf2bd-61ec-47d6-af1f-9ad0e584ff0d"
      },
      "outputs": [
        {
          "output_type": "execute_result",
          "data": {
            "text/plain": [
              "Embedding(30522, 50)"
            ]
          },
          "metadata": {},
          "execution_count": 33
        }
      ],
      "source": [
        "import torch.nn as nn\n",
        "\n",
        "emb_dims = 50\n",
        "embeddings = nn.Embedding(len(vocab), emb_dims)\n",
        "embeddings"
      ],
      "id": "97f75748"
    },
    {
      "cell_type": "code",
      "execution_count": 34,
      "metadata": {
        "colab": {
          "base_uri": "https://localhost:8080/"
        },
        "id": "553745ac",
        "outputId": "39240f60-0688-4961-edbd-e3618d6c74eb"
      },
      "outputs": [
        {
          "output_type": "execute_result",
          "data": {
            "text/plain": [
              "(tensor([26665]),\n",
              " tensor([[-0.0083,  0.1225,  0.9889,  1.2760,  1.4701, -0.1385, -1.5862,  1.2960,\n",
              "          -0.7151, -0.7590,  1.1019,  1.8896, -0.4842,  1.1766,  0.5553, -0.6667,\n",
              "           1.8297, -0.4265,  1.5958, -0.1863, -1.3085, -0.5697, -0.1204, -2.9788,\n",
              "           0.5804,  0.0615, -1.1093, -1.0248,  0.4449, -0.3419, -1.0443, -2.0014,\n",
              "           0.2403,  0.0836,  1.0546, -2.5998,  0.4870,  0.0488,  0.0423,  0.4370,\n",
              "           0.2753,  0.3073, -1.6476, -0.5716, -2.0897, -0.2635, -1.2862,  0.7694,\n",
              "           1.3027,  1.2004]], grad_fn=<EmbeddingBackward0>))"
            ]
          },
          "metadata": {},
          "execution_count": 34
        }
      ],
      "source": [
        "import torch\n",
        "\n",
        "idx = torch.as_tensor([vocab['reuters']])\n",
        "idx, embeddings(idx)"
      ],
      "id": "553745ac"
    },
    {
      "cell_type": "code",
      "execution_count": 35,
      "metadata": {
        "colab": {
          "base_uri": "https://localhost:8080/"
        },
        "id": "24bd2513",
        "outputId": "9cfed55a-1750-487f-d303-a7f046d32396"
      },
      "outputs": [
        {
          "output_type": "execute_result",
          "data": {
            "text/plain": [
              "tensor([[-0.0083,  0.1225,  0.9889,  1.2760,  1.4701, -0.1385, -1.5862,  1.2960,\n",
              "         -0.7151, -0.7590,  1.1019,  1.8896, -0.4842,  1.1766,  0.5553, -0.6667,\n",
              "          1.8297, -0.4265,  1.5958, -0.1863, -1.3085, -0.5697, -0.1204, -2.9788,\n",
              "          0.5804,  0.0615, -1.1093, -1.0248,  0.4449, -0.3419, -1.0443, -2.0014,\n",
              "          0.2403,  0.0836,  1.0546, -2.5998,  0.4870,  0.0488,  0.0423,  0.4370,\n",
              "          0.2753,  0.3073, -1.6476, -0.5716, -2.0897, -0.2635, -1.2862,  0.7694,\n",
              "          1.3027,  1.2004]], grad_fn=<IndexBackward0>)"
            ]
          },
          "metadata": {},
          "execution_count": 35
        }
      ],
      "source": [
        "embeddings.weight[idx]"
      ],
      "id": "24bd2513"
    },
    {
      "cell_type": "markdown",
      "metadata": {
        "id": "dc731723"
      },
      "source": [
        "### 15.6.1 Word2Vec"
      ],
      "id": "dc731723"
    },
    {
      "cell_type": "markdown",
      "metadata": {
        "id": "3fd37adf"
      },
      "source": [
        "### 15.6.2 Embedding Arithmetic\n",
        "\n",
        "**KING - MAN + WOMAN = ?**\n",
        "\n",
        "**KING - MAN + WOMAN = QUEEN**\n",
        "\n",
        "![](https://raw.githubusercontent.com/dvgodoy/assets/main/PyTorchInPractice/images/ch13/embed_arithmetic.png)"
      ],
      "id": "3fd37adf"
    },
    {
      "cell_type": "markdown",
      "metadata": {
        "id": "a0da8bb0"
      },
      "source": [
        "**KING - MAN + WOMAN ~ KING**\n",
        "\n",
        "![](https://raw.githubusercontent.com/dvgodoy/assets/main/PyTorchInPractice/images/ch13/synthetic_queen.png)"
      ],
      "id": "a0da8bb0"
    },
    {
      "cell_type": "markdown",
      "metadata": {
        "id": "2bee9d13"
      },
      "source": [
        "### 15.6.3 Global Vectors (GloVe)"
      ],
      "id": "2bee9d13"
    },
    {
      "cell_type": "code",
      "execution_count": 36,
      "metadata": {
        "id": "mjTuIoYOMmB2",
        "colab": {
          "base_uri": "https://localhost:8080/"
        },
        "outputId": "8dfe6b15-c93e-4691-cb1b-77bc600b7171"
      },
      "outputs": [
        {
          "output_type": "stream",
          "name": "stdout",
          "text": [
            "[==================================================] 100.0% 66.0/66.0MB downloaded\n"
          ]
        }
      ],
      "source": [
        "from gensim import downloader\n",
        "\n",
        "vec = downloader.load('glove-wiki-gigaword-50')"
      ],
      "id": "mjTuIoYOMmB2"
    },
    {
      "cell_type": "code",
      "execution_count": 37,
      "metadata": {
        "colab": {
          "base_uri": "https://localhost:8080/"
        },
        "id": "f31dc5dc",
        "outputId": "a759c221-0fe1-4d1b-90a2-ee46bffb128a"
      },
      "outputs": [
        {
          "output_type": "execute_result",
          "data": {
            "text/plain": [
              "(array([[ 0.418   ,  0.24968 , -0.41242 , ..., -0.18411 , -0.11514 ,\n",
              "         -0.78581 ],\n",
              "        [ 0.013441,  0.23682 , -0.16899 , ..., -0.56657 ,  0.044691,\n",
              "          0.30392 ],\n",
              "        [ 0.15164 ,  0.30177 , -0.16763 , ..., -0.35652 ,  0.016413,\n",
              "          0.10216 ],\n",
              "        ...,\n",
              "        [-0.51181 ,  0.058706,  1.0913  , ..., -0.25003 , -1.125   ,\n",
              "          1.5863  ],\n",
              "        [-0.75898 , -0.47426 ,  0.4737  , ...,  0.78954 , -0.014116,\n",
              "          0.6448  ],\n",
              "        [ 0.072617, -0.51393 ,  0.4728  , ..., -0.18907 , -0.59021 ,\n",
              "          0.55559 ]], dtype=float32),\n",
              " (400000, 50))"
            ]
          },
          "metadata": {},
          "execution_count": 37
        }
      ],
      "source": [
        "vec.vectors, vec.vectors.shape"
      ],
      "id": "f31dc5dc"
    },
    {
      "cell_type": "code",
      "execution_count": 38,
      "metadata": {
        "colab": {
          "base_uri": "https://localhost:8080/"
        },
        "id": "601ace49",
        "outputId": "8e5fc765-2827-4064-93cb-ffa2d698f81d"
      },
      "outputs": [
        {
          "output_type": "execute_result",
          "data": {
            "text/plain": [
              "array([-0.13741  , -0.25495  ,  1.8853   ,  0.1476   ,  0.63859  ,\n",
              "       -0.67678  , -1.1622   , -0.21528  ,  0.2598   , -0.52879  ,\n",
              "        0.66678  , -0.76747  , -0.52731  ,  0.06657  ,  0.076613 ,\n",
              "        0.32743  , -0.80251  , -0.4955   , -0.37393  ,  0.11261  ,\n",
              "        1.1671   ,  1.1508   ,  0.61801  ,  0.079467 ,  0.1269   ,\n",
              "       -0.072447 , -1.2037   , -0.24622  , -0.77076  ,  0.76699  ,\n",
              "        1.2745   , -0.12898  ,  0.99892  , -0.26733  , -0.57542  ,\n",
              "       -1.0151   , -0.14278  , -0.43824  ,  0.76577  , -0.0087715,\n",
              "        1.2848   ,  0.0030819,  0.1186   , -0.38817  , -0.23516  ,\n",
              "       -0.92094  , -0.51644  ,  1.5083   ,  0.36456  ,  0.59912  ],\n",
              "      dtype=float32)"
            ]
          },
          "metadata": {},
          "execution_count": 38
        }
      ],
      "source": [
        "vec['reuters']"
      ],
      "id": "601ace49"
    },
    {
      "cell_type": "code",
      "execution_count": 39,
      "metadata": {
        "id": "22HTPk1DMmB2",
        "outputId": "85651b33-ba34-4847-fdaa-503a841d8282",
        "colab": {
          "base_uri": "https://localhost:8080/"
        }
      },
      "outputs": [
        {
          "output_type": "execute_result",
          "data": {
            "text/plain": [
              "OrderedDict([('weight',\n",
              "              tensor([[ 0.4180,  0.2497, -0.4124,  ..., -0.1841, -0.1151, -0.7858],\n",
              "                      [ 0.0134,  0.2368, -0.1690,  ..., -0.5666,  0.0447,  0.3039],\n",
              "                      [ 0.1516,  0.3018, -0.1676,  ..., -0.3565,  0.0164,  0.1022],\n",
              "                      ...,\n",
              "                      [-0.5118,  0.0587,  1.0913,  ..., -0.2500, -1.1250,  1.5863],\n",
              "                      [-0.7590, -0.4743,  0.4737,  ...,  0.7895, -0.0141,  0.6448],\n",
              "                      [ 0.0726, -0.5139,  0.4728,  ..., -0.1891, -0.5902,  0.5556]]))])"
            ]
          },
          "metadata": {},
          "execution_count": 39
        }
      ],
      "source": [
        "import torch.nn as nn\n",
        "\n",
        "tensor_glove = torch.as_tensor(vec.vectors).float()\n",
        "embedding = nn.Embedding.from_pretrained(tensor_glove)\n",
        "embedding.state_dict()"
      ],
      "id": "22HTPk1DMmB2"
    },
    {
      "cell_type": "code",
      "execution_count": 40,
      "metadata": {
        "colab": {
          "base_uri": "https://localhost:8080/"
        },
        "id": "ebdd6588",
        "outputId": "232af245-6b1a-4ed8-8a18-adf2ec954a95"
      },
      "outputs": [
        {
          "output_type": "execute_result",
          "data": {
            "text/plain": [
              "(10851, 'reuters')"
            ]
          },
          "metadata": {},
          "execution_count": 40
        }
      ],
      "source": [
        "idx = vec.key_to_index['reuters']\n",
        "token = vec.index_to_key[idx]\n",
        "idx, token"
      ],
      "id": "ebdd6588"
    },
    {
      "cell_type": "code",
      "execution_count": 41,
      "metadata": {
        "colab": {
          "base_uri": "https://localhost:8080/",
          "height": 141
        },
        "id": "d9da37f2",
        "outputId": "3d422fdf-c664-4a82-c44d-60dbf557fefc"
      },
      "outputs": [
        {
          "output_type": "error",
          "ename": "KeyError",
          "evalue": "'zzzzz'",
          "traceback": [
            "\u001b[0;31m---------------------------------------------------------------------------\u001b[0m",
            "\u001b[0;31mKeyError\u001b[0m                                  Traceback (most recent call last)",
            "\u001b[0;32m<ipython-input-41-a62273797861>\u001b[0m in \u001b[0;36m<cell line: 0>\u001b[0;34m()\u001b[0m\n\u001b[0;32m----> 1\u001b[0;31m \u001b[0mvec\u001b[0m\u001b[0;34m.\u001b[0m\u001b[0mkey_to_index\u001b[0m\u001b[0;34m[\u001b[0m\u001b[0;34m'zzzzz'\u001b[0m\u001b[0;34m]\u001b[0m\u001b[0;34m\u001b[0m\u001b[0;34m\u001b[0m\u001b[0m\n\u001b[0m",
            "\u001b[0;31mKeyError\u001b[0m: 'zzzzz'"
          ]
        }
      ],
      "source": [
        "vec.key_to_index['zzzzz']"
      ],
      "id": "d9da37f2"
    },
    {
      "cell_type": "code",
      "execution_count": 42,
      "metadata": {
        "id": "WOQ0TxPkMmB4"
      },
      "outputs": [],
      "source": [
        "def encode_str(key_to_index, tokens, unk_token=-1):\n",
        "    token_ids = [key_to_index.get(token, unk_token) for token in tokens]\n",
        "    return token_ids"
      ],
      "id": "WOQ0TxPkMmB4"
    },
    {
      "cell_type": "code",
      "execution_count": 43,
      "metadata": {
        "id": "sGZjV-qqMmB4",
        "outputId": "eeaf9808-eccd-4018-ab33-6489be8323eb",
        "colab": {
          "base_uri": "https://localhost:8080/"
        }
      },
      "outputs": [
        {
          "output_type": "execute_result",
          "data": {
            "text/plain": [
              "[10851, -1]"
            ]
          },
          "metadata": {},
          "execution_count": 43
        }
      ],
      "source": [
        "some_ids = encode_str(vec.key_to_index, ['reuters', 'zzzzz'])\n",
        "some_ids"
      ],
      "id": "sGZjV-qqMmB4"
    },
    {
      "cell_type": "code",
      "execution_count": 44,
      "metadata": {
        "id": "95P5FCXDMmB5"
      },
      "outputs": [],
      "source": [
        "def get_embeddings(embedding, token_ids):\n",
        "    valid_ids = torch.as_tensor([token_id for token_id in token_ids if token_id >= 0])\n",
        "    embedded_tokens = embedding(valid_ids)\n",
        "    return embedded_tokens"
      ],
      "id": "95P5FCXDMmB5"
    },
    {
      "cell_type": "code",
      "execution_count": 45,
      "metadata": {
        "id": "diAwkQa8MmB5",
        "outputId": "2ecedc24-7c98-452a-fd29-fe064c17650a",
        "colab": {
          "base_uri": "https://localhost:8080/"
        }
      },
      "outputs": [
        {
          "output_type": "execute_result",
          "data": {
            "text/plain": [
              "tensor([[-0.1374, -0.2549,  1.8853,  0.1476,  0.6386, -0.6768, -1.1622, -0.2153,\n",
              "          0.2598, -0.5288,  0.6668, -0.7675, -0.5273,  0.0666,  0.0766,  0.3274,\n",
              "         -0.8025, -0.4955, -0.3739,  0.1126,  1.1671,  1.1508,  0.6180,  0.0795,\n",
              "          0.1269, -0.0724, -1.2037, -0.2462, -0.7708,  0.7670,  1.2745, -0.1290,\n",
              "          0.9989, -0.2673, -0.5754, -1.0151, -0.1428, -0.4382,  0.7658, -0.0088,\n",
              "          1.2848,  0.0031,  0.1186, -0.3882, -0.2352, -0.9209, -0.5164,  1.5083,\n",
              "          0.3646,  0.5991]])"
            ]
          },
          "metadata": {},
          "execution_count": 45
        }
      ],
      "source": [
        "get_embeddings(embedding, some_ids)"
      ],
      "id": "diAwkQa8MmB5"
    },
    {
      "cell_type": "code",
      "execution_count": 46,
      "metadata": {
        "id": "OM-Q2g__MmB5"
      },
      "outputs": [],
      "source": [
        "def func_builder(vec):\n",
        "    tensor_glove = torch.as_tensor(vec.vectors).float()\n",
        "    embedding = nn.Embedding.from_pretrained(tensor_glove)\n",
        "\n",
        "    def get_vecs_by_tokens(tokens):\n",
        "        token_ids = encode_str(vec.key_to_index, tokens)\n",
        "        embedded_tokens = get_embeddings(embedding, token_ids)\n",
        "        return embedded_tokens\n",
        "\n",
        "    return get_vecs_by_tokens\n",
        "\n",
        "get_vecs_by_tokens = func_builder(vec)"
      ],
      "id": "OM-Q2g__MmB5"
    },
    {
      "cell_type": "code",
      "execution_count": 47,
      "metadata": {
        "id": "aUMmGkHqMmB5",
        "outputId": "94f01693-e85c-4501-994c-3d54a3d86147",
        "colab": {
          "base_uri": "https://localhost:8080/"
        }
      },
      "outputs": [
        {
          "output_type": "execute_result",
          "data": {
            "text/plain": [
              "['reuters',\n",
              " 'short',\n",
              " 'sellers',\n",
              " 'wall',\n",
              " 'street',\n",
              " 'dwindling',\n",
              " 'band',\n",
              " 'of',\n",
              " 'ultra',\n",
              " 'cynics',\n",
              " 'are',\n",
              " 'seeing',\n",
              " 'green',\n",
              " 'again']"
            ]
          },
          "metadata": {},
          "execution_count": 47
        }
      ],
      "source": [
        "from gensim.utils import simple_preprocess\n",
        "tokens = simple_preprocess(descriptions[0])\n",
        "tokens"
      ],
      "id": "aUMmGkHqMmB5"
    },
    {
      "cell_type": "code",
      "execution_count": 48,
      "metadata": {
        "id": "WGloDB82MmB5",
        "outputId": "28959630-59d4-420f-e1d8-d57a4c83b2c2",
        "colab": {
          "base_uri": "https://localhost:8080/"
        }
      },
      "outputs": [
        {
          "output_type": "execute_result",
          "data": {
            "text/plain": [
              "torch.Size([14, 50])"
            ]
          },
          "metadata": {},
          "execution_count": 48
        }
      ],
      "source": [
        "embedded_tokens = get_vecs_by_tokens(tokens)\n",
        "embedded_tokens.shape"
      ],
      "id": "WGloDB82MmB5"
    },
    {
      "cell_type": "markdown",
      "metadata": {
        "id": "9c5cd348"
      },
      "source": [
        "## 15.7 Vector Databases"
      ],
      "id": "9c5cd348"
    },
    {
      "cell_type": "markdown",
      "metadata": {
        "id": "676af97f"
      },
      "source": [
        "### 15.7.1 ChromaDB\n",
        "\n",
        "[ChromaDB](https://docs.trychroma.com/getting-started) is an open-source embedding database that allows you store embeddings and metadata, embed documents and queries, and search embeddings.\n",
        "\n",
        "In this example, we'll be storing a collection of GloVe embeddings for the AG News Dataset on a persisted database, and then will query the collection to search for similar items.\n",
        "\n",
        "Creating a database in ChromaDB follows a short sequence of steps:\n",
        "- getting a client, which we can configure to persist the data\n",
        "- creating a collection that will store the embeddings and metadata - you can think of it as a folder or table\n",
        "- adding documents (to be embedded by ChromaDB itself) or embeddings (as we're doing here) to the collection, along with any corresponding metadata you may wish to add\n",
        "- querying the collection to get the most similar results back\n",
        "\n",
        "Let's get a client and define `agnews_db` as the folder our collection must be saved to:"
      ],
      "id": "676af97f"
    },
    {
      "cell_type": "code",
      "execution_count": 49,
      "metadata": {
        "id": "3efc931f"
      },
      "outputs": [],
      "source": [
        "import chromadb\n",
        "\n",
        "client = chromadb.PersistentClient(path=\"./agnews_db\")"
      ],
      "id": "3efc931f"
    },
    {
      "cell_type": "code",
      "execution_count": 50,
      "metadata": {
        "id": "6b2b4719"
      },
      "outputs": [],
      "source": [
        "collection = client.create_collection(\"agnews_collection\")"
      ],
      "id": "6b2b4719"
    },
    {
      "cell_type": "markdown",
      "metadata": {
        "id": "2088f815"
      },
      "source": [
        "![](https://raw.githubusercontent.com/dvgodoy/assets/main/PyTorchInPractice/images/ch13/vector_db.png)"
      ],
      "id": "2088f815"
    },
    {
      "cell_type": "code",
      "execution_count": 51,
      "metadata": {
        "id": "a6d-b382MmB8"
      },
      "outputs": [],
      "source": [
        "def tokenize_batch(sentences, tokenizer=None):\n",
        "    if tokenizer is None:\n",
        "        tokenizer = simple_preprocess\n",
        "\n",
        "    return [tokenizer(s) for s in sentences]\n",
        "\n",
        "def get_bag_of_embeddings(tokens):\n",
        "    embeddings = torch.cat([get_vecs_by_tokens(s).mean(axis=0).unsqueeze(0) for s in tokens], dim=0)\n",
        "    return embeddings"
      ],
      "id": "a6d-b382MmB8"
    },
    {
      "cell_type": "code",
      "execution_count": 52,
      "metadata": {
        "id": "7b04a64d"
      },
      "outputs": [],
      "source": [
        "from torch.utils.data import DataLoader\n",
        "\n",
        "batch_size = 32\n",
        "unshuffled_dl = DataLoader(dataset=datasets['train'], batch_size=batch_size, shuffle=False)\n",
        "\n",
        "for i, batch in enumerate(unshuffled_dl):\n",
        "    labels, sentences = batch['topic'], batch['news']\n",
        "    tokens = tokenize_batch(sentences)\n",
        "    embeddings = get_bag_of_embeddings(tokens)\n",
        "    ids = [f'{i:06}' for i in np.arange(i*batch_size, i*batch_size+len(sentences))]\n",
        "\n",
        "    collection.add(embeddings=embeddings.tolist(),\n",
        "                   documents=sentences,\n",
        "                   metadatas=[{'label': v} for v in labels.tolist()],\n",
        "                   ids=ids)\n",
        "\n",
        "    if i == 300: # roughly 10k docs\n",
        "        break"
      ],
      "id": "7b04a64d"
    },
    {
      "cell_type": "code",
      "execution_count": 53,
      "metadata": {
        "colab": {
          "base_uri": "https://localhost:8080/"
        },
        "id": "ffddd9cc",
        "outputId": "98897b51-4bc5-449b-f872-2c68e8d4490e"
      },
      "outputs": [
        {
          "output_type": "execute_result",
          "data": {
            "text/plain": [
              "9632"
            ]
          },
          "metadata": {},
          "execution_count": 53
        }
      ],
      "source": [
        "collection.count()"
      ],
      "id": "ffddd9cc"
    },
    {
      "cell_type": "markdown",
      "metadata": {
        "id": "b119f4b8"
      },
      "source": [
        "### 15.7.2 Similarity Search"
      ],
      "id": "b119f4b8"
    },
    {
      "cell_type": "code",
      "execution_count": 54,
      "metadata": {
        "colab": {
          "base_uri": "https://localhost:8080/"
        },
        "id": "879e7f65",
        "outputId": "57814c2c-46f1-4fd9-e048-22d18b835516"
      },
      "outputs": [
        {
          "output_type": "execute_result",
          "data": {
            "text/plain": [
              "tensor([ 4.0827e-01,  7.9920e-02,  3.1115e-01,  1.8721e-01, -4.7369e-02,\n",
              "         3.3698e-01, -5.0617e-01, -3.6810e-02,  2.6068e-01, -1.2847e-01,\n",
              "         2.2948e-01, -5.9424e-02, -3.3787e-01,  2.9188e-02,  2.6071e-01,\n",
              "         2.0179e-01, -7.7526e-02,  3.3718e-01, -5.2526e-01, -2.7158e-01,\n",
              "         3.7156e-01, -1.0214e-01, -1.1645e-01, -2.9637e-01,  7.9672e-02,\n",
              "        -1.6904e+00, -4.1659e-02,  1.0523e-01,  2.8247e-01,  2.9835e-03,\n",
              "         3.0708e+00, -1.5180e-01, -1.4941e-01, -2.3085e-01,  2.1777e-01,\n",
              "        -4.0086e-02,  2.0281e-01,  8.9309e-02,  5.5554e-02,  2.6830e-02,\n",
              "        -2.9215e-01, -1.5104e-01,  2.6449e-01, -1.0034e-01,  1.4842e-01,\n",
              "         8.8036e-02, -2.3717e-01,  3.1029e-01,  1.2701e-02, -1.4513e-01])"
            ]
          },
          "metadata": {},
          "execution_count": 54
        }
      ],
      "source": [
        "query_sentence = 'The company running the Japanese nuclear plant hit by a fatal accident is to close its reactors for safety checks.'\n",
        "query_tokens = tokenize_batch([query_sentence])\n",
        "query_embeddings = get_bag_of_embeddings(query_tokens)[0]\n",
        "\n",
        "query_embeddings"
      ],
      "id": "879e7f65"
    },
    {
      "cell_type": "markdown",
      "metadata": {
        "id": "e557588c"
      },
      "source": [
        "![](https://raw.githubusercontent.com/dvgodoy/assets/main/PyTorchInPractice/images/ch13/query_db.png)"
      ],
      "id": "e557588c"
    },
    {
      "cell_type": "code",
      "execution_count": 55,
      "metadata": {
        "colab": {
          "base_uri": "https://localhost:8080/"
        },
        "id": "1ae3e903",
        "outputId": "4a1fa0cb-06ee-4c37-8564-765d9837689f"
      },
      "outputs": [
        {
          "output_type": "execute_result",
          "data": {
            "text/plain": [
              "{'ids': [['000030', '001046', '004715', '002464', '006905']],\n",
              " 'embeddings': None,\n",
              " 'documents': [['The company running the Japanese nuclear plant hit by a fatal accident is to close its reactors for safety checks.',\n",
              "   'AP - The operator of a nuclear power plant where a long-neglected cooling pipe burst and killed four workers last week said Monday that four other pipes at its reactors also went unchecked for years.',\n",
              "   'TOKYO The operators of a Japanese nuclear plant say there was no evidence of danger at the plant before a deadly explosion this month.',\n",
              "   'Reuters - No more Japanese nuclear reactors need to be closed for inspections, electric power companies said on Wednesday after submitting reports ordered by the government following a reactor accident that killed four workers last week.',\n",
              "   \"The company managing Rio Tinto iron ore's rail lines in the Pilbara, in north-west Western Australia, says equipment failure rather than human error is to blame for a major derailment last week.\"]],\n",
              " 'uris': None,\n",
              " 'data': None,\n",
              " 'metadatas': [[{'label': 2},\n",
              "   {'label': 0},\n",
              "   {'label': 0},\n",
              "   {'label': 0},\n",
              "   {'label': 2}]],\n",
              " 'distances': [[0.0,\n",
              "   0.8038501739501953,\n",
              "   0.9175586104393005,\n",
              "   0.9644219875335693,\n",
              "   0.9812381267547607]],\n",
              " 'included': [<IncludeEnum.distances: 'distances'>,\n",
              "  <IncludeEnum.documents: 'documents'>,\n",
              "  <IncludeEnum.metadatas: 'metadatas'>]}"
            ]
          },
          "metadata": {},
          "execution_count": 55
        }
      ],
      "source": [
        "query_embeddings = query_embeddings.tolist()\n",
        "collection.query(query_embeddings=query_embeddings, n_results=5)"
      ],
      "id": "1ae3e903"
    },
    {
      "cell_type": "code",
      "execution_count": 56,
      "metadata": {
        "id": "7ede4123"
      },
      "outputs": [],
      "source": [
        "query_sentence = 'asian stock market'\n",
        "query_tokens = tokenize_batch([query_sentence])\n",
        "query_embeddings = get_bag_of_embeddings(query_tokens)[0]\n",
        "query_embeddings = query_embeddings.tolist()"
      ],
      "id": "7ede4123"
    },
    {
      "cell_type": "code",
      "execution_count": 57,
      "metadata": {
        "colab": {
          "base_uri": "https://localhost:8080/"
        },
        "id": "9d245d3b",
        "outputId": "74296c05-d7df-464d-c1d4-9ae8fdbeb300"
      },
      "outputs": [
        {
          "output_type": "execute_result",
          "data": {
            "text/plain": [
              "{'ids': [['007389', '006925', '004791', '007014', '006829']],\n",
              " 'embeddings': None,\n",
              " 'documents': [['Asian stocks rose after oil prices fell from a record on Friday, easing concern higher energy costs will damp consumer spending and corporate profits.',\n",
              "   'Asian stocks advanced after oil prices fell from a record Friday in New York, easing concern higher energy costs will damp consumer spending and corporate profits.',\n",
              "   \"AP - Tokyo's main stock index ended lower Friday amid profit-taking of technology issues and concerns about soaring oil prices. The U.S. dollar was down against the Japanese yen.\",\n",
              "   'Japanese stocks rose after oil prices fell from a record in New York on Friday, easing concern higher energy costs will damp consumer spending and corporate profits.',\n",
              "   'Japanese stocks may rise after oil prices fell from a record in New York, easing concern higher energy costs will damp consumer spending and corporate profits.']],\n",
              " 'uris': None,\n",
              " 'data': None,\n",
              " 'metadatas': [[{'label': 2},\n",
              "   {'label': 2},\n",
              "   {'label': 0},\n",
              "   {'label': 0},\n",
              "   {'label': 2}]],\n",
              " 'distances': [[5.2573628425598145,\n",
              "   5.490711688995361,\n",
              "   5.643772125244141,\n",
              "   5.697542190551758,\n",
              "   5.810704231262207]],\n",
              " 'included': [<IncludeEnum.distances: 'distances'>,\n",
              "  <IncludeEnum.documents: 'documents'>,\n",
              "  <IncludeEnum.metadatas: 'metadatas'>]}"
            ]
          },
          "metadata": {},
          "execution_count": 57
        }
      ],
      "source": [
        "collection.query(query_embeddings=query_embeddings, n_results=5)"
      ],
      "id": "9d245d3b"
    },
    {
      "cell_type": "markdown",
      "metadata": {
        "id": "xGpANJYwMmCA"
      },
      "source": [
        "***\n",
        "**ASIDE: Cosine Similarity**\n",
        "\n",
        "If two vectors are pointing in the same direction, their cosine similarity is a perfect one. If they are orthogonal (that is, if there is a right angle between them), their cosine similarity is zero. If they are pointing in opposite directions, their cosine similarity is minus one.\n",
        "\n",
        "$$\n",
        "\\Large\n",
        "\\cos \\theta = \\frac{\\sum_i{x_iy_i}}{\\sqrt{\\sum_j{x_j^2}}\\sqrt{\\sum_j{y_j^2}}}\n",
        "$$\n",
        "***\n"
      ],
      "id": "xGpANJYwMmCA"
    },
    {
      "cell_type": "markdown",
      "metadata": {
        "id": "1916f4f7"
      },
      "source": [
        "## 15.8 Zero-Shot Text Classification\n",
        "\n",
        "![](https://raw.githubusercontent.com/dvgodoy/assets/main/PyTorchInPractice/images/ch0/model_step5.png)"
      ],
      "id": "1916f4f7"
    },
    {
      "cell_type": "code",
      "execution_count": 58,
      "metadata": {
        "colab": {
          "base_uri": "https://localhost:8080/"
        },
        "id": "ea70a16c",
        "outputId": "b77d9072-7261-48fa-8836-fafe8bcf8679"
      },
      "outputs": [
        {
          "output_type": "execute_result",
          "data": {
            "text/plain": [
              "torch.Size([4, 50])"
            ]
          },
          "metadata": {},
          "execution_count": 58
        }
      ],
      "source": [
        "cand_labels = [\"world\", \"sports\", \"business\", \"science and technology\"]\n",
        "\n",
        "cand_emb = torch.vstack([get_vecs_by_tokens(tokens).mean(axis=0) for tokens in tokenize_batch(cand_labels)])\n",
        "cand_emb.shape"
      ],
      "id": "ea70a16c"
    },
    {
      "cell_type": "code",
      "execution_count": 59,
      "metadata": {
        "colab": {
          "base_uri": "https://localhost:8080/"
        },
        "id": "e73d28aa",
        "outputId": "927c17f1-8c4f-4a08-b827-425b7b24227d"
      },
      "outputs": [
        {
          "output_type": "execute_result",
          "data": {
            "text/plain": [
              "tensor([[1.0000, 0.6529, 0.6136, 0.6678],\n",
              "        [0.6529, 1.0000, 0.6410, 0.6171],\n",
              "        [0.6136, 0.6410, 1.0000, 0.8069],\n",
              "        [0.6678, 0.6171, 0.8069, 1.0000]])"
            ]
          },
          "metadata": {},
          "execution_count": 59
        }
      ],
      "source": [
        "cos = nn.CosineSimilarity(dim=2)\n",
        "\n",
        "cos(cand_emb.unsqueeze(1), cand_emb.unsqueeze(0))"
      ],
      "id": "e73d28aa"
    },
    {
      "cell_type": "code",
      "execution_count": 60,
      "metadata": {
        "id": "QASypfVAMmCB",
        "outputId": "8d067c36-dd40-4e31-e9ed-6118ac2a14f2",
        "colab": {
          "base_uri": "https://localhost:8080/"
        }
      },
      "outputs": [
        {
          "output_type": "execute_result",
          "data": {
            "text/plain": [
              "tensor([[0.6534, 0.5361, 0.7945, 0.7030],\n",
              "        [0.7634, 0.6130, 0.7007, 0.7579],\n",
              "        [0.6658, 0.5156, 0.7244, 0.8548],\n",
              "        [0.7275, 0.5425, 0.6800, 0.7176],\n",
              "        [0.7058, 0.5120, 0.7004, 0.7567],\n",
              "        [0.7184, 0.5626, 0.7428, 0.7919],\n",
              "        [0.7056, 0.5410, 0.7269, 0.8026],\n",
              "        [0.6613, 0.5637, 0.7525, 0.8029],\n",
              "        [0.5893, 0.4821, 0.6439, 0.6403],\n",
              "        [0.7183, 0.5389, 0.7209, 0.7500],\n",
              "        [0.6883, 0.6081, 0.8330, 0.8441],\n",
              "        [0.6728, 0.6266, 0.8165, 0.8166],\n",
              "        [0.7453, 0.6166, 0.8239, 0.8035],\n",
              "        [0.7400, 0.4860, 0.6221, 0.7080],\n",
              "        [0.6582, 0.4579, 0.6692, 0.7232],\n",
              "        [0.6819, 0.4262, 0.6630, 0.7159],\n",
              "        [0.6154, 0.4228, 0.5796, 0.6999],\n",
              "        [0.7636, 0.5894, 0.7239, 0.8140],\n",
              "        [0.6990, 0.4981, 0.6911, 0.8043],\n",
              "        [0.6747, 0.4536, 0.7283, 0.6745],\n",
              "        [0.7615, 0.5422, 0.7594, 0.7675],\n",
              "        [0.6438, 0.5324, 0.7470, 0.7863],\n",
              "        [0.5911, 0.4596, 0.7293, 0.8482],\n",
              "        [0.7202, 0.5606, 0.7810, 0.7704],\n",
              "        [0.6610, 0.5386, 0.8161, 0.7544],\n",
              "        [0.7272, 0.5415, 0.7617, 0.8091],\n",
              "        [0.8396, 0.5678, 0.5800, 0.6891],\n",
              "        [0.6894, 0.5641, 0.6844, 0.7507],\n",
              "        [0.7033, 0.5307, 0.6915, 0.7208],\n",
              "        [0.6693, 0.5329, 0.6521, 0.6608],\n",
              "        [0.6276, 0.5180, 0.6498, 0.6811],\n",
              "        [0.6656, 0.5054, 0.5853, 0.6365]])"
            ]
          },
          "metadata": {},
          "execution_count": 60
        }
      ],
      "source": [
        "batch_size = 32\n",
        "dataloader = DataLoader(dataset=datasets['test'], batch_size=batch_size, shuffle=False)\n",
        "\n",
        "batch = next(iter(dataloader))\n",
        "labels, sentences = batch['topic'], batch['news']\n",
        "tokens = tokenize_batch(sentences)\n",
        "embeddings = get_bag_of_embeddings(tokens)\n",
        "similarities = cos(embeddings.unsqueeze(1), cand_emb.unsqueeze(0))\n",
        "similarities"
      ],
      "id": "QASypfVAMmCB"
    },
    {
      "cell_type": "code",
      "execution_count": 61,
      "metadata": {
        "colab": {
          "base_uri": "https://localhost:8080/"
        },
        "id": "61450876",
        "outputId": "21fe8fef-902a-4042-8aaf-de2b313f5d38"
      },
      "outputs": [
        {
          "output_type": "execute_result",
          "data": {
            "text/plain": [
              "tensor([2, 0, 3, 0, 3, 3, 3, 3, 2, 3, 3, 3, 2, 0, 3, 3, 3, 3, 3, 2, 3, 3, 3, 2,\n",
              "        2, 3, 0, 3, 3, 0, 3, 0])"
            ]
          },
          "metadata": {},
          "execution_count": 61
        }
      ],
      "source": [
        "predicted_class = similarities.argmax(dim=1)\n",
        "predicted_class"
      ],
      "id": "61450876"
    },
    {
      "cell_type": "code",
      "execution_count": 62,
      "metadata": {
        "colab": {
          "base_uri": "https://localhost:8080/"
        },
        "id": "e48b587d",
        "outputId": "e219cce9-920e-49ec-b960-d00b7a263125"
      },
      "outputs": [
        {
          "output_type": "execute_result",
          "data": {
            "text/plain": [
              "tensor(0.5625)"
            ]
          },
          "metadata": {},
          "execution_count": 62
        }
      ],
      "source": [
        "(predicted_class == labels).float().mean()"
      ],
      "id": "e48b587d"
    },
    {
      "cell_type": "markdown",
      "metadata": {
        "id": "9707b1fb"
      },
      "source": [
        "### 15.8.1 Evaluation"
      ],
      "id": "9707b1fb"
    },
    {
      "cell_type": "code",
      "execution_count": 63,
      "metadata": {
        "id": "6d70bcb1",
        "colab": {
          "base_uri": "https://localhost:8080/",
          "height": 113,
          "referenced_widgets": [
            "5fca707e36484bf28100733eb38a5d48",
            "bbff7335bac34b029103c2ff04740847",
            "8b731e09676645a296f8059369417c35",
            "dc7d16de481e4a2299bddc79412ab6b9",
            "b9057f7f18bc46b49204490769fae0be",
            "f83d7d2038ba40fca33e088799a2ffd9",
            "ad9a1f0790914f7b9f44eeeb0aeae02f",
            "d2e247265bac442c8df1f70335c2df8e",
            "878aed449f154ed4aeda61dcce202f35",
            "aa945dc8a4274f1a9b8d5fbec1b22286",
            "fa3124b04daa42d6a62cf8596b18876c",
            "288fac8541d74d5aaecfb98e866da1be",
            "4dc538084eb04f3982a41ce826930005",
            "85cf313a532b4c938fcf6f477feaf62b",
            "f637c68397a346aea1e0e32778770ff8",
            "15d83929b3be40febd62e3c12c35c3f6",
            "22e67cd119e04c60a81f144e5bba49ba",
            "dda07a6c1f3f46d086e16ef3f2c5fa9c",
            "c5e3314a4b1e4498877350f14838ddd2",
            "fb746a023fd74746a58729a2447a43c4",
            "69c25e31a0a246b38b726d13ba9789e1",
            "62a8ee0633a04733b39267f56342be92",
            "a2f8049b2abd48bb9530a2b53097732c",
            "751388aca10f4eb79c33c24fc137d4a1",
            "2c06da1d068441748884e719572fd592",
            "8de5c5b9fa5a49569a76c7a073228e69",
            "87d13d6026bc485cb9d0d90de25e2950",
            "5a8cc50673ca40f0a64139481448be41",
            "bd85fe65902b4568b7d1718d9e79d813",
            "c74ddb9d75a24e1aa63c7760e53b189e",
            "b3eeb32e7b894cfba979d5abcf83cc9d",
            "ecaa735210954771a00746a9e62a5b06",
            "b06968062d014c07b778f605ac203137"
          ]
        },
        "outputId": "1b4dacc2-db88-456c-bb5e-0159776fac70"
      },
      "outputs": [
        {
          "output_type": "display_data",
          "data": {
            "text/plain": [
              "Downloading builder script:   0%|          | 0.00/7.56k [00:00<?, ?B/s]"
            ],
            "application/vnd.jupyter.widget-view+json": {
              "version_major": 2,
              "version_minor": 0,
              "model_id": "5fca707e36484bf28100733eb38a5d48"
            }
          },
          "metadata": {}
        },
        {
          "output_type": "display_data",
          "data": {
            "text/plain": [
              "Downloading builder script:   0%|          | 0.00/7.38k [00:00<?, ?B/s]"
            ],
            "application/vnd.jupyter.widget-view+json": {
              "version_major": 2,
              "version_minor": 0,
              "model_id": "288fac8541d74d5aaecfb98e866da1be"
            }
          },
          "metadata": {}
        },
        {
          "output_type": "display_data",
          "data": {
            "text/plain": [
              "Downloading builder script:   0%|          | 0.00/4.20k [00:00<?, ?B/s]"
            ],
            "application/vnd.jupyter.widget-view+json": {
              "version_major": 2,
              "version_minor": 0,
              "model_id": "a2f8049b2abd48bb9530a2b53097732c"
            }
          },
          "metadata": {}
        }
      ],
      "source": [
        "import evaluate\n",
        "\n",
        "metric1 = evaluate.load('precision', average=None)\n",
        "metric2 = evaluate.load('recall', average=None)\n",
        "metric3 = evaluate.load('accuracy')"
      ],
      "id": "6d70bcb1"
    },
    {
      "cell_type": "code",
      "execution_count": 64,
      "metadata": {
        "id": "40d627b8"
      },
      "outputs": [],
      "source": [
        "for batch in dataloader:\n",
        "    labels, sentences = batch['topic'], batch['news']\n",
        "    tokens = tokenize_batch(sentences)\n",
        "    embeddings = get_bag_of_embeddings(tokens)\n",
        "\n",
        "    # predictions = model(embeddings)\n",
        "    predictions = cos(embeddings.unsqueeze(1), cand_emb.unsqueeze(0))\n",
        "\n",
        "    pred_class = predictions.argmax(dim=1).tolist()\n",
        "    labels = labels.tolist()\n",
        "\n",
        "    metric1.add_batch(references=labels, predictions=pred_class)\n",
        "    metric2.add_batch(references=labels, predictions=pred_class)\n",
        "    metric3.add_batch(references=labels, predictions=pred_class)"
      ],
      "id": "40d627b8"
    },
    {
      "cell_type": "code",
      "execution_count": 65,
      "metadata": {
        "colab": {
          "base_uri": "https://localhost:8080/"
        },
        "id": "101ae04d",
        "outputId": "188321ed-cc79-4c21-e67b-d71df1784189"
      },
      "outputs": [
        {
          "output_type": "execute_result",
          "data": {
            "text/plain": [
              "({'precision': array([0.33205619, 1.        , 0.67253045, 0.43290471])},\n",
              " {'recall': array([4.10526316e-01, 5.26315789e-04, 7.84736842e-01, 6.91052632e-01])},\n",
              " {'accuracy': 0.47171052631578947})"
            ]
          },
          "metadata": {},
          "execution_count": 65
        }
      ],
      "source": [
        "metric1.compute(average=None), metric2.compute(average=None), metric3.compute()"
      ],
      "id": "101ae04d"
    },
    {
      "cell_type": "markdown",
      "metadata": {
        "id": "51585ffc"
      },
      "source": [
        "## 15.9 Chunking Strategies"
      ],
      "id": "51585ffc"
    },
    {
      "cell_type": "code",
      "execution_count": 66,
      "metadata": {
        "id": "saIdUTVzMmCC"
      },
      "outputs": [],
      "source": [
        "text = \"\"\"\n",
        "ITEM 1A. RISK FACTORS Our operations and financial results are subject to various risks and uncertainties, including those described below, that could adversely affect our business, financial condition, results of operations, cash flows, and the trading price of our common stock. STRATEGIC AND COMPETITIVE RISKS We face intense competition across all markets for our products and services, which may lead to lower revenue or operating margins.    Competition in the technology sector Our competitors range in size from diversified global companies with significant research and development resources to small, specialized firms whose narrower product lines may let them be more effective in deploying technical, marketing, and financial resources. Barriers to entry in many of our businesses are low and many of the areas in which we compete evolve rapidly with changing and disruptive technologies, shifting user needs, and frequent introductions of new products and services. Our ability to remain competitive depends on our success in making innovative products, devices, and services that appeal to businesses and consumers.    Competition among platform-based ecosystems An important element of our business model has been to create platform-based ecosystems on which many participants can build diverse solutions. A well-established ecosystem creates beneficial network effects among users, application developers, and the platform provider that can accelerate growth. Establishing significant scale in the marketplace is necessary to achieve and maintain attractive margins. We face significant competition from firms that provide competing platforms.\n",
        "\"\"\""
      ],
      "id": "saIdUTVzMmCC"
    },
    {
      "cell_type": "markdown",
      "metadata": {
        "id": "vHcU_ucdMmCD"
      },
      "source": [
        "### 15.9.1 Fixed-Length"
      ],
      "id": "vHcU_ucdMmCD"
    },
    {
      "cell_type": "code",
      "execution_count": 67,
      "metadata": {
        "colab": {
          "base_uri": "https://localhost:8080/"
        },
        "id": "eeb5aacb",
        "outputId": "e735cbaf-bf48-4d1a-88fa-f29ebe922faf"
      },
      "outputs": [
        {
          "output_type": "execute_result",
          "data": {
            "text/plain": [
              "[Document(metadata={}, page_content='ITEM 1A. RISK FACTORS Our operations and financial results are subject to various risks and uncertainties, including those described below, that could adversely affect our business, financial condition, results of operations, cash flows, and the trading'),\n",
              " Document(metadata={}, page_content='and the trading price of our common stock. STRATEGIC AND COMPETITIVE RISKS We face intense competition across all markets for our products and services, which may lead to lower revenue or operating margins.    Competition in the technology sector Our'),\n",
              " Document(metadata={}, page_content='sector Our competitors range in size from diversified global companies with significant research and development resources to small, specialized firms whose narrower product lines may let them be more effective in deploying technical, marketing, and')]"
            ]
          },
          "metadata": {},
          "execution_count": 67
        }
      ],
      "source": [
        "from langchain.text_splitter import RecursiveCharacterTextSplitter\n",
        "\n",
        "text_splitter = RecursiveCharacterTextSplitter(chunk_size=256, chunk_overlap=20)\n",
        "chunks = text_splitter.create_documents([text])\n",
        "chunks[:3]"
      ],
      "id": "eeb5aacb"
    },
    {
      "cell_type": "markdown",
      "metadata": {
        "id": "4f607097"
      },
      "source": [
        "### 15.9.2 Content-Aware"
      ],
      "id": "4f607097"
    },
    {
      "cell_type": "code",
      "execution_count": 68,
      "metadata": {
        "colab": {
          "base_uri": "https://localhost:8080/"
        },
        "id": "1344c93e",
        "outputId": "6f184aaf-1c82-4a7b-f99f-f471f9445de3"
      },
      "outputs": [
        {
          "output_type": "stream",
          "name": "stderr",
          "text": [
            "[nltk_data] Downloading package punkt to /root/nltk_data...\n",
            "[nltk_data]   Unzipping tokenizers/punkt.zip.\n",
            "[nltk_data] Downloading package punkt_tab to /root/nltk_data...\n",
            "[nltk_data]   Unzipping tokenizers/punkt_tab.zip.\n"
          ]
        },
        {
          "output_type": "execute_result",
          "data": {
            "text/plain": [
              "True"
            ]
          },
          "metadata": {},
          "execution_count": 68
        }
      ],
      "source": [
        "import nltk\n",
        "nltk.download('punkt')\n",
        "nltk.download('punkt_tab')"
      ],
      "id": "1344c93e"
    },
    {
      "cell_type": "code",
      "execution_count": 69,
      "metadata": {
        "colab": {
          "base_uri": "https://localhost:8080/"
        },
        "id": "eade466d",
        "outputId": "2e7fc698-c176-4e7f-ca7b-d4d50a2295f6"
      },
      "outputs": [
        {
          "output_type": "execute_result",
          "data": {
            "text/plain": [
              "['\\nITEM 1A.',\n",
              " 'RISK FACTORS Our operations and financial results are subject to various risks and uncertainties, including those described below, that could adversely affect our business, financial condition, results of operations, cash flows, and the trading price of our common stock.',\n",
              " 'STRATEGIC AND COMPETITIVE RISKS We face intense competition across all markets for our products and services, which may lead to lower revenue or operating margins.']"
            ]
          },
          "metadata": {},
          "execution_count": 69
        }
      ],
      "source": [
        "from nltk.tokenize import sent_tokenize\n",
        "\n",
        "chunks = sent_tokenize(text)\n",
        "chunks[:3]"
      ],
      "id": "eade466d"
    },
    {
      "cell_type": "markdown",
      "metadata": {
        "id": "b55a5898"
      },
      "source": [
        "### 15.9.3 Custom"
      ],
      "id": "b55a5898"
    },
    {
      "cell_type": "code",
      "execution_count": 70,
      "metadata": {
        "colab": {
          "base_uri": "https://localhost:8080/"
        },
        "id": "67e8137f",
        "outputId": "704a6ec7-caa0-49da-c8ad-cd415a0cf28e"
      },
      "outputs": [
        {
          "output_type": "execute_result",
          "data": {
            "text/plain": [
              "['\\nITEM 1A. RISK FACTORS Our operations and financial results are subject to various risks and uncertainties, including those described below, that could adversely affect our business, financial condition, results of operations, cash flows, and the trading price of our common stock. STRATEGIC AND COMPETITIVE RISKS We face intense competition across all markets for our products and services, which may lead to lower revenue or operating margins.',\n",
              " '',\n",
              " 'Competition in the technology sector Our competitors range in size from diversified global companies with significant research and development resources to small, specialized firms whose narrower product lines may let them be more effective in deploying technical, marketing, and financial resources. Barriers to entry in many of our businesses are low and many of the areas in which we compete evolve rapidly with changing and disruptive technologies, shifting user needs, and frequent introductions of new products and services. Our ability to remain competitive depends on our success in making innovative products, devices, and services that appeal to businesses and consumers.']"
            ]
          },
          "metadata": {},
          "execution_count": 70
        }
      ],
      "source": [
        "chunks = text.split('  ')\n",
        "chunks[:3]"
      ],
      "id": "67e8137f"
    }
  ],
  "metadata": {
    "accelerator": "GPU",
    "colab": {
      "gpuType": "T4",
      "provenance": [],
      "include_colab_link": true
    },
    "kernelspec": {
      "display_name": "Python 3",
      "language": "python",
      "name": "python3"
    },
    "language_info": {
      "codemirror_mode": {
        "name": "ipython",
        "version": 3
      },
      "file_extension": ".py",
      "mimetype": "text/x-python",
      "name": "python",
      "nbconvert_exporter": "python",
      "pygments_lexer": "ipython3",
      "version": "3.7.4"
    },
    "widgets": {
      "application/vnd.jupyter.widget-state+json": {
        "65b68fa70ec84cf9b970d4fef4c47710": {
          "model_module": "@jupyter-widgets/controls",
          "model_name": "HBoxModel",
          "model_module_version": "1.5.0",
          "state": {
            "_dom_classes": [],
            "_model_module": "@jupyter-widgets/controls",
            "_model_module_version": "1.5.0",
            "_model_name": "HBoxModel",
            "_view_count": null,
            "_view_module": "@jupyter-widgets/controls",
            "_view_module_version": "1.5.0",
            "_view_name": "HBoxView",
            "box_style": "",
            "children": [
              "IPY_MODEL_1e9428942a4c496188a7163a406ce44c",
              "IPY_MODEL_04ca7599860d44d5b7900e3b96c907fe",
              "IPY_MODEL_a18960e8edc94c61a3d7d2116853eea4"
            ],
            "layout": "IPY_MODEL_9d11cde0d11444dbb1319dbd4e21a799"
          }
        },
        "1e9428942a4c496188a7163a406ce44c": {
          "model_module": "@jupyter-widgets/controls",
          "model_name": "HTMLModel",
          "model_module_version": "1.5.0",
          "state": {
            "_dom_classes": [],
            "_model_module": "@jupyter-widgets/controls",
            "_model_module_version": "1.5.0",
            "_model_name": "HTMLModel",
            "_view_count": null,
            "_view_module": "@jupyter-widgets/controls",
            "_view_module_version": "1.5.0",
            "_view_name": "HTMLView",
            "description": "",
            "description_tooltip": null,
            "layout": "IPY_MODEL_dd0b9bef64434304b10d7fa95c143968",
            "placeholder": "​",
            "style": "IPY_MODEL_73b12201e206448da144ac2ed9002302",
            "value": "Generating train split: "
          }
        },
        "04ca7599860d44d5b7900e3b96c907fe": {
          "model_module": "@jupyter-widgets/controls",
          "model_name": "FloatProgressModel",
          "model_module_version": "1.5.0",
          "state": {
            "_dom_classes": [],
            "_model_module": "@jupyter-widgets/controls",
            "_model_module_version": "1.5.0",
            "_model_name": "FloatProgressModel",
            "_view_count": null,
            "_view_module": "@jupyter-widgets/controls",
            "_view_module_version": "1.5.0",
            "_view_name": "ProgressView",
            "bar_style": "success",
            "description": "",
            "description_tooltip": null,
            "layout": "IPY_MODEL_2f8bb61e478a499b85b941665c6fe84b",
            "max": 1,
            "min": 0,
            "orientation": "horizontal",
            "style": "IPY_MODEL_e8d9eb2a40424828ba29c2fee7bb07fb",
            "value": 1
          }
        },
        "a18960e8edc94c61a3d7d2116853eea4": {
          "model_module": "@jupyter-widgets/controls",
          "model_name": "HTMLModel",
          "model_module_version": "1.5.0",
          "state": {
            "_dom_classes": [],
            "_model_module": "@jupyter-widgets/controls",
            "_model_module_version": "1.5.0",
            "_model_name": "HTMLModel",
            "_view_count": null,
            "_view_module": "@jupyter-widgets/controls",
            "_view_module_version": "1.5.0",
            "_view_name": "HTMLView",
            "description": "",
            "description_tooltip": null,
            "layout": "IPY_MODEL_ee42e8d31c9a4b89b1923f07ae431b6f",
            "placeholder": "​",
            "style": "IPY_MODEL_e5f439e9f8f44b8d8aa081b993fd8c56",
            "value": " 120000/0 [00:00&lt;00:00, 223816.87 examples/s]"
          }
        },
        "9d11cde0d11444dbb1319dbd4e21a799": {
          "model_module": "@jupyter-widgets/base",
          "model_name": "LayoutModel",
          "model_module_version": "1.2.0",
          "state": {
            "_model_module": "@jupyter-widgets/base",
            "_model_module_version": "1.2.0",
            "_model_name": "LayoutModel",
            "_view_count": null,
            "_view_module": "@jupyter-widgets/base",
            "_view_module_version": "1.2.0",
            "_view_name": "LayoutView",
            "align_content": null,
            "align_items": null,
            "align_self": null,
            "border": null,
            "bottom": null,
            "display": null,
            "flex": null,
            "flex_flow": null,
            "grid_area": null,
            "grid_auto_columns": null,
            "grid_auto_flow": null,
            "grid_auto_rows": null,
            "grid_column": null,
            "grid_gap": null,
            "grid_row": null,
            "grid_template_areas": null,
            "grid_template_columns": null,
            "grid_template_rows": null,
            "height": null,
            "justify_content": null,
            "justify_items": null,
            "left": null,
            "margin": null,
            "max_height": null,
            "max_width": null,
            "min_height": null,
            "min_width": null,
            "object_fit": null,
            "object_position": null,
            "order": null,
            "overflow": null,
            "overflow_x": null,
            "overflow_y": null,
            "padding": null,
            "right": null,
            "top": null,
            "visibility": null,
            "width": null
          }
        },
        "dd0b9bef64434304b10d7fa95c143968": {
          "model_module": "@jupyter-widgets/base",
          "model_name": "LayoutModel",
          "model_module_version": "1.2.0",
          "state": {
            "_model_module": "@jupyter-widgets/base",
            "_model_module_version": "1.2.0",
            "_model_name": "LayoutModel",
            "_view_count": null,
            "_view_module": "@jupyter-widgets/base",
            "_view_module_version": "1.2.0",
            "_view_name": "LayoutView",
            "align_content": null,
            "align_items": null,
            "align_self": null,
            "border": null,
            "bottom": null,
            "display": null,
            "flex": null,
            "flex_flow": null,
            "grid_area": null,
            "grid_auto_columns": null,
            "grid_auto_flow": null,
            "grid_auto_rows": null,
            "grid_column": null,
            "grid_gap": null,
            "grid_row": null,
            "grid_template_areas": null,
            "grid_template_columns": null,
            "grid_template_rows": null,
            "height": null,
            "justify_content": null,
            "justify_items": null,
            "left": null,
            "margin": null,
            "max_height": null,
            "max_width": null,
            "min_height": null,
            "min_width": null,
            "object_fit": null,
            "object_position": null,
            "order": null,
            "overflow": null,
            "overflow_x": null,
            "overflow_y": null,
            "padding": null,
            "right": null,
            "top": null,
            "visibility": null,
            "width": null
          }
        },
        "73b12201e206448da144ac2ed9002302": {
          "model_module": "@jupyter-widgets/controls",
          "model_name": "DescriptionStyleModel",
          "model_module_version": "1.5.0",
          "state": {
            "_model_module": "@jupyter-widgets/controls",
            "_model_module_version": "1.5.0",
            "_model_name": "DescriptionStyleModel",
            "_view_count": null,
            "_view_module": "@jupyter-widgets/base",
            "_view_module_version": "1.2.0",
            "_view_name": "StyleView",
            "description_width": ""
          }
        },
        "2f8bb61e478a499b85b941665c6fe84b": {
          "model_module": "@jupyter-widgets/base",
          "model_name": "LayoutModel",
          "model_module_version": "1.2.0",
          "state": {
            "_model_module": "@jupyter-widgets/base",
            "_model_module_version": "1.2.0",
            "_model_name": "LayoutModel",
            "_view_count": null,
            "_view_module": "@jupyter-widgets/base",
            "_view_module_version": "1.2.0",
            "_view_name": "LayoutView",
            "align_content": null,
            "align_items": null,
            "align_self": null,
            "border": null,
            "bottom": null,
            "display": null,
            "flex": null,
            "flex_flow": null,
            "grid_area": null,
            "grid_auto_columns": null,
            "grid_auto_flow": null,
            "grid_auto_rows": null,
            "grid_column": null,
            "grid_gap": null,
            "grid_row": null,
            "grid_template_areas": null,
            "grid_template_columns": null,
            "grid_template_rows": null,
            "height": null,
            "justify_content": null,
            "justify_items": null,
            "left": null,
            "margin": null,
            "max_height": null,
            "max_width": null,
            "min_height": null,
            "min_width": null,
            "object_fit": null,
            "object_position": null,
            "order": null,
            "overflow": null,
            "overflow_x": null,
            "overflow_y": null,
            "padding": null,
            "right": null,
            "top": null,
            "visibility": null,
            "width": "20px"
          }
        },
        "e8d9eb2a40424828ba29c2fee7bb07fb": {
          "model_module": "@jupyter-widgets/controls",
          "model_name": "ProgressStyleModel",
          "model_module_version": "1.5.0",
          "state": {
            "_model_module": "@jupyter-widgets/controls",
            "_model_module_version": "1.5.0",
            "_model_name": "ProgressStyleModel",
            "_view_count": null,
            "_view_module": "@jupyter-widgets/base",
            "_view_module_version": "1.2.0",
            "_view_name": "StyleView",
            "bar_color": null,
            "description_width": ""
          }
        },
        "ee42e8d31c9a4b89b1923f07ae431b6f": {
          "model_module": "@jupyter-widgets/base",
          "model_name": "LayoutModel",
          "model_module_version": "1.2.0",
          "state": {
            "_model_module": "@jupyter-widgets/base",
            "_model_module_version": "1.2.0",
            "_model_name": "LayoutModel",
            "_view_count": null,
            "_view_module": "@jupyter-widgets/base",
            "_view_module_version": "1.2.0",
            "_view_name": "LayoutView",
            "align_content": null,
            "align_items": null,
            "align_self": null,
            "border": null,
            "bottom": null,
            "display": null,
            "flex": null,
            "flex_flow": null,
            "grid_area": null,
            "grid_auto_columns": null,
            "grid_auto_flow": null,
            "grid_auto_rows": null,
            "grid_column": null,
            "grid_gap": null,
            "grid_row": null,
            "grid_template_areas": null,
            "grid_template_columns": null,
            "grid_template_rows": null,
            "height": null,
            "justify_content": null,
            "justify_items": null,
            "left": null,
            "margin": null,
            "max_height": null,
            "max_width": null,
            "min_height": null,
            "min_width": null,
            "object_fit": null,
            "object_position": null,
            "order": null,
            "overflow": null,
            "overflow_x": null,
            "overflow_y": null,
            "padding": null,
            "right": null,
            "top": null,
            "visibility": null,
            "width": null
          }
        },
        "e5f439e9f8f44b8d8aa081b993fd8c56": {
          "model_module": "@jupyter-widgets/controls",
          "model_name": "DescriptionStyleModel",
          "model_module_version": "1.5.0",
          "state": {
            "_model_module": "@jupyter-widgets/controls",
            "_model_module_version": "1.5.0",
            "_model_name": "DescriptionStyleModel",
            "_view_count": null,
            "_view_module": "@jupyter-widgets/base",
            "_view_module_version": "1.2.0",
            "_view_name": "StyleView",
            "description_width": ""
          }
        },
        "96403b05dde647d5a429c189f69b901c": {
          "model_module": "@jupyter-widgets/controls",
          "model_name": "HBoxModel",
          "model_module_version": "1.5.0",
          "state": {
            "_dom_classes": [],
            "_model_module": "@jupyter-widgets/controls",
            "_model_module_version": "1.5.0",
            "_model_name": "HBoxModel",
            "_view_count": null,
            "_view_module": "@jupyter-widgets/controls",
            "_view_module_version": "1.5.0",
            "_view_name": "HBoxView",
            "box_style": "",
            "children": [
              "IPY_MODEL_000e950e88a543bf9e0bc8eee596cd2d",
              "IPY_MODEL_919a91a5d0bb483f8c60989fe71c8c85",
              "IPY_MODEL_4ff019cb94fd4fadb26d4ccb38ca5115"
            ],
            "layout": "IPY_MODEL_52e8f05122cb4de9b16593f7c9267e7a"
          }
        },
        "000e950e88a543bf9e0bc8eee596cd2d": {
          "model_module": "@jupyter-widgets/controls",
          "model_name": "HTMLModel",
          "model_module_version": "1.5.0",
          "state": {
            "_dom_classes": [],
            "_model_module": "@jupyter-widgets/controls",
            "_model_module_version": "1.5.0",
            "_model_name": "HTMLModel",
            "_view_count": null,
            "_view_module": "@jupyter-widgets/controls",
            "_view_module_version": "1.5.0",
            "_view_name": "HTMLView",
            "description": "",
            "description_tooltip": null,
            "layout": "IPY_MODEL_69ccd24ee7ef402f809da10ce0bdf176",
            "placeholder": "​",
            "style": "IPY_MODEL_22ca53b33d27403f99dfbb26f84f55ad",
            "value": "Generating train split: "
          }
        },
        "919a91a5d0bb483f8c60989fe71c8c85": {
          "model_module": "@jupyter-widgets/controls",
          "model_name": "FloatProgressModel",
          "model_module_version": "1.5.0",
          "state": {
            "_dom_classes": [],
            "_model_module": "@jupyter-widgets/controls",
            "_model_module_version": "1.5.0",
            "_model_name": "FloatProgressModel",
            "_view_count": null,
            "_view_module": "@jupyter-widgets/controls",
            "_view_module_version": "1.5.0",
            "_view_name": "ProgressView",
            "bar_style": "success",
            "description": "",
            "description_tooltip": null,
            "layout": "IPY_MODEL_4957d4af166e4a3b87e54ee04bdfd70c",
            "max": 1,
            "min": 0,
            "orientation": "horizontal",
            "style": "IPY_MODEL_aab04c4ba18a4d3c99d2da372048c7ac",
            "value": 1
          }
        },
        "4ff019cb94fd4fadb26d4ccb38ca5115": {
          "model_module": "@jupyter-widgets/controls",
          "model_name": "HTMLModel",
          "model_module_version": "1.5.0",
          "state": {
            "_dom_classes": [],
            "_model_module": "@jupyter-widgets/controls",
            "_model_module_version": "1.5.0",
            "_model_name": "HTMLModel",
            "_view_count": null,
            "_view_module": "@jupyter-widgets/controls",
            "_view_module_version": "1.5.0",
            "_view_name": "HTMLView",
            "description": "",
            "description_tooltip": null,
            "layout": "IPY_MODEL_3b6a3bd4a2c640aab8c6e598810a4f65",
            "placeholder": "​",
            "style": "IPY_MODEL_ef10fc6ed1ea4d86a292ac6964bb7829",
            "value": " 7600/0 [00:00&lt;00:00, 102952.64 examples/s]"
          }
        },
        "52e8f05122cb4de9b16593f7c9267e7a": {
          "model_module": "@jupyter-widgets/base",
          "model_name": "LayoutModel",
          "model_module_version": "1.2.0",
          "state": {
            "_model_module": "@jupyter-widgets/base",
            "_model_module_version": "1.2.0",
            "_model_name": "LayoutModel",
            "_view_count": null,
            "_view_module": "@jupyter-widgets/base",
            "_view_module_version": "1.2.0",
            "_view_name": "LayoutView",
            "align_content": null,
            "align_items": null,
            "align_self": null,
            "border": null,
            "bottom": null,
            "display": null,
            "flex": null,
            "flex_flow": null,
            "grid_area": null,
            "grid_auto_columns": null,
            "grid_auto_flow": null,
            "grid_auto_rows": null,
            "grid_column": null,
            "grid_gap": null,
            "grid_row": null,
            "grid_template_areas": null,
            "grid_template_columns": null,
            "grid_template_rows": null,
            "height": null,
            "justify_content": null,
            "justify_items": null,
            "left": null,
            "margin": null,
            "max_height": null,
            "max_width": null,
            "min_height": null,
            "min_width": null,
            "object_fit": null,
            "object_position": null,
            "order": null,
            "overflow": null,
            "overflow_x": null,
            "overflow_y": null,
            "padding": null,
            "right": null,
            "top": null,
            "visibility": null,
            "width": null
          }
        },
        "69ccd24ee7ef402f809da10ce0bdf176": {
          "model_module": "@jupyter-widgets/base",
          "model_name": "LayoutModel",
          "model_module_version": "1.2.0",
          "state": {
            "_model_module": "@jupyter-widgets/base",
            "_model_module_version": "1.2.0",
            "_model_name": "LayoutModel",
            "_view_count": null,
            "_view_module": "@jupyter-widgets/base",
            "_view_module_version": "1.2.0",
            "_view_name": "LayoutView",
            "align_content": null,
            "align_items": null,
            "align_self": null,
            "border": null,
            "bottom": null,
            "display": null,
            "flex": null,
            "flex_flow": null,
            "grid_area": null,
            "grid_auto_columns": null,
            "grid_auto_flow": null,
            "grid_auto_rows": null,
            "grid_column": null,
            "grid_gap": null,
            "grid_row": null,
            "grid_template_areas": null,
            "grid_template_columns": null,
            "grid_template_rows": null,
            "height": null,
            "justify_content": null,
            "justify_items": null,
            "left": null,
            "margin": null,
            "max_height": null,
            "max_width": null,
            "min_height": null,
            "min_width": null,
            "object_fit": null,
            "object_position": null,
            "order": null,
            "overflow": null,
            "overflow_x": null,
            "overflow_y": null,
            "padding": null,
            "right": null,
            "top": null,
            "visibility": null,
            "width": null
          }
        },
        "22ca53b33d27403f99dfbb26f84f55ad": {
          "model_module": "@jupyter-widgets/controls",
          "model_name": "DescriptionStyleModel",
          "model_module_version": "1.5.0",
          "state": {
            "_model_module": "@jupyter-widgets/controls",
            "_model_module_version": "1.5.0",
            "_model_name": "DescriptionStyleModel",
            "_view_count": null,
            "_view_module": "@jupyter-widgets/base",
            "_view_module_version": "1.2.0",
            "_view_name": "StyleView",
            "description_width": ""
          }
        },
        "4957d4af166e4a3b87e54ee04bdfd70c": {
          "model_module": "@jupyter-widgets/base",
          "model_name": "LayoutModel",
          "model_module_version": "1.2.0",
          "state": {
            "_model_module": "@jupyter-widgets/base",
            "_model_module_version": "1.2.0",
            "_model_name": "LayoutModel",
            "_view_count": null,
            "_view_module": "@jupyter-widgets/base",
            "_view_module_version": "1.2.0",
            "_view_name": "LayoutView",
            "align_content": null,
            "align_items": null,
            "align_self": null,
            "border": null,
            "bottom": null,
            "display": null,
            "flex": null,
            "flex_flow": null,
            "grid_area": null,
            "grid_auto_columns": null,
            "grid_auto_flow": null,
            "grid_auto_rows": null,
            "grid_column": null,
            "grid_gap": null,
            "grid_row": null,
            "grid_template_areas": null,
            "grid_template_columns": null,
            "grid_template_rows": null,
            "height": null,
            "justify_content": null,
            "justify_items": null,
            "left": null,
            "margin": null,
            "max_height": null,
            "max_width": null,
            "min_height": null,
            "min_width": null,
            "object_fit": null,
            "object_position": null,
            "order": null,
            "overflow": null,
            "overflow_x": null,
            "overflow_y": null,
            "padding": null,
            "right": null,
            "top": null,
            "visibility": null,
            "width": "20px"
          }
        },
        "aab04c4ba18a4d3c99d2da372048c7ac": {
          "model_module": "@jupyter-widgets/controls",
          "model_name": "ProgressStyleModel",
          "model_module_version": "1.5.0",
          "state": {
            "_model_module": "@jupyter-widgets/controls",
            "_model_module_version": "1.5.0",
            "_model_name": "ProgressStyleModel",
            "_view_count": null,
            "_view_module": "@jupyter-widgets/base",
            "_view_module_version": "1.2.0",
            "_view_name": "StyleView",
            "bar_color": null,
            "description_width": ""
          }
        },
        "3b6a3bd4a2c640aab8c6e598810a4f65": {
          "model_module": "@jupyter-widgets/base",
          "model_name": "LayoutModel",
          "model_module_version": "1.2.0",
          "state": {
            "_model_module": "@jupyter-widgets/base",
            "_model_module_version": "1.2.0",
            "_model_name": "LayoutModel",
            "_view_count": null,
            "_view_module": "@jupyter-widgets/base",
            "_view_module_version": "1.2.0",
            "_view_name": "LayoutView",
            "align_content": null,
            "align_items": null,
            "align_self": null,
            "border": null,
            "bottom": null,
            "display": null,
            "flex": null,
            "flex_flow": null,
            "grid_area": null,
            "grid_auto_columns": null,
            "grid_auto_flow": null,
            "grid_auto_rows": null,
            "grid_column": null,
            "grid_gap": null,
            "grid_row": null,
            "grid_template_areas": null,
            "grid_template_columns": null,
            "grid_template_rows": null,
            "height": null,
            "justify_content": null,
            "justify_items": null,
            "left": null,
            "margin": null,
            "max_height": null,
            "max_width": null,
            "min_height": null,
            "min_width": null,
            "object_fit": null,
            "object_position": null,
            "order": null,
            "overflow": null,
            "overflow_x": null,
            "overflow_y": null,
            "padding": null,
            "right": null,
            "top": null,
            "visibility": null,
            "width": null
          }
        },
        "ef10fc6ed1ea4d86a292ac6964bb7829": {
          "model_module": "@jupyter-widgets/controls",
          "model_name": "DescriptionStyleModel",
          "model_module_version": "1.5.0",
          "state": {
            "_model_module": "@jupyter-widgets/controls",
            "_model_module_version": "1.5.0",
            "_model_name": "DescriptionStyleModel",
            "_view_count": null,
            "_view_module": "@jupyter-widgets/base",
            "_view_module_version": "1.2.0",
            "_view_name": "StyleView",
            "description_width": ""
          }
        },
        "cb6d125a142640cd8e9672c8aafb83fa": {
          "model_module": "@jupyter-widgets/controls",
          "model_name": "HBoxModel",
          "model_module_version": "1.5.0",
          "state": {
            "_dom_classes": [],
            "_model_module": "@jupyter-widgets/controls",
            "_model_module_version": "1.5.0",
            "_model_name": "HBoxModel",
            "_view_count": null,
            "_view_module": "@jupyter-widgets/controls",
            "_view_module_version": "1.5.0",
            "_view_name": "HBoxView",
            "box_style": "",
            "children": [
              "IPY_MODEL_9265d4de9f1c427f9b9a5ba3ae0e2d11",
              "IPY_MODEL_ad93dca6119e42efba5d7cc09f264cb8",
              "IPY_MODEL_325c0c98f2c04ff1b12acf5a1fd2f95e"
            ],
            "layout": "IPY_MODEL_8147a34a998946cf865d65d673680ceb"
          }
        },
        "9265d4de9f1c427f9b9a5ba3ae0e2d11": {
          "model_module": "@jupyter-widgets/controls",
          "model_name": "HTMLModel",
          "model_module_version": "1.5.0",
          "state": {
            "_dom_classes": [],
            "_model_module": "@jupyter-widgets/controls",
            "_model_module_version": "1.5.0",
            "_model_name": "HTMLModel",
            "_view_count": null,
            "_view_module": "@jupyter-widgets/controls",
            "_view_module_version": "1.5.0",
            "_view_name": "HTMLView",
            "description": "",
            "description_tooltip": null,
            "layout": "IPY_MODEL_b42255234af24eec8b83619b2b0bf724",
            "placeholder": "​",
            "style": "IPY_MODEL_39eaf8b9214a4ca8944fde49b0e6b755",
            "value": "Map: 100%"
          }
        },
        "ad93dca6119e42efba5d7cc09f264cb8": {
          "model_module": "@jupyter-widgets/controls",
          "model_name": "FloatProgressModel",
          "model_module_version": "1.5.0",
          "state": {
            "_dom_classes": [],
            "_model_module": "@jupyter-widgets/controls",
            "_model_module_version": "1.5.0",
            "_model_name": "FloatProgressModel",
            "_view_count": null,
            "_view_module": "@jupyter-widgets/controls",
            "_view_module_version": "1.5.0",
            "_view_name": "ProgressView",
            "bar_style": "success",
            "description": "",
            "description_tooltip": null,
            "layout": "IPY_MODEL_dcea7898591a4130b036517f65605b49",
            "max": 120000,
            "min": 0,
            "orientation": "horizontal",
            "style": "IPY_MODEL_5b1cf1a35ad74f769a40abc2640d1091",
            "value": 120000
          }
        },
        "325c0c98f2c04ff1b12acf5a1fd2f95e": {
          "model_module": "@jupyter-widgets/controls",
          "model_name": "HTMLModel",
          "model_module_version": "1.5.0",
          "state": {
            "_dom_classes": [],
            "_model_module": "@jupyter-widgets/controls",
            "_model_module_version": "1.5.0",
            "_model_name": "HTMLModel",
            "_view_count": null,
            "_view_module": "@jupyter-widgets/controls",
            "_view_module_version": "1.5.0",
            "_view_name": "HTMLView",
            "description": "",
            "description_tooltip": null,
            "layout": "IPY_MODEL_1385e76ae1104135a890123ef505a3de",
            "placeholder": "​",
            "style": "IPY_MODEL_8262199903a344e68b86560cb9ef31d8",
            "value": " 120000/120000 [00:10&lt;00:00, 12129.67 examples/s]"
          }
        },
        "8147a34a998946cf865d65d673680ceb": {
          "model_module": "@jupyter-widgets/base",
          "model_name": "LayoutModel",
          "model_module_version": "1.2.0",
          "state": {
            "_model_module": "@jupyter-widgets/base",
            "_model_module_version": "1.2.0",
            "_model_name": "LayoutModel",
            "_view_count": null,
            "_view_module": "@jupyter-widgets/base",
            "_view_module_version": "1.2.0",
            "_view_name": "LayoutView",
            "align_content": null,
            "align_items": null,
            "align_self": null,
            "border": null,
            "bottom": null,
            "display": null,
            "flex": null,
            "flex_flow": null,
            "grid_area": null,
            "grid_auto_columns": null,
            "grid_auto_flow": null,
            "grid_auto_rows": null,
            "grid_column": null,
            "grid_gap": null,
            "grid_row": null,
            "grid_template_areas": null,
            "grid_template_columns": null,
            "grid_template_rows": null,
            "height": null,
            "justify_content": null,
            "justify_items": null,
            "left": null,
            "margin": null,
            "max_height": null,
            "max_width": null,
            "min_height": null,
            "min_width": null,
            "object_fit": null,
            "object_position": null,
            "order": null,
            "overflow": null,
            "overflow_x": null,
            "overflow_y": null,
            "padding": null,
            "right": null,
            "top": null,
            "visibility": null,
            "width": null
          }
        },
        "b42255234af24eec8b83619b2b0bf724": {
          "model_module": "@jupyter-widgets/base",
          "model_name": "LayoutModel",
          "model_module_version": "1.2.0",
          "state": {
            "_model_module": "@jupyter-widgets/base",
            "_model_module_version": "1.2.0",
            "_model_name": "LayoutModel",
            "_view_count": null,
            "_view_module": "@jupyter-widgets/base",
            "_view_module_version": "1.2.0",
            "_view_name": "LayoutView",
            "align_content": null,
            "align_items": null,
            "align_self": null,
            "border": null,
            "bottom": null,
            "display": null,
            "flex": null,
            "flex_flow": null,
            "grid_area": null,
            "grid_auto_columns": null,
            "grid_auto_flow": null,
            "grid_auto_rows": null,
            "grid_column": null,
            "grid_gap": null,
            "grid_row": null,
            "grid_template_areas": null,
            "grid_template_columns": null,
            "grid_template_rows": null,
            "height": null,
            "justify_content": null,
            "justify_items": null,
            "left": null,
            "margin": null,
            "max_height": null,
            "max_width": null,
            "min_height": null,
            "min_width": null,
            "object_fit": null,
            "object_position": null,
            "order": null,
            "overflow": null,
            "overflow_x": null,
            "overflow_y": null,
            "padding": null,
            "right": null,
            "top": null,
            "visibility": null,
            "width": null
          }
        },
        "39eaf8b9214a4ca8944fde49b0e6b755": {
          "model_module": "@jupyter-widgets/controls",
          "model_name": "DescriptionStyleModel",
          "model_module_version": "1.5.0",
          "state": {
            "_model_module": "@jupyter-widgets/controls",
            "_model_module_version": "1.5.0",
            "_model_name": "DescriptionStyleModel",
            "_view_count": null,
            "_view_module": "@jupyter-widgets/base",
            "_view_module_version": "1.2.0",
            "_view_name": "StyleView",
            "description_width": ""
          }
        },
        "dcea7898591a4130b036517f65605b49": {
          "model_module": "@jupyter-widgets/base",
          "model_name": "LayoutModel",
          "model_module_version": "1.2.0",
          "state": {
            "_model_module": "@jupyter-widgets/base",
            "_model_module_version": "1.2.0",
            "_model_name": "LayoutModel",
            "_view_count": null,
            "_view_module": "@jupyter-widgets/base",
            "_view_module_version": "1.2.0",
            "_view_name": "LayoutView",
            "align_content": null,
            "align_items": null,
            "align_self": null,
            "border": null,
            "bottom": null,
            "display": null,
            "flex": null,
            "flex_flow": null,
            "grid_area": null,
            "grid_auto_columns": null,
            "grid_auto_flow": null,
            "grid_auto_rows": null,
            "grid_column": null,
            "grid_gap": null,
            "grid_row": null,
            "grid_template_areas": null,
            "grid_template_columns": null,
            "grid_template_rows": null,
            "height": null,
            "justify_content": null,
            "justify_items": null,
            "left": null,
            "margin": null,
            "max_height": null,
            "max_width": null,
            "min_height": null,
            "min_width": null,
            "object_fit": null,
            "object_position": null,
            "order": null,
            "overflow": null,
            "overflow_x": null,
            "overflow_y": null,
            "padding": null,
            "right": null,
            "top": null,
            "visibility": null,
            "width": null
          }
        },
        "5b1cf1a35ad74f769a40abc2640d1091": {
          "model_module": "@jupyter-widgets/controls",
          "model_name": "ProgressStyleModel",
          "model_module_version": "1.5.0",
          "state": {
            "_model_module": "@jupyter-widgets/controls",
            "_model_module_version": "1.5.0",
            "_model_name": "ProgressStyleModel",
            "_view_count": null,
            "_view_module": "@jupyter-widgets/base",
            "_view_module_version": "1.2.0",
            "_view_name": "StyleView",
            "bar_color": null,
            "description_width": ""
          }
        },
        "1385e76ae1104135a890123ef505a3de": {
          "model_module": "@jupyter-widgets/base",
          "model_name": "LayoutModel",
          "model_module_version": "1.2.0",
          "state": {
            "_model_module": "@jupyter-widgets/base",
            "_model_module_version": "1.2.0",
            "_model_name": "LayoutModel",
            "_view_count": null,
            "_view_module": "@jupyter-widgets/base",
            "_view_module_version": "1.2.0",
            "_view_name": "LayoutView",
            "align_content": null,
            "align_items": null,
            "align_self": null,
            "border": null,
            "bottom": null,
            "display": null,
            "flex": null,
            "flex_flow": null,
            "grid_area": null,
            "grid_auto_columns": null,
            "grid_auto_flow": null,
            "grid_auto_rows": null,
            "grid_column": null,
            "grid_gap": null,
            "grid_row": null,
            "grid_template_areas": null,
            "grid_template_columns": null,
            "grid_template_rows": null,
            "height": null,
            "justify_content": null,
            "justify_items": null,
            "left": null,
            "margin": null,
            "max_height": null,
            "max_width": null,
            "min_height": null,
            "min_width": null,
            "object_fit": null,
            "object_position": null,
            "order": null,
            "overflow": null,
            "overflow_x": null,
            "overflow_y": null,
            "padding": null,
            "right": null,
            "top": null,
            "visibility": null,
            "width": null
          }
        },
        "8262199903a344e68b86560cb9ef31d8": {
          "model_module": "@jupyter-widgets/controls",
          "model_name": "DescriptionStyleModel",
          "model_module_version": "1.5.0",
          "state": {
            "_model_module": "@jupyter-widgets/controls",
            "_model_module_version": "1.5.0",
            "_model_name": "DescriptionStyleModel",
            "_view_count": null,
            "_view_module": "@jupyter-widgets/base",
            "_view_module_version": "1.2.0",
            "_view_name": "StyleView",
            "description_width": ""
          }
        },
        "64c5e6b600eb4ee59241011a0df92721": {
          "model_module": "@jupyter-widgets/controls",
          "model_name": "HBoxModel",
          "model_module_version": "1.5.0",
          "state": {
            "_dom_classes": [],
            "_model_module": "@jupyter-widgets/controls",
            "_model_module_version": "1.5.0",
            "_model_name": "HBoxModel",
            "_view_count": null,
            "_view_module": "@jupyter-widgets/controls",
            "_view_module_version": "1.5.0",
            "_view_name": "HBoxView",
            "box_style": "",
            "children": [
              "IPY_MODEL_c942e9545c7d403e9139bb87eb4b4be0",
              "IPY_MODEL_729fc578f1124c90b2d7f63c74a4e282",
              "IPY_MODEL_652fb902f3904b3b93a82fd23f2d062c"
            ],
            "layout": "IPY_MODEL_ff801ba54566469981cb38608756ad46"
          }
        },
        "c942e9545c7d403e9139bb87eb4b4be0": {
          "model_module": "@jupyter-widgets/controls",
          "model_name": "HTMLModel",
          "model_module_version": "1.5.0",
          "state": {
            "_dom_classes": [],
            "_model_module": "@jupyter-widgets/controls",
            "_model_module_version": "1.5.0",
            "_model_name": "HTMLModel",
            "_view_count": null,
            "_view_module": "@jupyter-widgets/controls",
            "_view_module_version": "1.5.0",
            "_view_name": "HTMLView",
            "description": "",
            "description_tooltip": null,
            "layout": "IPY_MODEL_aa73dcadb7fb4f0293b6067fcd728926",
            "placeholder": "​",
            "style": "IPY_MODEL_f55b016a483e47ae83a64d7da2c24542",
            "value": "Map: 100%"
          }
        },
        "729fc578f1124c90b2d7f63c74a4e282": {
          "model_module": "@jupyter-widgets/controls",
          "model_name": "FloatProgressModel",
          "model_module_version": "1.5.0",
          "state": {
            "_dom_classes": [],
            "_model_module": "@jupyter-widgets/controls",
            "_model_module_version": "1.5.0",
            "_model_name": "FloatProgressModel",
            "_view_count": null,
            "_view_module": "@jupyter-widgets/controls",
            "_view_module_version": "1.5.0",
            "_view_name": "ProgressView",
            "bar_style": "success",
            "description": "",
            "description_tooltip": null,
            "layout": "IPY_MODEL_5232149fc71b482cb301407e29911194",
            "max": 7600,
            "min": 0,
            "orientation": "horizontal",
            "style": "IPY_MODEL_cfe1cfffc2f14fc4bada761f38379d48",
            "value": 7600
          }
        },
        "652fb902f3904b3b93a82fd23f2d062c": {
          "model_module": "@jupyter-widgets/controls",
          "model_name": "HTMLModel",
          "model_module_version": "1.5.0",
          "state": {
            "_dom_classes": [],
            "_model_module": "@jupyter-widgets/controls",
            "_model_module_version": "1.5.0",
            "_model_name": "HTMLModel",
            "_view_count": null,
            "_view_module": "@jupyter-widgets/controls",
            "_view_module_version": "1.5.0",
            "_view_name": "HTMLView",
            "description": "",
            "description_tooltip": null,
            "layout": "IPY_MODEL_a0be420e7a854d3a91abfa1d8606f69c",
            "placeholder": "​",
            "style": "IPY_MODEL_47eb596a404c4d6f8cb240095e6f84e4",
            "value": " 7600/7600 [00:00&lt;00:00, 13668.54 examples/s]"
          }
        },
        "ff801ba54566469981cb38608756ad46": {
          "model_module": "@jupyter-widgets/base",
          "model_name": "LayoutModel",
          "model_module_version": "1.2.0",
          "state": {
            "_model_module": "@jupyter-widgets/base",
            "_model_module_version": "1.2.0",
            "_model_name": "LayoutModel",
            "_view_count": null,
            "_view_module": "@jupyter-widgets/base",
            "_view_module_version": "1.2.0",
            "_view_name": "LayoutView",
            "align_content": null,
            "align_items": null,
            "align_self": null,
            "border": null,
            "bottom": null,
            "display": null,
            "flex": null,
            "flex_flow": null,
            "grid_area": null,
            "grid_auto_columns": null,
            "grid_auto_flow": null,
            "grid_auto_rows": null,
            "grid_column": null,
            "grid_gap": null,
            "grid_row": null,
            "grid_template_areas": null,
            "grid_template_columns": null,
            "grid_template_rows": null,
            "height": null,
            "justify_content": null,
            "justify_items": null,
            "left": null,
            "margin": null,
            "max_height": null,
            "max_width": null,
            "min_height": null,
            "min_width": null,
            "object_fit": null,
            "object_position": null,
            "order": null,
            "overflow": null,
            "overflow_x": null,
            "overflow_y": null,
            "padding": null,
            "right": null,
            "top": null,
            "visibility": null,
            "width": null
          }
        },
        "aa73dcadb7fb4f0293b6067fcd728926": {
          "model_module": "@jupyter-widgets/base",
          "model_name": "LayoutModel",
          "model_module_version": "1.2.0",
          "state": {
            "_model_module": "@jupyter-widgets/base",
            "_model_module_version": "1.2.0",
            "_model_name": "LayoutModel",
            "_view_count": null,
            "_view_module": "@jupyter-widgets/base",
            "_view_module_version": "1.2.0",
            "_view_name": "LayoutView",
            "align_content": null,
            "align_items": null,
            "align_self": null,
            "border": null,
            "bottom": null,
            "display": null,
            "flex": null,
            "flex_flow": null,
            "grid_area": null,
            "grid_auto_columns": null,
            "grid_auto_flow": null,
            "grid_auto_rows": null,
            "grid_column": null,
            "grid_gap": null,
            "grid_row": null,
            "grid_template_areas": null,
            "grid_template_columns": null,
            "grid_template_rows": null,
            "height": null,
            "justify_content": null,
            "justify_items": null,
            "left": null,
            "margin": null,
            "max_height": null,
            "max_width": null,
            "min_height": null,
            "min_width": null,
            "object_fit": null,
            "object_position": null,
            "order": null,
            "overflow": null,
            "overflow_x": null,
            "overflow_y": null,
            "padding": null,
            "right": null,
            "top": null,
            "visibility": null,
            "width": null
          }
        },
        "f55b016a483e47ae83a64d7da2c24542": {
          "model_module": "@jupyter-widgets/controls",
          "model_name": "DescriptionStyleModel",
          "model_module_version": "1.5.0",
          "state": {
            "_model_module": "@jupyter-widgets/controls",
            "_model_module_version": "1.5.0",
            "_model_name": "DescriptionStyleModel",
            "_view_count": null,
            "_view_module": "@jupyter-widgets/base",
            "_view_module_version": "1.2.0",
            "_view_name": "StyleView",
            "description_width": ""
          }
        },
        "5232149fc71b482cb301407e29911194": {
          "model_module": "@jupyter-widgets/base",
          "model_name": "LayoutModel",
          "model_module_version": "1.2.0",
          "state": {
            "_model_module": "@jupyter-widgets/base",
            "_model_module_version": "1.2.0",
            "_model_name": "LayoutModel",
            "_view_count": null,
            "_view_module": "@jupyter-widgets/base",
            "_view_module_version": "1.2.0",
            "_view_name": "LayoutView",
            "align_content": null,
            "align_items": null,
            "align_self": null,
            "border": null,
            "bottom": null,
            "display": null,
            "flex": null,
            "flex_flow": null,
            "grid_area": null,
            "grid_auto_columns": null,
            "grid_auto_flow": null,
            "grid_auto_rows": null,
            "grid_column": null,
            "grid_gap": null,
            "grid_row": null,
            "grid_template_areas": null,
            "grid_template_columns": null,
            "grid_template_rows": null,
            "height": null,
            "justify_content": null,
            "justify_items": null,
            "left": null,
            "margin": null,
            "max_height": null,
            "max_width": null,
            "min_height": null,
            "min_width": null,
            "object_fit": null,
            "object_position": null,
            "order": null,
            "overflow": null,
            "overflow_x": null,
            "overflow_y": null,
            "padding": null,
            "right": null,
            "top": null,
            "visibility": null,
            "width": null
          }
        },
        "cfe1cfffc2f14fc4bada761f38379d48": {
          "model_module": "@jupyter-widgets/controls",
          "model_name": "ProgressStyleModel",
          "model_module_version": "1.5.0",
          "state": {
            "_model_module": "@jupyter-widgets/controls",
            "_model_module_version": "1.5.0",
            "_model_name": "ProgressStyleModel",
            "_view_count": null,
            "_view_module": "@jupyter-widgets/base",
            "_view_module_version": "1.2.0",
            "_view_name": "StyleView",
            "bar_color": null,
            "description_width": ""
          }
        },
        "a0be420e7a854d3a91abfa1d8606f69c": {
          "model_module": "@jupyter-widgets/base",
          "model_name": "LayoutModel",
          "model_module_version": "1.2.0",
          "state": {
            "_model_module": "@jupyter-widgets/base",
            "_model_module_version": "1.2.0",
            "_model_name": "LayoutModel",
            "_view_count": null,
            "_view_module": "@jupyter-widgets/base",
            "_view_module_version": "1.2.0",
            "_view_name": "LayoutView",
            "align_content": null,
            "align_items": null,
            "align_self": null,
            "border": null,
            "bottom": null,
            "display": null,
            "flex": null,
            "flex_flow": null,
            "grid_area": null,
            "grid_auto_columns": null,
            "grid_auto_flow": null,
            "grid_auto_rows": null,
            "grid_column": null,
            "grid_gap": null,
            "grid_row": null,
            "grid_template_areas": null,
            "grid_template_columns": null,
            "grid_template_rows": null,
            "height": null,
            "justify_content": null,
            "justify_items": null,
            "left": null,
            "margin": null,
            "max_height": null,
            "max_width": null,
            "min_height": null,
            "min_width": null,
            "object_fit": null,
            "object_position": null,
            "order": null,
            "overflow": null,
            "overflow_x": null,
            "overflow_y": null,
            "padding": null,
            "right": null,
            "top": null,
            "visibility": null,
            "width": null
          }
        },
        "47eb596a404c4d6f8cb240095e6f84e4": {
          "model_module": "@jupyter-widgets/controls",
          "model_name": "DescriptionStyleModel",
          "model_module_version": "1.5.0",
          "state": {
            "_model_module": "@jupyter-widgets/controls",
            "_model_module_version": "1.5.0",
            "_model_name": "DescriptionStyleModel",
            "_view_count": null,
            "_view_module": "@jupyter-widgets/base",
            "_view_module_version": "1.2.0",
            "_view_name": "StyleView",
            "description_width": ""
          }
        },
        "654b556b03b54764bae167db9684c475": {
          "model_module": "@jupyter-widgets/controls",
          "model_name": "HBoxModel",
          "model_module_version": "1.5.0",
          "state": {
            "_dom_classes": [],
            "_model_module": "@jupyter-widgets/controls",
            "_model_module_version": "1.5.0",
            "_model_name": "HBoxModel",
            "_view_count": null,
            "_view_module": "@jupyter-widgets/controls",
            "_view_module_version": "1.5.0",
            "_view_name": "HBoxView",
            "box_style": "",
            "children": [
              "IPY_MODEL_a432982612a544f6a5284314f67c2d9e",
              "IPY_MODEL_21b2d2894dae4e538fbdefadbc9899ba",
              "IPY_MODEL_1eb98b3efa2f4502b8bfa83916aa75df"
            ],
            "layout": "IPY_MODEL_df3222abf1954d63a01d6d0ca4a2de4c"
          }
        },
        "a432982612a544f6a5284314f67c2d9e": {
          "model_module": "@jupyter-widgets/controls",
          "model_name": "HTMLModel",
          "model_module_version": "1.5.0",
          "state": {
            "_dom_classes": [],
            "_model_module": "@jupyter-widgets/controls",
            "_model_module_version": "1.5.0",
            "_model_name": "HTMLModel",
            "_view_count": null,
            "_view_module": "@jupyter-widgets/controls",
            "_view_module_version": "1.5.0",
            "_view_name": "HTMLView",
            "description": "",
            "description_tooltip": null,
            "layout": "IPY_MODEL_52bd79f1f2c64ccebe392a5700ac3e8d",
            "placeholder": "​",
            "style": "IPY_MODEL_8fd1753bd956405984d5e3c41c2da44b",
            "value": "tokenizer_config.json: 100%"
          }
        },
        "21b2d2894dae4e538fbdefadbc9899ba": {
          "model_module": "@jupyter-widgets/controls",
          "model_name": "FloatProgressModel",
          "model_module_version": "1.5.0",
          "state": {
            "_dom_classes": [],
            "_model_module": "@jupyter-widgets/controls",
            "_model_module_version": "1.5.0",
            "_model_name": "FloatProgressModel",
            "_view_count": null,
            "_view_module": "@jupyter-widgets/controls",
            "_view_module_version": "1.5.0",
            "_view_name": "ProgressView",
            "bar_style": "success",
            "description": "",
            "description_tooltip": null,
            "layout": "IPY_MODEL_fa97fac1fd23491c81975384ca85d767",
            "max": 48,
            "min": 0,
            "orientation": "horizontal",
            "style": "IPY_MODEL_6fe718dd71f54c52a6be785b151bc07c",
            "value": 48
          }
        },
        "1eb98b3efa2f4502b8bfa83916aa75df": {
          "model_module": "@jupyter-widgets/controls",
          "model_name": "HTMLModel",
          "model_module_version": "1.5.0",
          "state": {
            "_dom_classes": [],
            "_model_module": "@jupyter-widgets/controls",
            "_model_module_version": "1.5.0",
            "_model_name": "HTMLModel",
            "_view_count": null,
            "_view_module": "@jupyter-widgets/controls",
            "_view_module_version": "1.5.0",
            "_view_name": "HTMLView",
            "description": "",
            "description_tooltip": null,
            "layout": "IPY_MODEL_b555640ff92048d3ada4a2ad5afaddb5",
            "placeholder": "​",
            "style": "IPY_MODEL_5ffcb5aab6e44b9482e694c786e519e8",
            "value": " 48.0/48.0 [00:00&lt;00:00, 4.09kB/s]"
          }
        },
        "df3222abf1954d63a01d6d0ca4a2de4c": {
          "model_module": "@jupyter-widgets/base",
          "model_name": "LayoutModel",
          "model_module_version": "1.2.0",
          "state": {
            "_model_module": "@jupyter-widgets/base",
            "_model_module_version": "1.2.0",
            "_model_name": "LayoutModel",
            "_view_count": null,
            "_view_module": "@jupyter-widgets/base",
            "_view_module_version": "1.2.0",
            "_view_name": "LayoutView",
            "align_content": null,
            "align_items": null,
            "align_self": null,
            "border": null,
            "bottom": null,
            "display": null,
            "flex": null,
            "flex_flow": null,
            "grid_area": null,
            "grid_auto_columns": null,
            "grid_auto_flow": null,
            "grid_auto_rows": null,
            "grid_column": null,
            "grid_gap": null,
            "grid_row": null,
            "grid_template_areas": null,
            "grid_template_columns": null,
            "grid_template_rows": null,
            "height": null,
            "justify_content": null,
            "justify_items": null,
            "left": null,
            "margin": null,
            "max_height": null,
            "max_width": null,
            "min_height": null,
            "min_width": null,
            "object_fit": null,
            "object_position": null,
            "order": null,
            "overflow": null,
            "overflow_x": null,
            "overflow_y": null,
            "padding": null,
            "right": null,
            "top": null,
            "visibility": null,
            "width": null
          }
        },
        "52bd79f1f2c64ccebe392a5700ac3e8d": {
          "model_module": "@jupyter-widgets/base",
          "model_name": "LayoutModel",
          "model_module_version": "1.2.0",
          "state": {
            "_model_module": "@jupyter-widgets/base",
            "_model_module_version": "1.2.0",
            "_model_name": "LayoutModel",
            "_view_count": null,
            "_view_module": "@jupyter-widgets/base",
            "_view_module_version": "1.2.0",
            "_view_name": "LayoutView",
            "align_content": null,
            "align_items": null,
            "align_self": null,
            "border": null,
            "bottom": null,
            "display": null,
            "flex": null,
            "flex_flow": null,
            "grid_area": null,
            "grid_auto_columns": null,
            "grid_auto_flow": null,
            "grid_auto_rows": null,
            "grid_column": null,
            "grid_gap": null,
            "grid_row": null,
            "grid_template_areas": null,
            "grid_template_columns": null,
            "grid_template_rows": null,
            "height": null,
            "justify_content": null,
            "justify_items": null,
            "left": null,
            "margin": null,
            "max_height": null,
            "max_width": null,
            "min_height": null,
            "min_width": null,
            "object_fit": null,
            "object_position": null,
            "order": null,
            "overflow": null,
            "overflow_x": null,
            "overflow_y": null,
            "padding": null,
            "right": null,
            "top": null,
            "visibility": null,
            "width": null
          }
        },
        "8fd1753bd956405984d5e3c41c2da44b": {
          "model_module": "@jupyter-widgets/controls",
          "model_name": "DescriptionStyleModel",
          "model_module_version": "1.5.0",
          "state": {
            "_model_module": "@jupyter-widgets/controls",
            "_model_module_version": "1.5.0",
            "_model_name": "DescriptionStyleModel",
            "_view_count": null,
            "_view_module": "@jupyter-widgets/base",
            "_view_module_version": "1.2.0",
            "_view_name": "StyleView",
            "description_width": ""
          }
        },
        "fa97fac1fd23491c81975384ca85d767": {
          "model_module": "@jupyter-widgets/base",
          "model_name": "LayoutModel",
          "model_module_version": "1.2.0",
          "state": {
            "_model_module": "@jupyter-widgets/base",
            "_model_module_version": "1.2.0",
            "_model_name": "LayoutModel",
            "_view_count": null,
            "_view_module": "@jupyter-widgets/base",
            "_view_module_version": "1.2.0",
            "_view_name": "LayoutView",
            "align_content": null,
            "align_items": null,
            "align_self": null,
            "border": null,
            "bottom": null,
            "display": null,
            "flex": null,
            "flex_flow": null,
            "grid_area": null,
            "grid_auto_columns": null,
            "grid_auto_flow": null,
            "grid_auto_rows": null,
            "grid_column": null,
            "grid_gap": null,
            "grid_row": null,
            "grid_template_areas": null,
            "grid_template_columns": null,
            "grid_template_rows": null,
            "height": null,
            "justify_content": null,
            "justify_items": null,
            "left": null,
            "margin": null,
            "max_height": null,
            "max_width": null,
            "min_height": null,
            "min_width": null,
            "object_fit": null,
            "object_position": null,
            "order": null,
            "overflow": null,
            "overflow_x": null,
            "overflow_y": null,
            "padding": null,
            "right": null,
            "top": null,
            "visibility": null,
            "width": null
          }
        },
        "6fe718dd71f54c52a6be785b151bc07c": {
          "model_module": "@jupyter-widgets/controls",
          "model_name": "ProgressStyleModel",
          "model_module_version": "1.5.0",
          "state": {
            "_model_module": "@jupyter-widgets/controls",
            "_model_module_version": "1.5.0",
            "_model_name": "ProgressStyleModel",
            "_view_count": null,
            "_view_module": "@jupyter-widgets/base",
            "_view_module_version": "1.2.0",
            "_view_name": "StyleView",
            "bar_color": null,
            "description_width": ""
          }
        },
        "b555640ff92048d3ada4a2ad5afaddb5": {
          "model_module": "@jupyter-widgets/base",
          "model_name": "LayoutModel",
          "model_module_version": "1.2.0",
          "state": {
            "_model_module": "@jupyter-widgets/base",
            "_model_module_version": "1.2.0",
            "_model_name": "LayoutModel",
            "_view_count": null,
            "_view_module": "@jupyter-widgets/base",
            "_view_module_version": "1.2.0",
            "_view_name": "LayoutView",
            "align_content": null,
            "align_items": null,
            "align_self": null,
            "border": null,
            "bottom": null,
            "display": null,
            "flex": null,
            "flex_flow": null,
            "grid_area": null,
            "grid_auto_columns": null,
            "grid_auto_flow": null,
            "grid_auto_rows": null,
            "grid_column": null,
            "grid_gap": null,
            "grid_row": null,
            "grid_template_areas": null,
            "grid_template_columns": null,
            "grid_template_rows": null,
            "height": null,
            "justify_content": null,
            "justify_items": null,
            "left": null,
            "margin": null,
            "max_height": null,
            "max_width": null,
            "min_height": null,
            "min_width": null,
            "object_fit": null,
            "object_position": null,
            "order": null,
            "overflow": null,
            "overflow_x": null,
            "overflow_y": null,
            "padding": null,
            "right": null,
            "top": null,
            "visibility": null,
            "width": null
          }
        },
        "5ffcb5aab6e44b9482e694c786e519e8": {
          "model_module": "@jupyter-widgets/controls",
          "model_name": "DescriptionStyleModel",
          "model_module_version": "1.5.0",
          "state": {
            "_model_module": "@jupyter-widgets/controls",
            "_model_module_version": "1.5.0",
            "_model_name": "DescriptionStyleModel",
            "_view_count": null,
            "_view_module": "@jupyter-widgets/base",
            "_view_module_version": "1.2.0",
            "_view_name": "StyleView",
            "description_width": ""
          }
        },
        "c39e118f61cc4dcc97a020fef9572d95": {
          "model_module": "@jupyter-widgets/controls",
          "model_name": "HBoxModel",
          "model_module_version": "1.5.0",
          "state": {
            "_dom_classes": [],
            "_model_module": "@jupyter-widgets/controls",
            "_model_module_version": "1.5.0",
            "_model_name": "HBoxModel",
            "_view_count": null,
            "_view_module": "@jupyter-widgets/controls",
            "_view_module_version": "1.5.0",
            "_view_name": "HBoxView",
            "box_style": "",
            "children": [
              "IPY_MODEL_ff49cd387609443994c68181a3bd555e",
              "IPY_MODEL_da5cf258ff0c4f4f909fdb796155d8ec",
              "IPY_MODEL_7341df3ad66446db964a31aca4857efb"
            ],
            "layout": "IPY_MODEL_39fff3faae2e4401a1d2ae31e32ffab6"
          }
        },
        "ff49cd387609443994c68181a3bd555e": {
          "model_module": "@jupyter-widgets/controls",
          "model_name": "HTMLModel",
          "model_module_version": "1.5.0",
          "state": {
            "_dom_classes": [],
            "_model_module": "@jupyter-widgets/controls",
            "_model_module_version": "1.5.0",
            "_model_name": "HTMLModel",
            "_view_count": null,
            "_view_module": "@jupyter-widgets/controls",
            "_view_module_version": "1.5.0",
            "_view_name": "HTMLView",
            "description": "",
            "description_tooltip": null,
            "layout": "IPY_MODEL_45d0bf57b7d54b458b98b76771ab0306",
            "placeholder": "​",
            "style": "IPY_MODEL_05e96bd46ae248ce9819d587409d9248",
            "value": "config.json: 100%"
          }
        },
        "da5cf258ff0c4f4f909fdb796155d8ec": {
          "model_module": "@jupyter-widgets/controls",
          "model_name": "FloatProgressModel",
          "model_module_version": "1.5.0",
          "state": {
            "_dom_classes": [],
            "_model_module": "@jupyter-widgets/controls",
            "_model_module_version": "1.5.0",
            "_model_name": "FloatProgressModel",
            "_view_count": null,
            "_view_module": "@jupyter-widgets/controls",
            "_view_module_version": "1.5.0",
            "_view_name": "ProgressView",
            "bar_style": "success",
            "description": "",
            "description_tooltip": null,
            "layout": "IPY_MODEL_45834d94c2b844fa8a23b3a82e0cd326",
            "max": 570,
            "min": 0,
            "orientation": "horizontal",
            "style": "IPY_MODEL_d933a3a51ed54a3f9767351c979a1df5",
            "value": 570
          }
        },
        "7341df3ad66446db964a31aca4857efb": {
          "model_module": "@jupyter-widgets/controls",
          "model_name": "HTMLModel",
          "model_module_version": "1.5.0",
          "state": {
            "_dom_classes": [],
            "_model_module": "@jupyter-widgets/controls",
            "_model_module_version": "1.5.0",
            "_model_name": "HTMLModel",
            "_view_count": null,
            "_view_module": "@jupyter-widgets/controls",
            "_view_module_version": "1.5.0",
            "_view_name": "HTMLView",
            "description": "",
            "description_tooltip": null,
            "layout": "IPY_MODEL_74bc5195d6704324b08e2e0088807b22",
            "placeholder": "​",
            "style": "IPY_MODEL_ace8ce401dc246039d6a40b364d8b431",
            "value": " 570/570 [00:00&lt;00:00, 45.7kB/s]"
          }
        },
        "39fff3faae2e4401a1d2ae31e32ffab6": {
          "model_module": "@jupyter-widgets/base",
          "model_name": "LayoutModel",
          "model_module_version": "1.2.0",
          "state": {
            "_model_module": "@jupyter-widgets/base",
            "_model_module_version": "1.2.0",
            "_model_name": "LayoutModel",
            "_view_count": null,
            "_view_module": "@jupyter-widgets/base",
            "_view_module_version": "1.2.0",
            "_view_name": "LayoutView",
            "align_content": null,
            "align_items": null,
            "align_self": null,
            "border": null,
            "bottom": null,
            "display": null,
            "flex": null,
            "flex_flow": null,
            "grid_area": null,
            "grid_auto_columns": null,
            "grid_auto_flow": null,
            "grid_auto_rows": null,
            "grid_column": null,
            "grid_gap": null,
            "grid_row": null,
            "grid_template_areas": null,
            "grid_template_columns": null,
            "grid_template_rows": null,
            "height": null,
            "justify_content": null,
            "justify_items": null,
            "left": null,
            "margin": null,
            "max_height": null,
            "max_width": null,
            "min_height": null,
            "min_width": null,
            "object_fit": null,
            "object_position": null,
            "order": null,
            "overflow": null,
            "overflow_x": null,
            "overflow_y": null,
            "padding": null,
            "right": null,
            "top": null,
            "visibility": null,
            "width": null
          }
        },
        "45d0bf57b7d54b458b98b76771ab0306": {
          "model_module": "@jupyter-widgets/base",
          "model_name": "LayoutModel",
          "model_module_version": "1.2.0",
          "state": {
            "_model_module": "@jupyter-widgets/base",
            "_model_module_version": "1.2.0",
            "_model_name": "LayoutModel",
            "_view_count": null,
            "_view_module": "@jupyter-widgets/base",
            "_view_module_version": "1.2.0",
            "_view_name": "LayoutView",
            "align_content": null,
            "align_items": null,
            "align_self": null,
            "border": null,
            "bottom": null,
            "display": null,
            "flex": null,
            "flex_flow": null,
            "grid_area": null,
            "grid_auto_columns": null,
            "grid_auto_flow": null,
            "grid_auto_rows": null,
            "grid_column": null,
            "grid_gap": null,
            "grid_row": null,
            "grid_template_areas": null,
            "grid_template_columns": null,
            "grid_template_rows": null,
            "height": null,
            "justify_content": null,
            "justify_items": null,
            "left": null,
            "margin": null,
            "max_height": null,
            "max_width": null,
            "min_height": null,
            "min_width": null,
            "object_fit": null,
            "object_position": null,
            "order": null,
            "overflow": null,
            "overflow_x": null,
            "overflow_y": null,
            "padding": null,
            "right": null,
            "top": null,
            "visibility": null,
            "width": null
          }
        },
        "05e96bd46ae248ce9819d587409d9248": {
          "model_module": "@jupyter-widgets/controls",
          "model_name": "DescriptionStyleModel",
          "model_module_version": "1.5.0",
          "state": {
            "_model_module": "@jupyter-widgets/controls",
            "_model_module_version": "1.5.0",
            "_model_name": "DescriptionStyleModel",
            "_view_count": null,
            "_view_module": "@jupyter-widgets/base",
            "_view_module_version": "1.2.0",
            "_view_name": "StyleView",
            "description_width": ""
          }
        },
        "45834d94c2b844fa8a23b3a82e0cd326": {
          "model_module": "@jupyter-widgets/base",
          "model_name": "LayoutModel",
          "model_module_version": "1.2.0",
          "state": {
            "_model_module": "@jupyter-widgets/base",
            "_model_module_version": "1.2.0",
            "_model_name": "LayoutModel",
            "_view_count": null,
            "_view_module": "@jupyter-widgets/base",
            "_view_module_version": "1.2.0",
            "_view_name": "LayoutView",
            "align_content": null,
            "align_items": null,
            "align_self": null,
            "border": null,
            "bottom": null,
            "display": null,
            "flex": null,
            "flex_flow": null,
            "grid_area": null,
            "grid_auto_columns": null,
            "grid_auto_flow": null,
            "grid_auto_rows": null,
            "grid_column": null,
            "grid_gap": null,
            "grid_row": null,
            "grid_template_areas": null,
            "grid_template_columns": null,
            "grid_template_rows": null,
            "height": null,
            "justify_content": null,
            "justify_items": null,
            "left": null,
            "margin": null,
            "max_height": null,
            "max_width": null,
            "min_height": null,
            "min_width": null,
            "object_fit": null,
            "object_position": null,
            "order": null,
            "overflow": null,
            "overflow_x": null,
            "overflow_y": null,
            "padding": null,
            "right": null,
            "top": null,
            "visibility": null,
            "width": null
          }
        },
        "d933a3a51ed54a3f9767351c979a1df5": {
          "model_module": "@jupyter-widgets/controls",
          "model_name": "ProgressStyleModel",
          "model_module_version": "1.5.0",
          "state": {
            "_model_module": "@jupyter-widgets/controls",
            "_model_module_version": "1.5.0",
            "_model_name": "ProgressStyleModel",
            "_view_count": null,
            "_view_module": "@jupyter-widgets/base",
            "_view_module_version": "1.2.0",
            "_view_name": "StyleView",
            "bar_color": null,
            "description_width": ""
          }
        },
        "74bc5195d6704324b08e2e0088807b22": {
          "model_module": "@jupyter-widgets/base",
          "model_name": "LayoutModel",
          "model_module_version": "1.2.0",
          "state": {
            "_model_module": "@jupyter-widgets/base",
            "_model_module_version": "1.2.0",
            "_model_name": "LayoutModel",
            "_view_count": null,
            "_view_module": "@jupyter-widgets/base",
            "_view_module_version": "1.2.0",
            "_view_name": "LayoutView",
            "align_content": null,
            "align_items": null,
            "align_self": null,
            "border": null,
            "bottom": null,
            "display": null,
            "flex": null,
            "flex_flow": null,
            "grid_area": null,
            "grid_auto_columns": null,
            "grid_auto_flow": null,
            "grid_auto_rows": null,
            "grid_column": null,
            "grid_gap": null,
            "grid_row": null,
            "grid_template_areas": null,
            "grid_template_columns": null,
            "grid_template_rows": null,
            "height": null,
            "justify_content": null,
            "justify_items": null,
            "left": null,
            "margin": null,
            "max_height": null,
            "max_width": null,
            "min_height": null,
            "min_width": null,
            "object_fit": null,
            "object_position": null,
            "order": null,
            "overflow": null,
            "overflow_x": null,
            "overflow_y": null,
            "padding": null,
            "right": null,
            "top": null,
            "visibility": null,
            "width": null
          }
        },
        "ace8ce401dc246039d6a40b364d8b431": {
          "model_module": "@jupyter-widgets/controls",
          "model_name": "DescriptionStyleModel",
          "model_module_version": "1.5.0",
          "state": {
            "_model_module": "@jupyter-widgets/controls",
            "_model_module_version": "1.5.0",
            "_model_name": "DescriptionStyleModel",
            "_view_count": null,
            "_view_module": "@jupyter-widgets/base",
            "_view_module_version": "1.2.0",
            "_view_name": "StyleView",
            "description_width": ""
          }
        },
        "5c46083905754f48bdcdd356c29f3be6": {
          "model_module": "@jupyter-widgets/controls",
          "model_name": "HBoxModel",
          "model_module_version": "1.5.0",
          "state": {
            "_dom_classes": [],
            "_model_module": "@jupyter-widgets/controls",
            "_model_module_version": "1.5.0",
            "_model_name": "HBoxModel",
            "_view_count": null,
            "_view_module": "@jupyter-widgets/controls",
            "_view_module_version": "1.5.0",
            "_view_name": "HBoxView",
            "box_style": "",
            "children": [
              "IPY_MODEL_1bc1c9afc05641c6a3a4a8d55b28b7da",
              "IPY_MODEL_8f4174714c314e7898c026ebb9c8e3eb",
              "IPY_MODEL_28088515f53943aa8acdb8b0c51c9b7c"
            ],
            "layout": "IPY_MODEL_f689cc91f9e343238f257a544caf19ec"
          }
        },
        "1bc1c9afc05641c6a3a4a8d55b28b7da": {
          "model_module": "@jupyter-widgets/controls",
          "model_name": "HTMLModel",
          "model_module_version": "1.5.0",
          "state": {
            "_dom_classes": [],
            "_model_module": "@jupyter-widgets/controls",
            "_model_module_version": "1.5.0",
            "_model_name": "HTMLModel",
            "_view_count": null,
            "_view_module": "@jupyter-widgets/controls",
            "_view_module_version": "1.5.0",
            "_view_name": "HTMLView",
            "description": "",
            "description_tooltip": null,
            "layout": "IPY_MODEL_f6f4eadc02de487382d21e585459c56f",
            "placeholder": "​",
            "style": "IPY_MODEL_c1318a3e19394c228a9fbed2f0286e54",
            "value": "vocab.txt: 100%"
          }
        },
        "8f4174714c314e7898c026ebb9c8e3eb": {
          "model_module": "@jupyter-widgets/controls",
          "model_name": "FloatProgressModel",
          "model_module_version": "1.5.0",
          "state": {
            "_dom_classes": [],
            "_model_module": "@jupyter-widgets/controls",
            "_model_module_version": "1.5.0",
            "_model_name": "FloatProgressModel",
            "_view_count": null,
            "_view_module": "@jupyter-widgets/controls",
            "_view_module_version": "1.5.0",
            "_view_name": "ProgressView",
            "bar_style": "success",
            "description": "",
            "description_tooltip": null,
            "layout": "IPY_MODEL_018b8997d75d4b7c892b4b9c99b7603c",
            "max": 231508,
            "min": 0,
            "orientation": "horizontal",
            "style": "IPY_MODEL_80b26cdebe8b4419bdcba6e4f7b112fd",
            "value": 231508
          }
        },
        "28088515f53943aa8acdb8b0c51c9b7c": {
          "model_module": "@jupyter-widgets/controls",
          "model_name": "HTMLModel",
          "model_module_version": "1.5.0",
          "state": {
            "_dom_classes": [],
            "_model_module": "@jupyter-widgets/controls",
            "_model_module_version": "1.5.0",
            "_model_name": "HTMLModel",
            "_view_count": null,
            "_view_module": "@jupyter-widgets/controls",
            "_view_module_version": "1.5.0",
            "_view_name": "HTMLView",
            "description": "",
            "description_tooltip": null,
            "layout": "IPY_MODEL_3c17b102fb264b12aabbd0c0d0675c1b",
            "placeholder": "​",
            "style": "IPY_MODEL_f647c8aaf40b4bac9b0558d0d9d8c8be",
            "value": " 232k/232k [00:00&lt;00:00, 5.02MB/s]"
          }
        },
        "f689cc91f9e343238f257a544caf19ec": {
          "model_module": "@jupyter-widgets/base",
          "model_name": "LayoutModel",
          "model_module_version": "1.2.0",
          "state": {
            "_model_module": "@jupyter-widgets/base",
            "_model_module_version": "1.2.0",
            "_model_name": "LayoutModel",
            "_view_count": null,
            "_view_module": "@jupyter-widgets/base",
            "_view_module_version": "1.2.0",
            "_view_name": "LayoutView",
            "align_content": null,
            "align_items": null,
            "align_self": null,
            "border": null,
            "bottom": null,
            "display": null,
            "flex": null,
            "flex_flow": null,
            "grid_area": null,
            "grid_auto_columns": null,
            "grid_auto_flow": null,
            "grid_auto_rows": null,
            "grid_column": null,
            "grid_gap": null,
            "grid_row": null,
            "grid_template_areas": null,
            "grid_template_columns": null,
            "grid_template_rows": null,
            "height": null,
            "justify_content": null,
            "justify_items": null,
            "left": null,
            "margin": null,
            "max_height": null,
            "max_width": null,
            "min_height": null,
            "min_width": null,
            "object_fit": null,
            "object_position": null,
            "order": null,
            "overflow": null,
            "overflow_x": null,
            "overflow_y": null,
            "padding": null,
            "right": null,
            "top": null,
            "visibility": null,
            "width": null
          }
        },
        "f6f4eadc02de487382d21e585459c56f": {
          "model_module": "@jupyter-widgets/base",
          "model_name": "LayoutModel",
          "model_module_version": "1.2.0",
          "state": {
            "_model_module": "@jupyter-widgets/base",
            "_model_module_version": "1.2.0",
            "_model_name": "LayoutModel",
            "_view_count": null,
            "_view_module": "@jupyter-widgets/base",
            "_view_module_version": "1.2.0",
            "_view_name": "LayoutView",
            "align_content": null,
            "align_items": null,
            "align_self": null,
            "border": null,
            "bottom": null,
            "display": null,
            "flex": null,
            "flex_flow": null,
            "grid_area": null,
            "grid_auto_columns": null,
            "grid_auto_flow": null,
            "grid_auto_rows": null,
            "grid_column": null,
            "grid_gap": null,
            "grid_row": null,
            "grid_template_areas": null,
            "grid_template_columns": null,
            "grid_template_rows": null,
            "height": null,
            "justify_content": null,
            "justify_items": null,
            "left": null,
            "margin": null,
            "max_height": null,
            "max_width": null,
            "min_height": null,
            "min_width": null,
            "object_fit": null,
            "object_position": null,
            "order": null,
            "overflow": null,
            "overflow_x": null,
            "overflow_y": null,
            "padding": null,
            "right": null,
            "top": null,
            "visibility": null,
            "width": null
          }
        },
        "c1318a3e19394c228a9fbed2f0286e54": {
          "model_module": "@jupyter-widgets/controls",
          "model_name": "DescriptionStyleModel",
          "model_module_version": "1.5.0",
          "state": {
            "_model_module": "@jupyter-widgets/controls",
            "_model_module_version": "1.5.0",
            "_model_name": "DescriptionStyleModel",
            "_view_count": null,
            "_view_module": "@jupyter-widgets/base",
            "_view_module_version": "1.2.0",
            "_view_name": "StyleView",
            "description_width": ""
          }
        },
        "018b8997d75d4b7c892b4b9c99b7603c": {
          "model_module": "@jupyter-widgets/base",
          "model_name": "LayoutModel",
          "model_module_version": "1.2.0",
          "state": {
            "_model_module": "@jupyter-widgets/base",
            "_model_module_version": "1.2.0",
            "_model_name": "LayoutModel",
            "_view_count": null,
            "_view_module": "@jupyter-widgets/base",
            "_view_module_version": "1.2.0",
            "_view_name": "LayoutView",
            "align_content": null,
            "align_items": null,
            "align_self": null,
            "border": null,
            "bottom": null,
            "display": null,
            "flex": null,
            "flex_flow": null,
            "grid_area": null,
            "grid_auto_columns": null,
            "grid_auto_flow": null,
            "grid_auto_rows": null,
            "grid_column": null,
            "grid_gap": null,
            "grid_row": null,
            "grid_template_areas": null,
            "grid_template_columns": null,
            "grid_template_rows": null,
            "height": null,
            "justify_content": null,
            "justify_items": null,
            "left": null,
            "margin": null,
            "max_height": null,
            "max_width": null,
            "min_height": null,
            "min_width": null,
            "object_fit": null,
            "object_position": null,
            "order": null,
            "overflow": null,
            "overflow_x": null,
            "overflow_y": null,
            "padding": null,
            "right": null,
            "top": null,
            "visibility": null,
            "width": null
          }
        },
        "80b26cdebe8b4419bdcba6e4f7b112fd": {
          "model_module": "@jupyter-widgets/controls",
          "model_name": "ProgressStyleModel",
          "model_module_version": "1.5.0",
          "state": {
            "_model_module": "@jupyter-widgets/controls",
            "_model_module_version": "1.5.0",
            "_model_name": "ProgressStyleModel",
            "_view_count": null,
            "_view_module": "@jupyter-widgets/base",
            "_view_module_version": "1.2.0",
            "_view_name": "StyleView",
            "bar_color": null,
            "description_width": ""
          }
        },
        "3c17b102fb264b12aabbd0c0d0675c1b": {
          "model_module": "@jupyter-widgets/base",
          "model_name": "LayoutModel",
          "model_module_version": "1.2.0",
          "state": {
            "_model_module": "@jupyter-widgets/base",
            "_model_module_version": "1.2.0",
            "_model_name": "LayoutModel",
            "_view_count": null,
            "_view_module": "@jupyter-widgets/base",
            "_view_module_version": "1.2.0",
            "_view_name": "LayoutView",
            "align_content": null,
            "align_items": null,
            "align_self": null,
            "border": null,
            "bottom": null,
            "display": null,
            "flex": null,
            "flex_flow": null,
            "grid_area": null,
            "grid_auto_columns": null,
            "grid_auto_flow": null,
            "grid_auto_rows": null,
            "grid_column": null,
            "grid_gap": null,
            "grid_row": null,
            "grid_template_areas": null,
            "grid_template_columns": null,
            "grid_template_rows": null,
            "height": null,
            "justify_content": null,
            "justify_items": null,
            "left": null,
            "margin": null,
            "max_height": null,
            "max_width": null,
            "min_height": null,
            "min_width": null,
            "object_fit": null,
            "object_position": null,
            "order": null,
            "overflow": null,
            "overflow_x": null,
            "overflow_y": null,
            "padding": null,
            "right": null,
            "top": null,
            "visibility": null,
            "width": null
          }
        },
        "f647c8aaf40b4bac9b0558d0d9d8c8be": {
          "model_module": "@jupyter-widgets/controls",
          "model_name": "DescriptionStyleModel",
          "model_module_version": "1.5.0",
          "state": {
            "_model_module": "@jupyter-widgets/controls",
            "_model_module_version": "1.5.0",
            "_model_name": "DescriptionStyleModel",
            "_view_count": null,
            "_view_module": "@jupyter-widgets/base",
            "_view_module_version": "1.2.0",
            "_view_name": "StyleView",
            "description_width": ""
          }
        },
        "f66f38992e1a461a9bbed2a2cc86a9c0": {
          "model_module": "@jupyter-widgets/controls",
          "model_name": "HBoxModel",
          "model_module_version": "1.5.0",
          "state": {
            "_dom_classes": [],
            "_model_module": "@jupyter-widgets/controls",
            "_model_module_version": "1.5.0",
            "_model_name": "HBoxModel",
            "_view_count": null,
            "_view_module": "@jupyter-widgets/controls",
            "_view_module_version": "1.5.0",
            "_view_name": "HBoxView",
            "box_style": "",
            "children": [
              "IPY_MODEL_2bc7e838e6884a09ae912e0705d76161",
              "IPY_MODEL_56f8aa99af664ee89aae408ed26b91d9",
              "IPY_MODEL_587b96bf09b649b8aa6ca7bea4fe25d8"
            ],
            "layout": "IPY_MODEL_1046a869204742b8aa0e88bcfb8e4ac0"
          }
        },
        "2bc7e838e6884a09ae912e0705d76161": {
          "model_module": "@jupyter-widgets/controls",
          "model_name": "HTMLModel",
          "model_module_version": "1.5.0",
          "state": {
            "_dom_classes": [],
            "_model_module": "@jupyter-widgets/controls",
            "_model_module_version": "1.5.0",
            "_model_name": "HTMLModel",
            "_view_count": null,
            "_view_module": "@jupyter-widgets/controls",
            "_view_module_version": "1.5.0",
            "_view_name": "HTMLView",
            "description": "",
            "description_tooltip": null,
            "layout": "IPY_MODEL_d00ceef016254901a73fded669343f93",
            "placeholder": "​",
            "style": "IPY_MODEL_fc3a5a33d8084fa8a90b7e0a80be0e40",
            "value": "tokenizer.json: 100%"
          }
        },
        "56f8aa99af664ee89aae408ed26b91d9": {
          "model_module": "@jupyter-widgets/controls",
          "model_name": "FloatProgressModel",
          "model_module_version": "1.5.0",
          "state": {
            "_dom_classes": [],
            "_model_module": "@jupyter-widgets/controls",
            "_model_module_version": "1.5.0",
            "_model_name": "FloatProgressModel",
            "_view_count": null,
            "_view_module": "@jupyter-widgets/controls",
            "_view_module_version": "1.5.0",
            "_view_name": "ProgressView",
            "bar_style": "success",
            "description": "",
            "description_tooltip": null,
            "layout": "IPY_MODEL_ea2ed161c44a4549a51374dedeec3300",
            "max": 466062,
            "min": 0,
            "orientation": "horizontal",
            "style": "IPY_MODEL_71ad1f84a1fb4a1da6c103ff3202ca38",
            "value": 466062
          }
        },
        "587b96bf09b649b8aa6ca7bea4fe25d8": {
          "model_module": "@jupyter-widgets/controls",
          "model_name": "HTMLModel",
          "model_module_version": "1.5.0",
          "state": {
            "_dom_classes": [],
            "_model_module": "@jupyter-widgets/controls",
            "_model_module_version": "1.5.0",
            "_model_name": "HTMLModel",
            "_view_count": null,
            "_view_module": "@jupyter-widgets/controls",
            "_view_module_version": "1.5.0",
            "_view_name": "HTMLView",
            "description": "",
            "description_tooltip": null,
            "layout": "IPY_MODEL_e8e48b03e1c941478254f71c78301ac7",
            "placeholder": "​",
            "style": "IPY_MODEL_5cb74e59f44947b89fb8b1aab5cde081",
            "value": " 466k/466k [00:00&lt;00:00, 13.6MB/s]"
          }
        },
        "1046a869204742b8aa0e88bcfb8e4ac0": {
          "model_module": "@jupyter-widgets/base",
          "model_name": "LayoutModel",
          "model_module_version": "1.2.0",
          "state": {
            "_model_module": "@jupyter-widgets/base",
            "_model_module_version": "1.2.0",
            "_model_name": "LayoutModel",
            "_view_count": null,
            "_view_module": "@jupyter-widgets/base",
            "_view_module_version": "1.2.0",
            "_view_name": "LayoutView",
            "align_content": null,
            "align_items": null,
            "align_self": null,
            "border": null,
            "bottom": null,
            "display": null,
            "flex": null,
            "flex_flow": null,
            "grid_area": null,
            "grid_auto_columns": null,
            "grid_auto_flow": null,
            "grid_auto_rows": null,
            "grid_column": null,
            "grid_gap": null,
            "grid_row": null,
            "grid_template_areas": null,
            "grid_template_columns": null,
            "grid_template_rows": null,
            "height": null,
            "justify_content": null,
            "justify_items": null,
            "left": null,
            "margin": null,
            "max_height": null,
            "max_width": null,
            "min_height": null,
            "min_width": null,
            "object_fit": null,
            "object_position": null,
            "order": null,
            "overflow": null,
            "overflow_x": null,
            "overflow_y": null,
            "padding": null,
            "right": null,
            "top": null,
            "visibility": null,
            "width": null
          }
        },
        "d00ceef016254901a73fded669343f93": {
          "model_module": "@jupyter-widgets/base",
          "model_name": "LayoutModel",
          "model_module_version": "1.2.0",
          "state": {
            "_model_module": "@jupyter-widgets/base",
            "_model_module_version": "1.2.0",
            "_model_name": "LayoutModel",
            "_view_count": null,
            "_view_module": "@jupyter-widgets/base",
            "_view_module_version": "1.2.0",
            "_view_name": "LayoutView",
            "align_content": null,
            "align_items": null,
            "align_self": null,
            "border": null,
            "bottom": null,
            "display": null,
            "flex": null,
            "flex_flow": null,
            "grid_area": null,
            "grid_auto_columns": null,
            "grid_auto_flow": null,
            "grid_auto_rows": null,
            "grid_column": null,
            "grid_gap": null,
            "grid_row": null,
            "grid_template_areas": null,
            "grid_template_columns": null,
            "grid_template_rows": null,
            "height": null,
            "justify_content": null,
            "justify_items": null,
            "left": null,
            "margin": null,
            "max_height": null,
            "max_width": null,
            "min_height": null,
            "min_width": null,
            "object_fit": null,
            "object_position": null,
            "order": null,
            "overflow": null,
            "overflow_x": null,
            "overflow_y": null,
            "padding": null,
            "right": null,
            "top": null,
            "visibility": null,
            "width": null
          }
        },
        "fc3a5a33d8084fa8a90b7e0a80be0e40": {
          "model_module": "@jupyter-widgets/controls",
          "model_name": "DescriptionStyleModel",
          "model_module_version": "1.5.0",
          "state": {
            "_model_module": "@jupyter-widgets/controls",
            "_model_module_version": "1.5.0",
            "_model_name": "DescriptionStyleModel",
            "_view_count": null,
            "_view_module": "@jupyter-widgets/base",
            "_view_module_version": "1.2.0",
            "_view_name": "StyleView",
            "description_width": ""
          }
        },
        "ea2ed161c44a4549a51374dedeec3300": {
          "model_module": "@jupyter-widgets/base",
          "model_name": "LayoutModel",
          "model_module_version": "1.2.0",
          "state": {
            "_model_module": "@jupyter-widgets/base",
            "_model_module_version": "1.2.0",
            "_model_name": "LayoutModel",
            "_view_count": null,
            "_view_module": "@jupyter-widgets/base",
            "_view_module_version": "1.2.0",
            "_view_name": "LayoutView",
            "align_content": null,
            "align_items": null,
            "align_self": null,
            "border": null,
            "bottom": null,
            "display": null,
            "flex": null,
            "flex_flow": null,
            "grid_area": null,
            "grid_auto_columns": null,
            "grid_auto_flow": null,
            "grid_auto_rows": null,
            "grid_column": null,
            "grid_gap": null,
            "grid_row": null,
            "grid_template_areas": null,
            "grid_template_columns": null,
            "grid_template_rows": null,
            "height": null,
            "justify_content": null,
            "justify_items": null,
            "left": null,
            "margin": null,
            "max_height": null,
            "max_width": null,
            "min_height": null,
            "min_width": null,
            "object_fit": null,
            "object_position": null,
            "order": null,
            "overflow": null,
            "overflow_x": null,
            "overflow_y": null,
            "padding": null,
            "right": null,
            "top": null,
            "visibility": null,
            "width": null
          }
        },
        "71ad1f84a1fb4a1da6c103ff3202ca38": {
          "model_module": "@jupyter-widgets/controls",
          "model_name": "ProgressStyleModel",
          "model_module_version": "1.5.0",
          "state": {
            "_model_module": "@jupyter-widgets/controls",
            "_model_module_version": "1.5.0",
            "_model_name": "ProgressStyleModel",
            "_view_count": null,
            "_view_module": "@jupyter-widgets/base",
            "_view_module_version": "1.2.0",
            "_view_name": "StyleView",
            "bar_color": null,
            "description_width": ""
          }
        },
        "e8e48b03e1c941478254f71c78301ac7": {
          "model_module": "@jupyter-widgets/base",
          "model_name": "LayoutModel",
          "model_module_version": "1.2.0",
          "state": {
            "_model_module": "@jupyter-widgets/base",
            "_model_module_version": "1.2.0",
            "_model_name": "LayoutModel",
            "_view_count": null,
            "_view_module": "@jupyter-widgets/base",
            "_view_module_version": "1.2.0",
            "_view_name": "LayoutView",
            "align_content": null,
            "align_items": null,
            "align_self": null,
            "border": null,
            "bottom": null,
            "display": null,
            "flex": null,
            "flex_flow": null,
            "grid_area": null,
            "grid_auto_columns": null,
            "grid_auto_flow": null,
            "grid_auto_rows": null,
            "grid_column": null,
            "grid_gap": null,
            "grid_row": null,
            "grid_template_areas": null,
            "grid_template_columns": null,
            "grid_template_rows": null,
            "height": null,
            "justify_content": null,
            "justify_items": null,
            "left": null,
            "margin": null,
            "max_height": null,
            "max_width": null,
            "min_height": null,
            "min_width": null,
            "object_fit": null,
            "object_position": null,
            "order": null,
            "overflow": null,
            "overflow_x": null,
            "overflow_y": null,
            "padding": null,
            "right": null,
            "top": null,
            "visibility": null,
            "width": null
          }
        },
        "5cb74e59f44947b89fb8b1aab5cde081": {
          "model_module": "@jupyter-widgets/controls",
          "model_name": "DescriptionStyleModel",
          "model_module_version": "1.5.0",
          "state": {
            "_model_module": "@jupyter-widgets/controls",
            "_model_module_version": "1.5.0",
            "_model_name": "DescriptionStyleModel",
            "_view_count": null,
            "_view_module": "@jupyter-widgets/base",
            "_view_module_version": "1.2.0",
            "_view_name": "StyleView",
            "description_width": ""
          }
        },
        "5fca707e36484bf28100733eb38a5d48": {
          "model_module": "@jupyter-widgets/controls",
          "model_name": "HBoxModel",
          "model_module_version": "1.5.0",
          "state": {
            "_dom_classes": [],
            "_model_module": "@jupyter-widgets/controls",
            "_model_module_version": "1.5.0",
            "_model_name": "HBoxModel",
            "_view_count": null,
            "_view_module": "@jupyter-widgets/controls",
            "_view_module_version": "1.5.0",
            "_view_name": "HBoxView",
            "box_style": "",
            "children": [
              "IPY_MODEL_bbff7335bac34b029103c2ff04740847",
              "IPY_MODEL_8b731e09676645a296f8059369417c35",
              "IPY_MODEL_dc7d16de481e4a2299bddc79412ab6b9"
            ],
            "layout": "IPY_MODEL_b9057f7f18bc46b49204490769fae0be"
          }
        },
        "bbff7335bac34b029103c2ff04740847": {
          "model_module": "@jupyter-widgets/controls",
          "model_name": "HTMLModel",
          "model_module_version": "1.5.0",
          "state": {
            "_dom_classes": [],
            "_model_module": "@jupyter-widgets/controls",
            "_model_module_version": "1.5.0",
            "_model_name": "HTMLModel",
            "_view_count": null,
            "_view_module": "@jupyter-widgets/controls",
            "_view_module_version": "1.5.0",
            "_view_name": "HTMLView",
            "description": "",
            "description_tooltip": null,
            "layout": "IPY_MODEL_f83d7d2038ba40fca33e088799a2ffd9",
            "placeholder": "​",
            "style": "IPY_MODEL_ad9a1f0790914f7b9f44eeeb0aeae02f",
            "value": "Downloading builder script: 100%"
          }
        },
        "8b731e09676645a296f8059369417c35": {
          "model_module": "@jupyter-widgets/controls",
          "model_name": "FloatProgressModel",
          "model_module_version": "1.5.0",
          "state": {
            "_dom_classes": [],
            "_model_module": "@jupyter-widgets/controls",
            "_model_module_version": "1.5.0",
            "_model_name": "FloatProgressModel",
            "_view_count": null,
            "_view_module": "@jupyter-widgets/controls",
            "_view_module_version": "1.5.0",
            "_view_name": "ProgressView",
            "bar_style": "success",
            "description": "",
            "description_tooltip": null,
            "layout": "IPY_MODEL_d2e247265bac442c8df1f70335c2df8e",
            "max": 7560,
            "min": 0,
            "orientation": "horizontal",
            "style": "IPY_MODEL_878aed449f154ed4aeda61dcce202f35",
            "value": 7560
          }
        },
        "dc7d16de481e4a2299bddc79412ab6b9": {
          "model_module": "@jupyter-widgets/controls",
          "model_name": "HTMLModel",
          "model_module_version": "1.5.0",
          "state": {
            "_dom_classes": [],
            "_model_module": "@jupyter-widgets/controls",
            "_model_module_version": "1.5.0",
            "_model_name": "HTMLModel",
            "_view_count": null,
            "_view_module": "@jupyter-widgets/controls",
            "_view_module_version": "1.5.0",
            "_view_name": "HTMLView",
            "description": "",
            "description_tooltip": null,
            "layout": "IPY_MODEL_aa945dc8a4274f1a9b8d5fbec1b22286",
            "placeholder": "​",
            "style": "IPY_MODEL_fa3124b04daa42d6a62cf8596b18876c",
            "value": " 7.56k/7.56k [00:00&lt;00:00, 596kB/s]"
          }
        },
        "b9057f7f18bc46b49204490769fae0be": {
          "model_module": "@jupyter-widgets/base",
          "model_name": "LayoutModel",
          "model_module_version": "1.2.0",
          "state": {
            "_model_module": "@jupyter-widgets/base",
            "_model_module_version": "1.2.0",
            "_model_name": "LayoutModel",
            "_view_count": null,
            "_view_module": "@jupyter-widgets/base",
            "_view_module_version": "1.2.0",
            "_view_name": "LayoutView",
            "align_content": null,
            "align_items": null,
            "align_self": null,
            "border": null,
            "bottom": null,
            "display": null,
            "flex": null,
            "flex_flow": null,
            "grid_area": null,
            "grid_auto_columns": null,
            "grid_auto_flow": null,
            "grid_auto_rows": null,
            "grid_column": null,
            "grid_gap": null,
            "grid_row": null,
            "grid_template_areas": null,
            "grid_template_columns": null,
            "grid_template_rows": null,
            "height": null,
            "justify_content": null,
            "justify_items": null,
            "left": null,
            "margin": null,
            "max_height": null,
            "max_width": null,
            "min_height": null,
            "min_width": null,
            "object_fit": null,
            "object_position": null,
            "order": null,
            "overflow": null,
            "overflow_x": null,
            "overflow_y": null,
            "padding": null,
            "right": null,
            "top": null,
            "visibility": null,
            "width": null
          }
        },
        "f83d7d2038ba40fca33e088799a2ffd9": {
          "model_module": "@jupyter-widgets/base",
          "model_name": "LayoutModel",
          "model_module_version": "1.2.0",
          "state": {
            "_model_module": "@jupyter-widgets/base",
            "_model_module_version": "1.2.0",
            "_model_name": "LayoutModel",
            "_view_count": null,
            "_view_module": "@jupyter-widgets/base",
            "_view_module_version": "1.2.0",
            "_view_name": "LayoutView",
            "align_content": null,
            "align_items": null,
            "align_self": null,
            "border": null,
            "bottom": null,
            "display": null,
            "flex": null,
            "flex_flow": null,
            "grid_area": null,
            "grid_auto_columns": null,
            "grid_auto_flow": null,
            "grid_auto_rows": null,
            "grid_column": null,
            "grid_gap": null,
            "grid_row": null,
            "grid_template_areas": null,
            "grid_template_columns": null,
            "grid_template_rows": null,
            "height": null,
            "justify_content": null,
            "justify_items": null,
            "left": null,
            "margin": null,
            "max_height": null,
            "max_width": null,
            "min_height": null,
            "min_width": null,
            "object_fit": null,
            "object_position": null,
            "order": null,
            "overflow": null,
            "overflow_x": null,
            "overflow_y": null,
            "padding": null,
            "right": null,
            "top": null,
            "visibility": null,
            "width": null
          }
        },
        "ad9a1f0790914f7b9f44eeeb0aeae02f": {
          "model_module": "@jupyter-widgets/controls",
          "model_name": "DescriptionStyleModel",
          "model_module_version": "1.5.0",
          "state": {
            "_model_module": "@jupyter-widgets/controls",
            "_model_module_version": "1.5.0",
            "_model_name": "DescriptionStyleModel",
            "_view_count": null,
            "_view_module": "@jupyter-widgets/base",
            "_view_module_version": "1.2.0",
            "_view_name": "StyleView",
            "description_width": ""
          }
        },
        "d2e247265bac442c8df1f70335c2df8e": {
          "model_module": "@jupyter-widgets/base",
          "model_name": "LayoutModel",
          "model_module_version": "1.2.0",
          "state": {
            "_model_module": "@jupyter-widgets/base",
            "_model_module_version": "1.2.0",
            "_model_name": "LayoutModel",
            "_view_count": null,
            "_view_module": "@jupyter-widgets/base",
            "_view_module_version": "1.2.0",
            "_view_name": "LayoutView",
            "align_content": null,
            "align_items": null,
            "align_self": null,
            "border": null,
            "bottom": null,
            "display": null,
            "flex": null,
            "flex_flow": null,
            "grid_area": null,
            "grid_auto_columns": null,
            "grid_auto_flow": null,
            "grid_auto_rows": null,
            "grid_column": null,
            "grid_gap": null,
            "grid_row": null,
            "grid_template_areas": null,
            "grid_template_columns": null,
            "grid_template_rows": null,
            "height": null,
            "justify_content": null,
            "justify_items": null,
            "left": null,
            "margin": null,
            "max_height": null,
            "max_width": null,
            "min_height": null,
            "min_width": null,
            "object_fit": null,
            "object_position": null,
            "order": null,
            "overflow": null,
            "overflow_x": null,
            "overflow_y": null,
            "padding": null,
            "right": null,
            "top": null,
            "visibility": null,
            "width": null
          }
        },
        "878aed449f154ed4aeda61dcce202f35": {
          "model_module": "@jupyter-widgets/controls",
          "model_name": "ProgressStyleModel",
          "model_module_version": "1.5.0",
          "state": {
            "_model_module": "@jupyter-widgets/controls",
            "_model_module_version": "1.5.0",
            "_model_name": "ProgressStyleModel",
            "_view_count": null,
            "_view_module": "@jupyter-widgets/base",
            "_view_module_version": "1.2.0",
            "_view_name": "StyleView",
            "bar_color": null,
            "description_width": ""
          }
        },
        "aa945dc8a4274f1a9b8d5fbec1b22286": {
          "model_module": "@jupyter-widgets/base",
          "model_name": "LayoutModel",
          "model_module_version": "1.2.0",
          "state": {
            "_model_module": "@jupyter-widgets/base",
            "_model_module_version": "1.2.0",
            "_model_name": "LayoutModel",
            "_view_count": null,
            "_view_module": "@jupyter-widgets/base",
            "_view_module_version": "1.2.0",
            "_view_name": "LayoutView",
            "align_content": null,
            "align_items": null,
            "align_self": null,
            "border": null,
            "bottom": null,
            "display": null,
            "flex": null,
            "flex_flow": null,
            "grid_area": null,
            "grid_auto_columns": null,
            "grid_auto_flow": null,
            "grid_auto_rows": null,
            "grid_column": null,
            "grid_gap": null,
            "grid_row": null,
            "grid_template_areas": null,
            "grid_template_columns": null,
            "grid_template_rows": null,
            "height": null,
            "justify_content": null,
            "justify_items": null,
            "left": null,
            "margin": null,
            "max_height": null,
            "max_width": null,
            "min_height": null,
            "min_width": null,
            "object_fit": null,
            "object_position": null,
            "order": null,
            "overflow": null,
            "overflow_x": null,
            "overflow_y": null,
            "padding": null,
            "right": null,
            "top": null,
            "visibility": null,
            "width": null
          }
        },
        "fa3124b04daa42d6a62cf8596b18876c": {
          "model_module": "@jupyter-widgets/controls",
          "model_name": "DescriptionStyleModel",
          "model_module_version": "1.5.0",
          "state": {
            "_model_module": "@jupyter-widgets/controls",
            "_model_module_version": "1.5.0",
            "_model_name": "DescriptionStyleModel",
            "_view_count": null,
            "_view_module": "@jupyter-widgets/base",
            "_view_module_version": "1.2.0",
            "_view_name": "StyleView",
            "description_width": ""
          }
        },
        "288fac8541d74d5aaecfb98e866da1be": {
          "model_module": "@jupyter-widgets/controls",
          "model_name": "HBoxModel",
          "model_module_version": "1.5.0",
          "state": {
            "_dom_classes": [],
            "_model_module": "@jupyter-widgets/controls",
            "_model_module_version": "1.5.0",
            "_model_name": "HBoxModel",
            "_view_count": null,
            "_view_module": "@jupyter-widgets/controls",
            "_view_module_version": "1.5.0",
            "_view_name": "HBoxView",
            "box_style": "",
            "children": [
              "IPY_MODEL_4dc538084eb04f3982a41ce826930005",
              "IPY_MODEL_85cf313a532b4c938fcf6f477feaf62b",
              "IPY_MODEL_f637c68397a346aea1e0e32778770ff8"
            ],
            "layout": "IPY_MODEL_15d83929b3be40febd62e3c12c35c3f6"
          }
        },
        "4dc538084eb04f3982a41ce826930005": {
          "model_module": "@jupyter-widgets/controls",
          "model_name": "HTMLModel",
          "model_module_version": "1.5.0",
          "state": {
            "_dom_classes": [],
            "_model_module": "@jupyter-widgets/controls",
            "_model_module_version": "1.5.0",
            "_model_name": "HTMLModel",
            "_view_count": null,
            "_view_module": "@jupyter-widgets/controls",
            "_view_module_version": "1.5.0",
            "_view_name": "HTMLView",
            "description": "",
            "description_tooltip": null,
            "layout": "IPY_MODEL_22e67cd119e04c60a81f144e5bba49ba",
            "placeholder": "​",
            "style": "IPY_MODEL_dda07a6c1f3f46d086e16ef3f2c5fa9c",
            "value": "Downloading builder script: 100%"
          }
        },
        "85cf313a532b4c938fcf6f477feaf62b": {
          "model_module": "@jupyter-widgets/controls",
          "model_name": "FloatProgressModel",
          "model_module_version": "1.5.0",
          "state": {
            "_dom_classes": [],
            "_model_module": "@jupyter-widgets/controls",
            "_model_module_version": "1.5.0",
            "_model_name": "FloatProgressModel",
            "_view_count": null,
            "_view_module": "@jupyter-widgets/controls",
            "_view_module_version": "1.5.0",
            "_view_name": "ProgressView",
            "bar_style": "success",
            "description": "",
            "description_tooltip": null,
            "layout": "IPY_MODEL_c5e3314a4b1e4498877350f14838ddd2",
            "max": 7377,
            "min": 0,
            "orientation": "horizontal",
            "style": "IPY_MODEL_fb746a023fd74746a58729a2447a43c4",
            "value": 7377
          }
        },
        "f637c68397a346aea1e0e32778770ff8": {
          "model_module": "@jupyter-widgets/controls",
          "model_name": "HTMLModel",
          "model_module_version": "1.5.0",
          "state": {
            "_dom_classes": [],
            "_model_module": "@jupyter-widgets/controls",
            "_model_module_version": "1.5.0",
            "_model_name": "HTMLModel",
            "_view_count": null,
            "_view_module": "@jupyter-widgets/controls",
            "_view_module_version": "1.5.0",
            "_view_name": "HTMLView",
            "description": "",
            "description_tooltip": null,
            "layout": "IPY_MODEL_69c25e31a0a246b38b726d13ba9789e1",
            "placeholder": "​",
            "style": "IPY_MODEL_62a8ee0633a04733b39267f56342be92",
            "value": " 7.38k/7.38k [00:00&lt;00:00, 568kB/s]"
          }
        },
        "15d83929b3be40febd62e3c12c35c3f6": {
          "model_module": "@jupyter-widgets/base",
          "model_name": "LayoutModel",
          "model_module_version": "1.2.0",
          "state": {
            "_model_module": "@jupyter-widgets/base",
            "_model_module_version": "1.2.0",
            "_model_name": "LayoutModel",
            "_view_count": null,
            "_view_module": "@jupyter-widgets/base",
            "_view_module_version": "1.2.0",
            "_view_name": "LayoutView",
            "align_content": null,
            "align_items": null,
            "align_self": null,
            "border": null,
            "bottom": null,
            "display": null,
            "flex": null,
            "flex_flow": null,
            "grid_area": null,
            "grid_auto_columns": null,
            "grid_auto_flow": null,
            "grid_auto_rows": null,
            "grid_column": null,
            "grid_gap": null,
            "grid_row": null,
            "grid_template_areas": null,
            "grid_template_columns": null,
            "grid_template_rows": null,
            "height": null,
            "justify_content": null,
            "justify_items": null,
            "left": null,
            "margin": null,
            "max_height": null,
            "max_width": null,
            "min_height": null,
            "min_width": null,
            "object_fit": null,
            "object_position": null,
            "order": null,
            "overflow": null,
            "overflow_x": null,
            "overflow_y": null,
            "padding": null,
            "right": null,
            "top": null,
            "visibility": null,
            "width": null
          }
        },
        "22e67cd119e04c60a81f144e5bba49ba": {
          "model_module": "@jupyter-widgets/base",
          "model_name": "LayoutModel",
          "model_module_version": "1.2.0",
          "state": {
            "_model_module": "@jupyter-widgets/base",
            "_model_module_version": "1.2.0",
            "_model_name": "LayoutModel",
            "_view_count": null,
            "_view_module": "@jupyter-widgets/base",
            "_view_module_version": "1.2.0",
            "_view_name": "LayoutView",
            "align_content": null,
            "align_items": null,
            "align_self": null,
            "border": null,
            "bottom": null,
            "display": null,
            "flex": null,
            "flex_flow": null,
            "grid_area": null,
            "grid_auto_columns": null,
            "grid_auto_flow": null,
            "grid_auto_rows": null,
            "grid_column": null,
            "grid_gap": null,
            "grid_row": null,
            "grid_template_areas": null,
            "grid_template_columns": null,
            "grid_template_rows": null,
            "height": null,
            "justify_content": null,
            "justify_items": null,
            "left": null,
            "margin": null,
            "max_height": null,
            "max_width": null,
            "min_height": null,
            "min_width": null,
            "object_fit": null,
            "object_position": null,
            "order": null,
            "overflow": null,
            "overflow_x": null,
            "overflow_y": null,
            "padding": null,
            "right": null,
            "top": null,
            "visibility": null,
            "width": null
          }
        },
        "dda07a6c1f3f46d086e16ef3f2c5fa9c": {
          "model_module": "@jupyter-widgets/controls",
          "model_name": "DescriptionStyleModel",
          "model_module_version": "1.5.0",
          "state": {
            "_model_module": "@jupyter-widgets/controls",
            "_model_module_version": "1.5.0",
            "_model_name": "DescriptionStyleModel",
            "_view_count": null,
            "_view_module": "@jupyter-widgets/base",
            "_view_module_version": "1.2.0",
            "_view_name": "StyleView",
            "description_width": ""
          }
        },
        "c5e3314a4b1e4498877350f14838ddd2": {
          "model_module": "@jupyter-widgets/base",
          "model_name": "LayoutModel",
          "model_module_version": "1.2.0",
          "state": {
            "_model_module": "@jupyter-widgets/base",
            "_model_module_version": "1.2.0",
            "_model_name": "LayoutModel",
            "_view_count": null,
            "_view_module": "@jupyter-widgets/base",
            "_view_module_version": "1.2.0",
            "_view_name": "LayoutView",
            "align_content": null,
            "align_items": null,
            "align_self": null,
            "border": null,
            "bottom": null,
            "display": null,
            "flex": null,
            "flex_flow": null,
            "grid_area": null,
            "grid_auto_columns": null,
            "grid_auto_flow": null,
            "grid_auto_rows": null,
            "grid_column": null,
            "grid_gap": null,
            "grid_row": null,
            "grid_template_areas": null,
            "grid_template_columns": null,
            "grid_template_rows": null,
            "height": null,
            "justify_content": null,
            "justify_items": null,
            "left": null,
            "margin": null,
            "max_height": null,
            "max_width": null,
            "min_height": null,
            "min_width": null,
            "object_fit": null,
            "object_position": null,
            "order": null,
            "overflow": null,
            "overflow_x": null,
            "overflow_y": null,
            "padding": null,
            "right": null,
            "top": null,
            "visibility": null,
            "width": null
          }
        },
        "fb746a023fd74746a58729a2447a43c4": {
          "model_module": "@jupyter-widgets/controls",
          "model_name": "ProgressStyleModel",
          "model_module_version": "1.5.0",
          "state": {
            "_model_module": "@jupyter-widgets/controls",
            "_model_module_version": "1.5.0",
            "_model_name": "ProgressStyleModel",
            "_view_count": null,
            "_view_module": "@jupyter-widgets/base",
            "_view_module_version": "1.2.0",
            "_view_name": "StyleView",
            "bar_color": null,
            "description_width": ""
          }
        },
        "69c25e31a0a246b38b726d13ba9789e1": {
          "model_module": "@jupyter-widgets/base",
          "model_name": "LayoutModel",
          "model_module_version": "1.2.0",
          "state": {
            "_model_module": "@jupyter-widgets/base",
            "_model_module_version": "1.2.0",
            "_model_name": "LayoutModel",
            "_view_count": null,
            "_view_module": "@jupyter-widgets/base",
            "_view_module_version": "1.2.0",
            "_view_name": "LayoutView",
            "align_content": null,
            "align_items": null,
            "align_self": null,
            "border": null,
            "bottom": null,
            "display": null,
            "flex": null,
            "flex_flow": null,
            "grid_area": null,
            "grid_auto_columns": null,
            "grid_auto_flow": null,
            "grid_auto_rows": null,
            "grid_column": null,
            "grid_gap": null,
            "grid_row": null,
            "grid_template_areas": null,
            "grid_template_columns": null,
            "grid_template_rows": null,
            "height": null,
            "justify_content": null,
            "justify_items": null,
            "left": null,
            "margin": null,
            "max_height": null,
            "max_width": null,
            "min_height": null,
            "min_width": null,
            "object_fit": null,
            "object_position": null,
            "order": null,
            "overflow": null,
            "overflow_x": null,
            "overflow_y": null,
            "padding": null,
            "right": null,
            "top": null,
            "visibility": null,
            "width": null
          }
        },
        "62a8ee0633a04733b39267f56342be92": {
          "model_module": "@jupyter-widgets/controls",
          "model_name": "DescriptionStyleModel",
          "model_module_version": "1.5.0",
          "state": {
            "_model_module": "@jupyter-widgets/controls",
            "_model_module_version": "1.5.0",
            "_model_name": "DescriptionStyleModel",
            "_view_count": null,
            "_view_module": "@jupyter-widgets/base",
            "_view_module_version": "1.2.0",
            "_view_name": "StyleView",
            "description_width": ""
          }
        },
        "a2f8049b2abd48bb9530a2b53097732c": {
          "model_module": "@jupyter-widgets/controls",
          "model_name": "HBoxModel",
          "model_module_version": "1.5.0",
          "state": {
            "_dom_classes": [],
            "_model_module": "@jupyter-widgets/controls",
            "_model_module_version": "1.5.0",
            "_model_name": "HBoxModel",
            "_view_count": null,
            "_view_module": "@jupyter-widgets/controls",
            "_view_module_version": "1.5.0",
            "_view_name": "HBoxView",
            "box_style": "",
            "children": [
              "IPY_MODEL_751388aca10f4eb79c33c24fc137d4a1",
              "IPY_MODEL_2c06da1d068441748884e719572fd592",
              "IPY_MODEL_8de5c5b9fa5a49569a76c7a073228e69"
            ],
            "layout": "IPY_MODEL_87d13d6026bc485cb9d0d90de25e2950"
          }
        },
        "751388aca10f4eb79c33c24fc137d4a1": {
          "model_module": "@jupyter-widgets/controls",
          "model_name": "HTMLModel",
          "model_module_version": "1.5.0",
          "state": {
            "_dom_classes": [],
            "_model_module": "@jupyter-widgets/controls",
            "_model_module_version": "1.5.0",
            "_model_name": "HTMLModel",
            "_view_count": null,
            "_view_module": "@jupyter-widgets/controls",
            "_view_module_version": "1.5.0",
            "_view_name": "HTMLView",
            "description": "",
            "description_tooltip": null,
            "layout": "IPY_MODEL_5a8cc50673ca40f0a64139481448be41",
            "placeholder": "​",
            "style": "IPY_MODEL_bd85fe65902b4568b7d1718d9e79d813",
            "value": "Downloading builder script: 100%"
          }
        },
        "2c06da1d068441748884e719572fd592": {
          "model_module": "@jupyter-widgets/controls",
          "model_name": "FloatProgressModel",
          "model_module_version": "1.5.0",
          "state": {
            "_dom_classes": [],
            "_model_module": "@jupyter-widgets/controls",
            "_model_module_version": "1.5.0",
            "_model_name": "FloatProgressModel",
            "_view_count": null,
            "_view_module": "@jupyter-widgets/controls",
            "_view_module_version": "1.5.0",
            "_view_name": "ProgressView",
            "bar_style": "success",
            "description": "",
            "description_tooltip": null,
            "layout": "IPY_MODEL_c74ddb9d75a24e1aa63c7760e53b189e",
            "max": 4203,
            "min": 0,
            "orientation": "horizontal",
            "style": "IPY_MODEL_b3eeb32e7b894cfba979d5abcf83cc9d",
            "value": 4203
          }
        },
        "8de5c5b9fa5a49569a76c7a073228e69": {
          "model_module": "@jupyter-widgets/controls",
          "model_name": "HTMLModel",
          "model_module_version": "1.5.0",
          "state": {
            "_dom_classes": [],
            "_model_module": "@jupyter-widgets/controls",
            "_model_module_version": "1.5.0",
            "_model_name": "HTMLModel",
            "_view_count": null,
            "_view_module": "@jupyter-widgets/controls",
            "_view_module_version": "1.5.0",
            "_view_name": "HTMLView",
            "description": "",
            "description_tooltip": null,
            "layout": "IPY_MODEL_ecaa735210954771a00746a9e62a5b06",
            "placeholder": "​",
            "style": "IPY_MODEL_b06968062d014c07b778f605ac203137",
            "value": " 4.20k/4.20k [00:00&lt;00:00, 321kB/s]"
          }
        },
        "87d13d6026bc485cb9d0d90de25e2950": {
          "model_module": "@jupyter-widgets/base",
          "model_name": "LayoutModel",
          "model_module_version": "1.2.0",
          "state": {
            "_model_module": "@jupyter-widgets/base",
            "_model_module_version": "1.2.0",
            "_model_name": "LayoutModel",
            "_view_count": null,
            "_view_module": "@jupyter-widgets/base",
            "_view_module_version": "1.2.0",
            "_view_name": "LayoutView",
            "align_content": null,
            "align_items": null,
            "align_self": null,
            "border": null,
            "bottom": null,
            "display": null,
            "flex": null,
            "flex_flow": null,
            "grid_area": null,
            "grid_auto_columns": null,
            "grid_auto_flow": null,
            "grid_auto_rows": null,
            "grid_column": null,
            "grid_gap": null,
            "grid_row": null,
            "grid_template_areas": null,
            "grid_template_columns": null,
            "grid_template_rows": null,
            "height": null,
            "justify_content": null,
            "justify_items": null,
            "left": null,
            "margin": null,
            "max_height": null,
            "max_width": null,
            "min_height": null,
            "min_width": null,
            "object_fit": null,
            "object_position": null,
            "order": null,
            "overflow": null,
            "overflow_x": null,
            "overflow_y": null,
            "padding": null,
            "right": null,
            "top": null,
            "visibility": null,
            "width": null
          }
        },
        "5a8cc50673ca40f0a64139481448be41": {
          "model_module": "@jupyter-widgets/base",
          "model_name": "LayoutModel",
          "model_module_version": "1.2.0",
          "state": {
            "_model_module": "@jupyter-widgets/base",
            "_model_module_version": "1.2.0",
            "_model_name": "LayoutModel",
            "_view_count": null,
            "_view_module": "@jupyter-widgets/base",
            "_view_module_version": "1.2.0",
            "_view_name": "LayoutView",
            "align_content": null,
            "align_items": null,
            "align_self": null,
            "border": null,
            "bottom": null,
            "display": null,
            "flex": null,
            "flex_flow": null,
            "grid_area": null,
            "grid_auto_columns": null,
            "grid_auto_flow": null,
            "grid_auto_rows": null,
            "grid_column": null,
            "grid_gap": null,
            "grid_row": null,
            "grid_template_areas": null,
            "grid_template_columns": null,
            "grid_template_rows": null,
            "height": null,
            "justify_content": null,
            "justify_items": null,
            "left": null,
            "margin": null,
            "max_height": null,
            "max_width": null,
            "min_height": null,
            "min_width": null,
            "object_fit": null,
            "object_position": null,
            "order": null,
            "overflow": null,
            "overflow_x": null,
            "overflow_y": null,
            "padding": null,
            "right": null,
            "top": null,
            "visibility": null,
            "width": null
          }
        },
        "bd85fe65902b4568b7d1718d9e79d813": {
          "model_module": "@jupyter-widgets/controls",
          "model_name": "DescriptionStyleModel",
          "model_module_version": "1.5.0",
          "state": {
            "_model_module": "@jupyter-widgets/controls",
            "_model_module_version": "1.5.0",
            "_model_name": "DescriptionStyleModel",
            "_view_count": null,
            "_view_module": "@jupyter-widgets/base",
            "_view_module_version": "1.2.0",
            "_view_name": "StyleView",
            "description_width": ""
          }
        },
        "c74ddb9d75a24e1aa63c7760e53b189e": {
          "model_module": "@jupyter-widgets/base",
          "model_name": "LayoutModel",
          "model_module_version": "1.2.0",
          "state": {
            "_model_module": "@jupyter-widgets/base",
            "_model_module_version": "1.2.0",
            "_model_name": "LayoutModel",
            "_view_count": null,
            "_view_module": "@jupyter-widgets/base",
            "_view_module_version": "1.2.0",
            "_view_name": "LayoutView",
            "align_content": null,
            "align_items": null,
            "align_self": null,
            "border": null,
            "bottom": null,
            "display": null,
            "flex": null,
            "flex_flow": null,
            "grid_area": null,
            "grid_auto_columns": null,
            "grid_auto_flow": null,
            "grid_auto_rows": null,
            "grid_column": null,
            "grid_gap": null,
            "grid_row": null,
            "grid_template_areas": null,
            "grid_template_columns": null,
            "grid_template_rows": null,
            "height": null,
            "justify_content": null,
            "justify_items": null,
            "left": null,
            "margin": null,
            "max_height": null,
            "max_width": null,
            "min_height": null,
            "min_width": null,
            "object_fit": null,
            "object_position": null,
            "order": null,
            "overflow": null,
            "overflow_x": null,
            "overflow_y": null,
            "padding": null,
            "right": null,
            "top": null,
            "visibility": null,
            "width": null
          }
        },
        "b3eeb32e7b894cfba979d5abcf83cc9d": {
          "model_module": "@jupyter-widgets/controls",
          "model_name": "ProgressStyleModel",
          "model_module_version": "1.5.0",
          "state": {
            "_model_module": "@jupyter-widgets/controls",
            "_model_module_version": "1.5.0",
            "_model_name": "ProgressStyleModel",
            "_view_count": null,
            "_view_module": "@jupyter-widgets/base",
            "_view_module_version": "1.2.0",
            "_view_name": "StyleView",
            "bar_color": null,
            "description_width": ""
          }
        },
        "ecaa735210954771a00746a9e62a5b06": {
          "model_module": "@jupyter-widgets/base",
          "model_name": "LayoutModel",
          "model_module_version": "1.2.0",
          "state": {
            "_model_module": "@jupyter-widgets/base",
            "_model_module_version": "1.2.0",
            "_model_name": "LayoutModel",
            "_view_count": null,
            "_view_module": "@jupyter-widgets/base",
            "_view_module_version": "1.2.0",
            "_view_name": "LayoutView",
            "align_content": null,
            "align_items": null,
            "align_self": null,
            "border": null,
            "bottom": null,
            "display": null,
            "flex": null,
            "flex_flow": null,
            "grid_area": null,
            "grid_auto_columns": null,
            "grid_auto_flow": null,
            "grid_auto_rows": null,
            "grid_column": null,
            "grid_gap": null,
            "grid_row": null,
            "grid_template_areas": null,
            "grid_template_columns": null,
            "grid_template_rows": null,
            "height": null,
            "justify_content": null,
            "justify_items": null,
            "left": null,
            "margin": null,
            "max_height": null,
            "max_width": null,
            "min_height": null,
            "min_width": null,
            "object_fit": null,
            "object_position": null,
            "order": null,
            "overflow": null,
            "overflow_x": null,
            "overflow_y": null,
            "padding": null,
            "right": null,
            "top": null,
            "visibility": null,
            "width": null
          }
        },
        "b06968062d014c07b778f605ac203137": {
          "model_module": "@jupyter-widgets/controls",
          "model_name": "DescriptionStyleModel",
          "model_module_version": "1.5.0",
          "state": {
            "_model_module": "@jupyter-widgets/controls",
            "_model_module_version": "1.5.0",
            "_model_name": "DescriptionStyleModel",
            "_view_count": null,
            "_view_module": "@jupyter-widgets/base",
            "_view_module_version": "1.2.0",
            "_view_name": "StyleView",
            "description_width": ""
          }
        }
      }
    }
  },
  "nbformat": 4,
  "nbformat_minor": 5
}