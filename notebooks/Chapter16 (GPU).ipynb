{
  "cells": [
    {
      "cell_type": "markdown",
      "metadata": {
        "id": "view-in-github",
        "colab_type": "text"
      },
      "source": [
        "<a href=\"https://colab.research.google.com/github/blurred421/LFD473-code/blob/main/notebooks/Chapter16%20(GPU).ipynb\" target=\"_parent\"><img src=\"https://colab.research.google.com/assets/colab-badge.svg\" alt=\"Open In Colab\"/></a>"
      ]
    },
    {
      "cell_type": "markdown",
      "id": "09da54ca",
      "metadata": {
        "id": "09da54ca"
      },
      "source": [
        "# Chapter 16: Contextual Word Embeddings with Transformers"
      ]
    },
    {
      "cell_type": "code",
      "execution_count": 11,
      "id": "a0da6486",
      "metadata": {
        "id": "a0da6486",
        "outputId": "c35059be-6fa7-4a18-eff9-ad79c777dfc8",
        "colab": {
          "base_uri": "https://localhost:8080/"
        }
      },
      "outputs": [
        {
          "output_type": "stream",
          "name": "stdout",
          "text": [
            "Requirement already satisfied: transformers in /usr/local/lib/python3.11/dist-packages (4.48.3)\n",
            "Requirement already satisfied: evaluate in /usr/local/lib/python3.11/dist-packages (0.4.3)\n",
            "Requirement already satisfied: portalocker in /usr/local/lib/python3.11/dist-packages (3.1.1)\n",
            "Requirement already satisfied: sentence-transformers in /usr/local/lib/python3.11/dist-packages (3.4.1)\n",
            "Requirement already satisfied: datasets in /usr/local/lib/python3.11/dist-packages (3.3.2)\n",
            "Collecting gensim\n",
            "  Downloading gensim-4.3.3-cp311-cp311-manylinux_2_17_x86_64.manylinux2014_x86_64.whl.metadata (8.1 kB)\n",
            "Requirement already satisfied: filelock in /usr/local/lib/python3.11/dist-packages (from transformers) (3.17.0)\n",
            "Requirement already satisfied: huggingface-hub<1.0,>=0.24.0 in /usr/local/lib/python3.11/dist-packages (from transformers) (0.28.1)\n",
            "Requirement already satisfied: numpy>=1.17 in /usr/local/lib/python3.11/dist-packages (from transformers) (1.26.4)\n",
            "Requirement already satisfied: packaging>=20.0 in /usr/local/lib/python3.11/dist-packages (from transformers) (24.2)\n",
            "Requirement already satisfied: pyyaml>=5.1 in /usr/local/lib/python3.11/dist-packages (from transformers) (6.0.2)\n",
            "Requirement already satisfied: regex!=2019.12.17 in /usr/local/lib/python3.11/dist-packages (from transformers) (2024.11.6)\n",
            "Requirement already satisfied: requests in /usr/local/lib/python3.11/dist-packages (from transformers) (2.32.3)\n",
            "Requirement already satisfied: tokenizers<0.22,>=0.21 in /usr/local/lib/python3.11/dist-packages (from transformers) (0.21.0)\n",
            "Requirement already satisfied: safetensors>=0.4.1 in /usr/local/lib/python3.11/dist-packages (from transformers) (0.5.3)\n",
            "Requirement already satisfied: tqdm>=4.27 in /usr/local/lib/python3.11/dist-packages (from transformers) (4.67.1)\n",
            "Requirement already satisfied: dill in /usr/local/lib/python3.11/dist-packages (from evaluate) (0.3.8)\n",
            "Requirement already satisfied: pandas in /usr/local/lib/python3.11/dist-packages (from evaluate) (2.2.2)\n",
            "Requirement already satisfied: xxhash in /usr/local/lib/python3.11/dist-packages (from evaluate) (3.5.0)\n",
            "Requirement already satisfied: multiprocess in /usr/local/lib/python3.11/dist-packages (from evaluate) (0.70.16)\n",
            "Requirement already satisfied: fsspec>=2021.05.0 in /usr/local/lib/python3.11/dist-packages (from fsspec[http]>=2021.05.0->evaluate) (2024.10.0)\n",
            "Requirement already satisfied: torch>=1.11.0 in /usr/local/lib/python3.11/dist-packages (from sentence-transformers) (2.5.1+cu124)\n",
            "Requirement already satisfied: scikit-learn in /usr/local/lib/python3.11/dist-packages (from sentence-transformers) (1.6.1)\n",
            "Requirement already satisfied: scipy in /usr/local/lib/python3.11/dist-packages (from sentence-transformers) (1.14.1)\n",
            "Requirement already satisfied: Pillow in /usr/local/lib/python3.11/dist-packages (from sentence-transformers) (11.1.0)\n",
            "Requirement already satisfied: pyarrow>=15.0.0 in /usr/local/lib/python3.11/dist-packages (from datasets) (18.1.0)\n",
            "Requirement already satisfied: aiohttp in /usr/local/lib/python3.11/dist-packages (from datasets) (3.11.13)\n",
            "Collecting scipy (from sentence-transformers)\n",
            "  Downloading scipy-1.13.1-cp311-cp311-manylinux_2_17_x86_64.manylinux2014_x86_64.whl.metadata (60 kB)\n",
            "\u001b[2K     \u001b[90m━━━━━━━━━━━━━━━━━━━━━━━━━━━━━━━━━━━━━━━━\u001b[0m \u001b[32m60.6/60.6 kB\u001b[0m \u001b[31m2.2 MB/s\u001b[0m eta \u001b[36m0:00:00\u001b[0m\n",
            "\u001b[?25hRequirement already satisfied: smart-open>=1.8.1 in /usr/local/lib/python3.11/dist-packages (from gensim) (7.1.0)\n",
            "Requirement already satisfied: aiohappyeyeballs>=2.3.0 in /usr/local/lib/python3.11/dist-packages (from aiohttp->datasets) (2.5.0)\n",
            "Requirement already satisfied: aiosignal>=1.1.2 in /usr/local/lib/python3.11/dist-packages (from aiohttp->datasets) (1.3.2)\n",
            "Requirement already satisfied: attrs>=17.3.0 in /usr/local/lib/python3.11/dist-packages (from aiohttp->datasets) (25.1.0)\n",
            "Requirement already satisfied: frozenlist>=1.1.1 in /usr/local/lib/python3.11/dist-packages (from aiohttp->datasets) (1.5.0)\n",
            "Requirement already satisfied: multidict<7.0,>=4.5 in /usr/local/lib/python3.11/dist-packages (from aiohttp->datasets) (6.1.0)\n",
            "Requirement already satisfied: propcache>=0.2.0 in /usr/local/lib/python3.11/dist-packages (from aiohttp->datasets) (0.3.0)\n",
            "Requirement already satisfied: yarl<2.0,>=1.17.0 in /usr/local/lib/python3.11/dist-packages (from aiohttp->datasets) (1.18.3)\n",
            "Requirement already satisfied: typing-extensions>=3.7.4.3 in /usr/local/lib/python3.11/dist-packages (from huggingface-hub<1.0,>=0.24.0->transformers) (4.12.2)\n",
            "Requirement already satisfied: charset-normalizer<4,>=2 in /usr/local/lib/python3.11/dist-packages (from requests->transformers) (3.4.1)\n",
            "Requirement already satisfied: idna<4,>=2.5 in /usr/local/lib/python3.11/dist-packages (from requests->transformers) (3.10)\n",
            "Requirement already satisfied: urllib3<3,>=1.21.1 in /usr/local/lib/python3.11/dist-packages (from requests->transformers) (2.3.0)\n",
            "Requirement already satisfied: certifi>=2017.4.17 in /usr/local/lib/python3.11/dist-packages (from requests->transformers) (2025.1.31)\n",
            "Requirement already satisfied: wrapt in /usr/local/lib/python3.11/dist-packages (from smart-open>=1.8.1->gensim) (1.17.2)\n",
            "Requirement already satisfied: networkx in /usr/local/lib/python3.11/dist-packages (from torch>=1.11.0->sentence-transformers) (3.4.2)\n",
            "Requirement already satisfied: jinja2 in /usr/local/lib/python3.11/dist-packages (from torch>=1.11.0->sentence-transformers) (3.1.6)\n",
            "Requirement already satisfied: nvidia-cuda-nvrtc-cu12==12.4.127 in /usr/local/lib/python3.11/dist-packages (from torch>=1.11.0->sentence-transformers) (12.4.127)\n",
            "Requirement already satisfied: nvidia-cuda-runtime-cu12==12.4.127 in /usr/local/lib/python3.11/dist-packages (from torch>=1.11.0->sentence-transformers) (12.4.127)\n",
            "Requirement already satisfied: nvidia-cuda-cupti-cu12==12.4.127 in /usr/local/lib/python3.11/dist-packages (from torch>=1.11.0->sentence-transformers) (12.4.127)\n",
            "Requirement already satisfied: nvidia-cudnn-cu12==9.1.0.70 in /usr/local/lib/python3.11/dist-packages (from torch>=1.11.0->sentence-transformers) (9.1.0.70)\n",
            "Requirement already satisfied: nvidia-cublas-cu12==12.4.5.8 in /usr/local/lib/python3.11/dist-packages (from torch>=1.11.0->sentence-transformers) (12.4.5.8)\n",
            "Requirement already satisfied: nvidia-cufft-cu12==11.2.1.3 in /usr/local/lib/python3.11/dist-packages (from torch>=1.11.0->sentence-transformers) (11.2.1.3)\n",
            "Requirement already satisfied: nvidia-curand-cu12==10.3.5.147 in /usr/local/lib/python3.11/dist-packages (from torch>=1.11.0->sentence-transformers) (10.3.5.147)\n",
            "Requirement already satisfied: nvidia-cusolver-cu12==11.6.1.9 in /usr/local/lib/python3.11/dist-packages (from torch>=1.11.0->sentence-transformers) (11.6.1.9)\n",
            "Requirement already satisfied: nvidia-cusparse-cu12==12.3.1.170 in /usr/local/lib/python3.11/dist-packages (from torch>=1.11.0->sentence-transformers) (12.3.1.170)\n",
            "Requirement already satisfied: nvidia-nccl-cu12==2.21.5 in /usr/local/lib/python3.11/dist-packages (from torch>=1.11.0->sentence-transformers) (2.21.5)\n",
            "Requirement already satisfied: nvidia-nvtx-cu12==12.4.127 in /usr/local/lib/python3.11/dist-packages (from torch>=1.11.0->sentence-transformers) (12.4.127)\n",
            "Requirement already satisfied: nvidia-nvjitlink-cu12==12.4.127 in /usr/local/lib/python3.11/dist-packages (from torch>=1.11.0->sentence-transformers) (12.4.127)\n",
            "Requirement already satisfied: triton==3.1.0 in /usr/local/lib/python3.11/dist-packages (from torch>=1.11.0->sentence-transformers) (3.1.0)\n",
            "Requirement already satisfied: sympy==1.13.1 in /usr/local/lib/python3.11/dist-packages (from torch>=1.11.0->sentence-transformers) (1.13.1)\n",
            "Requirement already satisfied: mpmath<1.4,>=1.1.0 in /usr/local/lib/python3.11/dist-packages (from sympy==1.13.1->torch>=1.11.0->sentence-transformers) (1.3.0)\n",
            "Requirement already satisfied: python-dateutil>=2.8.2 in /usr/local/lib/python3.11/dist-packages (from pandas->evaluate) (2.8.2)\n",
            "Requirement already satisfied: pytz>=2020.1 in /usr/local/lib/python3.11/dist-packages (from pandas->evaluate) (2025.1)\n",
            "Requirement already satisfied: tzdata>=2022.7 in /usr/local/lib/python3.11/dist-packages (from pandas->evaluate) (2025.1)\n",
            "Requirement already satisfied: joblib>=1.2.0 in /usr/local/lib/python3.11/dist-packages (from scikit-learn->sentence-transformers) (1.4.2)\n",
            "Requirement already satisfied: threadpoolctl>=3.1.0 in /usr/local/lib/python3.11/dist-packages (from scikit-learn->sentence-transformers) (3.5.0)\n",
            "Requirement already satisfied: six>=1.5 in /usr/local/lib/python3.11/dist-packages (from python-dateutil>=2.8.2->pandas->evaluate) (1.17.0)\n",
            "Requirement already satisfied: MarkupSafe>=2.0 in /usr/local/lib/python3.11/dist-packages (from jinja2->torch>=1.11.0->sentence-transformers) (3.0.2)\n",
            "Downloading gensim-4.3.3-cp311-cp311-manylinux_2_17_x86_64.manylinux2014_x86_64.whl (26.7 MB)\n",
            "\u001b[2K   \u001b[90m━━━━━━━━━━━━━━━━━━━━━━━━━━━━━━━━━━━━━━━━\u001b[0m \u001b[32m26.7/26.7 MB\u001b[0m \u001b[31m42.1 MB/s\u001b[0m eta \u001b[36m0:00:00\u001b[0m\n",
            "\u001b[?25hDownloading scipy-1.13.1-cp311-cp311-manylinux_2_17_x86_64.manylinux2014_x86_64.whl (38.6 MB)\n",
            "\u001b[2K   \u001b[90m━━━━━━━━━━━━━━━━━━━━━━━━━━━━━━━━━━━━━━━━\u001b[0m \u001b[32m38.6/38.6 MB\u001b[0m \u001b[31m10.7 MB/s\u001b[0m eta \u001b[36m0:00:00\u001b[0m\n",
            "\u001b[?25hInstalling collected packages: scipy, gensim\n",
            "  Attempting uninstall: scipy\n",
            "    Found existing installation: scipy 1.14.1\n",
            "    Uninstalling scipy-1.14.1:\n",
            "      Successfully uninstalled scipy-1.14.1\n",
            "Successfully installed gensim-4.3.3 scipy-1.13.1\n"
          ]
        }
      ],
      "source": [
        "!pip install transformers evaluate portalocker sentence-transformers datasets gensim"
      ]
    },
    {
      "cell_type": "code",
      "execution_count": 2,
      "id": "16595684",
      "metadata": {
        "colab": {
          "base_uri": "https://localhost:8080/"
        },
        "id": "16595684",
        "outputId": "444cd9f1-69d3-4849-dbab-5659462fb9d7"
      },
      "outputs": [
        {
          "output_type": "stream",
          "name": "stdout",
          "text": [
            "--2025-03-13 17:34:50--  https://raw.githubusercontent.com/dvgodoy/assets/main/PyTorchInPractice/educational_transformer.py\n",
            "Resolving raw.githubusercontent.com (raw.githubusercontent.com)... 185.199.109.133, 185.199.111.133, 185.199.108.133, ...\n",
            "Connecting to raw.githubusercontent.com (raw.githubusercontent.com)|185.199.109.133|:443... connected.\n",
            "HTTP request sent, awaiting response... 200 OK\n",
            "Length: 5593 (5.5K) [text/plain]\n",
            "Saving to: ‘educational_transformer.py’\n",
            "\n",
            "educational_transfo 100%[===================>]   5.46K  --.-KB/s    in 0s      \n",
            "\n",
            "2025-03-13 17:34:51 (49.9 MB/s) - ‘educational_transformer.py’ saved [5593/5593]\n",
            "\n"
          ]
        }
      ],
      "source": [
        "!wget https://raw.githubusercontent.com/dvgodoy/assets/main/PyTorchInPractice/educational_transformer.py"
      ]
    },
    {
      "cell_type": "code",
      "execution_count": 3,
      "id": "659035ae",
      "metadata": {
        "id": "659035ae"
      },
      "outputs": [],
      "source": [
        "from educational_transformer import PositionalEncoding, EncoderLayer, EncoderTransf"
      ]
    },
    {
      "cell_type": "markdown",
      "id": "36f54886",
      "metadata": {
        "id": "36f54886"
      },
      "source": [
        "## 16.2 Learning Objectives\n",
        "\n",
        "By the end of this chapter, you should be able to:\n",
        "- understand the principles behind the Transformer architecture and the attention mechanism\n",
        "- understand the role of the special classifier token and use it to classify text\n",
        "- train a small Transformer model from scratch\n",
        "- obtain sentence embeddings using the SentenceTransformers package"
      ]
    },
    {
      "cell_type": "markdown",
      "id": "afacbfe5",
      "metadata": {
        "id": "afacbfe5"
      },
      "source": [
        "## 16.3 Attention Is All You Need"
      ]
    },
    {
      "cell_type": "markdown",
      "id": "edf9858b",
      "metadata": {
        "id": "edf9858b"
      },
      "source": [
        "![](https://raw.githubusercontent.com/dvgodoy/assets/main/PyTorchInPractice/images/ch14/translation_att.png)"
      ]
    },
    {
      "cell_type": "markdown",
      "id": "9b1da6e8",
      "metadata": {
        "id": "9b1da6e8"
      },
      "source": [
        "## 16.4 Transformer"
      ]
    },
    {
      "cell_type": "markdown",
      "id": "6f7cddbe",
      "metadata": {
        "id": "6f7cddbe"
      },
      "source": [
        "![](https://raw.githubusercontent.com/dvgodoy/assets/main/PyTorchInPractice/images/ch14/stacked_layers.png)"
      ]
    },
    {
      "cell_type": "markdown",
      "id": "d585bd05",
      "metadata": {
        "id": "d585bd05"
      },
      "source": [
        "![](https://raw.githubusercontent.com/dvgodoy/assets/main/PyTorchInPractice/images/ch14/full_transformer.png)\n",
        "\n",
        "***\n",
        "**ASIDE: BERT**\n",
        "\n",
        "BERT, which stands for Bidirectional Encoder Representations from Transformers, is a model based on a Transformer encoder introduced in 2019. The original BERT model was trained on two huge corpora: [BookCorpus](https://yknzhu.wixsite.com/mbweb) (composed of 800M words in 11,038 unpublished books) and [English Wikipedia](https://en.wikipedia.org/wiki/English_Wikipedia) (2.5B words). It has twelve \"layers\" (the original Transformer had only six), twelve attention heads, and 768 hidden dimensions, totaling 110 million parameters.\n",
        "\n",
        "There are many different versions of BERT for all tastes and budgets, and you can find them in Google Research’s [BERT repository](https://github.com/google-research/bert). For a general overview of BERT, please check Jay Alammar’s excellent posts on the topic: [\"The Illustrated BERT, ELMo, and co. (How NLP Cracked Transfer Learning)\"](https://jalammar.github.io/illustrated-bert/) and [\"A Visual Guide to Using BERT for the First Time.\"](https://jalammar.github.io/a-visual-guide-to-using-bert-for-the-first-time/)\n",
        "***"
      ]
    },
    {
      "cell_type": "markdown",
      "id": "48188d49",
      "metadata": {
        "id": "48188d49"
      },
      "source": [
        "## 16.5 An Encoder-Based Model for Classification"
      ]
    },
    {
      "cell_type": "markdown",
      "id": "34ddbb00",
      "metadata": {
        "id": "34ddbb00"
      },
      "source": [
        "### 16.5.1 AG News Dataset\n",
        "\n",
        "![](https://raw.githubusercontent.com/dvgodoy/assets/main/PyTorchInPractice/images/ch0/data_step1.png)"
      ]
    },
    {
      "cell_type": "code",
      "execution_count": 5,
      "id": "06625388",
      "metadata": {
        "id": "06625388",
        "outputId": "e30e6645-33d8-4597-b345-8c9cdf67edb5",
        "colab": {
          "base_uri": "https://localhost:8080/"
        }
      },
      "outputs": [
        {
          "output_type": "stream",
          "name": "stdout",
          "text": [
            "--2025-03-13 17:39:51--  https://raw.githubusercontent.com/mhjabreel/CharCnn_Keras/master/data/ag_news_csv/train.csv\n",
            "Resolving raw.githubusercontent.com (raw.githubusercontent.com)... 185.199.108.133, 185.199.109.133, 185.199.110.133, ...\n",
            "Connecting to raw.githubusercontent.com (raw.githubusercontent.com)|185.199.108.133|:443... connected.\n",
            "HTTP request sent, awaiting response... 200 OK\n",
            "Length: 29470338 (28M) [text/plain]\n",
            "Saving to: ‘train.csv.1’\n",
            "\n",
            "train.csv.1         100%[===================>]  28.10M   159MB/s    in 0.2s    \n",
            "\n",
            "2025-03-13 17:39:51 (159 MB/s) - ‘train.csv.1’ saved [29470338/29470338]\n",
            "\n",
            "--2025-03-13 17:39:51--  https://raw.githubusercontent.com/mhjabreel/CharCnn_Keras/master/data/ag_news_csv/test.csv\n",
            "Resolving raw.githubusercontent.com (raw.githubusercontent.com)... 185.199.110.133, 185.199.111.133, 185.199.109.133, ...\n",
            "Connecting to raw.githubusercontent.com (raw.githubusercontent.com)|185.199.110.133|:443... connected.\n",
            "HTTP request sent, awaiting response... 200 OK\n",
            "Length: 1857427 (1.8M) [text/plain]\n",
            "Saving to: ‘test.csv.1’\n",
            "\n",
            "test.csv.1          100%[===================>]   1.77M  --.-KB/s    in 0.07s   \n",
            "\n",
            "2025-03-13 17:39:52 (25.2 MB/s) - ‘test.csv.1’ saved [1857427/1857427]\n",
            "\n",
            "--2025-03-13 17:39:52--  https://raw.githubusercontent.com/mhjabreel/CharCnn_Keras/master/data/ag_news_csv/classes.txt\n",
            "Resolving raw.githubusercontent.com (raw.githubusercontent.com)... 185.199.108.133, 185.199.109.133, 185.199.110.133, ...\n",
            "Connecting to raw.githubusercontent.com (raw.githubusercontent.com)|185.199.108.133|:443... connected.\n",
            "HTTP request sent, awaiting response... 200 OK\n",
            "Length: 31 [text/plain]\n",
            "Saving to: ‘classes.txt.1’\n",
            "\n",
            "classes.txt.1       100%[===================>]      31  --.-KB/s    in 0s      \n",
            "\n",
            "2025-03-13 17:39:52 (600 KB/s) - ‘classes.txt.1’ saved [31/31]\n",
            "\n"
          ]
        }
      ],
      "source": [
        "!wget https://raw.githubusercontent.com/mhjabreel/CharCnn_Keras/master/data/ag_news_csv/train.csv\n",
        "!wget https://raw.githubusercontent.com/mhjabreel/CharCnn_Keras/master/data/ag_news_csv/test.csv\n",
        "!wget https://raw.githubusercontent.com/mhjabreel/CharCnn_Keras/master/data/ag_news_csv/classes.txt"
      ]
    },
    {
      "cell_type": "markdown",
      "id": "0d700617",
      "metadata": {
        "id": "0d700617"
      },
      "source": [
        "![](https://raw.githubusercontent.com/dvgodoy/assets/main/PyTorchInPractice/images/ch0/data_step2.png)"
      ]
    },
    {
      "cell_type": "code",
      "execution_count": 6,
      "id": "5223d209",
      "metadata": {
        "id": "5223d209"
      },
      "outputs": [],
      "source": [
        "import numpy as np\n",
        "\n",
        "chr_codes = np.array([\n",
        "     36,   151,    38,  8220,   147,   148,   146,   225,   133,    39,  8221,  8212,   232,   149,   145,   233,\n",
        "  64257,  8217,   163,   160,    91,    93,  8211,  8482,   234,    37,  8364,   153,   195,   169\n",
        "])\n",
        "chr_subst = {f' #{c};':chr(c) for c in chr_codes}\n",
        "chr_subst.update({' amp;': '&', ' quot;': \"'\", ' hellip;': '...', ' nbsp;': ' ', '&lt;': '', '&gt;': '',\n",
        "                  '&lt;em&gt;': '', '&lt;/em&gt;': '', '&lt;strong&gt;': '', '&lt;/strong&gt;': ''})"
      ]
    },
    {
      "cell_type": "code",
      "execution_count": 7,
      "id": "9a81127c",
      "metadata": {
        "id": "9a81127c"
      },
      "outputs": [],
      "source": [
        "def replace_chars(sent):\n",
        "    to_replace = [c for c in list(chr_subst.keys()) if c in sent]\n",
        "    for c in to_replace:\n",
        "        sent = sent.replace(c, chr_subst[c])\n",
        "    return sent\n",
        "\n",
        "def preproc_description(desc):\n",
        "    desc = desc.replace('\\\\', ' ').strip()\n",
        "    return replace_chars(desc)"
      ]
    },
    {
      "cell_type": "markdown",
      "id": "3cc4ce04",
      "metadata": {
        "id": "3cc4ce04"
      },
      "source": [
        "![](https://raw.githubusercontent.com/dvgodoy/assets/main/PyTorchInPractice/images/ch0/data_step4.png)"
      ]
    },
    {
      "cell_type": "code",
      "execution_count": 8,
      "id": "3a0b2666",
      "metadata": {
        "id": "3a0b2666",
        "outputId": "9d4ecedb-6200-40c2-b739-2939aa0dcf7b",
        "colab": {
          "referenced_widgets": [
            "97c534cb8a7340178fed986131b7d7ce",
            "0f62416483ef4758a7fc0661de5666ba",
            "05686c70094e46a1a0bfb1c396e6f4b0",
            "088e0c46675f41ac837d837d60728dad",
            "9cc3fa45ae084a379ad216f2fb79ad3d",
            "58ce9e233bb246c3a3d4fc4c55e89d8d",
            "26e6b6a9695f47c78f5fc845f9c51082",
            "52bc23b6fb89423a801a6f2986ebdcb9",
            "8bedba6bcab24902980ebc5f1abb27c2",
            "b798798fb2964fcb8caf5805751aef37",
            "306c34778cfc43e48196ed0e6a357e56",
            "7eeee69b03f547339170b9b55fccd4fd",
            "50d834fffe5e4e3c9cc8f6bce71aa567",
            "3b0eb24fecc14355b8f4bcc41122d9a0",
            "73f06ce1563642e487f4e715de041e42",
            "dfe573c340b841bd9332c889b3b524b0",
            "678d5da5f1f94222bcc951b7c6cfd00c",
            "92418773d7e743dd94fabd432349b863",
            "c4f0efa836644ddeb60097c8f47f57fe",
            "e753019d73ae4a62aea272ac730f9943",
            "17d3f8ad15174a37b842adf0c0ca6fdd",
            "34a94bb7f47b4b9a91aff8434dadb565",
            "7ff7a56b64154f859efcca829d4fa591",
            "cef524dd75d64ed1ad00c092d4606159",
            "4f990d63a0be4a4bb66d037d5be25e66",
            "85dc8d393c754f1b99c618c86c2b5280",
            "2a40d0f278e147a78795bfd835698db5",
            "d3294827c3d949bba81dadf3a37eb2c7",
            "a6ee0c24fc614ed58603fb8382ccd1e7",
            "d4510059900f4d759191df91777769c1",
            "974de2c5d3ed4ed98948453ea385275e",
            "3b134369a41040db839d9a6de7bc08e5",
            "a24502f784ca4dd1a7a7898e970880a1",
            "8f6d762aed4e4eb5b242545d4a8e83de",
            "948ddee760b44ce281e03e4f56daac94",
            "60e93b0f7c2047d1a61bf9461354a17f",
            "0cad3f1256f3401292dd619434f2f68b",
            "1b28e5e484c74f47901fb01a6222510b",
            "29f4f8834c084bdb8282585be6ddc444",
            "10f1303ad2e04075a23e40dce20e01a6",
            "94764c8f5ad14987956d3f9ac7d442cd",
            "297ef48c013648649f931db650b72215",
            "000d00bb59a64efaa41fd53f6e346846",
            "0592f898f4c444e0988a6b14afad4509"
          ],
          "base_uri": "https://localhost:8080/",
          "height": 145
        }
      },
      "outputs": [
        {
          "output_type": "display_data",
          "data": {
            "text/plain": [
              "Generating train split: 0 examples [00:00, ? examples/s]"
            ],
            "application/vnd.jupyter.widget-view+json": {
              "version_major": 2,
              "version_minor": 0,
              "model_id": "97c534cb8a7340178fed986131b7d7ce"
            }
          },
          "metadata": {}
        },
        {
          "output_type": "display_data",
          "data": {
            "text/plain": [
              "Generating train split: 0 examples [00:00, ? examples/s]"
            ],
            "application/vnd.jupyter.widget-view+json": {
              "version_major": 2,
              "version_minor": 0,
              "model_id": "7eeee69b03f547339170b9b55fccd4fd"
            }
          },
          "metadata": {}
        },
        {
          "output_type": "display_data",
          "data": {
            "text/plain": [
              "Map:   0%|          | 0/120000 [00:00<?, ? examples/s]"
            ],
            "application/vnd.jupyter.widget-view+json": {
              "version_major": 2,
              "version_minor": 0,
              "model_id": "7ff7a56b64154f859efcca829d4fa591"
            }
          },
          "metadata": {}
        },
        {
          "output_type": "display_data",
          "data": {
            "text/plain": [
              "Map:   0%|          | 0/7600 [00:00<?, ? examples/s]"
            ],
            "application/vnd.jupyter.widget-view+json": {
              "version_major": 2,
              "version_minor": 0,
              "model_id": "8f6d762aed4e4eb5b242545d4a8e83de"
            }
          },
          "metadata": {}
        }
      ],
      "source": [
        "from datasets import load_dataset, Split, DatasetDict\n",
        "\n",
        "colnames = ['topic', 'title', 'news']\n",
        "\n",
        "train_ds = load_dataset(\"csv\", data_files='train.csv', sep=',', split=Split.ALL, column_names=colnames)\n",
        "test_ds = load_dataset(\"csv\", data_files='test.csv', sep=',', split=Split.ALL, column_names=colnames)\n",
        "\n",
        "datasets = DatasetDict({'train': train_ds, 'test': test_ds})\n",
        "datasets = datasets.map(lambda row: {'topic': row['topic']-1, 'news': preproc_description(row['news'])})\n",
        "datasets = datasets.select_columns(['topic', 'news'])"
      ]
    },
    {
      "cell_type": "markdown",
      "id": "6c57d497",
      "metadata": {
        "id": "6c57d497"
      },
      "source": [
        "![](https://raw.githubusercontent.com/dvgodoy/assets/main/PyTorchInPractice/images/ch0/data_step5.png)"
      ]
    },
    {
      "cell_type": "code",
      "execution_count": 9,
      "id": "544579b4",
      "metadata": {
        "id": "544579b4"
      },
      "outputs": [],
      "source": [
        "from torch.utils.data import DataLoader\n",
        "\n",
        "dataloaders = {}\n",
        "dataloaders['train'] = DataLoader(dataset=datasets['train'], batch_size=32, shuffle=True)\n",
        "dataloaders['test'] = DataLoader(dataset=datasets['test'], batch_size=32)"
      ]
    },
    {
      "cell_type": "markdown",
      "id": "d603703e",
      "metadata": {
        "id": "d603703e"
      },
      "source": [
        "### 16.5.2 Tokenizing and Padding"
      ]
    },
    {
      "cell_type": "code",
      "execution_count": 12,
      "id": "24014a37",
      "metadata": {
        "id": "24014a37",
        "outputId": "09d04df8-d291-4c5c-8046-25e79890ca17",
        "colab": {
          "base_uri": "https://localhost:8080/"
        }
      },
      "outputs": [
        {
          "output_type": "stream",
          "name": "stdout",
          "text": [
            "[==================================================] 100.0% 66.0/66.0MB downloaded\n"
          ]
        }
      ],
      "source": [
        "from gensim import downloader\n",
        "from gensim.utils import simple_preprocess\n",
        "\n",
        "vector = downloader.load('glove-wiki-gigaword-50')\n",
        "\n",
        "tokenizer = simple_preprocess\n",
        "d_model = vector.vector_size\n",
        "max_length = 100\n",
        "n_outputs = 4\n",
        "\n",
        "key_to_index = vector.key_to_index\n",
        "pad_token_id = len(key_to_index)\n",
        "unk_token_id = pad_token_id + 1"
      ]
    },
    {
      "cell_type": "code",
      "execution_count": 13,
      "id": "2f4cc03d",
      "metadata": {
        "id": "2f4cc03d"
      },
      "outputs": [],
      "source": [
        "def encode_str(key_to_index, tokens, unk_token_id):\n",
        "    token_ids = [key_to_index.get(token, unk_token_id) for token in tokens]\n",
        "    return token_ids\n",
        "\n",
        "def encode_batch(key_to_index, batch, max_len=None, padding=False, pad_token_id=-1, unk_token_id=-1):\n",
        "    # Truncate every sentence to max_len\n",
        "    # write your code here\n",
        "    if isinstance(max_len, int):\n",
        "        truncated = [s[:max_len] for s in batch]\n",
        "    else:\n",
        "        truncated = batch[:]\n",
        "\n",
        "    # Check the actual maximum length of the (truncated) inputs\n",
        "    # write your code here\n",
        "    current_max = max([len(s) for s in truncated])\n",
        "\n",
        "    batch_ids = []\n",
        "    for tokens in truncated:\n",
        "        token_ids = encode_str(key_to_index, tokens, unk_token_id)\n",
        "        if padding:\n",
        "            # Appends as many padding tokens as necessary to make every\n",
        "            # sentence as long as the actual maximum length\n",
        "            # write your code here\n",
        "            token_ids.extend([pad_token_id] * (current_max - len(token_ids)))\n",
        "        batch_ids.append(token_ids)\n",
        "    return batch_ids"
      ]
    },
    {
      "cell_type": "code",
      "execution_count": 14,
      "id": "e86d323b",
      "metadata": {
        "id": "e86d323b",
        "outputId": "71091804-4bd4-45ba-b8e8-6a222529cf61",
        "colab": {
          "base_uri": "https://localhost:8080/"
        }
      },
      "outputs": [
        {
          "output_type": "stream",
          "name": "stdout",
          "text": [
            "[[50, 196, 220, 9080, 5390, 1938, 559, 4, 901, 11656, 50, 7532, 732, 12, 29, 2488, 4, 27060, 5, 2378, 925, 1122, 17, 0, 295, 1979, 3, 134, 779, 13, 0, 586, 400000, 400000, 400000, 400000, 400000, 400000, 400000, 400000, 400000, 400000, 400000, 400000, 400000, 400000], [2046, 2372, 25632, 5023, 205924, 31, 843, 173, 830, 42471, 17, 95, 1516, 128, 2058, 131, 29, 66, 3, 202, 1480, 400000, 400000, 400000, 400000, 400000, 400000, 400000, 400000, 400000, 400000, 400000, 400000, 400000, 400000, 400000, 400000, 400000, 400000, 400000, 400000, 400000, 400000, 400000, 400000, 400000], [50, 128, 4198, 20, 31, 0, 2168, 4, 0, 3632, 3, 2154, 5, 4323, 862, 10, 152, 883, 8443, 108204, 13, 0, 10946, 0, 20164, 8512, 42218, 13788, 0, 268, 3, 5190, 8512, 75, 10946, 1275, 2083, 622, 653, 268, 4824, 5, 29, 7542, 46426, 1252]]\n"
          ]
        }
      ],
      "source": [
        "batch = next(iter(dataloaders['train']))\n",
        "\n",
        "labels, sentences = batch['topic'], batch['news']\n",
        "\n",
        "tokenized_X = [tokenizer(d) for d in sentences]\n",
        "\n",
        "padded_X = encode_batch(key_to_index,\n",
        "                        tokenized_X,\n",
        "                        max_len=max_length-1,\n",
        "                        padding=True,\n",
        "                        pad_token_id=pad_token_id,\n",
        "                        unk_token_id=unk_token_id)\n",
        "print(padded_X[:3])"
      ]
    },
    {
      "cell_type": "code",
      "execution_count": 15,
      "id": "12244ddc",
      "metadata": {
        "colab": {
          "base_uri": "https://localhost:8080/"
        },
        "id": "12244ddc",
        "outputId": "1145f605-f88e-48c4-be8c-9dc19b3986db"
      },
      "outputs": [
        {
          "output_type": "execute_result",
          "data": {
            "text/plain": [
              "(torch.Size([32, 46]),\n",
              " tensor([False, False, False, False, False, False, False, False, False, False,\n",
              "         False, False, False, False, False, False, False, False, False, False,\n",
              "         False, False, False, False, False, False, False, False, False, False,\n",
              "         False, False,  True,  True,  True,  True,  True,  True,  True,  True,\n",
              "          True,  True,  True,  True,  True,  True]))"
            ]
          },
          "metadata": {},
          "execution_count": 15
        }
      ],
      "source": [
        "import torch\n",
        "\n",
        "# If a BoolTensor is provided, positions with True is not allowed to attend while False values will be unchanged.\n",
        "# https://pytorch.org/tutorials/beginner/translation_transformer.html\n",
        "# src_padding_mask = (src == PAD_IDX).transpose(0, 1)\n",
        "\n",
        "pad_mask = torch.as_tensor(padded_X) == pad_token_id\n",
        "pad_mask.shape, pad_mask[0]"
      ]
    },
    {
      "cell_type": "markdown",
      "id": "b8c712c0",
      "metadata": {
        "id": "b8c712c0"
      },
      "source": [
        "### 16.5.3 Word Embeddings"
      ]
    },
    {
      "cell_type": "code",
      "execution_count": 16,
      "id": "3601a6b0",
      "metadata": {
        "id": "3601a6b0"
      },
      "outputs": [],
      "source": [
        "import torch.nn as nn\n",
        "\n",
        "tensor_glove = torch.as_tensor(vector.vectors).float()\n",
        "# zero embeddings for padding and unknown tokens\n",
        "tensor_glove = torch.cat([tensor_glove, torch.zeros((2, d_model))])\n",
        "\n",
        "embedding = nn.Embedding.from_pretrained(tensor_glove)\n",
        "\n",
        "def get_embeddings(embedding, token_ids):\n",
        "    valid_ids = torch.as_tensor([token_id for token_id in token_ids if token_id >= 0])\n",
        "    embedded_tokens = embedding(valid_ids)\n",
        "    return embedded_tokens\n",
        "\n",
        "def get_batch_embeddings(embedding, token_ids):\n",
        "    # Retrieve embeddings from the Vector object using `get_vecs_by_tokens`\n",
        "    # Make sure to get the shapes right, and concatenate the tensors so\n",
        "    # the resulting shape is N, L, D\n",
        "    embeddings = torch.cat([get_embeddings(embedding, ids).unsqueeze(0)\n",
        "                            for ids in token_ids], dim=0)\n",
        "    return embeddings"
      ]
    },
    {
      "cell_type": "code",
      "execution_count": 17,
      "id": "39119a84",
      "metadata": {
        "colab": {
          "base_uri": "https://localhost:8080/"
        },
        "id": "39119a84",
        "outputId": "16ba3805-717f-44fa-ddf4-6789fbea144a"
      },
      "outputs": [
        {
          "output_type": "execute_result",
          "data": {
            "text/plain": [
              "(torch.Size([32, 46, 50]),\n",
              " tensor([[[ 1.9511e-01,  5.0739e-01,  1.4709e-03,  ...,  3.0488e-02,\n",
              "           -1.4272e-01,  4.5411e-01],\n",
              "          [-3.1828e-01,  7.8772e-01, -2.6618e-01,  ..., -3.6023e-01,\n",
              "           -1.7866e-01,  1.1236e+00],\n",
              "          [-6.6508e-01,  7.8362e-01,  7.4452e-01,  ...,  2.5994e-01,\n",
              "            6.4557e-03, -1.9891e-01],\n",
              "          ...,\n",
              "          [ 0.0000e+00,  0.0000e+00,  0.0000e+00,  ...,  0.0000e+00,\n",
              "            0.0000e+00,  0.0000e+00],\n",
              "          [ 0.0000e+00,  0.0000e+00,  0.0000e+00,  ...,  0.0000e+00,\n",
              "            0.0000e+00,  0.0000e+00],\n",
              "          [ 0.0000e+00,  0.0000e+00,  0.0000e+00,  ...,  0.0000e+00,\n",
              "            0.0000e+00,  0.0000e+00]],\n",
              " \n",
              "         [[-6.3409e-01,  1.8108e-01,  2.8813e-02,  ..., -1.7897e-01,\n",
              "            1.1290e-01,  9.8408e-03],\n",
              "          [ 6.7309e-01, -7.4049e-01,  1.6339e+00,  ..., -3.8456e-01,\n",
              "           -2.0224e-01,  2.0746e-01],\n",
              "          [ 3.9715e-01, -1.0388e+00,  1.4234e+00,  ...,  5.3385e-01,\n",
              "           -4.8099e-01,  1.3142e-01],\n",
              "          ...,\n",
              "          [ 0.0000e+00,  0.0000e+00,  0.0000e+00,  ...,  0.0000e+00,\n",
              "            0.0000e+00,  0.0000e+00],\n",
              "          [ 0.0000e+00,  0.0000e+00,  0.0000e+00,  ...,  0.0000e+00,\n",
              "            0.0000e+00,  0.0000e+00],\n",
              "          [ 0.0000e+00,  0.0000e+00,  0.0000e+00,  ...,  0.0000e+00,\n",
              "            0.0000e+00,  0.0000e+00]]]))"
            ]
          },
          "metadata": {},
          "execution_count": 17
        }
      ],
      "source": [
        "src = get_batch_embeddings(embedding, padded_X)\n",
        "src.shape, src[:2]"
      ]
    },
    {
      "cell_type": "markdown",
      "id": "a9fcf0b5",
      "metadata": {
        "id": "a9fcf0b5"
      },
      "source": [
        "### 16.5.4 Classifier Token\n",
        "\n",
        "![](https://raw.githubusercontent.com/dvgodoy/assets/main/PyTorchInPractice/images/ch0/model_step1.png)"
      ]
    },
    {
      "cell_type": "code",
      "execution_count": 18,
      "id": "ddad9599",
      "metadata": {
        "colab": {
          "base_uri": "https://localhost:8080/"
        },
        "id": "ddad9599",
        "outputId": "8a157554-35b2-475d-ac35-9738d3242b79"
      },
      "outputs": [
        {
          "output_type": "execute_result",
          "data": {
            "text/plain": [
              "(torch.Size([32, 1, 50]),\n",
              " tensor([[[0., 0., 0.,  ..., 0., 0., 0.]],\n",
              " \n",
              "         [[0., 0., 0.,  ..., 0., 0., 0.]],\n",
              " \n",
              "         [[0., 0., 0.,  ..., 0., 0., 0.]],\n",
              " \n",
              "         ...,\n",
              " \n",
              "         [[0., 0., 0.,  ..., 0., 0., 0.]],\n",
              " \n",
              "         [[0., 0., 0.,  ..., 0., 0., 0.]],\n",
              " \n",
              "         [[0., 0., 0.,  ..., 0., 0., 0.]]], grad_fn=<ExpandBackward0>))"
            ]
          },
          "metadata": {},
          "execution_count": 18
        }
      ],
      "source": [
        "import torch.nn as nn\n",
        "\n",
        "cls_token = nn.Parameter(torch.zeros(1, 1, d_model))\n",
        "# Special classifier token\n",
        "# 1, 1, D -> N, 1, D\n",
        "cls_tokens = cls_token.expand(len(padded_X), -1, -1)\n",
        "cls_tokens.shape, cls_tokens"
      ]
    },
    {
      "cell_type": "code",
      "execution_count": 19,
      "id": "c21ac074",
      "metadata": {
        "colab": {
          "base_uri": "https://localhost:8080/"
        },
        "id": "c21ac074",
        "outputId": "cd857229-8cc1-458c-c0a9-662f2e3bf3f9"
      },
      "outputs": [
        {
          "output_type": "execute_result",
          "data": {
            "text/plain": [
              "(torch.Size([47, 50]),\n",
              " tensor([[ 0.0000,  0.0000,  0.0000,  ...,  0.0000,  0.0000,  0.0000],\n",
              "         [-0.6341,  0.1811,  0.0288,  ..., -0.1790,  0.1129,  0.0098],\n",
              "         [ 0.6731, -0.7405,  1.6339,  ..., -0.3846, -0.2022,  0.2075],\n",
              "         ...,\n",
              "         [ 0.0000,  0.0000,  0.0000,  ...,  0.0000,  0.0000,  0.0000],\n",
              "         [ 0.0000,  0.0000,  0.0000,  ...,  0.0000,  0.0000,  0.0000],\n",
              "         [ 0.0000,  0.0000,  0.0000,  ...,  0.0000,  0.0000,  0.0000]],\n",
              "        grad_fn=<SelectBackward0>))"
            ]
          },
          "metadata": {},
          "execution_count": 19
        }
      ],
      "source": [
        "# Concatenates CLS tokens -> N, 1 + L, D\n",
        "embeddings = torch.cat((cls_tokens, src), dim=1)\n",
        "embeddings[1].shape, embeddings[1]"
      ]
    },
    {
      "cell_type": "code",
      "execution_count": 20,
      "id": "c6145fbd",
      "metadata": {
        "colab": {
          "base_uri": "https://localhost:8080/"
        },
        "id": "c6145fbd",
        "outputId": "bcd459c7-e87e-491e-c8c9-3b383fdcd810"
      },
      "outputs": [
        {
          "output_type": "execute_result",
          "data": {
            "text/plain": [
              "(torch.Size([32, 47]),\n",
              " tensor([False, False, False, False, False, False, False, False, False, False,\n",
              "         False, False, False, False, False, False, False, False, False, False,\n",
              "         False, False, False, False, False, False, False, False, False, False,\n",
              "         False, False, False,  True,  True,  True,  True,  True,  True,  True,\n",
              "          True,  True,  True,  True,  True,  True,  True]))"
            ]
          },
          "metadata": {},
          "execution_count": 20
        }
      ],
      "source": [
        "cls_mask = torch.zeros(len(padded_X), 1)\n",
        "pad_mask = torch.cat((cls_mask, pad_mask), dim=1).bool()\n",
        "pad_mask.shape, pad_mask[0]"
      ]
    },
    {
      "cell_type": "markdown",
      "id": "3aa50e2c",
      "metadata": {
        "id": "3aa50e2c"
      },
      "source": [
        "### 16.5.5 Positioning\n",
        "\n",
        "![](https://raw.githubusercontent.com/dvgodoy/assets/main/PyTorchInPractice/images/ch0/model_step1.png)"
      ]
    },
    {
      "cell_type": "code",
      "execution_count": 21,
      "id": "38a86572",
      "metadata": {
        "colab": {
          "base_uri": "https://localhost:8080/"
        },
        "id": "38a86572",
        "outputId": "b934224c-b10a-42e4-d8f0-bfc7ab93e4ce"
      },
      "outputs": [
        {
          "output_type": "execute_result",
          "data": {
            "text/plain": [
              "torch.Size([1, 100, 50])"
            ]
          },
          "metadata": {},
          "execution_count": 21
        }
      ],
      "source": [
        "pe = PositionalEncoding(max_length, d_model)\n",
        "pe.pe.shape"
      ]
    },
    {
      "cell_type": "code",
      "execution_count": 22,
      "id": "dfa87978",
      "metadata": {
        "colab": {
          "base_uri": "https://localhost:8080/"
        },
        "id": "dfa87978",
        "outputId": "e1224001-04b1-4375-cbcb-ad84afa234db"
      },
      "outputs": [
        {
          "output_type": "execute_result",
          "data": {
            "text/plain": [
              "(torch.Size([47, 50]),\n",
              " tensor([[ 0.0000e+00,  1.0000e+00,  0.0000e+00,  ...,  1.0000e+00,\n",
              "           0.0000e+00,  1.0000e+00],\n",
              "         [-3.6422e+00,  1.8207e+00,  8.4169e-01,  ..., -2.6551e-01,\n",
              "           7.9847e-01,  1.0696e+00],\n",
              "         [ 5.6688e+00, -5.6522e+00,  1.2536e+01,  ..., -1.7192e+00,\n",
              "          -1.4298e+00,  2.4670e+00],\n",
              "         ...,\n",
              "         [ 1.7702e-02,  9.9984e-01, -8.2791e-01,  ...,  9.9996e-01,\n",
              "           6.3599e-03,  9.9998e-01],\n",
              "         [ 8.5090e-01,  5.2532e-01, -2.7975e-01,  ...,  9.9996e-01,\n",
              "           6.5044e-03,  9.9998e-01],\n",
              "         [ 9.0179e-01, -4.3218e-01,  3.9705e-01,  ...,  9.9995e-01,\n",
              "           6.6490e-03,  9.9998e-01]], grad_fn=<SelectBackward0>))"
            ]
          },
          "metadata": {},
          "execution_count": 22
        }
      ],
      "source": [
        "embeddings = pe(embeddings)\n",
        "embeddings[1].shape, embeddings[1]"
      ]
    },
    {
      "cell_type": "markdown",
      "id": "e4c09a4b",
      "metadata": {
        "id": "e4c09a4b"
      },
      "source": [
        "### 16.5.6 Hidden States"
      ]
    },
    {
      "cell_type": "code",
      "execution_count": 23,
      "id": "3321bf2c",
      "metadata": {
        "id": "3321bf2c"
      },
      "outputs": [],
      "source": [
        "layer = EncoderLayer(n_heads=2, d_model=d_model, ff_units=128)\n",
        "encoder = EncoderTransf(layer, n_layers=1, max_len=max_length)"
      ]
    },
    {
      "cell_type": "code",
      "execution_count": 24,
      "id": "ffa761d1",
      "metadata": {
        "colab": {
          "base_uri": "https://localhost:8080/"
        },
        "id": "ffa761d1",
        "outputId": "e4983bf4-e972-4360-fc88-60be653a7ab3"
      },
      "outputs": [
        {
          "output_type": "execute_result",
          "data": {
            "text/plain": [
              "torch.Size([32, 47, 50])"
            ]
          },
          "metadata": {},
          "execution_count": 24
        }
      ],
      "source": [
        "hidden_states = encoder(embeddings, pad_mask)\n",
        "hidden_states.shape"
      ]
    },
    {
      "cell_type": "markdown",
      "id": "89a5887b",
      "metadata": {
        "id": "89a5887b"
      },
      "source": [
        "![](https://raw.githubusercontent.com/dvgodoy/assets/main/PyTorchInPractice/images/ch14/cls_hidden_state.png)"
      ]
    },
    {
      "cell_type": "markdown",
      "id": "ded89e5d",
      "metadata": {
        "id": "ded89e5d"
      },
      "source": [
        "### 16.5.7 Classifier \"Head\"\n",
        "\n",
        "![](https://raw.githubusercontent.com/dvgodoy/assets/main/PyTorchInPractice/images/ch0/model_step1.png)"
      ]
    },
    {
      "cell_type": "code",
      "execution_count": 25,
      "id": "fa2c41ce",
      "metadata": {
        "colab": {
          "base_uri": "https://localhost:8080/"
        },
        "id": "fa2c41ce",
        "outputId": "f86b215b-f13a-4d54-b7cd-5ddd1b546c53"
      },
      "outputs": [
        {
          "output_type": "execute_result",
          "data": {
            "text/plain": [
              "torch.Size([32, 50])"
            ]
          },
          "metadata": {},
          "execution_count": 25
        }
      ],
      "source": [
        "# Gets state from first token only: [CLS]\n",
        "cls_state = hidden_states[:, 0, :]  # N, D\n",
        "cls_state.shape"
      ]
    },
    {
      "cell_type": "code",
      "execution_count": 26,
      "id": "55af7fe9",
      "metadata": {
        "colab": {
          "base_uri": "https://localhost:8080/"
        },
        "id": "55af7fe9",
        "outputId": "b382f01d-626a-49af-b8e3-a466d04e516f"
      },
      "outputs": [
        {
          "output_type": "execute_result",
          "data": {
            "text/plain": [
              "torch.Size([32, 4])"
            ]
          },
          "metadata": {},
          "execution_count": 26
        }
      ],
      "source": [
        "mlp = nn.Linear(d_model, n_outputs)\n",
        "\n",
        "logits = mlp(cls_state) # N, outputs\n",
        "logits.shape"
      ]
    },
    {
      "cell_type": "code",
      "execution_count": 27,
      "id": "3ea863ea",
      "metadata": {
        "id": "3ea863ea"
      },
      "outputs": [],
      "source": [
        "class TransfClassifier(nn.Module):\n",
        "    def __init__(self, tokenizer, vector, encoder, n_outputs):\n",
        "        super().__init__()\n",
        "        # Our \"hybrid\" transformer takes an instance of the\n",
        "        # Vector class, such as GloVe to retrieve the word\n",
        "        # embeddings\n",
        "        self.vector = vector\n",
        "        # The number of dimensions (D) of the model is the\n",
        "        # same as the size of the embeddings\n",
        "\n",
        "        self.d_model = vector.vector_size\n",
        "\n",
        "        tensor_glove = torch.as_tensor(vector.vectors).float()\n",
        "        tensor_glove = torch.cat([tensor_glove, torch.zeros((2, self.d_model))])\n",
        "        self.fixed_embeddings = nn.Embedding.from_pretrained(tensor_glove)\n",
        "        self.pad_token_id = len(self.vector.key_to_index)\n",
        "        self.unk_token_id = self.pad_token_id + 1\n",
        "\n",
        "        # The tokenizer that will be used - it needs to\n",
        "        # produce tokens that are understood by the Vector\n",
        "        # GloVe's vocabulary is made of full words (not subwords)\n",
        "        # so the tokenizer must produce full words as well\n",
        "        self.tokenizer = tokenizer\n",
        "        # The number of outputs/classes the model should\n",
        "        # produce logits for\n",
        "        self.n_outputs = n_outputs\n",
        "\n",
        "        # The underlying structure of the model is\n",
        "        # made of a Transformer Encoder\n",
        "        self.encoder = encoder\n",
        "        # The MLP is the classifier \"head\" that maps\n",
        "        # the hidden state produced by the classifier token\n",
        "        # to the number of outputs (logits)\n",
        "        self.mlp = nn.Linear(self.d_model, n_outputs)\n",
        "        # These are the embeddings corresponding to the\n",
        "        # special classifier token, which are going to\n",
        "        # be learned during training - they are a parameter\n",
        "        self.cls_token = nn.Parameter(torch.zeros(1, 1, self.d_model))\n",
        "\n",
        "        # Positional encoding will add positional information\n",
        "        # according to the maximum sequence length, and number\n",
        "        # of dimenions of the embeddings\n",
        "        self.pe = PositionalEncoding(self.encoder.pe.max_len, self.d_model)\n",
        "\n",
        "    def _get_batch_embeddings(self, token_ids):\n",
        "        device = next(iter(self.parameters())).device\n",
        "        # Retrieve embeddings from the Vector object using `get_vecs_by_tokens`\n",
        "        # Make sure to get the shapes right, and concatenate the tensors so\n",
        "        # the resulting shape is N, L, D\n",
        "        embeddings = torch.cat([self.fixed_embeddings(torch.as_tensor(ids, device=device)).unsqueeze(0)\n",
        "                                for ids in token_ids], dim=0)\n",
        "        return embeddings\n",
        "\n",
        "    def preprocess(self, X):\n",
        "        # in a mini-batch of N sequences\n",
        "        # gets embeddings (size D) for each token\n",
        "        # in the sequence (size L)\n",
        "        # N, L -> N, L, D\n",
        "        src = self._get_batch_embeddings(X)\n",
        "\n",
        "        # creates a mini-batch (size N) of special classifier tokens\n",
        "        # each token has same size as embeddings (D)\n",
        "        # 1, 1, D -> N, 1, D\n",
        "        # it's part of the model (created as nn.Parameter), so it is sent to the device\n",
        "        # with the rest of the model\n",
        "        cls_tokens = self.cls_token.expand(len(X), -1, -1)\n",
        "\n",
        "        # Concatenates CLS tokens to the source embeddings\n",
        "        # N, 1 + L, D\n",
        "        src = torch.cat((cls_tokens, src.to(cls_tokens.device)), dim=1)\n",
        "        return src\n",
        "\n",
        "    def encode(self, source, source_mask=None):\n",
        "        # Encoder generates \"hidden states\"\n",
        "        # src to L, N, D and output states back to N, L, D\n",
        "        states = self.encoder(source, source_mask)\n",
        "        return states\n",
        "\n",
        "    def source_mask(self, X):\n",
        "        # If a BoolTensor is provided, positions with True is not allowed to attend\n",
        "        # while False values will be unchanged.\n",
        "\n",
        "        # Original code\n",
        "        # https://pytorch.org/tutorials/beginner/translation_transformer.html\n",
        "        # src_padding_mask = (src == PAD_IDX).transpose(0, 1)\n",
        "\n",
        "        # the classifier token shouldn't be ignored, so its mask is zero/False\n",
        "        cls_mask = torch.zeros(len(X), 1)\n",
        "        # for every padding token, we set the mask to True\n",
        "        pad_mask = torch.as_tensor(X) == self.pad_token_id\n",
        "\n",
        "        # concatenates the mask for the classifier tokens to\n",
        "        # the regular padding mask\n",
        "        pad_mask = torch.cat((cls_mask, pad_mask), dim=1).bool()\n",
        "        return pad_mask # N, D\n",
        "\n",
        "    def forward(self, X):\n",
        "        # tokenizes each sentence in the mini-batch\n",
        "        tokenized_X = [self.tokenizer(d) for d in X]\n",
        "        # pads all tokenized sequences to max length minus one\n",
        "        # subtracts one bc we're adding the CLS token\n",
        "        padded_X = encode_batch(self.vector.key_to_index,\n",
        "                        tokenized_X,\n",
        "                        max_len=99,\n",
        "                        padding=True,\n",
        "                        pad_token_id=self.pad_token_id,\n",
        "                        unk_token_id=self.unk_token_id)\n",
        "\n",
        "        device = next(iter(self.parameters())).device\n",
        "\n",
        "        # calls the preprocess method to get the embeddings\n",
        "        # and the special token embedding prepended to it\n",
        "        embeddings = self.preprocess(padded_X).to(device)\n",
        "        # add positional information to the embeddings\n",
        "        src = self.pe(embeddings)\n",
        "        # generates the mask to identify the padding tokens\n",
        "        mask = self.source_mask(padded_X).to(device)\n",
        "\n",
        "        # Featurizer - uses a Transformer Encoder to\n",
        "        # produce hidden states (same size as embeddings)\n",
        "        # which are going to used as features\n",
        "        states = self.encode(src, mask)\n",
        "        # Gets state from first token only: [CLS]\n",
        "        cls_state = states[:, 0, :]  # N, 1, D\n",
        "        # Uses the state produced by the classifier token\n",
        "        # to feed the classifier \"head\" (MLP) that\n",
        "        # produces logits\n",
        "        out = self.mlp(cls_state) # N, 1, outputs\n",
        "\n",
        "        # Gets the attention scores of the attention heads\n",
        "        # in the last encoder layer to visualize them later\n",
        "        alphas = self.encoder.layers[-1].self_attn_heads.alphas\n",
        "        return {'hidden_states': states,\n",
        "                'logits': out,\n",
        "                'embeddings': embeddings,\n",
        "                'alphas': alphas[:, :, 0, :].squeeze()}"
      ]
    },
    {
      "cell_type": "code",
      "execution_count": 28,
      "id": "4eac7433",
      "metadata": {
        "id": "4eac7433"
      },
      "outputs": [],
      "source": [
        "vector = downloader.load('glove-wiki-gigaword-50')\n",
        "tokenizer = simple_preprocess\n",
        "d_model = vector.vector_size\n",
        "\n",
        "max_length = 100\n",
        "n_outputs = 4\n",
        "\n",
        "layer = EncoderLayer(n_heads=2, d_model=d_model, ff_units=128)\n",
        "encoder = EncoderTransf(layer, n_layers=1, max_len=max_length)\n",
        "model = TransfClassifier(tokenizer, vector, encoder, n_outputs=4)"
      ]
    },
    {
      "cell_type": "markdown",
      "id": "162ec9a9",
      "metadata": {
        "id": "162ec9a9"
      },
      "source": [
        "***\n",
        "**ASIDE: Transformer in PyTorch**\n",
        "\n",
        "Although we've used simplified and custom version of the components used to build a Transformer Encoder for educational purposes (which will allows us to easily visualize the attention scores), PyTorch has its own, full, implementation of every component:\n",
        "\n",
        "- [TransformerEncoderLayer](https://pytorch.org/docs/stable/generated/torch.nn.TransformerEncoderLayer.html)\n",
        "- [TransformerEncoder](https://pytorch.org/docs/stable/generated/torch.nn.TransformerEncoder.html)\n",
        "- [TransformerDecoderLayer](https://pytorch.org/docs/stable/generated/torch.nn.TransformerDecoderLayer.html)\n",
        "- [TransformerDecoder](https://pytorch.org/docs/stable/generated/torch.nn.TransformerDecoder.html)\n",
        "- [Transformer](https://pytorch.org/docs/stable/generated/torch.nn.Transformer.html)\n",
        "\n",
        "Keep in mind that, by default, PyTorch's Transformer uses sequence-first mini-batches. In order to use mini-batches of the regular shape, as returned by a typical data loader, make sure to set the `batch_first` argument to `True`.\n",
        "\n",
        "Using PyTorch's own components, we could recreate our encoder in a quite similar way:\n",
        "\n",
        "```python\n",
        "encoder_layer = nn.TransformerEncoderLayer(nhead=2, d_model=d_model, dim_feedforward=128, batch_first=True)\n",
        "transformer_encoder = nn.TransformerEncoder(encoder_layer, num_layers=1)\n",
        "```\n",
        "\n",
        "Note that, unlike our own, PyTorch's Transformer Encoder does not implement positional encoding.\n",
        "***"
      ]
    },
    {
      "cell_type": "code",
      "execution_count": 29,
      "id": "54cc3d7f",
      "metadata": {
        "colab": {
          "base_uri": "https://localhost:8080/"
        },
        "id": "54cc3d7f",
        "outputId": "245864b8-99b9-4338-e258-f9d834ef7769",
        "scrolled": true
      },
      "outputs": [
        {
          "output_type": "execute_result",
          "data": {
            "text/plain": [
              "dict_keys(['hidden_states', 'logits', 'embeddings', 'alphas'])"
            ]
          },
          "metadata": {},
          "execution_count": 29
        }
      ],
      "source": [
        "batch = next(iter(dataloaders['train']))\n",
        "labels, sentences = batch['topic'], batch['news']\n",
        "\n",
        "model.eval()\n",
        "out = model(sentences)\n",
        "out.keys()"
      ]
    },
    {
      "cell_type": "code",
      "execution_count": 30,
      "id": "957d40de",
      "metadata": {
        "colab": {
          "base_uri": "https://localhost:8080/"
        },
        "id": "957d40de",
        "outputId": "ab1edcdc-c451-496f-f76f-6fb96355ed21"
      },
      "outputs": [
        {
          "output_type": "execute_result",
          "data": {
            "text/plain": [
              "(torch.Size([32, 2, 58]),\n",
              " tensor([[[0.0926, 0.0634, 0.0716,  ..., 0.0000, 0.0000, 0.0000],\n",
              "          [0.1059, 0.0763, 0.0751,  ..., 0.0000, 0.0000, 0.0000]],\n",
              " \n",
              "         [[0.0415, 0.0343, 0.0278,  ..., 0.0000, 0.0000, 0.0000],\n",
              "          [0.0507, 0.0458, 0.0390,  ..., 0.0000, 0.0000, 0.0000]],\n",
              " \n",
              "         [[0.0258, 0.0409, 0.0296,  ..., 0.0000, 0.0000, 0.0000],\n",
              "          [0.0449, 0.0271, 0.0238,  ..., 0.0000, 0.0000, 0.0000]],\n",
              " \n",
              "         ...,\n",
              " \n",
              "         [[0.0338, 0.0251, 0.0368,  ..., 0.0000, 0.0000, 0.0000],\n",
              "          [0.0518, 0.0286, 0.0262,  ..., 0.0000, 0.0000, 0.0000]],\n",
              " \n",
              "         [[0.0446, 0.0253, 0.0549,  ..., 0.0000, 0.0000, 0.0000],\n",
              "          [0.0681, 0.0346, 0.0267,  ..., 0.0000, 0.0000, 0.0000]],\n",
              " \n",
              "         [[0.0552, 0.0387, 0.0485,  ..., 0.0000, 0.0000, 0.0000],\n",
              "          [0.0845, 0.0548, 0.0483,  ..., 0.0000, 0.0000, 0.0000]]]))"
            ]
          },
          "metadata": {},
          "execution_count": 30
        }
      ],
      "source": [
        "out['alphas'].shape, out['alphas']"
      ]
    },
    {
      "cell_type": "markdown",
      "id": "e403b14c",
      "metadata": {
        "id": "e403b14c"
      },
      "source": [
        "### 16.5.8 Training"
      ]
    },
    {
      "cell_type": "markdown",
      "id": "138bb5f4",
      "metadata": {
        "id": "138bb5f4"
      },
      "source": [
        "![](https://raw.githubusercontent.com/dvgodoy/assets/main/PyTorchInPractice/images/ch0/model_step1.png)"
      ]
    },
    {
      "cell_type": "code",
      "execution_count": 31,
      "id": "5cf8ff7d",
      "metadata": {
        "id": "5cf8ff7d"
      },
      "outputs": [],
      "source": [
        "torch.manual_seed(11)\n",
        "\n",
        "vector = downloader.load('glove-wiki-gigaword-50')\n",
        "tokenizer = simple_preprocess\n",
        "d_model = vector.vector_size\n",
        "\n",
        "max_length = 100\n",
        "n_outputs = 4\n",
        "\n",
        "layer = EncoderLayer(n_heads=2, d_model=d_model, ff_units=128)\n",
        "encoder = EncoderTransf(layer, n_layers=1, max_len=max_length)\n",
        "model = TransfClassifier(tokenizer, vector, encoder, n_outputs=4)"
      ]
    },
    {
      "cell_type": "markdown",
      "id": "709282b1",
      "metadata": {
        "id": "709282b1"
      },
      "source": [
        "![](https://raw.githubusercontent.com/dvgodoy/assets/main/PyTorchInPractice/images/ch0/model_step2.png)"
      ]
    },
    {
      "cell_type": "code",
      "execution_count": 32,
      "id": "4b4e9b6e",
      "metadata": {
        "id": "4b4e9b6e"
      },
      "outputs": [],
      "source": [
        "loss_fn = nn.CrossEntropyLoss()"
      ]
    },
    {
      "cell_type": "markdown",
      "id": "5346d1e1",
      "metadata": {
        "id": "5346d1e1"
      },
      "source": [
        "![](https://raw.githubusercontent.com/dvgodoy/assets/main/PyTorchInPractice/images/ch0/model_step3.png)"
      ]
    },
    {
      "cell_type": "code",
      "execution_count": 33,
      "id": "07ce2f9d",
      "metadata": {
        "id": "07ce2f9d"
      },
      "outputs": [],
      "source": [
        "import torch.optim as optim\n",
        "\n",
        "optimizer = optim.Adam(model.parameters(), lr=1e-3)"
      ]
    },
    {
      "cell_type": "markdown",
      "id": "0340d387",
      "metadata": {
        "id": "0340d387"
      },
      "source": [
        "![](https://raw.githubusercontent.com/dvgodoy/assets/main/PyTorchInPractice/images/ch0/model_step4.png)"
      ]
    },
    {
      "cell_type": "code",
      "execution_count": 34,
      "id": "2808ad6f",
      "metadata": {
        "id": "2808ad6f"
      },
      "outputs": [],
      "source": [
        "batch_losses = []\n",
        "\n",
        "device = 'cuda' if torch.cuda.is_available() else 'cpu'\n",
        "\n",
        "model.to(device)\n",
        "\n",
        "## Training\n",
        "for i, batch in enumerate(dataloaders['train']):\n",
        "    model.train()\n",
        "\n",
        "    labels, sentences = batch['topic'], batch['news']\n",
        "    labels = labels.to(device)\n",
        "\n",
        "    # Step 1 - forward pass\n",
        "    predictions = model(sentences)['logits']\n",
        "\n",
        "    # Step 2 - computing the loss\n",
        "    loss = loss_fn(predictions, labels)\n",
        "\n",
        "    # Step 3 - computing the gradients\n",
        "    loss.backward()\n",
        "    batch_losses.append(loss.item())\n",
        "\n",
        "    # Step 4 - updating parameters and zeroing gradients\n",
        "    optimizer.step()\n",
        "    optimizer.zero_grad()"
      ]
    },
    {
      "cell_type": "code",
      "execution_count": 35,
      "id": "621daf05",
      "metadata": {
        "colab": {
          "base_uri": "https://localhost:8080/",
          "height": 447
        },
        "id": "621daf05",
        "outputId": "8830cf9a-0f34-45db-a9b0-fabcbc5fc7c4"
      },
      "outputs": [
        {
          "output_type": "execute_result",
          "data": {
            "text/plain": [
              "[<matplotlib.lines.Line2D at 0x7ac9dff10190>]"
            ]
          },
          "metadata": {},
          "execution_count": 35
        },
        {
          "output_type": "display_data",
          "data": {
            "text/plain": [
              "<Figure size 640x480 with 1 Axes>"
            ],
            "image/png": "[encoded data removed]"
          },
          "metadata": {}
        }
      ],
      "source": [
        "from matplotlib import pyplot as plt\n",
        "plt.plot(batch_losses)"
      ]
    },
    {
      "cell_type": "markdown",
      "id": "e3eb50dc",
      "metadata": {
        "id": "e3eb50dc"
      },
      "source": [
        "### 16.5.9 Evaluation\n",
        "\n",
        "![](https://raw.githubusercontent.com/dvgodoy/assets/main/PyTorchInPractice/images/ch0/model_step5.png)"
      ]
    },
    {
      "cell_type": "code",
      "execution_count": 36,
      "id": "09521407",
      "metadata": {
        "id": "09521407",
        "outputId": "9ec9b601-60fc-443f-b762-ab7b2b306ae8",
        "colab": {
          "base_uri": "https://localhost:8080/",
          "height": 217,
          "referenced_widgets": [
            "a0d1cd7651bc4ebbb694d0b18bdcbba2",
            "ee2265b0746b4813823353dceaf05917",
            "b3a4d4615f7643d6904a8ebda21b40f5",
            "9531deb0470442cead3a846a12330cfa",
            "fe8a6c2198384a5a894f843d66684eb9",
            "914567ab27e24a118e9e128214664e6a",
            "7ff2d94b6a63424899f9d10a83437055",
            "ee47bba18ccd4b56923b1ff8c0e7c567",
            "faf46dc0de124893be8764e2f4b83dff",
            "31fa65764cd9458ca78516c53d2e8f91",
            "8f3ac6f86fe948b2b6e719f16feb5f26",
            "cea47887bc7340e885db7179e0b7d76a",
            "535113e00b8f4326920203da4a0505ab",
            "56f3234e71644b76b5a2f409040b6169",
            "b175cfc1a12c48ec8c65088376b64dce",
            "4abbbd7138e04bec8871102279d6fe7f",
            "b0399c0247564ed1b8824476e0ff8f4c",
            "59be55902e2241c9994db6275e3d5c25",
            "9f683d87aeac437b86e9357f3943854e",
            "32aaba65958941cab310a4b47ec3b18c",
            "849d646ce5b447f5a2da940f8cde268b",
            "9c05c86953b046319340805bf25be3b0",
            "8cc7316acf154a25885b2b7b2f13b268",
            "51c74b86f007489587194211d47a4d1f",
            "99babe22bf8549b9b44c37ad31193afb",
            "aae21de8f5b547d0905ab0a2a9f83383",
            "a3ba8627f2584a2cb137b1a3d3c19bdf",
            "b5f1df9393c6416eb790e98d1664846f",
            "5eea5c565cc14138bfab501ee36a56b0",
            "6cbfd920cc47493390cb80eb9fee01ec",
            "1290fa138820433b93db6d16a5f99551",
            "92a1dd9eacd9475895024e482fdb71a1",
            "b672c64f20f44eefb37296ecb97b1831"
          ]
        }
      },
      "outputs": [
        {
          "output_type": "stream",
          "name": "stderr",
          "text": [
            "/usr/local/lib/python3.11/dist-packages/huggingface_hub/utils/_auth.py:94: UserWarning: \n",
            "The secret `HF_TOKEN` does not exist in your Colab secrets.\n",
            "To authenticate with the Hugging Face Hub, create a token in your settings tab (https://huggingface.co/settings/tokens), set it as secret in your Google Colab and restart your session.\n",
            "You will be able to reuse this secret in all of your notebooks.\n",
            "Please note that authentication is recommended but still optional to access public models or datasets.\n",
            "  warnings.warn(\n"
          ]
        },
        {
          "output_type": "display_data",
          "data": {
            "text/plain": [
              "Downloading builder script:   0%|          | 0.00/7.56k [00:00<?, ?B/s]"
            ],
            "application/vnd.jupyter.widget-view+json": {
              "version_major": 2,
              "version_minor": 0,
              "model_id": "a0d1cd7651bc4ebbb694d0b18bdcbba2"
            }
          },
          "metadata": {}
        },
        {
          "output_type": "display_data",
          "data": {
            "text/plain": [
              "Downloading builder script:   0%|          | 0.00/7.38k [00:00<?, ?B/s]"
            ],
            "application/vnd.jupyter.widget-view+json": {
              "version_major": 2,
              "version_minor": 0,
              "model_id": "cea47887bc7340e885db7179e0b7d76a"
            }
          },
          "metadata": {}
        },
        {
          "output_type": "display_data",
          "data": {
            "text/plain": [
              "Downloading builder script:   0%|          | 0.00/4.20k [00:00<?, ?B/s]"
            ],
            "application/vnd.jupyter.widget-view+json": {
              "version_major": 2,
              "version_minor": 0,
              "model_id": "8cc7316acf154a25885b2b7b2f13b268"
            }
          },
          "metadata": {}
        }
      ],
      "source": [
        "import evaluate\n",
        "\n",
        "metric1 = evaluate.load('precision', average=None)\n",
        "metric2 = evaluate.load('recall', average=None)\n",
        "metric3 = evaluate.load('accuracy')"
      ]
    },
    {
      "cell_type": "code",
      "execution_count": 38,
      "id": "adb5f038",
      "metadata": {
        "id": "adb5f038"
      },
      "outputs": [],
      "source": [
        "model.eval()\n",
        "\n",
        "for batch in dataloaders['test']:\n",
        "    labels, sentences = batch['topic'], batch['news']\n",
        "    labels = labels.to(device)\n",
        "\n",
        "    # Step 1 - forward pass\n",
        "    predictions = model(sentences)['logits']\n",
        "\n",
        "    pred_class = predictions.argmax(dim=1).tolist()\n",
        "    labels = labels.tolist()\n",
        "\n",
        "    metric1.add_batch(references=labels, predictions=pred_class)\n",
        "    metric2.add_batch(references=labels, predictions=pred_class)\n",
        "    metric3.add_batch(references=labels, predictions=pred_class)"
      ]
    },
    {
      "cell_type": "code",
      "execution_count": 39,
      "id": "d9f947cf",
      "metadata": {
        "colab": {
          "base_uri": "https://localhost:8080/"
        },
        "id": "d9f947cf",
        "outputId": "3b5c20ac-1711-4171-d63d-0f2d91fac61e"
      },
      "outputs": [
        {
          "output_type": "execute_result",
          "data": {
            "text/plain": [
              "({'precision': array([0.92214533, 0.93091276, 0.85072952, 0.80009519])},\n",
              " {'recall': array([0.84157895, 0.97157895, 0.79789474, 0.88473684])},\n",
              " {'accuracy': 0.8739473684210526})"
            ]
          },
          "metadata": {},
          "execution_count": 39
        }
      ],
      "source": [
        "metric1.compute(average=None), metric2.compute(average=None), metric3.compute()"
      ]
    },
    {
      "cell_type": "markdown",
      "id": "5800edba",
      "metadata": {
        "id": "5800edba"
      },
      "source": [
        "### 16.5.10 Visualizing Attention"
      ]
    },
    {
      "cell_type": "code",
      "execution_count": 40,
      "id": "abc67ddb",
      "metadata": {
        "colab": {
          "base_uri": "https://localhost:8080/"
        },
        "id": "abc67ddb",
        "outputId": "808f571b-8400-47e2-efe0-ecd070965519"
      },
      "outputs": [
        {
          "output_type": "execute_result",
          "data": {
            "text/plain": [
              "torch.Size([32, 2, 63])"
            ]
          },
          "metadata": {},
          "execution_count": 40
        }
      ],
      "source": [
        "batch = next(iter(dataloaders['train']))\n",
        "labels, sentences = batch['topic'], batch['news']\n",
        "\n",
        "model.eval()\n",
        "out = model(sentences)\n",
        "scores = out['alphas']\n",
        "scores.shape"
      ]
    },
    {
      "cell_type": "code",
      "execution_count": 41,
      "id": "9f7c45a0",
      "metadata": {
        "colab": {
          "base_uri": "https://localhost:8080/"
        },
        "id": "9f7c45a0",
        "outputId": "2365f808-c6c1-4ac0-b471-3de96ad0d437"
      },
      "outputs": [
        {
          "output_type": "execute_result",
          "data": {
            "text/plain": [
              "[[19, 7], [4, 7], [6, 16]]"
            ]
          },
          "metadata": {},
          "execution_count": 41
        }
      ],
      "source": [
        "top_idxs = scores[:, :, 1:].argmax(dim=2).tolist()\n",
        "top_idxs[:3]"
      ]
    },
    {
      "cell_type": "code",
      "execution_count": 42,
      "id": "9836b79d",
      "metadata": {
        "colab": {
          "base_uri": "https://localhost:8080/",
          "height": 1000
        },
        "id": "9836b79d",
        "outputId": "da7dc366-e629-474b-a352-340aefb4f303"
      },
      "outputs": [
        {
          "output_type": "execute_result",
          "data": {
            "text/plain": [
              "       Label Prediction         Head #1      Head #2  \\\n",
              "0     sports     sports            here     prospect   \n",
              "1   business   business          tanker     shipping   \n",
              "2   sci/tech   sci/tech        invented     gameboys   \n",
              "3   business   business       executive        stock   \n",
              "4   sci/tech   sci/tech    phonographic          bpi   \n",
              "5   business   business   international   currencies   \n",
              "6     sports     sports          sports         card   \n",
              "7     sports     sports         boxboro           ac   \n",
              "8   sci/tech   sci/tech             isv          ibm   \n",
              "9     sports     sports          sports       marino   \n",
              "10  business   business           union        unifi   \n",
              "11     world      world          geneva       highly   \n",
              "12     world      world          athens       greece   \n",
              "13  business   business            said     retailer   \n",
              "14    sports     sports            fate        berth   \n",
              "15  business   business  communications          sbc   \n",
              "16     world   sci/tech         epochal        china   \n",
              "17     world      world              ap       brazil   \n",
              "18  business      world           looms     churning   \n",
              "19  business   business          events    investors   \n",
              "20  sci/tech   sci/tech     association  downloading   \n",
              "21  sci/tech   sci/tech        security       oracle   \n",
              "22  sci/tech   sci/tech       equipment          ibm   \n",
              "23  business   business             nov     minsheng   \n",
              "24  business   business          winter    singapore   \n",
              "25    sports     sports         discuss     dolphins   \n",
              "26    sports     sports    indianapolis        colts   \n",
              "27  business      world   inexhaustible     dongguan   \n",
              "28  business   business         reuters       priced   \n",
              "29    sports     sports             fia      renault   \n",
              "30  business   business             air   bankruptcy   \n",
              "31     world      world           peace        india   \n",
              "\n",
              "                                                 News  \n",
              "0   Britain's golden girl, Kelly Holmes, faces the...  \n",
              "1   The founder of Greek tanker firm Stelmar Shipp...  \n",
              "2   MIDDLEBURG HEIGHTS, Ohio - The man who invente...  \n",
              "3   Thanks to the SEC, shareholders now get a long...  \n",
              "4   Trade association The British Phonographic Ass...  \n",
              "5   The US dollar fell yesterday against all the m...  \n",
              "6   (Sports Network) - The San Francisco Giants no...  \n",
              "7   In the final hour before each Acton-Boxboro Hi...  \n",
              "8   IBM (Quote, Chart) is easing restrictions on i...  \n",
              "9   CANTON, Ohio (Sports Network) - Former All-Pro...  \n",
              "10  A total of 140,000 members at union Unifi are ...  \n",
              "11  Prime Minister Manmohan Singh today headed for...  \n",
              "12  The school bus, on its way to Athens from cent...  \n",
              "13  Reuters - Retailer Saks Inc.  on Friday said i...  \n",
              "14  The Los Angeles Dodgers are closing in on thei...  \n",
              "15  NEW YORK, November 4 (newratings.com) - SBC Co...  \n",
              "16  As a growing economy produces new wealth and a...  \n",
              "17  AP - A school bus swerved off a narrow road an...  \n",
              "18  KANNAPOLIS, N.C. (Reuters) - After a more than...  \n",
              "19  Reuters - U.S. Treasury debt was down a sliver...  \n",
              "20  Beginning a new round of copyright infringemen...  \n",
              "21  Software maker Oracle will soon start issuing ...  \n",
              "22  U.S. House members accused IBM and other IT ve...  \n",
              "23  BEIJING, Nov. 22 (Xinhuaent) -- China's first ...  \n",
              "24  SINGAPORE - Crude oil futures hovered around t...  \n",
              "25  LSU football coach Nick Saban met with represe...  \n",
              "26  The Atlanta Falcons and Indianapolis Colts wil...  \n",
              "27  DONGGUAN, China -- Heralded by an unprecedente...  \n",
              "28  SAN FRANCISCO (Reuters) - Levi Strauss   Co. s...  \n",
              "29  The Renault F1 Teams latest signing was invite...  \n",
              "30  Delta Air Lines' CEO is cautioning that a tent...  \n",
              "31  Pakistan Prime Minister Shaukat Aziz says his ...  "
            ],
            "text/html": [
              "\n",
              "  <div id=\"df-24b025b2-3c87-4d97-8f95-7345bc55c3b8\" class=\"colab-df-container\">\n",
              "    <div>\n",
              "<style scoped>\n",
              "    .dataframe tbody tr th:only-of-type {\n",
              "        vertical-align: middle;\n",
              "    }\n",
              "\n",
              "    .dataframe tbody tr th {\n",
              "        vertical-align: top;\n",
              "    }\n",
              "\n",
              "    .dataframe thead th {\n",
              "        text-align: right;\n",
              "    }\n",
              "</style>\n",
              "<table border=\"1\" class=\"dataframe\">\n",
              "  <thead>\n",
              "    <tr style=\"text-align: right;\">\n",
              "      <th></th>\n",
              "      <th>Label</th>\n",
              "      <th>Prediction</th>\n",
              "      <th>Head #1</th>\n",
              "      <th>Head #2</th>\n",
              "      <th>News</th>\n",
              "    </tr>\n",
              "  </thead>\n",
              "  <tbody>\n",
              "    <tr>\n",
              "      <th>0</th>\n",
              "      <td>sports</td>\n",
              "      <td>sports</td>\n",
              "      <td>here</td>\n",
              "      <td>prospect</td>\n",
              "      <td>Britain's golden girl, Kelly Holmes, faces the...</td>\n",
              "    </tr>\n",
              "    <tr>\n",
              "      <th>1</th>\n",
              "      <td>business</td>\n",
              "      <td>business</td>\n",
              "      <td>tanker</td>\n",
              "      <td>shipping</td>\n",
              "      <td>The founder of Greek tanker firm Stelmar Shipp...</td>\n",
              "    </tr>\n",
              "    <tr>\n",
              "      <th>2</th>\n",
              "      <td>sci/tech</td>\n",
              "      <td>sci/tech</td>\n",
              "      <td>invented</td>\n",
              "      <td>gameboys</td>\n",
              "      <td>MIDDLEBURG HEIGHTS, Ohio - The man who invente...</td>\n",
              "    </tr>\n",
              "    <tr>\n",
              "      <th>3</th>\n",
              "      <td>business</td>\n",
              "      <td>business</td>\n",
              "      <td>executive</td>\n",
              "      <td>stock</td>\n",
              "      <td>Thanks to the SEC, shareholders now get a long...</td>\n",
              "    </tr>\n",
              "    <tr>\n",
              "      <th>4</th>\n",
              "      <td>sci/tech</td>\n",
              "      <td>sci/tech</td>\n",
              "      <td>phonographic</td>\n",
              "      <td>bpi</td>\n",
              "      <td>Trade association The British Phonographic Ass...</td>\n",
              "    </tr>\n",
              "    <tr>\n",
              "      <th>5</th>\n",
              "      <td>business</td>\n",
              "      <td>business</td>\n",
              "      <td>international</td>\n",
              "      <td>currencies</td>\n",
              "      <td>The US dollar fell yesterday against all the m...</td>\n",
              "    </tr>\n",
              "    <tr>\n",
              "      <th>6</th>\n",
              "      <td>sports</td>\n",
              "      <td>sports</td>\n",
              "      <td>sports</td>\n",
              "      <td>card</td>\n",
              "      <td>(Sports Network) - The San Francisco Giants no...</td>\n",
              "    </tr>\n",
              "    <tr>\n",
              "      <th>7</th>\n",
              "      <td>sports</td>\n",
              "      <td>sports</td>\n",
              "      <td>boxboro</td>\n",
              "      <td>ac</td>\n",
              "      <td>In the final hour before each Acton-Boxboro Hi...</td>\n",
              "    </tr>\n",
              "    <tr>\n",
              "      <th>8</th>\n",
              "      <td>sci/tech</td>\n",
              "      <td>sci/tech</td>\n",
              "      <td>isv</td>\n",
              "      <td>ibm</td>\n",
              "      <td>IBM (Quote, Chart) is easing restrictions on i...</td>\n",
              "    </tr>\n",
              "    <tr>\n",
              "      <th>9</th>\n",
              "      <td>sports</td>\n",
              "      <td>sports</td>\n",
              "      <td>sports</td>\n",
              "      <td>marino</td>\n",
              "      <td>CANTON, Ohio (Sports Network) - Former All-Pro...</td>\n",
              "    </tr>\n",
              "    <tr>\n",
              "      <th>10</th>\n",
              "      <td>business</td>\n",
              "      <td>business</td>\n",
              "      <td>union</td>\n",
              "      <td>unifi</td>\n",
              "      <td>A total of 140,000 members at union Unifi are ...</td>\n",
              "    </tr>\n",
              "    <tr>\n",
              "      <th>11</th>\n",
              "      <td>world</td>\n",
              "      <td>world</td>\n",
              "      <td>geneva</td>\n",
              "      <td>highly</td>\n",
              "      <td>Prime Minister Manmohan Singh today headed for...</td>\n",
              "    </tr>\n",
              "    <tr>\n",
              "      <th>12</th>\n",
              "      <td>world</td>\n",
              "      <td>world</td>\n",
              "      <td>athens</td>\n",
              "      <td>greece</td>\n",
              "      <td>The school bus, on its way to Athens from cent...</td>\n",
              "    </tr>\n",
              "    <tr>\n",
              "      <th>13</th>\n",
              "      <td>business</td>\n",
              "      <td>business</td>\n",
              "      <td>said</td>\n",
              "      <td>retailer</td>\n",
              "      <td>Reuters - Retailer Saks Inc.  on Friday said i...</td>\n",
              "    </tr>\n",
              "    <tr>\n",
              "      <th>14</th>\n",
              "      <td>sports</td>\n",
              "      <td>sports</td>\n",
              "      <td>fate</td>\n",
              "      <td>berth</td>\n",
              "      <td>The Los Angeles Dodgers are closing in on thei...</td>\n",
              "    </tr>\n",
              "    <tr>\n",
              "      <th>15</th>\n",
              "      <td>business</td>\n",
              "      <td>business</td>\n",
              "      <td>communications</td>\n",
              "      <td>sbc</td>\n",
              "      <td>NEW YORK, November 4 (newratings.com) - SBC Co...</td>\n",
              "    </tr>\n",
              "    <tr>\n",
              "      <th>16</th>\n",
              "      <td>world</td>\n",
              "      <td>sci/tech</td>\n",
              "      <td>epochal</td>\n",
              "      <td>china</td>\n",
              "      <td>As a growing economy produces new wealth and a...</td>\n",
              "    </tr>\n",
              "    <tr>\n",
              "      <th>17</th>\n",
              "      <td>world</td>\n",
              "      <td>world</td>\n",
              "      <td>ap</td>\n",
              "      <td>brazil</td>\n",
              "      <td>AP - A school bus swerved off a narrow road an...</td>\n",
              "    </tr>\n",
              "    <tr>\n",
              "      <th>18</th>\n",
              "      <td>business</td>\n",
              "      <td>world</td>\n",
              "      <td>looms</td>\n",
              "      <td>churning</td>\n",
              "      <td>KANNAPOLIS, N.C. (Reuters) - After a more than...</td>\n",
              "    </tr>\n",
              "    <tr>\n",
              "      <th>19</th>\n",
              "      <td>business</td>\n",
              "      <td>business</td>\n",
              "      <td>events</td>\n",
              "      <td>investors</td>\n",
              "      <td>Reuters - U.S. Treasury debt was down a sliver...</td>\n",
              "    </tr>\n",
              "    <tr>\n",
              "      <th>20</th>\n",
              "      <td>sci/tech</td>\n",
              "      <td>sci/tech</td>\n",
              "      <td>association</td>\n",
              "      <td>downloading</td>\n",
              "      <td>Beginning a new round of copyright infringemen...</td>\n",
              "    </tr>\n",
              "    <tr>\n",
              "      <th>21</th>\n",
              "      <td>sci/tech</td>\n",
              "      <td>sci/tech</td>\n",
              "      <td>security</td>\n",
              "      <td>oracle</td>\n",
              "      <td>Software maker Oracle will soon start issuing ...</td>\n",
              "    </tr>\n",
              "    <tr>\n",
              "      <th>22</th>\n",
              "      <td>sci/tech</td>\n",
              "      <td>sci/tech</td>\n",
              "      <td>equipment</td>\n",
              "      <td>ibm</td>\n",
              "      <td>U.S. House members accused IBM and other IT ve...</td>\n",
              "    </tr>\n",
              "    <tr>\n",
              "      <th>23</th>\n",
              "      <td>business</td>\n",
              "      <td>business</td>\n",
              "      <td>nov</td>\n",
              "      <td>minsheng</td>\n",
              "      <td>BEIJING, Nov. 22 (Xinhuaent) -- China's first ...</td>\n",
              "    </tr>\n",
              "    <tr>\n",
              "      <th>24</th>\n",
              "      <td>business</td>\n",
              "      <td>business</td>\n",
              "      <td>winter</td>\n",
              "      <td>singapore</td>\n",
              "      <td>SINGAPORE - Crude oil futures hovered around t...</td>\n",
              "    </tr>\n",
              "    <tr>\n",
              "      <th>25</th>\n",
              "      <td>sports</td>\n",
              "      <td>sports</td>\n",
              "      <td>discuss</td>\n",
              "      <td>dolphins</td>\n",
              "      <td>LSU football coach Nick Saban met with represe...</td>\n",
              "    </tr>\n",
              "    <tr>\n",
              "      <th>26</th>\n",
              "      <td>sports</td>\n",
              "      <td>sports</td>\n",
              "      <td>indianapolis</td>\n",
              "      <td>colts</td>\n",
              "      <td>The Atlanta Falcons and Indianapolis Colts wil...</td>\n",
              "    </tr>\n",
              "    <tr>\n",
              "      <th>27</th>\n",
              "      <td>business</td>\n",
              "      <td>world</td>\n",
              "      <td>inexhaustible</td>\n",
              "      <td>dongguan</td>\n",
              "      <td>DONGGUAN, China -- Heralded by an unprecedente...</td>\n",
              "    </tr>\n",
              "    <tr>\n",
              "      <th>28</th>\n",
              "      <td>business</td>\n",
              "      <td>business</td>\n",
              "      <td>reuters</td>\n",
              "      <td>priced</td>\n",
              "      <td>SAN FRANCISCO (Reuters) - Levi Strauss   Co. s...</td>\n",
              "    </tr>\n",
              "    <tr>\n",
              "      <th>29</th>\n",
              "      <td>sports</td>\n",
              "      <td>sports</td>\n",
              "      <td>fia</td>\n",
              "      <td>renault</td>\n",
              "      <td>The Renault F1 Teams latest signing was invite...</td>\n",
              "    </tr>\n",
              "    <tr>\n",
              "      <th>30</th>\n",
              "      <td>business</td>\n",
              "      <td>business</td>\n",
              "      <td>air</td>\n",
              "      <td>bankruptcy</td>\n",
              "      <td>Delta Air Lines' CEO is cautioning that a tent...</td>\n",
              "    </tr>\n",
              "    <tr>\n",
              "      <th>31</th>\n",
              "      <td>world</td>\n",
              "      <td>world</td>\n",
              "      <td>peace</td>\n",
              "      <td>india</td>\n",
              "      <td>Pakistan Prime Minister Shaukat Aziz says his ...</td>\n",
              "    </tr>\n",
              "  </tbody>\n",
              "</table>\n",
              "</div>\n",
              "    <div class=\"colab-df-buttons\">\n",
              "\n",
              "  <div class=\"colab-df-container\">\n",
              "    <button class=\"colab-df-convert\" onclick=\"convertToInteractive('df-24b025b2-3c87-4d97-8f95-7345bc55c3b8')\"\n",
              "            title=\"Convert this dataframe to an interactive table.\"\n",
              "            style=\"display:none;\">\n",
              "\n",
              "  <svg xmlns=\"http://www.w3.org/2000/svg\" height=\"24px\" viewBox=\"0 -960 960 960\">\n",
              "    <path d=\"M120-120v-720h720v720H120Zm60-500h600v-160H180v160Zm220 220h160v-160H400v160Zm0 220h160v-160H400v160ZM180-400h160v-160H180v160Zm440 0h160v-160H620v160ZM180-180h160v-160H180v160Zm440 0h160v-160H620v160Z\"/>\n",
              "  </svg>\n",
              "    </button>\n",
              "\n",
              "  <style>\n",
              "    .colab-df-container {\n",
              "      display:flex;\n",
              "      gap: 12px;\n",
              "    }\n",
              "\n",
              "    .colab-df-convert {\n",
              "      background-color: #E8F0FE;\n",
              "      border: none;\n",
              "      border-radius: 50%;\n",
              "      cursor: pointer;\n",
              "      display: none;\n",
              "      fill: #1967D2;\n",
              "      height: 32px;\n",
              "      padding: 0 0 0 0;\n",
              "      width: 32px;\n",
              "    }\n",
              "\n",
              "    .colab-df-convert:hover {\n",
              "      background-color: #E2EBFA;\n",
              "      box-shadow: 0px 1px 2px rgba(60, 64, 67, 0.3), 0px 1px 3px 1px rgba(60, 64, 67, 0.15);\n",
              "      fill: #174EA6;\n",
              "    }\n",
              "\n",
              "    .colab-df-buttons div {\n",
              "      margin-bottom: 4px;\n",
              "    }\n",
              "\n",
              "    [theme=dark] .colab-df-convert {\n",
              "      background-color: #3B4455;\n",
              "      fill: #D2E3FC;\n",
              "    }\n",
              "\n",
              "    [theme=dark] .colab-df-convert:hover {\n",
              "      background-color: #434B5C;\n",
              "      box-shadow: 0px 1px 3px 1px rgba(0, 0, 0, 0.15);\n",
              "      filter: drop-shadow(0px 1px 2px rgba(0, 0, 0, 0.3));\n",
              "      fill: #FFFFFF;\n",
              "    }\n",
              "  </style>\n",
              "\n",
              "    <script>\n",
              "      const buttonEl =\n",
              "        document.querySelector('#df-24b025b2-3c87-4d97-8f95-7345bc55c3b8 button.colab-df-convert');\n",
              "      buttonEl.style.display =\n",
              "        google.colab.kernel.accessAllowed ? 'block' : 'none';\n",
              "\n",
              "      async function convertToInteractive(key) {\n",
              "        const element = document.querySelector('#df-24b025b2-3c87-4d97-8f95-7345bc55c3b8');\n",
              "        const dataTable =\n",
              "          await google.colab.kernel.invokeFunction('convertToInteractive',\n",
              "                                                    [key], {});\n",
              "        if (!dataTable) return;\n",
              "\n",
              "        const docLinkHtml = 'Like what you see? Visit the ' +\n",
              "          '<a target=\"_blank\" href=https://colab.research.google.com/notebooks/data_table.ipynb>data table notebook</a>'\n",
              "          + ' to learn more about interactive tables.';\n",
              "        element.innerHTML = '';\n",
              "        dataTable['output_type'] = 'display_data';\n",
              "        await google.colab.output.renderOutput(dataTable, element);\n",
              "        const docLink = document.createElement('div');\n",
              "        docLink.innerHTML = docLinkHtml;\n",
              "        element.appendChild(docLink);\n",
              "      }\n",
              "    </script>\n",
              "  </div>\n",
              "\n",
              "\n",
              "<div id=\"df-cf804bff-bde0-44f8-ae13-b83b4d0e4a4d\">\n",
              "  <button class=\"colab-df-quickchart\" onclick=\"quickchart('df-cf804bff-bde0-44f8-ae13-b83b4d0e4a4d')\"\n",
              "            title=\"Suggest charts\"\n",
              "            style=\"display:none;\">\n",
              "\n",
              "<svg xmlns=\"http://www.w3.org/2000/svg\" height=\"24px\"viewBox=\"0 0 24 24\"\n",
              "     width=\"24px\">\n",
              "    <g>\n",
              "        <path d=\"M19 3H5c-1.1 0-2 .9-2 2v14c0 1.1.9 2 2 2h14c1.1 0 2-.9 2-2V5c0-1.1-.9-2-2-2zM9 17H7v-7h2v7zm4 0h-2V7h2v10zm4 0h-2v-4h2v4z\"/>\n",
              "    </g>\n",
              "</svg>\n",
              "  </button>\n",
              "\n",
              "<style>\n",
              "  .colab-df-quickchart {\n",
              "      --bg-color: #E8F0FE;\n",
              "      --fill-color: #1967D2;\n",
              "      --hover-bg-color: #E2EBFA;\n",
              "      --hover-fill-color: #174EA6;\n",
              "      --disabled-fill-color: #AAA;\n",
              "      --disabled-bg-color: #DDD;\n",
              "  }\n",
              "\n",
              "  [theme=dark] .colab-df-quickchart {\n",
              "      --bg-color: #3B4455;\n",
              "      --fill-color: #D2E3FC;\n",
              "      --hover-bg-color: #434B5C;\n",
              "      --hover-fill-color: #FFFFFF;\n",
              "      --disabled-bg-color: #3B4455;\n",
              "      --disabled-fill-color: #666;\n",
              "  }\n",
              "\n",
              "  .colab-df-quickchart {\n",
              "    background-color: var(--bg-color);\n",
              "    border: none;\n",
              "    border-radius: 50%;\n",
              "    cursor: pointer;\n",
              "    display: none;\n",
              "    fill: var(--fill-color);\n",
              "    height: 32px;\n",
              "    padding: 0;\n",
              "    width: 32px;\n",
              "  }\n",
              "\n",
              "  .colab-df-quickchart:hover {\n",
              "    background-color: var(--hover-bg-color);\n",
              "    box-shadow: 0 1px 2px rgba(60, 64, 67, 0.3), 0 1px 3px 1px rgba(60, 64, 67, 0.15);\n",
              "    fill: var(--button-hover-fill-color);\n",
              "  }\n",
              "\n",
              "  .colab-df-quickchart-complete:disabled,\n",
              "  .colab-df-quickchart-complete:disabled:hover {\n",
              "    background-color: var(--disabled-bg-color);\n",
              "    fill: var(--disabled-fill-color);\n",
              "    box-shadow: none;\n",
              "  }\n",
              "\n",
              "  .colab-df-spinner {\n",
              "    border: 2px solid var(--fill-color);\n",
              "    border-color: transparent;\n",
              "    border-bottom-color: var(--fill-color);\n",
              "    animation:\n",
              "      spin 1s steps(1) infinite;\n",
              "  }\n",
              "\n",
              "  @keyframes spin {\n",
              "    0% {\n",
              "      border-color: transparent;\n",
              "      border-bottom-color: var(--fill-color);\n",
              "      border-left-color: var(--fill-color);\n",
              "    }\n",
              "    20% {\n",
              "      border-color: transparent;\n",
              "      border-left-color: var(--fill-color);\n",
              "      border-top-color: var(--fill-color);\n",
              "    }\n",
              "    30% {\n",
              "      border-color: transparent;\n",
              "      border-left-color: var(--fill-color);\n",
              "      border-top-color: var(--fill-color);\n",
              "      border-right-color: var(--fill-color);\n",
              "    }\n",
              "    40% {\n",
              "      border-color: transparent;\n",
              "      border-right-color: var(--fill-color);\n",
              "      border-top-color: var(--fill-color);\n",
              "    }\n",
              "    60% {\n",
              "      border-color: transparent;\n",
              "      border-right-color: var(--fill-color);\n",
              "    }\n",
              "    80% {\n",
              "      border-color: transparent;\n",
              "      border-right-color: var(--fill-color);\n",
              "      border-bottom-color: var(--fill-color);\n",
              "    }\n",
              "    90% {\n",
              "      border-color: transparent;\n",
              "      border-bottom-color: var(--fill-color);\n",
              "    }\n",
              "  }\n",
              "</style>\n",
              "\n",
              "  <script>\n",
              "    async function quickchart(key) {\n",
              "      const quickchartButtonEl =\n",
              "        document.querySelector('#' + key + ' button');\n",
              "      quickchartButtonEl.disabled = true;  // To prevent multiple clicks.\n",
              "      quickchartButtonEl.classList.add('colab-df-spinner');\n",
              "      try {\n",
              "        const charts = await google.colab.kernel.invokeFunction(\n",
              "            'suggestCharts', [key], {});\n",
              "      } catch (error) {\n",
              "        console.error('Error during call to suggestCharts:', error);\n",
              "      }\n",
              "      quickchartButtonEl.classList.remove('colab-df-spinner');\n",
              "      quickchartButtonEl.classList.add('colab-df-quickchart-complete');\n",
              "    }\n",
              "    (() => {\n",
              "      let quickchartButtonEl =\n",
              "        document.querySelector('#df-cf804bff-bde0-44f8-ae13-b83b4d0e4a4d button');\n",
              "      quickchartButtonEl.style.display =\n",
              "        google.colab.kernel.accessAllowed ? 'block' : 'none';\n",
              "    })();\n",
              "  </script>\n",
              "</div>\n",
              "\n",
              "    </div>\n",
              "  </div>\n"
            ],
            "application/vnd.google.colaboratory.intrinsic+json": {
              "type": "dataframe",
              "summary": "{\n  \"name\": \"pd\",\n  \"rows\": 32,\n  \"fields\": [\n    {\n      \"column\": \"Label\",\n      \"properties\": {\n        \"dtype\": \"category\",\n        \"num_unique_values\": 4,\n        \"samples\": [\n          \"business\",\n          \"world\",\n          \"sports\"\n        ],\n        \"semantic_type\": \"\",\n        \"description\": \"\"\n      }\n    },\n    {\n      \"column\": \"Prediction\",\n      \"properties\": {\n        \"dtype\": \"category\",\n        \"num_unique_values\": 4,\n        \"samples\": [\n          \"business\",\n          \"world\",\n          \"sports\"\n        ],\n        \"semantic_type\": \"\",\n        \"description\": \"\"\n      }\n    },\n    {\n      \"column\": \"Head #1\",\n      \"properties\": {\n        \"dtype\": \"string\",\n        \"num_unique_values\": 31,\n        \"samples\": [\n          \"reuters\",\n          \"epochal\",\n          \"winter\"\n        ],\n        \"semantic_type\": \"\",\n        \"description\": \"\"\n      }\n    },\n    {\n      \"column\": \"Head #2\",\n      \"properties\": {\n        \"dtype\": \"string\",\n        \"num_unique_values\": 31,\n        \"samples\": [\n          \"priced\",\n          \"sbc\",\n          \"singapore\"\n        ],\n        \"semantic_type\": \"\",\n        \"description\": \"\"\n      }\n    },\n    {\n      \"column\": \"News\",\n      \"properties\": {\n        \"dtype\": \"string\",\n        \"num_unique_values\": 32,\n        \"samples\": [\n          \"The Renault F1 Teams latest signing was invited to the official FIA Press Conference this afternoon.\",\n          \"NEW YORK, November 4 (newratings.com) - SBC Communications Inc (SBC.NYS) and BellSouth Corporation (BLS) have agreed to acquire the online directory publisher, www.\",\n          \"SINGAPORE - Crude oil futures hovered around the US $55-a-barrel mark Wednesday on fears of a heating oil shortage ahead of the northern winter, and oil cartel OPEC urged Washington to release more oil from its strategic reserve to calm the market.\"\n        ],\n        \"semantic_type\": \"\",\n        \"description\": \"\"\n      }\n    }\n  ]\n}"
            }
          },
          "metadata": {},
          "execution_count": 42
        }
      ],
      "source": [
        "import pandas as pd\n",
        "\n",
        "class_labels = ['world', 'sports', 'business', 'sci/tech']\n",
        "\n",
        "results = [(class_labels[label], class_labels[prediction], tokens[idxs[0]], tokens[idxs[1]], description)\n",
        " for tokens, idxs, label, prediction, description in\n",
        " zip([tokenizer(s) for s in sentences], top_idxs, labels.tolist(), out['logits'].argmax(dim=1).tolist(), sentences)]\n",
        "\n",
        "pd.DataFrame(results, columns=['Label', 'Prediction', 'Head #1', 'Head #2', 'News'])"
      ]
    },
    {
      "cell_type": "markdown",
      "id": "6ca639da",
      "metadata": {
        "id": "6ca639da"
      },
      "source": [
        "## 16.6 Contextual Embeddings"
      ]
    },
    {
      "cell_type": "code",
      "execution_count": 43,
      "id": "a8c6897f",
      "metadata": {
        "id": "a8c6897f"
      },
      "outputs": [],
      "source": [
        "sentences = (\"The core of the planet is becoming unstable.\",\n",
        "             \"The shift in the company's core business markets had impacted their quartely results.\")"
      ]
    },
    {
      "cell_type": "code",
      "execution_count": 44,
      "id": "deca505f",
      "metadata": {
        "colab": {
          "base_uri": "https://localhost:8080/"
        },
        "id": "deca505f",
        "outputId": "d5fb69a8-90d4-4a90-ec41-f3eb9e4c8c11"
      },
      "outputs": [
        {
          "output_type": "execute_result",
          "data": {
            "text/plain": [
              "[3, 2]"
            ]
          },
          "metadata": {},
          "execution_count": 44
        }
      ],
      "source": [
        "model.eval()\n",
        "out = model(sentences)\n",
        "out['logits'].argmax(dim=1).tolist()"
      ]
    },
    {
      "cell_type": "code",
      "execution_count": 45,
      "id": "fc1b36ca",
      "metadata": {
        "colab": {
          "base_uri": "https://localhost:8080/"
        },
        "id": "fc1b36ca",
        "outputId": "b3d87b6b-19fe-4bf1-dc16-67722b3f6903"
      },
      "outputs": [
        {
          "output_type": "execute_result",
          "data": {
            "text/plain": [
              "(2, 6)"
            ]
          },
          "metadata": {},
          "execution_count": 45
        }
      ],
      "source": [
        "idx0 = tokenizer(sentences[0]).index('core') + 1  # because [CLS] is 0th index\n",
        "idx1 = tokenizer(sentences[1]).index('core') + 1  # because [CLS] is 0th index\n",
        "idx0, idx1"
      ]
    },
    {
      "cell_type": "code",
      "execution_count": 46,
      "id": "266654cd",
      "metadata": {
        "colab": {
          "base_uri": "https://localhost:8080/"
        },
        "id": "266654cd",
        "outputId": "ee91ef1d-ed24-46ea-e8f2-e1c12f348789"
      },
      "outputs": [
        {
          "output_type": "execute_result",
          "data": {
            "text/plain": [
              "tensor(True)"
            ]
          },
          "metadata": {},
          "execution_count": 46
        }
      ],
      "source": [
        "(out['embeddings'][0][idx0] == out['embeddings'][1][idx1]).all()"
      ]
    },
    {
      "cell_type": "code",
      "execution_count": 47,
      "id": "ce48e8a2",
      "metadata": {
        "colab": {
          "base_uri": "https://localhost:8080/"
        },
        "id": "ce48e8a2",
        "outputId": "e2979e95-b57e-4d30-e327-6b7128a4ea1c"
      },
      "outputs": [
        {
          "output_type": "execute_result",
          "data": {
            "text/plain": [
              "(tensor([-0.4691, -0.2138,  1.3560,  0.0170,  1.6739,  0.4903,  0.4884, -1.9540,\n",
              "         -0.2596,  0.5405,  0.7911, -0.8935, -0.5695,  0.5458, -1.4084,  0.8408,\n",
              "          0.0620,  1.1331,  0.8994, -0.7832,  0.1759, -0.5666, -0.1393, -0.1169,\n",
              "         -0.6595, -0.6970, -0.7473,  0.1352,  0.2631,  0.5386,  5.0610, -0.1547,\n",
              "         -0.1314, -0.9911, -0.2231,  0.1357, -1.0703, -0.1242, -0.3973, -0.5081,\n",
              "         -0.3224, -1.5748, -0.8382,  0.4240,  0.1790,  0.7370,  0.4092,  0.6205,\n",
              "         -0.7969, -0.1808], grad_fn=<SelectBackward0>),\n",
              " tensor([-0.8556,  0.2191,  0.9571, -0.0828,  1.4741,  0.0798,  0.5132, -2.2585,\n",
              "         -0.2346,  0.4096,  0.9577, -0.9482, -0.5262,  0.6541, -1.2466,  0.8033,\n",
              "          0.0155,  1.1449,  0.8561, -0.8666,  0.3324, -0.4748, -0.1768,  0.0126,\n",
              "         -0.5763, -0.7430, -0.6075,  0.0527,  0.2708,  0.6191,  5.0376, -0.1279,\n",
              "         -0.0239, -0.8872, -0.2024,  0.0614, -1.0372, -0.1414, -0.3432, -0.6006,\n",
              "         -0.1906, -1.6316, -0.8610,  0.4758,  0.1323,  0.8007,  0.5487,  0.7625,\n",
              "         -0.8286, -0.0505], grad_fn=<SelectBackward0>))"
            ]
          },
          "metadata": {},
          "execution_count": 47
        }
      ],
      "source": [
        "out['hidden_states'][0][idx0], out['hidden_states'][1][idx1]"
      ]
    },
    {
      "cell_type": "markdown",
      "id": "56ccab00",
      "metadata": {
        "id": "56ccab00"
      },
      "source": [
        "### 16.6.1 Sentence Embeddings"
      ]
    },
    {
      "cell_type": "code",
      "execution_count": 48,
      "id": "97aac750",
      "metadata": {
        "colab": {
          "base_uri": "https://localhost:8080/"
        },
        "id": "97aac750",
        "outputId": "b1793923-06ee-4778-c007-c5527587dfa8"
      },
      "outputs": [
        {
          "output_type": "execute_result",
          "data": {
            "text/plain": [
              "tensor([[-0.3383, -0.5298, -1.2661,  0.7108, -0.1919, -0.7927, -0.2542, -0.0408,\n",
              "          0.2644,  0.6308,  0.5016, -0.1673,  1.3738, -0.9624, -1.9492,  1.2011,\n",
              "          0.4199, -0.9952,  0.7911,  0.1281, -1.3965,  0.6272, -0.3903, -0.2688,\n",
              "         -0.3157,  2.4592, -1.4643, -0.0750, -1.5391, -0.3381,  1.0573,  1.0391,\n",
              "          0.2998, -0.6041,  1.1393,  1.3931, -0.2786,  1.8299, -0.7606,  2.1277,\n",
              "         -1.8531,  0.9437, -0.0107, -0.4976, -1.1690,  2.0134, -1.0365, -1.0111,\n",
              "          0.7740, -0.2471],\n",
              "        [-1.8853,  0.2942, -0.9665,  1.2739, -1.2910, -0.6955, -0.9254, -0.3911,\n",
              "         -1.3776,  1.6043,  0.7757, -0.1207,  0.5310,  0.6479, -1.0332,  0.1023,\n",
              "         -1.0493, -0.7787, -0.6164, -0.7573, -0.0823,  1.3903, -1.1661,  0.9976,\n",
              "          0.6216,  1.6491,  0.2282, -1.2528, -1.6676,  0.6187, -0.0754,  1.2107,\n",
              "          1.2049,  0.8411,  0.8675,  0.5491,  0.2054,  1.4972, -0.7881,  0.9208,\n",
              "         -0.5448, -0.0145, -0.8952, -0.4165, -2.0923,  2.2966, -0.1415,  0.6492,\n",
              "         -0.2011,  1.2318]], grad_fn=<SelectBackward0>)"
            ]
          },
          "metadata": {},
          "execution_count": 48
        }
      ],
      "source": [
        "sentence_embeddings = out['hidden_states'][:, 0]\n",
        "sentence_embeddings"
      ]
    },
    {
      "cell_type": "markdown",
      "id": "be832b28",
      "metadata": {
        "id": "be832b28"
      },
      "source": [
        "### 16.6.2 SentenceTransformers\n",
        "\n",
        "[SentenceTransformers](https://www.sbert.net/) \"_is a Python framework for state-of-the-art sentence, text and image embeddings_\" and it can be used to compute text embeddings in more than 100 languages. It is based on PyTorch and HuggingFace Transformers and it offers a large collection of [pretrained models](https://www.sbert.net/docs/pretrained_models.html).\n",
        "\n",
        "SentenceBERT, or sBERT for short, was the initial model developed to efficiently compute sentence embeddings. It is based on a siamese architecture, as if there were two identical BERT models side-by-side with identical (hence siamese) weights. If you want to learn more details about it, check its [documentation](https://www.sbert.net/docs/quickstart.html), and also the [\"Sentence Transformers: Meanings in Disguise\"](https://www.pinecone.io/learn/sentence-embeddings/) blog post."
      ]
    },
    {
      "cell_type": "markdown",
      "id": "184e7407",
      "metadata": {
        "id": "184e7407"
      },
      "source": [
        "### 16.6.3 Zero-Shot Text Classification Revisited\n",
        "\n",
        "![](https://raw.githubusercontent.com/dvgodoy/assets/main/PyTorchInPractice/images/ch0/model_step5.png)"
      ]
    },
    {
      "cell_type": "code",
      "execution_count": 53,
      "id": "2dfe6db8",
      "metadata": {
        "colab": {
          "base_uri": "https://localhost:8080/"
        },
        "id": "2dfe6db8",
        "outputId": "9ed08377-22e6-4f7a-e94f-826704bc1f83"
      },
      "outputs": [
        {
          "output_type": "execute_result",
          "data": {
            "text/plain": [
              "torch.Size([4, 384])"
            ]
          },
          "metadata": {},
          "execution_count": 53
        }
      ],
      "source": [
        "from sentence_transformers import SentenceTransformer, util\n",
        "\n",
        "model = SentenceTransformer('sentence-transformers/all-MiniLM-L6-v2')\n",
        "\n",
        "sentences = ['world', 'sports', 'business', 'science and technology']\n",
        "labels_emb = model.encode(sentences, convert_to_tensor=True)\n",
        "labels_emb.shape"
      ]
    },
    {
      "cell_type": "code",
      "execution_count": 50,
      "id": "9e40d29c",
      "metadata": {
        "id": "9e40d29c"
      },
      "outputs": [],
      "source": [
        "import evaluate\n",
        "\n",
        "metric1 = evaluate.load('precision', average=None)\n",
        "metric2 = evaluate.load('recall', average=None)\n",
        "metric3 = evaluate.load('accuracy')"
      ]
    },
    {
      "cell_type": "code",
      "execution_count": 51,
      "id": "f3e3aa95",
      "metadata": {
        "id": "f3e3aa95"
      },
      "outputs": [],
      "source": [
        "cos = nn.CosineSimilarity(dim=-1)\n",
        "\n",
        "for i, batch in enumerate(dataloaders['test']):\n",
        "    labels, sentences = batch['topic'], batch['news']\n",
        "\n",
        "    embeddings = model.encode(sentences, convert_to_tensor=True)\n",
        "\n",
        "    distances = cos(embeddings.unsqueeze(1), labels_emb)\n",
        "\n",
        "    pred_class = distances.argmax(dim=1)\n",
        "\n",
        "    metric1.add_batch(references=labels, predictions=pred_class)\n",
        "    metric2.add_batch(references=labels, predictions=pred_class)\n",
        "    metric3.add_batch(references=labels, predictions=pred_class)"
      ]
    },
    {
      "cell_type": "code",
      "execution_count": 52,
      "id": "4f3f192f",
      "metadata": {
        "colab": {
          "base_uri": "https://localhost:8080/"
        },
        "id": "4f3f192f",
        "outputId": "2e0d64b4-cc28-48a6-da18-69593fbe1cd8"
      },
      "outputs": [
        {
          "output_type": "execute_result",
          "data": {
            "text/plain": [
              "({'precision': array([0.6580743 , 0.75671982, 0.55060571, 0.57694826])},\n",
              " {'recall': array([0.45684211, 0.87421053, 0.74157895, 0.46368421])},\n",
              " {'accuracy': 0.6340789473684211})"
            ]
          },
          "metadata": {},
          "execution_count": 52
        }
      ],
      "source": [
        "metric1.compute(average=None), metric2.compute(average=None), metric3.compute()"
      ]
    }
  ],
  "metadata": {
    "accelerator": "GPU",
    "colab": {
      "gpuType": "T4",
      "provenance": [],
      "include_colab_link": true
    },
    "kernelspec": {
      "display_name": "Python 3 (ipykernel)",
      "language": "python",
      "name": "python3"
    },
    "language_info": {
      "codemirror_mode": {
        "name": "ipython",
        "version": 3
      },
      "file_extension": ".py",
      "mimetype": "text/x-python",
      "name": "python",
      "nbconvert_exporter": "python",
      "pygments_lexer": "ipython3",
      "version": "3.9.0"
    },
    "widgets": {
      "application/vnd.jupyter.widget-state+json": {
        "97c534cb8a7340178fed986131b7d7ce": {
          "model_module": "@jupyter-widgets/controls",
          "model_name": "HBoxModel",
          "model_module_version": "1.5.0",
          "state": {
            "_dom_classes": [],
            "_model_module": "@jupyter-widgets/controls",
            "_model_module_version": "1.5.0",
            "_model_name": "HBoxModel",
            "_view_count": null,
            "_view_module": "@jupyter-widgets/controls",
            "_view_module_version": "1.5.0",
            "_view_name": "HBoxView",
            "box_style": "",
            "children": [
              "IPY_MODEL_0f62416483ef4758a7fc0661de5666ba",
              "IPY_MODEL_05686c70094e46a1a0bfb1c396e6f4b0",
              "IPY_MODEL_088e0c46675f41ac837d837d60728dad"
            ],
            "layout": "IPY_MODEL_9cc3fa45ae084a379ad216f2fb79ad3d"
          }
        },
        "0f62416483ef4758a7fc0661de5666ba": {
          "model_module": "@jupyter-widgets/controls",
          "model_name": "HTMLModel",
          "model_module_version": "1.5.0",
          "state": {
            "_dom_classes": [],
            "_model_module": "@jupyter-widgets/controls",
            "_model_module_version": "1.5.0",
            "_model_name": "HTMLModel",
            "_view_count": null,
            "_view_module": "@jupyter-widgets/controls",
            "_view_module_version": "1.5.0",
            "_view_name": "HTMLView",
            "description": "",
            "description_tooltip": null,
            "layout": "IPY_MODEL_58ce9e233bb246c3a3d4fc4c55e89d8d",
            "placeholder": "​",
            "style": "IPY_MODEL_26e6b6a9695f47c78f5fc845f9c51082",
            "value": "Generating train split: "
          }
        },
        "05686c70094e46a1a0bfb1c396e6f4b0": {
          "model_module": "@jupyter-widgets/controls",
          "model_name": "FloatProgressModel",
          "model_module_version": "1.5.0",
          "state": {
            "_dom_classes": [],
            "_model_module": "@jupyter-widgets/controls",
            "_model_module_version": "1.5.0",
            "_model_name": "FloatProgressModel",
            "_view_count": null,
            "_view_module": "@jupyter-widgets/controls",
            "_view_module_version": "1.5.0",
            "_view_name": "ProgressView",
            "bar_style": "success",
            "description": "",
            "description_tooltip": null,
            "layout": "IPY_MODEL_52bc23b6fb89423a801a6f2986ebdcb9",
            "max": 1,
            "min": 0,
            "orientation": "horizontal",
            "style": "IPY_MODEL_8bedba6bcab24902980ebc5f1abb27c2",
            "value": 1
          }
        },
        "088e0c46675f41ac837d837d60728dad": {
          "model_module": "@jupyter-widgets/controls",
          "model_name": "HTMLModel",
          "model_module_version": "1.5.0",
          "state": {
            "_dom_classes": [],
            "_model_module": "@jupyter-widgets/controls",
            "_model_module_version": "1.5.0",
            "_model_name": "HTMLModel",
            "_view_count": null,
            "_view_module": "@jupyter-widgets/controls",
            "_view_module_version": "1.5.0",
            "_view_name": "HTMLView",
            "description": "",
            "description_tooltip": null,
            "layout": "IPY_MODEL_b798798fb2964fcb8caf5805751aef37",
            "placeholder": "​",
            "style": "IPY_MODEL_306c34778cfc43e48196ed0e6a357e56",
            "value": " 120000/0 [00:00&lt;00:00, 198626.75 examples/s]"
          }
        },
        "9cc3fa45ae084a379ad216f2fb79ad3d": {
          "model_module": "@jupyter-widgets/base",
          "model_name": "LayoutModel",
          "model_module_version": "1.2.0",
          "state": {
            "_model_module": "@jupyter-widgets/base",
            "_model_module_version": "1.2.0",
            "_model_name": "LayoutModel",
            "_view_count": null,
            "_view_module": "@jupyter-widgets/base",
            "_view_module_version": "1.2.0",
            "_view_name": "LayoutView",
            "align_content": null,
            "align_items": null,
            "align_self": null,
            "border": null,
            "bottom": null,
            "display": null,
            "flex": null,
            "flex_flow": null,
            "grid_area": null,
            "grid_auto_columns": null,
            "grid_auto_flow": null,
            "grid_auto_rows": null,
            "grid_column": null,
            "grid_gap": null,
            "grid_row": null,
            "grid_template_areas": null,
            "grid_template_columns": null,
            "grid_template_rows": null,
            "height": null,
            "justify_content": null,
            "justify_items": null,
            "left": null,
            "margin": null,
            "max_height": null,
            "max_width": null,
            "min_height": null,
            "min_width": null,
            "object_fit": null,
            "object_position": null,
            "order": null,
            "overflow": null,
            "overflow_x": null,
            "overflow_y": null,
            "padding": null,
            "right": null,
            "top": null,
            "visibility": null,
            "width": null
          }
        },
        "58ce9e233bb246c3a3d4fc4c55e89d8d": {
          "model_module": "@jupyter-widgets/base",
          "model_name": "LayoutModel",
          "model_module_version": "1.2.0",
          "state": {
            "_model_module": "@jupyter-widgets/base",
            "_model_module_version": "1.2.0",
            "_model_name": "LayoutModel",
            "_view_count": null,
            "_view_module": "@jupyter-widgets/base",
            "_view_module_version": "1.2.0",
            "_view_name": "LayoutView",
            "align_content": null,
            "align_items": null,
            "align_self": null,
            "border": null,
            "bottom": null,
            "display": null,
            "flex": null,
            "flex_flow": null,
            "grid_area": null,
            "grid_auto_columns": null,
            "grid_auto_flow": null,
            "grid_auto_rows": null,
            "grid_column": null,
            "grid_gap": null,
            "grid_row": null,
            "grid_template_areas": null,
            "grid_template_columns": null,
            "grid_template_rows": null,
            "height": null,
            "justify_content": null,
            "justify_items": null,
            "left": null,
            "margin": null,
            "max_height": null,
            "max_width": null,
            "min_height": null,
            "min_width": null,
            "object_fit": null,
            "object_position": null,
            "order": null,
            "overflow": null,
            "overflow_x": null,
            "overflow_y": null,
            "padding": null,
            "right": null,
            "top": null,
            "visibility": null,
            "width": null
          }
        },
        "26e6b6a9695f47c78f5fc845f9c51082": {
          "model_module": "@jupyter-widgets/controls",
          "model_name": "DescriptionStyleModel",
          "model_module_version": "1.5.0",
          "state": {
            "_model_module": "@jupyter-widgets/controls",
            "_model_module_version": "1.5.0",
            "_model_name": "DescriptionStyleModel",
            "_view_count": null,
            "_view_module": "@jupyter-widgets/base",
            "_view_module_version": "1.2.0",
            "_view_name": "StyleView",
            "description_width": ""
          }
        },
        "52bc23b6fb89423a801a6f2986ebdcb9": {
          "model_module": "@jupyter-widgets/base",
          "model_name": "LayoutModel",
          "model_module_version": "1.2.0",
          "state": {
            "_model_module": "@jupyter-widgets/base",
            "_model_module_version": "1.2.0",
            "_model_name": "LayoutModel",
            "_view_count": null,
            "_view_module": "@jupyter-widgets/base",
            "_view_module_version": "1.2.0",
            "_view_name": "LayoutView",
            "align_content": null,
            "align_items": null,
            "align_self": null,
            "border": null,
            "bottom": null,
            "display": null,
            "flex": null,
            "flex_flow": null,
            "grid_area": null,
            "grid_auto_columns": null,
            "grid_auto_flow": null,
            "grid_auto_rows": null,
            "grid_column": null,
            "grid_gap": null,
            "grid_row": null,
            "grid_template_areas": null,
            "grid_template_columns": null,
            "grid_template_rows": null,
            "height": null,
            "justify_content": null,
            "justify_items": null,
            "left": null,
            "margin": null,
            "max_height": null,
            "max_width": null,
            "min_height": null,
            "min_width": null,
            "object_fit": null,
            "object_position": null,
            "order": null,
            "overflow": null,
            "overflow_x": null,
            "overflow_y": null,
            "padding": null,
            "right": null,
            "top": null,
            "visibility": null,
            "width": "20px"
          }
        },
        "8bedba6bcab24902980ebc5f1abb27c2": {
          "model_module": "@jupyter-widgets/controls",
          "model_name": "ProgressStyleModel",
          "model_module_version": "1.5.0",
          "state": {
            "_model_module": "@jupyter-widgets/controls",
            "_model_module_version": "1.5.0",
            "_model_name": "ProgressStyleModel",
            "_view_count": null,
            "_view_module": "@jupyter-widgets/base",
            "_view_module_version": "1.2.0",
            "_view_name": "StyleView",
            "bar_color": null,
            "description_width": ""
          }
        },
        "b798798fb2964fcb8caf5805751aef37": {
          "model_module": "@jupyter-widgets/base",
          "model_name": "LayoutModel",
          "model_module_version": "1.2.0",
          "state": {
            "_model_module": "@jupyter-widgets/base",
            "_model_module_version": "1.2.0",
            "_model_name": "LayoutModel",
            "_view_count": null,
            "_view_module": "@jupyter-widgets/base",
            "_view_module_version": "1.2.0",
            "_view_name": "LayoutView",
            "align_content": null,
            "align_items": null,
            "align_self": null,
            "border": null,
            "bottom": null,
            "display": null,
            "flex": null,
            "flex_flow": null,
            "grid_area": null,
            "grid_auto_columns": null,
            "grid_auto_flow": null,
            "grid_auto_rows": null,
            "grid_column": null,
            "grid_gap": null,
            "grid_row": null,
            "grid_template_areas": null,
            "grid_template_columns": null,
            "grid_template_rows": null,
            "height": null,
            "justify_content": null,
            "justify_items": null,
            "left": null,
            "margin": null,
            "max_height": null,
            "max_width": null,
            "min_height": null,
            "min_width": null,
            "object_fit": null,
            "object_position": null,
            "order": null,
            "overflow": null,
            "overflow_x": null,
            "overflow_y": null,
            "padding": null,
            "right": null,
            "top": null,
            "visibility": null,
            "width": null
          }
        },
        "306c34778cfc43e48196ed0e6a357e56": {
          "model_module": "@jupyter-widgets/controls",
          "model_name": "DescriptionStyleModel",
          "model_module_version": "1.5.0",
          "state": {
            "_model_module": "@jupyter-widgets/controls",
            "_model_module_version": "1.5.0",
            "_model_name": "DescriptionStyleModel",
            "_view_count": null,
            "_view_module": "@jupyter-widgets/base",
            "_view_module_version": "1.2.0",
            "_view_name": "StyleView",
            "description_width": ""
          }
        },
        "7eeee69b03f547339170b9b55fccd4fd": {
          "model_module": "@jupyter-widgets/controls",
          "model_name": "HBoxModel",
          "model_module_version": "1.5.0",
          "state": {
            "_dom_classes": [],
            "_model_module": "@jupyter-widgets/controls",
            "_model_module_version": "1.5.0",
            "_model_name": "HBoxModel",
            "_view_count": null,
            "_view_module": "@jupyter-widgets/controls",
            "_view_module_version": "1.5.0",
            "_view_name": "HBoxView",
            "box_style": "",
            "children": [
              "IPY_MODEL_50d834fffe5e4e3c9cc8f6bce71aa567",
              "IPY_MODEL_3b0eb24fecc14355b8f4bcc41122d9a0",
              "IPY_MODEL_73f06ce1563642e487f4e715de041e42"
            ],
            "layout": "IPY_MODEL_dfe573c340b841bd9332c889b3b524b0"
          }
        },
        "50d834fffe5e4e3c9cc8f6bce71aa567": {
          "model_module": "@jupyter-widgets/controls",
          "model_name": "HTMLModel",
          "model_module_version": "1.5.0",
          "state": {
            "_dom_classes": [],
            "_model_module": "@jupyter-widgets/controls",
            "_model_module_version": "1.5.0",
            "_model_name": "HTMLModel",
            "_view_count": null,
            "_view_module": "@jupyter-widgets/controls",
            "_view_module_version": "1.5.0",
            "_view_name": "HTMLView",
            "description": "",
            "description_tooltip": null,
            "layout": "IPY_MODEL_678d5da5f1f94222bcc951b7c6cfd00c",
            "placeholder": "​",
            "style": "IPY_MODEL_92418773d7e743dd94fabd432349b863",
            "value": "Generating train split: "
          }
        },
        "3b0eb24fecc14355b8f4bcc41122d9a0": {
          "model_module": "@jupyter-widgets/controls",
          "model_name": "FloatProgressModel",
          "model_module_version": "1.5.0",
          "state": {
            "_dom_classes": [],
            "_model_module": "@jupyter-widgets/controls",
            "_model_module_version": "1.5.0",
            "_model_name": "FloatProgressModel",
            "_view_count": null,
            "_view_module": "@jupyter-widgets/controls",
            "_view_module_version": "1.5.0",
            "_view_name": "ProgressView",
            "bar_style": "success",
            "description": "",
            "description_tooltip": null,
            "layout": "IPY_MODEL_c4f0efa836644ddeb60097c8f47f57fe",
            "max": 1,
            "min": 0,
            "orientation": "horizontal",
            "style": "IPY_MODEL_e753019d73ae4a62aea272ac730f9943",
            "value": 1
          }
        },
        "73f06ce1563642e487f4e715de041e42": {
          "model_module": "@jupyter-widgets/controls",
          "model_name": "HTMLModel",
          "model_module_version": "1.5.0",
          "state": {
            "_dom_classes": [],
            "_model_module": "@jupyter-widgets/controls",
            "_model_module_version": "1.5.0",
            "_model_name": "HTMLModel",
            "_view_count": null,
            "_view_module": "@jupyter-widgets/controls",
            "_view_module_version": "1.5.0",
            "_view_name": "HTMLView",
            "description": "",
            "description_tooltip": null,
            "layout": "IPY_MODEL_17d3f8ad15174a37b842adf0c0ca6fdd",
            "placeholder": "​",
            "style": "IPY_MODEL_34a94bb7f47b4b9a91aff8434dadb565",
            "value": " 7600/0 [00:00&lt;00:00, 67725.23 examples/s]"
          }
        },
        "dfe573c340b841bd9332c889b3b524b0": {
          "model_module": "@jupyter-widgets/base",
          "model_name": "LayoutModel",
          "model_module_version": "1.2.0",
          "state": {
            "_model_module": "@jupyter-widgets/base",
            "_model_module_version": "1.2.0",
            "_model_name": "LayoutModel",
            "_view_count": null,
            "_view_module": "@jupyter-widgets/base",
            "_view_module_version": "1.2.0",
            "_view_name": "LayoutView",
            "align_content": null,
            "align_items": null,
            "align_self": null,
            "border": null,
            "bottom": null,
            "display": null,
            "flex": null,
            "flex_flow": null,
            "grid_area": null,
            "grid_auto_columns": null,
            "grid_auto_flow": null,
            "grid_auto_rows": null,
            "grid_column": null,
            "grid_gap": null,
            "grid_row": null,
            "grid_template_areas": null,
            "grid_template_columns": null,
            "grid_template_rows": null,
            "height": null,
            "justify_content": null,
            "justify_items": null,
            "left": null,
            "margin": null,
            "max_height": null,
            "max_width": null,
            "min_height": null,
            "min_width": null,
            "object_fit": null,
            "object_position": null,
            "order": null,
            "overflow": null,
            "overflow_x": null,
            "overflow_y": null,
            "padding": null,
            "right": null,
            "top": null,
            "visibility": null,
            "width": null
          }
        },
        "678d5da5f1f94222bcc951b7c6cfd00c": {
          "model_module": "@jupyter-widgets/base",
          "model_name": "LayoutModel",
          "model_module_version": "1.2.0",
          "state": {
            "_model_module": "@jupyter-widgets/base",
            "_model_module_version": "1.2.0",
            "_model_name": "LayoutModel",
            "_view_count": null,
            "_view_module": "@jupyter-widgets/base",
            "_view_module_version": "1.2.0",
            "_view_name": "LayoutView",
            "align_content": null,
            "align_items": null,
            "align_self": null,
            "border": null,
            "bottom": null,
            "display": null,
            "flex": null,
            "flex_flow": null,
            "grid_area": null,
            "grid_auto_columns": null,
            "grid_auto_flow": null,
            "grid_auto_rows": null,
            "grid_column": null,
            "grid_gap": null,
            "grid_row": null,
            "grid_template_areas": null,
            "grid_template_columns": null,
            "grid_template_rows": null,
            "height": null,
            "justify_content": null,
            "justify_items": null,
            "left": null,
            "margin": null,
            "max_height": null,
            "max_width": null,
            "min_height": null,
            "min_width": null,
            "object_fit": null,
            "object_position": null,
            "order": null,
            "overflow": null,
            "overflow_x": null,
            "overflow_y": null,
            "padding": null,
            "right": null,
            "top": null,
            "visibility": null,
            "width": null
          }
        },
        "92418773d7e743dd94fabd432349b863": {
          "model_module": "@jupyter-widgets/controls",
          "model_name": "DescriptionStyleModel",
          "model_module_version": "1.5.0",
          "state": {
            "_model_module": "@jupyter-widgets/controls",
            "_model_module_version": "1.5.0",
            "_model_name": "DescriptionStyleModel",
            "_view_count": null,
            "_view_module": "@jupyter-widgets/base",
            "_view_module_version": "1.2.0",
            "_view_name": "StyleView",
            "description_width": ""
          }
        },
        "c4f0efa836644ddeb60097c8f47f57fe": {
          "model_module": "@jupyter-widgets/base",
          "model_name": "LayoutModel",
          "model_module_version": "1.2.0",
          "state": {
            "_model_module": "@jupyter-widgets/base",
            "_model_module_version": "1.2.0",
            "_model_name": "LayoutModel",
            "_view_count": null,
            "_view_module": "@jupyter-widgets/base",
            "_view_module_version": "1.2.0",
            "_view_name": "LayoutView",
            "align_content": null,
            "align_items": null,
            "align_self": null,
            "border": null,
            "bottom": null,
            "display": null,
            "flex": null,
            "flex_flow": null,
            "grid_area": null,
            "grid_auto_columns": null,
            "grid_auto_flow": null,
            "grid_auto_rows": null,
            "grid_column": null,
            "grid_gap": null,
            "grid_row": null,
            "grid_template_areas": null,
            "grid_template_columns": null,
            "grid_template_rows": null,
            "height": null,
            "justify_content": null,
            "justify_items": null,
            "left": null,
            "margin": null,
            "max_height": null,
            "max_width": null,
            "min_height": null,
            "min_width": null,
            "object_fit": null,
            "object_position": null,
            "order": null,
            "overflow": null,
            "overflow_x": null,
            "overflow_y": null,
            "padding": null,
            "right": null,
            "top": null,
            "visibility": null,
            "width": "20px"
          }
        },
        "e753019d73ae4a62aea272ac730f9943": {
          "model_module": "@jupyter-widgets/controls",
          "model_name": "ProgressStyleModel",
          "model_module_version": "1.5.0",
          "state": {
            "_model_module": "@jupyter-widgets/controls",
            "_model_module_version": "1.5.0",
            "_model_name": "ProgressStyleModel",
            "_view_count": null,
            "_view_module": "@jupyter-widgets/base",
            "_view_module_version": "1.2.0",
            "_view_name": "StyleView",
            "bar_color": null,
            "description_width": ""
          }
        },
        "17d3f8ad15174a37b842adf0c0ca6fdd": {
          "model_module": "@jupyter-widgets/base",
          "model_name": "LayoutModel",
          "model_module_version": "1.2.0",
          "state": {
            "_model_module": "@jupyter-widgets/base",
            "_model_module_version": "1.2.0",
            "_model_name": "LayoutModel",
            "_view_count": null,
            "_view_module": "@jupyter-widgets/base",
            "_view_module_version": "1.2.0",
            "_view_name": "LayoutView",
            "align_content": null,
            "align_items": null,
            "align_self": null,
            "border": null,
            "bottom": null,
            "display": null,
            "flex": null,
            "flex_flow": null,
            "grid_area": null,
            "grid_auto_columns": null,
            "grid_auto_flow": null,
            "grid_auto_rows": null,
            "grid_column": null,
            "grid_gap": null,
            "grid_row": null,
            "grid_template_areas": null,
            "grid_template_columns": null,
            "grid_template_rows": null,
            "height": null,
            "justify_content": null,
            "justify_items": null,
            "left": null,
            "margin": null,
            "max_height": null,
            "max_width": null,
            "min_height": null,
            "min_width": null,
            "object_fit": null,
            "object_position": null,
            "order": null,
            "overflow": null,
            "overflow_x": null,
            "overflow_y": null,
            "padding": null,
            "right": null,
            "top": null,
            "visibility": null,
            "width": null
          }
        },
        "34a94bb7f47b4b9a91aff8434dadb565": {
          "model_module": "@jupyter-widgets/controls",
          "model_name": "DescriptionStyleModel",
          "model_module_version": "1.5.0",
          "state": {
            "_model_module": "@jupyter-widgets/controls",
            "_model_module_version": "1.5.0",
            "_model_name": "DescriptionStyleModel",
            "_view_count": null,
            "_view_module": "@jupyter-widgets/base",
            "_view_module_version": "1.2.0",
            "_view_name": "StyleView",
            "description_width": ""
          }
        },
        "7ff7a56b64154f859efcca829d4fa591": {
          "model_module": "@jupyter-widgets/controls",
          "model_name": "HBoxModel",
          "model_module_version": "1.5.0",
          "state": {
            "_dom_classes": [],
            "_model_module": "@jupyter-widgets/controls",
            "_model_module_version": "1.5.0",
            "_model_name": "HBoxModel",
            "_view_count": null,
            "_view_module": "@jupyter-widgets/controls",
            "_view_module_version": "1.5.0",
            "_view_name": "HBoxView",
            "box_style": "",
            "children": [
              "IPY_MODEL_cef524dd75d64ed1ad00c092d4606159",
              "IPY_MODEL_4f990d63a0be4a4bb66d037d5be25e66",
              "IPY_MODEL_85dc8d393c754f1b99c618c86c2b5280"
            ],
            "layout": "IPY_MODEL_2a40d0f278e147a78795bfd835698db5"
          }
        },
        "cef524dd75d64ed1ad00c092d4606159": {
          "model_module": "@jupyter-widgets/controls",
          "model_name": "HTMLModel",
          "model_module_version": "1.5.0",
          "state": {
            "_dom_classes": [],
            "_model_module": "@jupyter-widgets/controls",
            "_model_module_version": "1.5.0",
            "_model_name": "HTMLModel",
            "_view_count": null,
            "_view_module": "@jupyter-widgets/controls",
            "_view_module_version": "1.5.0",
            "_view_name": "HTMLView",
            "description": "",
            "description_tooltip": null,
            "layout": "IPY_MODEL_d3294827c3d949bba81dadf3a37eb2c7",
            "placeholder": "​",
            "style": "IPY_MODEL_a6ee0c24fc614ed58603fb8382ccd1e7",
            "value": "Map: 100%"
          }
        },
        "4f990d63a0be4a4bb66d037d5be25e66": {
          "model_module": "@jupyter-widgets/controls",
          "model_name": "FloatProgressModel",
          "model_module_version": "1.5.0",
          "state": {
            "_dom_classes": [],
            "_model_module": "@jupyter-widgets/controls",
            "_model_module_version": "1.5.0",
            "_model_name": "FloatProgressModel",
            "_view_count": null,
            "_view_module": "@jupyter-widgets/controls",
            "_view_module_version": "1.5.0",
            "_view_name": "ProgressView",
            "bar_style": "success",
            "description": "",
            "description_tooltip": null,
            "layout": "IPY_MODEL_d4510059900f4d759191df91777769c1",
            "max": 120000,
            "min": 0,
            "orientation": "horizontal",
            "style": "IPY_MODEL_974de2c5d3ed4ed98948453ea385275e",
            "value": 120000
          }
        },
        "85dc8d393c754f1b99c618c86c2b5280": {
          "model_module": "@jupyter-widgets/controls",
          "model_name": "HTMLModel",
          "model_module_version": "1.5.0",
          "state": {
            "_dom_classes": [],
            "_model_module": "@jupyter-widgets/controls",
            "_model_module_version": "1.5.0",
            "_model_name": "HTMLModel",
            "_view_count": null,
            "_view_module": "@jupyter-widgets/controls",
            "_view_module_version": "1.5.0",
            "_view_name": "HTMLView",
            "description": "",
            "description_tooltip": null,
            "layout": "IPY_MODEL_3b134369a41040db839d9a6de7bc08e5",
            "placeholder": "​",
            "style": "IPY_MODEL_a24502f784ca4dd1a7a7898e970880a1",
            "value": " 120000/120000 [00:13&lt;00:00, 5078.18 examples/s]"
          }
        },
        "2a40d0f278e147a78795bfd835698db5": {
          "model_module": "@jupyter-widgets/base",
          "model_name": "LayoutModel",
          "model_module_version": "1.2.0",
          "state": {
            "_model_module": "@jupyter-widgets/base",
            "_model_module_version": "1.2.0",
            "_model_name": "LayoutModel",
            "_view_count": null,
            "_view_module": "@jupyter-widgets/base",
            "_view_module_version": "1.2.0",
            "_view_name": "LayoutView",
            "align_content": null,
            "align_items": null,
            "align_self": null,
            "border": null,
            "bottom": null,
            "display": null,
            "flex": null,
            "flex_flow": null,
            "grid_area": null,
            "grid_auto_columns": null,
            "grid_auto_flow": null,
            "grid_auto_rows": null,
            "grid_column": null,
            "grid_gap": null,
            "grid_row": null,
            "grid_template_areas": null,
            "grid_template_columns": null,
            "grid_template_rows": null,
            "height": null,
            "justify_content": null,
            "justify_items": null,
            "left": null,
            "margin": null,
            "max_height": null,
            "max_width": null,
            "min_height": null,
            "min_width": null,
            "object_fit": null,
            "object_position": null,
            "order": null,
            "overflow": null,
            "overflow_x": null,
            "overflow_y": null,
            "padding": null,
            "right": null,
            "top": null,
            "visibility": null,
            "width": null
          }
        },
        "d3294827c3d949bba81dadf3a37eb2c7": {
          "model_module": "@jupyter-widgets/base",
          "model_name": "LayoutModel",
          "model_module_version": "1.2.0",
          "state": {
            "_model_module": "@jupyter-widgets/base",
            "_model_module_version": "1.2.0",
            "_model_name": "LayoutModel",
            "_view_count": null,
            "_view_module": "@jupyter-widgets/base",
            "_view_module_version": "1.2.0",
            "_view_name": "LayoutView",
            "align_content": null,
            "align_items": null,
            "align_self": null,
            "border": null,
            "bottom": null,
            "display": null,
            "flex": null,
            "flex_flow": null,
            "grid_area": null,
            "grid_auto_columns": null,
            "grid_auto_flow": null,
            "grid_auto_rows": null,
            "grid_column": null,
            "grid_gap": null,
            "grid_row": null,
            "grid_template_areas": null,
            "grid_template_columns": null,
            "grid_template_rows": null,
            "height": null,
            "justify_content": null,
            "justify_items": null,
            "left": null,
            "margin": null,
            "max_height": null,
            "max_width": null,
            "min_height": null,
            "min_width": null,
            "object_fit": null,
            "object_position": null,
            "order": null,
            "overflow": null,
            "overflow_x": null,
            "overflow_y": null,
            "padding": null,
            "right": null,
            "top": null,
            "visibility": null,
            "width": null
          }
        },
        "a6ee0c24fc614ed58603fb8382ccd1e7": {
          "model_module": "@jupyter-widgets/controls",
          "model_name": "DescriptionStyleModel",
          "model_module_version": "1.5.0",
          "state": {
            "_model_module": "@jupyter-widgets/controls",
            "_model_module_version": "1.5.0",
            "_model_name": "DescriptionStyleModel",
            "_view_count": null,
            "_view_module": "@jupyter-widgets/base",
            "_view_module_version": "1.2.0",
            "_view_name": "StyleView",
            "description_width": ""
          }
        },
        "d4510059900f4d759191df91777769c1": {
          "model_module": "@jupyter-widgets/base",
          "model_name": "LayoutModel",
          "model_module_version": "1.2.0",
          "state": {
            "_model_module": "@jupyter-widgets/base",
            "_model_module_version": "1.2.0",
            "_model_name": "LayoutModel",
            "_view_count": null,
            "_view_module": "@jupyter-widgets/base",
            "_view_module_version": "1.2.0",
            "_view_name": "LayoutView",
            "align_content": null,
            "align_items": null,
            "align_self": null,
            "border": null,
            "bottom": null,
            "display": null,
            "flex": null,
            "flex_flow": null,
            "grid_area": null,
            "grid_auto_columns": null,
            "grid_auto_flow": null,
            "grid_auto_rows": null,
            "grid_column": null,
            "grid_gap": null,
            "grid_row": null,
            "grid_template_areas": null,
            "grid_template_columns": null,
            "grid_template_rows": null,
            "height": null,
            "justify_content": null,
            "justify_items": null,
            "left": null,
            "margin": null,
            "max_height": null,
            "max_width": null,
            "min_height": null,
            "min_width": null,
            "object_fit": null,
            "object_position": null,
            "order": null,
            "overflow": null,
            "overflow_x": null,
            "overflow_y": null,
            "padding": null,
            "right": null,
            "top": null,
            "visibility": null,
            "width": null
          }
        },
        "974de2c5d3ed4ed98948453ea385275e": {
          "model_module": "@jupyter-widgets/controls",
          "model_name": "ProgressStyleModel",
          "model_module_version": "1.5.0",
          "state": {
            "_model_module": "@jupyter-widgets/controls",
            "_model_module_version": "1.5.0",
            "_model_name": "ProgressStyleModel",
            "_view_count": null,
            "_view_module": "@jupyter-widgets/base",
            "_view_module_version": "1.2.0",
            "_view_name": "StyleView",
            "bar_color": null,
            "description_width": ""
          }
        },
        "3b134369a41040db839d9a6de7bc08e5": {
          "model_module": "@jupyter-widgets/base",
          "model_name": "LayoutModel",
          "model_module_version": "1.2.0",
          "state": {
            "_model_module": "@jupyter-widgets/base",
            "_model_module_version": "1.2.0",
            "_model_name": "LayoutModel",
            "_view_count": null,
            "_view_module": "@jupyter-widgets/base",
            "_view_module_version": "1.2.0",
            "_view_name": "LayoutView",
            "align_content": null,
            "align_items": null,
            "align_self": null,
            "border": null,
            "bottom": null,
            "display": null,
            "flex": null,
            "flex_flow": null,
            "grid_area": null,
            "grid_auto_columns": null,
            "grid_auto_flow": null,
            "grid_auto_rows": null,
            "grid_column": null,
            "grid_gap": null,
            "grid_row": null,
            "grid_template_areas": null,
            "grid_template_columns": null,
            "grid_template_rows": null,
            "height": null,
            "justify_content": null,
            "justify_items": null,
            "left": null,
            "margin": null,
            "max_height": null,
            "max_width": null,
            "min_height": null,
            "min_width": null,
            "object_fit": null,
            "object_position": null,
            "order": null,
            "overflow": null,
            "overflow_x": null,
            "overflow_y": null,
            "padding": null,
            "right": null,
            "top": null,
            "visibility": null,
            "width": null
          }
        },
        "a24502f784ca4dd1a7a7898e970880a1": {
          "model_module": "@jupyter-widgets/controls",
          "model_name": "DescriptionStyleModel",
          "model_module_version": "1.5.0",
          "state": {
            "_model_module": "@jupyter-widgets/controls",
            "_model_module_version": "1.5.0",
            "_model_name": "DescriptionStyleModel",
            "_view_count": null,
            "_view_module": "@jupyter-widgets/base",
            "_view_module_version": "1.2.0",
            "_view_name": "StyleView",
            "description_width": ""
          }
        },
        "8f6d762aed4e4eb5b242545d4a8e83de": {
          "model_module": "@jupyter-widgets/controls",
          "model_name": "HBoxModel",
          "model_module_version": "1.5.0",
          "state": {
            "_dom_classes": [],
            "_model_module": "@jupyter-widgets/controls",
            "_model_module_version": "1.5.0",
            "_model_name": "HBoxModel",
            "_view_count": null,
            "_view_module": "@jupyter-widgets/controls",
            "_view_module_version": "1.5.0",
            "_view_name": "HBoxView",
            "box_style": "",
            "children": [
              "IPY_MODEL_948ddee760b44ce281e03e4f56daac94",
              "IPY_MODEL_60e93b0f7c2047d1a61bf9461354a17f",
              "IPY_MODEL_0cad3f1256f3401292dd619434f2f68b"
            ],
            "layout": "IPY_MODEL_1b28e5e484c74f47901fb01a6222510b"
          }
        },
        "948ddee760b44ce281e03e4f56daac94": {
          "model_module": "@jupyter-widgets/controls",
          "model_name": "HTMLModel",
          "model_module_version": "1.5.0",
          "state": {
            "_dom_classes": [],
            "_model_module": "@jupyter-widgets/controls",
            "_model_module_version": "1.5.0",
            "_model_name": "HTMLModel",
            "_view_count": null,
            "_view_module": "@jupyter-widgets/controls",
            "_view_module_version": "1.5.0",
            "_view_name": "HTMLView",
            "description": "",
            "description_tooltip": null,
            "layout": "IPY_MODEL_29f4f8834c084bdb8282585be6ddc444",
            "placeholder": "​",
            "style": "IPY_MODEL_10f1303ad2e04075a23e40dce20e01a6",
            "value": "Map: 100%"
          }
        },
        "60e93b0f7c2047d1a61bf9461354a17f": {
          "model_module": "@jupyter-widgets/controls",
          "model_name": "FloatProgressModel",
          "model_module_version": "1.5.0",
          "state": {
            "_dom_classes": [],
            "_model_module": "@jupyter-widgets/controls",
            "_model_module_version": "1.5.0",
            "_model_name": "FloatProgressModel",
            "_view_count": null,
            "_view_module": "@jupyter-widgets/controls",
            "_view_module_version": "1.5.0",
            "_view_name": "ProgressView",
            "bar_style": "success",
            "description": "",
            "description_tooltip": null,
            "layout": "IPY_MODEL_94764c8f5ad14987956d3f9ac7d442cd",
            "max": 7600,
            "min": 0,
            "orientation": "horizontal",
            "style": "IPY_MODEL_297ef48c013648649f931db650b72215",
            "value": 7600
          }
        },
        "0cad3f1256f3401292dd619434f2f68b": {
          "model_module": "@jupyter-widgets/controls",
          "model_name": "HTMLModel",
          "model_module_version": "1.5.0",
          "state": {
            "_dom_classes": [],
            "_model_module": "@jupyter-widgets/controls",
            "_model_module_version": "1.5.0",
            "_model_name": "HTMLModel",
            "_view_count": null,
            "_view_module": "@jupyter-widgets/controls",
            "_view_module_version": "1.5.0",
            "_view_name": "HTMLView",
            "description": "",
            "description_tooltip": null,
            "layout": "IPY_MODEL_000d00bb59a64efaa41fd53f6e346846",
            "placeholder": "​",
            "style": "IPY_MODEL_0592f898f4c444e0988a6b14afad4509",
            "value": " 7600/7600 [00:01&lt;00:00, 6417.65 examples/s]"
          }
        },
        "1b28e5e484c74f47901fb01a6222510b": {
          "model_module": "@jupyter-widgets/base",
          "model_name": "LayoutModel",
          "model_module_version": "1.2.0",
          "state": {
            "_model_module": "@jupyter-widgets/base",
            "_model_module_version": "1.2.0",
            "_model_name": "LayoutModel",
            "_view_count": null,
            "_view_module": "@jupyter-widgets/base",
            "_view_module_version": "1.2.0",
            "_view_name": "LayoutView",
            "align_content": null,
            "align_items": null,
            "align_self": null,
            "border": null,
            "bottom": null,
            "display": null,
            "flex": null,
            "flex_flow": null,
            "grid_area": null,
            "grid_auto_columns": null,
            "grid_auto_flow": null,
            "grid_auto_rows": null,
            "grid_column": null,
            "grid_gap": null,
            "grid_row": null,
            "grid_template_areas": null,
            "grid_template_columns": null,
            "grid_template_rows": null,
            "height": null,
            "justify_content": null,
            "justify_items": null,
            "left": null,
            "margin": null,
            "max_height": null,
            "max_width": null,
            "min_height": null,
            "min_width": null,
            "object_fit": null,
            "object_position": null,
            "order": null,
            "overflow": null,
            "overflow_x": null,
            "overflow_y": null,
            "padding": null,
            "right": null,
            "top": null,
            "visibility": null,
            "width": null
          }
        },
        "29f4f8834c084bdb8282585be6ddc444": {
          "model_module": "@jupyter-widgets/base",
          "model_name": "LayoutModel",
          "model_module_version": "1.2.0",
          "state": {
            "_model_module": "@jupyter-widgets/base",
            "_model_module_version": "1.2.0",
            "_model_name": "LayoutModel",
            "_view_count": null,
            "_view_module": "@jupyter-widgets/base",
            "_view_module_version": "1.2.0",
            "_view_name": "LayoutView",
            "align_content": null,
            "align_items": null,
            "align_self": null,
            "border": null,
            "bottom": null,
            "display": null,
            "flex": null,
            "flex_flow": null,
            "grid_area": null,
            "grid_auto_columns": null,
            "grid_auto_flow": null,
            "grid_auto_rows": null,
            "grid_column": null,
            "grid_gap": null,
            "grid_row": null,
            "grid_template_areas": null,
            "grid_template_columns": null,
            "grid_template_rows": null,
            "height": null,
            "justify_content": null,
            "justify_items": null,
            "left": null,
            "margin": null,
            "max_height": null,
            "max_width": null,
            "min_height": null,
            "min_width": null,
            "object_fit": null,
            "object_position": null,
            "order": null,
            "overflow": null,
            "overflow_x": null,
            "overflow_y": null,
            "padding": null,
            "right": null,
            "top": null,
            "visibility": null,
            "width": null
          }
        },
        "10f1303ad2e04075a23e40dce20e01a6": {
          "model_module": "@jupyter-widgets/controls",
          "model_name": "DescriptionStyleModel",
          "model_module_version": "1.5.0",
          "state": {
            "_model_module": "@jupyter-widgets/controls",
            "_model_module_version": "1.5.0",
            "_model_name": "DescriptionStyleModel",
            "_view_count": null,
            "_view_module": "@jupyter-widgets/base",
            "_view_module_version": "1.2.0",
            "_view_name": "StyleView",
            "description_width": ""
          }
        },
        "94764c8f5ad14987956d3f9ac7d442cd": {
          "model_module": "@jupyter-widgets/base",
          "model_name": "LayoutModel",
          "model_module_version": "1.2.0",
          "state": {
            "_model_module": "@jupyter-widgets/base",
            "_model_module_version": "1.2.0",
            "_model_name": "LayoutModel",
            "_view_count": null,
            "_view_module": "@jupyter-widgets/base",
            "_view_module_version": "1.2.0",
            "_view_name": "LayoutView",
            "align_content": null,
            "align_items": null,
            "align_self": null,
            "border": null,
            "bottom": null,
            "display": null,
            "flex": null,
            "flex_flow": null,
            "grid_area": null,
            "grid_auto_columns": null,
            "grid_auto_flow": null,
            "grid_auto_rows": null,
            "grid_column": null,
            "grid_gap": null,
            "grid_row": null,
            "grid_template_areas": null,
            "grid_template_columns": null,
            "grid_template_rows": null,
            "height": null,
            "justify_content": null,
            "justify_items": null,
            "left": null,
            "margin": null,
            "max_height": null,
            "max_width": null,
            "min_height": null,
            "min_width": null,
            "object_fit": null,
            "object_position": null,
            "order": null,
            "overflow": null,
            "overflow_x": null,
            "overflow_y": null,
            "padding": null,
            "right": null,
            "top": null,
            "visibility": null,
            "width": null
          }
        },
        "297ef48c013648649f931db650b72215": {
          "model_module": "@jupyter-widgets/controls",
          "model_name": "ProgressStyleModel",
          "model_module_version": "1.5.0",
          "state": {
            "_model_module": "@jupyter-widgets/controls",
            "_model_module_version": "1.5.0",
            "_model_name": "ProgressStyleModel",
            "_view_count": null,
            "_view_module": "@jupyter-widgets/base",
            "_view_module_version": "1.2.0",
            "_view_name": "StyleView",
            "bar_color": null,
            "description_width": ""
          }
        },
        "000d00bb59a64efaa41fd53f6e346846": {
          "model_module": "@jupyter-widgets/base",
          "model_name": "LayoutModel",
          "model_module_version": "1.2.0",
          "state": {
            "_model_module": "@jupyter-widgets/base",
            "_model_module_version": "1.2.0",
            "_model_name": "LayoutModel",
            "_view_count": null,
            "_view_module": "@jupyter-widgets/base",
            "_view_module_version": "1.2.0",
            "_view_name": "LayoutView",
            "align_content": null,
            "align_items": null,
            "align_self": null,
            "border": null,
            "bottom": null,
            "display": null,
            "flex": null,
            "flex_flow": null,
            "grid_area": null,
            "grid_auto_columns": null,
            "grid_auto_flow": null,
            "grid_auto_rows": null,
            "grid_column": null,
            "grid_gap": null,
            "grid_row": null,
            "grid_template_areas": null,
            "grid_template_columns": null,
            "grid_template_rows": null,
            "height": null,
            "justify_content": null,
            "justify_items": null,
            "left": null,
            "margin": null,
            "max_height": null,
            "max_width": null,
            "min_height": null,
            "min_width": null,
            "object_fit": null,
            "object_position": null,
            "order": null,
            "overflow": null,
            "overflow_x": null,
            "overflow_y": null,
            "padding": null,
            "right": null,
            "top": null,
            "visibility": null,
            "width": null
          }
        },
        "0592f898f4c444e0988a6b14afad4509": {
          "model_module": "@jupyter-widgets/controls",
          "model_name": "DescriptionStyleModel",
          "model_module_version": "1.5.0",
          "state": {
            "_model_module": "@jupyter-widgets/controls",
            "_model_module_version": "1.5.0",
            "_model_name": "DescriptionStyleModel",
            "_view_count": null,
            "_view_module": "@jupyter-widgets/base",
            "_view_module_version": "1.2.0",
            "_view_name": "StyleView",
            "description_width": ""
          }
        },
        "a0d1cd7651bc4ebbb694d0b18bdcbba2": {
          "model_module": "@jupyter-widgets/controls",
          "model_name": "HBoxModel",
          "model_module_version": "1.5.0",
          "state": {
            "_dom_classes": [],
            "_model_module": "@jupyter-widgets/controls",
            "_model_module_version": "1.5.0",
            "_model_name": "HBoxModel",
            "_view_count": null,
            "_view_module": "@jupyter-widgets/controls",
            "_view_module_version": "1.5.0",
            "_view_name": "HBoxView",
            "box_style": "",
            "children": [
              "IPY_MODEL_ee2265b0746b4813823353dceaf05917",
              "IPY_MODEL_b3a4d4615f7643d6904a8ebda21b40f5",
              "IPY_MODEL_9531deb0470442cead3a846a12330cfa"
            ],
            "layout": "IPY_MODEL_fe8a6c2198384a5a894f843d66684eb9"
          }
        },
        "ee2265b0746b4813823353dceaf05917": {
          "model_module": "@jupyter-widgets/controls",
          "model_name": "HTMLModel",
          "model_module_version": "1.5.0",
          "state": {
            "_dom_classes": [],
            "_model_module": "@jupyter-widgets/controls",
            "_model_module_version": "1.5.0",
            "_model_name": "HTMLModel",
            "_view_count": null,
            "_view_module": "@jupyter-widgets/controls",
            "_view_module_version": "1.5.0",
            "_view_name": "HTMLView",
            "description": "",
            "description_tooltip": null,
            "layout": "IPY_MODEL_914567ab27e24a118e9e128214664e6a",
            "placeholder": "​",
            "style": "IPY_MODEL_7ff2d94b6a63424899f9d10a83437055",
            "value": "Downloading builder script: 100%"
          }
        },
        "b3a4d4615f7643d6904a8ebda21b40f5": {
          "model_module": "@jupyter-widgets/controls",
          "model_name": "FloatProgressModel",
          "model_module_version": "1.5.0",
          "state": {
            "_dom_classes": [],
            "_model_module": "@jupyter-widgets/controls",
            "_model_module_version": "1.5.0",
            "_model_name": "FloatProgressModel",
            "_view_count": null,
            "_view_module": "@jupyter-widgets/controls",
            "_view_module_version": "1.5.0",
            "_view_name": "ProgressView",
            "bar_style": "success",
            "description": "",
            "description_tooltip": null,
            "layout": "IPY_MODEL_ee47bba18ccd4b56923b1ff8c0e7c567",
            "max": 7560,
            "min": 0,
            "orientation": "horizontal",
            "style": "IPY_MODEL_faf46dc0de124893be8764e2f4b83dff",
            "value": 7560
          }
        },
        "9531deb0470442cead3a846a12330cfa": {
          "model_module": "@jupyter-widgets/controls",
          "model_name": "HTMLModel",
          "model_module_version": "1.5.0",
          "state": {
            "_dom_classes": [],
            "_model_module": "@jupyter-widgets/controls",
            "_model_module_version": "1.5.0",
            "_model_name": "HTMLModel",
            "_view_count": null,
            "_view_module": "@jupyter-widgets/controls",
            "_view_module_version": "1.5.0",
            "_view_name": "HTMLView",
            "description": "",
            "description_tooltip": null,
            "layout": "IPY_MODEL_31fa65764cd9458ca78516c53d2e8f91",
            "placeholder": "​",
            "style": "IPY_MODEL_8f3ac6f86fe948b2b6e719f16feb5f26",
            "value": " 7.56k/7.56k [00:00&lt;00:00, 1.81kB/s]"
          }
        },
        "fe8a6c2198384a5a894f843d66684eb9": {
          "model_module": "@jupyter-widgets/base",
          "model_name": "LayoutModel",
          "model_module_version": "1.2.0",
          "state": {
            "_model_module": "@jupyter-widgets/base",
            "_model_module_version": "1.2.0",
            "_model_name": "LayoutModel",
            "_view_count": null,
            "_view_module": "@jupyter-widgets/base",
            "_view_module_version": "1.2.0",
            "_view_name": "LayoutView",
            "align_content": null,
            "align_items": null,
            "align_self": null,
            "border": null,
            "bottom": null,
            "display": null,
            "flex": null,
            "flex_flow": null,
            "grid_area": null,
            "grid_auto_columns": null,
            "grid_auto_flow": null,
            "grid_auto_rows": null,
            "grid_column": null,
            "grid_gap": null,
            "grid_row": null,
            "grid_template_areas": null,
            "grid_template_columns": null,
            "grid_template_rows": null,
            "height": null,
            "justify_content": null,
            "justify_items": null,
            "left": null,
            "margin": null,
            "max_height": null,
            "max_width": null,
            "min_height": null,
            "min_width": null,
            "object_fit": null,
            "object_position": null,
            "order": null,
            "overflow": null,
            "overflow_x": null,
            "overflow_y": null,
            "padding": null,
            "right": null,
            "top": null,
            "visibility": null,
            "width": null
          }
        },
        "914567ab27e24a118e9e128214664e6a": {
          "model_module": "@jupyter-widgets/base",
          "model_name": "LayoutModel",
          "model_module_version": "1.2.0",
          "state": {
            "_model_module": "@jupyter-widgets/base",
            "_model_module_version": "1.2.0",
            "_model_name": "LayoutModel",
            "_view_count": null,
            "_view_module": "@jupyter-widgets/base",
            "_view_module_version": "1.2.0",
            "_view_name": "LayoutView",
            "align_content": null,
            "align_items": null,
            "align_self": null,
            "border": null,
            "bottom": null,
            "display": null,
            "flex": null,
            "flex_flow": null,
            "grid_area": null,
            "grid_auto_columns": null,
            "grid_auto_flow": null,
            "grid_auto_rows": null,
            "grid_column": null,
            "grid_gap": null,
            "grid_row": null,
            "grid_template_areas": null,
            "grid_template_columns": null,
            "grid_template_rows": null,
            "height": null,
            "justify_content": null,
            "justify_items": null,
            "left": null,
            "margin": null,
            "max_height": null,
            "max_width": null,
            "min_height": null,
            "min_width": null,
            "object_fit": null,
            "object_position": null,
            "order": null,
            "overflow": null,
            "overflow_x": null,
            "overflow_y": null,
            "padding": null,
            "right": null,
            "top": null,
            "visibility": null,
            "width": null
          }
        },
        "7ff2d94b6a63424899f9d10a83437055": {
          "model_module": "@jupyter-widgets/controls",
          "model_name": "DescriptionStyleModel",
          "model_module_version": "1.5.0",
          "state": {
            "_model_module": "@jupyter-widgets/controls",
            "_model_module_version": "1.5.0",
            "_model_name": "DescriptionStyleModel",
            "_view_count": null,
            "_view_module": "@jupyter-widgets/base",
            "_view_module_version": "1.2.0",
            "_view_name": "StyleView",
            "description_width": ""
          }
        },
        "ee47bba18ccd4b56923b1ff8c0e7c567": {
          "model_module": "@jupyter-widgets/base",
          "model_name": "LayoutModel",
          "model_module_version": "1.2.0",
          "state": {
            "_model_module": "@jupyter-widgets/base",
            "_model_module_version": "1.2.0",
            "_model_name": "LayoutModel",
            "_view_count": null,
            "_view_module": "@jupyter-widgets/base",
            "_view_module_version": "1.2.0",
            "_view_name": "LayoutView",
            "align_content": null,
            "align_items": null,
            "align_self": null,
            "border": null,
            "bottom": null,
            "display": null,
            "flex": null,
            "flex_flow": null,
            "grid_area": null,
            "grid_auto_columns": null,
            "grid_auto_flow": null,
            "grid_auto_rows": null,
            "grid_column": null,
            "grid_gap": null,
            "grid_row": null,
            "grid_template_areas": null,
            "grid_template_columns": null,
            "grid_template_rows": null,
            "height": null,
            "justify_content": null,
            "justify_items": null,
            "left": null,
            "margin": null,
            "max_height": null,
            "max_width": null,
            "min_height": null,
            "min_width": null,
            "object_fit": null,
            "object_position": null,
            "order": null,
            "overflow": null,
            "overflow_x": null,
            "overflow_y": null,
            "padding": null,
            "right": null,
            "top": null,
            "visibility": null,
            "width": null
          }
        },
        "faf46dc0de124893be8764e2f4b83dff": {
          "model_module": "@jupyter-widgets/controls",
          "model_name": "ProgressStyleModel",
          "model_module_version": "1.5.0",
          "state": {
            "_model_module": "@jupyter-widgets/controls",
            "_model_module_version": "1.5.0",
            "_model_name": "ProgressStyleModel",
            "_view_count": null,
            "_view_module": "@jupyter-widgets/base",
            "_view_module_version": "1.2.0",
            "_view_name": "StyleView",
            "bar_color": null,
            "description_width": ""
          }
        },
        "31fa65764cd9458ca78516c53d2e8f91": {
          "model_module": "@jupyter-widgets/base",
          "model_name": "LayoutModel",
          "model_module_version": "1.2.0",
          "state": {
            "_model_module": "@jupyter-widgets/base",
            "_model_module_version": "1.2.0",
            "_model_name": "LayoutModel",
            "_view_count": null,
            "_view_module": "@jupyter-widgets/base",
            "_view_module_version": "1.2.0",
            "_view_name": "LayoutView",
            "align_content": null,
            "align_items": null,
            "align_self": null,
            "border": null,
            "bottom": null,
            "display": null,
            "flex": null,
            "flex_flow": null,
            "grid_area": null,
            "grid_auto_columns": null,
            "grid_auto_flow": null,
            "grid_auto_rows": null,
            "grid_column": null,
            "grid_gap": null,
            "grid_row": null,
            "grid_template_areas": null,
            "grid_template_columns": null,
            "grid_template_rows": null,
            "height": null,
            "justify_content": null,
            "justify_items": null,
            "left": null,
            "margin": null,
            "max_height": null,
            "max_width": null,
            "min_height": null,
            "min_width": null,
            "object_fit": null,
            "object_position": null,
            "order": null,
            "overflow": null,
            "overflow_x": null,
            "overflow_y": null,
            "padding": null,
            "right": null,
            "top": null,
            "visibility": null,
            "width": null
          }
        },
        "8f3ac6f86fe948b2b6e719f16feb5f26": {
          "model_module": "@jupyter-widgets/controls",
          "model_name": "DescriptionStyleModel",
          "model_module_version": "1.5.0",
          "state": {
            "_model_module": "@jupyter-widgets/controls",
            "_model_module_version": "1.5.0",
            "_model_name": "DescriptionStyleModel",
            "_view_count": null,
            "_view_module": "@jupyter-widgets/base",
            "_view_module_version": "1.2.0",
            "_view_name": "StyleView",
            "description_width": ""
          }
        },
        "cea47887bc7340e885db7179e0b7d76a": {
          "model_module": "@jupyter-widgets/controls",
          "model_name": "HBoxModel",
          "model_module_version": "1.5.0",
          "state": {
            "_dom_classes": [],
            "_model_module": "@jupyter-widgets/controls",
            "_model_module_version": "1.5.0",
            "_model_name": "HBoxModel",
            "_view_count": null,
            "_view_module": "@jupyter-widgets/controls",
            "_view_module_version": "1.5.0",
            "_view_name": "HBoxView",
            "box_style": "",
            "children": [
              "IPY_MODEL_535113e00b8f4326920203da4a0505ab",
              "IPY_MODEL_56f3234e71644b76b5a2f409040b6169",
              "IPY_MODEL_b175cfc1a12c48ec8c65088376b64dce"
            ],
            "layout": "IPY_MODEL_4abbbd7138e04bec8871102279d6fe7f"
          }
        },
        "535113e00b8f4326920203da4a0505ab": {
          "model_module": "@jupyter-widgets/controls",
          "model_name": "HTMLModel",
          "model_module_version": "1.5.0",
          "state": {
            "_dom_classes": [],
            "_model_module": "@jupyter-widgets/controls",
            "_model_module_version": "1.5.0",
            "_model_name": "HTMLModel",
            "_view_count": null,
            "_view_module": "@jupyter-widgets/controls",
            "_view_module_version": "1.5.0",
            "_view_name": "HTMLView",
            "description": "",
            "description_tooltip": null,
            "layout": "IPY_MODEL_b0399c0247564ed1b8824476e0ff8f4c",
            "placeholder": "​",
            "style": "IPY_MODEL_59be55902e2241c9994db6275e3d5c25",
            "value": "Downloading builder script: 100%"
          }
        },
        "56f3234e71644b76b5a2f409040b6169": {
          "model_module": "@jupyter-widgets/controls",
          "model_name": "FloatProgressModel",
          "model_module_version": "1.5.0",
          "state": {
            "_dom_classes": [],
            "_model_module": "@jupyter-widgets/controls",
            "_model_module_version": "1.5.0",
            "_model_name": "FloatProgressModel",
            "_view_count": null,
            "_view_module": "@jupyter-widgets/controls",
            "_view_module_version": "1.5.0",
            "_view_name": "ProgressView",
            "bar_style": "success",
            "description": "",
            "description_tooltip": null,
            "layout": "IPY_MODEL_9f683d87aeac437b86e9357f3943854e",
            "max": 7377,
            "min": 0,
            "orientation": "horizontal",
            "style": "IPY_MODEL_32aaba65958941cab310a4b47ec3b18c",
            "value": 7377
          }
        },
        "b175cfc1a12c48ec8c65088376b64dce": {
          "model_module": "@jupyter-widgets/controls",
          "model_name": "HTMLModel",
          "model_module_version": "1.5.0",
          "state": {
            "_dom_classes": [],
            "_model_module": "@jupyter-widgets/controls",
            "_model_module_version": "1.5.0",
            "_model_name": "HTMLModel",
            "_view_count": null,
            "_view_module": "@jupyter-widgets/controls",
            "_view_module_version": "1.5.0",
            "_view_name": "HTMLView",
            "description": "",
            "description_tooltip": null,
            "layout": "IPY_MODEL_849d646ce5b447f5a2da940f8cde268b",
            "placeholder": "​",
            "style": "IPY_MODEL_9c05c86953b046319340805bf25be3b0",
            "value": " 7.38k/7.38k [00:00&lt;00:00, 301kB/s]"
          }
        },
        "4abbbd7138e04bec8871102279d6fe7f": {
          "model_module": "@jupyter-widgets/base",
          "model_name": "LayoutModel",
          "model_module_version": "1.2.0",
          "state": {
            "_model_module": "@jupyter-widgets/base",
            "_model_module_version": "1.2.0",
            "_model_name": "LayoutModel",
            "_view_count": null,
            "_view_module": "@jupyter-widgets/base",
            "_view_module_version": "1.2.0",
            "_view_name": "LayoutView",
            "align_content": null,
            "align_items": null,
            "align_self": null,
            "border": null,
            "bottom": null,
            "display": null,
            "flex": null,
            "flex_flow": null,
            "grid_area": null,
            "grid_auto_columns": null,
            "grid_auto_flow": null,
            "grid_auto_rows": null,
            "grid_column": null,
            "grid_gap": null,
            "grid_row": null,
            "grid_template_areas": null,
            "grid_template_columns": null,
            "grid_template_rows": null,
            "height": null,
            "justify_content": null,
            "justify_items": null,
            "left": null,
            "margin": null,
            "max_height": null,
            "max_width": null,
            "min_height": null,
            "min_width": null,
            "object_fit": null,
            "object_position": null,
            "order": null,
            "overflow": null,
            "overflow_x": null,
            "overflow_y": null,
            "padding": null,
            "right": null,
            "top": null,
            "visibility": null,
            "width": null
          }
        },
        "b0399c0247564ed1b8824476e0ff8f4c": {
          "model_module": "@jupyter-widgets/base",
          "model_name": "LayoutModel",
          "model_module_version": "1.2.0",
          "state": {
            "_model_module": "@jupyter-widgets/base",
            "_model_module_version": "1.2.0",
            "_model_name": "LayoutModel",
            "_view_count": null,
            "_view_module": "@jupyter-widgets/base",
            "_view_module_version": "1.2.0",
            "_view_name": "LayoutView",
            "align_content": null,
            "align_items": null,
            "align_self": null,
            "border": null,
            "bottom": null,
            "display": null,
            "flex": null,
            "flex_flow": null,
            "grid_area": null,
            "grid_auto_columns": null,
            "grid_auto_flow": null,
            "grid_auto_rows": null,
            "grid_column": null,
            "grid_gap": null,
            "grid_row": null,
            "grid_template_areas": null,
            "grid_template_columns": null,
            "grid_template_rows": null,
            "height": null,
            "justify_content": null,
            "justify_items": null,
            "left": null,
            "margin": null,
            "max_height": null,
            "max_width": null,
            "min_height": null,
            "min_width": null,
            "object_fit": null,
            "object_position": null,
            "order": null,
            "overflow": null,
            "overflow_x": null,
            "overflow_y": null,
            "padding": null,
            "right": null,
            "top": null,
            "visibility": null,
            "width": null
          }
        },
        "59be55902e2241c9994db6275e3d5c25": {
          "model_module": "@jupyter-widgets/controls",
          "model_name": "DescriptionStyleModel",
          "model_module_version": "1.5.0",
          "state": {
            "_model_module": "@jupyter-widgets/controls",
            "_model_module_version": "1.5.0",
            "_model_name": "DescriptionStyleModel",
            "_view_count": null,
            "_view_module": "@jupyter-widgets/base",
            "_view_module_version": "1.2.0",
            "_view_name": "StyleView",
            "description_width": ""
          }
        },
        "9f683d87aeac437b86e9357f3943854e": {
          "model_module": "@jupyter-widgets/base",
          "model_name": "LayoutModel",
          "model_module_version": "1.2.0",
          "state": {
            "_model_module": "@jupyter-widgets/base",
            "_model_module_version": "1.2.0",
            "_model_name": "LayoutModel",
            "_view_count": null,
            "_view_module": "@jupyter-widgets/base",
            "_view_module_version": "1.2.0",
            "_view_name": "LayoutView",
            "align_content": null,
            "align_items": null,
            "align_self": null,
            "border": null,
            "bottom": null,
            "display": null,
            "flex": null,
            "flex_flow": null,
            "grid_area": null,
            "grid_auto_columns": null,
            "grid_auto_flow": null,
            "grid_auto_rows": null,
            "grid_column": null,
            "grid_gap": null,
            "grid_row": null,
            "grid_template_areas": null,
            "grid_template_columns": null,
            "grid_template_rows": null,
            "height": null,
            "justify_content": null,
            "justify_items": null,
            "left": null,
            "margin": null,
            "max_height": null,
            "max_width": null,
            "min_height": null,
            "min_width": null,
            "object_fit": null,
            "object_position": null,
            "order": null,
            "overflow": null,
            "overflow_x": null,
            "overflow_y": null,
            "padding": null,
            "right": null,
            "top": null,
            "visibility": null,
            "width": null
          }
        },
        "32aaba65958941cab310a4b47ec3b18c": {
          "model_module": "@jupyter-widgets/controls",
          "model_name": "ProgressStyleModel",
          "model_module_version": "1.5.0",
          "state": {
            "_model_module": "@jupyter-widgets/controls",
            "_model_module_version": "1.5.0",
            "_model_name": "ProgressStyleModel",
            "_view_count": null,
            "_view_module": "@jupyter-widgets/base",
            "_view_module_version": "1.2.0",
            "_view_name": "StyleView",
            "bar_color": null,
            "description_width": ""
          }
        },
        "849d646ce5b447f5a2da940f8cde268b": {
          "model_module": "@jupyter-widgets/base",
          "model_name": "LayoutModel",
          "model_module_version": "1.2.0",
          "state": {
            "_model_module": "@jupyter-widgets/base",
            "_model_module_version": "1.2.0",
            "_model_name": "LayoutModel",
            "_view_count": null,
            "_view_module": "@jupyter-widgets/base",
            "_view_module_version": "1.2.0",
            "_view_name": "LayoutView",
            "align_content": null,
            "align_items": null,
            "align_self": null,
            "border": null,
            "bottom": null,
            "display": null,
            "flex": null,
            "flex_flow": null,
            "grid_area": null,
            "grid_auto_columns": null,
            "grid_auto_flow": null,
            "grid_auto_rows": null,
            "grid_column": null,
            "grid_gap": null,
            "grid_row": null,
            "grid_template_areas": null,
            "grid_template_columns": null,
            "grid_template_rows": null,
            "height": null,
            "justify_content": null,
            "justify_items": null,
            "left": null,
            "margin": null,
            "max_height": null,
            "max_width": null,
            "min_height": null,
            "min_width": null,
            "object_fit": null,
            "object_position": null,
            "order": null,
            "overflow": null,
            "overflow_x": null,
            "overflow_y": null,
            "padding": null,
            "right": null,
            "top": null,
            "visibility": null,
            "width": null
          }
        },
        "9c05c86953b046319340805bf25be3b0": {
          "model_module": "@jupyter-widgets/controls",
          "model_name": "DescriptionStyleModel",
          "model_module_version": "1.5.0",
          "state": {
            "_model_module": "@jupyter-widgets/controls",
            "_model_module_version": "1.5.0",
            "_model_name": "DescriptionStyleModel",
            "_view_count": null,
            "_view_module": "@jupyter-widgets/base",
            "_view_module_version": "1.2.0",
            "_view_name": "StyleView",
            "description_width": ""
          }
        },
        "8cc7316acf154a25885b2b7b2f13b268": {
          "model_module": "@jupyter-widgets/controls",
          "model_name": "HBoxModel",
          "model_module_version": "1.5.0",
          "state": {
            "_dom_classes": [],
            "_model_module": "@jupyter-widgets/controls",
            "_model_module_version": "1.5.0",
            "_model_name": "HBoxModel",
            "_view_count": null,
            "_view_module": "@jupyter-widgets/controls",
            "_view_module_version": "1.5.0",
            "_view_name": "HBoxView",
            "box_style": "",
            "children": [
              "IPY_MODEL_51c74b86f007489587194211d47a4d1f",
              "IPY_MODEL_99babe22bf8549b9b44c37ad31193afb",
              "IPY_MODEL_aae21de8f5b547d0905ab0a2a9f83383"
            ],
            "layout": "IPY_MODEL_a3ba8627f2584a2cb137b1a3d3c19bdf"
          }
        },
        "51c74b86f007489587194211d47a4d1f": {
          "model_module": "@jupyter-widgets/controls",
          "model_name": "HTMLModel",
          "model_module_version": "1.5.0",
          "state": {
            "_dom_classes": [],
            "_model_module": "@jupyter-widgets/controls",
            "_model_module_version": "1.5.0",
            "_model_name": "HTMLModel",
            "_view_count": null,
            "_view_module": "@jupyter-widgets/controls",
            "_view_module_version": "1.5.0",
            "_view_name": "HTMLView",
            "description": "",
            "description_tooltip": null,
            "layout": "IPY_MODEL_b5f1df9393c6416eb790e98d1664846f",
            "placeholder": "​",
            "style": "IPY_MODEL_5eea5c565cc14138bfab501ee36a56b0",
            "value": "Downloading builder script: 100%"
          }
        },
        "99babe22bf8549b9b44c37ad31193afb": {
          "model_module": "@jupyter-widgets/controls",
          "model_name": "FloatProgressModel",
          "model_module_version": "1.5.0",
          "state": {
            "_dom_classes": [],
            "_model_module": "@jupyter-widgets/controls",
            "_model_module_version": "1.5.0",
            "_model_name": "FloatProgressModel",
            "_view_count": null,
            "_view_module": "@jupyter-widgets/controls",
            "_view_module_version": "1.5.0",
            "_view_name": "ProgressView",
            "bar_style": "success",
            "description": "",
            "description_tooltip": null,
            "layout": "IPY_MODEL_6cbfd920cc47493390cb80eb9fee01ec",
            "max": 4203,
            "min": 0,
            "orientation": "horizontal",
            "style": "IPY_MODEL_1290fa138820433b93db6d16a5f99551",
            "value": 4203
          }
        },
        "aae21de8f5b547d0905ab0a2a9f83383": {
          "model_module": "@jupyter-widgets/controls",
          "model_name": "HTMLModel",
          "model_module_version": "1.5.0",
          "state": {
            "_dom_classes": [],
            "_model_module": "@jupyter-widgets/controls",
            "_model_module_version": "1.5.0",
            "_model_name": "HTMLModel",
            "_view_count": null,
            "_view_module": "@jupyter-widgets/controls",
            "_view_module_version": "1.5.0",
            "_view_name": "HTMLView",
            "description": "",
            "description_tooltip": null,
            "layout": "IPY_MODEL_92a1dd9eacd9475895024e482fdb71a1",
            "placeholder": "​",
            "style": "IPY_MODEL_b672c64f20f44eefb37296ecb97b1831",
            "value": " 4.20k/4.20k [00:00&lt;00:00, 181kB/s]"
          }
        },
        "a3ba8627f2584a2cb137b1a3d3c19bdf": {
          "model_module": "@jupyter-widgets/base",
          "model_name": "LayoutModel",
          "model_module_version": "1.2.0",
          "state": {
            "_model_module": "@jupyter-widgets/base",
            "_model_module_version": "1.2.0",
            "_model_name": "LayoutModel",
            "_view_count": null,
            "_view_module": "@jupyter-widgets/base",
            "_view_module_version": "1.2.0",
            "_view_name": "LayoutView",
            "align_content": null,
            "align_items": null,
            "align_self": null,
            "border": null,
            "bottom": null,
            "display": null,
            "flex": null,
            "flex_flow": null,
            "grid_area": null,
            "grid_auto_columns": null,
            "grid_auto_flow": null,
            "grid_auto_rows": null,
            "grid_column": null,
            "grid_gap": null,
            "grid_row": null,
            "grid_template_areas": null,
            "grid_template_columns": null,
            "grid_template_rows": null,
            "height": null,
            "justify_content": null,
            "justify_items": null,
            "left": null,
            "margin": null,
            "max_height": null,
            "max_width": null,
            "min_height": null,
            "min_width": null,
            "object_fit": null,
            "object_position": null,
            "order": null,
            "overflow": null,
            "overflow_x": null,
            "overflow_y": null,
            "padding": null,
            "right": null,
            "top": null,
            "visibility": null,
            "width": null
          }
        },
        "b5f1df9393c6416eb790e98d1664846f": {
          "model_module": "@jupyter-widgets/base",
          "model_name": "LayoutModel",
          "model_module_version": "1.2.0",
          "state": {
            "_model_module": "@jupyter-widgets/base",
            "_model_module_version": "1.2.0",
            "_model_name": "LayoutModel",
            "_view_count": null,
            "_view_module": "@jupyter-widgets/base",
            "_view_module_version": "1.2.0",
            "_view_name": "LayoutView",
            "align_content": null,
            "align_items": null,
            "align_self": null,
            "border": null,
            "bottom": null,
            "display": null,
            "flex": null,
            "flex_flow": null,
            "grid_area": null,
            "grid_auto_columns": null,
            "grid_auto_flow": null,
            "grid_auto_rows": null,
            "grid_column": null,
            "grid_gap": null,
            "grid_row": null,
            "grid_template_areas": null,
            "grid_template_columns": null,
            "grid_template_rows": null,
            "height": null,
            "justify_content": null,
            "justify_items": null,
            "left": null,
            "margin": null,
            "max_height": null,
            "max_width": null,
            "min_height": null,
            "min_width": null,
            "object_fit": null,
            "object_position": null,
            "order": null,
            "overflow": null,
            "overflow_x": null,
            "overflow_y": null,
            "padding": null,
            "right": null,
            "top": null,
            "visibility": null,
            "width": null
          }
        },
        "5eea5c565cc14138bfab501ee36a56b0": {
          "model_module": "@jupyter-widgets/controls",
          "model_name": "DescriptionStyleModel",
          "model_module_version": "1.5.0",
          "state": {
            "_model_module": "@jupyter-widgets/controls",
            "_model_module_version": "1.5.0",
            "_model_name": "DescriptionStyleModel",
            "_view_count": null,
            "_view_module": "@jupyter-widgets/base",
            "_view_module_version": "1.2.0",
            "_view_name": "StyleView",
            "description_width": ""
          }
        },
        "6cbfd920cc47493390cb80eb9fee01ec": {
          "model_module": "@jupyter-widgets/base",
          "model_name": "LayoutModel",
          "model_module_version": "1.2.0",
          "state": {
            "_model_module": "@jupyter-widgets/base",
            "_model_module_version": "1.2.0",
            "_model_name": "LayoutModel",
            "_view_count": null,
            "_view_module": "@jupyter-widgets/base",
            "_view_module_version": "1.2.0",
            "_view_name": "LayoutView",
            "align_content": null,
            "align_items": null,
            "align_self": null,
            "border": null,
            "bottom": null,
            "display": null,
            "flex": null,
            "flex_flow": null,
            "grid_area": null,
            "grid_auto_columns": null,
            "grid_auto_flow": null,
            "grid_auto_rows": null,
            "grid_column": null,
            "grid_gap": null,
            "grid_row": null,
            "grid_template_areas": null,
            "grid_template_columns": null,
            "grid_template_rows": null,
            "height": null,
            "justify_content": null,
            "justify_items": null,
            "left": null,
            "margin": null,
            "max_height": null,
            "max_width": null,
            "min_height": null,
            "min_width": null,
            "object_fit": null,
            "object_position": null,
            "order": null,
            "overflow": null,
            "overflow_x": null,
            "overflow_y": null,
            "padding": null,
            "right": null,
            "top": null,
            "visibility": null,
            "width": null
          }
        },
        "1290fa138820433b93db6d16a5f99551": {
          "model_module": "@jupyter-widgets/controls",
          "model_name": "ProgressStyleModel",
          "model_module_version": "1.5.0",
          "state": {
            "_model_module": "@jupyter-widgets/controls",
            "_model_module_version": "1.5.0",
            "_model_name": "ProgressStyleModel",
            "_view_count": null,
            "_view_module": "@jupyter-widgets/base",
            "_view_module_version": "1.2.0",
            "_view_name": "StyleView",
            "bar_color": null,
            "description_width": ""
          }
        },
        "92a1dd9eacd9475895024e482fdb71a1": {
          "model_module": "@jupyter-widgets/base",
          "model_name": "LayoutModel",
          "model_module_version": "1.2.0",
          "state": {
            "_model_module": "@jupyter-widgets/base",
            "_model_module_version": "1.2.0",
            "_model_name": "LayoutModel",
            "_view_count": null,
            "_view_module": "@jupyter-widgets/base",
            "_view_module_version": "1.2.0",
            "_view_name": "LayoutView",
            "align_content": null,
            "align_items": null,
            "align_self": null,
            "border": null,
            "bottom": null,
            "display": null,
            "flex": null,
            "flex_flow": null,
            "grid_area": null,
            "grid_auto_columns": null,
            "grid_auto_flow": null,
            "grid_auto_rows": null,
            "grid_column": null,
            "grid_gap": null,
            "grid_row": null,
            "grid_template_areas": null,
            "grid_template_columns": null,
            "grid_template_rows": null,
            "height": null,
            "justify_content": null,
            "justify_items": null,
            "left": null,
            "margin": null,
            "max_height": null,
            "max_width": null,
            "min_height": null,
            "min_width": null,
            "object_fit": null,
            "object_position": null,
            "order": null,
            "overflow": null,
            "overflow_x": null,
            "overflow_y": null,
            "padding": null,
            "right": null,
            "top": null,
            "visibility": null,
            "width": null
          }
        },
        "b672c64f20f44eefb37296ecb97b1831": {
          "model_module": "@jupyter-widgets/controls",
          "model_name": "DescriptionStyleModel",
          "model_module_version": "1.5.0",
          "state": {
            "_model_module": "@jupyter-widgets/controls",
            "_model_module_version": "1.5.0",
            "_model_name": "DescriptionStyleModel",
            "_view_count": null,
            "_view_module": "@jupyter-widgets/base",
            "_view_module_version": "1.2.0",
            "_view_name": "StyleView",
            "description_width": ""
          }
        }
      }
    }
  },
  "nbformat": 4,
  "nbformat_minor": 5
}